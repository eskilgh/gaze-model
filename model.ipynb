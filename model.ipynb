{
 "cells": [
  {
   "cell_type": "code",
   "execution_count": 1,
   "metadata": {},
   "outputs": [],
   "source": [
    "import numpy as np\n",
    "from numpy.random import default_rng"
   ]
  },
  {
   "cell_type": "markdown",
   "metadata": {},
   "source": [
    "The aim of this notebook is to replicate fixations through our model. We will use our model but confine it to the 'active search' / fixation phase:\n",
    "$$ x(t+dt) = x(t) + \\xi_x \\cdot \\sqrt{D_s \\cdot dt} $$\n",
    "$$ y(t+dt) = y(t) + \\xi_y \\cdot \\sqrt{D_s \\cdot dt} $$\n",
    "\n",
    "$ D_s $ is the diffusion coefficient for the local search / fixation.\n"
   ]
  },
  {
   "cell_type": "code",
   "execution_count": 22,
   "metadata": {},
   "outputs": [],
   "source": [
    "D_s = 1\n",
    "v_s = 0\n",
    "rng = default_rng()\n",
    "\n",
    "def generate_fixation(duration, x_start = 0.5, y_start = 0.5, dt = 10 ** (-1), time_start = 0):\n",
    "    \"\"\"\n",
    "    Generates a dict with timestamps and related coordinates\n",
    "    params:\n",
    "        duration: Duration of the fixation in ms\n",
    "        x_start: Start x-value, [0, 1]\n",
    "        y_start: Start y-value, [0, 1]\n",
    "        dt: Delta-t in ms\n",
    "        time_start: Start time in ms\n",
    "    \"\"\"\n",
    "    x_prev = x_start\n",
    "    y_prev = y_start\n",
    "    time_crt = time_start\n",
    "    positions = {\n",
    "        'time': [time_start],\n",
    "        'x': [x_start],\n",
    "        'y': [y_start]\n",
    "    }\n",
    "    for i in range(int(duration // dt)):\n",
    "        time_crt += dt\n",
    "        (x, y) = next_pos(x_prev, y_prev, dt, v = v_s, D = D_s)\n",
    "        positions['time'].append(time_crt)\n",
    "        positions['x'].append(x)\n",
    "        positions['y'].append(y)\n",
    "        \n",
    "        x_prev = x\n",
    "        y_prev = y\n",
    "    \n",
    "    return positions\n",
    "\n",
    "def next_pos(x_prev, y_prev, dt, v, D):\n",
    "    x = eq_x(x_prev, dt, v, D)\n",
    "    y = eq_y(y_prev, dt, v, D)\n",
    "    return x, y\n",
    "\n",
    "    \n",
    "def eq_x(x_prev, dt, v, D):\n",
    "    phi = rng.random()*2*np.pi\n",
    "    xi_x = rng.normal()\n",
    "    return  x_prev + v*dt*np.cos(phi) + xi_x*np.sqrt(D*dt)\n",
    "\n",
    "def eq_y(y_prev, dt, v, D):\n",
    "    phi = rng.random()*2*np.pi\n",
    "    xi_y = rng.normal()\n",
    "    return y_prev + v*dt*np.sin(phi) + xi_y*np.sqrt(D*dt)"
   ]
  },
  {
   "cell_type": "markdown",
   "metadata": {},
   "source": [
    "We draw the duration from an exponential distribution. See the fixation_analysis notebook for background on the specific distribution parameters."
   ]
  },
  {
   "cell_type": "code",
   "execution_count": 28,
   "metadata": {},
   "outputs": [
    {
     "data": {
      "image/png": "[encoded data removed]",
      "text/plain": [
       "<Figure size 432x288 with 1 Axes>"
      ]
     },
     "metadata": {
      "needs_background": "light"
     },
     "output_type": "display_data"
    }
   ],
   "source": [
    "from matplotlib import pyplot as plt\n",
    "\n",
    "distances = []\n",
    "for i in range(400):\n",
    "    duration = int(rng.exponential(80) + 60)\n",
    "    fixation = generate_fixation(duration)\n",
    "\n",
    "    x_0 = fixation['x'][0]\n",
    "    y_0 = fixation['y'][0]\n",
    "    x_n = fixation['x'][-1]\n",
    "    y_n = fixation['y'][-1]\n",
    "    \n",
    "    distances.append(np.sqrt((x_n - x_0) ** 2 + (y_n - y_0) ** 2))\n",
    "\n",
    "plt.hist(distances, bins=100)\n",
    "plt.show()"
   ]
  },
  {
   "cell_type": "code",
   "execution_count": null,
   "metadata": {},
   "outputs": [],
   "source": []
  }
 ],
 "metadata": {
  "kernelspec": {
   "display_name": "Python 3",
   "language": "python",
   "name": "python3"
  },
  "language_info": {
   "codemirror_mode": {
    "name": "ipython",
    "version": 3
   },
   "file_extension": ".py",
   "mimetype": "text/x-python",
   "name": "python",
   "nbconvert_exporter": "python",
   "pygments_lexer": "ipython3",
   "version": "3.7.9"
  }
 },
 "nbformat": 4,
 "nbformat_minor": 4
}
