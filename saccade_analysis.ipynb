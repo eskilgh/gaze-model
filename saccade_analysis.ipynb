{
 "cells": [
  {
   "cell_type": "code",
   "execution_count": 1,
   "metadata": {},
   "outputs": [],
   "source": [
    "import pandas as pd\n",
    "from matplotlib import pyplot as plt\n",
    "import numpy as np"
   ]
  },
  {
   "cell_type": "markdown",
   "metadata": {},
   "source": [
    "Read data"
   ]
  },
  {
   "cell_type": "code",
   "execution_count": 2,
   "metadata": {},
   "outputs": [
    {
     "data": {
      "text/html": [
       "<div>\n",
       "<style scoped>\n",
       "    .dataframe tbody tr th:only-of-type {\n",
       "        vertical-align: middle;\n",
       "    }\n",
       "\n",
       "    .dataframe tbody tr th {\n",
       "        vertical-align: top;\n",
       "    }\n",
       "\n",
       "    .dataframe thead th {\n",
       "        text-align: right;\n",
       "    }\n",
       "</style>\n",
       "<table border=\"1\" class=\"dataframe\">\n",
       "  <thead>\n",
       "    <tr style=\"text-align: right;\">\n",
       "      <th></th>\n",
       "      <th>Recording timestamp</th>\n",
       "      <th>Computer timestamp</th>\n",
       "      <th>Sensor</th>\n",
       "      <th>Project name</th>\n",
       "      <th>Participant name</th>\n",
       "      <th>Recording name</th>\n",
       "      <th>Recording duration</th>\n",
       "      <th>Timeline name</th>\n",
       "      <th>Recording Fixation filter name</th>\n",
       "      <th>Recording software version</th>\n",
       "      <th>...</th>\n",
       "      <th>Fixation point X</th>\n",
       "      <th>Fixation point Y</th>\n",
       "      <th>Fixation point X (MCSnorm)</th>\n",
       "      <th>Fixation point Y (MCSnorm)</th>\n",
       "      <th>Viewport position X</th>\n",
       "      <th>Viewport position Y</th>\n",
       "      <th>Viewport width</th>\n",
       "      <th>Viewport height</th>\n",
       "      <th>Mouse position X</th>\n",
       "      <th>Mouse position Y</th>\n",
       "    </tr>\n",
       "  </thead>\n",
       "  <tbody>\n",
       "    <tr>\n",
       "      <th>0</th>\n",
       "      <td>0</td>\n",
       "      <td>1022924105192</td>\n",
       "      <td>NaN</td>\n",
       "      <td>Gaze_model1</td>\n",
       "      <td>Einar</td>\n",
       "      <td>Recording3</td>\n",
       "      <td>169944</td>\n",
       "      <td>Timeline1</td>\n",
       "      <td>Tobii I-VT (Fixation)</td>\n",
       "      <td>1.145.28180</td>\n",
       "      <td>...</td>\n",
       "      <td>NaN</td>\n",
       "      <td>NaN</td>\n",
       "      <td>NaN</td>\n",
       "      <td>NaN</td>\n",
       "      <td>NaN</td>\n",
       "      <td>NaN</td>\n",
       "      <td>NaN</td>\n",
       "      <td>NaN</td>\n",
       "      <td>NaN</td>\n",
       "      <td>NaN</td>\n",
       "    </tr>\n",
       "    <tr>\n",
       "      <th>1</th>\n",
       "      <td>12438</td>\n",
       "      <td>1022924117630</td>\n",
       "      <td>Mouse</td>\n",
       "      <td>Gaze_model1</td>\n",
       "      <td>Einar</td>\n",
       "      <td>Recording3</td>\n",
       "      <td>169944</td>\n",
       "      <td>Timeline1</td>\n",
       "      <td>Tobii I-VT (Fixation)</td>\n",
       "      <td>1.145.28180</td>\n",
       "      <td>...</td>\n",
       "      <td>NaN</td>\n",
       "      <td>NaN</td>\n",
       "      <td>NaN</td>\n",
       "      <td>NaN</td>\n",
       "      <td>NaN</td>\n",
       "      <td>NaN</td>\n",
       "      <td>NaN</td>\n",
       "      <td>NaN</td>\n",
       "      <td>-915.0</td>\n",
       "      <td>486.0</td>\n",
       "    </tr>\n",
       "    <tr>\n",
       "      <th>2</th>\n",
       "      <td>28861</td>\n",
       "      <td>1022924134053</td>\n",
       "      <td>Mouse</td>\n",
       "      <td>Gaze_model1</td>\n",
       "      <td>Einar</td>\n",
       "      <td>Recording3</td>\n",
       "      <td>169944</td>\n",
       "      <td>Timeline1</td>\n",
       "      <td>Tobii I-VT (Fixation)</td>\n",
       "      <td>1.145.28180</td>\n",
       "      <td>...</td>\n",
       "      <td>NaN</td>\n",
       "      <td>NaN</td>\n",
       "      <td>NaN</td>\n",
       "      <td>NaN</td>\n",
       "      <td>NaN</td>\n",
       "      <td>NaN</td>\n",
       "      <td>NaN</td>\n",
       "      <td>NaN</td>\n",
       "      <td>-924.0</td>\n",
       "      <td>477.0</td>\n",
       "    </tr>\n",
       "    <tr>\n",
       "      <th>3</th>\n",
       "      <td>44674</td>\n",
       "      <td>1022924149866</td>\n",
       "      <td>Mouse</td>\n",
       "      <td>Gaze_model1</td>\n",
       "      <td>Einar</td>\n",
       "      <td>Recording3</td>\n",
       "      <td>169944</td>\n",
       "      <td>Timeline1</td>\n",
       "      <td>Tobii I-VT (Fixation)</td>\n",
       "      <td>1.145.28180</td>\n",
       "      <td>...</td>\n",
       "      <td>NaN</td>\n",
       "      <td>NaN</td>\n",
       "      <td>NaN</td>\n",
       "      <td>NaN</td>\n",
       "      <td>NaN</td>\n",
       "      <td>NaN</td>\n",
       "      <td>NaN</td>\n",
       "      <td>NaN</td>\n",
       "      <td>-926.0</td>\n",
       "      <td>473.0</td>\n",
       "    </tr>\n",
       "    <tr>\n",
       "      <th>4</th>\n",
       "      <td>94205</td>\n",
       "      <td>1022924199397</td>\n",
       "      <td>Eye Tracker</td>\n",
       "      <td>Gaze_model1</td>\n",
       "      <td>Einar</td>\n",
       "      <td>Recording3</td>\n",
       "      <td>169944</td>\n",
       "      <td>Timeline1</td>\n",
       "      <td>Tobii I-VT (Fixation)</td>\n",
       "      <td>1.145.28180</td>\n",
       "      <td>...</td>\n",
       "      <td>NaN</td>\n",
       "      <td>NaN</td>\n",
       "      <td>NaN</td>\n",
       "      <td>NaN</td>\n",
       "      <td>NaN</td>\n",
       "      <td>NaN</td>\n",
       "      <td>NaN</td>\n",
       "      <td>NaN</td>\n",
       "      <td>NaN</td>\n",
       "      <td>NaN</td>\n",
       "    </tr>\n",
       "  </tbody>\n",
       "</table>\n",
       "<p>5 rows × 79 columns</p>\n",
       "</div>"
      ],
      "text/plain": [
       "   Recording timestamp  Computer timestamp       Sensor Project name  \\\n",
       "0                    0       1022924105192          NaN  Gaze_model1   \n",
       "1                12438       1022924117630        Mouse  Gaze_model1   \n",
       "2                28861       1022924134053        Mouse  Gaze_model1   \n",
       "3                44674       1022924149866        Mouse  Gaze_model1   \n",
       "4                94205       1022924199397  Eye Tracker  Gaze_model1   \n",
       "\n",
       "  Participant name Recording name  Recording duration Timeline name  \\\n",
       "0            Einar     Recording3              169944     Timeline1   \n",
       "1            Einar     Recording3              169944     Timeline1   \n",
       "2            Einar     Recording3              169944     Timeline1   \n",
       "3            Einar     Recording3              169944     Timeline1   \n",
       "4            Einar     Recording3              169944     Timeline1   \n",
       "\n",
       "  Recording Fixation filter name Recording software version  ...  \\\n",
       "0          Tobii I-VT (Fixation)                1.145.28180  ...   \n",
       "1          Tobii I-VT (Fixation)                1.145.28180  ...   \n",
       "2          Tobii I-VT (Fixation)                1.145.28180  ...   \n",
       "3          Tobii I-VT (Fixation)                1.145.28180  ...   \n",
       "4          Tobii I-VT (Fixation)                1.145.28180  ...   \n",
       "\n",
       "   Fixation point X  Fixation point Y Fixation point X (MCSnorm)  \\\n",
       "0               NaN               NaN                        NaN   \n",
       "1               NaN               NaN                        NaN   \n",
       "2               NaN               NaN                        NaN   \n",
       "3               NaN               NaN                        NaN   \n",
       "4               NaN               NaN                        NaN   \n",
       "\n",
       "  Fixation point Y (MCSnorm) Viewport position X Viewport position Y  \\\n",
       "0                        NaN                 NaN                 NaN   \n",
       "1                        NaN                 NaN                 NaN   \n",
       "2                        NaN                 NaN                 NaN   \n",
       "3                        NaN                 NaN                 NaN   \n",
       "4                        NaN                 NaN                 NaN   \n",
       "\n",
       "  Viewport width Viewport height Mouse position X  Mouse position Y  \n",
       "0            NaN             NaN              NaN               NaN  \n",
       "1            NaN             NaN           -915.0             486.0  \n",
       "2            NaN             NaN           -924.0             477.0  \n",
       "3            NaN             NaN           -926.0             473.0  \n",
       "4            NaN             NaN              NaN               NaN  \n",
       "\n",
       "[5 rows x 79 columns]"
      ]
     },
     "execution_count": 2,
     "metadata": {},
     "output_type": "execute_result"
    }
   ],
   "source": [
    "df1 = pd.read_csv(\"einar_siri_fixation.tsv\", sep='\\t')\n",
    "df2 = pd.read_csv(\"fixation_data_final.tsv\", sep='\\t')\n",
    "df = df1.append(df2)\n",
    "df.head()\n"
   ]
  },
  {
   "cell_type": "markdown",
   "metadata": {},
   "source": [
    "The dataframe consists of 79 columns! As such we have to perform a bit of cleaning:"
   ]
  },
  {
   "cell_type": "code",
   "execution_count": 3,
   "metadata": {},
   "outputs": [],
   "source": [
    "cols_to_keep = ['Recording timestamp', 'Participant name', 'Recording name', 'Gaze point X (MCSnorm)', 'Gaze point Y (MCSnorm)','Eye movement type', 'Eye movement type index','Gaze event duration', 'Presented Media name']\n",
    "df = df[cols_to_keep]"
   ]
  },
  {
   "cell_type": "markdown",
   "metadata": {},
   "source": [
    "A big part of the data consists of the calibration part of the experiments.\n",
    "This has to be discarded, which we do by only keeping the rows where the participant looks at the picture in the experiment."
   ]
  },
  {
   "cell_type": "code",
   "execution_count": 4,
   "metadata": {},
   "outputs": [],
   "source": [
    "df = df[df[\"Presented Media name\"] == 'test1.png']\n",
    "df = df[df[\"Eye movement type\"] == \"Saccade\"]"
   ]
  },
  {
   "cell_type": "markdown",
   "metadata": {},
   "source": [
    "### Saccade duration\n",
    "Since our aim is to look at each saccade, we need to keep just one row for each invidual saccade.\n",
    "They are organized by `'Eye movement type index'`. Because different recordings can contain the same eye movement indices, we only discard the ones that are consecutively identical."
   ]
  },
  {
   "cell_type": "code",
   "execution_count": 5,
   "metadata": {},
   "outputs": [
    {
     "data": {
      "text/html": [
       "<div>\n",
       "<style scoped>\n",
       "    .dataframe tbody tr th:only-of-type {\n",
       "        vertical-align: middle;\n",
       "    }\n",
       "\n",
       "    .dataframe tbody tr th {\n",
       "        vertical-align: top;\n",
       "    }\n",
       "\n",
       "    .dataframe thead th {\n",
       "        text-align: right;\n",
       "    }\n",
       "</style>\n",
       "<table border=\"1\" class=\"dataframe\">\n",
       "  <thead>\n",
       "    <tr style=\"text-align: right;\">\n",
       "      <th></th>\n",
       "      <th>Recording timestamp</th>\n",
       "      <th>Participant name</th>\n",
       "      <th>Recording name</th>\n",
       "      <th>Gaze point X (MCSnorm)</th>\n",
       "      <th>Gaze point Y (MCSnorm)</th>\n",
       "      <th>Eye movement type</th>\n",
       "      <th>Eye movement type index</th>\n",
       "      <th>Gaze event duration</th>\n",
       "      <th>Presented Media name</th>\n",
       "    </tr>\n",
       "  </thead>\n",
       "  <tbody>\n",
       "    <tr>\n",
       "      <th>4856</th>\n",
       "      <td>39774492</td>\n",
       "      <td>Einar</td>\n",
       "      <td>Recording3</td>\n",
       "      <td>0,4637</td>\n",
       "      <td>0,3981</td>\n",
       "      <td>Saccade</td>\n",
       "      <td>450.0</td>\n",
       "      <td>17.0</td>\n",
       "      <td>test1.png</td>\n",
       "    </tr>\n",
       "    <tr>\n",
       "      <th>4860</th>\n",
       "      <td>39807782</td>\n",
       "      <td>Einar</td>\n",
       "      <td>Recording3</td>\n",
       "      <td>0,4594</td>\n",
       "      <td>0,3624</td>\n",
       "      <td>Saccade</td>\n",
       "      <td>451.0</td>\n",
       "      <td>17.0</td>\n",
       "      <td>test1.png</td>\n",
       "    </tr>\n",
       "    <tr>\n",
       "      <th>4913</th>\n",
       "      <td>40199429</td>\n",
       "      <td>Einar</td>\n",
       "      <td>Recording3</td>\n",
       "      <td>0,4550</td>\n",
       "      <td>0,3947</td>\n",
       "      <td>Saccade</td>\n",
       "      <td>452.0</td>\n",
       "      <td>17.0</td>\n",
       "      <td>test1.png</td>\n",
       "    </tr>\n",
       "    <tr>\n",
       "      <th>4917</th>\n",
       "      <td>40224416</td>\n",
       "      <td>Einar</td>\n",
       "      <td>Recording3</td>\n",
       "      <td>0,4693</td>\n",
       "      <td>0,4393</td>\n",
       "      <td>Saccade</td>\n",
       "      <td>453.0</td>\n",
       "      <td>8.0</td>\n",
       "      <td>test1.png</td>\n",
       "    </tr>\n",
       "    <tr>\n",
       "      <th>4920</th>\n",
       "      <td>40249457</td>\n",
       "      <td>Einar</td>\n",
       "      <td>Recording3</td>\n",
       "      <td>0,4602</td>\n",
       "      <td>0,3961</td>\n",
       "      <td>Saccade</td>\n",
       "      <td>454.0</td>\n",
       "      <td>17.0</td>\n",
       "      <td>test1.png</td>\n",
       "    </tr>\n",
       "  </tbody>\n",
       "</table>\n",
       "</div>"
      ],
      "text/plain": [
       "      Recording timestamp Participant name Recording name  \\\n",
       "4856             39774492            Einar     Recording3   \n",
       "4860             39807782            Einar     Recording3   \n",
       "4913             40199429            Einar     Recording3   \n",
       "4917             40224416            Einar     Recording3   \n",
       "4920             40249457            Einar     Recording3   \n",
       "\n",
       "     Gaze point X (MCSnorm) Gaze point Y (MCSnorm) Eye movement type  \\\n",
       "4856                 0,4637                 0,3981           Saccade   \n",
       "4860                 0,4594                 0,3624           Saccade   \n",
       "4913                 0,4550                 0,3947           Saccade   \n",
       "4917                 0,4693                 0,4393           Saccade   \n",
       "4920                 0,4602                 0,3961           Saccade   \n",
       "\n",
       "      Eye movement type index  Gaze event duration Presented Media name  \n",
       "4856                    450.0                 17.0            test1.png  \n",
       "4860                    451.0                 17.0            test1.png  \n",
       "4913                    452.0                 17.0            test1.png  \n",
       "4917                    453.0                  8.0            test1.png  \n",
       "4920                    454.0                 17.0            test1.png  "
      ]
     },
     "execution_count": 5,
     "metadata": {},
     "output_type": "execute_result"
    }
   ],
   "source": [
    "unique_saccades = df[df['Eye movement type index'] != df['Eye movement type index'].shift(1)]\n",
    "unique_saccades.head()"
   ]
  },
  {
   "cell_type": "markdown",
   "metadata": {},
   "source": [
    "Histograms of saccade duration"
   ]
  },
  {
   "cell_type": "code",
   "execution_count": 8,
   "metadata": {},
   "outputs": [
    {
     "data": {
      "text/plain": [
       "array([[<AxesSubplot:title={'center':'Gaze event duration'}>]],\n",
       "      dtype=object)"
      ]
     },
     "execution_count": 8,
     "metadata": {},
     "output_type": "execute_result"
    },
    {
     "data": {
      "image/png": "[encoded data removed]",
      "text/plain": [
       "<Figure size 432x288 with 1 Axes>"
      ]
     },
     "metadata": {
      "needs_background": "light"
     },
     "output_type": "display_data"
    }
   ],
   "source": [
    "unique_saccades.hist(column='Gaze event duration', bins=50, density=True)\n"
   ]
  },
  {
   "cell_type": "markdown",
   "metadata": {},
   "source": [
    "Now we can try to find an exponential distribution that corresponds to the duration data."
   ]
  },
  {
   "cell_type": "code",
   "execution_count": 11,
   "metadata": {},
   "outputs": [
    {
     "data": {
      "image/png": "[encoded data removed]",
      "text/plain": [
       "<Figure size 432x288 with 1 Axes>"
      ]
     },
     "metadata": {
      "needs_background": "light"
     },
     "output_type": "display_data"
    },
    {
     "name": "stdout",
     "output_type": "stream",
     "text": [
      "0.8436369094574669 7.999999999999998 10\n"
     ]
    }
   ],
   "source": [
    "from scipy.stats import gamma\n",
    "from scipy import special as sps\n",
    "shape, loc, scale = gamma.fit(unique_saccades['Gaze event duration'])\n",
    "s = np.random.gamma(2, 2, size=10000)\n",
    "count, bins, ignored = plt.hist(unique_saccades['Gaze event duration'], bins=50, density=True)\n",
    "pdf_gamma = gamma.pdf(bins, 1, 9, 5)\n",
    "\n",
    "\n",
    "plt.plot(bins, pdf_gamma, linewidth=2, color='r')  \n",
    "\n",
    "plt.show()\n",
    "print(shape, loc, 10)"
   ]
  },
  {
   "cell_type": "code",
   "execution_count": 12,
   "metadata": {},
   "outputs": [
    {
     "data": {
      "text/plain": [
       "<openturns.viewer.View at 0x161f22750>"
      ]
     },
     "execution_count": 12,
     "metadata": {},
     "output_type": "execute_result"
    },
    {
     "data": {
      "image/png": "[encoded data removed]",
      "text/plain": [
       "<Figure size 432x288 with 1 Axes>"
      ]
     },
     "metadata": {
      "needs_background": "light"
     },
     "output_type": "display_data"
    }
   ],
   "source": [
    "import openturns as ot\n",
    "import openturns.viewer as otv\n",
    "\n",
    "gammaDistribution = ot.Gamma()\n",
    "sample = gammaDistribution.getSample(100)\n",
    "\n",
    "\n",
    "gamma_data = np.array([(i, v) for i, v in enumerate(unique_saccades['Gaze event duration'])])\n",
    "\n",
    "durations = ot.Sample([[ui] for ui in unique_saccades['Gaze event duration']])\n",
    "\n",
    "distribution = ot.GammaFactory().build(durations)\n",
    "otv.View(distribution.drawPDF())"
   ]
  },
  {
   "cell_type": "markdown",
   "metadata": {},
   "source": [
    "### Distance travelled during saccades\n",
    "Next up is to analyze the average distance from the beginning to the end of a saccade. We will use this to calibrate our $D$ value.\n",
    "\n",
    "First we need to filter out data so that we end up with the first and last row. We do this by doing the same operation as last time, but this time keeping the last row associated with every 'Eye movement type index'. We then add this to the dataframe with the first row."
   ]
  },
  {
   "cell_type": "code",
   "execution_count": 13,
   "metadata": {},
   "outputs": [],
   "source": [
    "import numpy as np\n",
    "saccades = unique_saccades.append(df[df['Eye movement type index'] != df['Eye movement type index'].shift(-1)])\n",
    "saccades.sort_index(inplace=True)"
   ]
  },
  {
   "cell_type": "markdown",
   "metadata": {},
   "source": [
    "We also need to remove all 'Eye movement type index' where the first or last row contains invalid data for the gaze point."
   ]
  },
  {
   "cell_type": "code",
   "execution_count": 14,
   "metadata": {},
   "outputs": [
    {
     "data": {
      "text/html": [
       "<div>\n",
       "<style scoped>\n",
       "    .dataframe tbody tr th:only-of-type {\n",
       "        vertical-align: middle;\n",
       "    }\n",
       "\n",
       "    .dataframe tbody tr th {\n",
       "        vertical-align: top;\n",
       "    }\n",
       "\n",
       "    .dataframe thead th {\n",
       "        text-align: right;\n",
       "    }\n",
       "</style>\n",
       "<table border=\"1\" class=\"dataframe\">\n",
       "  <thead>\n",
       "    <tr style=\"text-align: right;\">\n",
       "      <th></th>\n",
       "      <th>Recording timestamp</th>\n",
       "      <th>Participant name</th>\n",
       "      <th>Recording name</th>\n",
       "      <th>Gaze point X (MCSnorm)</th>\n",
       "      <th>Gaze point Y (MCSnorm)</th>\n",
       "      <th>Eye movement type</th>\n",
       "      <th>Eye movement type index</th>\n",
       "      <th>Gaze event duration</th>\n",
       "      <th>Presented Media name</th>\n",
       "    </tr>\n",
       "  </thead>\n",
       "  <tbody>\n",
       "    <tr>\n",
       "      <th>9030</th>\n",
       "      <td>74493242</td>\n",
       "      <td>Sigve</td>\n",
       "      <td>Recording3</td>\n",
       "      <td>0,6773</td>\n",
       "      <td>0,0213</td>\n",
       "      <td>Saccade</td>\n",
       "      <td>352.0</td>\n",
       "      <td>33.0</td>\n",
       "      <td>test1.png</td>\n",
       "    </tr>\n",
       "    <tr>\n",
       "      <th>9033</th>\n",
       "      <td>74518332</td>\n",
       "      <td>Sigve</td>\n",
       "      <td>Recording3</td>\n",
       "      <td>NaN</td>\n",
       "      <td>NaN</td>\n",
       "      <td>Saccade</td>\n",
       "      <td>352.0</td>\n",
       "      <td>33.0</td>\n",
       "      <td>test1.png</td>\n",
       "    </tr>\n",
       "    <tr>\n",
       "      <th>9035</th>\n",
       "      <td>74534907</td>\n",
       "      <td>Sigve</td>\n",
       "      <td>Recording3</td>\n",
       "      <td>NaN</td>\n",
       "      <td>NaN</td>\n",
       "      <td>Saccade</td>\n",
       "      <td>353.0</td>\n",
       "      <td>8.0</td>\n",
       "      <td>test1.png</td>\n",
       "    </tr>\n",
       "    <tr>\n",
       "      <th>9035</th>\n",
       "      <td>74534907</td>\n",
       "      <td>Sigve</td>\n",
       "      <td>Recording3</td>\n",
       "      <td>NaN</td>\n",
       "      <td>NaN</td>\n",
       "      <td>Saccade</td>\n",
       "      <td>353.0</td>\n",
       "      <td>8.0</td>\n",
       "      <td>test1.png</td>\n",
       "    </tr>\n",
       "    <tr>\n",
       "      <th>9038</th>\n",
       "      <td>74559907</td>\n",
       "      <td>Sigve</td>\n",
       "      <td>Recording3</td>\n",
       "      <td>NaN</td>\n",
       "      <td>NaN</td>\n",
       "      <td>Saccade</td>\n",
       "      <td>354.0</td>\n",
       "      <td>25.0</td>\n",
       "      <td>test1.png</td>\n",
       "    </tr>\n",
       "    <tr>\n",
       "      <th>9040</th>\n",
       "      <td>74576612</td>\n",
       "      <td>Sigve</td>\n",
       "      <td>Recording3</td>\n",
       "      <td>0,6533</td>\n",
       "      <td>0,0173</td>\n",
       "      <td>Saccade</td>\n",
       "      <td>354.0</td>\n",
       "      <td>25.0</td>\n",
       "      <td>test1.png</td>\n",
       "    </tr>\n",
       "    <tr>\n",
       "      <th>9059</th>\n",
       "      <td>74731948</td>\n",
       "      <td>Sigve</td>\n",
       "      <td>Recording3</td>\n",
       "      <td>NaN</td>\n",
       "      <td>NaN</td>\n",
       "      <td>Saccade</td>\n",
       "      <td>355.0</td>\n",
       "      <td>24.0</td>\n",
       "      <td>test1.png</td>\n",
       "    </tr>\n",
       "    <tr>\n",
       "      <th>9061</th>\n",
       "      <td>74748283</td>\n",
       "      <td>Sigve</td>\n",
       "      <td>Recording3</td>\n",
       "      <td>NaN</td>\n",
       "      <td>NaN</td>\n",
       "      <td>Saccade</td>\n",
       "      <td>355.0</td>\n",
       "      <td>24.0</td>\n",
       "      <td>test1.png</td>\n",
       "    </tr>\n",
       "    <tr>\n",
       "      <th>9066</th>\n",
       "      <td>74789993</td>\n",
       "      <td>Sigve</td>\n",
       "      <td>Recording3</td>\n",
       "      <td>0,6499</td>\n",
       "      <td>0,0234</td>\n",
       "      <td>Saccade</td>\n",
       "      <td>357.0</td>\n",
       "      <td>17.0</td>\n",
       "      <td>test1.png</td>\n",
       "    </tr>\n",
       "    <tr>\n",
       "      <th>9067</th>\n",
       "      <td>74798309</td>\n",
       "      <td>Sigve</td>\n",
       "      <td>Recording3</td>\n",
       "      <td>NaN</td>\n",
       "      <td>NaN</td>\n",
       "      <td>Saccade</td>\n",
       "      <td>357.0</td>\n",
       "      <td>17.0</td>\n",
       "      <td>test1.png</td>\n",
       "    </tr>\n",
       "    <tr>\n",
       "      <th>9069</th>\n",
       "      <td>74814975</td>\n",
       "      <td>Sigve</td>\n",
       "      <td>Recording3</td>\n",
       "      <td>NaN</td>\n",
       "      <td>NaN</td>\n",
       "      <td>Saccade</td>\n",
       "      <td>358.0</td>\n",
       "      <td>17.0</td>\n",
       "      <td>test1.png</td>\n",
       "    </tr>\n",
       "    <tr>\n",
       "      <th>9070</th>\n",
       "      <td>74823290</td>\n",
       "      <td>Sigve</td>\n",
       "      <td>Recording3</td>\n",
       "      <td>0,6499</td>\n",
       "      <td>0,0215</td>\n",
       "      <td>Saccade</td>\n",
       "      <td>358.0</td>\n",
       "      <td>17.0</td>\n",
       "      <td>test1.png</td>\n",
       "    </tr>\n",
       "    <tr>\n",
       "      <th>9073</th>\n",
       "      <td>74848308</td>\n",
       "      <td>Sigve</td>\n",
       "      <td>Recording3</td>\n",
       "      <td>0,6485</td>\n",
       "      <td>0,0164</td>\n",
       "      <td>Saccade</td>\n",
       "      <td>359.0</td>\n",
       "      <td>17.0</td>\n",
       "      <td>test1.png</td>\n",
       "    </tr>\n",
       "    <tr>\n",
       "      <th>9074</th>\n",
       "      <td>74856611</td>\n",
       "      <td>Sigve</td>\n",
       "      <td>Recording3</td>\n",
       "      <td>NaN</td>\n",
       "      <td>NaN</td>\n",
       "      <td>Saccade</td>\n",
       "      <td>359.0</td>\n",
       "      <td>17.0</td>\n",
       "      <td>test1.png</td>\n",
       "    </tr>\n",
       "    <tr>\n",
       "      <th>29827</th>\n",
       "      <td>77046364</td>\n",
       "      <td>Siri</td>\n",
       "      <td>Recording4</td>\n",
       "      <td>NaN</td>\n",
       "      <td>NaN</td>\n",
       "      <td>Saccade</td>\n",
       "      <td>914.0</td>\n",
       "      <td>42.0</td>\n",
       "      <td>test1.png</td>\n",
       "    </tr>\n",
       "    <tr>\n",
       "      <th>29831</th>\n",
       "      <td>77079696</td>\n",
       "      <td>Siri</td>\n",
       "      <td>Recording4</td>\n",
       "      <td>0,2526</td>\n",
       "      <td>0,1287</td>\n",
       "      <td>Saccade</td>\n",
       "      <td>914.0</td>\n",
       "      <td>42.0</td>\n",
       "      <td>test1.png</td>\n",
       "    </tr>\n",
       "    <tr>\n",
       "      <th>55790</th>\n",
       "      <td>93082039</td>\n",
       "      <td>Pedro</td>\n",
       "      <td>Recording5</td>\n",
       "      <td>0,4965</td>\n",
       "      <td>0,6441</td>\n",
       "      <td>Saccade</td>\n",
       "      <td>315.0</td>\n",
       "      <td>50.0</td>\n",
       "      <td>test1.png</td>\n",
       "    </tr>\n",
       "    <tr>\n",
       "      <th>55796</th>\n",
       "      <td>93124166</td>\n",
       "      <td>Pedro</td>\n",
       "      <td>Recording5</td>\n",
       "      <td>NaN</td>\n",
       "      <td>NaN</td>\n",
       "      <td>Saccade</td>\n",
       "      <td>315.0</td>\n",
       "      <td>50.0</td>\n",
       "      <td>test1.png</td>\n",
       "    </tr>\n",
       "    <tr>\n",
       "      <th>58641</th>\n",
       "      <td>116746973</td>\n",
       "      <td>Pedro</td>\n",
       "      <td>Recording5</td>\n",
       "      <td>0,5352</td>\n",
       "      <td>0,0380</td>\n",
       "      <td>Saccade</td>\n",
       "      <td>393.0</td>\n",
       "      <td>17.0</td>\n",
       "      <td>test1.png</td>\n",
       "    </tr>\n",
       "    <tr>\n",
       "      <th>58642</th>\n",
       "      <td>116755320</td>\n",
       "      <td>Pedro</td>\n",
       "      <td>Recording5</td>\n",
       "      <td>NaN</td>\n",
       "      <td>NaN</td>\n",
       "      <td>Saccade</td>\n",
       "      <td>393.0</td>\n",
       "      <td>17.0</td>\n",
       "      <td>test1.png</td>\n",
       "    </tr>\n",
       "    <tr>\n",
       "      <th>58646</th>\n",
       "      <td>116788639</td>\n",
       "      <td>Pedro</td>\n",
       "      <td>Recording5</td>\n",
       "      <td>NaN</td>\n",
       "      <td>NaN</td>\n",
       "      <td>Saccade</td>\n",
       "      <td>394.0</td>\n",
       "      <td>33.0</td>\n",
       "      <td>test1.png</td>\n",
       "    </tr>\n",
       "    <tr>\n",
       "      <th>58649</th>\n",
       "      <td>116813665</td>\n",
       "      <td>Pedro</td>\n",
       "      <td>Recording5</td>\n",
       "      <td>0,5303</td>\n",
       "      <td>0,0412</td>\n",
       "      <td>Saccade</td>\n",
       "      <td>394.0</td>\n",
       "      <td>33.0</td>\n",
       "      <td>test1.png</td>\n",
       "    </tr>\n",
       "  </tbody>\n",
       "</table>\n",
       "</div>"
      ],
      "text/plain": [
       "       Recording timestamp Participant name Recording name  \\\n",
       "9030              74493242            Sigve     Recording3   \n",
       "9033              74518332            Sigve     Recording3   \n",
       "9035              74534907            Sigve     Recording3   \n",
       "9035              74534907            Sigve     Recording3   \n",
       "9038              74559907            Sigve     Recording3   \n",
       "9040              74576612            Sigve     Recording3   \n",
       "9059              74731948            Sigve     Recording3   \n",
       "9061              74748283            Sigve     Recording3   \n",
       "9066              74789993            Sigve     Recording3   \n",
       "9067              74798309            Sigve     Recording3   \n",
       "9069              74814975            Sigve     Recording3   \n",
       "9070              74823290            Sigve     Recording3   \n",
       "9073              74848308            Sigve     Recording3   \n",
       "9074              74856611            Sigve     Recording3   \n",
       "29827             77046364             Siri     Recording4   \n",
       "29831             77079696             Siri     Recording4   \n",
       "55790             93082039            Pedro     Recording5   \n",
       "55796             93124166            Pedro     Recording5   \n",
       "58641            116746973            Pedro     Recording5   \n",
       "58642            116755320            Pedro     Recording5   \n",
       "58646            116788639            Pedro     Recording5   \n",
       "58649            116813665            Pedro     Recording5   \n",
       "\n",
       "      Gaze point X (MCSnorm) Gaze point Y (MCSnorm) Eye movement type  \\\n",
       "9030                  0,6773                 0,0213           Saccade   \n",
       "9033                     NaN                    NaN           Saccade   \n",
       "9035                     NaN                    NaN           Saccade   \n",
       "9035                     NaN                    NaN           Saccade   \n",
       "9038                     NaN                    NaN           Saccade   \n",
       "9040                  0,6533                 0,0173           Saccade   \n",
       "9059                     NaN                    NaN           Saccade   \n",
       "9061                     NaN                    NaN           Saccade   \n",
       "9066                  0,6499                 0,0234           Saccade   \n",
       "9067                     NaN                    NaN           Saccade   \n",
       "9069                     NaN                    NaN           Saccade   \n",
       "9070                  0,6499                 0,0215           Saccade   \n",
       "9073                  0,6485                 0,0164           Saccade   \n",
       "9074                     NaN                    NaN           Saccade   \n",
       "29827                    NaN                    NaN           Saccade   \n",
       "29831                 0,2526                 0,1287           Saccade   \n",
       "55790                 0,4965                 0,6441           Saccade   \n",
       "55796                    NaN                    NaN           Saccade   \n",
       "58641                 0,5352                 0,0380           Saccade   \n",
       "58642                    NaN                    NaN           Saccade   \n",
       "58646                    NaN                    NaN           Saccade   \n",
       "58649                 0,5303                 0,0412           Saccade   \n",
       "\n",
       "       Eye movement type index  Gaze event duration Presented Media name  \n",
       "9030                     352.0                 33.0            test1.png  \n",
       "9033                     352.0                 33.0            test1.png  \n",
       "9035                     353.0                  8.0            test1.png  \n",
       "9035                     353.0                  8.0            test1.png  \n",
       "9038                     354.0                 25.0            test1.png  \n",
       "9040                     354.0                 25.0            test1.png  \n",
       "9059                     355.0                 24.0            test1.png  \n",
       "9061                     355.0                 24.0            test1.png  \n",
       "9066                     357.0                 17.0            test1.png  \n",
       "9067                     357.0                 17.0            test1.png  \n",
       "9069                     358.0                 17.0            test1.png  \n",
       "9070                     358.0                 17.0            test1.png  \n",
       "9073                     359.0                 17.0            test1.png  \n",
       "9074                     359.0                 17.0            test1.png  \n",
       "29827                    914.0                 42.0            test1.png  \n",
       "29831                    914.0                 42.0            test1.png  \n",
       "55790                    315.0                 50.0            test1.png  \n",
       "55796                    315.0                 50.0            test1.png  \n",
       "58641                    393.0                 17.0            test1.png  \n",
       "58642                    393.0                 17.0            test1.png  \n",
       "58646                    394.0                 33.0            test1.png  \n",
       "58649                    394.0                 33.0            test1.png  "
      ]
     },
     "execution_count": 14,
     "metadata": {},
     "output_type": "execute_result"
    }
   ],
   "source": [
    "# Find all rows where Gaze X or Gaze Y is 'nan'\n",
    "gaze_point_cols = ['Gaze point X (MCSnorm)', 'Gaze point Y (MCSnorm)']\n",
    "nan = saccades[gaze_point_cols].isna()\n",
    "\n",
    "# Create a mask for all rows with an 'Eye movement index' that contains 'nan', with matching 'Participant name'\n",
    "nan_indices = saccades[nan['Gaze point X (MCSnorm)']][['Eye movement type index', 'Participant name']]\n",
    "\n",
    "msk = np.zeros(len(saccades), dtype=bool)\n",
    "\n",
    "for part in nan_indices['Participant name'].unique():\n",
    "    invalid_ids = nan_indices[nan_indices['Participant name'] == part]['Eye movement type index'].values\n",
    "    part_mask = (saccades['Participant name'] == part) & (saccades['Eye movement type index'].isin(invalid_ids))\n",
    "    msk = np.logical_or(msk, part_mask)\n",
    "\n",
    "# Check saccade rows that matches the mask\n",
    "saccades[msk]"
   ]
  },
  {
   "cell_type": "code",
   "execution_count": 15,
   "metadata": {},
   "outputs": [],
   "source": [
    "clean_saccades = saccades[~msk]\n",
    "start = clean_saccades[clean_saccades['Eye movement type index'] != clean_saccades['Eye movement type index'].shift(1)]\n",
    "end = clean_saccades[clean_saccades['Eye movement type index'] != clean_saccades['Eye movement type index'].shift(-1)]\n",
    "# convert values from strings to floats\n",
    "start = [ (float(x.replace(',', '.')), float(y.replace(',', '.'))) for x, y in start[gaze_point_cols].values]\n",
    "end = [ (float(x.replace(',', '.')), float(y.replace(',', '.'))) for x, y in end[gaze_point_cols].values]\n",
    "\n",
    "# Calculate distances for each 'Eye movement type index'\n",
    "distances = []\n",
    "for s_point, e_point in zip(start, end):\n",
    "    # np.linalg.norm gives euclidian distance between points\n",
    "    distance = np.linalg.norm(np.array(e_point) - np.array(s_point))\n",
    "    distances.append(distance)\n"
   ]
  },
  {
   "cell_type": "markdown",
   "metadata": {},
   "source": [
    "Create a dataframe of each unique saccade, and add distance travelled for each saccade to a 'Distance' column"
   ]
  },
  {
   "cell_type": "code",
   "execution_count": 16,
   "metadata": {},
   "outputs": [
    {
     "data": {
      "text/plain": [
       "array([0.01803469, 0.03911547, 0.02248044, ..., 0.03270352, 0.02088923,\n",
       "       0.04641648])"
      ]
     },
     "execution_count": 16,
     "metadata": {},
     "output_type": "execute_result"
    }
   ],
   "source": [
    "sacc_with_dist = clean_saccades[clean_saccades['Eye movement type index'] != clean_saccades['Eye movement type index'].shift(1)]\n",
    "sacc_with_dist = sacc_with_dist.assign(Distance=distances)\n",
    "sacc_with_dist['Distance'].values"
   ]
  },
  {
   "cell_type": "code",
   "execution_count": 17,
   "metadata": {},
   "outputs": [
    {
     "data": {
      "image/png": "[encoded data removed]",
      "text/plain": [
       "<Figure size 432x288 with 1 Axes>"
      ]
     },
     "metadata": {
      "needs_background": "light"
     },
     "output_type": "display_data"
    }
   ],
   "source": [
    "sacc_with_dist.hist(column='Distance', bins=100)\n",
    "plt.show()"
   ]
  },
  {
   "cell_type": "code",
   "execution_count": 18,
   "metadata": {},
   "outputs": [
    {
     "data": {
      "text/plain": [
       "0.001721801943777692"
      ]
     },
     "execution_count": 18,
     "metadata": {},
     "output_type": "execute_result"
    },
    {
     "data": {
      "image/png": "[encoded data removed]",
      "text/plain": [
       "<Figure size 432x288 with 1 Axes>"
      ]
     },
     "metadata": {
      "needs_background": "light"
     },
     "output_type": "display_data"
    }
   ],
   "source": [
    "sacc_with_dist['Saccade velocity'] = sacc_with_dist['Distance'] / sacc_with_dist['Gaze event duration']\n",
    "hist, = sacc_with_dist.hist(column='Saccade velocity', bins=100, density=True)\n",
    "hist[0].set_xlabel('Velocity (normalized distance / ms)')\n",
    "sacc_with_dist['Saccade velocity'].mean()"
   ]
  },
  {
   "cell_type": "code",
   "execution_count": 19,
   "metadata": {},
   "outputs": [
    {
     "name": "stdout",
     "output_type": "stream",
     "text": [
      "avg velocity for Einar: 0.0021692108626025614\n",
      "avg velocity for Sigve: 0.0021199185356902176\n",
      "avg velocity for Siri: 0.0025498717550520864\n",
      "avg velocity for Mathilde: 0.002128123452666831\n",
      "avg velocity for Pedro: 0.0022421798564821256\n",
      "avg velocity for Amir: 0.0025821181981955346\n"
     ]
    },
    {
     "data": {
      "image/png": "[encoded data removed]",
      "text/plain": [
       "<Figure size 432x288 with 1 Axes>"
      ]
     },
     "metadata": {
      "needs_background": "light"
     },
     "output_type": "display_data"
    },
    {
     "data": {
      "image/png": "[encoded data removed]",
      "text/plain": [
       "<Figure size 432x288 with 1 Axes>"
      ]
     },
     "metadata": {
      "needs_background": "light"
     },
     "output_type": "display_data"
    },
    {
     "data": {
      "image/png": "[encoded data removed]",
      "text/plain": [
       "<Figure size 432x288 with 1 Axes>"
      ]
     },
     "metadata": {
      "needs_background": "light"
     },
     "output_type": "display_data"
    },
    {
     "data": {
      "image/png": "[encoded data removed]",
      "text/plain": [
       "<Figure size 432x288 with 1 Axes>"
      ]
     },
     "metadata": {
      "needs_background": "light"
     },
     "output_type": "display_data"
    },
    {
     "data": {
      "image/png": "[encoded data removed]",
      "text/plain": [
       "<Figure size 432x288 with 1 Axes>"
      ]
     },
     "metadata": {
      "needs_background": "light"
     },
     "output_type": "display_data"
    },
    {
     "data": {
      "image/png": "[encoded data removed]",
      "text/plain": [
       "<Figure size 432x288 with 1 Axes>"
      ]
     },
     "metadata": {
      "needs_background": "light"
     },
     "output_type": "display_data"
    }
   ],
   "source": [
    "for participant in sacc_with_dist['Participant name'].unique():\n",
    "    velocity = [ v for v in sacc_with_dist[sacc_with_dist['Participant name'] == participant]['Saccade velocity'].values if v > 0]\n",
    "    print(f\"avg velocity for {participant}: {sum(velocity) / len(velocity)}\") \n",
    "    hist = sacc_with_dist[sacc_with_dist['Participant name'] == participant].hist(column='Saccade velocity', bins=100)[0][0]\n",
    "    hist.set_title(f'Saccade velocity, {participant}')\n",
    "    hist.set_xlabel('Velocity (normalized distance / ms)')"
   ]
  },
  {
   "cell_type": "code",
   "execution_count": null,
   "metadata": {},
   "outputs": [],
   "source": []
  }
 ],
 "metadata": {
  "kernelspec": {
   "display_name": "Python 3",
   "language": "python",
   "name": "python3"
  },
  "language_info": {
   "codemirror_mode": {
    "name": "ipython",
    "version": 3
   },
   "file_extension": ".py",
   "mimetype": "text/x-python",
   "name": "python",
   "nbconvert_exporter": "python",
   "pygments_lexer": "ipython3",
   "version": "3.7.9"
  }
 },
 "nbformat": 4,
 "nbformat_minor": 4
}
