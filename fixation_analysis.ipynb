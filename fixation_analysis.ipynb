{
 "cells": [
  {
   "cell_type": "code",
   "execution_count": 1,
   "metadata": {},
   "outputs": [],
   "source": [
    "import pandas as pd"
   ]
  },
  {
   "cell_type": "markdown",
   "metadata": {},
   "source": [
    "Read data"
   ]
  },
  {
   "cell_type": "code",
   "execution_count": 415,
   "metadata": {},
   "outputs": [
    {
     "data": {
      "text/html": [
       "<div>\n",
       "<style scoped>\n",
       "    .dataframe tbody tr th:only-of-type {\n",
       "        vertical-align: middle;\n",
       "    }\n",
       "\n",
       "    .dataframe tbody tr th {\n",
       "        vertical-align: top;\n",
       "    }\n",
       "\n",
       "    .dataframe thead th {\n",
       "        text-align: right;\n",
       "    }\n",
       "</style>\n",
       "<table border=\"1\" class=\"dataframe\">\n",
       "  <thead>\n",
       "    <tr style=\"text-align: right;\">\n",
       "      <th></th>\n",
       "      <th>Recording timestamp</th>\n",
       "      <th>Computer timestamp</th>\n",
       "      <th>Sensor</th>\n",
       "      <th>Project name</th>\n",
       "      <th>Participant name</th>\n",
       "      <th>Recording name</th>\n",
       "      <th>Recording duration</th>\n",
       "      <th>Timeline name</th>\n",
       "      <th>Recording Fixation filter name</th>\n",
       "      <th>Recording software version</th>\n",
       "      <th>...</th>\n",
       "      <th>Fixation point X</th>\n",
       "      <th>Fixation point Y</th>\n",
       "      <th>Fixation point X (MCSnorm)</th>\n",
       "      <th>Fixation point Y (MCSnorm)</th>\n",
       "      <th>Viewport position X</th>\n",
       "      <th>Viewport position Y</th>\n",
       "      <th>Viewport width</th>\n",
       "      <th>Viewport height</th>\n",
       "      <th>Mouse position X</th>\n",
       "      <th>Mouse position Y</th>\n",
       "    </tr>\n",
       "  </thead>\n",
       "  <tbody>\n",
       "    <tr>\n",
       "      <th>0</th>\n",
       "      <td>0</td>\n",
       "      <td>1022924105192</td>\n",
       "      <td>NaN</td>\n",
       "      <td>Gaze_model1</td>\n",
       "      <td>Einar</td>\n",
       "      <td>Recording3</td>\n",
       "      <td>169944</td>\n",
       "      <td>Timeline1</td>\n",
       "      <td>Tobii I-VT (Fixation)</td>\n",
       "      <td>1.145.28180</td>\n",
       "      <td>...</td>\n",
       "      <td>NaN</td>\n",
       "      <td>NaN</td>\n",
       "      <td>NaN</td>\n",
       "      <td>NaN</td>\n",
       "      <td>NaN</td>\n",
       "      <td>NaN</td>\n",
       "      <td>NaN</td>\n",
       "      <td>NaN</td>\n",
       "      <td>NaN</td>\n",
       "      <td>NaN</td>\n",
       "    </tr>\n",
       "    <tr>\n",
       "      <th>1</th>\n",
       "      <td>12438</td>\n",
       "      <td>1022924117630</td>\n",
       "      <td>Mouse</td>\n",
       "      <td>Gaze_model1</td>\n",
       "      <td>Einar</td>\n",
       "      <td>Recording3</td>\n",
       "      <td>169944</td>\n",
       "      <td>Timeline1</td>\n",
       "      <td>Tobii I-VT (Fixation)</td>\n",
       "      <td>1.145.28180</td>\n",
       "      <td>...</td>\n",
       "      <td>NaN</td>\n",
       "      <td>NaN</td>\n",
       "      <td>NaN</td>\n",
       "      <td>NaN</td>\n",
       "      <td>NaN</td>\n",
       "      <td>NaN</td>\n",
       "      <td>NaN</td>\n",
       "      <td>NaN</td>\n",
       "      <td>-915.0</td>\n",
       "      <td>486.0</td>\n",
       "    </tr>\n",
       "    <tr>\n",
       "      <th>2</th>\n",
       "      <td>28861</td>\n",
       "      <td>1022924134053</td>\n",
       "      <td>Mouse</td>\n",
       "      <td>Gaze_model1</td>\n",
       "      <td>Einar</td>\n",
       "      <td>Recording3</td>\n",
       "      <td>169944</td>\n",
       "      <td>Timeline1</td>\n",
       "      <td>Tobii I-VT (Fixation)</td>\n",
       "      <td>1.145.28180</td>\n",
       "      <td>...</td>\n",
       "      <td>NaN</td>\n",
       "      <td>NaN</td>\n",
       "      <td>NaN</td>\n",
       "      <td>NaN</td>\n",
       "      <td>NaN</td>\n",
       "      <td>NaN</td>\n",
       "      <td>NaN</td>\n",
       "      <td>NaN</td>\n",
       "      <td>-924.0</td>\n",
       "      <td>477.0</td>\n",
       "    </tr>\n",
       "    <tr>\n",
       "      <th>3</th>\n",
       "      <td>44674</td>\n",
       "      <td>1022924149866</td>\n",
       "      <td>Mouse</td>\n",
       "      <td>Gaze_model1</td>\n",
       "      <td>Einar</td>\n",
       "      <td>Recording3</td>\n",
       "      <td>169944</td>\n",
       "      <td>Timeline1</td>\n",
       "      <td>Tobii I-VT (Fixation)</td>\n",
       "      <td>1.145.28180</td>\n",
       "      <td>...</td>\n",
       "      <td>NaN</td>\n",
       "      <td>NaN</td>\n",
       "      <td>NaN</td>\n",
       "      <td>NaN</td>\n",
       "      <td>NaN</td>\n",
       "      <td>NaN</td>\n",
       "      <td>NaN</td>\n",
       "      <td>NaN</td>\n",
       "      <td>-926.0</td>\n",
       "      <td>473.0</td>\n",
       "    </tr>\n",
       "    <tr>\n",
       "      <th>4</th>\n",
       "      <td>94205</td>\n",
       "      <td>1022924199397</td>\n",
       "      <td>Eye Tracker</td>\n",
       "      <td>Gaze_model1</td>\n",
       "      <td>Einar</td>\n",
       "      <td>Recording3</td>\n",
       "      <td>169944</td>\n",
       "      <td>Timeline1</td>\n",
       "      <td>Tobii I-VT (Fixation)</td>\n",
       "      <td>1.145.28180</td>\n",
       "      <td>...</td>\n",
       "      <td>NaN</td>\n",
       "      <td>NaN</td>\n",
       "      <td>NaN</td>\n",
       "      <td>NaN</td>\n",
       "      <td>NaN</td>\n",
       "      <td>NaN</td>\n",
       "      <td>NaN</td>\n",
       "      <td>NaN</td>\n",
       "      <td>NaN</td>\n",
       "      <td>NaN</td>\n",
       "    </tr>\n",
       "  </tbody>\n",
       "</table>\n",
       "<p>5 rows × 79 columns</p>\n",
       "</div>"
      ],
      "text/plain": [
       "   Recording timestamp  Computer timestamp       Sensor Project name  \\\n",
       "0                    0       1022924105192          NaN  Gaze_model1   \n",
       "1                12438       1022924117630        Mouse  Gaze_model1   \n",
       "2                28861       1022924134053        Mouse  Gaze_model1   \n",
       "3                44674       1022924149866        Mouse  Gaze_model1   \n",
       "4                94205       1022924199397  Eye Tracker  Gaze_model1   \n",
       "\n",
       "  Participant name Recording name  Recording duration Timeline name  \\\n",
       "0            Einar     Recording3              169944     Timeline1   \n",
       "1            Einar     Recording3              169944     Timeline1   \n",
       "2            Einar     Recording3              169944     Timeline1   \n",
       "3            Einar     Recording3              169944     Timeline1   \n",
       "4            Einar     Recording3              169944     Timeline1   \n",
       "\n",
       "  Recording Fixation filter name Recording software version  ...  \\\n",
       "0          Tobii I-VT (Fixation)                1.145.28180  ...   \n",
       "1          Tobii I-VT (Fixation)                1.145.28180  ...   \n",
       "2          Tobii I-VT (Fixation)                1.145.28180  ...   \n",
       "3          Tobii I-VT (Fixation)                1.145.28180  ...   \n",
       "4          Tobii I-VT (Fixation)                1.145.28180  ...   \n",
       "\n",
       "   Fixation point X  Fixation point Y Fixation point X (MCSnorm)  \\\n",
       "0               NaN               NaN                        NaN   \n",
       "1               NaN               NaN                        NaN   \n",
       "2               NaN               NaN                        NaN   \n",
       "3               NaN               NaN                        NaN   \n",
       "4               NaN               NaN                        NaN   \n",
       "\n",
       "  Fixation point Y (MCSnorm) Viewport position X Viewport position Y  \\\n",
       "0                        NaN                 NaN                 NaN   \n",
       "1                        NaN                 NaN                 NaN   \n",
       "2                        NaN                 NaN                 NaN   \n",
       "3                        NaN                 NaN                 NaN   \n",
       "4                        NaN                 NaN                 NaN   \n",
       "\n",
       "  Viewport width Viewport height Mouse position X  Mouse position Y  \n",
       "0            NaN             NaN              NaN               NaN  \n",
       "1            NaN             NaN           -915.0             486.0  \n",
       "2            NaN             NaN           -924.0             477.0  \n",
       "3            NaN             NaN           -926.0             473.0  \n",
       "4            NaN             NaN              NaN               NaN  \n",
       "\n",
       "[5 rows x 79 columns]"
      ]
     },
     "execution_count": 415,
     "metadata": {},
     "output_type": "execute_result"
    }
   ],
   "source": [
    "df = pd.read_csv(\"einar_siri_fixation.tsv\", sep='\\t')\n",
    "df.head()"
   ]
  },
  {
   "cell_type": "markdown",
   "metadata": {},
   "source": [
    "The dataframe consists of 79 columns! As such we have to perform a bit of cleaning:"
   ]
  },
  {
   "cell_type": "code",
   "execution_count": 416,
   "metadata": {},
   "outputs": [],
   "source": [
    "cols_to_keep = ['Recording timestamp', 'Participant name', 'Recording name', 'Gaze point X (MCSnorm)', 'Gaze point Y (MCSnorm)','Eye movement type', 'Eye movement type index','Gaze event duration', 'Fixation point X (MCSnorm)', 'Fixation point Y (MCSnorm)', 'Presented Media name']\n",
    "df = df[cols_to_keep]"
   ]
  },
  {
   "cell_type": "markdown",
   "metadata": {},
   "source": [
    "A big part of the data consists of the calibration part of the experiments.\n",
    "This has to be discarded, which we do by only keeping the rows where the participant looks at the picture in the experiment."
   ]
  },
  {
   "cell_type": "code",
   "execution_count": 418,
   "metadata": {},
   "outputs": [],
   "source": [
    "df = df[df[\"Presented Media name\"] == 'test1.png']\n",
    "df = df[df[\"Eye movement type\"] == \"Fixation\"]"
   ]
  },
  {
   "cell_type": "markdown",
   "metadata": {},
   "source": [
    "Since our aim is to look at each fixation, we need to keep just one row for each invidual fixation.\n",
    "They are organized by `'Eye movement type index'`. Because different recordings can contain the same eye movement indices, we only discard the ones that are consecutively identical."
   ]
  },
  {
   "cell_type": "code",
   "execution_count": 419,
   "metadata": {},
   "outputs": [],
   "source": [
    "unique_fixations = df[df['Eye movement type index'] != df['Eye movement type index'].shift(1)]"
   ]
  },
  {
   "cell_type": "markdown",
   "metadata": {},
   "source": [
    "Two histograms of fixation duration (same principle just different libraries)"
   ]
  },
  {
   "cell_type": "code",
   "execution_count": 420,
   "metadata": {},
   "outputs": [
    {
     "data": {
      "text/plain": [
       "array([[<AxesSubplot:title={'center':'Gaze event duration'}>]],\n",
       "      dtype=object)"
      ]
     },
     "execution_count": 420,
     "metadata": {},
     "output_type": "execute_result"
    },
    {
     "data": {
      "image/png": "[encoded data removed]",
      "text/plain": [
       "<Figure size 432x288 with 1 Axes>"
      ]
     },
     "metadata": {
      "needs_background": "light"
     },
     "output_type": "display_data"
    }
   ],
   "source": [
    "unique_fixations.hist(column='Gaze event duration', bins=100)"
   ]
  },
  {
   "cell_type": "code",
   "execution_count": 421,
   "metadata": {},
   "outputs": [
    {
     "data": {
      "application/vnd.plotly.v1+json": {
       "config": {
        "plotlyServerURL": "https://plot.ly"
       },
       "data": [
        {
         "alignmentgroup": "True",
         "bingroup": "x",
         "hovertemplate": "Gaze event duration=%{x}<br>count=%{y}<extra></extra>",
         "legendgroup": "",
         "marker": {
          "color": "#636efa"
         },
         "name": "",
         "nbinsx": 50,
         "offsetgroup": "",
         "orientation": "v",
         "showlegend": false,
         "type": "histogram",
         "x": [
          125,
          375,
          108,
          100,
          75,
          150,
          242,
          200,
          75,
          92,
          183,
          208,
          108,
          283,
          133,
          92,
          67,
          117,
          100,
          83,
          75,
          75,
          83,
          75,
          92,
          92,
          83,
          192,
          433,
          225,
          200,
          183,
          75,
          83,
          67,
          150,
          67,
          75,
          75,
          125,
          200,
          167,
          200,
          75,
          133,
          83,
          67,
          342,
          233,
          75,
          183,
          342,
          108,
          192,
          142,
          100,
          200,
          100,
          67,
          125,
          83,
          67,
          92,
          67,
          92,
          67,
          200,
          125,
          308,
          125,
          225,
          125,
          83,
          183,
          300,
          150,
          142,
          75,
          100,
          175,
          150,
          317,
          125,
          158,
          167,
          167,
          267,
          75,
          67,
          125,
          167,
          267,
          192,
          367,
          150,
          275,
          167,
          75,
          75,
          125,
          92,
          208,
          158,
          150,
          83,
          408,
          475,
          267,
          200,
          92,
          425,
          492,
          450,
          83,
          258,
          158,
          83,
          267,
          67,
          142,
          208,
          250,
          75,
          125,
          83,
          108,
          142,
          150,
          67,
          175,
          492,
          158,
          233,
          1033,
          308,
          300,
          267,
          425,
          267,
          83,
          142,
          225,
          75,
          175,
          292,
          233,
          300,
          167,
          67,
          158,
          150,
          325,
          275,
          950,
          475,
          117,
          333,
          583,
          292,
          133,
          92,
          417,
          92,
          325,
          400,
          275,
          467,
          133,
          208,
          317,
          317,
          217,
          433,
          192,
          67,
          158,
          158,
          142,
          83,
          192,
          117,
          108,
          108,
          100,
          283,
          67,
          100,
          92,
          125,
          100,
          83,
          242,
          142,
          142,
          117,
          175,
          175,
          83,
          67,
          200,
          83,
          100,
          200,
          167,
          142,
          242,
          133,
          208,
          67,
          108,
          208,
          150,
          67,
          117,
          108,
          475,
          92,
          125,
          92,
          183,
          350,
          200,
          117,
          258,
          75,
          217,
          217,
          83,
          67,
          67,
          283,
          150,
          83,
          100,
          67,
          250,
          117,
          100,
          67,
          158,
          108,
          150,
          67,
          75,
          75,
          142,
          183,
          258,
          258,
          242,
          117,
          208,
          67,
          108,
          67,
          83,
          158,
          233,
          67,
          75,
          150,
          67,
          75,
          317,
          392,
          183,
          100,
          125,
          83,
          133,
          425,
          117,
          67,
          125,
          67,
          142,
          117,
          75,
          83,
          283,
          642,
          150,
          133,
          83,
          142,
          342,
          133,
          233,
          217,
          442,
          83,
          83,
          92,
          133,
          217,
          142,
          133,
          192,
          175,
          92,
          192,
          92,
          75,
          233,
          108,
          75,
          92,
          233,
          83,
          175,
          92,
          125,
          100,
          308,
          158,
          133,
          83,
          67,
          150,
          75,
          108,
          158,
          108,
          92,
          125,
          167,
          67,
          200,
          67,
          125,
          158,
          83,
          83,
          283,
          92,
          100,
          67,
          175,
          108,
          92,
          200,
          183,
          250,
          150,
          158,
          133,
          125,
          125,
          108,
          192,
          67,
          67,
          283,
          167,
          150,
          67,
          358,
          217,
          425,
          450,
          258,
          283,
          167,
          92,
          83,
          142,
          233,
          92,
          100,
          283,
          308,
          308,
          100,
          125,
          108,
          258,
          217,
          158,
          225,
          233,
          100,
          75,
          558,
          75,
          108,
          108,
          117,
          183,
          308,
          258,
          150,
          133,
          233,
          308,
          183,
          325,
          175,
          592
         ],
         "xaxis": "x",
         "yaxis": "y"
        }
       ],
       "layout": {
        "barmode": "relative",
        "legend": {
         "tracegroupgap": 0
        },
        "margin": {
         "t": 60
        },
        "template": {
         "data": {
          "bar": [
           {
            "error_x": {
             "color": "#2a3f5f"
            },
            "error_y": {
             "color": "#2a3f5f"
            },
            "marker": {
             "line": {
              "color": "#E5ECF6",
              "width": 0.5
             }
            },
            "type": "bar"
           }
          ],
          "barpolar": [
           {
            "marker": {
             "line": {
              "color": "#E5ECF6",
              "width": 0.5
             }
            },
            "type": "barpolar"
           }
          ],
          "carpet": [
           {
            "aaxis": {
             "endlinecolor": "#2a3f5f",
             "gridcolor": "white",
             "linecolor": "white",
             "minorgridcolor": "white",
             "startlinecolor": "#2a3f5f"
            },
            "baxis": {
             "endlinecolor": "#2a3f5f",
             "gridcolor": "white",
             "linecolor": "white",
             "minorgridcolor": "white",
             "startlinecolor": "#2a3f5f"
            },
            "type": "carpet"
           }
          ],
          "choropleth": [
           {
            "colorbar": {
             "outlinewidth": 0,
             "ticks": ""
            },
            "type": "choropleth"
           }
          ],
          "contour": [
           {
            "colorbar": {
             "outlinewidth": 0,
             "ticks": ""
            },
            "colorscale": [
             [
              0,
              "#0d0887"
             ],
             [
              0.1111111111111111,
              "#46039f"
             ],
             [
              0.2222222222222222,
              "#7201a8"
             ],
             [
              0.3333333333333333,
              "#9c179e"
             ],
             [
              0.4444444444444444,
              "#bd3786"
             ],
             [
              0.5555555555555556,
              "#d8576b"
             ],
             [
              0.6666666666666666,
              "#ed7953"
             ],
             [
              0.7777777777777778,
              "#fb9f3a"
             ],
             [
              0.8888888888888888,
              "#fdca26"
             ],
             [
              1,
              "#f0f921"
             ]
            ],
            "type": "contour"
           }
          ],
          "contourcarpet": [
           {
            "colorbar": {
             "outlinewidth": 0,
             "ticks": ""
            },
            "type": "contourcarpet"
           }
          ],
          "heatmap": [
           {
            "colorbar": {
             "outlinewidth": 0,
             "ticks": ""
            },
            "colorscale": [
             [
              0,
              "#0d0887"
             ],
             [
              0.1111111111111111,
              "#46039f"
             ],
             [
              0.2222222222222222,
              "#7201a8"
             ],
             [
              0.3333333333333333,
              "#9c179e"
             ],
             [
              0.4444444444444444,
              "#bd3786"
             ],
             [
              0.5555555555555556,
              "#d8576b"
             ],
             [
              0.6666666666666666,
              "#ed7953"
             ],
             [
              0.7777777777777778,
              "#fb9f3a"
             ],
             [
              0.8888888888888888,
              "#fdca26"
             ],
             [
              1,
              "#f0f921"
             ]
            ],
            "type": "heatmap"
           }
          ],
          "heatmapgl": [
           {
            "colorbar": {
             "outlinewidth": 0,
             "ticks": ""
            },
            "colorscale": [
             [
              0,
              "#0d0887"
             ],
             [
              0.1111111111111111,
              "#46039f"
             ],
             [
              0.2222222222222222,
              "#7201a8"
             ],
             [
              0.3333333333333333,
              "#9c179e"
             ],
             [
              0.4444444444444444,
              "#bd3786"
             ],
             [
              0.5555555555555556,
              "#d8576b"
             ],
             [
              0.6666666666666666,
              "#ed7953"
             ],
             [
              0.7777777777777778,
              "#fb9f3a"
             ],
             [
              0.8888888888888888,
              "#fdca26"
             ],
             [
              1,
              "#f0f921"
             ]
            ],
            "type": "heatmapgl"
           }
          ],
          "histogram": [
           {
            "marker": {
             "colorbar": {
              "outlinewidth": 0,
              "ticks": ""
             }
            },
            "type": "histogram"
           }
          ],
          "histogram2d": [
           {
            "colorbar": {
             "outlinewidth": 0,
             "ticks": ""
            },
            "colorscale": [
             [
              0,
              "#0d0887"
             ],
             [
              0.1111111111111111,
              "#46039f"
             ],
             [
              0.2222222222222222,
              "#7201a8"
             ],
             [
              0.3333333333333333,
              "#9c179e"
             ],
             [
              0.4444444444444444,
              "#bd3786"
             ],
             [
              0.5555555555555556,
              "#d8576b"
             ],
             [
              0.6666666666666666,
              "#ed7953"
             ],
             [
              0.7777777777777778,
              "#fb9f3a"
             ],
             [
              0.8888888888888888,
              "#fdca26"
             ],
             [
              1,
              "#f0f921"
             ]
            ],
            "type": "histogram2d"
           }
          ],
          "histogram2dcontour": [
           {
            "colorbar": {
             "outlinewidth": 0,
             "ticks": ""
            },
            "colorscale": [
             [
              0,
              "#0d0887"
             ],
             [
              0.1111111111111111,
              "#46039f"
             ],
             [
              0.2222222222222222,
              "#7201a8"
             ],
             [
              0.3333333333333333,
              "#9c179e"
             ],
             [
              0.4444444444444444,
              "#bd3786"
             ],
             [
              0.5555555555555556,
              "#d8576b"
             ],
             [
              0.6666666666666666,
              "#ed7953"
             ],
             [
              0.7777777777777778,
              "#fb9f3a"
             ],
             [
              0.8888888888888888,
              "#fdca26"
             ],
             [
              1,
              "#f0f921"
             ]
            ],
            "type": "histogram2dcontour"
           }
          ],
          "mesh3d": [
           {
            "colorbar": {
             "outlinewidth": 0,
             "ticks": ""
            },
            "type": "mesh3d"
           }
          ],
          "parcoords": [
           {
            "line": {
             "colorbar": {
              "outlinewidth": 0,
              "ticks": ""
             }
            },
            "type": "parcoords"
           }
          ],
          "pie": [
           {
            "automargin": true,
            "type": "pie"
           }
          ],
          "scatter": [
           {
            "marker": {
             "colorbar": {
              "outlinewidth": 0,
              "ticks": ""
             }
            },
            "type": "scatter"
           }
          ],
          "scatter3d": [
           {
            "line": {
             "colorbar": {
              "outlinewidth": 0,
              "ticks": ""
             }
            },
            "marker": {
             "colorbar": {
              "outlinewidth": 0,
              "ticks": ""
             }
            },
            "type": "scatter3d"
           }
          ],
          "scattercarpet": [
           {
            "marker": {
             "colorbar": {
              "outlinewidth": 0,
              "ticks": ""
             }
            },
            "type": "scattercarpet"
           }
          ],
          "scattergeo": [
           {
            "marker": {
             "colorbar": {
              "outlinewidth": 0,
              "ticks": ""
             }
            },
            "type": "scattergeo"
           }
          ],
          "scattergl": [
           {
            "marker": {
             "colorbar": {
              "outlinewidth": 0,
              "ticks": ""
             }
            },
            "type": "scattergl"
           }
          ],
          "scattermapbox": [
           {
            "marker": {
             "colorbar": {
              "outlinewidth": 0,
              "ticks": ""
             }
            },
            "type": "scattermapbox"
           }
          ],
          "scatterpolar": [
           {
            "marker": {
             "colorbar": {
              "outlinewidth": 0,
              "ticks": ""
             }
            },
            "type": "scatterpolar"
           }
          ],
          "scatterpolargl": [
           {
            "marker": {
             "colorbar": {
              "outlinewidth": 0,
              "ticks": ""
             }
            },
            "type": "scatterpolargl"
           }
          ],
          "scatterternary": [
           {
            "marker": {
             "colorbar": {
              "outlinewidth": 0,
              "ticks": ""
             }
            },
            "type": "scatterternary"
           }
          ],
          "surface": [
           {
            "colorbar": {
             "outlinewidth": 0,
             "ticks": ""
            },
            "colorscale": [
             [
              0,
              "#0d0887"
             ],
             [
              0.1111111111111111,
              "#46039f"
             ],
             [
              0.2222222222222222,
              "#7201a8"
             ],
             [
              0.3333333333333333,
              "#9c179e"
             ],
             [
              0.4444444444444444,
              "#bd3786"
             ],
             [
              0.5555555555555556,
              "#d8576b"
             ],
             [
              0.6666666666666666,
              "#ed7953"
             ],
             [
              0.7777777777777778,
              "#fb9f3a"
             ],
             [
              0.8888888888888888,
              "#fdca26"
             ],
             [
              1,
              "#f0f921"
             ]
            ],
            "type": "surface"
           }
          ],
          "table": [
           {
            "cells": {
             "fill": {
              "color": "#EBF0F8"
             },
             "line": {
              "color": "white"
             }
            },
            "header": {
             "fill": {
              "color": "#C8D4E3"
             },
             "line": {
              "color": "white"
             }
            },
            "type": "table"
           }
          ]
         },
         "layout": {
          "annotationdefaults": {
           "arrowcolor": "#2a3f5f",
           "arrowhead": 0,
           "arrowwidth": 1
          },
          "coloraxis": {
           "colorbar": {
            "outlinewidth": 0,
            "ticks": ""
           }
          },
          "colorscale": {
           "diverging": [
            [
             0,
             "#8e0152"
            ],
            [
             0.1,
             "#c51b7d"
            ],
            [
             0.2,
             "#de77ae"
            ],
            [
             0.3,
             "#f1b6da"
            ],
            [
             0.4,
             "#fde0ef"
            ],
            [
             0.5,
             "#f7f7f7"
            ],
            [
             0.6,
             "#e6f5d0"
            ],
            [
             0.7,
             "#b8e186"
            ],
            [
             0.8,
             "#7fbc41"
            ],
            [
             0.9,
             "#4d9221"
            ],
            [
             1,
             "#276419"
            ]
           ],
           "sequential": [
            [
             0,
             "#0d0887"
            ],
            [
             0.1111111111111111,
             "#46039f"
            ],
            [
             0.2222222222222222,
             "#7201a8"
            ],
            [
             0.3333333333333333,
             "#9c179e"
            ],
            [
             0.4444444444444444,
             "#bd3786"
            ],
            [
             0.5555555555555556,
             "#d8576b"
            ],
            [
             0.6666666666666666,
             "#ed7953"
            ],
            [
             0.7777777777777778,
             "#fb9f3a"
            ],
            [
             0.8888888888888888,
             "#fdca26"
            ],
            [
             1,
             "#f0f921"
            ]
           ],
           "sequentialminus": [
            [
             0,
             "#0d0887"
            ],
            [
             0.1111111111111111,
             "#46039f"
            ],
            [
             0.2222222222222222,
             "#7201a8"
            ],
            [
             0.3333333333333333,
             "#9c179e"
            ],
            [
             0.4444444444444444,
             "#bd3786"
            ],
            [
             0.5555555555555556,
             "#d8576b"
            ],
            [
             0.6666666666666666,
             "#ed7953"
            ],
            [
             0.7777777777777778,
             "#fb9f3a"
            ],
            [
             0.8888888888888888,
             "#fdca26"
            ],
            [
             1,
             "#f0f921"
            ]
           ]
          },
          "colorway": [
           "#636efa",
           "#EF553B",
           "#00cc96",
           "#ab63fa",
           "#FFA15A",
           "#19d3f3",
           "#FF6692",
           "#B6E880",
           "#FF97FF",
           "#FECB52"
          ],
          "font": {
           "color": "#2a3f5f"
          },
          "geo": {
           "bgcolor": "white",
           "lakecolor": "white",
           "landcolor": "#E5ECF6",
           "showlakes": true,
           "showland": true,
           "subunitcolor": "white"
          },
          "hoverlabel": {
           "align": "left"
          },
          "hovermode": "closest",
          "mapbox": {
           "style": "light"
          },
          "paper_bgcolor": "white",
          "plot_bgcolor": "#E5ECF6",
          "polar": {
           "angularaxis": {
            "gridcolor": "white",
            "linecolor": "white",
            "ticks": ""
           },
           "bgcolor": "#E5ECF6",
           "radialaxis": {
            "gridcolor": "white",
            "linecolor": "white",
            "ticks": ""
           }
          },
          "scene": {
           "xaxis": {
            "backgroundcolor": "#E5ECF6",
            "gridcolor": "white",
            "gridwidth": 2,
            "linecolor": "white",
            "showbackground": true,
            "ticks": "",
            "zerolinecolor": "white"
           },
           "yaxis": {
            "backgroundcolor": "#E5ECF6",
            "gridcolor": "white",
            "gridwidth": 2,
            "linecolor": "white",
            "showbackground": true,
            "ticks": "",
            "zerolinecolor": "white"
           },
           "zaxis": {
            "backgroundcolor": "#E5ECF6",
            "gridcolor": "white",
            "gridwidth": 2,
            "linecolor": "white",
            "showbackground": true,
            "ticks": "",
            "zerolinecolor": "white"
           }
          },
          "shapedefaults": {
           "line": {
            "color": "#2a3f5f"
           }
          },
          "ternary": {
           "aaxis": {
            "gridcolor": "white",
            "linecolor": "white",
            "ticks": ""
           },
           "baxis": {
            "gridcolor": "white",
            "linecolor": "white",
            "ticks": ""
           },
           "bgcolor": "#E5ECF6",
           "caxis": {
            "gridcolor": "white",
            "linecolor": "white",
            "ticks": ""
           }
          },
          "title": {
           "x": 0.05
          },
          "xaxis": {
           "automargin": true,
           "gridcolor": "white",
           "linecolor": "white",
           "ticks": "",
           "title": {
            "standoff": 15
           },
           "zerolinecolor": "white",
           "zerolinewidth": 2
          },
          "yaxis": {
           "automargin": true,
           "gridcolor": "white",
           "linecolor": "white",
           "ticks": "",
           "title": {
            "standoff": 15
           },
           "zerolinecolor": "white",
           "zerolinewidth": 2
          }
         }
        },
        "xaxis": {
         "anchor": "y",
         "domain": [
          0,
          1
         ],
         "title": {
          "text": "Gaze event duration"
         }
        },
        "yaxis": {
         "anchor": "x",
         "domain": [
          0,
          1
         ],
         "title": {
          "text": "count"
         }
        }
       }
      },
      "text/html": [
       "<div>\n",
       "        \n",
       "        \n",
       "            <div id=\"e017fc75-284b-463f-b198-aa5c98081798\" class=\"plotly-graph-div\" style=\"height:525px; width:100%;\"></div>\n",
       "            <script type=\"text/javascript\">\n",
       "                require([\"plotly\"], function(Plotly) {\n",
       "                    window.PLOTLYENV=window.PLOTLYENV || {};\n",
       "                    \n",
       "                if (document.getElementById(\"e017fc75-284b-463f-b198-aa5c98081798\")) {\n",
       "                    Plotly.newPlot(\n",
       "                        'e017fc75-284b-463f-b198-aa5c98081798',\n",
       "                        [{\"alignmentgroup\": \"True\", \"bingroup\": \"x\", \"hovertemplate\": \"Gaze event duration=%{x}<br>count=%{y}<extra></extra>\", \"legendgroup\": \"\", \"marker\": {\"color\": \"#636efa\"}, \"name\": \"\", \"nbinsx\": 50, \"offsetgroup\": \"\", \"orientation\": \"v\", \"showlegend\": false, \"type\": \"histogram\", \"x\": [125.0, 375.0, 108.0, 100.0, 75.0, 150.0, 242.0, 200.0, 75.0, 92.0, 183.0, 208.0, 108.0, 283.0, 133.0, 92.0, 67.0, 117.0, 100.0, 83.0, 75.0, 75.0, 83.0, 75.0, 92.0, 92.0, 83.0, 192.0, 433.0, 225.0, 200.0, 183.0, 75.0, 83.0, 67.0, 150.0, 67.0, 75.0, 75.0, 125.0, 200.0, 167.0, 200.0, 75.0, 133.0, 83.0, 67.0, 342.0, 233.0, 75.0, 183.0, 342.0, 108.0, 192.0, 142.0, 100.0, 200.0, 100.0, 67.0, 125.0, 83.0, 67.0, 92.0, 67.0, 92.0, 67.0, 200.0, 125.0, 308.0, 125.0, 225.0, 125.0, 83.0, 183.0, 300.0, 150.0, 142.0, 75.0, 100.0, 175.0, 150.0, 317.0, 125.0, 158.0, 167.0, 167.0, 267.0, 75.0, 67.0, 125.0, 167.0, 267.0, 192.0, 367.0, 150.0, 275.0, 167.0, 75.0, 75.0, 125.0, 92.0, 208.0, 158.0, 150.0, 83.0, 408.0, 475.0, 267.0, 200.0, 92.0, 425.0, 492.0, 450.0, 83.0, 258.0, 158.0, 83.0, 267.0, 67.0, 142.0, 208.0, 250.0, 75.0, 125.0, 83.0, 108.0, 142.0, 150.0, 67.0, 175.0, 492.0, 158.0, 233.0, 1033.0, 308.0, 300.0, 267.0, 425.0, 267.0, 83.0, 142.0, 225.0, 75.0, 175.0, 292.0, 233.0, 300.0, 167.0, 67.0, 158.0, 150.0, 325.0, 275.0, 950.0, 475.0, 117.0, 333.0, 583.0, 292.0, 133.0, 92.0, 417.0, 92.0, 325.0, 400.0, 275.0, 467.0, 133.0, 208.0, 317.0, 317.0, 217.0, 433.0, 192.0, 67.0, 158.0, 158.0, 142.0, 83.0, 192.0, 117.0, 108.0, 108.0, 100.0, 283.0, 67.0, 100.0, 92.0, 125.0, 100.0, 83.0, 242.0, 142.0, 142.0, 117.0, 175.0, 175.0, 83.0, 67.0, 200.0, 83.0, 100.0, 200.0, 167.0, 142.0, 242.0, 133.0, 208.0, 67.0, 108.0, 208.0, 150.0, 67.0, 117.0, 108.0, 475.0, 92.0, 125.0, 92.0, 183.0, 350.0, 200.0, 117.0, 258.0, 75.0, 217.0, 217.0, 83.0, 67.0, 67.0, 283.0, 150.0, 83.0, 100.0, 67.0, 250.0, 117.0, 100.0, 67.0, 158.0, 108.0, 150.0, 67.0, 75.0, 75.0, 142.0, 183.0, 258.0, 258.0, 242.0, 117.0, 208.0, 67.0, 108.0, 67.0, 83.0, 158.0, 233.0, 67.0, 75.0, 150.0, 67.0, 75.0, 317.0, 392.0, 183.0, 100.0, 125.0, 83.0, 133.0, 425.0, 117.0, 67.0, 125.0, 67.0, 142.0, 117.0, 75.0, 83.0, 283.0, 642.0, 150.0, 133.0, 83.0, 142.0, 342.0, 133.0, 233.0, 217.0, 442.0, 83.0, 83.0, 92.0, 133.0, 217.0, 142.0, 133.0, 192.0, 175.0, 92.0, 192.0, 92.0, 75.0, 233.0, 108.0, 75.0, 92.0, 233.0, 83.0, 175.0, 92.0, 125.0, 100.0, 308.0, 158.0, 133.0, 83.0, 67.0, 150.0, 75.0, 108.0, 158.0, 108.0, 92.0, 125.0, 167.0, 67.0, 200.0, 67.0, 125.0, 158.0, 83.0, 83.0, 283.0, 92.0, 100.0, 67.0, 175.0, 108.0, 92.0, 200.0, 183.0, 250.0, 150.0, 158.0, 133.0, 125.0, 125.0, 108.0, 192.0, 67.0, 67.0, 283.0, 167.0, 150.0, 67.0, 358.0, 217.0, 425.0, 450.0, 258.0, 283.0, 167.0, 92.0, 83.0, 142.0, 233.0, 92.0, 100.0, 283.0, 308.0, 308.0, 100.0, 125.0, 108.0, 258.0, 217.0, 158.0, 225.0, 233.0, 100.0, 75.0, 558.0, 75.0, 108.0, 108.0, 117.0, 183.0, 308.0, 258.0, 150.0, 133.0, 233.0, 308.0, 183.0, 325.0, 175.0, 592.0], \"xaxis\": \"x\", \"yaxis\": \"y\"}],\n",
       "                        {\"barmode\": \"relative\", \"legend\": {\"tracegroupgap\": 0}, \"margin\": {\"t\": 60}, \"template\": {\"data\": {\"bar\": [{\"error_x\": {\"color\": \"#2a3f5f\"}, \"error_y\": {\"color\": \"#2a3f5f\"}, \"marker\": {\"line\": {\"color\": \"#E5ECF6\", \"width\": 0.5}}, \"type\": \"bar\"}], \"barpolar\": [{\"marker\": {\"line\": {\"color\": \"#E5ECF6\", \"width\": 0.5}}, \"type\": \"barpolar\"}], \"carpet\": [{\"aaxis\": {\"endlinecolor\": \"#2a3f5f\", \"gridcolor\": \"white\", \"linecolor\": \"white\", \"minorgridcolor\": \"white\", \"startlinecolor\": \"#2a3f5f\"}, \"baxis\": {\"endlinecolor\": \"#2a3f5f\", \"gridcolor\": \"white\", \"linecolor\": \"white\", \"minorgridcolor\": \"white\", \"startlinecolor\": \"#2a3f5f\"}, \"type\": \"carpet\"}], \"choropleth\": [{\"colorbar\": {\"outlinewidth\": 0, \"ticks\": \"\"}, \"type\": \"choropleth\"}], \"contour\": [{\"colorbar\": {\"outlinewidth\": 0, \"ticks\": \"\"}, \"colorscale\": [[0.0, \"#0d0887\"], [0.1111111111111111, \"#46039f\"], [0.2222222222222222, \"#7201a8\"], [0.3333333333333333, \"#9c179e\"], [0.4444444444444444, \"#bd3786\"], [0.5555555555555556, \"#d8576b\"], [0.6666666666666666, \"#ed7953\"], [0.7777777777777778, \"#fb9f3a\"], [0.8888888888888888, \"#fdca26\"], [1.0, \"#f0f921\"]], \"type\": \"contour\"}], \"contourcarpet\": [{\"colorbar\": {\"outlinewidth\": 0, \"ticks\": \"\"}, \"type\": \"contourcarpet\"}], \"heatmap\": [{\"colorbar\": {\"outlinewidth\": 0, \"ticks\": \"\"}, \"colorscale\": [[0.0, \"#0d0887\"], [0.1111111111111111, \"#46039f\"], [0.2222222222222222, \"#7201a8\"], [0.3333333333333333, \"#9c179e\"], [0.4444444444444444, \"#bd3786\"], [0.5555555555555556, \"#d8576b\"], [0.6666666666666666, \"#ed7953\"], [0.7777777777777778, \"#fb9f3a\"], [0.8888888888888888, \"#fdca26\"], [1.0, \"#f0f921\"]], \"type\": \"heatmap\"}], \"heatmapgl\": [{\"colorbar\": {\"outlinewidth\": 0, \"ticks\": \"\"}, \"colorscale\": [[0.0, \"#0d0887\"], [0.1111111111111111, \"#46039f\"], [0.2222222222222222, \"#7201a8\"], [0.3333333333333333, \"#9c179e\"], [0.4444444444444444, \"#bd3786\"], [0.5555555555555556, \"#d8576b\"], [0.6666666666666666, \"#ed7953\"], [0.7777777777777778, \"#fb9f3a\"], [0.8888888888888888, \"#fdca26\"], [1.0, \"#f0f921\"]], \"type\": \"heatmapgl\"}], \"histogram\": [{\"marker\": {\"colorbar\": {\"outlinewidth\": 0, \"ticks\": \"\"}}, \"type\": \"histogram\"}], \"histogram2d\": [{\"colorbar\": {\"outlinewidth\": 0, \"ticks\": \"\"}, \"colorscale\": [[0.0, \"#0d0887\"], [0.1111111111111111, \"#46039f\"], [0.2222222222222222, \"#7201a8\"], [0.3333333333333333, \"#9c179e\"], [0.4444444444444444, \"#bd3786\"], [0.5555555555555556, \"#d8576b\"], [0.6666666666666666, \"#ed7953\"], [0.7777777777777778, \"#fb9f3a\"], [0.8888888888888888, \"#fdca26\"], [1.0, \"#f0f921\"]], \"type\": \"histogram2d\"}], \"histogram2dcontour\": [{\"colorbar\": {\"outlinewidth\": 0, \"ticks\": \"\"}, \"colorscale\": [[0.0, \"#0d0887\"], [0.1111111111111111, \"#46039f\"], [0.2222222222222222, \"#7201a8\"], [0.3333333333333333, \"#9c179e\"], [0.4444444444444444, \"#bd3786\"], [0.5555555555555556, \"#d8576b\"], [0.6666666666666666, \"#ed7953\"], [0.7777777777777778, \"#fb9f3a\"], [0.8888888888888888, \"#fdca26\"], [1.0, \"#f0f921\"]], \"type\": \"histogram2dcontour\"}], \"mesh3d\": [{\"colorbar\": {\"outlinewidth\": 0, \"ticks\": \"\"}, \"type\": \"mesh3d\"}], \"parcoords\": [{\"line\": {\"colorbar\": {\"outlinewidth\": 0, \"ticks\": \"\"}}, \"type\": \"parcoords\"}], \"pie\": [{\"automargin\": true, \"type\": \"pie\"}], \"scatter\": [{\"marker\": {\"colorbar\": {\"outlinewidth\": 0, \"ticks\": \"\"}}, \"type\": \"scatter\"}], \"scatter3d\": [{\"line\": {\"colorbar\": {\"outlinewidth\": 0, \"ticks\": \"\"}}, \"marker\": {\"colorbar\": {\"outlinewidth\": 0, \"ticks\": \"\"}}, \"type\": \"scatter3d\"}], \"scattercarpet\": [{\"marker\": {\"colorbar\": {\"outlinewidth\": 0, \"ticks\": \"\"}}, \"type\": \"scattercarpet\"}], \"scattergeo\": [{\"marker\": {\"colorbar\": {\"outlinewidth\": 0, \"ticks\": \"\"}}, \"type\": \"scattergeo\"}], \"scattergl\": [{\"marker\": {\"colorbar\": {\"outlinewidth\": 0, \"ticks\": \"\"}}, \"type\": \"scattergl\"}], \"scattermapbox\": [{\"marker\": {\"colorbar\": {\"outlinewidth\": 0, \"ticks\": \"\"}}, \"type\": \"scattermapbox\"}], \"scatterpolar\": [{\"marker\": {\"colorbar\": {\"outlinewidth\": 0, \"ticks\": \"\"}}, \"type\": \"scatterpolar\"}], \"scatterpolargl\": [{\"marker\": {\"colorbar\": {\"outlinewidth\": 0, \"ticks\": \"\"}}, \"type\": \"scatterpolargl\"}], \"scatterternary\": [{\"marker\": {\"colorbar\": {\"outlinewidth\": 0, \"ticks\": \"\"}}, \"type\": \"scatterternary\"}], \"surface\": [{\"colorbar\": {\"outlinewidth\": 0, \"ticks\": \"\"}, \"colorscale\": [[0.0, \"#0d0887\"], [0.1111111111111111, \"#46039f\"], [0.2222222222222222, \"#7201a8\"], [0.3333333333333333, \"#9c179e\"], [0.4444444444444444, \"#bd3786\"], [0.5555555555555556, \"#d8576b\"], [0.6666666666666666, \"#ed7953\"], [0.7777777777777778, \"#fb9f3a\"], [0.8888888888888888, \"#fdca26\"], [1.0, \"#f0f921\"]], \"type\": \"surface\"}], \"table\": [{\"cells\": {\"fill\": {\"color\": \"#EBF0F8\"}, \"line\": {\"color\": \"white\"}}, \"header\": {\"fill\": {\"color\": \"#C8D4E3\"}, \"line\": {\"color\": \"white\"}}, \"type\": \"table\"}]}, \"layout\": {\"annotationdefaults\": {\"arrowcolor\": \"#2a3f5f\", \"arrowhead\": 0, \"arrowwidth\": 1}, \"coloraxis\": {\"colorbar\": {\"outlinewidth\": 0, \"ticks\": \"\"}}, \"colorscale\": {\"diverging\": [[0, \"#8e0152\"], [0.1, \"#c51b7d\"], [0.2, \"#de77ae\"], [0.3, \"#f1b6da\"], [0.4, \"#fde0ef\"], [0.5, \"#f7f7f7\"], [0.6, \"#e6f5d0\"], [0.7, \"#b8e186\"], [0.8, \"#7fbc41\"], [0.9, \"#4d9221\"], [1, \"#276419\"]], \"sequential\": [[0.0, \"#0d0887\"], [0.1111111111111111, \"#46039f\"], [0.2222222222222222, \"#7201a8\"], [0.3333333333333333, \"#9c179e\"], [0.4444444444444444, \"#bd3786\"], [0.5555555555555556, \"#d8576b\"], [0.6666666666666666, \"#ed7953\"], [0.7777777777777778, \"#fb9f3a\"], [0.8888888888888888, \"#fdca26\"], [1.0, \"#f0f921\"]], \"sequentialminus\": [[0.0, \"#0d0887\"], [0.1111111111111111, \"#46039f\"], [0.2222222222222222, \"#7201a8\"], [0.3333333333333333, \"#9c179e\"], [0.4444444444444444, \"#bd3786\"], [0.5555555555555556, \"#d8576b\"], [0.6666666666666666, \"#ed7953\"], [0.7777777777777778, \"#fb9f3a\"], [0.8888888888888888, \"#fdca26\"], [1.0, \"#f0f921\"]]}, \"colorway\": [\"#636efa\", \"#EF553B\", \"#00cc96\", \"#ab63fa\", \"#FFA15A\", \"#19d3f3\", \"#FF6692\", \"#B6E880\", \"#FF97FF\", \"#FECB52\"], \"font\": {\"color\": \"#2a3f5f\"}, \"geo\": {\"bgcolor\": \"white\", \"lakecolor\": \"white\", \"landcolor\": \"#E5ECF6\", \"showlakes\": true, \"showland\": true, \"subunitcolor\": \"white\"}, \"hoverlabel\": {\"align\": \"left\"}, \"hovermode\": \"closest\", \"mapbox\": {\"style\": \"light\"}, \"paper_bgcolor\": \"white\", \"plot_bgcolor\": \"#E5ECF6\", \"polar\": {\"angularaxis\": {\"gridcolor\": \"white\", \"linecolor\": \"white\", \"ticks\": \"\"}, \"bgcolor\": \"#E5ECF6\", \"radialaxis\": {\"gridcolor\": \"white\", \"linecolor\": \"white\", \"ticks\": \"\"}}, \"scene\": {\"xaxis\": {\"backgroundcolor\": \"#E5ECF6\", \"gridcolor\": \"white\", \"gridwidth\": 2, \"linecolor\": \"white\", \"showbackground\": true, \"ticks\": \"\", \"zerolinecolor\": \"white\"}, \"yaxis\": {\"backgroundcolor\": \"#E5ECF6\", \"gridcolor\": \"white\", \"gridwidth\": 2, \"linecolor\": \"white\", \"showbackground\": true, \"ticks\": \"\", \"zerolinecolor\": \"white\"}, \"zaxis\": {\"backgroundcolor\": \"#E5ECF6\", \"gridcolor\": \"white\", \"gridwidth\": 2, \"linecolor\": \"white\", \"showbackground\": true, \"ticks\": \"\", \"zerolinecolor\": \"white\"}}, \"shapedefaults\": {\"line\": {\"color\": \"#2a3f5f\"}}, \"ternary\": {\"aaxis\": {\"gridcolor\": \"white\", \"linecolor\": \"white\", \"ticks\": \"\"}, \"baxis\": {\"gridcolor\": \"white\", \"linecolor\": \"white\", \"ticks\": \"\"}, \"bgcolor\": \"#E5ECF6\", \"caxis\": {\"gridcolor\": \"white\", \"linecolor\": \"white\", \"ticks\": \"\"}}, \"title\": {\"x\": 0.05}, \"xaxis\": {\"automargin\": true, \"gridcolor\": \"white\", \"linecolor\": \"white\", \"ticks\": \"\", \"title\": {\"standoff\": 15}, \"zerolinecolor\": \"white\", \"zerolinewidth\": 2}, \"yaxis\": {\"automargin\": true, \"gridcolor\": \"white\", \"linecolor\": \"white\", \"ticks\": \"\", \"title\": {\"standoff\": 15}, \"zerolinecolor\": \"white\", \"zerolinewidth\": 2}}}, \"xaxis\": {\"anchor\": \"y\", \"domain\": [0.0, 1.0], \"title\": {\"text\": \"Gaze event duration\"}}, \"yaxis\": {\"anchor\": \"x\", \"domain\": [0.0, 1.0], \"title\": {\"text\": \"count\"}}},\n",
       "                        {\"responsive\": true}\n",
       "                    ).then(function(){\n",
       "                            \n",
       "var gd = document.getElementById('e017fc75-284b-463f-b198-aa5c98081798');\n",
       "var x = new MutationObserver(function (mutations, observer) {{\n",
       "        var display = window.getComputedStyle(gd).display;\n",
       "        if (!display || display === 'none') {{\n",
       "            console.log([gd, 'removed!']);\n",
       "            Plotly.purge(gd);\n",
       "            observer.disconnect();\n",
       "        }}\n",
       "}});\n",
       "\n",
       "// Listen for the removal of the full notebook cells\n",
       "var notebookContainer = gd.closest('#notebook-container');\n",
       "if (notebookContainer) {{\n",
       "    x.observe(notebookContainer, {childList: true});\n",
       "}}\n",
       "\n",
       "// Listen for the clearing of the current output cell\n",
       "var outputEl = gd.closest('.output');\n",
       "if (outputEl) {{\n",
       "    x.observe(outputEl, {childList: true});\n",
       "}}\n",
       "\n",
       "                        })\n",
       "                };\n",
       "                });\n",
       "            </script>\n",
       "        </div>"
      ]
     },
     "metadata": {},
     "output_type": "display_data"
    }
   ],
   "source": [
    "import plotly.express as px\n",
    "px.histogram(unique_fixations, x='Gaze event duration', nbins=50)"
   ]
  },
  {
   "cell_type": "markdown",
   "metadata": {},
   "source": [
    "Next up is to analyze the average distance from the beginning to the end of a fixation. We will use this to calibrate our $D$ value.\n",
    "\n",
    "First we need to filter out data so that we end up with the first and last row. We do this by doing the same operation as last time, but this time keeping the last row associated with every 'Eye movement type index'. We then add this to the dataframe with the first row."
   ]
  },
  {
   "cell_type": "code",
   "execution_count": 422,
   "metadata": {},
   "outputs": [],
   "source": [
    "import numpy as np\n",
    "fixations = unique_fixations.append(df[df['Eye movement type index'] != df['Eye movement type index'].shift(-1)])\n",
    "fixations.sort_index(inplace=True)"
   ]
  },
  {
   "cell_type": "markdown",
   "metadata": {},
   "source": [
    "We also need to remove all 'Eye movement type index' where the first or last row contains invalid data for the gaze point."
   ]
  },
  {
   "cell_type": "code",
   "execution_count": 423,
   "metadata": {},
   "outputs": [
    {
     "data": {
      "text/html": [
       "<div>\n",
       "<style scoped>\n",
       "    .dataframe tbody tr th:only-of-type {\n",
       "        vertical-align: middle;\n",
       "    }\n",
       "\n",
       "    .dataframe tbody tr th {\n",
       "        vertical-align: top;\n",
       "    }\n",
       "\n",
       "    .dataframe thead th {\n",
       "        text-align: right;\n",
       "    }\n",
       "</style>\n",
       "<table border=\"1\" class=\"dataframe\">\n",
       "  <thead>\n",
       "    <tr style=\"text-align: right;\">\n",
       "      <th></th>\n",
       "      <th>Recording timestamp</th>\n",
       "      <th>Participant name</th>\n",
       "      <th>Recording name</th>\n",
       "      <th>Gaze point X (MCSnorm)</th>\n",
       "      <th>Gaze point Y (MCSnorm)</th>\n",
       "      <th>Eye movement type</th>\n",
       "      <th>Eye movement type index</th>\n",
       "      <th>Gaze event duration</th>\n",
       "      <th>Fixation point X (MCSnorm)</th>\n",
       "      <th>Fixation point Y (MCSnorm)</th>\n",
       "      <th>Presented Media name</th>\n",
       "    </tr>\n",
       "  </thead>\n",
       "  <tbody>\n",
       "    <tr>\n",
       "      <th>29814</th>\n",
       "      <td>76938035</td>\n",
       "      <td>Siri</td>\n",
       "      <td>Recording4</td>\n",
       "      <td>0,5620</td>\n",
       "      <td>0,0465</td>\n",
       "      <td>Fixation</td>\n",
       "      <td>270.0</td>\n",
       "      <td>108.0</td>\n",
       "      <td>0,5602</td>\n",
       "      <td>0,0219</td>\n",
       "      <td>test1.png</td>\n",
       "    </tr>\n",
       "    <tr>\n",
       "      <th>29826</th>\n",
       "      <td>77038038</td>\n",
       "      <td>Siri</td>\n",
       "      <td>Recording4</td>\n",
       "      <td>NaN</td>\n",
       "      <td>NaN</td>\n",
       "      <td>Fixation</td>\n",
       "      <td>270.0</td>\n",
       "      <td>108.0</td>\n",
       "      <td>0,5602</td>\n",
       "      <td>0,0219</td>\n",
       "      <td>test1.png</td>\n",
       "    </tr>\n",
       "  </tbody>\n",
       "</table>\n",
       "</div>"
      ],
      "text/plain": [
       "       Recording timestamp Participant name Recording name  \\\n",
       "29814             76938035             Siri     Recording4   \n",
       "29826             77038038             Siri     Recording4   \n",
       "\n",
       "      Gaze point X (MCSnorm) Gaze point Y (MCSnorm) Eye movement type  \\\n",
       "29814                 0,5620                 0,0465          Fixation   \n",
       "29826                    NaN                    NaN          Fixation   \n",
       "\n",
       "       Eye movement type index  Gaze event duration  \\\n",
       "29814                    270.0                108.0   \n",
       "29826                    270.0                108.0   \n",
       "\n",
       "      Fixation point X (MCSnorm) Fixation point Y (MCSnorm)  \\\n",
       "29814                     0,5602                     0,0219   \n",
       "29826                     0,5602                     0,0219   \n",
       "\n",
       "      Presented Media name  \n",
       "29814            test1.png  \n",
       "29826            test1.png  "
      ]
     },
     "execution_count": 423,
     "metadata": {},
     "output_type": "execute_result"
    }
   ],
   "source": [
    "# Find all rows where Gaze X or Gaze Y is 'nan'\n",
    "gaze_point_cols = ['Gaze point X (MCSnorm)', 'Gaze point Y (MCSnorm)']\n",
    "nan = fixations[gaze_point_cols].isna()\n",
    "\n",
    "# Create a mask for all rows with an 'Eye movement index' that contains 'nan', with matching 'Participant name'\n",
    "nan_indices = fixations[nan['Gaze point X (MCSnorm)']][['Eye movement type index', 'Participant name']]\n",
    "\n",
    "msk = np.zeros(len(fixations), dtype=bool)\n",
    "\n",
    "for part in nan_indices['Participant name'].unique():\n",
    "    invalid_ids = nan_indices[nan_indices['Participant name'] == part]['Eye movement type index'].values\n",
    "    part_mask = (fixations['Participant name'] == part) & (fixations['Eye movement type index'].isin(invalid_ids))\n",
    "    msk = np.logical_or(msk, part_mask)\n",
    "\n",
    "# Check fixation rows that matches the mask\n",
    "fixations[msk]"
   ]
  },
  {
   "cell_type": "code",
   "execution_count": 428,
   "metadata": {},
   "outputs": [
    {
     "name": "stderr",
     "output_type": "stream",
     "text": [
      "/Users/eskilgaarehostad/miniconda3/envs/data/lib/python3.7/site-packages/ipykernel_launcher.py:2: UserWarning:\n",
      "\n",
      "Boolean Series key will be reindexed to match DataFrame index.\n",
      "\n",
      "/Users/eskilgaarehostad/miniconda3/envs/data/lib/python3.7/site-packages/ipykernel_launcher.py:3: UserWarning:\n",
      "\n",
      "Boolean Series key will be reindexed to match DataFrame index.\n",
      "\n"
     ]
    }
   ],
   "source": [
    "clean_fixations = fixations[~msk]\n",
    "start = clean_fixations[fixations['Eye movement type index'] != fixations['Eye movement type index'].shift(1)]\n",
    "end = clean_fixations[fixations['Eye movement type index'] != fixations['Eye movement type index'].shift(-1)]\n",
    "# convert values from strings to floats\n",
    "start = [ (float(x.replace(',', '.')), float(y.replace(',', '.'))) for x, y in start[gaze_point_cols].values]\n",
    "end = [ (float(x.replace(',', '.')), float(y.replace(',', '.'))) for x, y in end[gaze_point_cols].values]\n",
    "\n",
    "# Calculate distances for each 'Eye movement type index'\n",
    "distances = []\n",
    "for s_point, e_point in zip(start, end):\n",
    "    # np.linalg.norm gives euclidian distance between points\n",
    "    distance = np.linalg.norm(np.array(e_point) - np.array(s_point))\n",
    "    distances.append(distance)"
   ]
  },
  {
   "cell_type": "code",
   "execution_count": 434,
   "metadata": {},
   "outputs": [
    {
     "name": "stderr",
     "output_type": "stream",
     "text": [
      "/Users/eskilgaarehostad/miniconda3/envs/data/lib/python3.7/site-packages/ipykernel_launcher.py:1: UserWarning:\n",
      "\n",
      "Boolean Series key will be reindexed to match DataFrame index.\n",
      "\n",
      "/Users/eskilgaarehostad/miniconda3/envs/data/lib/python3.7/site-packages/ipykernel_launcher.py:2: SettingWithCopyWarning:\n",
      "\n",
      "\n",
      "A value is trying to be set on a copy of a slice from a DataFrame.\n",
      "Try using .loc[row_indexer,col_indexer] = value instead\n",
      "\n",
      "See the caveats in the documentation: https://pandas.pydata.org/pandas-docs/stable/user_guide/indexing.html#returning-a-view-versus-a-copy\n",
      "\n"
     ]
    },
    {
     "data": {
      "text/plain": [
       "Recording timestamp        2.961256e+14\n",
       "Eye movement type index    3.660551e+03\n",
       "Gaze event duration        1.448484e+04\n",
       "Distance                   2.132755e-04\n",
       "dtype: float64"
      ]
     },
     "execution_count": 434,
     "metadata": {},
     "output_type": "execute_result"
    }
   ],
   "source": [
    "fix_with_dist = clean_fixations[fixations['Eye movement type index'] != fixations['Eye movement type index'].shift(1)]\n",
    "fix_with_dist['Distance'] = distances\n",
    "fix_with_dist['Distance'].mean()\n",
    "fix_with_dist.var()\n",
    "\n"
   ]
  },
  {
   "cell_type": "code",
   "execution_count": 430,
   "metadata": {},
   "outputs": [
    {
     "data": {
      "application/vnd.plotly.v1+json": {
       "config": {
        "plotlyServerURL": "https://plot.ly"
       },
       "data": [
        {
         "alignmentgroup": "True",
         "bingroup": "x",
         "hovertemplate": "Distance=%{x}<br>count=%{y}<extra></extra>",
         "legendgroup": "",
         "marker": {
          "color": "#636efa"
         },
         "name": "",
         "nbinsx": 100,
         "offsetgroup": "",
         "orientation": "v",
         "showlegend": false,
         "type": "histogram",
         "x": [
          0.007025667228100124,
          0.005852349955359846,
          0.003206243908376259,
          0.0036124783736376826,
          0.017541379649275008,
          0.011268096556206825,
          0.019220041623263944,
          0.014736349615830925,
          0.01202206305090772,
          0.008324061508662689,
          0.008900000000000014,
          0.013534031180694092,
          0.020652602741543253,
          0.01622652150030932,
          0.03030594001181946,
          0.008417244204607563,
          0.04103084205813965,
          0.027528349024233168,
          0.01947331507473748,
          0.013923002549737636,
          0.05891909707386902,
          0.008700574693662467,
          0.009501578816175811,
          0.023101947969814157,
          0.013227622613304364,
          0.022770595073471348,
          0.024016869071550557,
          0.00724499827467201,
          0.0189952625672824,
          0.016807736313971634,
          0.00877097486029917,
          0.01053944970100425,
          0.008580209787645053,
          0.01370000000000007,
          0.012776932339180673,
          0.008949301648732113,
          0.0769197633901717,
          0.030751422731314402,
          0.025006399181009626,
          0.030237890138037106,
          0.02101166342772504,
          0.025583783926542227,
          0.022343231637343784,
          0.01324386650491465,
          0.008872992730753216,
          0.012788275880665077,
          0.016638509548634463,
          0.009712878049270478,
          0.008702298546935732,
          0.010881176406988356,
          0.025446610776290023,
          0.003944616584663169,
          0.013159027319676749,
          0.01022594738887306,
          0.023747420912595928,
          0.042204265187300694,
          0.0031953090617340904,
          0.0035171010790138652,
          0.014782760229402378,
          0.020593688353473777,
          0.04530518734096571,
          0.01914001044931793,
          0.02337733945512194,
          0.014484819639885085,
          0.011747765745025745,
          0.015871042813879604,
          0.02958546940645018,
          0.012734598540982776,
          0.05542309987721727,
          0.011886967653695357,
          0.012513193037750224,
          0.011808894952534715,
          0.009625487000666498,
          0.009247702417357496,
          0.011217842929904144,
          0.004252058325093866,
          0.011985407794480716,
          0.01908009433938941,
          0.048944866942305654,
          0.05014957626939635,
          0.022872909740564194,
          0.021552262062252275,
          0.00706116137756391,
          0.02368649404196407,
          0.022408257406590082,
          0.036895121628746586,
          0.024007498828491087,
          0.005333854141237799,
          0.013290974381135487,
          0.024523050381222974,
          0.021440149253211836,
          0.018890473789717407,
          0.0074404300950953,
          0.012766362050325821,
          0.0028653097563788883,
          0.009915644204992404,
          0.02937567020512045,
          0.001708800749063565,
          0.038832975677895176,
          0.027707399733645114,
          0.020672929158684836,
          0.018159295140505863,
          0.013206059215375333,
          0.03277575323314479,
          0.013885243966167811,
          0.008802272433866155,
          0.016268988905276213,
          0.013029197979921834,
          0.026981845748576965,
          0.011002272492535355,
          0.016865645555388612,
          0.009818350166906893,
          0.03879858244833179,
          0.005173973328110632,
          0.02283593659125894,
          0.030613885738337746,
          0.008271033792700892,
          0.0374882648304773,
          0.028025167260874617,
          0.019725364381932238,
          0.015469324484281805,
          0.028726468630863783,
          0.01970228413154173,
          0.016459647626847908,
          0.04527692569068712,
          0.018002499826413006,
          0.03080584360149876,
          0.0010999999999999899,
          0.008709190547921191,
          0.018435834670553968,
          0.005024937810560468,
          0.013209844813622912,
          0.03039901314187682,
          0.04062080747597221,
          0.00650000000000004,
          0.013072872675888782,
          0.0047507894080878275,
          0.007009279563549997,
          0.014468241081762527,
          0.017988885457415067,
          0.007410802925459581,
          0.008688498144098335,
          0.004560701700396527,
          0.029420571034566936,
          0.0185625968010944,
          0.02718105958199571,
          0.03595622338344227,
          0.00754320886625848,
          0.009749358953285086,
          0.017972478960900165,
          0.013396268137059667,
          0.008080222769206292,
          0.025333377192944533,
          0.005408326913196001,
          0.0077006493232714005,
          0.004925444142409916,
          0.014822280526288787,
          0.02360783768158356,
          0.023320591759215758,
          0.014094325099131225,
          0.013132021931142188,
          0.010696261028976436,
          0.00733484832835691,
          0.012826534995859163,
          0.007463243262818126,
          0.008832326986700662,
          0.01484890568358491,
          0.018242806801586218,
          0.010377379245262245,
          0.011601724009818496,
          0.010890362712049564,
          0.008910667763978147,
          0.032817373447611514,
          0.02581259382549533,
          0.014171802990445508,
          0.030391610684529367,
          0.04465892967817302,
          0.01601530517973356,
          0.010530906893520597,
          0.013102671483327371,
          0.04760010504190099,
          0.0030610455730027924,
          0.023807561823924767,
          0.015880806024884255,
          0.028991378028648505,
          0.013393281898026408,
          0.008640023148117133,
          0.008944271909999198,
          0.03400014705850553,
          0.027821035207195307,
          0.014571547618561302,
          0.03419195811883256,
          0.006841052550594829,
          0.08199786582588602,
          0.025512349950563142,
          0.03161012496020855,
          0.043094779266171,
          0.02585440001237701,
          0.0331404586570554,
          0.006262587324740482,
          0.008723531395025788,
          0.029565689574234544,
          0.02910000000000006,
          0.014524806367039773,
          0.017438463235044555,
          0.012465151423067394,
          0.022710790386950484,
          0.030366099519036058,
          0.026303041649208516,
          0.01924396009141571,
          0.02389497855198867,
          0.01720029069521794,
          0.021107344693257847,
          0.008044874144447498,
          0.01896786756596532,
          0.018506755523321743,
          0.009160785992479053,
          0.03525124111290266,
          0.018380696395947513,
          0.029084875794818183,
          0.02258007971642266,
          0.006637017402418039,
          0.02302628932329297,
          0.025512545933324617,
          0.03673921610486538,
          0.03345713675734976,
          0.055611869236701535,
          0.004201190307519982,
          0.025682094930125896,
          0.015815182578775337,
          0.054411763434022264,
          0.04421085839474275,
          0.011480853626799709,
          0.05516420941153783,
          0.010900458705944438,
          0.02839894364232588,
          0.04160048076645269,
          0.012847178678604895,
          0.023943683927081925,
          0.0261168527966139,
          0.008254089895318584,
          0.022041097976280635,
          0.03570994259306502,
          0.05438685502950139,
          0.018582787734890558,
          0.015204275714416666,
          0.033460723243827255,
          0.01744161689752416,
          0.023735627229968033,
          0.022377890874700424,
          0.03295238989815456,
          0.0075292761936323884,
          0.013776792079435716,
          0.00880056816347675,
          0.026271086768537018,
          0.028256149773102472,
          0.015337861650177925,
          0.01838477631085023,
          0.021602083232873603,
          0.0021540659228538117,
          0.006129437168288753,
          0.0075690157880664785,
          0.014396180048887947,
          0.04347608538035588,
          0.0391643970973638,
          0.03517172159562281,
          0.04500544411512905,
          0.009400000000000075,
          0.019632880583347917,
          0.017755280904564637,
          0.020682843131445933,
          0.015002999700059977,
          0.037078565236535195,
          0.043318010111268984,
          0.0009219544457292714,
          0.041891407233465024,
          0.021319005605327828,
          0.00833846508657327,
          0.025536248745655674,
          0.019331321734428832,
          0.022363586474445463,
          0.044576451182210576,
          0.02314000864304077,
          0.014863714206079112,
          0.009113725912051559,
          0.017736967046256866,
          0.004701063709417241,
          0.01647786393923676,
          0.027060118255469626,
          0.011094142598686909,
          0.03767771224477412,
          0.02096783250600785,
          0.03979359244903632,
          0.033443983016381296,
          0.025797868128975332,
          0.09245896387046523,
          0.03274522866006586,
          0.03533624201864144,
          0.025144780770569464,
          0.020796393918177284,
          0.014418391033676382,
          0.009192388155425115,
          0.011311056537742153,
          0.0252507425633386,
          0.029386051112730304,
          0.0049000000000000155,
          0.023017601960239005,
          0.016623477373882985,
          0.016493938280471396,
          0.030817202987941678,
          0.014276203977248311,
          0.039770969311798285,
          0.012000416659433117,
          0.035873388465546434,
          0.07397851039322166,
          0.021708293346092405,
          0.013200757554019357,
          0.00800812087820861,
          0.023994165957582254,
          0.01604618334682737,
          0.025264203925712762,
          0.04006557125513133,
          0.019067249408344145,
          0.02381701072762913,
          0.01239435355313058,
          0.028332313707143664,
          0.043483905068427316,
          0.01263012272307757,
          0.01245792920191797,
          0.0284487258062642,
          0.02988544796385023,
          0.024788101984621592,
          0.032550422424294234,
          0.02837780823108085,
          0.011216059914247975,
          0.023372847494475282,
          0.03804471053904863,
          0.007382411530116631,
          0.024574783824074572,
          0.03709353043321708,
          0.026510752535527846,
          0.0440369163316416,
          0.011101801655587221,
          0.02566028059082753,
          0.01816645259812713,
          0.012857682528356356,
          0.01439340126585793,
          0.03399117532536935,
          0.008731551981177197,
          0.010484750831564905,
          0.014627713423498563,
          0.03052670961633436,
          0.0414480397606449,
          0.03975034591044462,
          0.006506919393999044,
          0.021651789764359025,
          0.0036674241641784485,
          0.05758402556265059,
          0.042912119500206444,
          0.03533624201864142,
          0.0416331598608609,
          0.01628649747490232,
          0.07555402040924093,
          0.019944924166313577,
          0.010467568963231167,
          0.045686321804233675,
          0.034311076928595544,
          0.027650858937834127,
          0.03671852393547431,
          0.028886155853626513,
          0.029618406439239745,
          0.015357408635573938,
          0.03519502805795157,
          0.0025238858928247915,
          0.0436835209203654,
          0.014645477117526704,
          0.03939263890627283,
          0.05857132404171858,
          0.035089172119045504,
          0.03024979338772415,
          0.014782760229402352,
          0.08036970822393225,
          0.006894925670375275,
          0.03274415978460893,
          0.02804014978561993,
          0.021124393482417455,
          0.02567800615312652,
          0.03870878453271295,
          0.09322703470560462,
          0.02820957284327426,
          0.0021095023109728873,
          0.03459089475570121,
          0.03269892964609088,
          0.015512897859523315,
          0.017252536045462993,
          0.024449335369289674,
          0.030961266123981483
         ],
         "xaxis": "x",
         "yaxis": "y"
        }
       ],
       "layout": {
        "barmode": "relative",
        "legend": {
         "tracegroupgap": 0
        },
        "margin": {
         "t": 60
        },
        "template": {
         "data": {
          "bar": [
           {
            "error_x": {
             "color": "#2a3f5f"
            },
            "error_y": {
             "color": "#2a3f5f"
            },
            "marker": {
             "line": {
              "color": "#E5ECF6",
              "width": 0.5
             }
            },
            "type": "bar"
           }
          ],
          "barpolar": [
           {
            "marker": {
             "line": {
              "color": "#E5ECF6",
              "width": 0.5
             }
            },
            "type": "barpolar"
           }
          ],
          "carpet": [
           {
            "aaxis": {
             "endlinecolor": "#2a3f5f",
             "gridcolor": "white",
             "linecolor": "white",
             "minorgridcolor": "white",
             "startlinecolor": "#2a3f5f"
            },
            "baxis": {
             "endlinecolor": "#2a3f5f",
             "gridcolor": "white",
             "linecolor": "white",
             "minorgridcolor": "white",
             "startlinecolor": "#2a3f5f"
            },
            "type": "carpet"
           }
          ],
          "choropleth": [
           {
            "colorbar": {
             "outlinewidth": 0,
             "ticks": ""
            },
            "type": "choropleth"
           }
          ],
          "contour": [
           {
            "colorbar": {
             "outlinewidth": 0,
             "ticks": ""
            },
            "colorscale": [
             [
              0,
              "#0d0887"
             ],
             [
              0.1111111111111111,
              "#46039f"
             ],
             [
              0.2222222222222222,
              "#7201a8"
             ],
             [
              0.3333333333333333,
              "#9c179e"
             ],
             [
              0.4444444444444444,
              "#bd3786"
             ],
             [
              0.5555555555555556,
              "#d8576b"
             ],
             [
              0.6666666666666666,
              "#ed7953"
             ],
             [
              0.7777777777777778,
              "#fb9f3a"
             ],
             [
              0.8888888888888888,
              "#fdca26"
             ],
             [
              1,
              "#f0f921"
             ]
            ],
            "type": "contour"
           }
          ],
          "contourcarpet": [
           {
            "colorbar": {
             "outlinewidth": 0,
             "ticks": ""
            },
            "type": "contourcarpet"
           }
          ],
          "heatmap": [
           {
            "colorbar": {
             "outlinewidth": 0,
             "ticks": ""
            },
            "colorscale": [
             [
              0,
              "#0d0887"
             ],
             [
              0.1111111111111111,
              "#46039f"
             ],
             [
              0.2222222222222222,
              "#7201a8"
             ],
             [
              0.3333333333333333,
              "#9c179e"
             ],
             [
              0.4444444444444444,
              "#bd3786"
             ],
             [
              0.5555555555555556,
              "#d8576b"
             ],
             [
              0.6666666666666666,
              "#ed7953"
             ],
             [
              0.7777777777777778,
              "#fb9f3a"
             ],
             [
              0.8888888888888888,
              "#fdca26"
             ],
             [
              1,
              "#f0f921"
             ]
            ],
            "type": "heatmap"
           }
          ],
          "heatmapgl": [
           {
            "colorbar": {
             "outlinewidth": 0,
             "ticks": ""
            },
            "colorscale": [
             [
              0,
              "#0d0887"
             ],
             [
              0.1111111111111111,
              "#46039f"
             ],
             [
              0.2222222222222222,
              "#7201a8"
             ],
             [
              0.3333333333333333,
              "#9c179e"
             ],
             [
              0.4444444444444444,
              "#bd3786"
             ],
             [
              0.5555555555555556,
              "#d8576b"
             ],
             [
              0.6666666666666666,
              "#ed7953"
             ],
             [
              0.7777777777777778,
              "#fb9f3a"
             ],
             [
              0.8888888888888888,
              "#fdca26"
             ],
             [
              1,
              "#f0f921"
             ]
            ],
            "type": "heatmapgl"
           }
          ],
          "histogram": [
           {
            "marker": {
             "colorbar": {
              "outlinewidth": 0,
              "ticks": ""
             }
            },
            "type": "histogram"
           }
          ],
          "histogram2d": [
           {
            "colorbar": {
             "outlinewidth": 0,
             "ticks": ""
            },
            "colorscale": [
             [
              0,
              "#0d0887"
             ],
             [
              0.1111111111111111,
              "#46039f"
             ],
             [
              0.2222222222222222,
              "#7201a8"
             ],
             [
              0.3333333333333333,
              "#9c179e"
             ],
             [
              0.4444444444444444,
              "#bd3786"
             ],
             [
              0.5555555555555556,
              "#d8576b"
             ],
             [
              0.6666666666666666,
              "#ed7953"
             ],
             [
              0.7777777777777778,
              "#fb9f3a"
             ],
             [
              0.8888888888888888,
              "#fdca26"
             ],
             [
              1,
              "#f0f921"
             ]
            ],
            "type": "histogram2d"
           }
          ],
          "histogram2dcontour": [
           {
            "colorbar": {
             "outlinewidth": 0,
             "ticks": ""
            },
            "colorscale": [
             [
              0,
              "#0d0887"
             ],
             [
              0.1111111111111111,
              "#46039f"
             ],
             [
              0.2222222222222222,
              "#7201a8"
             ],
             [
              0.3333333333333333,
              "#9c179e"
             ],
             [
              0.4444444444444444,
              "#bd3786"
             ],
             [
              0.5555555555555556,
              "#d8576b"
             ],
             [
              0.6666666666666666,
              "#ed7953"
             ],
             [
              0.7777777777777778,
              "#fb9f3a"
             ],
             [
              0.8888888888888888,
              "#fdca26"
             ],
             [
              1,
              "#f0f921"
             ]
            ],
            "type": "histogram2dcontour"
           }
          ],
          "mesh3d": [
           {
            "colorbar": {
             "outlinewidth": 0,
             "ticks": ""
            },
            "type": "mesh3d"
           }
          ],
          "parcoords": [
           {
            "line": {
             "colorbar": {
              "outlinewidth": 0,
              "ticks": ""
             }
            },
            "type": "parcoords"
           }
          ],
          "pie": [
           {
            "automargin": true,
            "type": "pie"
           }
          ],
          "scatter": [
           {
            "marker": {
             "colorbar": {
              "outlinewidth": 0,
              "ticks": ""
             }
            },
            "type": "scatter"
           }
          ],
          "scatter3d": [
           {
            "line": {
             "colorbar": {
              "outlinewidth": 0,
              "ticks": ""
             }
            },
            "marker": {
             "colorbar": {
              "outlinewidth": 0,
              "ticks": ""
             }
            },
            "type": "scatter3d"
           }
          ],
          "scattercarpet": [
           {
            "marker": {
             "colorbar": {
              "outlinewidth": 0,
              "ticks": ""
             }
            },
            "type": "scattercarpet"
           }
          ],
          "scattergeo": [
           {
            "marker": {
             "colorbar": {
              "outlinewidth": 0,
              "ticks": ""
             }
            },
            "type": "scattergeo"
           }
          ],
          "scattergl": [
           {
            "marker": {
             "colorbar": {
              "outlinewidth": 0,
              "ticks": ""
             }
            },
            "type": "scattergl"
           }
          ],
          "scattermapbox": [
           {
            "marker": {
             "colorbar": {
              "outlinewidth": 0,
              "ticks": ""
             }
            },
            "type": "scattermapbox"
           }
          ],
          "scatterpolar": [
           {
            "marker": {
             "colorbar": {
              "outlinewidth": 0,
              "ticks": ""
             }
            },
            "type": "scatterpolar"
           }
          ],
          "scatterpolargl": [
           {
            "marker": {
             "colorbar": {
              "outlinewidth": 0,
              "ticks": ""
             }
            },
            "type": "scatterpolargl"
           }
          ],
          "scatterternary": [
           {
            "marker": {
             "colorbar": {
              "outlinewidth": 0,
              "ticks": ""
             }
            },
            "type": "scatterternary"
           }
          ],
          "surface": [
           {
            "colorbar": {
             "outlinewidth": 0,
             "ticks": ""
            },
            "colorscale": [
             [
              0,
              "#0d0887"
             ],
             [
              0.1111111111111111,
              "#46039f"
             ],
             [
              0.2222222222222222,
              "#7201a8"
             ],
             [
              0.3333333333333333,
              "#9c179e"
             ],
             [
              0.4444444444444444,
              "#bd3786"
             ],
             [
              0.5555555555555556,
              "#d8576b"
             ],
             [
              0.6666666666666666,
              "#ed7953"
             ],
             [
              0.7777777777777778,
              "#fb9f3a"
             ],
             [
              0.8888888888888888,
              "#fdca26"
             ],
             [
              1,
              "#f0f921"
             ]
            ],
            "type": "surface"
           }
          ],
          "table": [
           {
            "cells": {
             "fill": {
              "color": "#EBF0F8"
             },
             "line": {
              "color": "white"
             }
            },
            "header": {
             "fill": {
              "color": "#C8D4E3"
             },
             "line": {
              "color": "white"
             }
            },
            "type": "table"
           }
          ]
         },
         "layout": {
          "annotationdefaults": {
           "arrowcolor": "#2a3f5f",
           "arrowhead": 0,
           "arrowwidth": 1
          },
          "coloraxis": {
           "colorbar": {
            "outlinewidth": 0,
            "ticks": ""
           }
          },
          "colorscale": {
           "diverging": [
            [
             0,
             "#8e0152"
            ],
            [
             0.1,
             "#c51b7d"
            ],
            [
             0.2,
             "#de77ae"
            ],
            [
             0.3,
             "#f1b6da"
            ],
            [
             0.4,
             "#fde0ef"
            ],
            [
             0.5,
             "#f7f7f7"
            ],
            [
             0.6,
             "#e6f5d0"
            ],
            [
             0.7,
             "#b8e186"
            ],
            [
             0.8,
             "#7fbc41"
            ],
            [
             0.9,
             "#4d9221"
            ],
            [
             1,
             "#276419"
            ]
           ],
           "sequential": [
            [
             0,
             "#0d0887"
            ],
            [
             0.1111111111111111,
             "#46039f"
            ],
            [
             0.2222222222222222,
             "#7201a8"
            ],
            [
             0.3333333333333333,
             "#9c179e"
            ],
            [
             0.4444444444444444,
             "#bd3786"
            ],
            [
             0.5555555555555556,
             "#d8576b"
            ],
            [
             0.6666666666666666,
             "#ed7953"
            ],
            [
             0.7777777777777778,
             "#fb9f3a"
            ],
            [
             0.8888888888888888,
             "#fdca26"
            ],
            [
             1,
             "#f0f921"
            ]
           ],
           "sequentialminus": [
            [
             0,
             "#0d0887"
            ],
            [
             0.1111111111111111,
             "#46039f"
            ],
            [
             0.2222222222222222,
             "#7201a8"
            ],
            [
             0.3333333333333333,
             "#9c179e"
            ],
            [
             0.4444444444444444,
             "#bd3786"
            ],
            [
             0.5555555555555556,
             "#d8576b"
            ],
            [
             0.6666666666666666,
             "#ed7953"
            ],
            [
             0.7777777777777778,
             "#fb9f3a"
            ],
            [
             0.8888888888888888,
             "#fdca26"
            ],
            [
             1,
             "#f0f921"
            ]
           ]
          },
          "colorway": [
           "#636efa",
           "#EF553B",
           "#00cc96",
           "#ab63fa",
           "#FFA15A",
           "#19d3f3",
           "#FF6692",
           "#B6E880",
           "#FF97FF",
           "#FECB52"
          ],
          "font": {
           "color": "#2a3f5f"
          },
          "geo": {
           "bgcolor": "white",
           "lakecolor": "white",
           "landcolor": "#E5ECF6",
           "showlakes": true,
           "showland": true,
           "subunitcolor": "white"
          },
          "hoverlabel": {
           "align": "left"
          },
          "hovermode": "closest",
          "mapbox": {
           "style": "light"
          },
          "paper_bgcolor": "white",
          "plot_bgcolor": "#E5ECF6",
          "polar": {
           "angularaxis": {
            "gridcolor": "white",
            "linecolor": "white",
            "ticks": ""
           },
           "bgcolor": "#E5ECF6",
           "radialaxis": {
            "gridcolor": "white",
            "linecolor": "white",
            "ticks": ""
           }
          },
          "scene": {
           "xaxis": {
            "backgroundcolor": "#E5ECF6",
            "gridcolor": "white",
            "gridwidth": 2,
            "linecolor": "white",
            "showbackground": true,
            "ticks": "",
            "zerolinecolor": "white"
           },
           "yaxis": {
            "backgroundcolor": "#E5ECF6",
            "gridcolor": "white",
            "gridwidth": 2,
            "linecolor": "white",
            "showbackground": true,
            "ticks": "",
            "zerolinecolor": "white"
           },
           "zaxis": {
            "backgroundcolor": "#E5ECF6",
            "gridcolor": "white",
            "gridwidth": 2,
            "linecolor": "white",
            "showbackground": true,
            "ticks": "",
            "zerolinecolor": "white"
           }
          },
          "shapedefaults": {
           "line": {
            "color": "#2a3f5f"
           }
          },
          "ternary": {
           "aaxis": {
            "gridcolor": "white",
            "linecolor": "white",
            "ticks": ""
           },
           "baxis": {
            "gridcolor": "white",
            "linecolor": "white",
            "ticks": ""
           },
           "bgcolor": "#E5ECF6",
           "caxis": {
            "gridcolor": "white",
            "linecolor": "white",
            "ticks": ""
           }
          },
          "title": {
           "x": 0.05
          },
          "xaxis": {
           "automargin": true,
           "gridcolor": "white",
           "linecolor": "white",
           "ticks": "",
           "title": {
            "standoff": 15
           },
           "zerolinecolor": "white",
           "zerolinewidth": 2
          },
          "yaxis": {
           "automargin": true,
           "gridcolor": "white",
           "linecolor": "white",
           "ticks": "",
           "title": {
            "standoff": 15
           },
           "zerolinecolor": "white",
           "zerolinewidth": 2
          }
         }
        },
        "xaxis": {
         "anchor": "y",
         "domain": [
          0,
          1
         ],
         "title": {
          "text": "Distance"
         }
        },
        "yaxis": {
         "anchor": "x",
         "domain": [
          0,
          1
         ],
         "title": {
          "text": "count"
         }
        }
       }
      },
      "text/html": [
       "<div>\n",
       "        \n",
       "        \n",
       "            <div id=\"96eb937a-7c56-47bf-8ea2-5fc38a78258d\" class=\"plotly-graph-div\" style=\"height:525px; width:100%;\"></div>\n",
       "            <script type=\"text/javascript\">\n",
       "                require([\"plotly\"], function(Plotly) {\n",
       "                    window.PLOTLYENV=window.PLOTLYENV || {};\n",
       "                    \n",
       "                if (document.getElementById(\"96eb937a-7c56-47bf-8ea2-5fc38a78258d\")) {\n",
       "                    Plotly.newPlot(\n",
       "                        '96eb937a-7c56-47bf-8ea2-5fc38a78258d',\n",
       "                        [{\"alignmentgroup\": \"True\", \"bingroup\": \"x\", \"hovertemplate\": \"Distance=%{x}<br>count=%{y}<extra></extra>\", \"legendgroup\": \"\", \"marker\": {\"color\": \"#636efa\"}, \"name\": \"\", \"nbinsx\": 100, \"offsetgroup\": \"\", \"orientation\": \"v\", \"showlegend\": false, \"type\": \"histogram\", \"x\": [0.007025667228100124, 0.005852349955359846, 0.003206243908376259, 0.0036124783736376826, 0.017541379649275008, 0.011268096556206825, 0.019220041623263944, 0.014736349615830925, 0.01202206305090772, 0.008324061508662689, 0.008900000000000014, 0.013534031180694092, 0.020652602741543253, 0.01622652150030932, 0.03030594001181946, 0.008417244204607563, 0.04103084205813965, 0.027528349024233168, 0.01947331507473748, 0.013923002549737636, 0.05891909707386902, 0.008700574693662467, 0.009501578816175811, 0.023101947969814157, 0.013227622613304364, 0.022770595073471348, 0.024016869071550557, 0.00724499827467201, 0.0189952625672824, 0.016807736313971634, 0.00877097486029917, 0.01053944970100425, 0.008580209787645053, 0.01370000000000007, 0.012776932339180673, 0.008949301648732113, 0.0769197633901717, 0.030751422731314402, 0.025006399181009626, 0.030237890138037106, 0.02101166342772504, 0.025583783926542227, 0.022343231637343784, 0.01324386650491465, 0.008872992730753216, 0.012788275880665077, 0.016638509548634463, 0.009712878049270478, 0.008702298546935732, 0.010881176406988356, 0.025446610776290023, 0.003944616584663169, 0.013159027319676749, 0.01022594738887306, 0.023747420912595928, 0.042204265187300694, 0.0031953090617340904, 0.0035171010790138652, 0.014782760229402378, 0.020593688353473777, 0.04530518734096571, 0.01914001044931793, 0.02337733945512194, 0.014484819639885085, 0.011747765745025745, 0.015871042813879604, 0.02958546940645018, 0.012734598540982776, 0.05542309987721727, 0.011886967653695357, 0.012513193037750224, 0.011808894952534715, 0.009625487000666498, 0.009247702417357496, 0.011217842929904144, 0.004252058325093866, 0.011985407794480716, 0.01908009433938941, 0.048944866942305654, 0.05014957626939635, 0.022872909740564194, 0.021552262062252275, 0.00706116137756391, 0.02368649404196407, 0.022408257406590082, 0.036895121628746586, 0.024007498828491087, 0.005333854141237799, 0.013290974381135487, 0.024523050381222974, 0.021440149253211836, 0.018890473789717407, 0.0074404300950953, 0.012766362050325821, 0.0028653097563788883, 0.009915644204992404, 0.02937567020512045, 0.001708800749063565, 0.038832975677895176, 0.027707399733645114, 0.020672929158684836, 0.018159295140505863, 0.013206059215375333, 0.03277575323314479, 0.013885243966167811, 0.008802272433866155, 0.016268988905276213, 0.013029197979921834, 0.026981845748576965, 0.011002272492535355, 0.016865645555388612, 0.009818350166906893, 0.03879858244833179, 0.005173973328110632, 0.02283593659125894, 0.030613885738337746, 0.008271033792700892, 0.0374882648304773, 0.028025167260874617, 0.019725364381932238, 0.015469324484281805, 0.028726468630863783, 0.01970228413154173, 0.016459647626847908, 0.04527692569068712, 0.018002499826413006, 0.03080584360149876, 0.0010999999999999899, 0.008709190547921191, 0.018435834670553968, 0.005024937810560468, 0.013209844813622912, 0.03039901314187682, 0.04062080747597221, 0.00650000000000004, 0.013072872675888782, 0.0047507894080878275, 0.007009279563549997, 0.014468241081762527, 0.017988885457415067, 0.007410802925459581, 0.008688498144098335, 0.004560701700396527, 0.029420571034566936, 0.0185625968010944, 0.02718105958199571, 0.03595622338344227, 0.00754320886625848, 0.009749358953285086, 0.017972478960900165, 0.013396268137059667, 0.008080222769206292, 0.025333377192944533, 0.005408326913196001, 0.0077006493232714005, 0.004925444142409916, 0.014822280526288787, 0.02360783768158356, 0.023320591759215758, 0.014094325099131225, 0.013132021931142188, 0.010696261028976436, 0.00733484832835691, 0.012826534995859163, 0.007463243262818126, 0.008832326986700662, 0.01484890568358491, 0.018242806801586218, 0.010377379245262245, 0.011601724009818496, 0.010890362712049564, 0.008910667763978147, 0.032817373447611514, 0.02581259382549533, 0.014171802990445508, 0.030391610684529367, 0.04465892967817302, 0.01601530517973356, 0.010530906893520597, 0.013102671483327371, 0.04760010504190099, 0.0030610455730027924, 0.023807561823924767, 0.015880806024884255, 0.028991378028648505, 0.013393281898026408, 0.008640023148117133, 0.008944271909999198, 0.03400014705850553, 0.027821035207195307, 0.014571547618561302, 0.03419195811883256, 0.006841052550594829, 0.08199786582588602, 0.025512349950563142, 0.03161012496020855, 0.043094779266171, 0.02585440001237701, 0.0331404586570554, 0.006262587324740482, 0.008723531395025788, 0.029565689574234544, 0.02910000000000006, 0.014524806367039773, 0.017438463235044555, 0.012465151423067394, 0.022710790386950484, 0.030366099519036058, 0.026303041649208516, 0.01924396009141571, 0.02389497855198867, 0.01720029069521794, 0.021107344693257847, 0.008044874144447498, 0.01896786756596532, 0.018506755523321743, 0.009160785992479053, 0.03525124111290266, 0.018380696395947513, 0.029084875794818183, 0.02258007971642266, 0.006637017402418039, 0.02302628932329297, 0.025512545933324617, 0.03673921610486538, 0.03345713675734976, 0.055611869236701535, 0.004201190307519982, 0.025682094930125896, 0.015815182578775337, 0.054411763434022264, 0.04421085839474275, 0.011480853626799709, 0.05516420941153783, 0.010900458705944438, 0.02839894364232588, 0.04160048076645269, 0.012847178678604895, 0.023943683927081925, 0.0261168527966139, 0.008254089895318584, 0.022041097976280635, 0.03570994259306502, 0.05438685502950139, 0.018582787734890558, 0.015204275714416666, 0.033460723243827255, 0.01744161689752416, 0.023735627229968033, 0.022377890874700424, 0.03295238989815456, 0.0075292761936323884, 0.013776792079435716, 0.00880056816347675, 0.026271086768537018, 0.028256149773102472, 0.015337861650177925, 0.01838477631085023, 0.021602083232873603, 0.0021540659228538117, 0.006129437168288753, 0.0075690157880664785, 0.014396180048887947, 0.04347608538035588, 0.0391643970973638, 0.03517172159562281, 0.04500544411512905, 0.009400000000000075, 0.019632880583347917, 0.017755280904564637, 0.020682843131445933, 0.015002999700059977, 0.037078565236535195, 0.043318010111268984, 0.0009219544457292714, 0.041891407233465024, 0.021319005605327828, 0.00833846508657327, 0.025536248745655674, 0.019331321734428832, 0.022363586474445463, 0.044576451182210576, 0.02314000864304077, 0.014863714206079112, 0.009113725912051559, 0.017736967046256866, 0.004701063709417241, 0.01647786393923676, 0.027060118255469626, 0.011094142598686909, 0.03767771224477412, 0.02096783250600785, 0.03979359244903632, 0.033443983016381296, 0.025797868128975332, 0.09245896387046523, 0.03274522866006586, 0.03533624201864144, 0.025144780770569464, 0.020796393918177284, 0.014418391033676382, 0.009192388155425115, 0.011311056537742153, 0.0252507425633386, 0.029386051112730304, 0.0049000000000000155, 0.023017601960239005, 0.016623477373882985, 0.016493938280471396, 0.030817202987941678, 0.014276203977248311, 0.039770969311798285, 0.012000416659433117, 0.035873388465546434, 0.07397851039322166, 0.021708293346092405, 0.013200757554019357, 0.00800812087820861, 0.023994165957582254, 0.01604618334682737, 0.025264203925712762, 0.04006557125513133, 0.019067249408344145, 0.02381701072762913, 0.01239435355313058, 0.028332313707143664, 0.043483905068427316, 0.01263012272307757, 0.01245792920191797, 0.0284487258062642, 0.02988544796385023, 0.024788101984621592, 0.032550422424294234, 0.02837780823108085, 0.011216059914247975, 0.023372847494475282, 0.03804471053904863, 0.007382411530116631, 0.024574783824074572, 0.03709353043321708, 0.026510752535527846, 0.0440369163316416, 0.011101801655587221, 0.02566028059082753, 0.01816645259812713, 0.012857682528356356, 0.01439340126585793, 0.03399117532536935, 0.008731551981177197, 0.010484750831564905, 0.014627713423498563, 0.03052670961633436, 0.0414480397606449, 0.03975034591044462, 0.006506919393999044, 0.021651789764359025, 0.0036674241641784485, 0.05758402556265059, 0.042912119500206444, 0.03533624201864142, 0.0416331598608609, 0.01628649747490232, 0.07555402040924093, 0.019944924166313577, 0.010467568963231167, 0.045686321804233675, 0.034311076928595544, 0.027650858937834127, 0.03671852393547431, 0.028886155853626513, 0.029618406439239745, 0.015357408635573938, 0.03519502805795157, 0.0025238858928247915, 0.0436835209203654, 0.014645477117526704, 0.03939263890627283, 0.05857132404171858, 0.035089172119045504, 0.03024979338772415, 0.014782760229402352, 0.08036970822393225, 0.006894925670375275, 0.03274415978460893, 0.02804014978561993, 0.021124393482417455, 0.02567800615312652, 0.03870878453271295, 0.09322703470560462, 0.02820957284327426, 0.0021095023109728873, 0.03459089475570121, 0.03269892964609088, 0.015512897859523315, 0.017252536045462993, 0.024449335369289674, 0.030961266123981483], \"xaxis\": \"x\", \"yaxis\": \"y\"}],\n",
       "                        {\"barmode\": \"relative\", \"legend\": {\"tracegroupgap\": 0}, \"margin\": {\"t\": 60}, \"template\": {\"data\": {\"bar\": [{\"error_x\": {\"color\": \"#2a3f5f\"}, \"error_y\": {\"color\": \"#2a3f5f\"}, \"marker\": {\"line\": {\"color\": \"#E5ECF6\", \"width\": 0.5}}, \"type\": \"bar\"}], \"barpolar\": [{\"marker\": {\"line\": {\"color\": \"#E5ECF6\", \"width\": 0.5}}, \"type\": \"barpolar\"}], \"carpet\": [{\"aaxis\": {\"endlinecolor\": \"#2a3f5f\", \"gridcolor\": \"white\", \"linecolor\": \"white\", \"minorgridcolor\": \"white\", \"startlinecolor\": \"#2a3f5f\"}, \"baxis\": {\"endlinecolor\": \"#2a3f5f\", \"gridcolor\": \"white\", \"linecolor\": \"white\", \"minorgridcolor\": \"white\", \"startlinecolor\": \"#2a3f5f\"}, \"type\": \"carpet\"}], \"choropleth\": [{\"colorbar\": {\"outlinewidth\": 0, \"ticks\": \"\"}, \"type\": \"choropleth\"}], \"contour\": [{\"colorbar\": {\"outlinewidth\": 0, \"ticks\": \"\"}, \"colorscale\": [[0.0, \"#0d0887\"], [0.1111111111111111, \"#46039f\"], [0.2222222222222222, \"#7201a8\"], [0.3333333333333333, \"#9c179e\"], [0.4444444444444444, \"#bd3786\"], [0.5555555555555556, \"#d8576b\"], [0.6666666666666666, \"#ed7953\"], [0.7777777777777778, \"#fb9f3a\"], [0.8888888888888888, \"#fdca26\"], [1.0, \"#f0f921\"]], \"type\": \"contour\"}], \"contourcarpet\": [{\"colorbar\": {\"outlinewidth\": 0, \"ticks\": \"\"}, \"type\": \"contourcarpet\"}], \"heatmap\": [{\"colorbar\": {\"outlinewidth\": 0, \"ticks\": \"\"}, \"colorscale\": [[0.0, \"#0d0887\"], [0.1111111111111111, \"#46039f\"], [0.2222222222222222, \"#7201a8\"], [0.3333333333333333, \"#9c179e\"], [0.4444444444444444, \"#bd3786\"], [0.5555555555555556, \"#d8576b\"], [0.6666666666666666, \"#ed7953\"], [0.7777777777777778, \"#fb9f3a\"], [0.8888888888888888, \"#fdca26\"], [1.0, \"#f0f921\"]], \"type\": \"heatmap\"}], \"heatmapgl\": [{\"colorbar\": {\"outlinewidth\": 0, \"ticks\": \"\"}, \"colorscale\": [[0.0, \"#0d0887\"], [0.1111111111111111, \"#46039f\"], [0.2222222222222222, \"#7201a8\"], [0.3333333333333333, \"#9c179e\"], [0.4444444444444444, \"#bd3786\"], [0.5555555555555556, \"#d8576b\"], [0.6666666666666666, \"#ed7953\"], [0.7777777777777778, \"#fb9f3a\"], [0.8888888888888888, \"#fdca26\"], [1.0, \"#f0f921\"]], \"type\": \"heatmapgl\"}], \"histogram\": [{\"marker\": {\"colorbar\": {\"outlinewidth\": 0, \"ticks\": \"\"}}, \"type\": \"histogram\"}], \"histogram2d\": [{\"colorbar\": {\"outlinewidth\": 0, \"ticks\": \"\"}, \"colorscale\": [[0.0, \"#0d0887\"], [0.1111111111111111, \"#46039f\"], [0.2222222222222222, \"#7201a8\"], [0.3333333333333333, \"#9c179e\"], [0.4444444444444444, \"#bd3786\"], [0.5555555555555556, \"#d8576b\"], [0.6666666666666666, \"#ed7953\"], [0.7777777777777778, \"#fb9f3a\"], [0.8888888888888888, \"#fdca26\"], [1.0, \"#f0f921\"]], \"type\": \"histogram2d\"}], \"histogram2dcontour\": [{\"colorbar\": {\"outlinewidth\": 0, \"ticks\": \"\"}, \"colorscale\": [[0.0, \"#0d0887\"], [0.1111111111111111, \"#46039f\"], [0.2222222222222222, \"#7201a8\"], [0.3333333333333333, \"#9c179e\"], [0.4444444444444444, \"#bd3786\"], [0.5555555555555556, \"#d8576b\"], [0.6666666666666666, \"#ed7953\"], [0.7777777777777778, \"#fb9f3a\"], [0.8888888888888888, \"#fdca26\"], [1.0, \"#f0f921\"]], \"type\": \"histogram2dcontour\"}], \"mesh3d\": [{\"colorbar\": {\"outlinewidth\": 0, \"ticks\": \"\"}, \"type\": \"mesh3d\"}], \"parcoords\": [{\"line\": {\"colorbar\": {\"outlinewidth\": 0, \"ticks\": \"\"}}, \"type\": \"parcoords\"}], \"pie\": [{\"automargin\": true, \"type\": \"pie\"}], \"scatter\": [{\"marker\": {\"colorbar\": {\"outlinewidth\": 0, \"ticks\": \"\"}}, \"type\": \"scatter\"}], \"scatter3d\": [{\"line\": {\"colorbar\": {\"outlinewidth\": 0, \"ticks\": \"\"}}, \"marker\": {\"colorbar\": {\"outlinewidth\": 0, \"ticks\": \"\"}}, \"type\": \"scatter3d\"}], \"scattercarpet\": [{\"marker\": {\"colorbar\": {\"outlinewidth\": 0, \"ticks\": \"\"}}, \"type\": \"scattercarpet\"}], \"scattergeo\": [{\"marker\": {\"colorbar\": {\"outlinewidth\": 0, \"ticks\": \"\"}}, \"type\": \"scattergeo\"}], \"scattergl\": [{\"marker\": {\"colorbar\": {\"outlinewidth\": 0, \"ticks\": \"\"}}, \"type\": \"scattergl\"}], \"scattermapbox\": [{\"marker\": {\"colorbar\": {\"outlinewidth\": 0, \"ticks\": \"\"}}, \"type\": \"scattermapbox\"}], \"scatterpolar\": [{\"marker\": {\"colorbar\": {\"outlinewidth\": 0, \"ticks\": \"\"}}, \"type\": \"scatterpolar\"}], \"scatterpolargl\": [{\"marker\": {\"colorbar\": {\"outlinewidth\": 0, \"ticks\": \"\"}}, \"type\": \"scatterpolargl\"}], \"scatterternary\": [{\"marker\": {\"colorbar\": {\"outlinewidth\": 0, \"ticks\": \"\"}}, \"type\": \"scatterternary\"}], \"surface\": [{\"colorbar\": {\"outlinewidth\": 0, \"ticks\": \"\"}, \"colorscale\": [[0.0, \"#0d0887\"], [0.1111111111111111, \"#46039f\"], [0.2222222222222222, \"#7201a8\"], [0.3333333333333333, \"#9c179e\"], [0.4444444444444444, \"#bd3786\"], [0.5555555555555556, \"#d8576b\"], [0.6666666666666666, \"#ed7953\"], [0.7777777777777778, \"#fb9f3a\"], [0.8888888888888888, \"#fdca26\"], [1.0, \"#f0f921\"]], \"type\": \"surface\"}], \"table\": [{\"cells\": {\"fill\": {\"color\": \"#EBF0F8\"}, \"line\": {\"color\": \"white\"}}, \"header\": {\"fill\": {\"color\": \"#C8D4E3\"}, \"line\": {\"color\": \"white\"}}, \"type\": \"table\"}]}, \"layout\": {\"annotationdefaults\": {\"arrowcolor\": \"#2a3f5f\", \"arrowhead\": 0, \"arrowwidth\": 1}, \"coloraxis\": {\"colorbar\": {\"outlinewidth\": 0, \"ticks\": \"\"}}, \"colorscale\": {\"diverging\": [[0, \"#8e0152\"], [0.1, \"#c51b7d\"], [0.2, \"#de77ae\"], [0.3, \"#f1b6da\"], [0.4, \"#fde0ef\"], [0.5, \"#f7f7f7\"], [0.6, \"#e6f5d0\"], [0.7, \"#b8e186\"], [0.8, \"#7fbc41\"], [0.9, \"#4d9221\"], [1, \"#276419\"]], \"sequential\": [[0.0, \"#0d0887\"], [0.1111111111111111, \"#46039f\"], [0.2222222222222222, \"#7201a8\"], [0.3333333333333333, \"#9c179e\"], [0.4444444444444444, \"#bd3786\"], [0.5555555555555556, \"#d8576b\"], [0.6666666666666666, \"#ed7953\"], [0.7777777777777778, \"#fb9f3a\"], [0.8888888888888888, \"#fdca26\"], [1.0, \"#f0f921\"]], \"sequentialminus\": [[0.0, \"#0d0887\"], [0.1111111111111111, \"#46039f\"], [0.2222222222222222, \"#7201a8\"], [0.3333333333333333, \"#9c179e\"], [0.4444444444444444, \"#bd3786\"], [0.5555555555555556, \"#d8576b\"], [0.6666666666666666, \"#ed7953\"], [0.7777777777777778, \"#fb9f3a\"], [0.8888888888888888, \"#fdca26\"], [1.0, \"#f0f921\"]]}, \"colorway\": [\"#636efa\", \"#EF553B\", \"#00cc96\", \"#ab63fa\", \"#FFA15A\", \"#19d3f3\", \"#FF6692\", \"#B6E880\", \"#FF97FF\", \"#FECB52\"], \"font\": {\"color\": \"#2a3f5f\"}, \"geo\": {\"bgcolor\": \"white\", \"lakecolor\": \"white\", \"landcolor\": \"#E5ECF6\", \"showlakes\": true, \"showland\": true, \"subunitcolor\": \"white\"}, \"hoverlabel\": {\"align\": \"left\"}, \"hovermode\": \"closest\", \"mapbox\": {\"style\": \"light\"}, \"paper_bgcolor\": \"white\", \"plot_bgcolor\": \"#E5ECF6\", \"polar\": {\"angularaxis\": {\"gridcolor\": \"white\", \"linecolor\": \"white\", \"ticks\": \"\"}, \"bgcolor\": \"#E5ECF6\", \"radialaxis\": {\"gridcolor\": \"white\", \"linecolor\": \"white\", \"ticks\": \"\"}}, \"scene\": {\"xaxis\": {\"backgroundcolor\": \"#E5ECF6\", \"gridcolor\": \"white\", \"gridwidth\": 2, \"linecolor\": \"white\", \"showbackground\": true, \"ticks\": \"\", \"zerolinecolor\": \"white\"}, \"yaxis\": {\"backgroundcolor\": \"#E5ECF6\", \"gridcolor\": \"white\", \"gridwidth\": 2, \"linecolor\": \"white\", \"showbackground\": true, \"ticks\": \"\", \"zerolinecolor\": \"white\"}, \"zaxis\": {\"backgroundcolor\": \"#E5ECF6\", \"gridcolor\": \"white\", \"gridwidth\": 2, \"linecolor\": \"white\", \"showbackground\": true, \"ticks\": \"\", \"zerolinecolor\": \"white\"}}, \"shapedefaults\": {\"line\": {\"color\": \"#2a3f5f\"}}, \"ternary\": {\"aaxis\": {\"gridcolor\": \"white\", \"linecolor\": \"white\", \"ticks\": \"\"}, \"baxis\": {\"gridcolor\": \"white\", \"linecolor\": \"white\", \"ticks\": \"\"}, \"bgcolor\": \"#E5ECF6\", \"caxis\": {\"gridcolor\": \"white\", \"linecolor\": \"white\", \"ticks\": \"\"}}, \"title\": {\"x\": 0.05}, \"xaxis\": {\"automargin\": true, \"gridcolor\": \"white\", \"linecolor\": \"white\", \"ticks\": \"\", \"title\": {\"standoff\": 15}, \"zerolinecolor\": \"white\", \"zerolinewidth\": 2}, \"yaxis\": {\"automargin\": true, \"gridcolor\": \"white\", \"linecolor\": \"white\", \"ticks\": \"\", \"title\": {\"standoff\": 15}, \"zerolinecolor\": \"white\", \"zerolinewidth\": 2}}}, \"xaxis\": {\"anchor\": \"y\", \"domain\": [0.0, 1.0], \"title\": {\"text\": \"Distance\"}}, \"yaxis\": {\"anchor\": \"x\", \"domain\": [0.0, 1.0], \"title\": {\"text\": \"count\"}}},\n",
       "                        {\"responsive\": true}\n",
       "                    ).then(function(){\n",
       "                            \n",
       "var gd = document.getElementById('96eb937a-7c56-47bf-8ea2-5fc38a78258d');\n",
       "var x = new MutationObserver(function (mutations, observer) {{\n",
       "        var display = window.getComputedStyle(gd).display;\n",
       "        if (!display || display === 'none') {{\n",
       "            console.log([gd, 'removed!']);\n",
       "            Plotly.purge(gd);\n",
       "            observer.disconnect();\n",
       "        }}\n",
       "}});\n",
       "\n",
       "// Listen for the removal of the full notebook cells\n",
       "var notebookContainer = gd.closest('#notebook-container');\n",
       "if (notebookContainer) {{\n",
       "    x.observe(notebookContainer, {childList: true});\n",
       "}}\n",
       "\n",
       "// Listen for the clearing of the current output cell\n",
       "var outputEl = gd.closest('.output');\n",
       "if (outputEl) {{\n",
       "    x.observe(outputEl, {childList: true});\n",
       "}}\n",
       "\n",
       "                        })\n",
       "                };\n",
       "                });\n",
       "            </script>\n",
       "        </div>"
      ]
     },
     "metadata": {},
     "output_type": "display_data"
    }
   ],
   "source": [
    "px.histogram(fix_with_dist, x='Distance', nbins=100)"
   ]
  },
  {
   "cell_type": "code",
   "execution_count": null,
   "metadata": {},
   "outputs": [],
   "source": []
  }
 ],
 "metadata": {
  "kernelspec": {
   "display_name": "Python 3",
   "language": "python",
   "name": "python3"
  },
  "language_info": {
   "codemirror_mode": {
    "name": "ipython",
    "version": 3
   },
   "file_extension": ".py",
   "mimetype": "text/x-python",
   "name": "python",
   "nbconvert_exporter": "python",
   "pygments_lexer": "ipython3",
   "version": "3.7.9"
  }
 },
 "nbformat": 4,
 "nbformat_minor": 4
}
