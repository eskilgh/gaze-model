{
 "cells": [
  {
   "cell_type": "markdown",
   "metadata": {},
   "source": [
    "Import libraries"
   ]
  },
  {
   "cell_type": "code",
   "execution_count": 3,
   "metadata": {},
   "outputs": [],
   "source": [
    "import pandas as pd"
   ]
  },
  {
   "cell_type": "markdown",
   "metadata": {},
   "source": [
    "Read datafile"
   ]
  },
  {
   "cell_type": "code",
   "execution_count": 4,
   "metadata": {},
   "outputs": [
    {
     "data": {
      "text/html": [
       "<div>\n",
       "<style scoped>\n",
       "    .dataframe tbody tr th:only-of-type {\n",
       "        vertical-align: middle;\n",
       "    }\n",
       "\n",
       "    .dataframe tbody tr th {\n",
       "        vertical-align: top;\n",
       "    }\n",
       "\n",
       "    .dataframe thead th {\n",
       "        text-align: right;\n",
       "    }\n",
       "</style>\n",
       "<table border=\"1\" class=\"dataframe\">\n",
       "  <thead>\n",
       "    <tr style=\"text-align: right;\">\n",
       "      <th></th>\n",
       "      <th>Recording timestamp</th>\n",
       "      <th>Computer timestamp</th>\n",
       "      <th>Sensor</th>\n",
       "      <th>Export date</th>\n",
       "      <th>Participant name</th>\n",
       "      <th>Recording date</th>\n",
       "      <th>Gaze point X</th>\n",
       "      <th>Gaze point Y</th>\n",
       "      <th>Gaze point left X</th>\n",
       "      <th>Gaze point left Y</th>\n",
       "      <th>...</th>\n",
       "      <th>Gaze point right X (MCSnorm)</th>\n",
       "      <th>Gaze point right Y (MCSnorm)</th>\n",
       "      <th>Client area position X (DACSpx)</th>\n",
       "      <th>Client area position Y (DACSpx)</th>\n",
       "      <th>Viewport position X</th>\n",
       "      <th>Viewport position Y</th>\n",
       "      <th>Viewport width</th>\n",
       "      <th>Viewport height</th>\n",
       "      <th>Full page width</th>\n",
       "      <th>Full page height</th>\n",
       "    </tr>\n",
       "  </thead>\n",
       "  <tbody>\n",
       "    <tr>\n",
       "      <th>0</th>\n",
       "      <td>136480</td>\n",
       "      <td>3984990841</td>\n",
       "      <td>Eye Tracker</td>\n",
       "      <td>07.09.2020</td>\n",
       "      <td>Participant1</td>\n",
       "      <td>07.09.2020</td>\n",
       "      <td>1308.0</td>\n",
       "      <td>1664.0</td>\n",
       "      <td>NaN</td>\n",
       "      <td>NaN</td>\n",
       "      <td>...</td>\n",
       "      <td>NaN</td>\n",
       "      <td>NaN</td>\n",
       "      <td>NaN</td>\n",
       "      <td>NaN</td>\n",
       "      <td>NaN</td>\n",
       "      <td>NaN</td>\n",
       "      <td>NaN</td>\n",
       "      <td>NaN</td>\n",
       "      <td>NaN</td>\n",
       "      <td>NaN</td>\n",
       "    </tr>\n",
       "    <tr>\n",
       "      <th>1</th>\n",
       "      <td>144908</td>\n",
       "      <td>3984999269</td>\n",
       "      <td>Eye Tracker</td>\n",
       "      <td>07.09.2020</td>\n",
       "      <td>Participant1</td>\n",
       "      <td>07.09.2020</td>\n",
       "      <td>816.0</td>\n",
       "      <td>1197.0</td>\n",
       "      <td>816.0</td>\n",
       "      <td>1197.0</td>\n",
       "      <td>...</td>\n",
       "      <td>NaN</td>\n",
       "      <td>NaN</td>\n",
       "      <td>NaN</td>\n",
       "      <td>NaN</td>\n",
       "      <td>NaN</td>\n",
       "      <td>NaN</td>\n",
       "      <td>NaN</td>\n",
       "      <td>NaN</td>\n",
       "      <td>NaN</td>\n",
       "      <td>NaN</td>\n",
       "    </tr>\n",
       "    <tr>\n",
       "      <th>2</th>\n",
       "      <td>153128</td>\n",
       "      <td>3985007489</td>\n",
       "      <td>Eye Tracker</td>\n",
       "      <td>07.09.2020</td>\n",
       "      <td>Participant1</td>\n",
       "      <td>07.09.2020</td>\n",
       "      <td>863.0</td>\n",
       "      <td>1313.0</td>\n",
       "      <td>863.0</td>\n",
       "      <td>1313.0</td>\n",
       "      <td>...</td>\n",
       "      <td>NaN</td>\n",
       "      <td>NaN</td>\n",
       "      <td>NaN</td>\n",
       "      <td>NaN</td>\n",
       "      <td>NaN</td>\n",
       "      <td>NaN</td>\n",
       "      <td>NaN</td>\n",
       "      <td>NaN</td>\n",
       "      <td>NaN</td>\n",
       "      <td>NaN</td>\n",
       "    </tr>\n",
       "    <tr>\n",
       "      <th>3</th>\n",
       "      <td>161554</td>\n",
       "      <td>3985015915</td>\n",
       "      <td>Eye Tracker</td>\n",
       "      <td>07.09.2020</td>\n",
       "      <td>Participant1</td>\n",
       "      <td>07.09.2020</td>\n",
       "      <td>852.0</td>\n",
       "      <td>884.0</td>\n",
       "      <td>NaN</td>\n",
       "      <td>NaN</td>\n",
       "      <td>...</td>\n",
       "      <td>NaN</td>\n",
       "      <td>NaN</td>\n",
       "      <td>NaN</td>\n",
       "      <td>NaN</td>\n",
       "      <td>NaN</td>\n",
       "      <td>NaN</td>\n",
       "      <td>NaN</td>\n",
       "      <td>NaN</td>\n",
       "      <td>NaN</td>\n",
       "      <td>NaN</td>\n",
       "    </tr>\n",
       "    <tr>\n",
       "      <th>4</th>\n",
       "      <td>169881</td>\n",
       "      <td>3985024242</td>\n",
       "      <td>Eye Tracker</td>\n",
       "      <td>07.09.2020</td>\n",
       "      <td>Participant1</td>\n",
       "      <td>07.09.2020</td>\n",
       "      <td>919.0</td>\n",
       "      <td>1427.0</td>\n",
       "      <td>919.0</td>\n",
       "      <td>1427.0</td>\n",
       "      <td>...</td>\n",
       "      <td>NaN</td>\n",
       "      <td>NaN</td>\n",
       "      <td>NaN</td>\n",
       "      <td>NaN</td>\n",
       "      <td>NaN</td>\n",
       "      <td>NaN</td>\n",
       "      <td>NaN</td>\n",
       "      <td>NaN</td>\n",
       "      <td>NaN</td>\n",
       "      <td>NaN</td>\n",
       "    </tr>\n",
       "  </tbody>\n",
       "</table>\n",
       "<p>5 rows × 46 columns</p>\n",
       "</div>"
      ],
      "text/plain": [
       "   Recording timestamp  Computer timestamp       Sensor Export date  \\\n",
       "0               136480          3984990841  Eye Tracker  07.09.2020   \n",
       "1               144908          3984999269  Eye Tracker  07.09.2020   \n",
       "2               153128          3985007489  Eye Tracker  07.09.2020   \n",
       "3               161554          3985015915  Eye Tracker  07.09.2020   \n",
       "4               169881          3985024242  Eye Tracker  07.09.2020   \n",
       "\n",
       "  Participant name Recording date  Gaze point X  Gaze point Y  \\\n",
       "0     Participant1     07.09.2020        1308.0        1664.0   \n",
       "1     Participant1     07.09.2020         816.0        1197.0   \n",
       "2     Participant1     07.09.2020         863.0        1313.0   \n",
       "3     Participant1     07.09.2020         852.0         884.0   \n",
       "4     Participant1     07.09.2020         919.0        1427.0   \n",
       "\n",
       "   Gaze point left X  Gaze point left Y  ...  Gaze point right X (MCSnorm)  \\\n",
       "0                NaN                NaN  ...                           NaN   \n",
       "1              816.0             1197.0  ...                           NaN   \n",
       "2              863.0             1313.0  ...                           NaN   \n",
       "3                NaN                NaN  ...                           NaN   \n",
       "4              919.0             1427.0  ...                           NaN   \n",
       "\n",
       "   Gaze point right Y (MCSnorm) Client area position X (DACSpx)  \\\n",
       "0                           NaN                             NaN   \n",
       "1                           NaN                             NaN   \n",
       "2                           NaN                             NaN   \n",
       "3                           NaN                             NaN   \n",
       "4                           NaN                             NaN   \n",
       "\n",
       "  Client area position Y (DACSpx) Viewport position X Viewport position Y  \\\n",
       "0                             NaN                 NaN                 NaN   \n",
       "1                             NaN                 NaN                 NaN   \n",
       "2                             NaN                 NaN                 NaN   \n",
       "3                             NaN                 NaN                 NaN   \n",
       "4                             NaN                 NaN                 NaN   \n",
       "\n",
       "  Viewport width Viewport height Full page width Full page height  \n",
       "0            NaN             NaN             NaN              NaN  \n",
       "1            NaN             NaN             NaN              NaN  \n",
       "2            NaN             NaN             NaN              NaN  \n",
       "3            NaN             NaN             NaN              NaN  \n",
       "4            NaN             NaN             NaN              NaN  \n",
       "\n",
       "[5 rows x 46 columns]"
      ]
     },
     "execution_count": 4,
     "metadata": {},
     "output_type": "execute_result"
    }
   ],
   "source": [
    "df = pd.read_csv('export.tsv', sep='\\t')\n",
    "df.head()"
   ]
  },
  {
   "cell_type": "markdown",
   "metadata": {},
   "source": [
    "Clean up data"
   ]
  },
  {
   "cell_type": "code",
   "execution_count": 5,
   "metadata": {},
   "outputs": [
    {
     "name": "stdout",
     "output_type": "stream",
     "text": [
      "-611.0 1664.0 -973.0 3812.0\n"
     ]
    }
   ],
   "source": [
    "cols_to_keep = ['Recording timestamp', 'Gaze point X', 'Gaze point Y']\n",
    "df = df[cols_to_keep]\n",
    "y_min = df['Gaze point Y'].min()\n",
    "y_max = df['Gaze point Y'].max()\n",
    "x_min = df['Gaze point X'].min()\n",
    "x_max = df['Gaze point X'].max()\n",
    "print(y_min, y_max, x_min, x_max)\n"
   ]
  },
  {
   "cell_type": "markdown",
   "metadata": {},
   "source": [
    "Import plotting libraries"
   ]
  },
  {
   "cell_type": "code",
   "execution_count": 6,
   "metadata": {},
   "outputs": [],
   "source": [
    "import numpy as np\n",
    "import scipy as sp\n",
    "import chart_studio.plotly as py\n",
    "import plotly.figure_factory as ff\n",
    "import plotly.graph_objects as go\n",
    "import plotly.express as px\n",
    "from PIL import Image"
   ]
  },
  {
   "cell_type": "code",
   "execution_count": 16,
   "metadata": {},
   "outputs": [],
   "source": [
    "length = 120 * 4\n",
    "subset = df.tail(length)\n",
    "df_length, _ = df.shape\n",
    "x = subset['Gaze point X']\n",
    "y = subset['Gaze point Y']\n",
    "subset['Gaze point X'].head()\n",
    "start_idx =  df_length - length\n"
   ]
  },
  {
   "cell_type": "code",
   "execution_count": 12,
   "metadata": {},
   "outputs": [
    {
     "data": {
      "text/plain": [
       "\" \\nframes = []\\nfor i in range(start_idx, df_length):\\n    scatter = go.Scatter(\\n        x=[x[i]],\\n        y=[y[i]]\\n    )\\n    frame = go.Frame(data=[scatter])\\n    frames.append(frame)\\n\\nfig = go.Figure(\\n    data=go.Scatter(\\n        x = x,\\n        y = y,\\n    ),\\n    layout = go.Layout(\\n        updatemenus=[dict(type='buttons', buttons=[\\n            {\\n                'label':'Play', \\n                'method':'animate', \\n                'args':[None, {'frame': {'duration': 100}, 'transition': {'duration': 300}}]\\n            }\\n        ])]\\n                         ),\\n    frames = frames\\n)\\nfig\\n\""
      ]
     },
     "execution_count": 12,
     "metadata": {},
     "output_type": "execute_result"
    }
   ],
   "source": [
    "# Use plotly express instead of graph_objects\n",
    "\n",
    "frames = []\n",
    "for i in range(start_idx, df_length):\n",
    "    scatter = go.Scatter(\n",
    "        x=[x[i]],\n",
    "        y=[y[i]]\n",
    "    )\n",
    "    frame = go.Frame(data=[scatter])\n",
    "    frames.append(frame)\n",
    "\n",
    "fig = go.Figure(\n",
    "    data=go.Scatter(\n",
    "        x = x,\n",
    "        y = y,\n",
    "    ),\n",
    "    layout = go.Layout(\n",
    "        updatemenus=[\n",
    "            dict(type='buttons', buttons=[\n",
    "            {\n",
    "                'label':'Play', \n",
    "                'method':'animate', \n",
    "                'args':[None, {'frame': {'duration': 0.48, 'redraw': False}, 'transition': {'duration': 1}}]\n",
    "            },\n",
    "            {\n",
    "                'label': 'Pause',\n",
    "                'args': [[None], {'frame': {'duration': 0, 'redraw': False},\n",
    "                                 'mode': 'immediate',\n",
    "                                 'transition': {'duration': 0}}],\n",
    "                'method': 'animate'\n",
    "            }\n",
    "        ])]\n",
    "                         ),\n",
    "    frames = frames\n",
    ")\n",
    "fig\n"
   ]
  },
  {
   "cell_type": "markdown",
   "metadata": {},
   "source": [
    "Open image for later use in plot"
   ]
  },
  {
   "cell_type": "code",
   "execution_count": 13,
   "metadata": {
    "scrolled": true
   },
   "outputs": [],
   "source": [
    "image2 = Image.open('random.png')"
   ]
  },
  {
   "cell_type": "markdown",
   "metadata": {},
   "source": [
    "Create animated scatter plot for last 4 seconds of recording"
   ]
  },
  {
   "cell_type": "code",
   "execution_count": 15,
   "metadata": {},
   "outputs": [
    {
     "ename": "TypeError",
     "evalue": "scatter() got an unexpected keyword argument 'mode'",
     "output_type": "error",
     "traceback": [
      "\u001b[0;31m---------------------------------------------------------------------------\u001b[0m",
      "\u001b[0;31mTypeError\u001b[0m                                 Traceback (most recent call last)",
      "\u001b[0;32m<ipython-input-15-bdc612c0fc77>\u001b[0m in \u001b[0;36m<module>\u001b[0;34m\u001b[0m\n\u001b[1;32m      6\u001b[0m     \u001b[0manimation_frame\u001b[0m\u001b[0;34m=\u001b[0m\u001b[0;34m'Recording timestamp'\u001b[0m\u001b[0;34m,\u001b[0m\u001b[0;34m\u001b[0m\u001b[0;34m\u001b[0m\u001b[0m\n\u001b[1;32m      7\u001b[0m     \u001b[0mrange_x\u001b[0m\u001b[0;34m=\u001b[0m\u001b[0;34m[\u001b[0m\u001b[0;36m800\u001b[0m\u001b[0;34m,\u001b[0m \u001b[0mimage2\u001b[0m\u001b[0;34m.\u001b[0m\u001b[0mwidth\u001b[0m \u001b[0;34m+\u001b[0m \u001b[0;36m800\u001b[0m\u001b[0;34m]\u001b[0m\u001b[0;34m,\u001b[0m\u001b[0;34m\u001b[0m\u001b[0;34m\u001b[0m\u001b[0m\n\u001b[0;32m----> 8\u001b[0;31m     \u001b[0mrange_y\u001b[0m\u001b[0;34m=\u001b[0m\u001b[0;34m[\u001b[0m\u001b[0;36m0\u001b[0m\u001b[0;34m,\u001b[0m \u001b[0mimage2\u001b[0m\u001b[0;34m.\u001b[0m\u001b[0mheight\u001b[0m\u001b[0;34m]\u001b[0m\u001b[0;34m\u001b[0m\u001b[0;34m\u001b[0m\u001b[0m\n\u001b[0m\u001b[1;32m      9\u001b[0m )\n\u001b[1;32m     10\u001b[0m \u001b[0;34m\u001b[0m\u001b[0m\n",
      "\u001b[0;31mTypeError\u001b[0m: scatter() got an unexpected keyword argument 'mode'"
     ]
    }
   ],
   "source": [
    "fig2 = px.scatter(\n",
    "    subset,\n",
    "    x='Gaze point X',\n",
    "    y='Gaze point Y',\n",
    "    animation_frame='Recording timestamp',\n",
    "    range_x=[800, image2.width + 800],\n",
    "    range_y=[0, image2.height]\n",
    ")\n",
    "\n",
    "fig2['layout']['updatemenus'] = [dict(type='buttons', buttons=[\n",
    "            {\n",
    "                'label':'Play', \n",
    "                'method':'animate', \n",
    "                'args':[None, {'frame': {'duration': 0.48, 'redraw': False}, 'transition': {'duration': 1}}]\n",
    "            },\n",
    "            {\n",
    "                'label': 'Pause',\n",
    "                'args': [[None], {'frame': {'duration': 0, 'redraw': False},\n",
    "                                 'mode': 'immediate',\n",
    "                                 'transition': {'duration': 0}}],\n",
    "                'method': 'animate'\n",
    "            }\n",
    "])]\n",
    "fig2.show()"
   ]
  },
  {
   "cell_type": "code",
   "execution_count": null,
   "metadata": {},
   "outputs": [],
   "source": []
  },
  {
   "cell_type": "code",
   "execution_count": null,
   "metadata": {},
   "outputs": [],
   "source": []
  }
 ],
 "metadata": {
  "kernelspec": {
   "display_name": "Python 3",
   "language": "python",
   "name": "python3"
  },
  "language_info": {
   "codemirror_mode": {
    "name": "ipython",
    "version": 3
   },
   "file_extension": ".py",
   "mimetype": "text/x-python",
   "name": "python",
   "nbconvert_exporter": "python",
   "pygments_lexer": "ipython3",
   "version": "3.7.9"
  }
 },
 "nbformat": 4,
 "nbformat_minor": 4
}
