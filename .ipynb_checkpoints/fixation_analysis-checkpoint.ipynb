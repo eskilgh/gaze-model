{
 "cells": [
  {
   "cell_type": "code",
   "execution_count": 20,
   "metadata": {},
   "outputs": [],
   "source": [
    "import pandas as pd\n",
    "from matplotlib import pyplot as plt\n",
    "import numpy as np"
   ]
  },
  {
   "cell_type": "markdown",
   "metadata": {},
   "source": [
    "Read data"
   ]
  },
  {
   "cell_type": "code",
   "execution_count": 21,
   "metadata": {},
   "outputs": [
    {
     "data": {
      "text/html": [
       "<div>\n",
       "<style scoped>\n",
       "    .dataframe tbody tr th:only-of-type {\n",
       "        vertical-align: middle;\n",
       "    }\n",
       "\n",
       "    .dataframe tbody tr th {\n",
       "        vertical-align: top;\n",
       "    }\n",
       "\n",
       "    .dataframe thead th {\n",
       "        text-align: right;\n",
       "    }\n",
       "</style>\n",
       "<table border=\"1\" class=\"dataframe\">\n",
       "  <thead>\n",
       "    <tr style=\"text-align: right;\">\n",
       "      <th></th>\n",
       "      <th>Recording timestamp</th>\n",
       "      <th>Computer timestamp</th>\n",
       "      <th>Sensor</th>\n",
       "      <th>Project name</th>\n",
       "      <th>Participant name</th>\n",
       "      <th>Recording name</th>\n",
       "      <th>Recording duration</th>\n",
       "      <th>Timeline name</th>\n",
       "      <th>Recording Fixation filter name</th>\n",
       "      <th>Recording software version</th>\n",
       "      <th>...</th>\n",
       "      <th>Fixation point X</th>\n",
       "      <th>Fixation point Y</th>\n",
       "      <th>Fixation point X (MCSnorm)</th>\n",
       "      <th>Fixation point Y (MCSnorm)</th>\n",
       "      <th>Viewport position X</th>\n",
       "      <th>Viewport position Y</th>\n",
       "      <th>Viewport width</th>\n",
       "      <th>Viewport height</th>\n",
       "      <th>Mouse position X</th>\n",
       "      <th>Mouse position Y</th>\n",
       "    </tr>\n",
       "  </thead>\n",
       "  <tbody>\n",
       "    <tr>\n",
       "      <th>0</th>\n",
       "      <td>0</td>\n",
       "      <td>1022924105192</td>\n",
       "      <td>NaN</td>\n",
       "      <td>Gaze_model1</td>\n",
       "      <td>Einar</td>\n",
       "      <td>Recording3</td>\n",
       "      <td>169944</td>\n",
       "      <td>Timeline1</td>\n",
       "      <td>Tobii I-VT (Fixation)</td>\n",
       "      <td>1.145.28180</td>\n",
       "      <td>...</td>\n",
       "      <td>NaN</td>\n",
       "      <td>NaN</td>\n",
       "      <td>NaN</td>\n",
       "      <td>NaN</td>\n",
       "      <td>NaN</td>\n",
       "      <td>NaN</td>\n",
       "      <td>NaN</td>\n",
       "      <td>NaN</td>\n",
       "      <td>NaN</td>\n",
       "      <td>NaN</td>\n",
       "    </tr>\n",
       "    <tr>\n",
       "      <th>1</th>\n",
       "      <td>12438</td>\n",
       "      <td>1022924117630</td>\n",
       "      <td>Mouse</td>\n",
       "      <td>Gaze_model1</td>\n",
       "      <td>Einar</td>\n",
       "      <td>Recording3</td>\n",
       "      <td>169944</td>\n",
       "      <td>Timeline1</td>\n",
       "      <td>Tobii I-VT (Fixation)</td>\n",
       "      <td>1.145.28180</td>\n",
       "      <td>...</td>\n",
       "      <td>NaN</td>\n",
       "      <td>NaN</td>\n",
       "      <td>NaN</td>\n",
       "      <td>NaN</td>\n",
       "      <td>NaN</td>\n",
       "      <td>NaN</td>\n",
       "      <td>NaN</td>\n",
       "      <td>NaN</td>\n",
       "      <td>-915.0</td>\n",
       "      <td>486.0</td>\n",
       "    </tr>\n",
       "    <tr>\n",
       "      <th>2</th>\n",
       "      <td>28861</td>\n",
       "      <td>1022924134053</td>\n",
       "      <td>Mouse</td>\n",
       "      <td>Gaze_model1</td>\n",
       "      <td>Einar</td>\n",
       "      <td>Recording3</td>\n",
       "      <td>169944</td>\n",
       "      <td>Timeline1</td>\n",
       "      <td>Tobii I-VT (Fixation)</td>\n",
       "      <td>1.145.28180</td>\n",
       "      <td>...</td>\n",
       "      <td>NaN</td>\n",
       "      <td>NaN</td>\n",
       "      <td>NaN</td>\n",
       "      <td>NaN</td>\n",
       "      <td>NaN</td>\n",
       "      <td>NaN</td>\n",
       "      <td>NaN</td>\n",
       "      <td>NaN</td>\n",
       "      <td>-924.0</td>\n",
       "      <td>477.0</td>\n",
       "    </tr>\n",
       "    <tr>\n",
       "      <th>3</th>\n",
       "      <td>44674</td>\n",
       "      <td>1022924149866</td>\n",
       "      <td>Mouse</td>\n",
       "      <td>Gaze_model1</td>\n",
       "      <td>Einar</td>\n",
       "      <td>Recording3</td>\n",
       "      <td>169944</td>\n",
       "      <td>Timeline1</td>\n",
       "      <td>Tobii I-VT (Fixation)</td>\n",
       "      <td>1.145.28180</td>\n",
       "      <td>...</td>\n",
       "      <td>NaN</td>\n",
       "      <td>NaN</td>\n",
       "      <td>NaN</td>\n",
       "      <td>NaN</td>\n",
       "      <td>NaN</td>\n",
       "      <td>NaN</td>\n",
       "      <td>NaN</td>\n",
       "      <td>NaN</td>\n",
       "      <td>-926.0</td>\n",
       "      <td>473.0</td>\n",
       "    </tr>\n",
       "    <tr>\n",
       "      <th>4</th>\n",
       "      <td>94205</td>\n",
       "      <td>1022924199397</td>\n",
       "      <td>Eye Tracker</td>\n",
       "      <td>Gaze_model1</td>\n",
       "      <td>Einar</td>\n",
       "      <td>Recording3</td>\n",
       "      <td>169944</td>\n",
       "      <td>Timeline1</td>\n",
       "      <td>Tobii I-VT (Fixation)</td>\n",
       "      <td>1.145.28180</td>\n",
       "      <td>...</td>\n",
       "      <td>NaN</td>\n",
       "      <td>NaN</td>\n",
       "      <td>NaN</td>\n",
       "      <td>NaN</td>\n",
       "      <td>NaN</td>\n",
       "      <td>NaN</td>\n",
       "      <td>NaN</td>\n",
       "      <td>NaN</td>\n",
       "      <td>NaN</td>\n",
       "      <td>NaN</td>\n",
       "    </tr>\n",
       "  </tbody>\n",
       "</table>\n",
       "<p>5 rows × 79 columns</p>\n",
       "</div>"
      ],
      "text/plain": [
       "   Recording timestamp  Computer timestamp       Sensor Project name  \\\n",
       "0                    0       1022924105192          NaN  Gaze_model1   \n",
       "1                12438       1022924117630        Mouse  Gaze_model1   \n",
       "2                28861       1022924134053        Mouse  Gaze_model1   \n",
       "3                44674       1022924149866        Mouse  Gaze_model1   \n",
       "4                94205       1022924199397  Eye Tracker  Gaze_model1   \n",
       "\n",
       "  Participant name Recording name  Recording duration Timeline name  \\\n",
       "0            Einar     Recording3              169944     Timeline1   \n",
       "1            Einar     Recording3              169944     Timeline1   \n",
       "2            Einar     Recording3              169944     Timeline1   \n",
       "3            Einar     Recording3              169944     Timeline1   \n",
       "4            Einar     Recording3              169944     Timeline1   \n",
       "\n",
       "  Recording Fixation filter name Recording software version  ...  \\\n",
       "0          Tobii I-VT (Fixation)                1.145.28180  ...   \n",
       "1          Tobii I-VT (Fixation)                1.145.28180  ...   \n",
       "2          Tobii I-VT (Fixation)                1.145.28180  ...   \n",
       "3          Tobii I-VT (Fixation)                1.145.28180  ...   \n",
       "4          Tobii I-VT (Fixation)                1.145.28180  ...   \n",
       "\n",
       "   Fixation point X  Fixation point Y Fixation point X (MCSnorm)  \\\n",
       "0               NaN               NaN                        NaN   \n",
       "1               NaN               NaN                        NaN   \n",
       "2               NaN               NaN                        NaN   \n",
       "3               NaN               NaN                        NaN   \n",
       "4               NaN               NaN                        NaN   \n",
       "\n",
       "  Fixation point Y (MCSnorm) Viewport position X Viewport position Y  \\\n",
       "0                        NaN                 NaN                 NaN   \n",
       "1                        NaN                 NaN                 NaN   \n",
       "2                        NaN                 NaN                 NaN   \n",
       "3                        NaN                 NaN                 NaN   \n",
       "4                        NaN                 NaN                 NaN   \n",
       "\n",
       "  Viewport width Viewport height Mouse position X  Mouse position Y  \n",
       "0            NaN             NaN              NaN               NaN  \n",
       "1            NaN             NaN           -915.0             486.0  \n",
       "2            NaN             NaN           -924.0             477.0  \n",
       "3            NaN             NaN           -926.0             473.0  \n",
       "4            NaN             NaN              NaN               NaN  \n",
       "\n",
       "[5 rows x 79 columns]"
      ]
     },
     "execution_count": 21,
     "metadata": {},
     "output_type": "execute_result"
    }
   ],
   "source": [
    "df = pd.read_csv(\"einar_siri_fixation.tsv\", sep='\\t')\n",
    "df.head()"
   ]
  },
  {
   "cell_type": "markdown",
   "metadata": {},
   "source": [
    "The dataframe consists of 79 columns! As such we have to perform a bit of cleaning:"
   ]
  },
  {
   "cell_type": "code",
   "execution_count": 22,
   "metadata": {},
   "outputs": [],
   "source": [
    "cols_to_keep = ['Recording timestamp', 'Participant name', 'Recording name', 'Gaze point X (MCSnorm)', 'Gaze point Y (MCSnorm)','Eye movement type', 'Eye movement type index','Gaze event duration', 'Fixation point X (MCSnorm)', 'Fixation point Y (MCSnorm)', 'Presented Media name']\n",
    "df = df[cols_to_keep]"
   ]
  },
  {
   "cell_type": "markdown",
   "metadata": {},
   "source": [
    "A big part of the data consists of the calibration part of the experiments.\n",
    "This has to be discarded, which we do by only keeping the rows where the participant looks at the picture in the experiment."
   ]
  },
  {
   "cell_type": "code",
   "execution_count": 23,
   "metadata": {},
   "outputs": [],
   "source": [
    "df = df[df[\"Presented Media name\"] == 'test1.png']\n",
    "df = df[df[\"Eye movement type\"] == \"Fixation\"]"
   ]
  },
  {
   "cell_type": "markdown",
   "metadata": {},
   "source": [
    "### Fixation duration\n",
    "Since our aim is to look at each fixation, we need to keep just one row for each invidual fixation.\n",
    "They are organized by `'Eye movement type index'`. Because different recordings can contain the same eye movement indices, we only discard the ones that are consecutively identical."
   ]
  },
  {
   "cell_type": "code",
   "execution_count": 24,
   "metadata": {},
   "outputs": [],
   "source": [
    "unique_fixations = df[df['Eye movement type index'] != df['Eye movement type index'].shift(1)]"
   ]
  },
  {
   "cell_type": "markdown",
   "metadata": {},
   "source": [
    "Histograms of fixation duration"
   ]
  },
  {
   "cell_type": "code",
   "execution_count": 41,
   "metadata": {},
   "outputs": [
    {
     "data": {
      "image/png": "[encoded data removed]",
      "text/plain": [
       "<Figure size 432x288 with 1 Axes>"
      ]
     },
     "metadata": {
      "needs_background": "light"
     },
     "output_type": "display_data"
    }
   ],
   "source": [
    "unique_fixations.hist(column='Gaze event duration', bins=100)\n",
    "plt.show()"
   ]
  },
  {
   "cell_type": "markdown",
   "metadata": {},
   "source": [
    "Now we can try to find an exponential distribution that corresponds to the duration data."
   ]
  },
  {
   "cell_type": "code",
   "execution_count": 43,
   "metadata": {},
   "outputs": [
    {
     "data": {
      "image/png": "[encoded data removed]",
      "text/plain": [
       "<Figure size 432x288 with 1 Axes>"
      ]
     },
     "metadata": {
      "needs_background": "light"
     },
     "output_type": "display_data"
    }
   ],
   "source": [
    "minimum_duration = unique_fixations['Gaze event duration'].min()\n",
    "s = np.random.exponential(scale=80, size=10000) + minimum_duration\n",
    "plt.hist(s, bins=100)\n",
    "plt.show()\n"
   ]
  },
  {
   "cell_type": "markdown",
   "metadata": {},
   "source": [
    "### Distance travelled during fixations\n",
    "Next up is to analyze the average distance from the beginning to the end of a fixation. We will use this to calibrate our $D$ value.\n",
    "\n",
    "First we need to filter out data so that we end up with the first and last row. We do this by doing the same operation as last time, but this time keeping the last row associated with every 'Eye movement type index'. We then add this to the dataframe with the first row."
   ]
  },
  {
   "cell_type": "code",
   "execution_count": 30,
   "metadata": {},
   "outputs": [],
   "source": [
    "import numpy as np\n",
    "fixations = unique_fixations.append(df[df['Eye movement type index'] != df['Eye movement type index'].shift(-1)])\n",
    "fixations.sort_index(inplace=True)"
   ]
  },
  {
   "cell_type": "markdown",
   "metadata": {},
   "source": [
    "We also need to remove all 'Eye movement type index' where the first or last row contains invalid data for the gaze point."
   ]
  },
  {
   "cell_type": "code",
   "execution_count": 31,
   "metadata": {},
   "outputs": [
    {
     "data": {
      "text/html": [
       "<div>\n",
       "<style scoped>\n",
       "    .dataframe tbody tr th:only-of-type {\n",
       "        vertical-align: middle;\n",
       "    }\n",
       "\n",
       "    .dataframe tbody tr th {\n",
       "        vertical-align: top;\n",
       "    }\n",
       "\n",
       "    .dataframe thead th {\n",
       "        text-align: right;\n",
       "    }\n",
       "</style>\n",
       "<table border=\"1\" class=\"dataframe\">\n",
       "  <thead>\n",
       "    <tr style=\"text-align: right;\">\n",
       "      <th></th>\n",
       "      <th>Recording timestamp</th>\n",
       "      <th>Participant name</th>\n",
       "      <th>Recording name</th>\n",
       "      <th>Gaze point X (MCSnorm)</th>\n",
       "      <th>Gaze point Y (MCSnorm)</th>\n",
       "      <th>Eye movement type</th>\n",
       "      <th>Eye movement type index</th>\n",
       "      <th>Gaze event duration</th>\n",
       "      <th>Fixation point X (MCSnorm)</th>\n",
       "      <th>Fixation point Y (MCSnorm)</th>\n",
       "      <th>Presented Media name</th>\n",
       "    </tr>\n",
       "  </thead>\n",
       "  <tbody>\n",
       "    <tr>\n",
       "      <th>29814</th>\n",
       "      <td>76938035</td>\n",
       "      <td>Siri</td>\n",
       "      <td>Recording4</td>\n",
       "      <td>0,5620</td>\n",
       "      <td>0,0465</td>\n",
       "      <td>Fixation</td>\n",
       "      <td>270.0</td>\n",
       "      <td>108.0</td>\n",
       "      <td>0,5602</td>\n",
       "      <td>0,0219</td>\n",
       "      <td>test1.png</td>\n",
       "    </tr>\n",
       "    <tr>\n",
       "      <th>29826</th>\n",
       "      <td>77038038</td>\n",
       "      <td>Siri</td>\n",
       "      <td>Recording4</td>\n",
       "      <td>NaN</td>\n",
       "      <td>NaN</td>\n",
       "      <td>Fixation</td>\n",
       "      <td>270.0</td>\n",
       "      <td>108.0</td>\n",
       "      <td>0,5602</td>\n",
       "      <td>0,0219</td>\n",
       "      <td>test1.png</td>\n",
       "    </tr>\n",
       "  </tbody>\n",
       "</table>\n",
       "</div>"
      ],
      "text/plain": [
       "       Recording timestamp Participant name Recording name  \\\n",
       "29814             76938035             Siri     Recording4   \n",
       "29826             77038038             Siri     Recording4   \n",
       "\n",
       "      Gaze point X (MCSnorm) Gaze point Y (MCSnorm) Eye movement type  \\\n",
       "29814                 0,5620                 0,0465          Fixation   \n",
       "29826                    NaN                    NaN          Fixation   \n",
       "\n",
       "       Eye movement type index  Gaze event duration  \\\n",
       "29814                    270.0                108.0   \n",
       "29826                    270.0                108.0   \n",
       "\n",
       "      Fixation point X (MCSnorm) Fixation point Y (MCSnorm)  \\\n",
       "29814                     0,5602                     0,0219   \n",
       "29826                     0,5602                     0,0219   \n",
       "\n",
       "      Presented Media name  \n",
       "29814            test1.png  \n",
       "29826            test1.png  "
      ]
     },
     "execution_count": 31,
     "metadata": {},
     "output_type": "execute_result"
    }
   ],
   "source": [
    "# Find all rows where Gaze X or Gaze Y is 'nan'\n",
    "gaze_point_cols = ['Gaze point X (MCSnorm)', 'Gaze point Y (MCSnorm)']\n",
    "nan = fixations[gaze_point_cols].isna()\n",
    "\n",
    "# Create a mask for all rows with an 'Eye movement index' that contains 'nan', with matching 'Participant name'\n",
    "nan_indices = fixations[nan['Gaze point X (MCSnorm)']][['Eye movement type index', 'Participant name']]\n",
    "\n",
    "msk = np.zeros(len(fixations), dtype=bool)\n",
    "\n",
    "for part in nan_indices['Participant name'].unique():\n",
    "    invalid_ids = nan_indices[nan_indices['Participant name'] == part]['Eye movement type index'].values\n",
    "    part_mask = (fixations['Participant name'] == part) & (fixations['Eye movement type index'].isin(invalid_ids))\n",
    "    msk = np.logical_or(msk, part_mask)\n",
    "\n",
    "# Check fixation rows that matches the mask\n",
    "fixations[msk]"
   ]
  },
  {
   "cell_type": "code",
   "execution_count": 69,
   "metadata": {},
   "outputs": [],
   "source": [
    "clean_fixations = fixations[~msk]\n",
    "start = clean_fixations[clean_fixations['Eye movement type index'] != clean_fixations['Eye movement type index'].shift(1)]\n",
    "end = clean_fixations[clean_fixations['Eye movement type index'] != clean_fixations['Eye movement type index'].shift(-1)]\n",
    "# convert values from strings to floats\n",
    "start = [ (float(x.replace(',', '.')), float(y.replace(',', '.'))) for x, y in start[gaze_point_cols].values]\n",
    "end = [ (float(x.replace(',', '.')), float(y.replace(',', '.'))) for x, y in end[gaze_point_cols].values]\n",
    "\n",
    "# Calculate distances for each 'Eye movement type index'\n",
    "distances = []\n",
    "for s_point, e_point in zip(start, end):\n",
    "    # np.linalg.norm gives euclidian distance between points\n",
    "    distance = np.linalg.norm(np.array(e_point) - np.array(s_point))\n",
    "    distances.append(distance)\n"
   ]
  },
  {
   "cell_type": "markdown",
   "metadata": {},
   "source": [
    "Create a dataframe of each unique fixation, and add distance travelled for each fixation to a 'Distance' column"
   ]
  },
  {
   "cell_type": "code",
   "execution_count": 80,
   "metadata": {},
   "outputs": [],
   "source": [
    "fix_with_dist = clean_fixations[clean_fixations['Eye movement type index'] != clean_fixations['Eye movement type index'].shift(1)]\n",
    "fix_with_dist = fix_with_dist.assign(Distance=distances)"
   ]
  },
  {
   "cell_type": "code",
   "execution_count": 81,
   "metadata": {},
   "outputs": [
    {
     "data": {
      "image/png": "[encoded data removed]",
      "text/plain": [
       "<Figure size 432x288 with 1 Axes>"
      ]
     },
     "metadata": {
      "needs_background": "light"
     },
     "output_type": "display_data"
    }
   ],
   "source": [
    "fix_with_dist.hist(column='Distance', bins=100)\n",
    "plt.show()"
   ]
  },
  {
   "cell_type": "code",
   "execution_count": null,
   "metadata": {},
   "outputs": [],
   "source": []
  }
 ],
 "metadata": {
  "kernelspec": {
   "display_name": "Python 3",
   "language": "python",
   "name": "python3"
  },
  "language_info": {
   "codemirror_mode": {
    "name": "ipython",
    "version": 3
   },
   "file_extension": ".py",
   "mimetype": "text/x-python",
   "name": "python",
   "nbconvert_exporter": "python",
   "pygments_lexer": "ipython3",
   "version": "3.7.9"
  }
 },
 "nbformat": 4,
 "nbformat_minor": 4
}
