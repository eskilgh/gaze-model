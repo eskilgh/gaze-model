{
 "cells": [
  {
   "cell_type": "markdown",
   "metadata": {},
   "source": [
    "Import libraries"
   ]
  },
  {
   "cell_type": "code",
   "execution_count": 1,
   "metadata": {},
   "outputs": [],
   "source": [
    "import pandas as pd"
   ]
  },
  {
   "cell_type": "markdown",
   "metadata": {},
   "source": [
    "Read datafile"
   ]
  },
  {
   "cell_type": "code",
   "execution_count": 2,
   "metadata": {},
   "outputs": [
    {
     "data": {
      "text/html": [
       "<div>\n",
       "<style scoped>\n",
       "    .dataframe tbody tr th:only-of-type {\n",
       "        vertical-align: middle;\n",
       "    }\n",
       "\n",
       "    .dataframe tbody tr th {\n",
       "        vertical-align: top;\n",
       "    }\n",
       "\n",
       "    .dataframe thead th {\n",
       "        text-align: right;\n",
       "    }\n",
       "</style>\n",
       "<table border=\"1\" class=\"dataframe\">\n",
       "  <thead>\n",
       "    <tr style=\"text-align: right;\">\n",
       "      <th></th>\n",
       "      <th>Recording timestamp</th>\n",
       "      <th>Computer timestamp</th>\n",
       "      <th>Sensor</th>\n",
       "      <th>Export date</th>\n",
       "      <th>Participant name</th>\n",
       "      <th>Recording date</th>\n",
       "      <th>Gaze point X</th>\n",
       "      <th>Gaze point Y</th>\n",
       "      <th>Gaze point left X</th>\n",
       "      <th>Gaze point left Y</th>\n",
       "      <th>...</th>\n",
       "      <th>Gaze point right X (MCSnorm)</th>\n",
       "      <th>Gaze point right Y (MCSnorm)</th>\n",
       "      <th>Client area position X (DACSpx)</th>\n",
       "      <th>Client area position Y (DACSpx)</th>\n",
       "      <th>Viewport position X</th>\n",
       "      <th>Viewport position Y</th>\n",
       "      <th>Viewport width</th>\n",
       "      <th>Viewport height</th>\n",
       "      <th>Full page width</th>\n",
       "      <th>Full page height</th>\n",
       "    </tr>\n",
       "  </thead>\n",
       "  <tbody>\n",
       "    <tr>\n",
       "      <th>0</th>\n",
       "      <td>136480</td>\n",
       "      <td>3984990841</td>\n",
       "      <td>Eye Tracker</td>\n",
       "      <td>07.09.2020</td>\n",
       "      <td>Participant1</td>\n",
       "      <td>07.09.2020</td>\n",
       "      <td>1308.0</td>\n",
       "      <td>1664.0</td>\n",
       "      <td>NaN</td>\n",
       "      <td>NaN</td>\n",
       "      <td>...</td>\n",
       "      <td>NaN</td>\n",
       "      <td>NaN</td>\n",
       "      <td>NaN</td>\n",
       "      <td>NaN</td>\n",
       "      <td>NaN</td>\n",
       "      <td>NaN</td>\n",
       "      <td>NaN</td>\n",
       "      <td>NaN</td>\n",
       "      <td>NaN</td>\n",
       "      <td>NaN</td>\n",
       "    </tr>\n",
       "    <tr>\n",
       "      <th>1</th>\n",
       "      <td>144908</td>\n",
       "      <td>3984999269</td>\n",
       "      <td>Eye Tracker</td>\n",
       "      <td>07.09.2020</td>\n",
       "      <td>Participant1</td>\n",
       "      <td>07.09.2020</td>\n",
       "      <td>816.0</td>\n",
       "      <td>1197.0</td>\n",
       "      <td>816.0</td>\n",
       "      <td>1197.0</td>\n",
       "      <td>...</td>\n",
       "      <td>NaN</td>\n",
       "      <td>NaN</td>\n",
       "      <td>NaN</td>\n",
       "      <td>NaN</td>\n",
       "      <td>NaN</td>\n",
       "      <td>NaN</td>\n",
       "      <td>NaN</td>\n",
       "      <td>NaN</td>\n",
       "      <td>NaN</td>\n",
       "      <td>NaN</td>\n",
       "    </tr>\n",
       "    <tr>\n",
       "      <th>2</th>\n",
       "      <td>153128</td>\n",
       "      <td>3985007489</td>\n",
       "      <td>Eye Tracker</td>\n",
       "      <td>07.09.2020</td>\n",
       "      <td>Participant1</td>\n",
       "      <td>07.09.2020</td>\n",
       "      <td>863.0</td>\n",
       "      <td>1313.0</td>\n",
       "      <td>863.0</td>\n",
       "      <td>1313.0</td>\n",
       "      <td>...</td>\n",
       "      <td>NaN</td>\n",
       "      <td>NaN</td>\n",
       "      <td>NaN</td>\n",
       "      <td>NaN</td>\n",
       "      <td>NaN</td>\n",
       "      <td>NaN</td>\n",
       "      <td>NaN</td>\n",
       "      <td>NaN</td>\n",
       "      <td>NaN</td>\n",
       "      <td>NaN</td>\n",
       "    </tr>\n",
       "    <tr>\n",
       "      <th>3</th>\n",
       "      <td>161554</td>\n",
       "      <td>3985015915</td>\n",
       "      <td>Eye Tracker</td>\n",
       "      <td>07.09.2020</td>\n",
       "      <td>Participant1</td>\n",
       "      <td>07.09.2020</td>\n",
       "      <td>852.0</td>\n",
       "      <td>884.0</td>\n",
       "      <td>NaN</td>\n",
       "      <td>NaN</td>\n",
       "      <td>...</td>\n",
       "      <td>NaN</td>\n",
       "      <td>NaN</td>\n",
       "      <td>NaN</td>\n",
       "      <td>NaN</td>\n",
       "      <td>NaN</td>\n",
       "      <td>NaN</td>\n",
       "      <td>NaN</td>\n",
       "      <td>NaN</td>\n",
       "      <td>NaN</td>\n",
       "      <td>NaN</td>\n",
       "    </tr>\n",
       "    <tr>\n",
       "      <th>4</th>\n",
       "      <td>169881</td>\n",
       "      <td>3985024242</td>\n",
       "      <td>Eye Tracker</td>\n",
       "      <td>07.09.2020</td>\n",
       "      <td>Participant1</td>\n",
       "      <td>07.09.2020</td>\n",
       "      <td>919.0</td>\n",
       "      <td>1427.0</td>\n",
       "      <td>919.0</td>\n",
       "      <td>1427.0</td>\n",
       "      <td>...</td>\n",
       "      <td>NaN</td>\n",
       "      <td>NaN</td>\n",
       "      <td>NaN</td>\n",
       "      <td>NaN</td>\n",
       "      <td>NaN</td>\n",
       "      <td>NaN</td>\n",
       "      <td>NaN</td>\n",
       "      <td>NaN</td>\n",
       "      <td>NaN</td>\n",
       "      <td>NaN</td>\n",
       "    </tr>\n",
       "  </tbody>\n",
       "</table>\n",
       "<p>5 rows × 46 columns</p>\n",
       "</div>"
      ],
      "text/plain": [
       "   Recording timestamp  Computer timestamp       Sensor Export date  \\\n",
       "0               136480          3984990841  Eye Tracker  07.09.2020   \n",
       "1               144908          3984999269  Eye Tracker  07.09.2020   \n",
       "2               153128          3985007489  Eye Tracker  07.09.2020   \n",
       "3               161554          3985015915  Eye Tracker  07.09.2020   \n",
       "4               169881          3985024242  Eye Tracker  07.09.2020   \n",
       "\n",
       "  Participant name Recording date  Gaze point X  Gaze point Y  \\\n",
       "0     Participant1     07.09.2020        1308.0        1664.0   \n",
       "1     Participant1     07.09.2020         816.0        1197.0   \n",
       "2     Participant1     07.09.2020         863.0        1313.0   \n",
       "3     Participant1     07.09.2020         852.0         884.0   \n",
       "4     Participant1     07.09.2020         919.0        1427.0   \n",
       "\n",
       "   Gaze point left X  Gaze point left Y  ...  Gaze point right X (MCSnorm)  \\\n",
       "0                NaN                NaN  ...                           NaN   \n",
       "1              816.0             1197.0  ...                           NaN   \n",
       "2              863.0             1313.0  ...                           NaN   \n",
       "3                NaN                NaN  ...                           NaN   \n",
       "4              919.0             1427.0  ...                           NaN   \n",
       "\n",
       "   Gaze point right Y (MCSnorm) Client area position X (DACSpx)  \\\n",
       "0                           NaN                             NaN   \n",
       "1                           NaN                             NaN   \n",
       "2                           NaN                             NaN   \n",
       "3                           NaN                             NaN   \n",
       "4                           NaN                             NaN   \n",
       "\n",
       "  Client area position Y (DACSpx) Viewport position X Viewport position Y  \\\n",
       "0                             NaN                 NaN                 NaN   \n",
       "1                             NaN                 NaN                 NaN   \n",
       "2                             NaN                 NaN                 NaN   \n",
       "3                             NaN                 NaN                 NaN   \n",
       "4                             NaN                 NaN                 NaN   \n",
       "\n",
       "  Viewport width Viewport height Full page width Full page height  \n",
       "0            NaN             NaN             NaN              NaN  \n",
       "1            NaN             NaN             NaN              NaN  \n",
       "2            NaN             NaN             NaN              NaN  \n",
       "3            NaN             NaN             NaN              NaN  \n",
       "4            NaN             NaN             NaN              NaN  \n",
       "\n",
       "[5 rows x 46 columns]"
      ]
     },
     "execution_count": 2,
     "metadata": {},
     "output_type": "execute_result"
    }
   ],
   "source": [
    "df = pd.read_csv('export.tsv', sep='\\t')\n",
    "df.head()"
   ]
  },
  {
   "cell_type": "markdown",
   "metadata": {},
   "source": [
    "Clean up data"
   ]
  },
  {
   "cell_type": "code",
   "execution_count": 3,
   "metadata": {},
   "outputs": [
    {
     "name": "stdout",
     "output_type": "stream",
     "text": [
      "-611.0 1664.0 -973.0 3812.0\n"
     ]
    }
   ],
   "source": [
    "cols_to_keep = ['Recording timestamp', 'Gaze point X', 'Gaze point Y']\n",
    "df = df[cols_to_keep]\n",
    "y_min = df['Gaze point Y'].min()\n",
    "y_max = df['Gaze point Y'].max()\n",
    "x_min = df['Gaze point X'].min()\n",
    "x_max = df['Gaze point X'].max()\n",
    "print(y_min, y_max, x_min, x_max)\n"
   ]
  },
  {
   "cell_type": "markdown",
   "metadata": {},
   "source": [
    "Import plotting libraries"
   ]
  },
  {
   "cell_type": "code",
   "execution_count": 4,
   "metadata": {},
   "outputs": [],
   "source": [
    "import numpy as np\n",
    "import scipy as sp\n",
    "import chart_studio.plotly as py\n",
    "import plotly.figure_factory as ff\n",
    "import plotly.graph_objects as go\n",
    "import plotly.express as px\n",
    "from PIL import Image"
   ]
  },
  {
   "cell_type": "code",
   "execution_count": 12,
   "metadata": {},
   "outputs": [],
   "source": [
    "length = 120 * 4\n",
    "subset = df.tail(length)\n",
    "df_length, _ = df.shape\n",
    "x = subset['Gaze point X']\n",
    "y = subset['Gaze point Y']\n",
    "subset['Gaze point X'].head()\n",
    "start_idx =  df_length - length\n"
   ]
  },
  {
   "cell_type": "code",
   "execution_count": 13,
   "metadata": {},
   "outputs": [
    {
     "data": {
      "text/plain": [
       "\" \\nframes = []\\nfor i in range(start_idx, df_length):\\n    scatter = go.Scatter(\\n        x=[x[i]],\\n        y=[y[i]]\\n    )\\n    frame = go.Frame(data=[scatter])\\n    frames.append(frame)\\n\\nfig = go.Figure(\\n    data=go.Scatter(\\n        x = x,\\n        y = y,\\n    ),\\n    layout = go.Layout(\\n        updatemenus=[dict(type='buttons', buttons=[\\n            {\\n                'label':'Play', \\n                'method':'animate', \\n                'args':[None, {'frame': {'duration': 100}, 'transition': {'duration': 300}}]\\n            }\\n        ])]\\n                         ),\\n    frames = frames\\n)\\nfig\\n\""
      ]
     },
     "execution_count": 13,
     "metadata": {},
     "output_type": "execute_result"
    }
   ],
   "source": [
    "# Use plotly express instead of graph_objects\n",
    "\"\"\" \n",
    "frames = []\n",
    "for i in range(start_idx, df_length):\n",
    "    scatter = go.Scatter(\n",
    "        x=[x[i]],\n",
    "        y=[y[i]]\n",
    "    )\n",
    "    frame = go.Frame(data=[scatter])\n",
    "    frames.append(frame)\n",
    "\n",
    "fig = go.Figure(\n",
    "    data=go.Scatter(\n",
    "        x = x,\n",
    "        y = y,\n",
    "    ),\n",
    "    layout = go.Layout(\n",
    "        updatemenus=[dict(type='buttons', buttons=[\n",
    "            {\n",
    "                'label':'Play', \n",
    "                'method':'animate', \n",
    "                'args':[None, {'frame': {'duration': 100}, 'transition': {'duration': 300}}]\n",
    "            }\n",
    "        ])]\n",
    "                         ),\n",
    "    frames = frames\n",
    ")\n",
    "fig\n",
    "\"\"\""
   ]
  },
  {
   "cell_type": "markdown",
   "metadata": {},
   "source": [
    "Open image for later use in plot"
   ]
  },
  {
   "cell_type": "code",
   "execution_count": 14,
   "metadata": {
    "scrolled": true
   },
   "outputs": [],
   "source": [
    "image2 = Image.open('random.png')"
   ]
  },
  {
   "cell_type": "markdown",
   "metadata": {},
   "source": [
    "Create animated scatter plot for last 4 seconds of recording"
   ]
  },
  {
   "cell_type": "code",
   "execution_count": 15,
   "metadata": {},
   "outputs": [
    {
     "data": {
      "application/vnd.plotly.v1+json": {
       "config": {
        "plotlyServerURL": "https://plot.ly"
       },
       "data": [
        {
         "hovertemplate": "Recording timestamp=114427347<br>Gaze point X=%{x}<br>Gaze point Y=%{y}<extra></extra>",
         "legendgroup": "",
         "marker": {
          "color": "#636efa",
          "symbol": "circle"
         },
         "mode": "markers",
         "name": "",
         "orientation": "v",
         "showlegend": false,
         "type": "scatter",
         "x": [
          1378
         ],
         "xaxis": "x",
         "y": [
          797
         ],
         "yaxis": "y"
        }
       ],
       "frames": [
        {
         "data": [
          {
           "hovertemplate": "Recording timestamp=114427347<br>Gaze point X=%{x}<br>Gaze point Y=%{y}<extra></extra>",
           "legendgroup": "",
           "marker": {
            "color": "#636efa",
            "symbol": "circle"
           },
           "mode": "markers",
           "name": "",
           "orientation": "v",
           "showlegend": false,
           "type": "scatter",
           "x": [
            1378
           ],
           "xaxis": "x",
           "y": [
            797
           ],
           "yaxis": "y"
          }
         ],
         "name": "114427347"
        },
        {
         "data": [
          {
           "hovertemplate": "Recording timestamp=114435739<br>Gaze point X=%{x}<br>Gaze point Y=%{y}<extra></extra>",
           "legendgroup": "",
           "marker": {
            "color": "#636efa",
            "symbol": "circle"
           },
           "mode": "markers",
           "name": "",
           "orientation": "v",
           "showlegend": false,
           "type": "scatter",
           "x": [
            null
           ],
           "xaxis": "x",
           "y": [
            null
           ],
           "yaxis": "y"
          }
         ],
         "name": "114435739"
        },
        {
         "data": [
          {
           "hovertemplate": "Recording timestamp=114444098<br>Gaze point X=%{x}<br>Gaze point Y=%{y}<extra></extra>",
           "legendgroup": "",
           "marker": {
            "color": "#636efa",
            "symbol": "circle"
           },
           "mode": "markers",
           "name": "",
           "orientation": "v",
           "showlegend": false,
           "type": "scatter",
           "x": [
            1305
           ],
           "xaxis": "x",
           "y": [
            852
           ],
           "yaxis": "y"
          }
         ],
         "name": "114444098"
        },
        {
         "data": [
          {
           "hovertemplate": "Recording timestamp=114452342<br>Gaze point X=%{x}<br>Gaze point Y=%{y}<extra></extra>",
           "legendgroup": "",
           "marker": {
            "color": "#636efa",
            "symbol": "circle"
           },
           "mode": "markers",
           "name": "",
           "orientation": "v",
           "showlegend": false,
           "type": "scatter",
           "x": [
            null
           ],
           "xaxis": "x",
           "y": [
            null
           ],
           "yaxis": "y"
          }
         ],
         "name": "114452342"
        },
        {
         "data": [
          {
           "hovertemplate": "Recording timestamp=114460676<br>Gaze point X=%{x}<br>Gaze point Y=%{y}<extra></extra>",
           "legendgroup": "",
           "marker": {
            "color": "#636efa",
            "symbol": "circle"
           },
           "mode": "markers",
           "name": "",
           "orientation": "v",
           "showlegend": false,
           "type": "scatter",
           "x": [
            1337
           ],
           "xaxis": "x",
           "y": [
            821
           ],
           "yaxis": "y"
          }
         ],
         "name": "114460676"
        },
        {
         "data": [
          {
           "hovertemplate": "Recording timestamp=114469009<br>Gaze point X=%{x}<br>Gaze point Y=%{y}<extra></extra>",
           "legendgroup": "",
           "marker": {
            "color": "#636efa",
            "symbol": "circle"
           },
           "mode": "markers",
           "name": "",
           "orientation": "v",
           "showlegend": false,
           "type": "scatter",
           "x": [
            1229
           ],
           "xaxis": "x",
           "y": [
            962
           ],
           "yaxis": "y"
          }
         ],
         "name": "114469009"
        },
        {
         "data": [
          {
           "hovertemplate": "Recording timestamp=114477345<br>Gaze point X=%{x}<br>Gaze point Y=%{y}<extra></extra>",
           "legendgroup": "",
           "marker": {
            "color": "#636efa",
            "symbol": "circle"
           },
           "mode": "markers",
           "name": "",
           "orientation": "v",
           "showlegend": false,
           "type": "scatter",
           "x": [
            null
           ],
           "xaxis": "x",
           "y": [
            null
           ],
           "yaxis": "y"
          }
         ],
         "name": "114477345"
        },
        {
         "data": [
          {
           "hovertemplate": "Recording timestamp=114485736<br>Gaze point X=%{x}<br>Gaze point Y=%{y}<extra></extra>",
           "legendgroup": "",
           "marker": {
            "color": "#636efa",
            "symbol": "circle"
           },
           "mode": "markers",
           "name": "",
           "orientation": "v",
           "showlegend": false,
           "type": "scatter",
           "x": [
            null
           ],
           "xaxis": "x",
           "y": [
            null
           ],
           "yaxis": "y"
          }
         ],
         "name": "114485736"
        },
        {
         "data": [
          {
           "hovertemplate": "Recording timestamp=114494008<br>Gaze point X=%{x}<br>Gaze point Y=%{y}<extra></extra>",
           "legendgroup": "",
           "marker": {
            "color": "#636efa",
            "symbol": "circle"
           },
           "mode": "markers",
           "name": "",
           "orientation": "v",
           "showlegend": false,
           "type": "scatter",
           "x": [
            1241
           ],
           "xaxis": "x",
           "y": [
            953
           ],
           "yaxis": "y"
          }
         ],
         "name": "114494008"
        },
        {
         "data": [
          {
           "hovertemplate": "Recording timestamp=114502340<br>Gaze point X=%{x}<br>Gaze point Y=%{y}<extra></extra>",
           "legendgroup": "",
           "marker": {
            "color": "#636efa",
            "symbol": "circle"
           },
           "mode": "markers",
           "name": "",
           "orientation": "v",
           "showlegend": false,
           "type": "scatter",
           "x": [
            null
           ],
           "xaxis": "x",
           "y": [
            null
           ],
           "yaxis": "y"
          }
         ],
         "name": "114502340"
        },
        {
         "data": [
          {
           "hovertemplate": "Recording timestamp=114510708<br>Gaze point X=%{x}<br>Gaze point Y=%{y}<extra></extra>",
           "legendgroup": "",
           "marker": {
            "color": "#636efa",
            "symbol": "circle"
           },
           "mode": "markers",
           "name": "",
           "orientation": "v",
           "showlegend": false,
           "type": "scatter",
           "x": [
            1125
           ],
           "xaxis": "x",
           "y": [
            1029
           ],
           "yaxis": "y"
          }
         ],
         "name": "114510708"
        },
        {
         "data": [
          {
           "hovertemplate": "Recording timestamp=114519038<br>Gaze point X=%{x}<br>Gaze point Y=%{y}<extra></extra>",
           "legendgroup": "",
           "marker": {
            "color": "#636efa",
            "symbol": "circle"
           },
           "mode": "markers",
           "name": "",
           "orientation": "v",
           "showlegend": false,
           "type": "scatter",
           "x": [
            1262
           ],
           "xaxis": "x",
           "y": [
            892
           ],
           "yaxis": "y"
          }
         ],
         "name": "114519038"
        },
        {
         "data": [
          {
           "hovertemplate": "Recording timestamp=114527338<br>Gaze point X=%{x}<br>Gaze point Y=%{y}<extra></extra>",
           "legendgroup": "",
           "marker": {
            "color": "#636efa",
            "symbol": "circle"
           },
           "mode": "markers",
           "name": "",
           "orientation": "v",
           "showlegend": false,
           "type": "scatter",
           "x": [
            null
           ],
           "xaxis": "x",
           "y": [
            null
           ],
           "yaxis": "y"
          }
         ],
         "name": "114527338"
        },
        {
         "data": [
          {
           "hovertemplate": "Recording timestamp=114535669<br>Gaze point X=%{x}<br>Gaze point Y=%{y}<extra></extra>",
           "legendgroup": "",
           "marker": {
            "color": "#636efa",
            "symbol": "circle"
           },
           "mode": "markers",
           "name": "",
           "orientation": "v",
           "showlegend": false,
           "type": "scatter",
           "x": [
            null
           ],
           "xaxis": "x",
           "y": [
            null
           ],
           "yaxis": "y"
          }
         ],
         "name": "114535669"
        },
        {
         "data": [
          {
           "hovertemplate": "Recording timestamp=114544008<br>Gaze point X=%{x}<br>Gaze point Y=%{y}<extra></extra>",
           "legendgroup": "",
           "marker": {
            "color": "#636efa",
            "symbol": "circle"
           },
           "mode": "markers",
           "name": "",
           "orientation": "v",
           "showlegend": false,
           "type": "scatter",
           "x": [
            1224
           ],
           "xaxis": "x",
           "y": [
            921
           ],
           "yaxis": "y"
          }
         ],
         "name": "114544008"
        },
        {
         "data": [
          {
           "hovertemplate": "Recording timestamp=114552392<br>Gaze point X=%{x}<br>Gaze point Y=%{y}<extra></extra>",
           "legendgroup": "",
           "marker": {
            "color": "#636efa",
            "symbol": "circle"
           },
           "mode": "markers",
           "name": "",
           "orientation": "v",
           "showlegend": false,
           "type": "scatter",
           "x": [
            1314
           ],
           "xaxis": "x",
           "y": [
            885
           ],
           "yaxis": "y"
          }
         ],
         "name": "114552392"
        },
        {
         "data": [
          {
           "hovertemplate": "Recording timestamp=114560658<br>Gaze point X=%{x}<br>Gaze point Y=%{y}<extra></extra>",
           "legendgroup": "",
           "marker": {
            "color": "#636efa",
            "symbol": "circle"
           },
           "mode": "markers",
           "name": "",
           "orientation": "v",
           "showlegend": false,
           "type": "scatter",
           "x": [
            1214
           ],
           "xaxis": "x",
           "y": [
            931
           ],
           "yaxis": "y"
          }
         ],
         "name": "114560658"
        },
        {
         "data": [
          {
           "hovertemplate": "Recording timestamp=114568993<br>Gaze point X=%{x}<br>Gaze point Y=%{y}<extra></extra>",
           "legendgroup": "",
           "marker": {
            "color": "#636efa",
            "symbol": "circle"
           },
           "mode": "markers",
           "name": "",
           "orientation": "v",
           "showlegend": false,
           "type": "scatter",
           "x": [
            1265
           ],
           "xaxis": "x",
           "y": [
            936
           ],
           "yaxis": "y"
          }
         ],
         "name": "114568993"
        },
        {
         "data": [
          {
           "hovertemplate": "Recording timestamp=114577325<br>Gaze point X=%{x}<br>Gaze point Y=%{y}<extra></extra>",
           "legendgroup": "",
           "marker": {
            "color": "#636efa",
            "symbol": "circle"
           },
           "mode": "markers",
           "name": "",
           "orientation": "v",
           "showlegend": false,
           "type": "scatter",
           "x": [
            null
           ],
           "xaxis": "x",
           "y": [
            null
           ],
           "yaxis": "y"
          }
         ],
         "name": "114577325"
        },
        {
         "data": [
          {
           "hovertemplate": "Recording timestamp=114585666<br>Gaze point X=%{x}<br>Gaze point Y=%{y}<extra></extra>",
           "legendgroup": "",
           "marker": {
            "color": "#636efa",
            "symbol": "circle"
           },
           "mode": "markers",
           "name": "",
           "orientation": "v",
           "showlegend": false,
           "type": "scatter",
           "x": [
            1196
           ],
           "xaxis": "x",
           "y": [
            946
           ],
           "yaxis": "y"
          }
         ],
         "name": "114585666"
        },
        {
         "data": [
          {
           "hovertemplate": "Recording timestamp=114593999<br>Gaze point X=%{x}<br>Gaze point Y=%{y}<extra></extra>",
           "legendgroup": "",
           "marker": {
            "color": "#636efa",
            "symbol": "circle"
           },
           "mode": "markers",
           "name": "",
           "orientation": "v",
           "showlegend": false,
           "type": "scatter",
           "x": [
            1288
           ],
           "xaxis": "x",
           "y": [
            855
           ],
           "yaxis": "y"
          }
         ],
         "name": "114593999"
        },
        {
         "data": [
          {
           "hovertemplate": "Recording timestamp=114602330<br>Gaze point X=%{x}<br>Gaze point Y=%{y}<extra></extra>",
           "legendgroup": "",
           "marker": {
            "color": "#636efa",
            "symbol": "circle"
           },
           "mode": "markers",
           "name": "",
           "orientation": "v",
           "showlegend": false,
           "type": "scatter",
           "x": [
            null
           ],
           "xaxis": "x",
           "y": [
            null
           ],
           "yaxis": "y"
          }
         ],
         "name": "114602330"
        },
        {
         "data": [
          {
           "hovertemplate": "Recording timestamp=114610664<br>Gaze point X=%{x}<br>Gaze point Y=%{y}<extra></extra>",
           "legendgroup": "",
           "marker": {
            "color": "#636efa",
            "symbol": "circle"
           },
           "mode": "markers",
           "name": "",
           "orientation": "v",
           "showlegend": false,
           "type": "scatter",
           "x": [
            null
           ],
           "xaxis": "x",
           "y": [
            null
           ],
           "yaxis": "y"
          }
         ],
         "name": "114610664"
        },
        {
         "data": [
          {
           "hovertemplate": "Recording timestamp=114618997<br>Gaze point X=%{x}<br>Gaze point Y=%{y}<extra></extra>",
           "legendgroup": "",
           "marker": {
            "color": "#636efa",
            "symbol": "circle"
           },
           "mode": "markers",
           "name": "",
           "orientation": "v",
           "showlegend": false,
           "type": "scatter",
           "x": [
            1258
           ],
           "xaxis": "x",
           "y": [
            788
           ],
           "yaxis": "y"
          }
         ],
         "name": "114618997"
        },
        {
         "data": [
          {
           "hovertemplate": "Recording timestamp=114627387<br>Gaze point X=%{x}<br>Gaze point Y=%{y}<extra></extra>",
           "legendgroup": "",
           "marker": {
            "color": "#636efa",
            "symbol": "circle"
           },
           "mode": "markers",
           "name": "",
           "orientation": "v",
           "showlegend": false,
           "type": "scatter",
           "x": [
            null
           ],
           "xaxis": "x",
           "y": [
            null
           ],
           "yaxis": "y"
          }
         ],
         "name": "114627387"
        },
        {
         "data": [
          {
           "hovertemplate": "Recording timestamp=114635663<br>Gaze point X=%{x}<br>Gaze point Y=%{y}<extra></extra>",
           "legendgroup": "",
           "marker": {
            "color": "#636efa",
            "symbol": "circle"
           },
           "mode": "markers",
           "name": "",
           "orientation": "v",
           "showlegend": false,
           "type": "scatter",
           "x": [
            null
           ],
           "xaxis": "x",
           "y": [
            null
           ],
           "yaxis": "y"
          }
         ],
         "name": "114635663"
        },
        {
         "data": [
          {
           "hovertemplate": "Recording timestamp=114643998<br>Gaze point X=%{x}<br>Gaze point Y=%{y}<extra></extra>",
           "legendgroup": "",
           "marker": {
            "color": "#636efa",
            "symbol": "circle"
           },
           "mode": "markers",
           "name": "",
           "orientation": "v",
           "showlegend": false,
           "type": "scatter",
           "x": [
            1290
           ],
           "xaxis": "x",
           "y": [
            743
           ],
           "yaxis": "y"
          }
         ],
         "name": "114643998"
        },
        {
         "data": [
          {
           "hovertemplate": "Recording timestamp=114652332<br>Gaze point X=%{x}<br>Gaze point Y=%{y}<extra></extra>",
           "legendgroup": "",
           "marker": {
            "color": "#636efa",
            "symbol": "circle"
           },
           "mode": "markers",
           "name": "",
           "orientation": "v",
           "showlegend": false,
           "type": "scatter",
           "x": [
            null
           ],
           "xaxis": "x",
           "y": [
            null
           ],
           "yaxis": "y"
          }
         ],
         "name": "114652332"
        },
        {
         "data": [
          {
           "hovertemplate": "Recording timestamp=114660662<br>Gaze point X=%{x}<br>Gaze point Y=%{y}<extra></extra>",
           "legendgroup": "",
           "marker": {
            "color": "#636efa",
            "symbol": "circle"
           },
           "mode": "markers",
           "name": "",
           "orientation": "v",
           "showlegend": false,
           "type": "scatter",
           "x": [
            null
           ],
           "xaxis": "x",
           "y": [
            null
           ],
           "yaxis": "y"
          }
         ],
         "name": "114660662"
        },
        {
         "data": [
          {
           "hovertemplate": "Recording timestamp=114668993<br>Gaze point X=%{x}<br>Gaze point Y=%{y}<extra></extra>",
           "legendgroup": "",
           "marker": {
            "color": "#636efa",
            "symbol": "circle"
           },
           "mode": "markers",
           "name": "",
           "orientation": "v",
           "showlegend": false,
           "type": "scatter",
           "x": [
            1300
           ],
           "xaxis": "x",
           "y": [
            744
           ],
           "yaxis": "y"
          }
         ],
         "name": "114668993"
        },
        {
         "data": [
          {
           "hovertemplate": "Recording timestamp=114677327<br>Gaze point X=%{x}<br>Gaze point Y=%{y}<extra></extra>",
           "legendgroup": "",
           "marker": {
            "color": "#636efa",
            "symbol": "circle"
           },
           "mode": "markers",
           "name": "",
           "orientation": "v",
           "showlegend": false,
           "type": "scatter",
           "x": [
            null
           ],
           "xaxis": "x",
           "y": [
            null
           ],
           "yaxis": "y"
          }
         ],
         "name": "114677327"
        },
        {
         "data": [
          {
           "hovertemplate": "Recording timestamp=114685714<br>Gaze point X=%{x}<br>Gaze point Y=%{y}<extra></extra>",
           "legendgroup": "",
           "marker": {
            "color": "#636efa",
            "symbol": "circle"
           },
           "mode": "markers",
           "name": "",
           "orientation": "v",
           "showlegend": false,
           "type": "scatter",
           "x": [
            1279
           ],
           "xaxis": "x",
           "y": [
            746
           ],
           "yaxis": "y"
          }
         ],
         "name": "114685714"
        },
        {
         "data": [
          {
           "hovertemplate": "Recording timestamp=114694049<br>Gaze point X=%{x}<br>Gaze point Y=%{y}<extra></extra>",
           "legendgroup": "",
           "marker": {
            "color": "#636efa",
            "symbol": "circle"
           },
           "mode": "markers",
           "name": "",
           "orientation": "v",
           "showlegend": false,
           "type": "scatter",
           "x": [
            1280
           ],
           "xaxis": "x",
           "y": [
            742
           ],
           "yaxis": "y"
          }
         ],
         "name": "114694049"
        },
        {
         "data": [
          {
           "hovertemplate": "Recording timestamp=114702324<br>Gaze point X=%{x}<br>Gaze point Y=%{y}<extra></extra>",
           "legendgroup": "",
           "marker": {
            "color": "#636efa",
            "symbol": "circle"
           },
           "mode": "markers",
           "name": "",
           "orientation": "v",
           "showlegend": false,
           "type": "scatter",
           "x": [
            null
           ],
           "xaxis": "x",
           "y": [
            null
           ],
           "yaxis": "y"
          }
         ],
         "name": "114702324"
        },
        {
         "data": [
          {
           "hovertemplate": "Recording timestamp=114710659<br>Gaze point X=%{x}<br>Gaze point Y=%{y}<extra></extra>",
           "legendgroup": "",
           "marker": {
            "color": "#636efa",
            "symbol": "circle"
           },
           "mode": "markers",
           "name": "",
           "orientation": "v",
           "showlegend": false,
           "type": "scatter",
           "x": [
            1187
           ],
           "xaxis": "x",
           "y": [
            789
           ],
           "yaxis": "y"
          }
         ],
         "name": "114710659"
        },
        {
         "data": [
          {
           "hovertemplate": "Recording timestamp=114718993<br>Gaze point X=%{x}<br>Gaze point Y=%{y}<extra></extra>",
           "legendgroup": "",
           "marker": {
            "color": "#636efa",
            "symbol": "circle"
           },
           "mode": "markers",
           "name": "",
           "orientation": "v",
           "showlegend": false,
           "type": "scatter",
           "x": [
            1182
           ],
           "xaxis": "x",
           "y": [
            797
           ],
           "yaxis": "y"
          }
         ],
         "name": "114718993"
        },
        {
         "data": [
          {
           "hovertemplate": "Recording timestamp=114727324<br>Gaze point X=%{x}<br>Gaze point Y=%{y}<extra></extra>",
           "legendgroup": "",
           "marker": {
            "color": "#636efa",
            "symbol": "circle"
           },
           "mode": "markers",
           "name": "",
           "orientation": "v",
           "showlegend": false,
           "type": "scatter",
           "x": [
            1231
           ],
           "xaxis": "x",
           "y": [
            675
           ],
           "yaxis": "y"
          }
         ],
         "name": "114727324"
        },
        {
         "data": [
          {
           "hovertemplate": "Recording timestamp=114735664<br>Gaze point X=%{x}<br>Gaze point Y=%{y}<extra></extra>",
           "legendgroup": "",
           "marker": {
            "color": "#636efa",
            "symbol": "circle"
           },
           "mode": "markers",
           "name": "",
           "orientation": "v",
           "showlegend": false,
           "type": "scatter",
           "x": [
            1288
           ],
           "xaxis": "x",
           "y": [
            663
           ],
           "yaxis": "y"
          }
         ],
         "name": "114735664"
        },
        {
         "data": [
          {
           "hovertemplate": "Recording timestamp=114743992<br>Gaze point X=%{x}<br>Gaze point Y=%{y}<extra></extra>",
           "legendgroup": "",
           "marker": {
            "color": "#636efa",
            "symbol": "circle"
           },
           "mode": "markers",
           "name": "",
           "orientation": "v",
           "showlegend": false,
           "type": "scatter",
           "x": [
            1219
           ],
           "xaxis": "x",
           "y": [
            762
           ],
           "yaxis": "y"
          }
         ],
         "name": "114743992"
        },
        {
         "data": [
          {
           "hovertemplate": "Recording timestamp=114752374<br>Gaze point X=%{x}<br>Gaze point Y=%{y}<extra></extra>",
           "legendgroup": "",
           "marker": {
            "color": "#636efa",
            "symbol": "circle"
           },
           "mode": "markers",
           "name": "",
           "orientation": "v",
           "showlegend": false,
           "type": "scatter",
           "x": [
            null
           ],
           "xaxis": "x",
           "y": [
            null
           ],
           "yaxis": "y"
          }
         ],
         "name": "114752374"
        },
        {
         "data": [
          {
           "hovertemplate": "Recording timestamp=114760665<br>Gaze point X=%{x}<br>Gaze point Y=%{y}<extra></extra>",
           "legendgroup": "",
           "marker": {
            "color": "#636efa",
            "symbol": "circle"
           },
           "mode": "markers",
           "name": "",
           "orientation": "v",
           "showlegend": false,
           "type": "scatter",
           "x": [
            1284
           ],
           "xaxis": "x",
           "y": [
            699
           ],
           "yaxis": "y"
          }
         ],
         "name": "114760665"
        },
        {
         "data": [
          {
           "hovertemplate": "Recording timestamp=114768986<br>Gaze point X=%{x}<br>Gaze point Y=%{y}<extra></extra>",
           "legendgroup": "",
           "marker": {
            "color": "#636efa",
            "symbol": "circle"
           },
           "mode": "markers",
           "name": "",
           "orientation": "v",
           "showlegend": false,
           "type": "scatter",
           "x": [
            1257
           ],
           "xaxis": "x",
           "y": [
            704
           ],
           "yaxis": "y"
          }
         ],
         "name": "114768986"
        },
        {
         "data": [
          {
           "hovertemplate": "Recording timestamp=114777318<br>Gaze point X=%{x}<br>Gaze point Y=%{y}<extra></extra>",
           "legendgroup": "",
           "marker": {
            "color": "#636efa",
            "symbol": "circle"
           },
           "mode": "markers",
           "name": "",
           "orientation": "v",
           "showlegend": false,
           "type": "scatter",
           "x": [
            1363
           ],
           "xaxis": "x",
           "y": [
            568
           ],
           "yaxis": "y"
          }
         ],
         "name": "114777318"
        },
        {
         "data": [
          {
           "hovertemplate": "Recording timestamp=114785661<br>Gaze point X=%{x}<br>Gaze point Y=%{y}<extra></extra>",
           "legendgroup": "",
           "marker": {
            "color": "#636efa",
            "symbol": "circle"
           },
           "mode": "markers",
           "name": "",
           "orientation": "v",
           "showlegend": false,
           "type": "scatter",
           "x": [
            1356
           ],
           "xaxis": "x",
           "y": [
            673
           ],
           "yaxis": "y"
          }
         ],
         "name": "114785661"
        },
        {
         "data": [
          {
           "hovertemplate": "Recording timestamp=114793985<br>Gaze point X=%{x}<br>Gaze point Y=%{y}<extra></extra>",
           "legendgroup": "",
           "marker": {
            "color": "#636efa",
            "symbol": "circle"
           },
           "mode": "markers",
           "name": "",
           "orientation": "v",
           "showlegend": false,
           "type": "scatter",
           "x": [
            1317
           ],
           "xaxis": "x",
           "y": [
            755
           ],
           "yaxis": "y"
          }
         ],
         "name": "114793985"
        },
        {
         "data": [
          {
           "hovertemplate": "Recording timestamp=114802372<br>Gaze point X=%{x}<br>Gaze point Y=%{y}<extra></extra>",
           "legendgroup": "",
           "marker": {
            "color": "#636efa",
            "symbol": "circle"
           },
           "mode": "markers",
           "name": "",
           "orientation": "v",
           "showlegend": false,
           "type": "scatter",
           "x": [
            null
           ],
           "xaxis": "x",
           "y": [
            null
           ],
           "yaxis": "y"
          }
         ],
         "name": "114802372"
        },
        {
         "data": [
          {
           "hovertemplate": "Recording timestamp=114810650<br>Gaze point X=%{x}<br>Gaze point Y=%{y}<extra></extra>",
           "legendgroup": "",
           "marker": {
            "color": "#636efa",
            "symbol": "circle"
           },
           "mode": "markers",
           "name": "",
           "orientation": "v",
           "showlegend": false,
           "type": "scatter",
           "x": [
            1315
           ],
           "xaxis": "x",
           "y": [
            753
           ],
           "yaxis": "y"
          }
         ],
         "name": "114810650"
        },
        {
         "data": [
          {
           "hovertemplate": "Recording timestamp=114819042<br>Gaze point X=%{x}<br>Gaze point Y=%{y}<extra></extra>",
           "legendgroup": "",
           "marker": {
            "color": "#636efa",
            "symbol": "circle"
           },
           "mode": "markers",
           "name": "",
           "orientation": "v",
           "showlegend": false,
           "type": "scatter",
           "x": [
            1321
           ],
           "xaxis": "x",
           "y": [
            748
           ],
           "yaxis": "y"
          }
         ],
         "name": "114819042"
        },
        {
         "data": [
          {
           "hovertemplate": "Recording timestamp=114827372<br>Gaze point X=%{x}<br>Gaze point Y=%{y}<extra></extra>",
           "legendgroup": "",
           "marker": {
            "color": "#636efa",
            "symbol": "circle"
           },
           "mode": "markers",
           "name": "",
           "orientation": "v",
           "showlegend": false,
           "type": "scatter",
           "x": [
            1130
           ],
           "xaxis": "x",
           "y": [
            641
           ],
           "yaxis": "y"
          }
         ],
         "name": "114827372"
        },
        {
         "data": [
          {
           "hovertemplate": "Recording timestamp=114835716<br>Gaze point X=%{x}<br>Gaze point Y=%{y}<extra></extra>",
           "legendgroup": "",
           "marker": {
            "color": "#636efa",
            "symbol": "circle"
           },
           "mode": "markers",
           "name": "",
           "orientation": "v",
           "showlegend": false,
           "type": "scatter",
           "x": [
            1117
           ],
           "xaxis": "x",
           "y": [
            645
           ],
           "yaxis": "y"
          }
         ],
         "name": "114835716"
        },
        {
         "data": [
          {
           "hovertemplate": "Recording timestamp=114844035<br>Gaze point X=%{x}<br>Gaze point Y=%{y}<extra></extra>",
           "legendgroup": "",
           "marker": {
            "color": "#636efa",
            "symbol": "circle"
           },
           "mode": "markers",
           "name": "",
           "orientation": "v",
           "showlegend": false,
           "type": "scatter",
           "x": [
            1343
           ],
           "xaxis": "x",
           "y": [
            645
           ],
           "yaxis": "y"
          }
         ],
         "name": "114844035"
        },
        {
         "data": [
          {
           "hovertemplate": "Recording timestamp=114852312<br>Gaze point X=%{x}<br>Gaze point Y=%{y}<extra></extra>",
           "legendgroup": "",
           "marker": {
            "color": "#636efa",
            "symbol": "circle"
           },
           "mode": "markers",
           "name": "",
           "orientation": "v",
           "showlegend": false,
           "type": "scatter",
           "x": [
            null
           ],
           "xaxis": "x",
           "y": [
            null
           ],
           "yaxis": "y"
          }
         ],
         "name": "114852312"
        },
        {
         "data": [
          {
           "hovertemplate": "Recording timestamp=114860645<br>Gaze point X=%{x}<br>Gaze point Y=%{y}<extra></extra>",
           "legendgroup": "",
           "marker": {
            "color": "#636efa",
            "symbol": "circle"
           },
           "mode": "markers",
           "name": "",
           "orientation": "v",
           "showlegend": false,
           "type": "scatter",
           "x": [
            1130
           ],
           "xaxis": "x",
           "y": [
            593
           ],
           "yaxis": "y"
          }
         ],
         "name": "114860645"
        },
        {
         "data": [
          {
           "hovertemplate": "Recording timestamp=114868975<br>Gaze point X=%{x}<br>Gaze point Y=%{y}<extra></extra>",
           "legendgroup": "",
           "marker": {
            "color": "#636efa",
            "symbol": "circle"
           },
           "mode": "markers",
           "name": "",
           "orientation": "v",
           "showlegend": false,
           "type": "scatter",
           "x": [
            1296
           ],
           "xaxis": "x",
           "y": [
            615
           ],
           "yaxis": "y"
          }
         ],
         "name": "114868975"
        },
        {
         "data": [
          {
           "hovertemplate": "Recording timestamp=114877309<br>Gaze point X=%{x}<br>Gaze point Y=%{y}<extra></extra>",
           "legendgroup": "",
           "marker": {
            "color": "#636efa",
            "symbol": "circle"
           },
           "mode": "markers",
           "name": "",
           "orientation": "v",
           "showlegend": false,
           "type": "scatter",
           "x": [
            null
           ],
           "xaxis": "x",
           "y": [
            null
           ],
           "yaxis": "y"
          }
         ],
         "name": "114877309"
        },
        {
         "data": [
          {
           "hovertemplate": "Recording timestamp=114885645<br>Gaze point X=%{x}<br>Gaze point Y=%{y}<extra></extra>",
           "legendgroup": "",
           "marker": {
            "color": "#636efa",
            "symbol": "circle"
           },
           "mode": "markers",
           "name": "",
           "orientation": "v",
           "showlegend": false,
           "type": "scatter",
           "x": [
            null
           ],
           "xaxis": "x",
           "y": [
            null
           ],
           "yaxis": "y"
          }
         ],
         "name": "114885645"
        },
        {
         "data": [
          {
           "hovertemplate": "Recording timestamp=114893980<br>Gaze point X=%{x}<br>Gaze point Y=%{y}<extra></extra>",
           "legendgroup": "",
           "marker": {
            "color": "#636efa",
            "symbol": "circle"
           },
           "mode": "markers",
           "name": "",
           "orientation": "v",
           "showlegend": false,
           "type": "scatter",
           "x": [
            1365
           ],
           "xaxis": "x",
           "y": [
            420
           ],
           "yaxis": "y"
          }
         ],
         "name": "114893980"
        },
        {
         "data": [
          {
           "hovertemplate": "Recording timestamp=114902307<br>Gaze point X=%{x}<br>Gaze point Y=%{y}<extra></extra>",
           "legendgroup": "",
           "marker": {
            "color": "#636efa",
            "symbol": "circle"
           },
           "mode": "markers",
           "name": "",
           "orientation": "v",
           "showlegend": false,
           "type": "scatter",
           "x": [
            1352
           ],
           "xaxis": "x",
           "y": [
            445
           ],
           "yaxis": "y"
          }
         ],
         "name": "114902307"
        },
        {
         "data": [
          {
           "hovertemplate": "Recording timestamp=114910645<br>Gaze point X=%{x}<br>Gaze point Y=%{y}<extra></extra>",
           "legendgroup": "",
           "marker": {
            "color": "#636efa",
            "symbol": "circle"
           },
           "mode": "markers",
           "name": "",
           "orientation": "v",
           "showlegend": false,
           "type": "scatter",
           "x": [
            null
           ],
           "xaxis": "x",
           "y": [
            null
           ],
           "yaxis": "y"
          }
         ],
         "name": "114910645"
        },
        {
         "data": [
          {
           "hovertemplate": "Recording timestamp=114918972<br>Gaze point X=%{x}<br>Gaze point Y=%{y}<extra></extra>",
           "legendgroup": "",
           "marker": {
            "color": "#636efa",
            "symbol": "circle"
           },
           "mode": "markers",
           "name": "",
           "orientation": "v",
           "showlegend": false,
           "type": "scatter",
           "x": [
            1305
           ],
           "xaxis": "x",
           "y": [
            458
           ],
           "yaxis": "y"
          }
         ],
         "name": "114918972"
        },
        {
         "data": [
          {
           "hovertemplate": "Recording timestamp=114927340<br>Gaze point X=%{x}<br>Gaze point Y=%{y}<extra></extra>",
           "legendgroup": "",
           "marker": {
            "color": "#636efa",
            "symbol": "circle"
           },
           "mode": "markers",
           "name": "",
           "orientation": "v",
           "showlegend": false,
           "type": "scatter",
           "x": [
            1261
           ],
           "xaxis": "x",
           "y": [
            367
           ],
           "yaxis": "y"
          }
         ],
         "name": "114927340"
        },
        {
         "data": [
          {
           "hovertemplate": "Recording timestamp=114935639<br>Gaze point X=%{x}<br>Gaze point Y=%{y}<extra></extra>",
           "legendgroup": "",
           "marker": {
            "color": "#636efa",
            "symbol": "circle"
           },
           "mode": "markers",
           "name": "",
           "orientation": "v",
           "showlegend": false,
           "type": "scatter",
           "x": [
            null
           ],
           "xaxis": "x",
           "y": [
            null
           ],
           "yaxis": "y"
          }
         ],
         "name": "114935639"
        },
        {
         "data": [
          {
           "hovertemplate": "Recording timestamp=114943971<br>Gaze point X=%{x}<br>Gaze point Y=%{y}<extra></extra>",
           "legendgroup": "",
           "marker": {
            "color": "#636efa",
            "symbol": "circle"
           },
           "mode": "markers",
           "name": "",
           "orientation": "v",
           "showlegend": false,
           "type": "scatter",
           "x": [
            1307
           ],
           "xaxis": "x",
           "y": [
            421
           ],
           "yaxis": "y"
          }
         ],
         "name": "114943971"
        },
        {
         "data": [
          {
           "hovertemplate": "Recording timestamp=114952300<br>Gaze point X=%{x}<br>Gaze point Y=%{y}<extra></extra>",
           "legendgroup": "",
           "marker": {
            "color": "#636efa",
            "symbol": "circle"
           },
           "mode": "markers",
           "name": "",
           "orientation": "v",
           "showlegend": false,
           "type": "scatter",
           "x": [
            null
           ],
           "xaxis": "x",
           "y": [
            null
           ],
           "yaxis": "y"
          }
         ],
         "name": "114952300"
        },
        {
         "data": [
          {
           "hovertemplate": "Recording timestamp=114960629<br>Gaze point X=%{x}<br>Gaze point Y=%{y}<extra></extra>",
           "legendgroup": "",
           "marker": {
            "color": "#636efa",
            "symbol": "circle"
           },
           "mode": "markers",
           "name": "",
           "orientation": "v",
           "showlegend": false,
           "type": "scatter",
           "x": [
            null
           ],
           "xaxis": "x",
           "y": [
            null
           ],
           "yaxis": "y"
          }
         ],
         "name": "114960629"
        },
        {
         "data": [
          {
           "hovertemplate": "Recording timestamp=114968961<br>Gaze point X=%{x}<br>Gaze point Y=%{y}<extra></extra>",
           "legendgroup": "",
           "marker": {
            "color": "#636efa",
            "symbol": "circle"
           },
           "mode": "markers",
           "name": "",
           "orientation": "v",
           "showlegend": false,
           "type": "scatter",
           "x": [
            1308
           ],
           "xaxis": "x",
           "y": [
            416
           ],
           "yaxis": "y"
          }
         ],
         "name": "114968961"
        },
        {
         "data": [
          {
           "hovertemplate": "Recording timestamp=114977295<br>Gaze point X=%{x}<br>Gaze point Y=%{y}<extra></extra>",
           "legendgroup": "",
           "marker": {
            "color": "#636efa",
            "symbol": "circle"
           },
           "mode": "markers",
           "name": "",
           "orientation": "v",
           "showlegend": false,
           "type": "scatter",
           "x": [
            1203
           ],
           "xaxis": "x",
           "y": [
            445
           ],
           "yaxis": "y"
          }
         ],
         "name": "114977295"
        },
        {
         "data": [
          {
           "hovertemplate": "Recording timestamp=114985698<br>Gaze point X=%{x}<br>Gaze point Y=%{y}<extra></extra>",
           "legendgroup": "",
           "marker": {
            "color": "#636efa",
            "symbol": "circle"
           },
           "mode": "markers",
           "name": "",
           "orientation": "v",
           "showlegend": false,
           "type": "scatter",
           "x": [
            1347
           ],
           "xaxis": "x",
           "y": [
            465
           ],
           "yaxis": "y"
          }
         ],
         "name": "114985698"
        },
        {
         "data": [
          {
           "hovertemplate": "Recording timestamp=114993974<br>Gaze point X=%{x}<br>Gaze point Y=%{y}<extra></extra>",
           "legendgroup": "",
           "marker": {
            "color": "#636efa",
            "symbol": "circle"
           },
           "mode": "markers",
           "name": "",
           "orientation": "v",
           "showlegend": false,
           "type": "scatter",
           "x": [
            1268
           ],
           "xaxis": "x",
           "y": [
            449
           ],
           "yaxis": "y"
          }
         ],
         "name": "114993974"
        },
        {
         "data": [
          {
           "hovertemplate": "Recording timestamp=115002300<br>Gaze point X=%{x}<br>Gaze point Y=%{y}<extra></extra>",
           "legendgroup": "",
           "marker": {
            "color": "#636efa",
            "symbol": "circle"
           },
           "mode": "markers",
           "name": "",
           "orientation": "v",
           "showlegend": false,
           "type": "scatter",
           "x": [
            null
           ],
           "xaxis": "x",
           "y": [
            null
           ],
           "yaxis": "y"
          }
         ],
         "name": "115002300"
        },
        {
         "data": [
          {
           "hovertemplate": "Recording timestamp=115010634<br>Gaze point X=%{x}<br>Gaze point Y=%{y}<extra></extra>",
           "legendgroup": "",
           "marker": {
            "color": "#636efa",
            "symbol": "circle"
           },
           "mode": "markers",
           "name": "",
           "orientation": "v",
           "showlegend": false,
           "type": "scatter",
           "x": [
            null
           ],
           "xaxis": "x",
           "y": [
            null
           ],
           "yaxis": "y"
          }
         ],
         "name": "115010634"
        },
        {
         "data": [
          {
           "hovertemplate": "Recording timestamp=115019025<br>Gaze point X=%{x}<br>Gaze point Y=%{y}<extra></extra>",
           "legendgroup": "",
           "marker": {
            "color": "#636efa",
            "symbol": "circle"
           },
           "mode": "markers",
           "name": "",
           "orientation": "v",
           "showlegend": false,
           "type": "scatter",
           "x": [
            1300
           ],
           "xaxis": "x",
           "y": [
            414
           ],
           "yaxis": "y"
          }
         ],
         "name": "115019025"
        },
        {
         "data": [
          {
           "hovertemplate": "Recording timestamp=115027297<br>Gaze point X=%{x}<br>Gaze point Y=%{y}<extra></extra>",
           "legendgroup": "",
           "marker": {
            "color": "#636efa",
            "symbol": "circle"
           },
           "mode": "markers",
           "name": "",
           "orientation": "v",
           "showlegend": false,
           "type": "scatter",
           "x": [
            null
           ],
           "xaxis": "x",
           "y": [
            null
           ],
           "yaxis": "y"
          }
         ],
         "name": "115027297"
        },
        {
         "data": [
          {
           "hovertemplate": "Recording timestamp=115035630<br>Gaze point X=%{x}<br>Gaze point Y=%{y}<extra></extra>",
           "legendgroup": "",
           "marker": {
            "color": "#636efa",
            "symbol": "circle"
           },
           "mode": "markers",
           "name": "",
           "orientation": "v",
           "showlegend": false,
           "type": "scatter",
           "x": [
            1379
           ],
           "xaxis": "x",
           "y": [
            429
           ],
           "yaxis": "y"
          }
         ],
         "name": "115035630"
        },
        {
         "data": [
          {
           "hovertemplate": "Recording timestamp=115043965<br>Gaze point X=%{x}<br>Gaze point Y=%{y}<extra></extra>",
           "legendgroup": "",
           "marker": {
            "color": "#636efa",
            "symbol": "circle"
           },
           "mode": "markers",
           "name": "",
           "orientation": "v",
           "showlegend": false,
           "type": "scatter",
           "x": [
            1372
           ],
           "xaxis": "x",
           "y": [
            433
           ],
           "yaxis": "y"
          }
         ],
         "name": "115043965"
        },
        {
         "data": [
          {
           "hovertemplate": "Recording timestamp=115052299<br>Gaze point X=%{x}<br>Gaze point Y=%{y}<extra></extra>",
           "legendgroup": "",
           "marker": {
            "color": "#636efa",
            "symbol": "circle"
           },
           "mode": "markers",
           "name": "",
           "orientation": "v",
           "showlegend": false,
           "type": "scatter",
           "x": [
            1276
           ],
           "xaxis": "x",
           "y": [
            397
           ],
           "yaxis": "y"
          }
         ],
         "name": "115052299"
        },
        {
         "data": [
          {
           "hovertemplate": "Recording timestamp=115060630<br>Gaze point X=%{x}<br>Gaze point Y=%{y}<extra></extra>",
           "legendgroup": "",
           "marker": {
            "color": "#636efa",
            "symbol": "circle"
           },
           "mode": "markers",
           "name": "",
           "orientation": "v",
           "showlegend": false,
           "type": "scatter",
           "x": [
            1213
           ],
           "xaxis": "x",
           "y": [
            259
           ],
           "yaxis": "y"
          }
         ],
         "name": "115060630"
        },
        {
         "data": [
          {
           "hovertemplate": "Recording timestamp=115068964<br>Gaze point X=%{x}<br>Gaze point Y=%{y}<extra></extra>",
           "legendgroup": "",
           "marker": {
            "color": "#636efa",
            "symbol": "circle"
           },
           "mode": "markers",
           "name": "",
           "orientation": "v",
           "showlegend": false,
           "type": "scatter",
           "x": [
            1311
           ],
           "xaxis": "x",
           "y": [
            392
           ],
           "yaxis": "y"
          }
         ],
         "name": "115068964"
        },
        {
         "data": [
          {
           "hovertemplate": "Recording timestamp=115077290<br>Gaze point X=%{x}<br>Gaze point Y=%{y}<extra></extra>",
           "legendgroup": "",
           "marker": {
            "color": "#636efa",
            "symbol": "circle"
           },
           "mode": "markers",
           "name": "",
           "orientation": "v",
           "showlegend": false,
           "type": "scatter",
           "x": [
            null
           ],
           "xaxis": "x",
           "y": [
            null
           ],
           "yaxis": "y"
          }
         ],
         "name": "115077290"
        },
        {
         "data": [
          {
           "hovertemplate": "Recording timestamp=115085628<br>Gaze point X=%{x}<br>Gaze point Y=%{y}<extra></extra>",
           "legendgroup": "",
           "marker": {
            "color": "#636efa",
            "symbol": "circle"
           },
           "mode": "markers",
           "name": "",
           "orientation": "v",
           "showlegend": false,
           "type": "scatter",
           "x": [
            1338
           ],
           "xaxis": "x",
           "y": [
            316
           ],
           "yaxis": "y"
          }
         ],
         "name": "115085628"
        },
        {
         "data": [
          {
           "hovertemplate": "Recording timestamp=115094019<br>Gaze point X=%{x}<br>Gaze point Y=%{y}<extra></extra>",
           "legendgroup": "",
           "marker": {
            "color": "#636efa",
            "symbol": "circle"
           },
           "mode": "markers",
           "name": "",
           "orientation": "v",
           "showlegend": false,
           "type": "scatter",
           "x": [
            1323
           ],
           "xaxis": "x",
           "y": [
            398
           ],
           "yaxis": "y"
          }
         ],
         "name": "115094019"
        },
        {
         "data": [
          {
           "hovertemplate": "Recording timestamp=115102292<br>Gaze point X=%{x}<br>Gaze point Y=%{y}<extra></extra>",
           "legendgroup": "",
           "marker": {
            "color": "#636efa",
            "symbol": "circle"
           },
           "mode": "markers",
           "name": "",
           "orientation": "v",
           "showlegend": false,
           "type": "scatter",
           "x": [
            1378
           ],
           "xaxis": "x",
           "y": [
            278
           ],
           "yaxis": "y"
          }
         ],
         "name": "115102292"
        },
        {
         "data": [
          {
           "hovertemplate": "Recording timestamp=115110624<br>Gaze point X=%{x}<br>Gaze point Y=%{y}<extra></extra>",
           "legendgroup": "",
           "marker": {
            "color": "#636efa",
            "symbol": "circle"
           },
           "mode": "markers",
           "name": "",
           "orientation": "v",
           "showlegend": false,
           "type": "scatter",
           "x": [
            1370
           ],
           "xaxis": "x",
           "y": [
            227
           ],
           "yaxis": "y"
          }
         ],
         "name": "115110624"
        },
        {
         "data": [
          {
           "hovertemplate": "Recording timestamp=115118958<br>Gaze point X=%{x}<br>Gaze point Y=%{y}<extra></extra>",
           "legendgroup": "",
           "marker": {
            "color": "#636efa",
            "symbol": "circle"
           },
           "mode": "markers",
           "name": "",
           "orientation": "v",
           "showlegend": false,
           "type": "scatter",
           "x": [
            1351
           ],
           "xaxis": "x",
           "y": [
            336
           ],
           "yaxis": "y"
          }
         ],
         "name": "115118958"
        },
        {
         "data": [
          {
           "hovertemplate": "Recording timestamp=115127290<br>Gaze point X=%{x}<br>Gaze point Y=%{y}<extra></extra>",
           "legendgroup": "",
           "marker": {
            "color": "#636efa",
            "symbol": "circle"
           },
           "mode": "markers",
           "name": "",
           "orientation": "v",
           "showlegend": false,
           "type": "scatter",
           "x": [
            null
           ],
           "xaxis": "x",
           "y": [
            null
           ],
           "yaxis": "y"
          }
         ],
         "name": "115127290"
        },
        {
         "data": [
          {
           "hovertemplate": "Recording timestamp=115135627<br>Gaze point X=%{x}<br>Gaze point Y=%{y}<extra></extra>",
           "legendgroup": "",
           "marker": {
            "color": "#636efa",
            "symbol": "circle"
           },
           "mode": "markers",
           "name": "",
           "orientation": "v",
           "showlegend": false,
           "type": "scatter",
           "x": [
            1326
           ],
           "xaxis": "x",
           "y": [
            411
           ],
           "yaxis": "y"
          }
         ],
         "name": "115135627"
        },
        {
         "data": [
          {
           "hovertemplate": "Recording timestamp=115143972<br>Gaze point X=%{x}<br>Gaze point Y=%{y}<extra></extra>",
           "legendgroup": "",
           "marker": {
            "color": "#636efa",
            "symbol": "circle"
           },
           "mode": "markers",
           "name": "",
           "orientation": "v",
           "showlegend": false,
           "type": "scatter",
           "x": [
            1387
           ],
           "xaxis": "x",
           "y": [
            382
           ],
           "yaxis": "y"
          }
         ],
         "name": "115143972"
        },
        {
         "data": [
          {
           "hovertemplate": "Recording timestamp=115152296<br>Gaze point X=%{x}<br>Gaze point Y=%{y}<extra></extra>",
           "legendgroup": "",
           "marker": {
            "color": "#636efa",
            "symbol": "circle"
           },
           "mode": "markers",
           "name": "",
           "orientation": "v",
           "showlegend": false,
           "type": "scatter",
           "x": [
            null
           ],
           "xaxis": "x",
           "y": [
            null
           ],
           "yaxis": "y"
          }
         ],
         "name": "115152296"
        },
        {
         "data": [
          {
           "hovertemplate": "Recording timestamp=115160621<br>Gaze point X=%{x}<br>Gaze point Y=%{y}<extra></extra>",
           "legendgroup": "",
           "marker": {
            "color": "#636efa",
            "symbol": "circle"
           },
           "mode": "markers",
           "name": "",
           "orientation": "v",
           "showlegend": false,
           "type": "scatter",
           "x": [
            1366
           ],
           "xaxis": "x",
           "y": [
            347
           ],
           "yaxis": "y"
          }
         ],
         "name": "115160621"
        },
        {
         "data": [
          {
           "hovertemplate": "Recording timestamp=115168955<br>Gaze point X=%{x}<br>Gaze point Y=%{y}<extra></extra>",
           "legendgroup": "",
           "marker": {
            "color": "#636efa",
            "symbol": "circle"
           },
           "mode": "markers",
           "name": "",
           "orientation": "v",
           "showlegend": false,
           "type": "scatter",
           "x": [
            1350
           ],
           "xaxis": "x",
           "y": [
            234
           ],
           "yaxis": "y"
          }
         ],
         "name": "115168955"
        },
        {
         "data": [
          {
           "hovertemplate": "Recording timestamp=115177276<br>Gaze point X=%{x}<br>Gaze point Y=%{y}<extra></extra>",
           "legendgroup": "",
           "marker": {
            "color": "#636efa",
            "symbol": "circle"
           },
           "mode": "markers",
           "name": "",
           "orientation": "v",
           "showlegend": false,
           "type": "scatter",
           "x": [
            null
           ],
           "xaxis": "x",
           "y": [
            null
           ],
           "yaxis": "y"
          }
         ],
         "name": "115177276"
        },
        {
         "data": [
          {
           "hovertemplate": "Recording timestamp=115185610<br>Gaze point X=%{x}<br>Gaze point Y=%{y}<extra></extra>",
           "legendgroup": "",
           "marker": {
            "color": "#636efa",
            "symbol": "circle"
           },
           "mode": "markers",
           "name": "",
           "orientation": "v",
           "showlegend": false,
           "type": "scatter",
           "x": [
            1320
           ],
           "xaxis": "x",
           "y": [
            282
           ],
           "yaxis": "y"
          }
         ],
         "name": "115185610"
        },
        {
         "data": [
          {
           "hovertemplate": "Recording timestamp=115193975<br>Gaze point X=%{x}<br>Gaze point Y=%{y}<extra></extra>",
           "legendgroup": "",
           "marker": {
            "color": "#636efa",
            "symbol": "circle"
           },
           "mode": "markers",
           "name": "",
           "orientation": "v",
           "showlegend": false,
           "type": "scatter",
           "x": [
            1352
           ],
           "xaxis": "x",
           "y": [
            280
           ],
           "yaxis": "y"
          }
         ],
         "name": "115193975"
        },
        {
         "data": [
          {
           "hovertemplate": "Recording timestamp=115202335<br>Gaze point X=%{x}<br>Gaze point Y=%{y}<extra></extra>",
           "legendgroup": "",
           "marker": {
            "color": "#636efa",
            "symbol": "circle"
           },
           "mode": "markers",
           "name": "",
           "orientation": "v",
           "showlegend": false,
           "type": "scatter",
           "x": [
            1317
           ],
           "xaxis": "x",
           "y": [
            261
           ],
           "yaxis": "y"
          }
         ],
         "name": "115202335"
        },
        {
         "data": [
          {
           "hovertemplate": "Recording timestamp=115210692<br>Gaze point X=%{x}<br>Gaze point Y=%{y}<extra></extra>",
           "legendgroup": "",
           "marker": {
            "color": "#636efa",
            "symbol": "circle"
           },
           "mode": "markers",
           "name": "",
           "orientation": "v",
           "showlegend": false,
           "type": "scatter",
           "x": [
            1305
           ],
           "xaxis": "x",
           "y": [
            275
           ],
           "yaxis": "y"
          }
         ],
         "name": "115210692"
        },
        {
         "data": [
          {
           "hovertemplate": "Recording timestamp=115218951<br>Gaze point X=%{x}<br>Gaze point Y=%{y}<extra></extra>",
           "legendgroup": "",
           "marker": {
            "color": "#636efa",
            "symbol": "circle"
           },
           "mode": "markers",
           "name": "",
           "orientation": "v",
           "showlegend": false,
           "type": "scatter",
           "x": [
            1312
           ],
           "xaxis": "x",
           "y": [
            342
           ],
           "yaxis": "y"
          }
         ],
         "name": "115218951"
        },
        {
         "data": [
          {
           "hovertemplate": "Recording timestamp=115227285<br>Gaze point X=%{x}<br>Gaze point Y=%{y}<extra></extra>",
           "legendgroup": "",
           "marker": {
            "color": "#636efa",
            "symbol": "circle"
           },
           "mode": "markers",
           "name": "",
           "orientation": "v",
           "showlegend": false,
           "type": "scatter",
           "x": [
            null
           ],
           "xaxis": "x",
           "y": [
            null
           ],
           "yaxis": "y"
          }
         ],
         "name": "115227285"
        },
        {
         "data": [
          {
           "hovertemplate": "Recording timestamp=115235614<br>Gaze point X=%{x}<br>Gaze point Y=%{y}<extra></extra>",
           "legendgroup": "",
           "marker": {
            "color": "#636efa",
            "symbol": "circle"
           },
           "mode": "markers",
           "name": "",
           "orientation": "v",
           "showlegend": false,
           "type": "scatter",
           "x": [
            1302
           ],
           "xaxis": "x",
           "y": [
            299
           ],
           "yaxis": "y"
          }
         ],
         "name": "115235614"
        },
        {
         "data": [
          {
           "hovertemplate": "Recording timestamp=115244010<br>Gaze point X=%{x}<br>Gaze point Y=%{y}<extra></extra>",
           "legendgroup": "",
           "marker": {
            "color": "#636efa",
            "symbol": "circle"
           },
           "mode": "markers",
           "name": "",
           "orientation": "v",
           "showlegend": false,
           "type": "scatter",
           "x": [
            1364
           ],
           "xaxis": "x",
           "y": [
            292
           ],
           "yaxis": "y"
          }
         ],
         "name": "115244010"
        },
        {
         "data": [
          {
           "hovertemplate": "Recording timestamp=115252285<br>Gaze point X=%{x}<br>Gaze point Y=%{y}<extra></extra>",
           "legendgroup": "",
           "marker": {
            "color": "#636efa",
            "symbol": "circle"
           },
           "mode": "markers",
           "name": "",
           "orientation": "v",
           "showlegend": false,
           "type": "scatter",
           "x": [
            null
           ],
           "xaxis": "x",
           "y": [
            null
           ],
           "yaxis": "y"
          }
         ],
         "name": "115252285"
        },
        {
         "data": [
          {
           "hovertemplate": "Recording timestamp=115260615<br>Gaze point X=%{x}<br>Gaze point Y=%{y}<extra></extra>",
           "legendgroup": "",
           "marker": {
            "color": "#636efa",
            "symbol": "circle"
           },
           "mode": "markers",
           "name": "",
           "orientation": "v",
           "showlegend": false,
           "type": "scatter",
           "x": [
            null
           ],
           "xaxis": "x",
           "y": [
            null
           ],
           "yaxis": "y"
          }
         ],
         "name": "115260615"
        },
        {
         "data": [
          {
           "hovertemplate": "Recording timestamp=115268947<br>Gaze point X=%{x}<br>Gaze point Y=%{y}<extra></extra>",
           "legendgroup": "",
           "marker": {
            "color": "#636efa",
            "symbol": "circle"
           },
           "mode": "markers",
           "name": "",
           "orientation": "v",
           "showlegend": false,
           "type": "scatter",
           "x": [
            1305
           ],
           "xaxis": "x",
           "y": [
            365
           ],
           "yaxis": "y"
          }
         ],
         "name": "115268947"
        },
        {
         "data": [
          {
           "hovertemplate": "Recording timestamp=115277280<br>Gaze point X=%{x}<br>Gaze point Y=%{y}<extra></extra>",
           "legendgroup": "",
           "marker": {
            "color": "#636efa",
            "symbol": "circle"
           },
           "mode": "markers",
           "name": "",
           "orientation": "v",
           "showlegend": false,
           "type": "scatter",
           "x": [
            1130
           ],
           "xaxis": "x",
           "y": [
            278
           ],
           "yaxis": "y"
          }
         ],
         "name": "115277280"
        },
        {
         "data": [
          {
           "hovertemplate": "Recording timestamp=115285615<br>Gaze point X=%{x}<br>Gaze point Y=%{y}<extra></extra>",
           "legendgroup": "",
           "marker": {
            "color": "#636efa",
            "symbol": "circle"
           },
           "mode": "markers",
           "name": "",
           "orientation": "v",
           "showlegend": false,
           "type": "scatter",
           "x": [
            1354
           ],
           "xaxis": "x",
           "y": [
            268
           ],
           "yaxis": "y"
          }
         ],
         "name": "115285615"
        },
        {
         "data": [
          {
           "hovertemplate": "Recording timestamp=115293950<br>Gaze point X=%{x}<br>Gaze point Y=%{y}<extra></extra>",
           "legendgroup": "",
           "marker": {
            "color": "#636efa",
            "symbol": "circle"
           },
           "mode": "markers",
           "name": "",
           "orientation": "v",
           "showlegend": false,
           "type": "scatter",
           "x": [
            1202
           ],
           "xaxis": "x",
           "y": [
            185
           ],
           "yaxis": "y"
          }
         ],
         "name": "115293950"
        },
        {
         "data": [
          {
           "hovertemplate": "Recording timestamp=115302279<br>Gaze point X=%{x}<br>Gaze point Y=%{y}<extra></extra>",
           "legendgroup": "",
           "marker": {
            "color": "#636efa",
            "symbol": "circle"
           },
           "mode": "markers",
           "name": "",
           "orientation": "v",
           "showlegend": false,
           "type": "scatter",
           "x": [
            null
           ],
           "xaxis": "x",
           "y": [
            null
           ],
           "yaxis": "y"
          }
         ],
         "name": "115302279"
        },
        {
         "data": [
          {
           "hovertemplate": "Recording timestamp=115310609<br>Gaze point X=%{x}<br>Gaze point Y=%{y}<extra></extra>",
           "legendgroup": "",
           "marker": {
            "color": "#636efa",
            "symbol": "circle"
           },
           "mode": "markers",
           "name": "",
           "orientation": "v",
           "showlegend": false,
           "type": "scatter",
           "x": [
            null
           ],
           "xaxis": "x",
           "y": [
            null
           ],
           "yaxis": "y"
          }
         ],
         "name": "115310609"
        },
        {
         "data": [
          {
           "hovertemplate": "Recording timestamp=115318942<br>Gaze point X=%{x}<br>Gaze point Y=%{y}<extra></extra>",
           "legendgroup": "",
           "marker": {
            "color": "#636efa",
            "symbol": "circle"
           },
           "mode": "markers",
           "name": "",
           "orientation": "v",
           "showlegend": false,
           "type": "scatter",
           "x": [
            1172
           ],
           "xaxis": "x",
           "y": [
            227
           ],
           "yaxis": "y"
          }
         ],
         "name": "115318942"
        },
        {
         "data": [
          {
           "hovertemplate": "Recording timestamp=115327277<br>Gaze point X=%{x}<br>Gaze point Y=%{y}<extra></extra>",
           "legendgroup": "",
           "marker": {
            "color": "#636efa",
            "symbol": "circle"
           },
           "mode": "markers",
           "name": "",
           "orientation": "v",
           "showlegend": false,
           "type": "scatter",
           "x": [
            1155
           ],
           "xaxis": "x",
           "y": [
            274
           ],
           "yaxis": "y"
          }
         ],
         "name": "115327277"
        },
        {
         "data": [
          {
           "hovertemplate": "Recording timestamp=115335610<br>Gaze point X=%{x}<br>Gaze point Y=%{y}<extra></extra>",
           "legendgroup": "",
           "marker": {
            "color": "#636efa",
            "symbol": "circle"
           },
           "mode": "markers",
           "name": "",
           "orientation": "v",
           "showlegend": false,
           "type": "scatter",
           "x": [
            1266
           ],
           "xaxis": "x",
           "y": [
            360
           ],
           "yaxis": "y"
          }
         ],
         "name": "115335610"
        },
        {
         "data": [
          {
           "hovertemplate": "Recording timestamp=115343944<br>Gaze point X=%{x}<br>Gaze point Y=%{y}<extra></extra>",
           "legendgroup": "",
           "marker": {
            "color": "#636efa",
            "symbol": "circle"
           },
           "mode": "markers",
           "name": "",
           "orientation": "v",
           "showlegend": false,
           "type": "scatter",
           "x": [
            1308
           ],
           "xaxis": "x",
           "y": [
            402
           ],
           "yaxis": "y"
          }
         ],
         "name": "115343944"
        },
        {
         "data": [
          {
           "hovertemplate": "Recording timestamp=115352261<br>Gaze point X=%{x}<br>Gaze point Y=%{y}<extra></extra>",
           "legendgroup": "",
           "marker": {
            "color": "#636efa",
            "symbol": "circle"
           },
           "mode": "markers",
           "name": "",
           "orientation": "v",
           "showlegend": false,
           "type": "scatter",
           "x": [
            1298
           ],
           "xaxis": "x",
           "y": [
            331
           ],
           "yaxis": "y"
          }
         ],
         "name": "115352261"
        },
        {
         "data": [
          {
           "hovertemplate": "Recording timestamp=115360595<br>Gaze point X=%{x}<br>Gaze point Y=%{y}<extra></extra>",
           "legendgroup": "",
           "marker": {
            "color": "#636efa",
            "symbol": "circle"
           },
           "mode": "markers",
           "name": "",
           "orientation": "v",
           "showlegend": false,
           "type": "scatter",
           "x": [
            null
           ],
           "xaxis": "x",
           "y": [
            null
           ],
           "yaxis": "y"
          }
         ],
         "name": "115360595"
        },
        {
         "data": [
          {
           "hovertemplate": "Recording timestamp=115368971<br>Gaze point X=%{x}<br>Gaze point Y=%{y}<extra></extra>",
           "legendgroup": "",
           "marker": {
            "color": "#636efa",
            "symbol": "circle"
           },
           "mode": "markers",
           "name": "",
           "orientation": "v",
           "showlegend": false,
           "type": "scatter",
           "x": [
            1339
           ],
           "xaxis": "x",
           "y": [
            320
           ],
           "yaxis": "y"
          }
         ],
         "name": "115368971"
        },
        {
         "data": [
          {
           "hovertemplate": "Recording timestamp=115377261<br>Gaze point X=%{x}<br>Gaze point Y=%{y}<extra></extra>",
           "legendgroup": "",
           "marker": {
            "color": "#636efa",
            "symbol": "circle"
           },
           "mode": "markers",
           "name": "",
           "orientation": "v",
           "showlegend": false,
           "type": "scatter",
           "x": [
            null
           ],
           "xaxis": "x",
           "y": [
            null
           ],
           "yaxis": "y"
          }
         ],
         "name": "115377261"
        },
        {
         "data": [
          {
           "hovertemplate": "Recording timestamp=115385633<br>Gaze point X=%{x}<br>Gaze point Y=%{y}<extra></extra>",
           "legendgroup": "",
           "marker": {
            "color": "#636efa",
            "symbol": "circle"
           },
           "mode": "markers",
           "name": "",
           "orientation": "v",
           "showlegend": false,
           "type": "scatter",
           "x": [
            1283
           ],
           "xaxis": "x",
           "y": [
            337
           ],
           "yaxis": "y"
          }
         ],
         "name": "115385633"
        },
        {
         "data": [
          {
           "hovertemplate": "Recording timestamp=115393932<br>Gaze point X=%{x}<br>Gaze point Y=%{y}<extra></extra>",
           "legendgroup": "",
           "marker": {
            "color": "#636efa",
            "symbol": "circle"
           },
           "mode": "markers",
           "name": "",
           "orientation": "v",
           "showlegend": false,
           "type": "scatter",
           "x": [
            1302
           ],
           "xaxis": "x",
           "y": [
            302
           ],
           "yaxis": "y"
          }
         ],
         "name": "115393932"
        },
        {
         "data": [
          {
           "hovertemplate": "Recording timestamp=115402272<br>Gaze point X=%{x}<br>Gaze point Y=%{y}<extra></extra>",
           "legendgroup": "",
           "marker": {
            "color": "#636efa",
            "symbol": "circle"
           },
           "mode": "markers",
           "name": "",
           "orientation": "v",
           "showlegend": false,
           "type": "scatter",
           "x": [
            null
           ],
           "xaxis": "x",
           "y": [
            null
           ],
           "yaxis": "y"
          }
         ],
         "name": "115402272"
        },
        {
         "data": [
          {
           "hovertemplate": "Recording timestamp=115410604<br>Gaze point X=%{x}<br>Gaze point Y=%{y}<extra></extra>",
           "legendgroup": "",
           "marker": {
            "color": "#636efa",
            "symbol": "circle"
           },
           "mode": "markers",
           "name": "",
           "orientation": "v",
           "showlegend": false,
           "type": "scatter",
           "x": [
            1266
           ],
           "xaxis": "x",
           "y": [
            315
           ],
           "yaxis": "y"
          }
         ],
         "name": "115410604"
        },
        {
         "data": [
          {
           "hovertemplate": "Recording timestamp=115418941<br>Gaze point X=%{x}<br>Gaze point Y=%{y}<extra></extra>",
           "legendgroup": "",
           "marker": {
            "color": "#636efa",
            "symbol": "circle"
           },
           "mode": "markers",
           "name": "",
           "orientation": "v",
           "showlegend": false,
           "type": "scatter",
           "x": [
            1311
           ],
           "xaxis": "x",
           "y": [
            320
           ],
           "yaxis": "y"
          }
         ],
         "name": "115418941"
        },
        {
         "data": [
          {
           "hovertemplate": "Recording timestamp=115427274<br>Gaze point X=%{x}<br>Gaze point Y=%{y}<extra></extra>",
           "legendgroup": "",
           "marker": {
            "color": "#636efa",
            "symbol": "circle"
           },
           "mode": "markers",
           "name": "",
           "orientation": "v",
           "showlegend": false,
           "type": "scatter",
           "x": [
            1326
           ],
           "xaxis": "x",
           "y": [
            325
           ],
           "yaxis": "y"
          }
         ],
         "name": "115427274"
        },
        {
         "data": [
          {
           "hovertemplate": "Recording timestamp=115435604<br>Gaze point X=%{x}<br>Gaze point Y=%{y}<extra></extra>",
           "legendgroup": "",
           "marker": {
            "color": "#636efa",
            "symbol": "circle"
           },
           "mode": "markers",
           "name": "",
           "orientation": "v",
           "showlegend": false,
           "type": "scatter",
           "x": [
            null
           ],
           "xaxis": "x",
           "y": [
            null
           ],
           "yaxis": "y"
          }
         ],
         "name": "115435604"
        },
        {
         "data": [
          {
           "hovertemplate": "Recording timestamp=115443938<br>Gaze point X=%{x}<br>Gaze point Y=%{y}<extra></extra>",
           "legendgroup": "",
           "marker": {
            "color": "#636efa",
            "symbol": "circle"
           },
           "mode": "markers",
           "name": "",
           "orientation": "v",
           "showlegend": false,
           "type": "scatter",
           "x": [
            1278
           ],
           "xaxis": "x",
           "y": [
            336
           ],
           "yaxis": "y"
          }
         ],
         "name": "115443938"
        },
        {
         "data": [
          {
           "hovertemplate": "Recording timestamp=115452314<br>Gaze point X=%{x}<br>Gaze point Y=%{y}<extra></extra>",
           "legendgroup": "",
           "marker": {
            "color": "#636efa",
            "symbol": "circle"
           },
           "mode": "markers",
           "name": "",
           "orientation": "v",
           "showlegend": false,
           "type": "scatter",
           "x": [
            null
           ],
           "xaxis": "x",
           "y": [
            null
           ],
           "yaxis": "y"
          }
         ],
         "name": "115452314"
        },
        {
         "data": [
          {
           "hovertemplate": "Recording timestamp=115460596<br>Gaze point X=%{x}<br>Gaze point Y=%{y}<extra></extra>",
           "legendgroup": "",
           "marker": {
            "color": "#636efa",
            "symbol": "circle"
           },
           "mode": "markers",
           "name": "",
           "orientation": "v",
           "showlegend": false,
           "type": "scatter",
           "x": [
            1440
           ],
           "xaxis": "x",
           "y": [
            200
           ],
           "yaxis": "y"
          }
         ],
         "name": "115460596"
        },
        {
         "data": [
          {
           "hovertemplate": "Recording timestamp=115468986<br>Gaze point X=%{x}<br>Gaze point Y=%{y}<extra></extra>",
           "legendgroup": "",
           "marker": {
            "color": "#636efa",
            "symbol": "circle"
           },
           "mode": "markers",
           "name": "",
           "orientation": "v",
           "showlegend": false,
           "type": "scatter",
           "x": [
            1326
           ],
           "xaxis": "x",
           "y": [
            268
           ],
           "yaxis": "y"
          }
         ],
         "name": "115468986"
        },
        {
         "data": [
          {
           "hovertemplate": "Recording timestamp=115477263<br>Gaze point X=%{x}<br>Gaze point Y=%{y}<extra></extra>",
           "legendgroup": "",
           "marker": {
            "color": "#636efa",
            "symbol": "circle"
           },
           "mode": "markers",
           "name": "",
           "orientation": "v",
           "showlegend": false,
           "type": "scatter",
           "x": [
            1354
           ],
           "xaxis": "x",
           "y": [
            126
           ],
           "yaxis": "y"
          }
         ],
         "name": "115477263"
        },
        {
         "data": [
          {
           "hovertemplate": "Recording timestamp=115485587<br>Gaze point X=%{x}<br>Gaze point Y=%{y}<extra></extra>",
           "legendgroup": "",
           "marker": {
            "color": "#636efa",
            "symbol": "circle"
           },
           "mode": "markers",
           "name": "",
           "orientation": "v",
           "showlegend": false,
           "type": "scatter",
           "x": [
            1210
           ],
           "xaxis": "x",
           "y": [
            238
           ],
           "yaxis": "y"
          }
         ],
         "name": "115485587"
        },
        {
         "data": [
          {
           "hovertemplate": "Recording timestamp=115493918<br>Gaze point X=%{x}<br>Gaze point Y=%{y}<extra></extra>",
           "legendgroup": "",
           "marker": {
            "color": "#636efa",
            "symbol": "circle"
           },
           "mode": "markers",
           "name": "",
           "orientation": "v",
           "showlegend": false,
           "type": "scatter",
           "x": [
            1339
           ],
           "xaxis": "x",
           "y": [
            112
           ],
           "yaxis": "y"
          }
         ],
         "name": "115493918"
        },
        {
         "data": [
          {
           "hovertemplate": "Recording timestamp=115502250<br>Gaze point X=%{x}<br>Gaze point Y=%{y}<extra></extra>",
           "legendgroup": "",
           "marker": {
            "color": "#636efa",
            "symbol": "circle"
           },
           "mode": "markers",
           "name": "",
           "orientation": "v",
           "showlegend": false,
           "type": "scatter",
           "x": [
            1242
           ],
           "xaxis": "x",
           "y": [
            174
           ],
           "yaxis": "y"
          }
         ],
         "name": "115502250"
        },
        {
         "data": [
          {
           "hovertemplate": "Recording timestamp=115510652<br>Gaze point X=%{x}<br>Gaze point Y=%{y}<extra></extra>",
           "legendgroup": "",
           "marker": {
            "color": "#636efa",
            "symbol": "circle"
           },
           "mode": "markers",
           "name": "",
           "orientation": "v",
           "showlegend": false,
           "type": "scatter",
           "x": [
            1289
           ],
           "xaxis": "x",
           "y": [
            251
           ],
           "yaxis": "y"
          }
         ],
         "name": "115510652"
        },
        {
         "data": [
          {
           "hovertemplate": "Recording timestamp=115518917<br>Gaze point X=%{x}<br>Gaze point Y=%{y}<extra></extra>",
           "legendgroup": "",
           "marker": {
            "color": "#636efa",
            "symbol": "circle"
           },
           "mode": "markers",
           "name": "",
           "orientation": "v",
           "showlegend": false,
           "type": "scatter",
           "x": [
            1330
           ],
           "xaxis": "x",
           "y": [
            272
           ],
           "yaxis": "y"
          }
         ],
         "name": "115518917"
        },
        {
         "data": [
          {
           "hovertemplate": "Recording timestamp=115527276<br>Gaze point X=%{x}<br>Gaze point Y=%{y}<extra></extra>",
           "legendgroup": "",
           "marker": {
            "color": "#636efa",
            "symbol": "circle"
           },
           "mode": "markers",
           "name": "",
           "orientation": "v",
           "showlegend": false,
           "type": "scatter",
           "x": [
            1276
           ],
           "xaxis": "x",
           "y": [
            292
           ],
           "yaxis": "y"
          }
         ],
         "name": "115527276"
        },
        {
         "data": [
          {
           "hovertemplate": "Recording timestamp=115535626<br>Gaze point X=%{x}<br>Gaze point Y=%{y}<extra></extra>",
           "legendgroup": "",
           "marker": {
            "color": "#636efa",
            "symbol": "circle"
           },
           "mode": "markers",
           "name": "",
           "orientation": "v",
           "showlegend": false,
           "type": "scatter",
           "x": [
            1232
           ],
           "xaxis": "x",
           "y": [
            197
           ],
           "yaxis": "y"
          }
         ],
         "name": "115535626"
        },
        {
         "data": [
          {
           "hovertemplate": "Recording timestamp=115544013<br>Gaze point X=%{x}<br>Gaze point Y=%{y}<extra></extra>",
           "legendgroup": "",
           "marker": {
            "color": "#636efa",
            "symbol": "circle"
           },
           "mode": "markers",
           "name": "",
           "orientation": "v",
           "showlegend": false,
           "type": "scatter",
           "x": [
            1300
           ],
           "xaxis": "x",
           "y": [
            165
           ],
           "yaxis": "y"
          }
         ],
         "name": "115544013"
        },
        {
         "data": [
          {
           "hovertemplate": "Recording timestamp=115552246<br>Gaze point X=%{x}<br>Gaze point Y=%{y}<extra></extra>",
           "legendgroup": "",
           "marker": {
            "color": "#636efa",
            "symbol": "circle"
           },
           "mode": "markers",
           "name": "",
           "orientation": "v",
           "showlegend": false,
           "type": "scatter",
           "x": [
            1370
           ],
           "xaxis": "x",
           "y": [
            167
           ],
           "yaxis": "y"
          }
         ],
         "name": "115552246"
        },
        {
         "data": [
          {
           "hovertemplate": "Recording timestamp=115560581<br>Gaze point X=%{x}<br>Gaze point Y=%{y}<extra></extra>",
           "legendgroup": "",
           "marker": {
            "color": "#636efa",
            "symbol": "circle"
           },
           "mode": "markers",
           "name": "",
           "orientation": "v",
           "showlegend": false,
           "type": "scatter",
           "x": [
            1258
           ],
           "xaxis": "x",
           "y": [
            64
           ],
           "yaxis": "y"
          }
         ],
         "name": "115560581"
        },
        {
         "data": [
          {
           "hovertemplate": "Recording timestamp=115568914<br>Gaze point X=%{x}<br>Gaze point Y=%{y}<extra></extra>",
           "legendgroup": "",
           "marker": {
            "color": "#636efa",
            "symbol": "circle"
           },
           "mode": "markers",
           "name": "",
           "orientation": "v",
           "showlegend": false,
           "type": "scatter",
           "x": [
            1319
           ],
           "xaxis": "x",
           "y": [
            105
           ],
           "yaxis": "y"
          }
         ],
         "name": "115568914"
        },
        {
         "data": [
          {
           "hovertemplate": "Recording timestamp=115577249<br>Gaze point X=%{x}<br>Gaze point Y=%{y}<extra></extra>",
           "legendgroup": "",
           "marker": {
            "color": "#636efa",
            "symbol": "circle"
           },
           "mode": "markers",
           "name": "",
           "orientation": "v",
           "showlegend": false,
           "type": "scatter",
           "x": [
            null
           ],
           "xaxis": "x",
           "y": [
            null
           ],
           "yaxis": "y"
          }
         ],
         "name": "115577249"
        },
        {
         "data": [
          {
           "hovertemplate": "Recording timestamp=115585577<br>Gaze point X=%{x}<br>Gaze point Y=%{y}<extra></extra>",
           "legendgroup": "",
           "marker": {
            "color": "#636efa",
            "symbol": "circle"
           },
           "mode": "markers",
           "name": "",
           "orientation": "v",
           "showlegend": false,
           "type": "scatter",
           "x": [
            1377
           ],
           "xaxis": "x",
           "y": [
            158
           ],
           "yaxis": "y"
          }
         ],
         "name": "115585577"
        },
        {
         "data": [
          {
           "hovertemplate": "Recording timestamp=115594021<br>Gaze point X=%{x}<br>Gaze point Y=%{y}<extra></extra>",
           "legendgroup": "",
           "marker": {
            "color": "#636efa",
            "symbol": "circle"
           },
           "mode": "markers",
           "name": "",
           "orientation": "v",
           "showlegend": false,
           "type": "scatter",
           "x": [
            1372
           ],
           "xaxis": "x",
           "y": [
            186
           ],
           "yaxis": "y"
          }
         ],
         "name": "115594021"
        },
        {
         "data": [
          {
           "hovertemplate": "Recording timestamp=115602252<br>Gaze point X=%{x}<br>Gaze point Y=%{y}<extra></extra>",
           "legendgroup": "",
           "marker": {
            "color": "#636efa",
            "symbol": "circle"
           },
           "mode": "markers",
           "name": "",
           "orientation": "v",
           "showlegend": false,
           "type": "scatter",
           "x": [
            null
           ],
           "xaxis": "x",
           "y": [
            null
           ],
           "yaxis": "y"
          }
         ],
         "name": "115602252"
        },
        {
         "data": [
          {
           "hovertemplate": "Recording timestamp=115610631<br>Gaze point X=%{x}<br>Gaze point Y=%{y}<extra></extra>",
           "legendgroup": "",
           "marker": {
            "color": "#636efa",
            "symbol": "circle"
           },
           "mode": "markers",
           "name": "",
           "orientation": "v",
           "showlegend": false,
           "type": "scatter",
           "x": [
            null
           ],
           "xaxis": "x",
           "y": [
            null
           ],
           "yaxis": "y"
          }
         ],
         "name": "115610631"
        },
        {
         "data": [
          {
           "hovertemplate": "Recording timestamp=115618973<br>Gaze point X=%{x}<br>Gaze point Y=%{y}<extra></extra>",
           "legendgroup": "",
           "marker": {
            "color": "#636efa",
            "symbol": "circle"
           },
           "mode": "markers",
           "name": "",
           "orientation": "v",
           "showlegend": false,
           "type": "scatter",
           "x": [
            1409
           ],
           "xaxis": "x",
           "y": [
            186
           ],
           "yaxis": "y"
          }
         ],
         "name": "115618973"
        },
        {
         "data": [
          {
           "hovertemplate": "Recording timestamp=115627300<br>Gaze point X=%{x}<br>Gaze point Y=%{y}<extra></extra>",
           "legendgroup": "",
           "marker": {
            "color": "#636efa",
            "symbol": "circle"
           },
           "mode": "markers",
           "name": "",
           "orientation": "v",
           "showlegend": false,
           "type": "scatter",
           "x": [
            1416
           ],
           "xaxis": "x",
           "y": [
            197
           ],
           "yaxis": "y"
          }
         ],
         "name": "115627300"
        },
        {
         "data": [
          {
           "hovertemplate": "Recording timestamp=115635577<br>Gaze point X=%{x}<br>Gaze point Y=%{y}<extra></extra>",
           "legendgroup": "",
           "marker": {
            "color": "#636efa",
            "symbol": "circle"
           },
           "mode": "markers",
           "name": "",
           "orientation": "v",
           "showlegend": false,
           "type": "scatter",
           "x": [
            1373
           ],
           "xaxis": "x",
           "y": [
            141
           ],
           "yaxis": "y"
          }
         ],
         "name": "115635577"
        },
        {
         "data": [
          {
           "hovertemplate": "Recording timestamp=115643918<br>Gaze point X=%{x}<br>Gaze point Y=%{y}<extra></extra>",
           "legendgroup": "",
           "marker": {
            "color": "#636efa",
            "symbol": "circle"
           },
           "mode": "markers",
           "name": "",
           "orientation": "v",
           "showlegend": false,
           "type": "scatter",
           "x": [
            1358
           ],
           "xaxis": "x",
           "y": [
            173
           ],
           "yaxis": "y"
          }
         ],
         "name": "115643918"
        },
        {
         "data": [
          {
           "hovertemplate": "Recording timestamp=115652252<br>Gaze point X=%{x}<br>Gaze point Y=%{y}<extra></extra>",
           "legendgroup": "",
           "marker": {
            "color": "#636efa",
            "symbol": "circle"
           },
           "mode": "markers",
           "name": "",
           "orientation": "v",
           "showlegend": false,
           "type": "scatter",
           "x": [
            1210
           ],
           "xaxis": "x",
           "y": [
            -74
           ],
           "yaxis": "y"
          }
         ],
         "name": "115652252"
        },
        {
         "data": [
          {
           "hovertemplate": "Recording timestamp=115660594<br>Gaze point X=%{x}<br>Gaze point Y=%{y}<extra></extra>",
           "legendgroup": "",
           "marker": {
            "color": "#636efa",
            "symbol": "circle"
           },
           "mode": "markers",
           "name": "",
           "orientation": "v",
           "showlegend": false,
           "type": "scatter",
           "x": [
            1350
           ],
           "xaxis": "x",
           "y": [
            213
           ],
           "yaxis": "y"
          }
         ],
         "name": "115660594"
        },
        {
         "data": [
          {
           "hovertemplate": "Recording timestamp=115668915<br>Gaze point X=%{x}<br>Gaze point Y=%{y}<extra></extra>",
           "legendgroup": "",
           "marker": {
            "color": "#636efa",
            "symbol": "circle"
           },
           "mode": "markers",
           "name": "",
           "orientation": "v",
           "showlegend": false,
           "type": "scatter",
           "x": [
            1283
           ],
           "xaxis": "x",
           "y": [
            69
           ],
           "yaxis": "y"
          }
         ],
         "name": "115668915"
        },
        {
         "data": [
          {
           "hovertemplate": "Recording timestamp=115677253<br>Gaze point X=%{x}<br>Gaze point Y=%{y}<extra></extra>",
           "legendgroup": "",
           "marker": {
            "color": "#636efa",
            "symbol": "circle"
           },
           "mode": "markers",
           "name": "",
           "orientation": "v",
           "showlegend": false,
           "type": "scatter",
           "x": [
            1345
           ],
           "xaxis": "x",
           "y": [
            199
           ],
           "yaxis": "y"
          }
         ],
         "name": "115677253"
        },
        {
         "data": [
          {
           "hovertemplate": "Recording timestamp=115685580<br>Gaze point X=%{x}<br>Gaze point Y=%{y}<extra></extra>",
           "legendgroup": "",
           "marker": {
            "color": "#636efa",
            "symbol": "circle"
           },
           "mode": "markers",
           "name": "",
           "orientation": "v",
           "showlegend": false,
           "type": "scatter",
           "x": [
            1358
           ],
           "xaxis": "x",
           "y": [
            201
           ],
           "yaxis": "y"
          }
         ],
         "name": "115685580"
        },
        {
         "data": [
          {
           "hovertemplate": "Recording timestamp=115693913<br>Gaze point X=%{x}<br>Gaze point Y=%{y}<extra></extra>",
           "legendgroup": "",
           "marker": {
            "color": "#636efa",
            "symbol": "circle"
           },
           "mode": "markers",
           "name": "",
           "orientation": "v",
           "showlegend": false,
           "type": "scatter",
           "x": [
            1242
           ],
           "xaxis": "x",
           "y": [
            43
           ],
           "yaxis": "y"
          }
         ],
         "name": "115693913"
        },
        {
         "data": [
          {
           "hovertemplate": "Recording timestamp=115702243<br>Gaze point X=%{x}<br>Gaze point Y=%{y}<extra></extra>",
           "legendgroup": "",
           "marker": {
            "color": "#636efa",
            "symbol": "circle"
           },
           "mode": "markers",
           "name": "",
           "orientation": "v",
           "showlegend": false,
           "type": "scatter",
           "x": [
            1369
           ],
           "xaxis": "x",
           "y": [
            236
           ],
           "yaxis": "y"
          }
         ],
         "name": "115702243"
        },
        {
         "data": [
          {
           "hovertemplate": "Recording timestamp=115710582<br>Gaze point X=%{x}<br>Gaze point Y=%{y}<extra></extra>",
           "legendgroup": "",
           "marker": {
            "color": "#636efa",
            "symbol": "circle"
           },
           "mode": "markers",
           "name": "",
           "orientation": "v",
           "showlegend": false,
           "type": "scatter",
           "x": [
            1364
           ],
           "xaxis": "x",
           "y": [
            214
           ],
           "yaxis": "y"
          }
         ],
         "name": "115710582"
        },
        {
         "data": [
          {
           "hovertemplate": "Recording timestamp=115718912<br>Gaze point X=%{x}<br>Gaze point Y=%{y}<extra></extra>",
           "legendgroup": "",
           "marker": {
            "color": "#636efa",
            "symbol": "circle"
           },
           "mode": "markers",
           "name": "",
           "orientation": "v",
           "showlegend": false,
           "type": "scatter",
           "x": [
            1359
           ],
           "xaxis": "x",
           "y": [
            245
           ],
           "yaxis": "y"
          }
         ],
         "name": "115718912"
        },
        {
         "data": [
          {
           "hovertemplate": "Recording timestamp=115727246<br>Gaze point X=%{x}<br>Gaze point Y=%{y}<extra></extra>",
           "legendgroup": "",
           "marker": {
            "color": "#636efa",
            "symbol": "circle"
           },
           "mode": "markers",
           "name": "",
           "orientation": "v",
           "showlegend": false,
           "type": "scatter",
           "x": [
            null
           ],
           "xaxis": "x",
           "y": [
            null
           ],
           "yaxis": "y"
          }
         ],
         "name": "115727246"
        },
        {
         "data": [
          {
           "hovertemplate": "Recording timestamp=115735577<br>Gaze point X=%{x}<br>Gaze point Y=%{y}<extra></extra>",
           "legendgroup": "",
           "marker": {
            "color": "#636efa",
            "symbol": "circle"
           },
           "mode": "markers",
           "name": "",
           "orientation": "v",
           "showlegend": false,
           "type": "scatter",
           "x": [
            null
           ],
           "xaxis": "x",
           "y": [
            null
           ],
           "yaxis": "y"
          }
         ],
         "name": "115735577"
        },
        {
         "data": [
          {
           "hovertemplate": "Recording timestamp=115743907<br>Gaze point X=%{x}<br>Gaze point Y=%{y}<extra></extra>",
           "legendgroup": "",
           "marker": {
            "color": "#636efa",
            "symbol": "circle"
           },
           "mode": "markers",
           "name": "",
           "orientation": "v",
           "showlegend": false,
           "type": "scatter",
           "x": [
            1363
           ],
           "xaxis": "x",
           "y": [
            254
           ],
           "yaxis": "y"
          }
         ],
         "name": "115743907"
        },
        {
         "data": [
          {
           "hovertemplate": "Recording timestamp=115752241<br>Gaze point X=%{x}<br>Gaze point Y=%{y}<extra></extra>",
           "legendgroup": "",
           "marker": {
            "color": "#636efa",
            "symbol": "circle"
           },
           "mode": "markers",
           "name": "",
           "orientation": "v",
           "showlegend": false,
           "type": "scatter",
           "x": [
            1325
           ],
           "xaxis": "x",
           "y": [
            288
           ],
           "yaxis": "y"
          }
         ],
         "name": "115752241"
        },
        {
         "data": [
          {
           "hovertemplate": "Recording timestamp=115760573<br>Gaze point X=%{x}<br>Gaze point Y=%{y}<extra></extra>",
           "legendgroup": "",
           "marker": {
            "color": "#636efa",
            "symbol": "circle"
           },
           "mode": "markers",
           "name": "",
           "orientation": "v",
           "showlegend": false,
           "type": "scatter",
           "x": [
            null
           ],
           "xaxis": "x",
           "y": [
            null
           ],
           "yaxis": "y"
          }
         ],
         "name": "115760573"
        },
        {
         "data": [
          {
           "hovertemplate": "Recording timestamp=115768900<br>Gaze point X=%{x}<br>Gaze point Y=%{y}<extra></extra>",
           "legendgroup": "",
           "marker": {
            "color": "#636efa",
            "symbol": "circle"
           },
           "mode": "markers",
           "name": "",
           "orientation": "v",
           "showlegend": false,
           "type": "scatter",
           "x": [
            1395
           ],
           "xaxis": "x",
           "y": [
            213
           ],
           "yaxis": "y"
          }
         ],
         "name": "115768900"
        },
        {
         "data": [
          {
           "hovertemplate": "Recording timestamp=115777233<br>Gaze point X=%{x}<br>Gaze point Y=%{y}<extra></extra>",
           "legendgroup": "",
           "marker": {
            "color": "#636efa",
            "symbol": "circle"
           },
           "mode": "markers",
           "name": "",
           "orientation": "v",
           "showlegend": false,
           "type": "scatter",
           "x": [
            null
           ],
           "xaxis": "x",
           "y": [
            null
           ],
           "yaxis": "y"
          }
         ],
         "name": "115777233"
        },
        {
         "data": [
          {
           "hovertemplate": "Recording timestamp=115785571<br>Gaze point X=%{x}<br>Gaze point Y=%{y}<extra></extra>",
           "legendgroup": "",
           "marker": {
            "color": "#636efa",
            "symbol": "circle"
           },
           "mode": "markers",
           "name": "",
           "orientation": "v",
           "showlegend": false,
           "type": "scatter",
           "x": [
            1303
           ],
           "xaxis": "x",
           "y": [
            300
           ],
           "yaxis": "y"
          }
         ],
         "name": "115785571"
        },
        {
         "data": [
          {
           "hovertemplate": "Recording timestamp=115793905<br>Gaze point X=%{x}<br>Gaze point Y=%{y}<extra></extra>",
           "legendgroup": "",
           "marker": {
            "color": "#636efa",
            "symbol": "circle"
           },
           "mode": "markers",
           "name": "",
           "orientation": "v",
           "showlegend": false,
           "type": "scatter",
           "x": [
            1364
           ],
           "xaxis": "x",
           "y": [
            265
           ],
           "yaxis": "y"
          }
         ],
         "name": "115793905"
        },
        {
         "data": [
          {
           "hovertemplate": "Recording timestamp=115802253<br>Gaze point X=%{x}<br>Gaze point Y=%{y}<extra></extra>",
           "legendgroup": "",
           "marker": {
            "color": "#636efa",
            "symbol": "circle"
           },
           "mode": "markers",
           "name": "",
           "orientation": "v",
           "showlegend": false,
           "type": "scatter",
           "x": [
            null
           ],
           "xaxis": "x",
           "y": [
            null
           ],
           "yaxis": "y"
          }
         ],
         "name": "115802253"
        },
        {
         "data": [
          {
           "hovertemplate": "Recording timestamp=115810626<br>Gaze point X=%{x}<br>Gaze point Y=%{y}<extra></extra>",
           "legendgroup": "",
           "marker": {
            "color": "#636efa",
            "symbol": "circle"
           },
           "mode": "markers",
           "name": "",
           "orientation": "v",
           "showlegend": false,
           "type": "scatter",
           "x": [
            1409
           ],
           "xaxis": "x",
           "y": [
            278
           ],
           "yaxis": "y"
          }
         ],
         "name": "115810626"
        },
        {
         "data": [
          {
           "hovertemplate": "Recording timestamp=115818963<br>Gaze point X=%{x}<br>Gaze point Y=%{y}<extra></extra>",
           "legendgroup": "",
           "marker": {
            "color": "#636efa",
            "symbol": "circle"
           },
           "mode": "markers",
           "name": "",
           "orientation": "v",
           "showlegend": false,
           "type": "scatter",
           "x": [
            1369
           ],
           "xaxis": "x",
           "y": [
            202
           ],
           "yaxis": "y"
          }
         ],
         "name": "115818963"
        },
        {
         "data": [
          {
           "hovertemplate": "Recording timestamp=115827269<br>Gaze point X=%{x}<br>Gaze point Y=%{y}<extra></extra>",
           "legendgroup": "",
           "marker": {
            "color": "#636efa",
            "symbol": "circle"
           },
           "mode": "markers",
           "name": "",
           "orientation": "v",
           "showlegend": false,
           "type": "scatter",
           "x": [
            1373
           ],
           "xaxis": "x",
           "y": [
            264
           ],
           "yaxis": "y"
          }
         ],
         "name": "115827269"
        },
        {
         "data": [
          {
           "hovertemplate": "Recording timestamp=115835569<br>Gaze point X=%{x}<br>Gaze point Y=%{y}<extra></extra>",
           "legendgroup": "",
           "marker": {
            "color": "#636efa",
            "symbol": "circle"
           },
           "mode": "markers",
           "name": "",
           "orientation": "v",
           "showlegend": false,
           "type": "scatter",
           "x": [
            1339
           ],
           "xaxis": "x",
           "y": [
            148
           ],
           "yaxis": "y"
          }
         ],
         "name": "115835569"
        },
        {
         "data": [
          {
           "hovertemplate": "Recording timestamp=115843962<br>Gaze point X=%{x}<br>Gaze point Y=%{y}<extra></extra>",
           "legendgroup": "",
           "marker": {
            "color": "#636efa",
            "symbol": "circle"
           },
           "mode": "markers",
           "name": "",
           "orientation": "v",
           "showlegend": false,
           "type": "scatter",
           "x": [
            1414
           ],
           "xaxis": "x",
           "y": [
            171
           ],
           "yaxis": "y"
          }
         ],
         "name": "115843962"
        },
        {
         "data": [
          {
           "hovertemplate": "Recording timestamp=115852295<br>Gaze point X=%{x}<br>Gaze point Y=%{y}<extra></extra>",
           "legendgroup": "",
           "marker": {
            "color": "#636efa",
            "symbol": "circle"
           },
           "mode": "markers",
           "name": "",
           "orientation": "v",
           "showlegend": false,
           "type": "scatter",
           "x": [
            1336
           ],
           "xaxis": "x",
           "y": [
            227
           ],
           "yaxis": "y"
          }
         ],
         "name": "115852295"
        },
        {
         "data": [
          {
           "hovertemplate": "Recording timestamp=115860565<br>Gaze point X=%{x}<br>Gaze point Y=%{y}<extra></extra>",
           "legendgroup": "",
           "marker": {
            "color": "#636efa",
            "symbol": "circle"
           },
           "mode": "markers",
           "name": "",
           "orientation": "v",
           "showlegend": false,
           "type": "scatter",
           "x": [
            1454
           ],
           "xaxis": "x",
           "y": [
            126
           ],
           "yaxis": "y"
          }
         ],
         "name": "115860565"
        },
        {
         "data": [
          {
           "hovertemplate": "Recording timestamp=115868898<br>Gaze point X=%{x}<br>Gaze point Y=%{y}<extra></extra>",
           "legendgroup": "",
           "marker": {
            "color": "#636efa",
            "symbol": "circle"
           },
           "mode": "markers",
           "name": "",
           "orientation": "v",
           "showlegend": false,
           "type": "scatter",
           "x": [
            1396
           ],
           "xaxis": "x",
           "y": [
            167
           ],
           "yaxis": "y"
          }
         ],
         "name": "115868898"
        },
        {
         "data": [
          {
           "hovertemplate": "Recording timestamp=115877233<br>Gaze point X=%{x}<br>Gaze point Y=%{y}<extra></extra>",
           "legendgroup": "",
           "marker": {
            "color": "#636efa",
            "symbol": "circle"
           },
           "mode": "markers",
           "name": "",
           "orientation": "v",
           "showlegend": false,
           "type": "scatter",
           "x": [
            null
           ],
           "xaxis": "x",
           "y": [
            null
           ],
           "yaxis": "y"
          }
         ],
         "name": "115877233"
        },
        {
         "data": [
          {
           "hovertemplate": "Recording timestamp=115885563<br>Gaze point X=%{x}<br>Gaze point Y=%{y}<extra></extra>",
           "legendgroup": "",
           "marker": {
            "color": "#636efa",
            "symbol": "circle"
           },
           "mode": "markers",
           "name": "",
           "orientation": "v",
           "showlegend": false,
           "type": "scatter",
           "x": [
            1353
           ],
           "xaxis": "x",
           "y": [
            147
           ],
           "yaxis": "y"
          }
         ],
         "name": "115885563"
        },
        {
         "data": [
          {
           "hovertemplate": "Recording timestamp=115893901<br>Gaze point X=%{x}<br>Gaze point Y=%{y}<extra></extra>",
           "legendgroup": "",
           "marker": {
            "color": "#636efa",
            "symbol": "circle"
           },
           "mode": "markers",
           "name": "",
           "orientation": "v",
           "showlegend": false,
           "type": "scatter",
           "x": [
            1303
           ],
           "xaxis": "x",
           "y": [
            217
           ],
           "yaxis": "y"
          }
         ],
         "name": "115893901"
        },
        {
         "data": [
          {
           "hovertemplate": "Recording timestamp=115902231<br>Gaze point X=%{x}<br>Gaze point Y=%{y}<extra></extra>",
           "legendgroup": "",
           "marker": {
            "color": "#636efa",
            "symbol": "circle"
           },
           "mode": "markers",
           "name": "",
           "orientation": "v",
           "showlegend": false,
           "type": "scatter",
           "x": [
            null
           ],
           "xaxis": "x",
           "y": [
            null
           ],
           "yaxis": "y"
          }
         ],
         "name": "115902231"
        },
        {
         "data": [
          {
           "hovertemplate": "Recording timestamp=115910567<br>Gaze point X=%{x}<br>Gaze point Y=%{y}<extra></extra>",
           "legendgroup": "",
           "marker": {
            "color": "#636efa",
            "symbol": "circle"
           },
           "mode": "markers",
           "name": "",
           "orientation": "v",
           "showlegend": false,
           "type": "scatter",
           "x": [
            1334
           ],
           "xaxis": "x",
           "y": [
            214
           ],
           "yaxis": "y"
          }
         ],
         "name": "115910567"
        },
        {
         "data": [
          {
           "hovertemplate": "Recording timestamp=115918894<br>Gaze point X=%{x}<br>Gaze point Y=%{y}<extra></extra>",
           "legendgroup": "",
           "marker": {
            "color": "#636efa",
            "symbol": "circle"
           },
           "mode": "markers",
           "name": "",
           "orientation": "v",
           "showlegend": false,
           "type": "scatter",
           "x": [
            1350
           ],
           "xaxis": "x",
           "y": [
            193
           ],
           "yaxis": "y"
          }
         ],
         "name": "115918894"
        },
        {
         "data": [
          {
           "hovertemplate": "Recording timestamp=115927260<br>Gaze point X=%{x}<br>Gaze point Y=%{y}<extra></extra>",
           "legendgroup": "",
           "marker": {
            "color": "#636efa",
            "symbol": "circle"
           },
           "mode": "markers",
           "name": "",
           "orientation": "v",
           "showlegend": false,
           "type": "scatter",
           "x": [
            1397
           ],
           "xaxis": "x",
           "y": [
            150
           ],
           "yaxis": "y"
          }
         ],
         "name": "115927260"
        },
        {
         "data": [
          {
           "hovertemplate": "Recording timestamp=115935555<br>Gaze point X=%{x}<br>Gaze point Y=%{y}<extra></extra>",
           "legendgroup": "",
           "marker": {
            "color": "#636efa",
            "symbol": "circle"
           },
           "mode": "markers",
           "name": "",
           "orientation": "v",
           "showlegend": false,
           "type": "scatter",
           "x": [
            1506
           ],
           "xaxis": "x",
           "y": [
            111
           ],
           "yaxis": "y"
          }
         ],
         "name": "115935555"
        },
        {
         "data": [
          {
           "hovertemplate": "Recording timestamp=115943888<br>Gaze point X=%{x}<br>Gaze point Y=%{y}<extra></extra>",
           "legendgroup": "",
           "marker": {
            "color": "#636efa",
            "symbol": "circle"
           },
           "mode": "markers",
           "name": "",
           "orientation": "v",
           "showlegend": false,
           "type": "scatter",
           "x": [
            1392
           ],
           "xaxis": "x",
           "y": [
            232
           ],
           "yaxis": "y"
          }
         ],
         "name": "115943888"
        },
        {
         "data": [
          {
           "hovertemplate": "Recording timestamp=115952220<br>Gaze point X=%{x}<br>Gaze point Y=%{y}<extra></extra>",
           "legendgroup": "",
           "marker": {
            "color": "#636efa",
            "symbol": "circle"
           },
           "mode": "markers",
           "name": "",
           "orientation": "v",
           "showlegend": false,
           "type": "scatter",
           "x": [
            1395
           ],
           "xaxis": "x",
           "y": [
            173
           ],
           "yaxis": "y"
          }
         ],
         "name": "115952220"
        },
        {
         "data": [
          {
           "hovertemplate": "Recording timestamp=115960553<br>Gaze point X=%{x}<br>Gaze point Y=%{y}<extra></extra>",
           "legendgroup": "",
           "marker": {
            "color": "#636efa",
            "symbol": "circle"
           },
           "mode": "markers",
           "name": "",
           "orientation": "v",
           "showlegend": false,
           "type": "scatter",
           "x": [
            1356
           ],
           "xaxis": "x",
           "y": [
            258
           ],
           "yaxis": "y"
          }
         ],
         "name": "115960553"
        },
        {
         "data": [
          {
           "hovertemplate": "Recording timestamp=115968889<br>Gaze point X=%{x}<br>Gaze point Y=%{y}<extra></extra>",
           "legendgroup": "",
           "marker": {
            "color": "#636efa",
            "symbol": "circle"
           },
           "mode": "markers",
           "name": "",
           "orientation": "v",
           "showlegend": false,
           "type": "scatter",
           "x": [
            1365
           ],
           "xaxis": "x",
           "y": [
            233
           ],
           "yaxis": "y"
          }
         ],
         "name": "115968889"
        },
        {
         "data": [
          {
           "hovertemplate": "Recording timestamp=115977219<br>Gaze point X=%{x}<br>Gaze point Y=%{y}<extra></extra>",
           "legendgroup": "",
           "marker": {
            "color": "#636efa",
            "symbol": "circle"
           },
           "mode": "markers",
           "name": "",
           "orientation": "v",
           "showlegend": false,
           "type": "scatter",
           "x": [
            1424
           ],
           "xaxis": "x",
           "y": [
            252
           ],
           "yaxis": "y"
          }
         ],
         "name": "115977219"
        },
        {
         "data": [
          {
           "hovertemplate": "Recording timestamp=115985556<br>Gaze point X=%{x}<br>Gaze point Y=%{y}<extra></extra>",
           "legendgroup": "",
           "marker": {
            "color": "#636efa",
            "symbol": "circle"
           },
           "mode": "markers",
           "name": "",
           "orientation": "v",
           "showlegend": false,
           "type": "scatter",
           "x": [
            1468
           ],
           "xaxis": "x",
           "y": [
            175
           ],
           "yaxis": "y"
          }
         ],
         "name": "115985556"
        },
        {
         "data": [
          {
           "hovertemplate": "Recording timestamp=115993918<br>Gaze point X=%{x}<br>Gaze point Y=%{y}<extra></extra>",
           "legendgroup": "",
           "marker": {
            "color": "#636efa",
            "symbol": "circle"
           },
           "mode": "markers",
           "name": "",
           "orientation": "v",
           "showlegend": false,
           "type": "scatter",
           "x": [
            1360
           ],
           "xaxis": "x",
           "y": [
            246
           ],
           "yaxis": "y"
          }
         ],
         "name": "115993918"
        },
        {
         "data": [
          {
           "hovertemplate": "Recording timestamp=116002214<br>Gaze point X=%{x}<br>Gaze point Y=%{y}<extra></extra>",
           "legendgroup": "",
           "marker": {
            "color": "#636efa",
            "symbol": "circle"
           },
           "mode": "markers",
           "name": "",
           "orientation": "v",
           "showlegend": false,
           "type": "scatter",
           "x": [
            1299
           ],
           "xaxis": "x",
           "y": [
            301
           ],
           "yaxis": "y"
          }
         ],
         "name": "116002214"
        },
        {
         "data": [
          {
           "hovertemplate": "Recording timestamp=116010549<br>Gaze point X=%{x}<br>Gaze point Y=%{y}<extra></extra>",
           "legendgroup": "",
           "marker": {
            "color": "#636efa",
            "symbol": "circle"
           },
           "mode": "markers",
           "name": "",
           "orientation": "v",
           "showlegend": false,
           "type": "scatter",
           "x": [
            1289
           ],
           "xaxis": "x",
           "y": [
            334
           ],
           "yaxis": "y"
          }
         ],
         "name": "116010549"
        },
        {
         "data": [
          {
           "hovertemplate": "Recording timestamp=116018883<br>Gaze point X=%{x}<br>Gaze point Y=%{y}<extra></extra>",
           "legendgroup": "",
           "marker": {
            "color": "#636efa",
            "symbol": "circle"
           },
           "mode": "markers",
           "name": "",
           "orientation": "v",
           "showlegend": false,
           "type": "scatter",
           "x": [
            1444
           ],
           "xaxis": "x",
           "y": [
            179
           ],
           "yaxis": "y"
          }
         ],
         "name": "116018883"
        },
        {
         "data": [
          {
           "hovertemplate": "Recording timestamp=116027217<br>Gaze point X=%{x}<br>Gaze point Y=%{y}<extra></extra>",
           "legendgroup": "",
           "marker": {
            "color": "#636efa",
            "symbol": "circle"
           },
           "mode": "markers",
           "name": "",
           "orientation": "v",
           "showlegend": false,
           "type": "scatter",
           "x": [
            1441
           ],
           "xaxis": "x",
           "y": [
            210
           ],
           "yaxis": "y"
          }
         ],
         "name": "116027217"
        },
        {
         "data": [
          {
           "hovertemplate": "Recording timestamp=116035585<br>Gaze point X=%{x}<br>Gaze point Y=%{y}<extra></extra>",
           "legendgroup": "",
           "marker": {
            "color": "#636efa",
            "symbol": "circle"
           },
           "mode": "markers",
           "name": "",
           "orientation": "v",
           "showlegend": false,
           "type": "scatter",
           "x": [
            1412
           ],
           "xaxis": "x",
           "y": [
            154
           ],
           "yaxis": "y"
          }
         ],
         "name": "116035585"
        },
        {
         "data": [
          {
           "hovertemplate": "Recording timestamp=116043884<br>Gaze point X=%{x}<br>Gaze point Y=%{y}<extra></extra>",
           "legendgroup": "",
           "marker": {
            "color": "#636efa",
            "symbol": "circle"
           },
           "mode": "markers",
           "name": "",
           "orientation": "v",
           "showlegend": false,
           "type": "scatter",
           "x": [
            1363
           ],
           "xaxis": "x",
           "y": [
            288
           ],
           "yaxis": "y"
          }
         ],
         "name": "116043884"
        },
        {
         "data": [
          {
           "hovertemplate": "Recording timestamp=116052217<br>Gaze point X=%{x}<br>Gaze point Y=%{y}<extra></extra>",
           "legendgroup": "",
           "marker": {
            "color": "#636efa",
            "symbol": "circle"
           },
           "mode": "markers",
           "name": "",
           "orientation": "v",
           "showlegend": false,
           "type": "scatter",
           "x": [
            1331
           ],
           "xaxis": "x",
           "y": [
            241
           ],
           "yaxis": "y"
          }
         ],
         "name": "116052217"
        },
        {
         "data": [
          {
           "hovertemplate": "Recording timestamp=116060549<br>Gaze point X=%{x}<br>Gaze point Y=%{y}<extra></extra>",
           "legendgroup": "",
           "marker": {
            "color": "#636efa",
            "symbol": "circle"
           },
           "mode": "markers",
           "name": "",
           "orientation": "v",
           "showlegend": false,
           "type": "scatter",
           "x": [
            1418
           ],
           "xaxis": "x",
           "y": [
            216
           ],
           "yaxis": "y"
          }
         ],
         "name": "116060549"
        },
        {
         "data": [
          {
           "hovertemplate": "Recording timestamp=116068940<br>Gaze point X=%{x}<br>Gaze point Y=%{y}<extra></extra>",
           "legendgroup": "",
           "marker": {
            "color": "#636efa",
            "symbol": "circle"
           },
           "mode": "markers",
           "name": "",
           "orientation": "v",
           "showlegend": false,
           "type": "scatter",
           "x": [
            1374
           ],
           "xaxis": "x",
           "y": [
            304
           ],
           "yaxis": "y"
          }
         ],
         "name": "116068940"
        },
        {
         "data": [
          {
           "hovertemplate": "Recording timestamp=116077216<br>Gaze point X=%{x}<br>Gaze point Y=%{y}<extra></extra>",
           "legendgroup": "",
           "marker": {
            "color": "#636efa",
            "symbol": "circle"
           },
           "mode": "markers",
           "name": "",
           "orientation": "v",
           "showlegend": false,
           "type": "scatter",
           "x": [
            null
           ],
           "xaxis": "x",
           "y": [
            null
           ],
           "yaxis": "y"
          }
         ],
         "name": "116077216"
        },
        {
         "data": [
          {
           "hovertemplate": "Recording timestamp=116085547<br>Gaze point X=%{x}<br>Gaze point Y=%{y}<extra></extra>",
           "legendgroup": "",
           "marker": {
            "color": "#636efa",
            "symbol": "circle"
           },
           "mode": "markers",
           "name": "",
           "orientation": "v",
           "showlegend": false,
           "type": "scatter",
           "x": [
            1371
           ],
           "xaxis": "x",
           "y": [
            162
           ],
           "yaxis": "y"
          }
         ],
         "name": "116085547"
        },
        {
         "data": [
          {
           "hovertemplate": "Recording timestamp=116093884<br>Gaze point X=%{x}<br>Gaze point Y=%{y}<extra></extra>",
           "legendgroup": "",
           "marker": {
            "color": "#636efa",
            "symbol": "circle"
           },
           "mode": "markers",
           "name": "",
           "orientation": "v",
           "showlegend": false,
           "type": "scatter",
           "x": [
            1384
           ],
           "xaxis": "x",
           "y": [
            244
           ],
           "yaxis": "y"
          }
         ],
         "name": "116093884"
        },
        {
         "data": [
          {
           "hovertemplate": "Recording timestamp=116102215<br>Gaze point X=%{x}<br>Gaze point Y=%{y}<extra></extra>",
           "legendgroup": "",
           "marker": {
            "color": "#636efa",
            "symbol": "circle"
           },
           "mode": "markers",
           "name": "",
           "orientation": "v",
           "showlegend": false,
           "type": "scatter",
           "x": [
            1307
           ],
           "xaxis": "x",
           "y": [
            258
           ],
           "yaxis": "y"
          }
         ],
         "name": "116102215"
        },
        {
         "data": [
          {
           "hovertemplate": "Recording timestamp=116110547<br>Gaze point X=%{x}<br>Gaze point Y=%{y}<extra></extra>",
           "legendgroup": "",
           "marker": {
            "color": "#636efa",
            "symbol": "circle"
           },
           "mode": "markers",
           "name": "",
           "orientation": "v",
           "showlegend": false,
           "type": "scatter",
           "x": [
            1378
           ],
           "xaxis": "x",
           "y": [
            241
           ],
           "yaxis": "y"
          }
         ],
         "name": "116110547"
        },
        {
         "data": [
          {
           "hovertemplate": "Recording timestamp=116118935<br>Gaze point X=%{x}<br>Gaze point Y=%{y}<extra></extra>",
           "legendgroup": "",
           "marker": {
            "color": "#636efa",
            "symbol": "circle"
           },
           "mode": "markers",
           "name": "",
           "orientation": "v",
           "showlegend": false,
           "type": "scatter",
           "x": [
            1344
           ],
           "xaxis": "x",
           "y": [
            331
           ],
           "yaxis": "y"
          }
         ],
         "name": "116118935"
        },
        {
         "data": [
          {
           "hovertemplate": "Recording timestamp=116127212<br>Gaze point X=%{x}<br>Gaze point Y=%{y}<extra></extra>",
           "legendgroup": "",
           "marker": {
            "color": "#636efa",
            "symbol": "circle"
           },
           "mode": "markers",
           "name": "",
           "orientation": "v",
           "showlegend": false,
           "type": "scatter",
           "x": [
            1302
           ],
           "xaxis": "x",
           "y": [
            403
           ],
           "yaxis": "y"
          }
         ],
         "name": "116127212"
        },
        {
         "data": [
          {
           "hovertemplate": "Recording timestamp=116135543<br>Gaze point X=%{x}<br>Gaze point Y=%{y}<extra></extra>",
           "legendgroup": "",
           "marker": {
            "color": "#636efa",
            "symbol": "circle"
           },
           "mode": "markers",
           "name": "",
           "orientation": "v",
           "showlegend": false,
           "type": "scatter",
           "x": [
            1308
           ],
           "xaxis": "x",
           "y": [
            282
           ],
           "yaxis": "y"
          }
         ],
         "name": "116135543"
        },
        {
         "data": [
          {
           "hovertemplate": "Recording timestamp=116143867<br>Gaze point X=%{x}<br>Gaze point Y=%{y}<extra></extra>",
           "legendgroup": "",
           "marker": {
            "color": "#636efa",
            "symbol": "circle"
           },
           "mode": "markers",
           "name": "",
           "orientation": "v",
           "showlegend": false,
           "type": "scatter",
           "x": [
            1311
           ],
           "xaxis": "x",
           "y": [
            274
           ],
           "yaxis": "y"
          }
         ],
         "name": "116143867"
        },
        {
         "data": [
          {
           "hovertemplate": "Recording timestamp=116152261<br>Gaze point X=%{x}<br>Gaze point Y=%{y}<extra></extra>",
           "legendgroup": "",
           "marker": {
            "color": "#636efa",
            "symbol": "circle"
           },
           "mode": "markers",
           "name": "",
           "orientation": "v",
           "showlegend": false,
           "type": "scatter",
           "x": [
            1335
           ],
           "xaxis": "x",
           "y": [
            269
           ],
           "yaxis": "y"
          }
         ],
         "name": "116152261"
        },
        {
         "data": [
          {
           "hovertemplate": "Recording timestamp=116160536<br>Gaze point X=%{x}<br>Gaze point Y=%{y}<extra></extra>",
           "legendgroup": "",
           "marker": {
            "color": "#636efa",
            "symbol": "circle"
           },
           "mode": "markers",
           "name": "",
           "orientation": "v",
           "showlegend": false,
           "type": "scatter",
           "x": [
            1346
           ],
           "xaxis": "x",
           "y": [
            381
           ],
           "yaxis": "y"
          }
         ],
         "name": "116160536"
        },
        {
         "data": [
          {
           "hovertemplate": "Recording timestamp=116168870<br>Gaze point X=%{x}<br>Gaze point Y=%{y}<extra></extra>",
           "legendgroup": "",
           "marker": {
            "color": "#636efa",
            "symbol": "circle"
           },
           "mode": "markers",
           "name": "",
           "orientation": "v",
           "showlegend": false,
           "type": "scatter",
           "x": [
            1374
           ],
           "xaxis": "x",
           "y": [
            419
           ],
           "yaxis": "y"
          }
         ],
         "name": "116168870"
        },
        {
         "data": [
          {
           "hovertemplate": "Recording timestamp=116177211<br>Gaze point X=%{x}<br>Gaze point Y=%{y}<extra></extra>",
           "legendgroup": "",
           "marker": {
            "color": "#636efa",
            "symbol": "circle"
           },
           "mode": "markers",
           "name": "",
           "orientation": "v",
           "showlegend": false,
           "type": "scatter",
           "x": [
            null
           ],
           "xaxis": "x",
           "y": [
            null
           ],
           "yaxis": "y"
          }
         ],
         "name": "116177211"
        },
        {
         "data": [
          {
           "hovertemplate": "Recording timestamp=116185534<br>Gaze point X=%{x}<br>Gaze point Y=%{y}<extra></extra>",
           "legendgroup": "",
           "marker": {
            "color": "#636efa",
            "symbol": "circle"
           },
           "mode": "markers",
           "name": "",
           "orientation": "v",
           "showlegend": false,
           "type": "scatter",
           "x": [
            1301
           ],
           "xaxis": "x",
           "y": [
            428
           ],
           "yaxis": "y"
          }
         ],
         "name": "116185534"
        },
        {
         "data": [
          {
           "hovertemplate": "Recording timestamp=116193866<br>Gaze point X=%{x}<br>Gaze point Y=%{y}<extra></extra>",
           "legendgroup": "",
           "marker": {
            "color": "#636efa",
            "symbol": "circle"
           },
           "mode": "markers",
           "name": "",
           "orientation": "v",
           "showlegend": false,
           "type": "scatter",
           "x": [
            1375
           ],
           "xaxis": "x",
           "y": [
            294
           ],
           "yaxis": "y"
          }
         ],
         "name": "116193866"
        },
        {
         "data": [
          {
           "hovertemplate": "Recording timestamp=116202273<br>Gaze point X=%{x}<br>Gaze point Y=%{y}<extra></extra>",
           "legendgroup": "",
           "marker": {
            "color": "#636efa",
            "symbol": "circle"
           },
           "mode": "markers",
           "name": "",
           "orientation": "v",
           "showlegend": false,
           "type": "scatter",
           "x": [
            1398
           ],
           "xaxis": "x",
           "y": [
            138
           ],
           "yaxis": "y"
          }
         ],
         "name": "116202273"
        },
        {
         "data": [
          {
           "hovertemplate": "Recording timestamp=116210527<br>Gaze point X=%{x}<br>Gaze point Y=%{y}<extra></extra>",
           "legendgroup": "",
           "marker": {
            "color": "#636efa",
            "symbol": "circle"
           },
           "mode": "markers",
           "name": "",
           "orientation": "v",
           "showlegend": false,
           "type": "scatter",
           "x": [
            1398
           ],
           "xaxis": "x",
           "y": [
            138
           ],
           "yaxis": "y"
          }
         ],
         "name": "116210527"
        },
        {
         "data": [
          {
           "hovertemplate": "Recording timestamp=116218957<br>Gaze point X=%{x}<br>Gaze point Y=%{y}<extra></extra>",
           "legendgroup": "",
           "marker": {
            "color": "#636efa",
            "symbol": "circle"
           },
           "mode": "markers",
           "name": "",
           "orientation": "v",
           "showlegend": false,
           "type": "scatter",
           "x": [
            1277
           ],
           "xaxis": "x",
           "y": [
            377
           ],
           "yaxis": "y"
          }
         ],
         "name": "116218957"
        },
        {
         "data": [
          {
           "hovertemplate": "Recording timestamp=116227197<br>Gaze point X=%{x}<br>Gaze point Y=%{y}<extra></extra>",
           "legendgroup": "",
           "marker": {
            "color": "#636efa",
            "symbol": "circle"
           },
           "mode": "markers",
           "name": "",
           "orientation": "v",
           "showlegend": false,
           "type": "scatter",
           "x": [
            null
           ],
           "xaxis": "x",
           "y": [
            null
           ],
           "yaxis": "y"
          }
         ],
         "name": "116227197"
        },
        {
         "data": [
          {
           "hovertemplate": "Recording timestamp=116235526<br>Gaze point X=%{x}<br>Gaze point Y=%{y}<extra></extra>",
           "legendgroup": "",
           "marker": {
            "color": "#636efa",
            "symbol": "circle"
           },
           "mode": "markers",
           "name": "",
           "orientation": "v",
           "showlegend": false,
           "type": "scatter",
           "x": [
            1387
           ],
           "xaxis": "x",
           "y": [
            345
           ],
           "yaxis": "y"
          }
         ],
         "name": "116235526"
        },
        {
         "data": [
          {
           "hovertemplate": "Recording timestamp=116243903<br>Gaze point X=%{x}<br>Gaze point Y=%{y}<extra></extra>",
           "legendgroup": "",
           "marker": {
            "color": "#636efa",
            "symbol": "circle"
           },
           "mode": "markers",
           "name": "",
           "orientation": "v",
           "showlegend": false,
           "type": "scatter",
           "x": [
            1347
           ],
           "xaxis": "x",
           "y": [
            485
           ],
           "yaxis": "y"
          }
         ],
         "name": "116243903"
        },
        {
         "data": [
          {
           "hovertemplate": "Recording timestamp=116252201<br>Gaze point X=%{x}<br>Gaze point Y=%{y}<extra></extra>",
           "legendgroup": "",
           "marker": {
            "color": "#636efa",
            "symbol": "circle"
           },
           "mode": "markers",
           "name": "",
           "orientation": "v",
           "showlegend": false,
           "type": "scatter",
           "x": [
            null
           ],
           "xaxis": "x",
           "y": [
            null
           ],
           "yaxis": "y"
          }
         ],
         "name": "116252201"
        },
        {
         "data": [
          {
           "hovertemplate": "Recording timestamp=116260590<br>Gaze point X=%{x}<br>Gaze point Y=%{y}<extra></extra>",
           "legendgroup": "",
           "marker": {
            "color": "#636efa",
            "symbol": "circle"
           },
           "mode": "markers",
           "name": "",
           "orientation": "v",
           "showlegend": false,
           "type": "scatter",
           "x": [
            1223
           ],
           "xaxis": "x",
           "y": [
            361
           ],
           "yaxis": "y"
          }
         ],
         "name": "116260590"
        },
        {
         "data": [
          {
           "hovertemplate": "Recording timestamp=116268927<br>Gaze point X=%{x}<br>Gaze point Y=%{y}<extra></extra>",
           "legendgroup": "",
           "marker": {
            "color": "#636efa",
            "symbol": "circle"
           },
           "mode": "markers",
           "name": "",
           "orientation": "v",
           "showlegend": false,
           "type": "scatter",
           "x": [
            1264
           ],
           "xaxis": "x",
           "y": [
            395
           ],
           "yaxis": "y"
          }
         ],
         "name": "116268927"
        },
        {
         "data": [
          {
           "hovertemplate": "Recording timestamp=116277203<br>Gaze point X=%{x}<br>Gaze point Y=%{y}<extra></extra>",
           "legendgroup": "",
           "marker": {
            "color": "#636efa",
            "symbol": "circle"
           },
           "mode": "markers",
           "name": "",
           "orientation": "v",
           "showlegend": false,
           "type": "scatter",
           "x": [
            null
           ],
           "xaxis": "x",
           "y": [
            null
           ],
           "yaxis": "y"
          }
         ],
         "name": "116277203"
        },
        {
         "data": [
          {
           "hovertemplate": "Recording timestamp=116285589<br>Gaze point X=%{x}<br>Gaze point Y=%{y}<extra></extra>",
           "legendgroup": "",
           "marker": {
            "color": "#636efa",
            "symbol": "circle"
           },
           "mode": "markers",
           "name": "",
           "orientation": "v",
           "showlegend": false,
           "type": "scatter",
           "x": [
            1369
           ],
           "xaxis": "x",
           "y": [
            358
           ],
           "yaxis": "y"
          }
         ],
         "name": "116285589"
        },
        {
         "data": [
          {
           "hovertemplate": "Recording timestamp=116293868<br>Gaze point X=%{x}<br>Gaze point Y=%{y}<extra></extra>",
           "legendgroup": "",
           "marker": {
            "color": "#636efa",
            "symbol": "circle"
           },
           "mode": "markers",
           "name": "",
           "orientation": "v",
           "showlegend": false,
           "type": "scatter",
           "x": [
            1323
           ],
           "xaxis": "x",
           "y": [
            408
           ],
           "yaxis": "y"
          }
         ],
         "name": "116293868"
        },
        {
         "data": [
          {
           "hovertemplate": "Recording timestamp=116302202<br>Gaze point X=%{x}<br>Gaze point Y=%{y}<extra></extra>",
           "legendgroup": "",
           "marker": {
            "color": "#636efa",
            "symbol": "circle"
           },
           "mode": "markers",
           "name": "",
           "orientation": "v",
           "showlegend": false,
           "type": "scatter",
           "x": [
            null
           ],
           "xaxis": "x",
           "y": [
            null
           ],
           "yaxis": "y"
          }
         ],
         "name": "116302202"
        },
        {
         "data": [
          {
           "hovertemplate": "Recording timestamp=116310530<br>Gaze point X=%{x}<br>Gaze point Y=%{y}<extra></extra>",
           "legendgroup": "",
           "marker": {
            "color": "#636efa",
            "symbol": "circle"
           },
           "mode": "markers",
           "name": "",
           "orientation": "v",
           "showlegend": false,
           "type": "scatter",
           "x": [
            1309
           ],
           "xaxis": "x",
           "y": [
            400
           ],
           "yaxis": "y"
          }
         ],
         "name": "116310530"
        },
        {
         "data": [
          {
           "hovertemplate": "Recording timestamp=116318922<br>Gaze point X=%{x}<br>Gaze point Y=%{y}<extra></extra>",
           "legendgroup": "",
           "marker": {
            "color": "#636efa",
            "symbol": "circle"
           },
           "mode": "markers",
           "name": "",
           "orientation": "v",
           "showlegend": false,
           "type": "scatter",
           "x": [
            1410
           ],
           "xaxis": "x",
           "y": [
            267
           ],
           "yaxis": "y"
          }
         ],
         "name": "116318922"
        },
        {
         "data": [
          {
           "hovertemplate": "Recording timestamp=116327197<br>Gaze point X=%{x}<br>Gaze point Y=%{y}<extra></extra>",
           "legendgroup": "",
           "marker": {
            "color": "#636efa",
            "symbol": "circle"
           },
           "mode": "markers",
           "name": "",
           "orientation": "v",
           "showlegend": false,
           "type": "scatter",
           "x": [
            1321
           ],
           "xaxis": "x",
           "y": [
            197
           ],
           "yaxis": "y"
          }
         ],
         "name": "116327197"
        },
        {
         "data": [
          {
           "hovertemplate": "Recording timestamp=116335531<br>Gaze point X=%{x}<br>Gaze point Y=%{y}<extra></extra>",
           "legendgroup": "",
           "marker": {
            "color": "#636efa",
            "symbol": "circle"
           },
           "mode": "markers",
           "name": "",
           "orientation": "v",
           "showlegend": false,
           "type": "scatter",
           "x": [
            1324
           ],
           "xaxis": "x",
           "y": [
            211
           ],
           "yaxis": "y"
          }
         ],
         "name": "116335531"
        },
        {
         "data": [
          {
           "hovertemplate": "Recording timestamp=116343865<br>Gaze point X=%{x}<br>Gaze point Y=%{y}<extra></extra>",
           "legendgroup": "",
           "marker": {
            "color": "#636efa",
            "symbol": "circle"
           },
           "mode": "markers",
           "name": "",
           "orientation": "v",
           "showlegend": false,
           "type": "scatter",
           "x": [
            1326
           ],
           "xaxis": "x",
           "y": [
            324
           ],
           "yaxis": "y"
          }
         ],
         "name": "116343865"
        },
        {
         "data": [
          {
           "hovertemplate": "Recording timestamp=116352204<br>Gaze point X=%{x}<br>Gaze point Y=%{y}<extra></extra>",
           "legendgroup": "",
           "marker": {
            "color": "#636efa",
            "symbol": "circle"
           },
           "mode": "markers",
           "name": "",
           "orientation": "v",
           "showlegend": false,
           "type": "scatter",
           "x": [
            1344
           ],
           "xaxis": "x",
           "y": [
            221
           ],
           "yaxis": "y"
          }
         ],
         "name": "116352204"
        },
        {
         "data": [
          {
           "hovertemplate": "Recording timestamp=116360521<br>Gaze point X=%{x}<br>Gaze point Y=%{y}<extra></extra>",
           "legendgroup": "",
           "marker": {
            "color": "#636efa",
            "symbol": "circle"
           },
           "mode": "markers",
           "name": "",
           "orientation": "v",
           "showlegend": false,
           "type": "scatter",
           "x": [
            1321
           ],
           "xaxis": "x",
           "y": [
            242
           ],
           "yaxis": "y"
          }
         ],
         "name": "116360521"
        },
        {
         "data": [
          {
           "hovertemplate": "Recording timestamp=116368856<br>Gaze point X=%{x}<br>Gaze point Y=%{y}<extra></extra>",
           "legendgroup": "",
           "marker": {
            "color": "#636efa",
            "symbol": "circle"
           },
           "mode": "markers",
           "name": "",
           "orientation": "v",
           "showlegend": false,
           "type": "scatter",
           "x": [
            1349
           ],
           "xaxis": "x",
           "y": [
            303
           ],
           "yaxis": "y"
          }
         ],
         "name": "116368856"
        },
        {
         "data": [
          {
           "hovertemplate": "Recording timestamp=116377209<br>Gaze point X=%{x}<br>Gaze point Y=%{y}<extra></extra>",
           "legendgroup": "",
           "marker": {
            "color": "#636efa",
            "symbol": "circle"
           },
           "mode": "markers",
           "name": "",
           "orientation": "v",
           "showlegend": false,
           "type": "scatter",
           "x": [
            1440
           ],
           "xaxis": "x",
           "y": [
            103
           ],
           "yaxis": "y"
          }
         ],
         "name": "116377209"
        },
        {
         "data": [
          {
           "hovertemplate": "Recording timestamp=116385588<br>Gaze point X=%{x}<br>Gaze point Y=%{y}<extra></extra>",
           "legendgroup": "",
           "marker": {
            "color": "#636efa",
            "symbol": "circle"
           },
           "mode": "markers",
           "name": "",
           "orientation": "v",
           "showlegend": false,
           "type": "scatter",
           "x": [
            1440
           ],
           "xaxis": "x",
           "y": [
            103
           ],
           "yaxis": "y"
          }
         ],
         "name": "116385588"
        },
        {
         "data": [
          {
           "hovertemplate": "Recording timestamp=116393856<br>Gaze point X=%{x}<br>Gaze point Y=%{y}<extra></extra>",
           "legendgroup": "",
           "marker": {
            "color": "#636efa",
            "symbol": "circle"
           },
           "mode": "markers",
           "name": "",
           "orientation": "v",
           "showlegend": false,
           "type": "scatter",
           "x": [
            1387
           ],
           "xaxis": "x",
           "y": [
            267
           ],
           "yaxis": "y"
          }
         ],
         "name": "116393856"
        },
        {
         "data": [
          {
           "hovertemplate": "Recording timestamp=116402191<br>Gaze point X=%{x}<br>Gaze point Y=%{y}<extra></extra>",
           "legendgroup": "",
           "marker": {
            "color": "#636efa",
            "symbol": "circle"
           },
           "mode": "markers",
           "name": "",
           "orientation": "v",
           "showlegend": false,
           "type": "scatter",
           "x": [
            null
           ],
           "xaxis": "x",
           "y": [
            null
           ],
           "yaxis": "y"
          }
         ],
         "name": "116402191"
        },
        {
         "data": [
          {
           "hovertemplate": "Recording timestamp=116410577<br>Gaze point X=%{x}<br>Gaze point Y=%{y}<extra></extra>",
           "legendgroup": "",
           "marker": {
            "color": "#636efa",
            "symbol": "circle"
           },
           "mode": "markers",
           "name": "",
           "orientation": "v",
           "showlegend": false,
           "type": "scatter",
           "x": [
            1414
           ],
           "xaxis": "x",
           "y": [
            262
           ],
           "yaxis": "y"
          }
         ],
         "name": "116410577"
        },
        {
         "data": [
          {
           "hovertemplate": "Recording timestamp=116418854<br>Gaze point X=%{x}<br>Gaze point Y=%{y}<extra></extra>",
           "legendgroup": "",
           "marker": {
            "color": "#636efa",
            "symbol": "circle"
           },
           "mode": "markers",
           "name": "",
           "orientation": "v",
           "showlegend": false,
           "type": "scatter",
           "x": [
            1418
           ],
           "xaxis": "x",
           "y": [
            270
           ],
           "yaxis": "y"
          }
         ],
         "name": "116418854"
        },
        {
         "data": [
          {
           "hovertemplate": "Recording timestamp=116427249<br>Gaze point X=%{x}<br>Gaze point Y=%{y}<extra></extra>",
           "legendgroup": "",
           "marker": {
            "color": "#636efa",
            "symbol": "circle"
           },
           "mode": "markers",
           "name": "",
           "orientation": "v",
           "showlegend": false,
           "type": "scatter",
           "x": [
            1369
           ],
           "xaxis": "x",
           "y": [
            161
           ],
           "yaxis": "y"
          }
         ],
         "name": "116427249"
        },
        {
         "data": [
          {
           "hovertemplate": "Recording timestamp=116435527<br>Gaze point X=%{x}<br>Gaze point Y=%{y}<extra></extra>",
           "legendgroup": "",
           "marker": {
            "color": "#636efa",
            "symbol": "circle"
           },
           "mode": "markers",
           "name": "",
           "orientation": "v",
           "showlegend": false,
           "type": "scatter",
           "x": [
            1401
           ],
           "xaxis": "x",
           "y": [
            162
           ],
           "yaxis": "y"
          }
         ],
         "name": "116435527"
        },
        {
         "data": [
          {
           "hovertemplate": "Recording timestamp=116443870<br>Gaze point X=%{x}<br>Gaze point Y=%{y}<extra></extra>",
           "legendgroup": "",
           "marker": {
            "color": "#636efa",
            "symbol": "circle"
           },
           "mode": "markers",
           "name": "",
           "orientation": "v",
           "showlegend": false,
           "type": "scatter",
           "x": [
            1415
           ],
           "xaxis": "x",
           "y": [
            280
           ],
           "yaxis": "y"
          }
         ],
         "name": "116443870"
        },
        {
         "data": [
          {
           "hovertemplate": "Recording timestamp=116452190<br>Gaze point X=%{x}<br>Gaze point Y=%{y}<extra></extra>",
           "legendgroup": "",
           "marker": {
            "color": "#636efa",
            "symbol": "circle"
           },
           "mode": "markers",
           "name": "",
           "orientation": "v",
           "showlegend": false,
           "type": "scatter",
           "x": [
            null
           ],
           "xaxis": "x",
           "y": [
            null
           ],
           "yaxis": "y"
          }
         ],
         "name": "116452190"
        },
        {
         "data": [
          {
           "hovertemplate": "Recording timestamp=116460518<br>Gaze point X=%{x}<br>Gaze point Y=%{y}<extra></extra>",
           "legendgroup": "",
           "marker": {
            "color": "#636efa",
            "symbol": "circle"
           },
           "mode": "markers",
           "name": "",
           "orientation": "v",
           "showlegend": false,
           "type": "scatter",
           "x": [
            1403
           ],
           "xaxis": "x",
           "y": [
            157
           ],
           "yaxis": "y"
          }
         ],
         "name": "116460518"
        },
        {
         "data": [
          {
           "hovertemplate": "Recording timestamp=116468847<br>Gaze point X=%{x}<br>Gaze point Y=%{y}<extra></extra>",
           "legendgroup": "",
           "marker": {
            "color": "#636efa",
            "symbol": "circle"
           },
           "mode": "markers",
           "name": "",
           "orientation": "v",
           "showlegend": false,
           "type": "scatter",
           "x": [
            1372
           ],
           "xaxis": "x",
           "y": [
            281
           ],
           "yaxis": "y"
          }
         ],
         "name": "116468847"
        },
        {
         "data": [
          {
           "hovertemplate": "Recording timestamp=116477180<br>Gaze point X=%{x}<br>Gaze point Y=%{y}<extra></extra>",
           "legendgroup": "",
           "marker": {
            "color": "#636efa",
            "symbol": "circle"
           },
           "mode": "markers",
           "name": "",
           "orientation": "v",
           "showlegend": false,
           "type": "scatter",
           "x": [
            1341
           ],
           "xaxis": "x",
           "y": [
            305
           ],
           "yaxis": "y"
          }
         ],
         "name": "116477180"
        },
        {
         "data": [
          {
           "hovertemplate": "Recording timestamp=116485553<br>Gaze point X=%{x}<br>Gaze point Y=%{y}<extra></extra>",
           "legendgroup": "",
           "marker": {
            "color": "#636efa",
            "symbol": "circle"
           },
           "mode": "markers",
           "name": "",
           "orientation": "v",
           "showlegend": false,
           "type": "scatter",
           "x": [
            1226
           ],
           "xaxis": "x",
           "y": [
            232
           ],
           "yaxis": "y"
          }
         ],
         "name": "116485553"
        },
        {
         "data": [
          {
           "hovertemplate": "Recording timestamp=116493842<br>Gaze point X=%{x}<br>Gaze point Y=%{y}<extra></extra>",
           "legendgroup": "",
           "marker": {
            "color": "#636efa",
            "symbol": "circle"
           },
           "mode": "markers",
           "name": "",
           "orientation": "v",
           "showlegend": false,
           "type": "scatter",
           "x": [
            1215
           ],
           "xaxis": "x",
           "y": [
            256
           ],
           "yaxis": "y"
          }
         ],
         "name": "116493842"
        },
        {
         "data": [
          {
           "hovertemplate": "Recording timestamp=116502177<br>Gaze point X=%{x}<br>Gaze point Y=%{y}<extra></extra>",
           "legendgroup": "",
           "marker": {
            "color": "#636efa",
            "symbol": "circle"
           },
           "mode": "markers",
           "name": "",
           "orientation": "v",
           "showlegend": false,
           "type": "scatter",
           "x": [
            1100
           ],
           "xaxis": "x",
           "y": [
            288
           ],
           "yaxis": "y"
          }
         ],
         "name": "116502177"
        },
        {
         "data": [
          {
           "hovertemplate": "Recording timestamp=116510513<br>Gaze point X=%{x}<br>Gaze point Y=%{y}<extra></extra>",
           "legendgroup": "",
           "marker": {
            "color": "#636efa",
            "symbol": "circle"
           },
           "mode": "markers",
           "name": "",
           "orientation": "v",
           "showlegend": false,
           "type": "scatter",
           "x": [
            1334
           ],
           "xaxis": "x",
           "y": [
            203
           ],
           "yaxis": "y"
          }
         ],
         "name": "116510513"
        },
        {
         "data": [
          {
           "hovertemplate": "Recording timestamp=116518905<br>Gaze point X=%{x}<br>Gaze point Y=%{y}<extra></extra>",
           "legendgroup": "",
           "marker": {
            "color": "#636efa",
            "symbol": "circle"
           },
           "mode": "markers",
           "name": "",
           "orientation": "v",
           "showlegend": false,
           "type": "scatter",
           "x": [
            1227
           ],
           "xaxis": "x",
           "y": [
            239
           ],
           "yaxis": "y"
          }
         ],
         "name": "116518905"
        },
        {
         "data": [
          {
           "hovertemplate": "Recording timestamp=116527184<br>Gaze point X=%{x}<br>Gaze point Y=%{y}<extra></extra>",
           "legendgroup": "",
           "marker": {
            "color": "#636efa",
            "symbol": "circle"
           },
           "mode": "markers",
           "name": "",
           "orientation": "v",
           "showlegend": false,
           "type": "scatter",
           "x": [
            null
           ],
           "xaxis": "x",
           "y": [
            null
           ],
           "yaxis": "y"
          }
         ],
         "name": "116527184"
        },
        {
         "data": [
          {
           "hovertemplate": "Recording timestamp=116535510<br>Gaze point X=%{x}<br>Gaze point Y=%{y}<extra></extra>",
           "legendgroup": "",
           "marker": {
            "color": "#636efa",
            "symbol": "circle"
           },
           "mode": "markers",
           "name": "",
           "orientation": "v",
           "showlegend": false,
           "type": "scatter",
           "x": [
            1374
           ],
           "xaxis": "x",
           "y": [
            183
           ],
           "yaxis": "y"
          }
         ],
         "name": "116535510"
        },
        {
         "data": [
          {
           "hovertemplate": "Recording timestamp=116543840<br>Gaze point X=%{x}<br>Gaze point Y=%{y}<extra></extra>",
           "legendgroup": "",
           "marker": {
            "color": "#636efa",
            "symbol": "circle"
           },
           "mode": "markers",
           "name": "",
           "orientation": "v",
           "showlegend": false,
           "type": "scatter",
           "x": [
            1201
           ],
           "xaxis": "x",
           "y": [
            243
           ],
           "yaxis": "y"
          }
         ],
         "name": "116543840"
        },
        {
         "data": [
          {
           "hovertemplate": "Recording timestamp=116552175<br>Gaze point X=%{x}<br>Gaze point Y=%{y}<extra></extra>",
           "legendgroup": "",
           "marker": {
            "color": "#636efa",
            "symbol": "circle"
           },
           "mode": "markers",
           "name": "",
           "orientation": "v",
           "showlegend": false,
           "type": "scatter",
           "x": [
            1359
           ],
           "xaxis": "x",
           "y": [
            251
           ],
           "yaxis": "y"
          }
         ],
         "name": "116552175"
        },
        {
         "data": [
          {
           "hovertemplate": "Recording timestamp=116560511<br>Gaze point X=%{x}<br>Gaze point Y=%{y}<extra></extra>",
           "legendgroup": "",
           "marker": {
            "color": "#636efa",
            "symbol": "circle"
           },
           "mode": "markers",
           "name": "",
           "orientation": "v",
           "showlegend": false,
           "type": "scatter",
           "x": [
            1291
           ],
           "xaxis": "x",
           "y": [
            297
           ],
           "yaxis": "y"
          }
         ],
         "name": "116560511"
        },
        {
         "data": [
          {
           "hovertemplate": "Recording timestamp=116568842<br>Gaze point X=%{x}<br>Gaze point Y=%{y}<extra></extra>",
           "legendgroup": "",
           "marker": {
            "color": "#636efa",
            "symbol": "circle"
           },
           "mode": "markers",
           "name": "",
           "orientation": "v",
           "showlegend": false,
           "type": "scatter",
           "x": [
            1309
           ],
           "xaxis": "x",
           "y": [
            385
           ],
           "yaxis": "y"
          }
         ],
         "name": "116568842"
        },
        {
         "data": [
          {
           "hovertemplate": "Recording timestamp=116577192<br>Gaze point X=%{x}<br>Gaze point Y=%{y}<extra></extra>",
           "legendgroup": "",
           "marker": {
            "color": "#636efa",
            "symbol": "circle"
           },
           "mode": "markers",
           "name": "",
           "orientation": "v",
           "showlegend": false,
           "type": "scatter",
           "x": [
            1424
           ],
           "xaxis": "x",
           "y": [
            145
           ],
           "yaxis": "y"
          }
         ],
         "name": "116577192"
        },
        {
         "data": [
          {
           "hovertemplate": "Recording timestamp=116585577<br>Gaze point X=%{x}<br>Gaze point Y=%{y}<extra></extra>",
           "legendgroup": "",
           "marker": {
            "color": "#636efa",
            "symbol": "circle"
           },
           "mode": "markers",
           "name": "",
           "orientation": "v",
           "showlegend": false,
           "type": "scatter",
           "x": [
            1478
           ],
           "xaxis": "x",
           "y": [
            199
           ],
           "yaxis": "y"
          }
         ],
         "name": "116585577"
        },
        {
         "data": [
          {
           "hovertemplate": "Recording timestamp=116593841<br>Gaze point X=%{x}<br>Gaze point Y=%{y}<extra></extra>",
           "legendgroup": "",
           "marker": {
            "color": "#636efa",
            "symbol": "circle"
           },
           "mode": "markers",
           "name": "",
           "orientation": "v",
           "showlegend": false,
           "type": "scatter",
           "x": [
            1380
           ],
           "xaxis": "x",
           "y": [
            300
           ],
           "yaxis": "y"
          }
         ],
         "name": "116593841"
        },
        {
         "data": [
          {
           "hovertemplate": "Recording timestamp=116602223<br>Gaze point X=%{x}<br>Gaze point Y=%{y}<extra></extra>",
           "legendgroup": "",
           "marker": {
            "color": "#636efa",
            "symbol": "circle"
           },
           "mode": "markers",
           "name": "",
           "orientation": "v",
           "showlegend": false,
           "type": "scatter",
           "x": [
            1380
           ],
           "xaxis": "x",
           "y": [
            288
           ],
           "yaxis": "y"
          }
         ],
         "name": "116602223"
        },
        {
         "data": [
          {
           "hovertemplate": "Recording timestamp=116610514<br>Gaze point X=%{x}<br>Gaze point Y=%{y}<extra></extra>",
           "legendgroup": "",
           "marker": {
            "color": "#636efa",
            "symbol": "circle"
           },
           "mode": "markers",
           "name": "",
           "orientation": "v",
           "showlegend": false,
           "type": "scatter",
           "x": [
            1336
           ],
           "xaxis": "x",
           "y": [
            152
           ],
           "yaxis": "y"
          }
         ],
         "name": "116610514"
        },
        {
         "data": [
          {
           "hovertemplate": "Recording timestamp=116618884<br>Gaze point X=%{x}<br>Gaze point Y=%{y}<extra></extra>",
           "legendgroup": "",
           "marker": {
            "color": "#636efa",
            "symbol": "circle"
           },
           "mode": "markers",
           "name": "",
           "orientation": "v",
           "showlegend": false,
           "type": "scatter",
           "x": [
            1317
           ],
           "xaxis": "x",
           "y": [
            314
           ],
           "yaxis": "y"
          }
         ],
         "name": "116618884"
        },
        {
         "data": [
          {
           "hovertemplate": "Recording timestamp=116627168<br>Gaze point X=%{x}<br>Gaze point Y=%{y}<extra></extra>",
           "legendgroup": "",
           "marker": {
            "color": "#636efa",
            "symbol": "circle"
           },
           "mode": "markers",
           "name": "",
           "orientation": "v",
           "showlegend": false,
           "type": "scatter",
           "x": [
            null
           ],
           "xaxis": "x",
           "y": [
            null
           ],
           "yaxis": "y"
          }
         ],
         "name": "116627168"
        },
        {
         "data": [
          {
           "hovertemplate": "Recording timestamp=116635499<br>Gaze point X=%{x}<br>Gaze point Y=%{y}<extra></extra>",
           "legendgroup": "",
           "marker": {
            "color": "#636efa",
            "symbol": "circle"
           },
           "mode": "markers",
           "name": "",
           "orientation": "v",
           "showlegend": false,
           "type": "scatter",
           "x": [
            null
           ],
           "xaxis": "x",
           "y": [
            null
           ],
           "yaxis": "y"
          }
         ],
         "name": "116635499"
        },
        {
         "data": [
          {
           "hovertemplate": "Recording timestamp=116643831<br>Gaze point X=%{x}<br>Gaze point Y=%{y}<extra></extra>",
           "legendgroup": "",
           "marker": {
            "color": "#636efa",
            "symbol": "circle"
           },
           "mode": "markers",
           "name": "",
           "orientation": "v",
           "showlegend": false,
           "type": "scatter",
           "x": [
            1373
           ],
           "xaxis": "x",
           "y": [
            167
           ],
           "yaxis": "y"
          }
         ],
         "name": "116643831"
        },
        {
         "data": [
          {
           "hovertemplate": "Recording timestamp=116652166<br>Gaze point X=%{x}<br>Gaze point Y=%{y}<extra></extra>",
           "legendgroup": "",
           "marker": {
            "color": "#636efa",
            "symbol": "circle"
           },
           "mode": "markers",
           "name": "",
           "orientation": "v",
           "showlegend": false,
           "type": "scatter",
           "x": [
            1409
           ],
           "xaxis": "x",
           "y": [
            135
           ],
           "yaxis": "y"
          }
         ],
         "name": "116652166"
        },
        {
         "data": [
          {
           "hovertemplate": "Recording timestamp=116660497<br>Gaze point X=%{x}<br>Gaze point Y=%{y}<extra></extra>",
           "legendgroup": "",
           "marker": {
            "color": "#636efa",
            "symbol": "circle"
           },
           "mode": "markers",
           "name": "",
           "orientation": "v",
           "showlegend": false,
           "type": "scatter",
           "x": [
            1411
           ],
           "xaxis": "x",
           "y": [
            136
           ],
           "yaxis": "y"
          }
         ],
         "name": "116660497"
        },
        {
         "data": [
          {
           "hovertemplate": "Recording timestamp=116668885<br>Gaze point X=%{x}<br>Gaze point Y=%{y}<extra></extra>",
           "legendgroup": "",
           "marker": {
            "color": "#636efa",
            "symbol": "circle"
           },
           "mode": "markers",
           "name": "",
           "orientation": "v",
           "showlegend": false,
           "type": "scatter",
           "x": [
            1363
           ],
           "xaxis": "x",
           "y": [
            306
           ],
           "yaxis": "y"
          }
         ],
         "name": "116668885"
        },
        {
         "data": [
          {
           "hovertemplate": "Recording timestamp=116677165<br>Gaze point X=%{x}<br>Gaze point Y=%{y}<extra></extra>",
           "legendgroup": "",
           "marker": {
            "color": "#636efa",
            "symbol": "circle"
           },
           "mode": "markers",
           "name": "",
           "orientation": "v",
           "showlegend": false,
           "type": "scatter",
           "x": [
            1323
           ],
           "xaxis": "x",
           "y": [
            217
           ],
           "yaxis": "y"
          }
         ],
         "name": "116677165"
        },
        {
         "data": [
          {
           "hovertemplate": "Recording timestamp=116685492<br>Gaze point X=%{x}<br>Gaze point Y=%{y}<extra></extra>",
           "legendgroup": "",
           "marker": {
            "color": "#636efa",
            "symbol": "circle"
           },
           "mode": "markers",
           "name": "",
           "orientation": "v",
           "showlegend": false,
           "type": "scatter",
           "x": [
            1369
           ],
           "xaxis": "x",
           "y": [
            306
           ],
           "yaxis": "y"
          }
         ],
         "name": "116685492"
        },
        {
         "data": [
          {
           "hovertemplate": "Recording timestamp=116693827<br>Gaze point X=%{x}<br>Gaze point Y=%{y}<extra></extra>",
           "legendgroup": "",
           "marker": {
            "color": "#636efa",
            "symbol": "circle"
           },
           "mode": "markers",
           "name": "",
           "orientation": "v",
           "showlegend": false,
           "type": "scatter",
           "x": [
            1386
           ],
           "xaxis": "x",
           "y": [
            280
           ],
           "yaxis": "y"
          }
         ],
         "name": "116693827"
        },
        {
         "data": [
          {
           "hovertemplate": "Recording timestamp=116702163<br>Gaze point X=%{x}<br>Gaze point Y=%{y}<extra></extra>",
           "legendgroup": "",
           "marker": {
            "color": "#636efa",
            "symbol": "circle"
           },
           "mode": "markers",
           "name": "",
           "orientation": "v",
           "showlegend": false,
           "type": "scatter",
           "x": [
            null
           ],
           "xaxis": "x",
           "y": [
            null
           ],
           "yaxis": "y"
          }
         ],
         "name": "116702163"
        },
        {
         "data": [
          {
           "hovertemplate": "Recording timestamp=116710551<br>Gaze point X=%{x}<br>Gaze point Y=%{y}<extra></extra>",
           "legendgroup": "",
           "marker": {
            "color": "#636efa",
            "symbol": "circle"
           },
           "mode": "markers",
           "name": "",
           "orientation": "v",
           "showlegend": false,
           "type": "scatter",
           "x": [
            1364
           ],
           "xaxis": "x",
           "y": [
            214
           ],
           "yaxis": "y"
          }
         ],
         "name": "116710551"
        },
        {
         "data": [
          {
           "hovertemplate": "Recording timestamp=116718824<br>Gaze point X=%{x}<br>Gaze point Y=%{y}<extra></extra>",
           "legendgroup": "",
           "marker": {
            "color": "#636efa",
            "symbol": "circle"
           },
           "mode": "markers",
           "name": "",
           "orientation": "v",
           "showlegend": false,
           "type": "scatter",
           "x": [
            1344
           ],
           "xaxis": "x",
           "y": [
            166
           ],
           "yaxis": "y"
          }
         ],
         "name": "116718824"
        },
        {
         "data": [
          {
           "hovertemplate": "Recording timestamp=116727166<br>Gaze point X=%{x}<br>Gaze point Y=%{y}<extra></extra>",
           "legendgroup": "",
           "marker": {
            "color": "#636efa",
            "symbol": "circle"
           },
           "mode": "markers",
           "name": "",
           "orientation": "v",
           "showlegend": false,
           "type": "scatter",
           "x": [
            null
           ],
           "xaxis": "x",
           "y": [
            null
           ],
           "yaxis": "y"
          }
         ],
         "name": "116727166"
        },
        {
         "data": [
          {
           "hovertemplate": "Recording timestamp=116735527<br>Gaze point X=%{x}<br>Gaze point Y=%{y}<extra></extra>",
           "legendgroup": "",
           "marker": {
            "color": "#636efa",
            "symbol": "circle"
           },
           "mode": "markers",
           "name": "",
           "orientation": "v",
           "showlegend": false,
           "type": "scatter",
           "x": [
            1354
           ],
           "xaxis": "x",
           "y": [
            220
           ],
           "yaxis": "y"
          }
         ],
         "name": "116735527"
        },
        {
         "data": [
          {
           "hovertemplate": "Recording timestamp=116743822<br>Gaze point X=%{x}<br>Gaze point Y=%{y}<extra></extra>",
           "legendgroup": "",
           "marker": {
            "color": "#636efa",
            "symbol": "circle"
           },
           "mode": "markers",
           "name": "",
           "orientation": "v",
           "showlegend": false,
           "type": "scatter",
           "x": [
            1377
           ],
           "xaxis": "x",
           "y": [
            153
           ],
           "yaxis": "y"
          }
         ],
         "name": "116743822"
        },
        {
         "data": [
          {
           "hovertemplate": "Recording timestamp=116752158<br>Gaze point X=%{x}<br>Gaze point Y=%{y}<extra></extra>",
           "legendgroup": "",
           "marker": {
            "color": "#636efa",
            "symbol": "circle"
           },
           "mode": "markers",
           "name": "",
           "orientation": "v",
           "showlegend": false,
           "type": "scatter",
           "x": [
            null
           ],
           "xaxis": "x",
           "y": [
            null
           ],
           "yaxis": "y"
          }
         ],
         "name": "116752158"
        },
        {
         "data": [
          {
           "hovertemplate": "Recording timestamp=116760501<br>Gaze point X=%{x}<br>Gaze point Y=%{y}<extra></extra>",
           "legendgroup": "",
           "marker": {
            "color": "#636efa",
            "symbol": "circle"
           },
           "mode": "markers",
           "name": "",
           "orientation": "v",
           "showlegend": false,
           "type": "scatter",
           "x": [
            1380
           ],
           "xaxis": "x",
           "y": [
            210
           ],
           "yaxis": "y"
          }
         ],
         "name": "116760501"
        },
        {
         "data": [
          {
           "hovertemplate": "Recording timestamp=116768821<br>Gaze point X=%{x}<br>Gaze point Y=%{y}<extra></extra>",
           "legendgroup": "",
           "marker": {
            "color": "#636efa",
            "symbol": "circle"
           },
           "mode": "markers",
           "name": "",
           "orientation": "v",
           "showlegend": false,
           "type": "scatter",
           "x": [
            1359
           ],
           "xaxis": "x",
           "y": [
            353
           ],
           "yaxis": "y"
          }
         ],
         "name": "116768821"
        },
        {
         "data": [
          {
           "hovertemplate": "Recording timestamp=116777212<br>Gaze point X=%{x}<br>Gaze point Y=%{y}<extra></extra>",
           "legendgroup": "",
           "marker": {
            "color": "#636efa",
            "symbol": "circle"
           },
           "mode": "markers",
           "name": "",
           "orientation": "v",
           "showlegend": false,
           "type": "scatter",
           "x": [
            1347
           ],
           "xaxis": "x",
           "y": [
            353
           ],
           "yaxis": "y"
          }
         ],
         "name": "116777212"
        },
        {
         "data": [
          {
           "hovertemplate": "Recording timestamp=116785546<br>Gaze point X=%{x}<br>Gaze point Y=%{y}<extra></extra>",
           "legendgroup": "",
           "marker": {
            "color": "#636efa",
            "symbol": "circle"
           },
           "mode": "markers",
           "name": "",
           "orientation": "v",
           "showlegend": false,
           "type": "scatter",
           "x": [
            1301
           ],
           "xaxis": "x",
           "y": [
            226
           ],
           "yaxis": "y"
          }
         ],
         "name": "116785546"
        },
        {
         "data": [
          {
           "hovertemplate": "Recording timestamp=116793823<br>Gaze point X=%{x}<br>Gaze point Y=%{y}<extra></extra>",
           "legendgroup": "",
           "marker": {
            "color": "#636efa",
            "symbol": "circle"
           },
           "mode": "markers",
           "name": "",
           "orientation": "v",
           "showlegend": false,
           "type": "scatter",
           "x": [
            1342
           ],
           "xaxis": "x",
           "y": [
            276
           ],
           "yaxis": "y"
          }
         ],
         "name": "116793823"
        },
        {
         "data": [
          {
           "hovertemplate": "Recording timestamp=116802154<br>Gaze point X=%{x}<br>Gaze point Y=%{y}<extra></extra>",
           "legendgroup": "",
           "marker": {
            "color": "#636efa",
            "symbol": "circle"
           },
           "mode": "markers",
           "name": "",
           "orientation": "v",
           "showlegend": false,
           "type": "scatter",
           "x": [
            null
           ],
           "xaxis": "x",
           "y": [
            null
           ],
           "yaxis": "y"
          }
         ],
         "name": "116802154"
        },
        {
         "data": [
          {
           "hovertemplate": "Recording timestamp=116810483<br>Gaze point X=%{x}<br>Gaze point Y=%{y}<extra></extra>",
           "legendgroup": "",
           "marker": {
            "color": "#636efa",
            "symbol": "circle"
           },
           "mode": "markers",
           "name": "",
           "orientation": "v",
           "showlegend": false,
           "type": "scatter",
           "x": [
            1291
           ],
           "xaxis": "x",
           "y": [
            379
           ],
           "yaxis": "y"
          }
         ],
         "name": "116810483"
        },
        {
         "data": [
          {
           "hovertemplate": "Recording timestamp=116818818<br>Gaze point X=%{x}<br>Gaze point Y=%{y}<extra></extra>",
           "legendgroup": "",
           "marker": {
            "color": "#636efa",
            "symbol": "circle"
           },
           "mode": "markers",
           "name": "",
           "orientation": "v",
           "showlegend": false,
           "type": "scatter",
           "x": [
            1323
           ],
           "xaxis": "x",
           "y": [
            384
           ],
           "yaxis": "y"
          }
         ],
         "name": "116818818"
        },
        {
         "data": [
          {
           "hovertemplate": "Recording timestamp=116827158<br>Gaze point X=%{x}<br>Gaze point Y=%{y}<extra></extra>",
           "legendgroup": "",
           "marker": {
            "color": "#636efa",
            "symbol": "circle"
           },
           "mode": "markers",
           "name": "",
           "orientation": "v",
           "showlegend": false,
           "type": "scatter",
           "x": [
            1525
           ],
           "xaxis": "x",
           "y": [
            220
           ],
           "yaxis": "y"
          }
         ],
         "name": "116827158"
        },
        {
         "data": [
          {
           "hovertemplate": "Recording timestamp=116835483<br>Gaze point X=%{x}<br>Gaze point Y=%{y}<extra></extra>",
           "legendgroup": "",
           "marker": {
            "color": "#636efa",
            "symbol": "circle"
           },
           "mode": "markers",
           "name": "",
           "orientation": "v",
           "showlegend": false,
           "type": "scatter",
           "x": [
            1201
           ],
           "xaxis": "x",
           "y": [
            393
           ],
           "yaxis": "y"
          }
         ],
         "name": "116835483"
        },
        {
         "data": [
          {
           "hovertemplate": "Recording timestamp=116843816<br>Gaze point X=%{x}<br>Gaze point Y=%{y}<extra></extra>",
           "legendgroup": "",
           "marker": {
            "color": "#636efa",
            "symbol": "circle"
           },
           "mode": "markers",
           "name": "",
           "orientation": "v",
           "showlegend": false,
           "type": "scatter",
           "x": [
            1376
           ],
           "xaxis": "x",
           "y": [
            286
           ],
           "yaxis": "y"
          }
         ],
         "name": "116843816"
        },
        {
         "data": [
          {
           "hovertemplate": "Recording timestamp=116852151<br>Gaze point X=%{x}<br>Gaze point Y=%{y}<extra></extra>",
           "legendgroup": "",
           "marker": {
            "color": "#636efa",
            "symbol": "circle"
           },
           "mode": "markers",
           "name": "",
           "orientation": "v",
           "showlegend": false,
           "type": "scatter",
           "x": [
            1141
           ],
           "xaxis": "x",
           "y": [
            182
           ],
           "yaxis": "y"
          }
         ],
         "name": "116852151"
        },
        {
         "data": [
          {
           "hovertemplate": "Recording timestamp=116860479<br>Gaze point X=%{x}<br>Gaze point Y=%{y}<extra></extra>",
           "legendgroup": "",
           "marker": {
            "color": "#636efa",
            "symbol": "circle"
           },
           "mode": "markers",
           "name": "",
           "orientation": "v",
           "showlegend": false,
           "type": "scatter",
           "x": [
            1296
           ],
           "xaxis": "x",
           "y": [
            175
           ],
           "yaxis": "y"
          }
         ],
         "name": "116860479"
        },
        {
         "data": [
          {
           "hovertemplate": "Recording timestamp=116868811<br>Gaze point X=%{x}<br>Gaze point Y=%{y}<extra></extra>",
           "legendgroup": "",
           "marker": {
            "color": "#636efa",
            "symbol": "circle"
           },
           "mode": "markers",
           "name": "",
           "orientation": "v",
           "showlegend": false,
           "type": "scatter",
           "x": [
            1162
           ],
           "xaxis": "x",
           "y": [
            163
           ],
           "yaxis": "y"
          }
         ],
         "name": "116868811"
        },
        {
         "data": [
          {
           "hovertemplate": "Recording timestamp=116877149<br>Gaze point X=%{x}<br>Gaze point Y=%{y}<extra></extra>",
           "legendgroup": "",
           "marker": {
            "color": "#636efa",
            "symbol": "circle"
           },
           "mode": "markers",
           "name": "",
           "orientation": "v",
           "showlegend": false,
           "type": "scatter",
           "x": [
            1331
           ],
           "xaxis": "x",
           "y": [
            108
           ],
           "yaxis": "y"
          }
         ],
         "name": "116877149"
        },
        {
         "data": [
          {
           "hovertemplate": "Recording timestamp=116885478<br>Gaze point X=%{x}<br>Gaze point Y=%{y}<extra></extra>",
           "legendgroup": "",
           "marker": {
            "color": "#636efa",
            "symbol": "circle"
           },
           "mode": "markers",
           "name": "",
           "orientation": "v",
           "showlegend": false,
           "type": "scatter",
           "x": [
            1286
           ],
           "xaxis": "x",
           "y": [
            250
           ],
           "yaxis": "y"
          }
         ],
         "name": "116885478"
        },
        {
         "data": [
          {
           "hovertemplate": "Recording timestamp=116893812<br>Gaze point X=%{x}<br>Gaze point Y=%{y}<extra></extra>",
           "legendgroup": "",
           "marker": {
            "color": "#636efa",
            "symbol": "circle"
           },
           "mode": "markers",
           "name": "",
           "orientation": "v",
           "showlegend": false,
           "type": "scatter",
           "x": [
            1337
           ],
           "xaxis": "x",
           "y": [
            82
           ],
           "yaxis": "y"
          }
         ],
         "name": "116893812"
        },
        {
         "data": [
          {
           "hovertemplate": "Recording timestamp=116902145<br>Gaze point X=%{x}<br>Gaze point Y=%{y}<extra></extra>",
           "legendgroup": "",
           "marker": {
            "color": "#636efa",
            "symbol": "circle"
           },
           "mode": "markers",
           "name": "",
           "orientation": "v",
           "showlegend": false,
           "type": "scatter",
           "x": [
            1413
           ],
           "xaxis": "x",
           "y": [
            119
           ],
           "yaxis": "y"
          }
         ],
         "name": "116902145"
        },
        {
         "data": [
          {
           "hovertemplate": "Recording timestamp=116910476<br>Gaze point X=%{x}<br>Gaze point Y=%{y}<extra></extra>",
           "legendgroup": "",
           "marker": {
            "color": "#636efa",
            "symbol": "circle"
           },
           "mode": "markers",
           "name": "",
           "orientation": "v",
           "showlegend": false,
           "type": "scatter",
           "x": [
            1414
           ],
           "xaxis": "x",
           "y": [
            119
           ],
           "yaxis": "y"
          }
         ],
         "name": "116910476"
        },
        {
         "data": [
          {
           "hovertemplate": "Recording timestamp=116918810<br>Gaze point X=%{x}<br>Gaze point Y=%{y}<extra></extra>",
           "legendgroup": "",
           "marker": {
            "color": "#636efa",
            "symbol": "circle"
           },
           "mode": "markers",
           "name": "",
           "orientation": "v",
           "showlegend": false,
           "type": "scatter",
           "x": [
            1357
           ],
           "xaxis": "x",
           "y": [
            57
           ],
           "yaxis": "y"
          }
         ],
         "name": "116918810"
        },
        {
         "data": [
          {
           "hovertemplate": "Recording timestamp=116927143<br>Gaze point X=%{x}<br>Gaze point Y=%{y}<extra></extra>",
           "legendgroup": "",
           "marker": {
            "color": "#636efa",
            "symbol": "circle"
           },
           "mode": "markers",
           "name": "",
           "orientation": "v",
           "showlegend": false,
           "type": "scatter",
           "x": [
            1321
           ],
           "xaxis": "x",
           "y": [
            158
           ],
           "yaxis": "y"
          }
         ],
         "name": "116927143"
        },
        {
         "data": [
          {
           "hovertemplate": "Recording timestamp=116935472<br>Gaze point X=%{x}<br>Gaze point Y=%{y}<extra></extra>",
           "legendgroup": "",
           "marker": {
            "color": "#636efa",
            "symbol": "circle"
           },
           "mode": "markers",
           "name": "",
           "orientation": "v",
           "showlegend": false,
           "type": "scatter",
           "x": [
            1327
           ],
           "xaxis": "x",
           "y": [
            176
           ],
           "yaxis": "y"
          }
         ],
         "name": "116935472"
        },
        {
         "data": [
          {
           "hovertemplate": "Recording timestamp=116943807<br>Gaze point X=%{x}<br>Gaze point Y=%{y}<extra></extra>",
           "legendgroup": "",
           "marker": {
            "color": "#636efa",
            "symbol": "circle"
           },
           "mode": "markers",
           "name": "",
           "orientation": "v",
           "showlegend": false,
           "type": "scatter",
           "x": [
            1363
           ],
           "xaxis": "x",
           "y": [
            152
           ],
           "yaxis": "y"
          }
         ],
         "name": "116943807"
        },
        {
         "data": [
          {
           "hovertemplate": "Recording timestamp=116952144<br>Gaze point X=%{x}<br>Gaze point Y=%{y}<extra></extra>",
           "legendgroup": "",
           "marker": {
            "color": "#636efa",
            "symbol": "circle"
           },
           "mode": "markers",
           "name": "",
           "orientation": "v",
           "showlegend": false,
           "type": "scatter",
           "x": [
            null
           ],
           "xaxis": "x",
           "y": [
            null
           ],
           "yaxis": "y"
          }
         ],
         "name": "116952144"
        },
        {
         "data": [
          {
           "hovertemplate": "Recording timestamp=116960527<br>Gaze point X=%{x}<br>Gaze point Y=%{y}<extra></extra>",
           "legendgroup": "",
           "marker": {
            "color": "#636efa",
            "symbol": "circle"
           },
           "mode": "markers",
           "name": "",
           "orientation": "v",
           "showlegend": false,
           "type": "scatter",
           "x": [
            1455
           ],
           "xaxis": "x",
           "y": [
            131
           ],
           "yaxis": "y"
          }
         ],
         "name": "116960527"
        },
        {
         "data": [
          {
           "hovertemplate": "Recording timestamp=116968806<br>Gaze point X=%{x}<br>Gaze point Y=%{y}<extra></extra>",
           "legendgroup": "",
           "marker": {
            "color": "#636efa",
            "symbol": "circle"
           },
           "mode": "markers",
           "name": "",
           "orientation": "v",
           "showlegend": false,
           "type": "scatter",
           "x": [
            1453
           ],
           "xaxis": "x",
           "y": [
            136
           ],
           "yaxis": "y"
          }
         ],
         "name": "116968806"
        },
        {
         "data": [
          {
           "hovertemplate": "Recording timestamp=116977200<br>Gaze point X=%{x}<br>Gaze point Y=%{y}<extra></extra>",
           "legendgroup": "",
           "marker": {
            "color": "#636efa",
            "symbol": "circle"
           },
           "mode": "markers",
           "name": "",
           "orientation": "v",
           "showlegend": false,
           "type": "scatter",
           "x": [
            1401
           ],
           "xaxis": "x",
           "y": [
            146
           ],
           "yaxis": "y"
          }
         ],
         "name": "116977200"
        },
        {
         "data": [
          {
           "hovertemplate": "Recording timestamp=116985472<br>Gaze point X=%{x}<br>Gaze point Y=%{y}<extra></extra>",
           "legendgroup": "",
           "marker": {
            "color": "#636efa",
            "symbol": "circle"
           },
           "mode": "markers",
           "name": "",
           "orientation": "v",
           "showlegend": false,
           "type": "scatter",
           "x": [
            1450
           ],
           "xaxis": "x",
           "y": [
            139
           ],
           "yaxis": "y"
          }
         ],
         "name": "116985472"
        },
        {
         "data": [
          {
           "hovertemplate": "Recording timestamp=116993803<br>Gaze point X=%{x}<br>Gaze point Y=%{y}<extra></extra>",
           "legendgroup": "",
           "marker": {
            "color": "#636efa",
            "symbol": "circle"
           },
           "mode": "markers",
           "name": "",
           "orientation": "v",
           "showlegend": false,
           "type": "scatter",
           "x": [
            1477
           ],
           "xaxis": "x",
           "y": [
            112
           ],
           "yaxis": "y"
          }
         ],
         "name": "116993803"
        },
        {
         "data": [
          {
           "hovertemplate": "Recording timestamp=117002147<br>Gaze point X=%{x}<br>Gaze point Y=%{y}<extra></extra>",
           "legendgroup": "",
           "marker": {
            "color": "#636efa",
            "symbol": "circle"
           },
           "mode": "markers",
           "name": "",
           "orientation": "v",
           "showlegend": false,
           "type": "scatter",
           "x": [
            1456
           ],
           "xaxis": "x",
           "y": [
            57
           ],
           "yaxis": "y"
          }
         ],
         "name": "117002147"
        },
        {
         "data": [
          {
           "hovertemplate": "Recording timestamp=117010477<br>Gaze point X=%{x}<br>Gaze point Y=%{y}<extra></extra>",
           "legendgroup": "",
           "marker": {
            "color": "#636efa",
            "symbol": "circle"
           },
           "mode": "markers",
           "name": "",
           "orientation": "v",
           "showlegend": false,
           "type": "scatter",
           "x": [
            1452
           ],
           "xaxis": "x",
           "y": [
            14
           ],
           "yaxis": "y"
          }
         ],
         "name": "117010477"
        },
        {
         "data": [
          {
           "hovertemplate": "Recording timestamp=117018841<br>Gaze point X=%{x}<br>Gaze point Y=%{y}<extra></extra>",
           "legendgroup": "",
           "marker": {
            "color": "#636efa",
            "symbol": "circle"
           },
           "mode": "markers",
           "name": "",
           "orientation": "v",
           "showlegend": false,
           "type": "scatter",
           "x": [
            1335
           ],
           "xaxis": "x",
           "y": [
            179
           ],
           "yaxis": "y"
          }
         ],
         "name": "117018841"
        },
        {
         "data": [
          {
           "hovertemplate": "Recording timestamp=117027140<br>Gaze point X=%{x}<br>Gaze point Y=%{y}<extra></extra>",
           "legendgroup": "",
           "marker": {
            "color": "#636efa",
            "symbol": "circle"
           },
           "mode": "markers",
           "name": "",
           "orientation": "v",
           "showlegend": false,
           "type": "scatter",
           "x": [
            1351
           ],
           "xaxis": "x",
           "y": [
            211
           ],
           "yaxis": "y"
          }
         ],
         "name": "117027140"
        },
        {
         "data": [
          {
           "hovertemplate": "Recording timestamp=117035483<br>Gaze point X=%{x}<br>Gaze point Y=%{y}<extra></extra>",
           "legendgroup": "",
           "marker": {
            "color": "#636efa",
            "symbol": "circle"
           },
           "mode": "markers",
           "name": "",
           "orientation": "v",
           "showlegend": false,
           "type": "scatter",
           "x": [
            1302
           ],
           "xaxis": "x",
           "y": [
            275
           ],
           "yaxis": "y"
          }
         ],
         "name": "117035483"
        },
        {
         "data": [
          {
           "hovertemplate": "Recording timestamp=117043855<br>Gaze point X=%{x}<br>Gaze point Y=%{y}<extra></extra>",
           "legendgroup": "",
           "marker": {
            "color": "#636efa",
            "symbol": "circle"
           },
           "mode": "markers",
           "name": "",
           "orientation": "v",
           "showlegend": false,
           "type": "scatter",
           "x": [
            1370
           ],
           "xaxis": "x",
           "y": [
            151
           ],
           "yaxis": "y"
          }
         ],
         "name": "117043855"
        },
        {
         "data": [
          {
           "hovertemplate": "Recording timestamp=117052134<br>Gaze point X=%{x}<br>Gaze point Y=%{y}<extra></extra>",
           "legendgroup": "",
           "marker": {
            "color": "#636efa",
            "symbol": "circle"
           },
           "mode": "markers",
           "name": "",
           "orientation": "v",
           "showlegend": false,
           "type": "scatter",
           "x": [
            null
           ],
           "xaxis": "x",
           "y": [
            null
           ],
           "yaxis": "y"
          }
         ],
         "name": "117052134"
        },
        {
         "data": [
          {
           "hovertemplate": "Recording timestamp=117060523<br>Gaze point X=%{x}<br>Gaze point Y=%{y}<extra></extra>",
           "legendgroup": "",
           "marker": {
            "color": "#636efa",
            "symbol": "circle"
           },
           "mode": "markers",
           "name": "",
           "orientation": "v",
           "showlegend": false,
           "type": "scatter",
           "x": [
            1399
           ],
           "xaxis": "x",
           "y": [
            190
           ],
           "yaxis": "y"
          }
         ],
         "name": "117060523"
        },
        {
         "data": [
          {
           "hovertemplate": "Recording timestamp=117068796<br>Gaze point X=%{x}<br>Gaze point Y=%{y}<extra></extra>",
           "legendgroup": "",
           "marker": {
            "color": "#636efa",
            "symbol": "circle"
           },
           "mode": "markers",
           "name": "",
           "orientation": "v",
           "showlegend": false,
           "type": "scatter",
           "x": [
            1403
           ],
           "xaxis": "x",
           "y": [
            186
           ],
           "yaxis": "y"
          }
         ],
         "name": "117068796"
        },
        {
         "data": [
          {
           "hovertemplate": "Recording timestamp=117077128<br>Gaze point X=%{x}<br>Gaze point Y=%{y}<extra></extra>",
           "legendgroup": "",
           "marker": {
            "color": "#636efa",
            "symbol": "circle"
           },
           "mode": "markers",
           "name": "",
           "orientation": "v",
           "showlegend": false,
           "type": "scatter",
           "x": [
            1403
           ],
           "xaxis": "x",
           "y": [
            162
           ],
           "yaxis": "y"
          }
         ],
         "name": "117077128"
        },
        {
         "data": [
          {
           "hovertemplate": "Recording timestamp=117085489<br>Gaze point X=%{x}<br>Gaze point Y=%{y}<extra></extra>",
           "legendgroup": "",
           "marker": {
            "color": "#636efa",
            "symbol": "circle"
           },
           "mode": "markers",
           "name": "",
           "orientation": "v",
           "showlegend": false,
           "type": "scatter",
           "x": [
            1376
           ],
           "xaxis": "x",
           "y": [
            168
           ],
           "yaxis": "y"
          }
         ],
         "name": "117085489"
        },
        {
         "data": [
          {
           "hovertemplate": "Recording timestamp=117093849<br>Gaze point X=%{x}<br>Gaze point Y=%{y}<extra></extra>",
           "legendgroup": "",
           "marker": {
            "color": "#636efa",
            "symbol": "circle"
           },
           "mode": "markers",
           "name": "",
           "orientation": "v",
           "showlegend": false,
           "type": "scatter",
           "x": [
            1549
           ],
           "xaxis": "x",
           "y": [
            48
           ],
           "yaxis": "y"
          }
         ],
         "name": "117093849"
        },
        {
         "data": [
          {
           "hovertemplate": "Recording timestamp=117102126<br>Gaze point X=%{x}<br>Gaze point Y=%{y}<extra></extra>",
           "legendgroup": "",
           "marker": {
            "color": "#636efa",
            "symbol": "circle"
           },
           "mode": "markers",
           "name": "",
           "orientation": "v",
           "showlegend": false,
           "type": "scatter",
           "x": [
            1445
           ],
           "xaxis": "x",
           "y": [
            120
           ],
           "yaxis": "y"
          }
         ],
         "name": "117102126"
        },
        {
         "data": [
          {
           "hovertemplate": "Recording timestamp=117110466<br>Gaze point X=%{x}<br>Gaze point Y=%{y}<extra></extra>",
           "legendgroup": "",
           "marker": {
            "color": "#636efa",
            "symbol": "circle"
           },
           "mode": "markers",
           "name": "",
           "orientation": "v",
           "showlegend": false,
           "type": "scatter",
           "x": [
            1512
           ],
           "xaxis": "x",
           "y": [
            88
           ],
           "yaxis": "y"
          }
         ],
         "name": "117110466"
        },
        {
         "data": [
          {
           "hovertemplate": "Recording timestamp=117118798<br>Gaze point X=%{x}<br>Gaze point Y=%{y}<extra></extra>",
           "legendgroup": "",
           "marker": {
            "color": "#636efa",
            "symbol": "circle"
           },
           "mode": "markers",
           "name": "",
           "orientation": "v",
           "showlegend": false,
           "type": "scatter",
           "x": [
            1515
           ],
           "xaxis": "x",
           "y": [
            89
           ],
           "yaxis": "y"
          }
         ],
         "name": "117118798"
        },
        {
         "data": [
          {
           "hovertemplate": "Recording timestamp=117127135<br>Gaze point X=%{x}<br>Gaze point Y=%{y}<extra></extra>",
           "legendgroup": "",
           "marker": {
            "color": "#636efa",
            "symbol": "circle"
           },
           "mode": "markers",
           "name": "",
           "orientation": "v",
           "showlegend": false,
           "type": "scatter",
           "x": [
            1569
           ],
           "xaxis": "x",
           "y": [
            81
           ],
           "yaxis": "y"
          }
         ],
         "name": "117127135"
        },
        {
         "data": [
          {
           "hovertemplate": "Recording timestamp=117135454<br>Gaze point X=%{x}<br>Gaze point Y=%{y}<extra></extra>",
           "legendgroup": "",
           "marker": {
            "color": "#636efa",
            "symbol": "circle"
           },
           "mode": "markers",
           "name": "",
           "orientation": "v",
           "showlegend": false,
           "type": "scatter",
           "x": [
            null
           ],
           "xaxis": "x",
           "y": [
            null
           ],
           "yaxis": "y"
          }
         ],
         "name": "117135454"
        },
        {
         "data": [
          {
           "hovertemplate": "Recording timestamp=117143887<br>Gaze point X=%{x}<br>Gaze point Y=%{y}<extra></extra>",
           "legendgroup": "",
           "marker": {
            "color": "#636efa",
            "symbol": "circle"
           },
           "mode": "markers",
           "name": "",
           "orientation": "v",
           "showlegend": false,
           "type": "scatter",
           "x": [
            1416
           ],
           "xaxis": "x",
           "y": [
            112
           ],
           "yaxis": "y"
          }
         ],
         "name": "117143887"
        },
        {
         "data": [
          {
           "hovertemplate": "Recording timestamp=117152182<br>Gaze point X=%{x}<br>Gaze point Y=%{y}<extra></extra>",
           "legendgroup": "",
           "marker": {
            "color": "#636efa",
            "symbol": "circle"
           },
           "mode": "markers",
           "name": "",
           "orientation": "v",
           "showlegend": false,
           "type": "scatter",
           "x": [
            1413
           ],
           "xaxis": "x",
           "y": [
            63
           ],
           "yaxis": "y"
          }
         ],
         "name": "117152182"
        },
        {
         "data": [
          {
           "hovertemplate": "Recording timestamp=117160471<br>Gaze point X=%{x}<br>Gaze point Y=%{y}<extra></extra>",
           "legendgroup": "",
           "marker": {
            "color": "#636efa",
            "symbol": "circle"
           },
           "mode": "markers",
           "name": "",
           "orientation": "v",
           "showlegend": false,
           "type": "scatter",
           "x": [
            1413
           ],
           "xaxis": "x",
           "y": [
            63
           ],
           "yaxis": "y"
          }
         ],
         "name": "117160471"
        },
        {
         "data": [
          {
           "hovertemplate": "Recording timestamp=117168787<br>Gaze point X=%{x}<br>Gaze point Y=%{y}<extra></extra>",
           "legendgroup": "",
           "marker": {
            "color": "#636efa",
            "symbol": "circle"
           },
           "mode": "markers",
           "name": "",
           "orientation": "v",
           "showlegend": false,
           "type": "scatter",
           "x": [
            1355
           ],
           "xaxis": "x",
           "y": [
            85
           ],
           "yaxis": "y"
          }
         ],
         "name": "117168787"
        },
        {
         "data": [
          {
           "hovertemplate": "Recording timestamp=117177190<br>Gaze point X=%{x}<br>Gaze point Y=%{y}<extra></extra>",
           "legendgroup": "",
           "marker": {
            "color": "#636efa",
            "symbol": "circle"
           },
           "mode": "markers",
           "name": "",
           "orientation": "v",
           "showlegend": false,
           "type": "scatter",
           "x": [
            1385
           ],
           "xaxis": "x",
           "y": [
            112
           ],
           "yaxis": "y"
          }
         ],
         "name": "117177190"
        },
        {
         "data": [
          {
           "hovertemplate": "Recording timestamp=117185460<br>Gaze point X=%{x}<br>Gaze point Y=%{y}<extra></extra>",
           "legendgroup": "",
           "marker": {
            "color": "#636efa",
            "symbol": "circle"
           },
           "mode": "markers",
           "name": "",
           "orientation": "v",
           "showlegend": false,
           "type": "scatter",
           "x": [
            1385
           ],
           "xaxis": "x",
           "y": [
            112
           ],
           "yaxis": "y"
          }
         ],
         "name": "117185460"
        },
        {
         "data": [
          {
           "hovertemplate": "Recording timestamp=117193795<br>Gaze point X=%{x}<br>Gaze point Y=%{y}<extra></extra>",
           "legendgroup": "",
           "marker": {
            "color": "#636efa",
            "symbol": "circle"
           },
           "mode": "markers",
           "name": "",
           "orientation": "v",
           "showlegend": false,
           "type": "scatter",
           "x": [
            1381
           ],
           "xaxis": "x",
           "y": [
            234
           ],
           "yaxis": "y"
          }
         ],
         "name": "117193795"
        },
        {
         "data": [
          {
           "hovertemplate": "Recording timestamp=117202127<br>Gaze point X=%{x}<br>Gaze point Y=%{y}<extra></extra>",
           "legendgroup": "",
           "marker": {
            "color": "#636efa",
            "symbol": "circle"
           },
           "mode": "markers",
           "name": "",
           "orientation": "v",
           "showlegend": false,
           "type": "scatter",
           "x": [
            1302
           ],
           "xaxis": "x",
           "y": [
            288
           ],
           "yaxis": "y"
          }
         ],
         "name": "117202127"
        },
        {
         "data": [
          {
           "hovertemplate": "Recording timestamp=117210459<br>Gaze point X=%{x}<br>Gaze point Y=%{y}<extra></extra>",
           "legendgroup": "",
           "marker": {
            "color": "#636efa",
            "symbol": "circle"
           },
           "mode": "markers",
           "name": "",
           "orientation": "v",
           "showlegend": false,
           "type": "scatter",
           "x": [
            1222
           ],
           "xaxis": "x",
           "y": [
            185
           ],
           "yaxis": "y"
          }
         ],
         "name": "117210459"
        },
        {
         "data": [
          {
           "hovertemplate": "Recording timestamp=117218823<br>Gaze point X=%{x}<br>Gaze point Y=%{y}<extra></extra>",
           "legendgroup": "",
           "marker": {
            "color": "#636efa",
            "symbol": "circle"
           },
           "mode": "markers",
           "name": "",
           "orientation": "v",
           "showlegend": false,
           "type": "scatter",
           "x": [
            1106
           ],
           "xaxis": "x",
           "y": [
            158
           ],
           "yaxis": "y"
          }
         ],
         "name": "117218823"
        },
        {
         "data": [
          {
           "hovertemplate": "Recording timestamp=117227126<br>Gaze point X=%{x}<br>Gaze point Y=%{y}<extra></extra>",
           "legendgroup": "",
           "marker": {
            "color": "#636efa",
            "symbol": "circle"
           },
           "mode": "markers",
           "name": "",
           "orientation": "v",
           "showlegend": false,
           "type": "scatter",
           "x": [
            1110
           ],
           "xaxis": "x",
           "y": [
            159
           ],
           "yaxis": "y"
          }
         ],
         "name": "117227126"
        },
        {
         "data": [
          {
           "hovertemplate": "Recording timestamp=117235491<br>Gaze point X=%{x}<br>Gaze point Y=%{y}<extra></extra>",
           "legendgroup": "",
           "marker": {
            "color": "#636efa",
            "symbol": "circle"
           },
           "mode": "markers",
           "name": "",
           "orientation": "v",
           "showlegend": false,
           "type": "scatter",
           "x": [
            1080
           ],
           "xaxis": "x",
           "y": [
            84
           ],
           "yaxis": "y"
          }
         ],
         "name": "117235491"
        },
        {
         "data": [
          {
           "hovertemplate": "Recording timestamp=117243792<br>Gaze point X=%{x}<br>Gaze point Y=%{y}<extra></extra>",
           "legendgroup": "",
           "marker": {
            "color": "#636efa",
            "symbol": "circle"
           },
           "mode": "markers",
           "name": "",
           "orientation": "v",
           "showlegend": false,
           "type": "scatter",
           "x": [
            1105
           ],
           "xaxis": "x",
           "y": [
            150
           ],
           "yaxis": "y"
          }
         ],
         "name": "117243792"
        },
        {
         "data": [
          {
           "hovertemplate": "Recording timestamp=117252119<br>Gaze point X=%{x}<br>Gaze point Y=%{y}<extra></extra>",
           "legendgroup": "",
           "marker": {
            "color": "#636efa",
            "symbol": "circle"
           },
           "mode": "markers",
           "name": "",
           "orientation": "v",
           "showlegend": false,
           "type": "scatter",
           "x": [
            1072
           ],
           "xaxis": "x",
           "y": [
            130
           ],
           "yaxis": "y"
          }
         ],
         "name": "117252119"
        },
        {
         "data": [
          {
           "hovertemplate": "Recording timestamp=117260447<br>Gaze point X=%{x}<br>Gaze point Y=%{y}<extra></extra>",
           "legendgroup": "",
           "marker": {
            "color": "#636efa",
            "symbol": "circle"
           },
           "mode": "markers",
           "name": "",
           "orientation": "v",
           "showlegend": false,
           "type": "scatter",
           "x": [
            1108
           ],
           "xaxis": "x",
           "y": [
            194
           ],
           "yaxis": "y"
          }
         ],
         "name": "117260447"
        },
        {
         "data": [
          {
           "hovertemplate": "Recording timestamp=117268788<br>Gaze point X=%{x}<br>Gaze point Y=%{y}<extra></extra>",
           "legendgroup": "",
           "marker": {
            "color": "#636efa",
            "symbol": "circle"
           },
           "mode": "markers",
           "name": "",
           "orientation": "v",
           "showlegend": false,
           "type": "scatter",
           "x": [
            1106
           ],
           "xaxis": "x",
           "y": [
            155
           ],
           "yaxis": "y"
          }
         ],
         "name": "117268788"
        },
        {
         "data": [
          {
           "hovertemplate": "Recording timestamp=117277119<br>Gaze point X=%{x}<br>Gaze point Y=%{y}<extra></extra>",
           "legendgroup": "",
           "marker": {
            "color": "#636efa",
            "symbol": "circle"
           },
           "mode": "markers",
           "name": "",
           "orientation": "v",
           "showlegend": false,
           "type": "scatter",
           "x": [
            1106
           ],
           "xaxis": "x",
           "y": [
            191
           ],
           "yaxis": "y"
          }
         ],
         "name": "117277119"
        },
        {
         "data": [
          {
           "hovertemplate": "Recording timestamp=117285486<br>Gaze point X=%{x}<br>Gaze point Y=%{y}<extra></extra>",
           "legendgroup": "",
           "marker": {
            "color": "#636efa",
            "symbol": "circle"
           },
           "mode": "markers",
           "name": "",
           "orientation": "v",
           "showlegend": false,
           "type": "scatter",
           "x": [
            1091
           ],
           "xaxis": "x",
           "y": [
            146
           ],
           "yaxis": "y"
          }
         ],
         "name": "117285486"
        },
        {
         "data": [
          {
           "hovertemplate": "Recording timestamp=117293841<br>Gaze point X=%{x}<br>Gaze point Y=%{y}<extra></extra>",
           "legendgroup": "",
           "marker": {
            "color": "#636efa",
            "symbol": "circle"
           },
           "mode": "markers",
           "name": "",
           "orientation": "v",
           "showlegend": false,
           "type": "scatter",
           "x": [
            1074
           ],
           "xaxis": "x",
           "y": [
            183
           ],
           "yaxis": "y"
          }
         ],
         "name": "117293841"
        },
        {
         "data": [
          {
           "hovertemplate": "Recording timestamp=117302117<br>Gaze point X=%{x}<br>Gaze point Y=%{y}<extra></extra>",
           "legendgroup": "",
           "marker": {
            "color": "#636efa",
            "symbol": "circle"
           },
           "mode": "markers",
           "name": "",
           "orientation": "v",
           "showlegend": false,
           "type": "scatter",
           "x": [
            null
           ],
           "xaxis": "x",
           "y": [
            null
           ],
           "yaxis": "y"
          }
         ],
         "name": "117302117"
        },
        {
         "data": [
          {
           "hovertemplate": "Recording timestamp=117310451<br>Gaze point X=%{x}<br>Gaze point Y=%{y}<extra></extra>",
           "legendgroup": "",
           "marker": {
            "color": "#636efa",
            "symbol": "circle"
           },
           "mode": "markers",
           "name": "",
           "orientation": "v",
           "showlegend": false,
           "type": "scatter",
           "x": [
            1104
           ],
           "xaxis": "x",
           "y": [
            198
           ],
           "yaxis": "y"
          }
         ],
         "name": "117310451"
        },
        {
         "data": [
          {
           "hovertemplate": "Recording timestamp=117318778<br>Gaze point X=%{x}<br>Gaze point Y=%{y}<extra></extra>",
           "legendgroup": "",
           "marker": {
            "color": "#636efa",
            "symbol": "circle"
           },
           "mode": "markers",
           "name": "",
           "orientation": "v",
           "showlegend": false,
           "type": "scatter",
           "x": [
            1104
           ],
           "xaxis": "x",
           "y": [
            212
           ],
           "yaxis": "y"
          }
         ],
         "name": "117318778"
        },
        {
         "data": [
          {
           "hovertemplate": "Recording timestamp=117327113<br>Gaze point X=%{x}<br>Gaze point Y=%{y}<extra></extra>",
           "legendgroup": "",
           "marker": {
            "color": "#636efa",
            "symbol": "circle"
           },
           "mode": "markers",
           "name": "",
           "orientation": "v",
           "showlegend": false,
           "type": "scatter",
           "x": [
            1108
           ],
           "xaxis": "x",
           "y": [
            67
           ],
           "yaxis": "y"
          }
         ],
         "name": "117327113"
        },
        {
         "data": [
          {
           "hovertemplate": "Recording timestamp=117335526<br>Gaze point X=%{x}<br>Gaze point Y=%{y}<extra></extra>",
           "legendgroup": "",
           "marker": {
            "color": "#636efa",
            "symbol": "circle"
           },
           "mode": "markers",
           "name": "",
           "orientation": "v",
           "showlegend": false,
           "type": "scatter",
           "x": [
            1112
           ],
           "xaxis": "x",
           "y": [
            168
           ],
           "yaxis": "y"
          }
         ],
         "name": "117335526"
        },
        {
         "data": [
          {
           "hovertemplate": "Recording timestamp=117343772<br>Gaze point X=%{x}<br>Gaze point Y=%{y}<extra></extra>",
           "legendgroup": "",
           "marker": {
            "color": "#636efa",
            "symbol": "circle"
           },
           "mode": "markers",
           "name": "",
           "orientation": "v",
           "showlegend": false,
           "type": "scatter",
           "x": [
            1118
           ],
           "xaxis": "x",
           "y": [
            167
           ],
           "yaxis": "y"
          }
         ],
         "name": "117343772"
        },
        {
         "data": [
          {
           "hovertemplate": "Recording timestamp=117352151<br>Gaze point X=%{x}<br>Gaze point Y=%{y}<extra></extra>",
           "legendgroup": "",
           "marker": {
            "color": "#636efa",
            "symbol": "circle"
           },
           "mode": "markers",
           "name": "",
           "orientation": "v",
           "showlegend": false,
           "type": "scatter",
           "x": [
            1109
           ],
           "xaxis": "x",
           "y": [
            213
           ],
           "yaxis": "y"
          }
         ],
         "name": "117352151"
        },
        {
         "data": [
          {
           "hovertemplate": "Recording timestamp=117360439<br>Gaze point X=%{x}<br>Gaze point Y=%{y}<extra></extra>",
           "legendgroup": "",
           "marker": {
            "color": "#636efa",
            "symbol": "circle"
           },
           "mode": "markers",
           "name": "",
           "orientation": "v",
           "showlegend": false,
           "type": "scatter",
           "x": [
            1108
           ],
           "xaxis": "x",
           "y": [
            178
           ],
           "yaxis": "y"
          }
         ],
         "name": "117360439"
        },
        {
         "data": [
          {
           "hovertemplate": "Recording timestamp=117368872<br>Gaze point X=%{x}<br>Gaze point Y=%{y}<extra></extra>",
           "legendgroup": "",
           "marker": {
            "color": "#636efa",
            "symbol": "circle"
           },
           "mode": "markers",
           "name": "",
           "orientation": "v",
           "showlegend": false,
           "type": "scatter",
           "x": [
            1109
           ],
           "xaxis": "x",
           "y": [
            163
           ],
           "yaxis": "y"
          }
         ],
         "name": "117368872"
        },
        {
         "data": [
          {
           "hovertemplate": "Recording timestamp=117377204<br>Gaze point X=%{x}<br>Gaze point Y=%{y}<extra></extra>",
           "legendgroup": "",
           "marker": {
            "color": "#636efa",
            "symbol": "circle"
           },
           "mode": "markers",
           "name": "",
           "orientation": "v",
           "showlegend": false,
           "type": "scatter",
           "x": [
            1048
           ],
           "xaxis": "x",
           "y": [
            134
           ],
           "yaxis": "y"
          }
         ],
         "name": "117377204"
        },
        {
         "data": [
          {
           "hovertemplate": "Recording timestamp=117385460<br>Gaze point X=%{x}<br>Gaze point Y=%{y}<extra></extra>",
           "legendgroup": "",
           "marker": {
            "color": "#636efa",
            "symbol": "circle"
           },
           "mode": "markers",
           "name": "",
           "orientation": "v",
           "showlegend": false,
           "type": "scatter",
           "x": [
            1171
           ],
           "xaxis": "x",
           "y": [
            130
           ],
           "yaxis": "y"
          }
         ],
         "name": "117385460"
        },
        {
         "data": [
          {
           "hovertemplate": "Recording timestamp=117393769<br>Gaze point X=%{x}<br>Gaze point Y=%{y}<extra></extra>",
           "legendgroup": "",
           "marker": {
            "color": "#636efa",
            "symbol": "circle"
           },
           "mode": "markers",
           "name": "",
           "orientation": "v",
           "showlegend": false,
           "type": "scatter",
           "x": [
            1107
           ],
           "xaxis": "x",
           "y": [
            139
           ],
           "yaxis": "y"
          }
         ],
         "name": "117393769"
        },
        {
         "data": [
          {
           "hovertemplate": "Recording timestamp=117402103<br>Gaze point X=%{x}<br>Gaze point Y=%{y}<extra></extra>",
           "legendgroup": "",
           "marker": {
            "color": "#636efa",
            "symbol": "circle"
           },
           "mode": "markers",
           "name": "",
           "orientation": "v",
           "showlegend": false,
           "type": "scatter",
           "x": [
            null
           ],
           "xaxis": "x",
           "y": [
            null
           ],
           "yaxis": "y"
          }
         ],
         "name": "117402103"
        },
        {
         "data": [
          {
           "hovertemplate": "Recording timestamp=117410434<br>Gaze point X=%{x}<br>Gaze point Y=%{y}<extra></extra>",
           "legendgroup": "",
           "marker": {
            "color": "#636efa",
            "symbol": "circle"
           },
           "mode": "markers",
           "name": "",
           "orientation": "v",
           "showlegend": false,
           "type": "scatter",
           "x": [
            1129
           ],
           "xaxis": "x",
           "y": [
            132
           ],
           "yaxis": "y"
          }
         ],
         "name": "117410434"
        },
        {
         "data": [
          {
           "hovertemplate": "Recording timestamp=117418831<br>Gaze point X=%{x}<br>Gaze point Y=%{y}<extra></extra>",
           "legendgroup": "",
           "marker": {
            "color": "#636efa",
            "symbol": "circle"
           },
           "mode": "markers",
           "name": "",
           "orientation": "v",
           "showlegend": false,
           "type": "scatter",
           "x": [
            1105
           ],
           "xaxis": "x",
           "y": [
            173
           ],
           "yaxis": "y"
          }
         ],
         "name": "117418831"
        },
        {
         "data": [
          {
           "hovertemplate": "Recording timestamp=117427102<br>Gaze point X=%{x}<br>Gaze point Y=%{y}<extra></extra>",
           "legendgroup": "",
           "marker": {
            "color": "#636efa",
            "symbol": "circle"
           },
           "mode": "markers",
           "name": "",
           "orientation": "v",
           "showlegend": false,
           "type": "scatter",
           "x": [
            null
           ],
           "xaxis": "x",
           "y": [
            null
           ],
           "yaxis": "y"
          }
         ],
         "name": "117427102"
        },
        {
         "data": [
          {
           "hovertemplate": "Recording timestamp=117435432<br>Gaze point X=%{x}<br>Gaze point Y=%{y}<extra></extra>",
           "legendgroup": "",
           "marker": {
            "color": "#636efa",
            "symbol": "circle"
           },
           "mode": "markers",
           "name": "",
           "orientation": "v",
           "showlegend": false,
           "type": "scatter",
           "x": [
            1078
           ],
           "xaxis": "x",
           "y": [
            209
           ],
           "yaxis": "y"
          }
         ],
         "name": "117435432"
        },
        {
         "data": [
          {
           "hovertemplate": "Recording timestamp=117443837<br>Gaze point X=%{x}<br>Gaze point Y=%{y}<extra></extra>",
           "legendgroup": "",
           "marker": {
            "color": "#636efa",
            "symbol": "circle"
           },
           "mode": "markers",
           "name": "",
           "orientation": "v",
           "showlegend": false,
           "type": "scatter",
           "x": [
            1119
           ],
           "xaxis": "x",
           "y": [
            239
           ],
           "yaxis": "y"
          }
         ],
         "name": "117443837"
        },
        {
         "data": [
          {
           "hovertemplate": "Recording timestamp=117452160<br>Gaze point X=%{x}<br>Gaze point Y=%{y}<extra></extra>",
           "legendgroup": "",
           "marker": {
            "color": "#636efa",
            "symbol": "circle"
           },
           "mode": "markers",
           "name": "",
           "orientation": "v",
           "showlegend": false,
           "type": "scatter",
           "x": [
            null
           ],
           "xaxis": "x",
           "y": [
            null
           ],
           "yaxis": "y"
          }
         ],
         "name": "117452160"
        },
        {
         "data": [
          {
           "hovertemplate": "Recording timestamp=117460487<br>Gaze point X=%{x}<br>Gaze point Y=%{y}<extra></extra>",
           "legendgroup": "",
           "marker": {
            "color": "#636efa",
            "symbol": "circle"
           },
           "mode": "markers",
           "name": "",
           "orientation": "v",
           "showlegend": false,
           "type": "scatter",
           "x": [
            997
           ],
           "xaxis": "x",
           "y": [
            494
           ],
           "yaxis": "y"
          }
         ],
         "name": "117460487"
        },
        {
         "data": [
          {
           "hovertemplate": "Recording timestamp=117468822<br>Gaze point X=%{x}<br>Gaze point Y=%{y}<extra></extra>",
           "legendgroup": "",
           "marker": {
            "color": "#636efa",
            "symbol": "circle"
           },
           "mode": "markers",
           "name": "",
           "orientation": "v",
           "showlegend": false,
           "type": "scatter",
           "x": [
            1093
           ],
           "xaxis": "x",
           "y": [
            281
           ],
           "yaxis": "y"
          }
         ],
         "name": "117468822"
        },
        {
         "data": [
          {
           "hovertemplate": "Recording timestamp=117477099<br>Gaze point X=%{x}<br>Gaze point Y=%{y}<extra></extra>",
           "legendgroup": "",
           "marker": {
            "color": "#636efa",
            "symbol": "circle"
           },
           "mode": "markers",
           "name": "",
           "orientation": "v",
           "showlegend": false,
           "type": "scatter",
           "x": [
            null
           ],
           "xaxis": "x",
           "y": [
            null
           ],
           "yaxis": "y"
          }
         ],
         "name": "117477099"
        },
        {
         "data": [
          {
           "hovertemplate": "Recording timestamp=117485486<br>Gaze point X=%{x}<br>Gaze point Y=%{y}<extra></extra>",
           "legendgroup": "",
           "marker": {
            "color": "#636efa",
            "symbol": "circle"
           },
           "mode": "markers",
           "name": "",
           "orientation": "v",
           "showlegend": false,
           "type": "scatter",
           "x": [
            1152
           ],
           "xaxis": "x",
           "y": [
            286
           ],
           "yaxis": "y"
          }
         ],
         "name": "117485486"
        },
        {
         "data": [
          {
           "hovertemplate": "Recording timestamp=117493818<br>Gaze point X=%{x}<br>Gaze point Y=%{y}<extra></extra>",
           "legendgroup": "",
           "marker": {
            "color": "#636efa",
            "symbol": "circle"
           },
           "mode": "markers",
           "name": "",
           "orientation": "v",
           "showlegend": false,
           "type": "scatter",
           "x": [
            1142
           ],
           "xaxis": "x",
           "y": [
            310
           ],
           "yaxis": "y"
          }
         ],
         "name": "117493818"
        },
        {
         "data": [
          {
           "hovertemplate": "Recording timestamp=117502152<br>Gaze point X=%{x}<br>Gaze point Y=%{y}<extra></extra>",
           "legendgroup": "",
           "marker": {
            "color": "#636efa",
            "symbol": "circle"
           },
           "mode": "markers",
           "name": "",
           "orientation": "v",
           "showlegend": false,
           "type": "scatter",
           "x": [
            null
           ],
           "xaxis": "x",
           "y": [
            null
           ],
           "yaxis": "y"
          }
         ],
         "name": "117502152"
        },
        {
         "data": [
          {
           "hovertemplate": "Recording timestamp=117510491<br>Gaze point X=%{x}<br>Gaze point Y=%{y}<extra></extra>",
           "legendgroup": "",
           "marker": {
            "color": "#636efa",
            "symbol": "circle"
           },
           "mode": "markers",
           "name": "",
           "orientation": "v",
           "showlegend": false,
           "type": "scatter",
           "x": [
            1107
           ],
           "xaxis": "x",
           "y": [
            243
           ],
           "yaxis": "y"
          }
         ],
         "name": "117510491"
        },
        {
         "data": [
          {
           "hovertemplate": "Recording timestamp=117518817<br>Gaze point X=%{x}<br>Gaze point Y=%{y}<extra></extra>",
           "legendgroup": "",
           "marker": {
            "color": "#636efa",
            "symbol": "circle"
           },
           "mode": "markers",
           "name": "",
           "orientation": "v",
           "showlegend": false,
           "type": "scatter",
           "x": [
            1122
           ],
           "xaxis": "x",
           "y": [
            298
           ],
           "yaxis": "y"
          }
         ],
         "name": "117518817"
        },
        {
         "data": [
          {
           "hovertemplate": "Recording timestamp=117527094<br>Gaze point X=%{x}<br>Gaze point Y=%{y}<extra></extra>",
           "legendgroup": "",
           "marker": {
            "color": "#636efa",
            "symbol": "circle"
           },
           "mode": "markers",
           "name": "",
           "orientation": "v",
           "showlegend": false,
           "type": "scatter",
           "x": [
            null
           ],
           "xaxis": "x",
           "y": [
            null
           ],
           "yaxis": "y"
          }
         ],
         "name": "117527094"
        },
        {
         "data": [
          {
           "hovertemplate": "Recording timestamp=117535488<br>Gaze point X=%{x}<br>Gaze point Y=%{y}<extra></extra>",
           "legendgroup": "",
           "marker": {
            "color": "#636efa",
            "symbol": "circle"
           },
           "mode": "markers",
           "name": "",
           "orientation": "v",
           "showlegend": false,
           "type": "scatter",
           "x": [
            1067
           ],
           "xaxis": "x",
           "y": [
            337
           ],
           "yaxis": "y"
          }
         ],
         "name": "117535488"
        },
        {
         "data": [
          {
           "hovertemplate": "Recording timestamp=117543812<br>Gaze point X=%{x}<br>Gaze point Y=%{y}<extra></extra>",
           "legendgroup": "",
           "marker": {
            "color": "#636efa",
            "symbol": "circle"
           },
           "mode": "markers",
           "name": "",
           "orientation": "v",
           "showlegend": false,
           "type": "scatter",
           "x": [
            1074
           ],
           "xaxis": "x",
           "y": [
            309
           ],
           "yaxis": "y"
          }
         ],
         "name": "117543812"
        },
        {
         "data": [
          {
           "hovertemplate": "Recording timestamp=117552149<br>Gaze point X=%{x}<br>Gaze point Y=%{y}<extra></extra>",
           "legendgroup": "",
           "marker": {
            "color": "#636efa",
            "symbol": "circle"
           },
           "mode": "markers",
           "name": "",
           "orientation": "v",
           "showlegend": false,
           "type": "scatter",
           "x": [
            null
           ],
           "xaxis": "x",
           "y": [
            null
           ],
           "yaxis": "y"
          }
         ],
         "name": "117552149"
        },
        {
         "data": [
          {
           "hovertemplate": "Recording timestamp=117560482<br>Gaze point X=%{x}<br>Gaze point Y=%{y}<extra></extra>",
           "legendgroup": "",
           "marker": {
            "color": "#636efa",
            "symbol": "circle"
           },
           "mode": "markers",
           "name": "",
           "orientation": "v",
           "showlegend": false,
           "type": "scatter",
           "x": [
            null
           ],
           "xaxis": "x",
           "y": [
            null
           ],
           "yaxis": "y"
          }
         ],
         "name": "117560482"
        },
        {
         "data": [
          {
           "hovertemplate": "Recording timestamp=117568819<br>Gaze point X=%{x}<br>Gaze point Y=%{y}<extra></extra>",
           "legendgroup": "",
           "marker": {
            "color": "#636efa",
            "symbol": "circle"
           },
           "mode": "markers",
           "name": "",
           "orientation": "v",
           "showlegend": false,
           "type": "scatter",
           "x": [
            1078
           ],
           "xaxis": "x",
           "y": [
            325
           ],
           "yaxis": "y"
          }
         ],
         "name": "117568819"
        },
        {
         "data": [
          {
           "hovertemplate": "Recording timestamp=117577093<br>Gaze point X=%{x}<br>Gaze point Y=%{y}<extra></extra>",
           "legendgroup": "",
           "marker": {
            "color": "#636efa",
            "symbol": "circle"
           },
           "mode": "markers",
           "name": "",
           "orientation": "v",
           "showlegend": false,
           "type": "scatter",
           "x": [
            null
           ],
           "xaxis": "x",
           "y": [
            null
           ],
           "yaxis": "y"
          }
         ],
         "name": "117577093"
        },
        {
         "data": [
          {
           "hovertemplate": "Recording timestamp=117585421<br>Gaze point X=%{x}<br>Gaze point Y=%{y}<extra></extra>",
           "legendgroup": "",
           "marker": {
            "color": "#636efa",
            "symbol": "circle"
           },
           "mode": "markers",
           "name": "",
           "orientation": "v",
           "showlegend": false,
           "type": "scatter",
           "x": [
            1079
           ],
           "xaxis": "x",
           "y": [
            275
           ],
           "yaxis": "y"
          }
         ],
         "name": "117585421"
        },
        {
         "data": [
          {
           "hovertemplate": "Recording timestamp=117593807<br>Gaze point X=%{x}<br>Gaze point Y=%{y}<extra></extra>",
           "legendgroup": "",
           "marker": {
            "color": "#636efa",
            "symbol": "circle"
           },
           "mode": "markers",
           "name": "",
           "orientation": "v",
           "showlegend": false,
           "type": "scatter",
           "x": [
            1065
           ],
           "xaxis": "x",
           "y": [
            279
           ],
           "yaxis": "y"
          }
         ],
         "name": "117593807"
        },
        {
         "data": [
          {
           "hovertemplate": "Recording timestamp=117602091<br>Gaze point X=%{x}<br>Gaze point Y=%{y}<extra></extra>",
           "legendgroup": "",
           "marker": {
            "color": "#636efa",
            "symbol": "circle"
           },
           "mode": "markers",
           "name": "",
           "orientation": "v",
           "showlegend": false,
           "type": "scatter",
           "x": [
            1153
           ],
           "xaxis": "x",
           "y": [
            492
           ],
           "yaxis": "y"
          }
         ],
         "name": "117602091"
        },
        {
         "data": [
          {
           "hovertemplate": "Recording timestamp=117610485<br>Gaze point X=%{x}<br>Gaze point Y=%{y}<extra></extra>",
           "legendgroup": "",
           "marker": {
            "color": "#636efa",
            "symbol": "circle"
           },
           "mode": "markers",
           "name": "",
           "orientation": "v",
           "showlegend": false,
           "type": "scatter",
           "x": [
            null
           ],
           "xaxis": "x",
           "y": [
            null
           ],
           "yaxis": "y"
          }
         ],
         "name": "117610485"
        },
        {
         "data": [
          {
           "hovertemplate": "Recording timestamp=117618751<br>Gaze point X=%{x}<br>Gaze point Y=%{y}<extra></extra>",
           "legendgroup": "",
           "marker": {
            "color": "#636efa",
            "symbol": "circle"
           },
           "mode": "markers",
           "name": "",
           "orientation": "v",
           "showlegend": false,
           "type": "scatter",
           "x": [
            1107
           ],
           "xaxis": "x",
           "y": [
            346
           ],
           "yaxis": "y"
          }
         ],
         "name": "117618751"
        },
        {
         "data": [
          {
           "hovertemplate": "Recording timestamp=117627142<br>Gaze point X=%{x}<br>Gaze point Y=%{y}<extra></extra>",
           "legendgroup": "",
           "marker": {
            "color": "#636efa",
            "symbol": "circle"
           },
           "mode": "markers",
           "name": "",
           "orientation": "v",
           "showlegend": false,
           "type": "scatter",
           "x": [
            1094
           ],
           "xaxis": "x",
           "y": [
            264
           ],
           "yaxis": "y"
          }
         ],
         "name": "117627142"
        },
        {
         "data": [
          {
           "hovertemplate": "Recording timestamp=117635480<br>Gaze point X=%{x}<br>Gaze point Y=%{y}<extra></extra>",
           "legendgroup": "",
           "marker": {
            "color": "#636efa",
            "symbol": "circle"
           },
           "mode": "markers",
           "name": "",
           "orientation": "v",
           "showlegend": false,
           "type": "scatter",
           "x": [
            1110
           ],
           "xaxis": "x",
           "y": [
            213
           ],
           "yaxis": "y"
          }
         ],
         "name": "117635480"
        },
        {
         "data": [
          {
           "hovertemplate": "Recording timestamp=117643750<br>Gaze point X=%{x}<br>Gaze point Y=%{y}<extra></extra>",
           "legendgroup": "",
           "marker": {
            "color": "#636efa",
            "symbol": "circle"
           },
           "mode": "markers",
           "name": "",
           "orientation": "v",
           "showlegend": false,
           "type": "scatter",
           "x": [
            1111
           ],
           "xaxis": "x",
           "y": [
            329
           ],
           "yaxis": "y"
          }
         ],
         "name": "117643750"
        },
        {
         "data": [
          {
           "hovertemplate": "Recording timestamp=117652086<br>Gaze point X=%{x}<br>Gaze point Y=%{y}<extra></extra>",
           "legendgroup": "",
           "marker": {
            "color": "#636efa",
            "symbol": "circle"
           },
           "mode": "markers",
           "name": "",
           "orientation": "v",
           "showlegend": false,
           "type": "scatter",
           "x": [
            null
           ],
           "xaxis": "x",
           "y": [
            null
           ],
           "yaxis": "y"
          }
         ],
         "name": "117652086"
        },
        {
         "data": [
          {
           "hovertemplate": "Recording timestamp=117660416<br>Gaze point X=%{x}<br>Gaze point Y=%{y}<extra></extra>",
           "legendgroup": "",
           "marker": {
            "color": "#636efa",
            "symbol": "circle"
           },
           "mode": "markers",
           "name": "",
           "orientation": "v",
           "showlegend": false,
           "type": "scatter",
           "x": [
            1087
           ],
           "xaxis": "x",
           "y": [
            222
           ],
           "yaxis": "y"
          }
         ],
         "name": "117660416"
        },
        {
         "data": [
          {
           "hovertemplate": "Recording timestamp=117668749<br>Gaze point X=%{x}<br>Gaze point Y=%{y}<extra></extra>",
           "legendgroup": "",
           "marker": {
            "color": "#636efa",
            "symbol": "circle"
           },
           "mode": "markers",
           "name": "",
           "orientation": "v",
           "showlegend": false,
           "type": "scatter",
           "x": [
            1114
           ],
           "xaxis": "x",
           "y": [
            267
           ],
           "yaxis": "y"
          }
         ],
         "name": "117668749"
        },
        {
         "data": [
          {
           "hovertemplate": "Recording timestamp=117677102<br>Gaze point X=%{x}<br>Gaze point Y=%{y}<extra></extra>",
           "legendgroup": "",
           "marker": {
            "color": "#636efa",
            "symbol": "circle"
           },
           "mode": "markers",
           "name": "",
           "orientation": "v",
           "showlegend": false,
           "type": "scatter",
           "x": [
            null
           ],
           "xaxis": "x",
           "y": [
            null
           ],
           "yaxis": "y"
          }
         ],
         "name": "117677102"
        },
        {
         "data": [
          {
           "hovertemplate": "Recording timestamp=117685413<br>Gaze point X=%{x}<br>Gaze point Y=%{y}<extra></extra>",
           "legendgroup": "",
           "marker": {
            "color": "#636efa",
            "symbol": "circle"
           },
           "mode": "markers",
           "name": "",
           "orientation": "v",
           "showlegend": false,
           "type": "scatter",
           "x": [
            null
           ],
           "xaxis": "x",
           "y": [
            null
           ],
           "yaxis": "y"
          }
         ],
         "name": "117685413"
        },
        {
         "data": [
          {
           "hovertemplate": "Recording timestamp=117693745<br>Gaze point X=%{x}<br>Gaze point Y=%{y}<extra></extra>",
           "legendgroup": "",
           "marker": {
            "color": "#636efa",
            "symbol": "circle"
           },
           "mode": "markers",
           "name": "",
           "orientation": "v",
           "showlegend": false,
           "type": "scatter",
           "x": [
            1102
           ],
           "xaxis": "x",
           "y": [
            315
           ],
           "yaxis": "y"
          }
         ],
         "name": "117693745"
        },
        {
         "data": [
          {
           "hovertemplate": "Recording timestamp=117702082<br>Gaze point X=%{x}<br>Gaze point Y=%{y}<extra></extra>",
           "legendgroup": "",
           "marker": {
            "color": "#636efa",
            "symbol": "circle"
           },
           "mode": "markers",
           "name": "",
           "orientation": "v",
           "showlegend": false,
           "type": "scatter",
           "x": [
            1077
           ],
           "xaxis": "x",
           "y": [
            387
           ],
           "yaxis": "y"
          }
         ],
         "name": "117702082"
        },
        {
         "data": [
          {
           "hovertemplate": "Recording timestamp=117710471<br>Gaze point X=%{x}<br>Gaze point Y=%{y}<extra></extra>",
           "legendgroup": "",
           "marker": {
            "color": "#636efa",
            "symbol": "circle"
           },
           "mode": "markers",
           "name": "",
           "orientation": "v",
           "showlegend": false,
           "type": "scatter",
           "x": [
            1113
           ],
           "xaxis": "x",
           "y": [
            381
           ],
           "yaxis": "y"
          }
         ],
         "name": "117710471"
        },
        {
         "data": [
          {
           "hovertemplate": "Recording timestamp=117718747<br>Gaze point X=%{x}<br>Gaze point Y=%{y}<extra></extra>",
           "legendgroup": "",
           "marker": {
            "color": "#636efa",
            "symbol": "circle"
           },
           "mode": "markers",
           "name": "",
           "orientation": "v",
           "showlegend": false,
           "type": "scatter",
           "x": [
            1118
           ],
           "xaxis": "x",
           "y": [
            379
           ],
           "yaxis": "y"
          }
         ],
         "name": "117718747"
        },
        {
         "data": [
          {
           "hovertemplate": "Recording timestamp=117727079<br>Gaze point X=%{x}<br>Gaze point Y=%{y}<extra></extra>",
           "legendgroup": "",
           "marker": {
            "color": "#636efa",
            "symbol": "circle"
           },
           "mode": "markers",
           "name": "",
           "orientation": "v",
           "showlegend": false,
           "type": "scatter",
           "x": [
            null
           ],
           "xaxis": "x",
           "y": [
            null
           ],
           "yaxis": "y"
          }
         ],
         "name": "117727079"
        },
        {
         "data": [
          {
           "hovertemplate": "Recording timestamp=117735464<br>Gaze point X=%{x}<br>Gaze point Y=%{y}<extra></extra>",
           "legendgroup": "",
           "marker": {
            "color": "#636efa",
            "symbol": "circle"
           },
           "mode": "markers",
           "name": "",
           "orientation": "v",
           "showlegend": false,
           "type": "scatter",
           "x": [
            1100
           ],
           "xaxis": "x",
           "y": [
            409
           ],
           "yaxis": "y"
          }
         ],
         "name": "117735464"
        },
        {
         "data": [
          {
           "hovertemplate": "Recording timestamp=117743798<br>Gaze point X=%{x}<br>Gaze point Y=%{y}<extra></extra>",
           "legendgroup": "",
           "marker": {
            "color": "#636efa",
            "symbol": "circle"
           },
           "mode": "markers",
           "name": "",
           "orientation": "v",
           "showlegend": false,
           "type": "scatter",
           "x": [
            1112
           ],
           "xaxis": "x",
           "y": [
            393
           ],
           "yaxis": "y"
          }
         ],
         "name": "117743798"
        },
        {
         "data": [
          {
           "hovertemplate": "Recording timestamp=117752078<br>Gaze point X=%{x}<br>Gaze point Y=%{y}<extra></extra>",
           "legendgroup": "",
           "marker": {
            "color": "#636efa",
            "symbol": "circle"
           },
           "mode": "markers",
           "name": "",
           "orientation": "v",
           "showlegend": false,
           "type": "scatter",
           "x": [
            1129
           ],
           "xaxis": "x",
           "y": [
            364
           ],
           "yaxis": "y"
          }
         ],
         "name": "117752078"
        },
        {
         "data": [
          {
           "hovertemplate": "Recording timestamp=117760407<br>Gaze point X=%{x}<br>Gaze point Y=%{y}<extra></extra>",
           "legendgroup": "",
           "marker": {
            "color": "#636efa",
            "symbol": "circle"
           },
           "mode": "markers",
           "name": "",
           "orientation": "v",
           "showlegend": false,
           "type": "scatter",
           "x": [
            1045
           ],
           "xaxis": "x",
           "y": [
            256
           ],
           "yaxis": "y"
          }
         ],
         "name": "117760407"
        },
        {
         "data": [
          {
           "hovertemplate": "Recording timestamp=117768742<br>Gaze point X=%{x}<br>Gaze point Y=%{y}<extra></extra>",
           "legendgroup": "",
           "marker": {
            "color": "#636efa",
            "symbol": "circle"
           },
           "mode": "markers",
           "name": "",
           "orientation": "v",
           "showlegend": false,
           "type": "scatter",
           "x": [
            1058
           ],
           "xaxis": "x",
           "y": [
            303
           ],
           "yaxis": "y"
          }
         ],
         "name": "117768742"
        },
        {
         "data": [
          {
           "hovertemplate": "Recording timestamp=117777132<br>Gaze point X=%{x}<br>Gaze point Y=%{y}<extra></extra>",
           "legendgroup": "",
           "marker": {
            "color": "#636efa",
            "symbol": "circle"
           },
           "mode": "markers",
           "name": "",
           "orientation": "v",
           "showlegend": false,
           "type": "scatter",
           "x": [
            1090
           ],
           "xaxis": "x",
           "y": [
            379
           ],
           "yaxis": "y"
          }
         ],
         "name": "117777132"
        },
        {
         "data": [
          {
           "hovertemplate": "Recording timestamp=117785413<br>Gaze point X=%{x}<br>Gaze point Y=%{y}<extra></extra>",
           "legendgroup": "",
           "marker": {
            "color": "#636efa",
            "symbol": "circle"
           },
           "mode": "markers",
           "name": "",
           "orientation": "v",
           "showlegend": false,
           "type": "scatter",
           "x": [
            null
           ],
           "xaxis": "x",
           "y": [
            null
           ],
           "yaxis": "y"
          }
         ],
         "name": "117785413"
        },
        {
         "data": [
          {
           "hovertemplate": "Recording timestamp=117793735<br>Gaze point X=%{x}<br>Gaze point Y=%{y}<extra></extra>",
           "legendgroup": "",
           "marker": {
            "color": "#636efa",
            "symbol": "circle"
           },
           "mode": "markers",
           "name": "",
           "orientation": "v",
           "showlegend": false,
           "type": "scatter",
           "x": [
            1060
           ],
           "xaxis": "x",
           "y": [
            262
           ],
           "yaxis": "y"
          }
         ],
         "name": "117793735"
        },
        {
         "data": [
          {
           "hovertemplate": "Recording timestamp=117802075<br>Gaze point X=%{x}<br>Gaze point Y=%{y}<extra></extra>",
           "legendgroup": "",
           "marker": {
            "color": "#636efa",
            "symbol": "circle"
           },
           "mode": "markers",
           "name": "",
           "orientation": "v",
           "showlegend": false,
           "type": "scatter",
           "x": [
            1086
           ],
           "xaxis": "x",
           "y": [
            298
           ],
           "yaxis": "y"
          }
         ],
         "name": "117802075"
        },
        {
         "data": [
          {
           "hovertemplate": "Recording timestamp=117810405<br>Gaze point X=%{x}<br>Gaze point Y=%{y}<extra></extra>",
           "legendgroup": "",
           "marker": {
            "color": "#636efa",
            "symbol": "circle"
           },
           "mode": "markers",
           "name": "",
           "orientation": "v",
           "showlegend": false,
           "type": "scatter",
           "x": [
            1085
           ],
           "xaxis": "x",
           "y": [
            281
           ],
           "yaxis": "y"
          }
         ],
         "name": "117810405"
        },
        {
         "data": [
          {
           "hovertemplate": "Recording timestamp=117818733<br>Gaze point X=%{x}<br>Gaze point Y=%{y}<extra></extra>",
           "legendgroup": "",
           "marker": {
            "color": "#636efa",
            "symbol": "circle"
           },
           "mode": "markers",
           "name": "",
           "orientation": "v",
           "showlegend": false,
           "type": "scatter",
           "x": [
            1089
           ],
           "xaxis": "x",
           "y": [
            260
           ],
           "yaxis": "y"
          }
         ],
         "name": "117818733"
        },
        {
         "data": [
          {
           "hovertemplate": "Recording timestamp=117827150<br>Gaze point X=%{x}<br>Gaze point Y=%{y}<extra></extra>",
           "legendgroup": "",
           "marker": {
            "color": "#636efa",
            "symbol": "circle"
           },
           "mode": "markers",
           "name": "",
           "orientation": "v",
           "showlegend": false,
           "type": "scatter",
           "x": [
            1116
           ],
           "xaxis": "x",
           "y": [
            227
           ],
           "yaxis": "y"
          }
         ],
         "name": "117827150"
        },
        {
         "data": [
          {
           "hovertemplate": "Recording timestamp=117835398<br>Gaze point X=%{x}<br>Gaze point Y=%{y}<extra></extra>",
           "legendgroup": "",
           "marker": {
            "color": "#636efa",
            "symbol": "circle"
           },
           "mode": "markers",
           "name": "",
           "orientation": "v",
           "showlegend": false,
           "type": "scatter",
           "x": [
            1108
           ],
           "xaxis": "x",
           "y": [
            266
           ],
           "yaxis": "y"
          }
         ],
         "name": "117835398"
        },
        {
         "data": [
          {
           "hovertemplate": "Recording timestamp=117843741<br>Gaze point X=%{x}<br>Gaze point Y=%{y}<extra></extra>",
           "legendgroup": "",
           "marker": {
            "color": "#636efa",
            "symbol": "circle"
           },
           "mode": "markers",
           "name": "",
           "orientation": "v",
           "showlegend": false,
           "type": "scatter",
           "x": [
            1070
           ],
           "xaxis": "x",
           "y": [
            246
           ],
           "yaxis": "y"
          }
         ],
         "name": "117843741"
        },
        {
         "data": [
          {
           "hovertemplate": "Recording timestamp=117852067<br>Gaze point X=%{x}<br>Gaze point Y=%{y}<extra></extra>",
           "legendgroup": "",
           "marker": {
            "color": "#636efa",
            "symbol": "circle"
           },
           "mode": "markers",
           "name": "",
           "orientation": "v",
           "showlegend": false,
           "type": "scatter",
           "x": [
            1109
           ],
           "xaxis": "x",
           "y": [
            236
           ],
           "yaxis": "y"
          }
         ],
         "name": "117852067"
        },
        {
         "data": [
          {
           "hovertemplate": "Recording timestamp=117860400<br>Gaze point X=%{x}<br>Gaze point Y=%{y}<extra></extra>",
           "legendgroup": "",
           "marker": {
            "color": "#636efa",
            "symbol": "circle"
           },
           "mode": "markers",
           "name": "",
           "orientation": "v",
           "showlegend": false,
           "type": "scatter",
           "x": [
            1069
           ],
           "xaxis": "x",
           "y": [
            242
           ],
           "yaxis": "y"
          }
         ],
         "name": "117860400"
        },
        {
         "data": [
          {
           "hovertemplate": "Recording timestamp=117868730<br>Gaze point X=%{x}<br>Gaze point Y=%{y}<extra></extra>",
           "legendgroup": "",
           "marker": {
            "color": "#636efa",
            "symbol": "circle"
           },
           "mode": "markers",
           "name": "",
           "orientation": "v",
           "showlegend": false,
           "type": "scatter",
           "x": [
            1084
           ],
           "xaxis": "x",
           "y": [
            315
           ],
           "yaxis": "y"
          }
         ],
         "name": "117868730"
        },
        {
         "data": [
          {
           "hovertemplate": "Recording timestamp=117877067<br>Gaze point X=%{x}<br>Gaze point Y=%{y}<extra></extra>",
           "legendgroup": "",
           "marker": {
            "color": "#636efa",
            "symbol": "circle"
           },
           "mode": "markers",
           "name": "",
           "orientation": "v",
           "showlegend": false,
           "type": "scatter",
           "x": [
            1070
           ],
           "xaxis": "x",
           "y": [
            364
           ],
           "yaxis": "y"
          }
         ],
         "name": "117877067"
        },
        {
         "data": [
          {
           "hovertemplate": "Recording timestamp=117885400<br>Gaze point X=%{x}<br>Gaze point Y=%{y}<extra></extra>",
           "legendgroup": "",
           "marker": {
            "color": "#636efa",
            "symbol": "circle"
           },
           "mode": "markers",
           "name": "",
           "orientation": "v",
           "showlegend": false,
           "type": "scatter",
           "x": [
            1044
           ],
           "xaxis": "x",
           "y": [
            346
           ],
           "yaxis": "y"
          }
         ],
         "name": "117885400"
        },
        {
         "data": [
          {
           "hovertemplate": "Recording timestamp=117893787<br>Gaze point X=%{x}<br>Gaze point Y=%{y}<extra></extra>",
           "legendgroup": "",
           "marker": {
            "color": "#636efa",
            "symbol": "circle"
           },
           "mode": "markers",
           "name": "",
           "orientation": "v",
           "showlegend": false,
           "type": "scatter",
           "x": [
            1050
           ],
           "xaxis": "x",
           "y": [
            393
           ],
           "yaxis": "y"
          }
         ],
         "name": "117893787"
        },
        {
         "data": [
          {
           "hovertemplate": "Recording timestamp=117902066<br>Gaze point X=%{x}<br>Gaze point Y=%{y}<extra></extra>",
           "legendgroup": "",
           "marker": {
            "color": "#636efa",
            "symbol": "circle"
           },
           "mode": "markers",
           "name": "",
           "orientation": "v",
           "showlegend": false,
           "type": "scatter",
           "x": [
            null
           ],
           "xaxis": "x",
           "y": [
            null
           ],
           "yaxis": "y"
          }
         ],
         "name": "117902066"
        },
        {
         "data": [
          {
           "hovertemplate": "Recording timestamp=117910443<br>Gaze point X=%{x}<br>Gaze point Y=%{y}<extra></extra>",
           "legendgroup": "",
           "marker": {
            "color": "#636efa",
            "symbol": "circle"
           },
           "mode": "markers",
           "name": "",
           "orientation": "v",
           "showlegend": false,
           "type": "scatter",
           "x": [
            1077
           ],
           "xaxis": "x",
           "y": [
            353
           ],
           "yaxis": "y"
          }
         ],
         "name": "117910443"
        },
        {
         "data": [
          {
           "hovertemplate": "Recording timestamp=117918775<br>Gaze point X=%{x}<br>Gaze point Y=%{y}<extra></extra>",
           "legendgroup": "",
           "marker": {
            "color": "#636efa",
            "symbol": "circle"
           },
           "mode": "markers",
           "name": "",
           "orientation": "v",
           "showlegend": false,
           "type": "scatter",
           "x": [
            1085
           ],
           "xaxis": "x",
           "y": [
            301
           ],
           "yaxis": "y"
          }
         ],
         "name": "117918775"
        },
        {
         "data": [
          {
           "hovertemplate": "Recording timestamp=117927074<br>Gaze point X=%{x}<br>Gaze point Y=%{y}<extra></extra>",
           "legendgroup": "",
           "marker": {
            "color": "#636efa",
            "symbol": "circle"
           },
           "mode": "markers",
           "name": "",
           "orientation": "v",
           "showlegend": false,
           "type": "scatter",
           "x": [
            null
           ],
           "xaxis": "x",
           "y": [
            null
           ],
           "yaxis": "y"
          }
         ],
         "name": "117927074"
        },
        {
         "data": [
          {
           "hovertemplate": "Recording timestamp=117935410<br>Gaze point X=%{x}<br>Gaze point Y=%{y}<extra></extra>",
           "legendgroup": "",
           "marker": {
            "color": "#636efa",
            "symbol": "circle"
           },
           "mode": "markers",
           "name": "",
           "orientation": "v",
           "showlegend": false,
           "type": "scatter",
           "x": [
            1094
           ],
           "xaxis": "x",
           "y": [
            245
           ],
           "yaxis": "y"
          }
         ],
         "name": "117935410"
        },
        {
         "data": [
          {
           "hovertemplate": "Recording timestamp=117943786<br>Gaze point X=%{x}<br>Gaze point Y=%{y}<extra></extra>",
           "legendgroup": "",
           "marker": {
            "color": "#636efa",
            "symbol": "circle"
           },
           "mode": "markers",
           "name": "",
           "orientation": "v",
           "showlegend": false,
           "type": "scatter",
           "x": [
            1096
           ],
           "xaxis": "x",
           "y": [
            291
           ],
           "yaxis": "y"
          }
         ],
         "name": "117943786"
        },
        {
         "data": [
          {
           "hovertemplate": "Recording timestamp=117952059<br>Gaze point X=%{x}<br>Gaze point Y=%{y}<extra></extra>",
           "legendgroup": "",
           "marker": {
            "color": "#636efa",
            "symbol": "circle"
           },
           "mode": "markers",
           "name": "",
           "orientation": "v",
           "showlegend": false,
           "type": "scatter",
           "x": [
            null
           ],
           "xaxis": "x",
           "y": [
            null
           ],
           "yaxis": "y"
          }
         ],
         "name": "117952059"
        },
        {
         "data": [
          {
           "hovertemplate": "Recording timestamp=117960449<br>Gaze point X=%{x}<br>Gaze point Y=%{y}<extra></extra>",
           "legendgroup": "",
           "marker": {
            "color": "#636efa",
            "symbol": "circle"
           },
           "mode": "markers",
           "name": "",
           "orientation": "v",
           "showlegend": false,
           "type": "scatter",
           "x": [
            1112
           ],
           "xaxis": "x",
           "y": [
            286
           ],
           "yaxis": "y"
          }
         ],
         "name": "117960449"
        },
        {
         "data": [
          {
           "hovertemplate": "Recording timestamp=117968786<br>Gaze point X=%{x}<br>Gaze point Y=%{y}<extra></extra>",
           "legendgroup": "",
           "marker": {
            "color": "#636efa",
            "symbol": "circle"
           },
           "mode": "markers",
           "name": "",
           "orientation": "v",
           "showlegend": false,
           "type": "scatter",
           "x": [
            1126
           ],
           "xaxis": "x",
           "y": [
            322
           ],
           "yaxis": "y"
          }
         ],
         "name": "117968786"
        },
        {
         "data": [
          {
           "hovertemplate": "Recording timestamp=117977066<br>Gaze point X=%{x}<br>Gaze point Y=%{y}<extra></extra>",
           "legendgroup": "",
           "marker": {
            "color": "#636efa",
            "symbol": "circle"
           },
           "mode": "markers",
           "name": "",
           "orientation": "v",
           "showlegend": false,
           "type": "scatter",
           "x": [
            null
           ],
           "xaxis": "x",
           "y": [
            null
           ],
           "yaxis": "y"
          }
         ],
         "name": "117977066"
        },
        {
         "data": [
          {
           "hovertemplate": "Recording timestamp=117985390<br>Gaze point X=%{x}<br>Gaze point Y=%{y}<extra></extra>",
           "legendgroup": "",
           "marker": {
            "color": "#636efa",
            "symbol": "circle"
           },
           "mode": "markers",
           "name": "",
           "orientation": "v",
           "showlegend": false,
           "type": "scatter",
           "x": [
            1126
           ],
           "xaxis": "x",
           "y": [
            372
           ],
           "yaxis": "y"
          }
         ],
         "name": "117985390"
        },
        {
         "data": [
          {
           "hovertemplate": "Recording timestamp=117993732<br>Gaze point X=%{x}<br>Gaze point Y=%{y}<extra></extra>",
           "legendgroup": "",
           "marker": {
            "color": "#636efa",
            "symbol": "circle"
           },
           "mode": "markers",
           "name": "",
           "orientation": "v",
           "showlegend": false,
           "type": "scatter",
           "x": [
            1100
           ],
           "xaxis": "x",
           "y": [
            321
           ],
           "yaxis": "y"
          }
         ],
         "name": "117993732"
        },
        {
         "data": [
          {
           "hovertemplate": "Recording timestamp=118002056<br>Gaze point X=%{x}<br>Gaze point Y=%{y}<extra></extra>",
           "legendgroup": "",
           "marker": {
            "color": "#636efa",
            "symbol": "circle"
           },
           "mode": "markers",
           "name": "",
           "orientation": "v",
           "showlegend": false,
           "type": "scatter",
           "x": [
            null
           ],
           "xaxis": "x",
           "y": [
            null
           ],
           "yaxis": "y"
          }
         ],
         "name": "118002056"
        },
        {
         "data": [
          {
           "hovertemplate": "Recording timestamp=118010474<br>Gaze point X=%{x}<br>Gaze point Y=%{y}<extra></extra>",
           "legendgroup": "",
           "marker": {
            "color": "#636efa",
            "symbol": "circle"
           },
           "mode": "markers",
           "name": "",
           "orientation": "v",
           "showlegend": false,
           "type": "scatter",
           "x": [
            1080
           ],
           "xaxis": "x",
           "y": [
            304
           ],
           "yaxis": "y"
          }
         ],
         "name": "118010474"
        },
        {
         "data": [
          {
           "hovertemplate": "Recording timestamp=118018734<br>Gaze point X=%{x}<br>Gaze point Y=%{y}<extra></extra>",
           "legendgroup": "",
           "marker": {
            "color": "#636efa",
            "symbol": "circle"
           },
           "mode": "markers",
           "name": "",
           "orientation": "v",
           "showlegend": false,
           "type": "scatter",
           "x": [
            1091
           ],
           "xaxis": "x",
           "y": [
            331
           ],
           "yaxis": "y"
          }
         ],
         "name": "118018734"
        },
        {
         "data": [
          {
           "hovertemplate": "Recording timestamp=118027115<br>Gaze point X=%{x}<br>Gaze point Y=%{y}<extra></extra>",
           "legendgroup": "",
           "marker": {
            "color": "#636efa",
            "symbol": "circle"
           },
           "mode": "markers",
           "name": "",
           "orientation": "v",
           "showlegend": false,
           "type": "scatter",
           "x": [
            null
           ],
           "xaxis": "x",
           "y": [
            null
           ],
           "yaxis": "y"
          }
         ],
         "name": "118027115"
        },
        {
         "data": [
          {
           "hovertemplate": "Recording timestamp=118035385<br>Gaze point X=%{x}<br>Gaze point Y=%{y}<extra></extra>",
           "legendgroup": "",
           "marker": {
            "color": "#636efa",
            "symbol": "circle"
           },
           "mode": "markers",
           "name": "",
           "orientation": "v",
           "showlegend": false,
           "type": "scatter",
           "x": [
            1037
           ],
           "xaxis": "x",
           "y": [
            339
           ],
           "yaxis": "y"
          }
         ],
         "name": "118035385"
        },
        {
         "data": [
          {
           "hovertemplate": "Recording timestamp=118043718<br>Gaze point X=%{x}<br>Gaze point Y=%{y}<extra></extra>",
           "legendgroup": "",
           "marker": {
            "color": "#636efa",
            "symbol": "circle"
           },
           "mode": "markers",
           "name": "",
           "orientation": "v",
           "showlegend": false,
           "type": "scatter",
           "x": [
            1056
           ],
           "xaxis": "x",
           "y": [
            375
           ],
           "yaxis": "y"
          }
         ],
         "name": "118043718"
        },
        {
         "data": [
          {
           "hovertemplate": "Recording timestamp=118052052<br>Gaze point X=%{x}<br>Gaze point Y=%{y}<extra></extra>",
           "legendgroup": "",
           "marker": {
            "color": "#636efa",
            "symbol": "circle"
           },
           "mode": "markers",
           "name": "",
           "orientation": "v",
           "showlegend": false,
           "type": "scatter",
           "x": [
            1025
           ],
           "xaxis": "x",
           "y": [
            355
           ],
           "yaxis": "y"
          }
         ],
         "name": "118052052"
        },
        {
         "data": [
          {
           "hovertemplate": "Recording timestamp=118060384<br>Gaze point X=%{x}<br>Gaze point Y=%{y}<extra></extra>",
           "legendgroup": "",
           "marker": {
            "color": "#636efa",
            "symbol": "circle"
           },
           "mode": "markers",
           "name": "",
           "orientation": "v",
           "showlegend": false,
           "type": "scatter",
           "x": [
            null
           ],
           "xaxis": "x",
           "y": [
            null
           ],
           "yaxis": "y"
          }
         ],
         "name": "118060384"
        },
        {
         "data": [
          {
           "hovertemplate": "Recording timestamp=118068715<br>Gaze point X=%{x}<br>Gaze point Y=%{y}<extra></extra>",
           "legendgroup": "",
           "marker": {
            "color": "#636efa",
            "symbol": "circle"
           },
           "mode": "markers",
           "name": "",
           "orientation": "v",
           "showlegend": false,
           "type": "scatter",
           "x": [
            1049
           ],
           "xaxis": "x",
           "y": [
            277
           ],
           "yaxis": "y"
          }
         ],
         "name": "118068715"
        },
        {
         "data": [
          {
           "hovertemplate": "Recording timestamp=118077049<br>Gaze point X=%{x}<br>Gaze point Y=%{y}<extra></extra>",
           "legendgroup": "",
           "marker": {
            "color": "#636efa",
            "symbol": "circle"
           },
           "mode": "markers",
           "name": "",
           "orientation": "v",
           "showlegend": false,
           "type": "scatter",
           "x": [
            979
           ],
           "xaxis": "x",
           "y": [
            176
           ],
           "yaxis": "y"
          }
         ],
         "name": "118077049"
        },
        {
         "data": [
          {
           "hovertemplate": "Recording timestamp=118085381<br>Gaze point X=%{x}<br>Gaze point Y=%{y}<extra></extra>",
           "legendgroup": "",
           "marker": {
            "color": "#636efa",
            "symbol": "circle"
           },
           "mode": "markers",
           "name": "",
           "orientation": "v",
           "showlegend": false,
           "type": "scatter",
           "x": [
            1069
           ],
           "xaxis": "x",
           "y": [
            317
           ],
           "yaxis": "y"
          }
         ],
         "name": "118085381"
        },
        {
         "data": [
          {
           "hovertemplate": "Recording timestamp=118093714<br>Gaze point X=%{x}<br>Gaze point Y=%{y}<extra></extra>",
           "legendgroup": "",
           "marker": {
            "color": "#636efa",
            "symbol": "circle"
           },
           "mode": "markers",
           "name": "",
           "orientation": "v",
           "showlegend": false,
           "type": "scatter",
           "x": [
            1031
           ],
           "xaxis": "x",
           "y": [
            267
           ],
           "yaxis": "y"
          }
         ],
         "name": "118093714"
        },
        {
         "data": [
          {
           "hovertemplate": "Recording timestamp=118102049<br>Gaze point X=%{x}<br>Gaze point Y=%{y}<extra></extra>",
           "legendgroup": "",
           "marker": {
            "color": "#636efa",
            "symbol": "circle"
           },
           "mode": "markers",
           "name": "",
           "orientation": "v",
           "showlegend": false,
           "type": "scatter",
           "x": [
            1059
           ],
           "xaxis": "x",
           "y": [
            -56
           ],
           "yaxis": "y"
          }
         ],
         "name": "118102049"
        },
        {
         "data": [
          {
           "hovertemplate": "Recording timestamp=118110379<br>Gaze point X=%{x}<br>Gaze point Y=%{y}<extra></extra>",
           "legendgroup": "",
           "marker": {
            "color": "#636efa",
            "symbol": "circle"
           },
           "mode": "markers",
           "name": "",
           "orientation": "v",
           "showlegend": false,
           "type": "scatter",
           "x": [
            1033
           ],
           "xaxis": "x",
           "y": [
            380
           ],
           "yaxis": "y"
          }
         ],
         "name": "118110379"
        },
        {
         "data": [
          {
           "hovertemplate": "Recording timestamp=118118711<br>Gaze point X=%{x}<br>Gaze point Y=%{y}<extra></extra>",
           "legendgroup": "",
           "marker": {
            "color": "#636efa",
            "symbol": "circle"
           },
           "mode": "markers",
           "name": "",
           "orientation": "v",
           "showlegend": false,
           "type": "scatter",
           "x": [
            1037
           ],
           "xaxis": "x",
           "y": [
            175
           ],
           "yaxis": "y"
          }
         ],
         "name": "118118711"
        },
        {
         "data": [
          {
           "hovertemplate": "Recording timestamp=118127048<br>Gaze point X=%{x}<br>Gaze point Y=%{y}<extra></extra>",
           "legendgroup": "",
           "marker": {
            "color": "#636efa",
            "symbol": "circle"
           },
           "mode": "markers",
           "name": "",
           "orientation": "v",
           "showlegend": false,
           "type": "scatter",
           "x": [
            1092
           ],
           "xaxis": "x",
           "y": [
            357
           ],
           "yaxis": "y"
          }
         ],
         "name": "118127048"
        },
        {
         "data": [
          {
           "hovertemplate": "Recording timestamp=118135436<br>Gaze point X=%{x}<br>Gaze point Y=%{y}<extra></extra>",
           "legendgroup": "",
           "marker": {
            "color": "#636efa",
            "symbol": "circle"
           },
           "mode": "markers",
           "name": "",
           "orientation": "v",
           "showlegend": false,
           "type": "scatter",
           "x": [
            1156
           ],
           "xaxis": "x",
           "y": [
            331
           ],
           "yaxis": "y"
          }
         ],
         "name": "118135436"
        },
        {
         "data": [
          {
           "hovertemplate": "Recording timestamp=118143765<br>Gaze point X=%{x}<br>Gaze point Y=%{y}<extra></extra>",
           "legendgroup": "",
           "marker": {
            "color": "#636efa",
            "symbol": "circle"
           },
           "mode": "markers",
           "name": "",
           "orientation": "v",
           "showlegend": false,
           "type": "scatter",
           "x": [
            1061
           ],
           "xaxis": "x",
           "y": [
            416
           ],
           "yaxis": "y"
          }
         ],
         "name": "118143765"
        },
        {
         "data": [
          {
           "hovertemplate": "Recording timestamp=118152099<br>Gaze point X=%{x}<br>Gaze point Y=%{y}<extra></extra>",
           "legendgroup": "",
           "marker": {
            "color": "#636efa",
            "symbol": "circle"
           },
           "mode": "markers",
           "name": "",
           "orientation": "v",
           "showlegend": false,
           "type": "scatter",
           "x": [
            null
           ],
           "xaxis": "x",
           "y": [
            null
           ],
           "yaxis": "y"
          }
         ],
         "name": "118152099"
        },
        {
         "data": [
          {
           "hovertemplate": "Recording timestamp=118160451<br>Gaze point X=%{x}<br>Gaze point Y=%{y}<extra></extra>",
           "legendgroup": "",
           "marker": {
            "color": "#636efa",
            "symbol": "circle"
           },
           "mode": "markers",
           "name": "",
           "orientation": "v",
           "showlegend": false,
           "type": "scatter",
           "x": [
            null
           ],
           "xaxis": "x",
           "y": [
            null
           ],
           "yaxis": "y"
          }
         ],
         "name": "118160451"
        },
        {
         "data": [
          {
           "hovertemplate": "Recording timestamp=118168710<br>Gaze point X=%{x}<br>Gaze point Y=%{y}<extra></extra>",
           "legendgroup": "",
           "marker": {
            "color": "#636efa",
            "symbol": "circle"
           },
           "mode": "markers",
           "name": "",
           "orientation": "v",
           "showlegend": false,
           "type": "scatter",
           "x": [
            1083
           ],
           "xaxis": "x",
           "y": [
            392
           ],
           "yaxis": "y"
          }
         ],
         "name": "118168710"
        },
        {
         "data": [
          {
           "hovertemplate": "Recording timestamp=118177108<br>Gaze point X=%{x}<br>Gaze point Y=%{y}<extra></extra>",
           "legendgroup": "",
           "marker": {
            "color": "#636efa",
            "symbol": "circle"
           },
           "mode": "markers",
           "name": "",
           "orientation": "v",
           "showlegend": false,
           "type": "scatter",
           "x": [
            null
           ],
           "xaxis": "x",
           "y": [
            null
           ],
           "yaxis": "y"
          }
         ],
         "name": "118177108"
        },
        {
         "data": [
          {
           "hovertemplate": "Recording timestamp=118185427<br>Gaze point X=%{x}<br>Gaze point Y=%{y}<extra></extra>",
           "legendgroup": "",
           "marker": {
            "color": "#636efa",
            "symbol": "circle"
           },
           "mode": "markers",
           "name": "",
           "orientation": "v",
           "showlegend": false,
           "type": "scatter",
           "x": [
            null
           ],
           "xaxis": "x",
           "y": [
            null
           ],
           "yaxis": "y"
          }
         ],
         "name": "118185427"
        },
        {
         "data": [
          {
           "hovertemplate": "Recording timestamp=118193759<br>Gaze point X=%{x}<br>Gaze point Y=%{y}<extra></extra>",
           "legendgroup": "",
           "marker": {
            "color": "#636efa",
            "symbol": "circle"
           },
           "mode": "markers",
           "name": "",
           "orientation": "v",
           "showlegend": false,
           "type": "scatter",
           "x": [
            1082
           ],
           "xaxis": "x",
           "y": [
            367
           ],
           "yaxis": "y"
          }
         ],
         "name": "118193759"
        },
        {
         "data": [
          {
           "hovertemplate": "Recording timestamp=118202043<br>Gaze point X=%{x}<br>Gaze point Y=%{y}<extra></extra>",
           "legendgroup": "",
           "marker": {
            "color": "#636efa",
            "symbol": "circle"
           },
           "mode": "markers",
           "name": "",
           "orientation": "v",
           "showlegend": false,
           "type": "scatter",
           "x": [
            1126
           ],
           "xaxis": "x",
           "y": [
            364
           ],
           "yaxis": "y"
          }
         ],
         "name": "118202043"
        },
        {
         "data": [
          {
           "hovertemplate": "Recording timestamp=118210429<br>Gaze point X=%{x}<br>Gaze point Y=%{y}<extra></extra>",
           "legendgroup": "",
           "marker": {
            "color": "#636efa",
            "symbol": "circle"
           },
           "mode": "markers",
           "name": "",
           "orientation": "v",
           "showlegend": false,
           "type": "scatter",
           "x": [
            1074
           ],
           "xaxis": "x",
           "y": [
            382
           ],
           "yaxis": "y"
          }
         ],
         "name": "118210429"
        },
        {
         "data": [
          {
           "hovertemplate": "Recording timestamp=118218702<br>Gaze point X=%{x}<br>Gaze point Y=%{y}<extra></extra>",
           "legendgroup": "",
           "marker": {
            "color": "#636efa",
            "symbol": "circle"
           },
           "mode": "markers",
           "name": "",
           "orientation": "v",
           "showlegend": false,
           "type": "scatter",
           "x": [
            1097
           ],
           "xaxis": "x",
           "y": [
            395
           ],
           "yaxis": "y"
          }
         ],
         "name": "118218702"
        },
        {
         "data": [
          {
           "hovertemplate": "Recording timestamp=118227038<br>Gaze point X=%{x}<br>Gaze point Y=%{y}<extra></extra>",
           "legendgroup": "",
           "marker": {
            "color": "#636efa",
            "symbol": "circle"
           },
           "mode": "markers",
           "name": "",
           "orientation": "v",
           "showlegend": false,
           "type": "scatter",
           "x": [
            null
           ],
           "xaxis": "x",
           "y": [
            null
           ],
           "yaxis": "y"
          }
         ],
         "name": "118227038"
        },
        {
         "data": [
          {
           "hovertemplate": "Recording timestamp=118235378<br>Gaze point X=%{x}<br>Gaze point Y=%{y}<extra></extra>",
           "legendgroup": "",
           "marker": {
            "color": "#636efa",
            "symbol": "circle"
           },
           "mode": "markers",
           "name": "",
           "orientation": "v",
           "showlegend": false,
           "type": "scatter",
           "x": [
            1048
           ],
           "xaxis": "x",
           "y": [
            375
           ],
           "yaxis": "y"
          }
         ],
         "name": "118235378"
        },
        {
         "data": [
          {
           "hovertemplate": "Recording timestamp=118243755<br>Gaze point X=%{x}<br>Gaze point Y=%{y}<extra></extra>",
           "legendgroup": "",
           "marker": {
            "color": "#636efa",
            "symbol": "circle"
           },
           "mode": "markers",
           "name": "",
           "orientation": "v",
           "showlegend": false,
           "type": "scatter",
           "x": [
            1077
           ],
           "xaxis": "x",
           "y": [
            373
           ],
           "yaxis": "y"
          }
         ],
         "name": "118243755"
        },
        {
         "data": [
          {
           "hovertemplate": "Recording timestamp=118252090<br>Gaze point X=%{x}<br>Gaze point Y=%{y}<extra></extra>",
           "legendgroup": "",
           "marker": {
            "color": "#636efa",
            "symbol": "circle"
           },
           "mode": "markers",
           "name": "",
           "orientation": "v",
           "showlegend": false,
           "type": "scatter",
           "x": [
            null
           ],
           "xaxis": "x",
           "y": [
            null
           ],
           "yaxis": "y"
          }
         ],
         "name": "118252090"
        },
        {
         "data": [
          {
           "hovertemplate": "Recording timestamp=118260427<br>Gaze point X=%{x}<br>Gaze point Y=%{y}<extra></extra>",
           "legendgroup": "",
           "marker": {
            "color": "#636efa",
            "symbol": "circle"
           },
           "mode": "markers",
           "name": "",
           "orientation": "v",
           "showlegend": false,
           "type": "scatter",
           "x": [
            1016
           ],
           "xaxis": "x",
           "y": [
            389
           ],
           "yaxis": "y"
          }
         ],
         "name": "118260427"
        },
        {
         "data": [
          {
           "hovertemplate": "Recording timestamp=118268755<br>Gaze point X=%{x}<br>Gaze point Y=%{y}<extra></extra>",
           "legendgroup": "",
           "marker": {
            "color": "#636efa",
            "symbol": "circle"
           },
           "mode": "markers",
           "name": "",
           "orientation": "v",
           "showlegend": false,
           "type": "scatter",
           "x": [
            1083
           ],
           "xaxis": "x",
           "y": [
            381
           ],
           "yaxis": "y"
          }
         ],
         "name": "118268755"
        },
        {
         "data": [
          {
           "hovertemplate": "Recording timestamp=118277105<br>Gaze point X=%{x}<br>Gaze point Y=%{y}<extra></extra>",
           "legendgroup": "",
           "marker": {
            "color": "#636efa",
            "symbol": "circle"
           },
           "mode": "markers",
           "name": "",
           "orientation": "v",
           "showlegend": false,
           "type": "scatter",
           "x": [
            null
           ],
           "xaxis": "x",
           "y": [
            null
           ],
           "yaxis": "y"
          }
         ],
         "name": "118277105"
        },
        {
         "data": [
          {
           "hovertemplate": "Recording timestamp=118285420<br>Gaze point X=%{x}<br>Gaze point Y=%{y}<extra></extra>",
           "legendgroup": "",
           "marker": {
            "color": "#636efa",
            "symbol": "circle"
           },
           "mode": "markers",
           "name": "",
           "orientation": "v",
           "showlegend": false,
           "type": "scatter",
           "x": [
            1146
           ],
           "xaxis": "x",
           "y": [
            319
           ],
           "yaxis": "y"
          }
         ],
         "name": "118285420"
        },
        {
         "data": [
          {
           "hovertemplate": "Recording timestamp=118293756<br>Gaze point X=%{x}<br>Gaze point Y=%{y}<extra></extra>",
           "legendgroup": "",
           "marker": {
            "color": "#636efa",
            "symbol": "circle"
           },
           "mode": "markers",
           "name": "",
           "orientation": "v",
           "showlegend": false,
           "type": "scatter",
           "x": [
            1137
           ],
           "xaxis": "x",
           "y": [
            320
           ],
           "yaxis": "y"
          }
         ],
         "name": "118293756"
        },
        {
         "data": [
          {
           "hovertemplate": "Recording timestamp=118302031<br>Gaze point X=%{x}<br>Gaze point Y=%{y}<extra></extra>",
           "legendgroup": "",
           "marker": {
            "color": "#636efa",
            "symbol": "circle"
           },
           "mode": "markers",
           "name": "",
           "orientation": "v",
           "showlegend": false,
           "type": "scatter",
           "x": [
            1144
           ],
           "xaxis": "x",
           "y": [
            337
           ],
           "yaxis": "y"
          }
         ],
         "name": "118302031"
        },
        {
         "data": [
          {
           "hovertemplate": "Recording timestamp=118310418<br>Gaze point X=%{x}<br>Gaze point Y=%{y}<extra></extra>",
           "legendgroup": "",
           "marker": {
            "color": "#636efa",
            "symbol": "circle"
           },
           "mode": "markers",
           "name": "",
           "orientation": "v",
           "showlegend": false,
           "type": "scatter",
           "x": [
            null
           ],
           "xaxis": "x",
           "y": [
            null
           ],
           "yaxis": "y"
          }
         ],
         "name": "118310418"
        },
        {
         "data": [
          {
           "hovertemplate": "Recording timestamp=118318755<br>Gaze point X=%{x}<br>Gaze point Y=%{y}<extra></extra>",
           "legendgroup": "",
           "marker": {
            "color": "#636efa",
            "symbol": "circle"
           },
           "mode": "markers",
           "name": "",
           "orientation": "v",
           "showlegend": false,
           "type": "scatter",
           "x": [
            1120
           ],
           "xaxis": "x",
           "y": [
            360
           ],
           "yaxis": "y"
          }
         ],
         "name": "118318755"
        },
        {
         "data": [
          {
           "hovertemplate": "Recording timestamp=118327067<br>Gaze point X=%{x}<br>Gaze point Y=%{y}<extra></extra>",
           "legendgroup": "",
           "marker": {
            "color": "#636efa",
            "symbol": "circle"
           },
           "mode": "markers",
           "name": "",
           "orientation": "v",
           "showlegend": false,
           "type": "scatter",
           "x": [
            null
           ],
           "xaxis": "x",
           "y": [
            null
           ],
           "yaxis": "y"
          }
         ],
         "name": "118327067"
        },
        {
         "data": [
          {
           "hovertemplate": "Recording timestamp=118335360<br>Gaze point X=%{x}<br>Gaze point Y=%{y}<extra></extra>",
           "legendgroup": "",
           "marker": {
            "color": "#636efa",
            "symbol": "circle"
           },
           "mode": "markers",
           "name": "",
           "orientation": "v",
           "showlegend": false,
           "type": "scatter",
           "x": [
            1113
           ],
           "xaxis": "x",
           "y": [
            359
           ],
           "yaxis": "y"
          }
         ],
         "name": "118335360"
        },
        {
         "data": [
          {
           "hovertemplate": "Recording timestamp=118343749<br>Gaze point X=%{x}<br>Gaze point Y=%{y}<extra></extra>",
           "legendgroup": "",
           "marker": {
            "color": "#636efa",
            "symbol": "circle"
           },
           "mode": "markers",
           "name": "",
           "orientation": "v",
           "showlegend": false,
           "type": "scatter",
           "x": [
            1115
           ],
           "xaxis": "x",
           "y": [
            358
           ],
           "yaxis": "y"
          }
         ],
         "name": "118343749"
        },
        {
         "data": [
          {
           "hovertemplate": "Recording timestamp=118352089<br>Gaze point X=%{x}<br>Gaze point Y=%{y}<extra></extra>",
           "legendgroup": "",
           "marker": {
            "color": "#636efa",
            "symbol": "circle"
           },
           "mode": "markers",
           "name": "",
           "orientation": "v",
           "showlegend": false,
           "type": "scatter",
           "x": [
            1079
           ],
           "xaxis": "x",
           "y": [
            347
           ],
           "yaxis": "y"
          }
         ],
         "name": "118352089"
        },
        {
         "data": [
          {
           "hovertemplate": "Recording timestamp=118360437<br>Gaze point X=%{x}<br>Gaze point Y=%{y}<extra></extra>",
           "legendgroup": "",
           "marker": {
            "color": "#636efa",
            "symbol": "circle"
           },
           "mode": "markers",
           "name": "",
           "orientation": "v",
           "showlegend": false,
           "type": "scatter",
           "x": [
            1102
           ],
           "xaxis": "x",
           "y": [
            353
           ],
           "yaxis": "y"
          }
         ],
         "name": "118360437"
        },
        {
         "data": [
          {
           "hovertemplate": "Recording timestamp=118368692<br>Gaze point X=%{x}<br>Gaze point Y=%{y}<extra></extra>",
           "legendgroup": "",
           "marker": {
            "color": "#636efa",
            "symbol": "circle"
           },
           "mode": "markers",
           "name": "",
           "orientation": "v",
           "showlegend": false,
           "type": "scatter",
           "x": [
            1101
           ],
           "xaxis": "x",
           "y": [
            387
           ],
           "yaxis": "y"
          }
         ],
         "name": "118368692"
        },
        {
         "data": [
          {
           "hovertemplate": "Recording timestamp=118377030<br>Gaze point X=%{x}<br>Gaze point Y=%{y}<extra></extra>",
           "legendgroup": "",
           "marker": {
            "color": "#636efa",
            "symbol": "circle"
           },
           "mode": "markers",
           "name": "",
           "orientation": "v",
           "showlegend": false,
           "type": "scatter",
           "x": [
            null
           ],
           "xaxis": "x",
           "y": [
            null
           ],
           "yaxis": "y"
          }
         ],
         "name": "118377030"
        },
        {
         "data": [
          {
           "hovertemplate": "Recording timestamp=118385366<br>Gaze point X=%{x}<br>Gaze point Y=%{y}<extra></extra>",
           "legendgroup": "",
           "marker": {
            "color": "#636efa",
            "symbol": "circle"
           },
           "mode": "markers",
           "name": "",
           "orientation": "v",
           "showlegend": false,
           "type": "scatter",
           "x": [
            null
           ],
           "xaxis": "x",
           "y": [
            null
           ],
           "yaxis": "y"
          }
         ],
         "name": "118385366"
        },
        {
         "data": [
          {
           "hovertemplate": "Recording timestamp=118393690<br>Gaze point X=%{x}<br>Gaze point Y=%{y}<extra></extra>",
           "legendgroup": "",
           "marker": {
            "color": "#636efa",
            "symbol": "circle"
           },
           "mode": "markers",
           "name": "",
           "orientation": "v",
           "showlegend": false,
           "type": "scatter",
           "x": [
            1119
           ],
           "xaxis": "x",
           "y": [
            356
           ],
           "yaxis": "y"
          }
         ],
         "name": "118393690"
        },
        {
         "data": [
          {
           "hovertemplate": "Recording timestamp=118402108<br>Gaze point X=%{x}<br>Gaze point Y=%{y}<extra></extra>",
           "legendgroup": "",
           "marker": {
            "color": "#636efa",
            "symbol": "circle"
           },
           "mode": "markers",
           "name": "",
           "orientation": "v",
           "showlegend": false,
           "type": "scatter",
           "x": [
            1104
           ],
           "xaxis": "x",
           "y": [
            359
           ],
           "yaxis": "y"
          }
         ],
         "name": "118402108"
        },
        {
         "data": [
          {
           "hovertemplate": "Recording timestamp=118410354<br>Gaze point X=%{x}<br>Gaze point Y=%{y}<extra></extra>",
           "legendgroup": "",
           "marker": {
            "color": "#636efa",
            "symbol": "circle"
           },
           "mode": "markers",
           "name": "",
           "orientation": "v",
           "showlegend": false,
           "type": "scatter",
           "x": [
            null
           ],
           "xaxis": "x",
           "y": [
            null
           ],
           "yaxis": "y"
          }
         ],
         "name": "118410354"
        },
        {
         "data": [
          {
           "hovertemplate": "Recording timestamp=118418746<br>Gaze point X=%{x}<br>Gaze point Y=%{y}<extra></extra>",
           "legendgroup": "",
           "marker": {
            "color": "#636efa",
            "symbol": "circle"
           },
           "mode": "markers",
           "name": "",
           "orientation": "v",
           "showlegend": false,
           "type": "scatter",
           "x": [
            1086
           ],
           "xaxis": "x",
           "y": [
            337
           ],
           "yaxis": "y"
          }
         ],
         "name": "118418746"
        }
       ],
       "layout": {
        "legend": {
         "tracegroupgap": 0
        },
        "margin": {
         "t": 60
        },
        "sliders": [
         {
          "active": 0,
          "currentvalue": {
           "prefix": "Recording timestamp="
          },
          "len": 0.9,
          "pad": {
           "b": 10,
           "t": 60
          },
          "steps": [
           {
            "args": [
             [
              "114427347"
             ],
             {
              "frame": {
               "duration": 0,
               "redraw": false
              },
              "fromcurrent": true,
              "mode": "immediate",
              "transition": {
               "duration": 0,
               "easing": "linear"
              }
             }
            ],
            "label": "114427347",
            "method": "animate"
           },
           {
            "args": [
             [
              "114435739"
             ],
             {
              "frame": {
               "duration": 0,
               "redraw": false
              },
              "fromcurrent": true,
              "mode": "immediate",
              "transition": {
               "duration": 0,
               "easing": "linear"
              }
             }
            ],
            "label": "114435739",
            "method": "animate"
           },
           {
            "args": [
             [
              "114444098"
             ],
             {
              "frame": {
               "duration": 0,
               "redraw": false
              },
              "fromcurrent": true,
              "mode": "immediate",
              "transition": {
               "duration": 0,
               "easing": "linear"
              }
             }
            ],
            "label": "114444098",
            "method": "animate"
           },
           {
            "args": [
             [
              "114452342"
             ],
             {
              "frame": {
               "duration": 0,
               "redraw": false
              },
              "fromcurrent": true,
              "mode": "immediate",
              "transition": {
               "duration": 0,
               "easing": "linear"
              }
             }
            ],
            "label": "114452342",
            "method": "animate"
           },
           {
            "args": [
             [
              "114460676"
             ],
             {
              "frame": {
               "duration": 0,
               "redraw": false
              },
              "fromcurrent": true,
              "mode": "immediate",
              "transition": {
               "duration": 0,
               "easing": "linear"
              }
             }
            ],
            "label": "114460676",
            "method": "animate"
           },
           {
            "args": [
             [
              "114469009"
             ],
             {
              "frame": {
               "duration": 0,
               "redraw": false
              },
              "fromcurrent": true,
              "mode": "immediate",
              "transition": {
               "duration": 0,
               "easing": "linear"
              }
             }
            ],
            "label": "114469009",
            "method": "animate"
           },
           {
            "args": [
             [
              "114477345"
             ],
             {
              "frame": {
               "duration": 0,
               "redraw": false
              },
              "fromcurrent": true,
              "mode": "immediate",
              "transition": {
               "duration": 0,
               "easing": "linear"
              }
             }
            ],
            "label": "114477345",
            "method": "animate"
           },
           {
            "args": [
             [
              "114485736"
             ],
             {
              "frame": {
               "duration": 0,
               "redraw": false
              },
              "fromcurrent": true,
              "mode": "immediate",
              "transition": {
               "duration": 0,
               "easing": "linear"
              }
             }
            ],
            "label": "114485736",
            "method": "animate"
           },
           {
            "args": [
             [
              "114494008"
             ],
             {
              "frame": {
               "duration": 0,
               "redraw": false
              },
              "fromcurrent": true,
              "mode": "immediate",
              "transition": {
               "duration": 0,
               "easing": "linear"
              }
             }
            ],
            "label": "114494008",
            "method": "animate"
           },
           {
            "args": [
             [
              "114502340"
             ],
             {
              "frame": {
               "duration": 0,
               "redraw": false
              },
              "fromcurrent": true,
              "mode": "immediate",
              "transition": {
               "duration": 0,
               "easing": "linear"
              }
             }
            ],
            "label": "114502340",
            "method": "animate"
           },
           {
            "args": [
             [
              "114510708"
             ],
             {
              "frame": {
               "duration": 0,
               "redraw": false
              },
              "fromcurrent": true,
              "mode": "immediate",
              "transition": {
               "duration": 0,
               "easing": "linear"
              }
             }
            ],
            "label": "114510708",
            "method": "animate"
           },
           {
            "args": [
             [
              "114519038"
             ],
             {
              "frame": {
               "duration": 0,
               "redraw": false
              },
              "fromcurrent": true,
              "mode": "immediate",
              "transition": {
               "duration": 0,
               "easing": "linear"
              }
             }
            ],
            "label": "114519038",
            "method": "animate"
           },
           {
            "args": [
             [
              "114527338"
             ],
             {
              "frame": {
               "duration": 0,
               "redraw": false
              },
              "fromcurrent": true,
              "mode": "immediate",
              "transition": {
               "duration": 0,
               "easing": "linear"
              }
             }
            ],
            "label": "114527338",
            "method": "animate"
           },
           {
            "args": [
             [
              "114535669"
             ],
             {
              "frame": {
               "duration": 0,
               "redraw": false
              },
              "fromcurrent": true,
              "mode": "immediate",
              "transition": {
               "duration": 0,
               "easing": "linear"
              }
             }
            ],
            "label": "114535669",
            "method": "animate"
           },
           {
            "args": [
             [
              "114544008"
             ],
             {
              "frame": {
               "duration": 0,
               "redraw": false
              },
              "fromcurrent": true,
              "mode": "immediate",
              "transition": {
               "duration": 0,
               "easing": "linear"
              }
             }
            ],
            "label": "114544008",
            "method": "animate"
           },
           {
            "args": [
             [
              "114552392"
             ],
             {
              "frame": {
               "duration": 0,
               "redraw": false
              },
              "fromcurrent": true,
              "mode": "immediate",
              "transition": {
               "duration": 0,
               "easing": "linear"
              }
             }
            ],
            "label": "114552392",
            "method": "animate"
           },
           {
            "args": [
             [
              "114560658"
             ],
             {
              "frame": {
               "duration": 0,
               "redraw": false
              },
              "fromcurrent": true,
              "mode": "immediate",
              "transition": {
               "duration": 0,
               "easing": "linear"
              }
             }
            ],
            "label": "114560658",
            "method": "animate"
           },
           {
            "args": [
             [
              "114568993"
             ],
             {
              "frame": {
               "duration": 0,
               "redraw": false
              },
              "fromcurrent": true,
              "mode": "immediate",
              "transition": {
               "duration": 0,
               "easing": "linear"
              }
             }
            ],
            "label": "114568993",
            "method": "animate"
           },
           {
            "args": [
             [
              "114577325"
             ],
             {
              "frame": {
               "duration": 0,
               "redraw": false
              },
              "fromcurrent": true,
              "mode": "immediate",
              "transition": {
               "duration": 0,
               "easing": "linear"
              }
             }
            ],
            "label": "114577325",
            "method": "animate"
           },
           {
            "args": [
             [
              "114585666"
             ],
             {
              "frame": {
               "duration": 0,
               "redraw": false
              },
              "fromcurrent": true,
              "mode": "immediate",
              "transition": {
               "duration": 0,
               "easing": "linear"
              }
             }
            ],
            "label": "114585666",
            "method": "animate"
           },
           {
            "args": [
             [
              "114593999"
             ],
             {
              "frame": {
               "duration": 0,
               "redraw": false
              },
              "fromcurrent": true,
              "mode": "immediate",
              "transition": {
               "duration": 0,
               "easing": "linear"
              }
             }
            ],
            "label": "114593999",
            "method": "animate"
           },
           {
            "args": [
             [
              "114602330"
             ],
             {
              "frame": {
               "duration": 0,
               "redraw": false
              },
              "fromcurrent": true,
              "mode": "immediate",
              "transition": {
               "duration": 0,
               "easing": "linear"
              }
             }
            ],
            "label": "114602330",
            "method": "animate"
           },
           {
            "args": [
             [
              "114610664"
             ],
             {
              "frame": {
               "duration": 0,
               "redraw": false
              },
              "fromcurrent": true,
              "mode": "immediate",
              "transition": {
               "duration": 0,
               "easing": "linear"
              }
             }
            ],
            "label": "114610664",
            "method": "animate"
           },
           {
            "args": [
             [
              "114618997"
             ],
             {
              "frame": {
               "duration": 0,
               "redraw": false
              },
              "fromcurrent": true,
              "mode": "immediate",
              "transition": {
               "duration": 0,
               "easing": "linear"
              }
             }
            ],
            "label": "114618997",
            "method": "animate"
           },
           {
            "args": [
             [
              "114627387"
             ],
             {
              "frame": {
               "duration": 0,
               "redraw": false
              },
              "fromcurrent": true,
              "mode": "immediate",
              "transition": {
               "duration": 0,
               "easing": "linear"
              }
             }
            ],
            "label": "114627387",
            "method": "animate"
           },
           {
            "args": [
             [
              "114635663"
             ],
             {
              "frame": {
               "duration": 0,
               "redraw": false
              },
              "fromcurrent": true,
              "mode": "immediate",
              "transition": {
               "duration": 0,
               "easing": "linear"
              }
             }
            ],
            "label": "114635663",
            "method": "animate"
           },
           {
            "args": [
             [
              "114643998"
             ],
             {
              "frame": {
               "duration": 0,
               "redraw": false
              },
              "fromcurrent": true,
              "mode": "immediate",
              "transition": {
               "duration": 0,
               "easing": "linear"
              }
             }
            ],
            "label": "114643998",
            "method": "animate"
           },
           {
            "args": [
             [
              "114652332"
             ],
             {
              "frame": {
               "duration": 0,
               "redraw": false
              },
              "fromcurrent": true,
              "mode": "immediate",
              "transition": {
               "duration": 0,
               "easing": "linear"
              }
             }
            ],
            "label": "114652332",
            "method": "animate"
           },
           {
            "args": [
             [
              "114660662"
             ],
             {
              "frame": {
               "duration": 0,
               "redraw": false
              },
              "fromcurrent": true,
              "mode": "immediate",
              "transition": {
               "duration": 0,
               "easing": "linear"
              }
             }
            ],
            "label": "114660662",
            "method": "animate"
           },
           {
            "args": [
             [
              "114668993"
             ],
             {
              "frame": {
               "duration": 0,
               "redraw": false
              },
              "fromcurrent": true,
              "mode": "immediate",
              "transition": {
               "duration": 0,
               "easing": "linear"
              }
             }
            ],
            "label": "114668993",
            "method": "animate"
           },
           {
            "args": [
             [
              "114677327"
             ],
             {
              "frame": {
               "duration": 0,
               "redraw": false
              },
              "fromcurrent": true,
              "mode": "immediate",
              "transition": {
               "duration": 0,
               "easing": "linear"
              }
             }
            ],
            "label": "114677327",
            "method": "animate"
           },
           {
            "args": [
             [
              "114685714"
             ],
             {
              "frame": {
               "duration": 0,
               "redraw": false
              },
              "fromcurrent": true,
              "mode": "immediate",
              "transition": {
               "duration": 0,
               "easing": "linear"
              }
             }
            ],
            "label": "114685714",
            "method": "animate"
           },
           {
            "args": [
             [
              "114694049"
             ],
             {
              "frame": {
               "duration": 0,
               "redraw": false
              },
              "fromcurrent": true,
              "mode": "immediate",
              "transition": {
               "duration": 0,
               "easing": "linear"
              }
             }
            ],
            "label": "114694049",
            "method": "animate"
           },
           {
            "args": [
             [
              "114702324"
             ],
             {
              "frame": {
               "duration": 0,
               "redraw": false
              },
              "fromcurrent": true,
              "mode": "immediate",
              "transition": {
               "duration": 0,
               "easing": "linear"
              }
             }
            ],
            "label": "114702324",
            "method": "animate"
           },
           {
            "args": [
             [
              "114710659"
             ],
             {
              "frame": {
               "duration": 0,
               "redraw": false
              },
              "fromcurrent": true,
              "mode": "immediate",
              "transition": {
               "duration": 0,
               "easing": "linear"
              }
             }
            ],
            "label": "114710659",
            "method": "animate"
           },
           {
            "args": [
             [
              "114718993"
             ],
             {
              "frame": {
               "duration": 0,
               "redraw": false
              },
              "fromcurrent": true,
              "mode": "immediate",
              "transition": {
               "duration": 0,
               "easing": "linear"
              }
             }
            ],
            "label": "114718993",
            "method": "animate"
           },
           {
            "args": [
             [
              "114727324"
             ],
             {
              "frame": {
               "duration": 0,
               "redraw": false
              },
              "fromcurrent": true,
              "mode": "immediate",
              "transition": {
               "duration": 0,
               "easing": "linear"
              }
             }
            ],
            "label": "114727324",
            "method": "animate"
           },
           {
            "args": [
             [
              "114735664"
             ],
             {
              "frame": {
               "duration": 0,
               "redraw": false
              },
              "fromcurrent": true,
              "mode": "immediate",
              "transition": {
               "duration": 0,
               "easing": "linear"
              }
             }
            ],
            "label": "114735664",
            "method": "animate"
           },
           {
            "args": [
             [
              "114743992"
             ],
             {
              "frame": {
               "duration": 0,
               "redraw": false
              },
              "fromcurrent": true,
              "mode": "immediate",
              "transition": {
               "duration": 0,
               "easing": "linear"
              }
             }
            ],
            "label": "114743992",
            "method": "animate"
           },
           {
            "args": [
             [
              "114752374"
             ],
             {
              "frame": {
               "duration": 0,
               "redraw": false
              },
              "fromcurrent": true,
              "mode": "immediate",
              "transition": {
               "duration": 0,
               "easing": "linear"
              }
             }
            ],
            "label": "114752374",
            "method": "animate"
           },
           {
            "args": [
             [
              "114760665"
             ],
             {
              "frame": {
               "duration": 0,
               "redraw": false
              },
              "fromcurrent": true,
              "mode": "immediate",
              "transition": {
               "duration": 0,
               "easing": "linear"
              }
             }
            ],
            "label": "114760665",
            "method": "animate"
           },
           {
            "args": [
             [
              "114768986"
             ],
             {
              "frame": {
               "duration": 0,
               "redraw": false
              },
              "fromcurrent": true,
              "mode": "immediate",
              "transition": {
               "duration": 0,
               "easing": "linear"
              }
             }
            ],
            "label": "114768986",
            "method": "animate"
           },
           {
            "args": [
             [
              "114777318"
             ],
             {
              "frame": {
               "duration": 0,
               "redraw": false
              },
              "fromcurrent": true,
              "mode": "immediate",
              "transition": {
               "duration": 0,
               "easing": "linear"
              }
             }
            ],
            "label": "114777318",
            "method": "animate"
           },
           {
            "args": [
             [
              "114785661"
             ],
             {
              "frame": {
               "duration": 0,
               "redraw": false
              },
              "fromcurrent": true,
              "mode": "immediate",
              "transition": {
               "duration": 0,
               "easing": "linear"
              }
             }
            ],
            "label": "114785661",
            "method": "animate"
           },
           {
            "args": [
             [
              "114793985"
             ],
             {
              "frame": {
               "duration": 0,
               "redraw": false
              },
              "fromcurrent": true,
              "mode": "immediate",
              "transition": {
               "duration": 0,
               "easing": "linear"
              }
             }
            ],
            "label": "114793985",
            "method": "animate"
           },
           {
            "args": [
             [
              "114802372"
             ],
             {
              "frame": {
               "duration": 0,
               "redraw": false
              },
              "fromcurrent": true,
              "mode": "immediate",
              "transition": {
               "duration": 0,
               "easing": "linear"
              }
             }
            ],
            "label": "114802372",
            "method": "animate"
           },
           {
            "args": [
             [
              "114810650"
             ],
             {
              "frame": {
               "duration": 0,
               "redraw": false
              },
              "fromcurrent": true,
              "mode": "immediate",
              "transition": {
               "duration": 0,
               "easing": "linear"
              }
             }
            ],
            "label": "114810650",
            "method": "animate"
           },
           {
            "args": [
             [
              "114819042"
             ],
             {
              "frame": {
               "duration": 0,
               "redraw": false
              },
              "fromcurrent": true,
              "mode": "immediate",
              "transition": {
               "duration": 0,
               "easing": "linear"
              }
             }
            ],
            "label": "114819042",
            "method": "animate"
           },
           {
            "args": [
             [
              "114827372"
             ],
             {
              "frame": {
               "duration": 0,
               "redraw": false
              },
              "fromcurrent": true,
              "mode": "immediate",
              "transition": {
               "duration": 0,
               "easing": "linear"
              }
             }
            ],
            "label": "114827372",
            "method": "animate"
           },
           {
            "args": [
             [
              "114835716"
             ],
             {
              "frame": {
               "duration": 0,
               "redraw": false
              },
              "fromcurrent": true,
              "mode": "immediate",
              "transition": {
               "duration": 0,
               "easing": "linear"
              }
             }
            ],
            "label": "114835716",
            "method": "animate"
           },
           {
            "args": [
             [
              "114844035"
             ],
             {
              "frame": {
               "duration": 0,
               "redraw": false
              },
              "fromcurrent": true,
              "mode": "immediate",
              "transition": {
               "duration": 0,
               "easing": "linear"
              }
             }
            ],
            "label": "114844035",
            "method": "animate"
           },
           {
            "args": [
             [
              "114852312"
             ],
             {
              "frame": {
               "duration": 0,
               "redraw": false
              },
              "fromcurrent": true,
              "mode": "immediate",
              "transition": {
               "duration": 0,
               "easing": "linear"
              }
             }
            ],
            "label": "114852312",
            "method": "animate"
           },
           {
            "args": [
             [
              "114860645"
             ],
             {
              "frame": {
               "duration": 0,
               "redraw": false
              },
              "fromcurrent": true,
              "mode": "immediate",
              "transition": {
               "duration": 0,
               "easing": "linear"
              }
             }
            ],
            "label": "114860645",
            "method": "animate"
           },
           {
            "args": [
             [
              "114868975"
             ],
             {
              "frame": {
               "duration": 0,
               "redraw": false
              },
              "fromcurrent": true,
              "mode": "immediate",
              "transition": {
               "duration": 0,
               "easing": "linear"
              }
             }
            ],
            "label": "114868975",
            "method": "animate"
           },
           {
            "args": [
             [
              "114877309"
             ],
             {
              "frame": {
               "duration": 0,
               "redraw": false
              },
              "fromcurrent": true,
              "mode": "immediate",
              "transition": {
               "duration": 0,
               "easing": "linear"
              }
             }
            ],
            "label": "114877309",
            "method": "animate"
           },
           {
            "args": [
             [
              "114885645"
             ],
             {
              "frame": {
               "duration": 0,
               "redraw": false
              },
              "fromcurrent": true,
              "mode": "immediate",
              "transition": {
               "duration": 0,
               "easing": "linear"
              }
             }
            ],
            "label": "114885645",
            "method": "animate"
           },
           {
            "args": [
             [
              "114893980"
             ],
             {
              "frame": {
               "duration": 0,
               "redraw": false
              },
              "fromcurrent": true,
              "mode": "immediate",
              "transition": {
               "duration": 0,
               "easing": "linear"
              }
             }
            ],
            "label": "114893980",
            "method": "animate"
           },
           {
            "args": [
             [
              "114902307"
             ],
             {
              "frame": {
               "duration": 0,
               "redraw": false
              },
              "fromcurrent": true,
              "mode": "immediate",
              "transition": {
               "duration": 0,
               "easing": "linear"
              }
             }
            ],
            "label": "114902307",
            "method": "animate"
           },
           {
            "args": [
             [
              "114910645"
             ],
             {
              "frame": {
               "duration": 0,
               "redraw": false
              },
              "fromcurrent": true,
              "mode": "immediate",
              "transition": {
               "duration": 0,
               "easing": "linear"
              }
             }
            ],
            "label": "114910645",
            "method": "animate"
           },
           {
            "args": [
             [
              "114918972"
             ],
             {
              "frame": {
               "duration": 0,
               "redraw": false
              },
              "fromcurrent": true,
              "mode": "immediate",
              "transition": {
               "duration": 0,
               "easing": "linear"
              }
             }
            ],
            "label": "114918972",
            "method": "animate"
           },
           {
            "args": [
             [
              "114927340"
             ],
             {
              "frame": {
               "duration": 0,
               "redraw": false
              },
              "fromcurrent": true,
              "mode": "immediate",
              "transition": {
               "duration": 0,
               "easing": "linear"
              }
             }
            ],
            "label": "114927340",
            "method": "animate"
           },
           {
            "args": [
             [
              "114935639"
             ],
             {
              "frame": {
               "duration": 0,
               "redraw": false
              },
              "fromcurrent": true,
              "mode": "immediate",
              "transition": {
               "duration": 0,
               "easing": "linear"
              }
             }
            ],
            "label": "114935639",
            "method": "animate"
           },
           {
            "args": [
             [
              "114943971"
             ],
             {
              "frame": {
               "duration": 0,
               "redraw": false
              },
              "fromcurrent": true,
              "mode": "immediate",
              "transition": {
               "duration": 0,
               "easing": "linear"
              }
             }
            ],
            "label": "114943971",
            "method": "animate"
           },
           {
            "args": [
             [
              "114952300"
             ],
             {
              "frame": {
               "duration": 0,
               "redraw": false
              },
              "fromcurrent": true,
              "mode": "immediate",
              "transition": {
               "duration": 0,
               "easing": "linear"
              }
             }
            ],
            "label": "114952300",
            "method": "animate"
           },
           {
            "args": [
             [
              "114960629"
             ],
             {
              "frame": {
               "duration": 0,
               "redraw": false
              },
              "fromcurrent": true,
              "mode": "immediate",
              "transition": {
               "duration": 0,
               "easing": "linear"
              }
             }
            ],
            "label": "114960629",
            "method": "animate"
           },
           {
            "args": [
             [
              "114968961"
             ],
             {
              "frame": {
               "duration": 0,
               "redraw": false
              },
              "fromcurrent": true,
              "mode": "immediate",
              "transition": {
               "duration": 0,
               "easing": "linear"
              }
             }
            ],
            "label": "114968961",
            "method": "animate"
           },
           {
            "args": [
             [
              "114977295"
             ],
             {
              "frame": {
               "duration": 0,
               "redraw": false
              },
              "fromcurrent": true,
              "mode": "immediate",
              "transition": {
               "duration": 0,
               "easing": "linear"
              }
             }
            ],
            "label": "114977295",
            "method": "animate"
           },
           {
            "args": [
             [
              "114985698"
             ],
             {
              "frame": {
               "duration": 0,
               "redraw": false
              },
              "fromcurrent": true,
              "mode": "immediate",
              "transition": {
               "duration": 0,
               "easing": "linear"
              }
             }
            ],
            "label": "114985698",
            "method": "animate"
           },
           {
            "args": [
             [
              "114993974"
             ],
             {
              "frame": {
               "duration": 0,
               "redraw": false
              },
              "fromcurrent": true,
              "mode": "immediate",
              "transition": {
               "duration": 0,
               "easing": "linear"
              }
             }
            ],
            "label": "114993974",
            "method": "animate"
           },
           {
            "args": [
             [
              "115002300"
             ],
             {
              "frame": {
               "duration": 0,
               "redraw": false
              },
              "fromcurrent": true,
              "mode": "immediate",
              "transition": {
               "duration": 0,
               "easing": "linear"
              }
             }
            ],
            "label": "115002300",
            "method": "animate"
           },
           {
            "args": [
             [
              "115010634"
             ],
             {
              "frame": {
               "duration": 0,
               "redraw": false
              },
              "fromcurrent": true,
              "mode": "immediate",
              "transition": {
               "duration": 0,
               "easing": "linear"
              }
             }
            ],
            "label": "115010634",
            "method": "animate"
           },
           {
            "args": [
             [
              "115019025"
             ],
             {
              "frame": {
               "duration": 0,
               "redraw": false
              },
              "fromcurrent": true,
              "mode": "immediate",
              "transition": {
               "duration": 0,
               "easing": "linear"
              }
             }
            ],
            "label": "115019025",
            "method": "animate"
           },
           {
            "args": [
             [
              "115027297"
             ],
             {
              "frame": {
               "duration": 0,
               "redraw": false
              },
              "fromcurrent": true,
              "mode": "immediate",
              "transition": {
               "duration": 0,
               "easing": "linear"
              }
             }
            ],
            "label": "115027297",
            "method": "animate"
           },
           {
            "args": [
             [
              "115035630"
             ],
             {
              "frame": {
               "duration": 0,
               "redraw": false
              },
              "fromcurrent": true,
              "mode": "immediate",
              "transition": {
               "duration": 0,
               "easing": "linear"
              }
             }
            ],
            "label": "115035630",
            "method": "animate"
           },
           {
            "args": [
             [
              "115043965"
             ],
             {
              "frame": {
               "duration": 0,
               "redraw": false
              },
              "fromcurrent": true,
              "mode": "immediate",
              "transition": {
               "duration": 0,
               "easing": "linear"
              }
             }
            ],
            "label": "115043965",
            "method": "animate"
           },
           {
            "args": [
             [
              "115052299"
             ],
             {
              "frame": {
               "duration": 0,
               "redraw": false
              },
              "fromcurrent": true,
              "mode": "immediate",
              "transition": {
               "duration": 0,
               "easing": "linear"
              }
             }
            ],
            "label": "115052299",
            "method": "animate"
           },
           {
            "args": [
             [
              "115060630"
             ],
             {
              "frame": {
               "duration": 0,
               "redraw": false
              },
              "fromcurrent": true,
              "mode": "immediate",
              "transition": {
               "duration": 0,
               "easing": "linear"
              }
             }
            ],
            "label": "115060630",
            "method": "animate"
           },
           {
            "args": [
             [
              "115068964"
             ],
             {
              "frame": {
               "duration": 0,
               "redraw": false
              },
              "fromcurrent": true,
              "mode": "immediate",
              "transition": {
               "duration": 0,
               "easing": "linear"
              }
             }
            ],
            "label": "115068964",
            "method": "animate"
           },
           {
            "args": [
             [
              "115077290"
             ],
             {
              "frame": {
               "duration": 0,
               "redraw": false
              },
              "fromcurrent": true,
              "mode": "immediate",
              "transition": {
               "duration": 0,
               "easing": "linear"
              }
             }
            ],
            "label": "115077290",
            "method": "animate"
           },
           {
            "args": [
             [
              "115085628"
             ],
             {
              "frame": {
               "duration": 0,
               "redraw": false
              },
              "fromcurrent": true,
              "mode": "immediate",
              "transition": {
               "duration": 0,
               "easing": "linear"
              }
             }
            ],
            "label": "115085628",
            "method": "animate"
           },
           {
            "args": [
             [
              "115094019"
             ],
             {
              "frame": {
               "duration": 0,
               "redraw": false
              },
              "fromcurrent": true,
              "mode": "immediate",
              "transition": {
               "duration": 0,
               "easing": "linear"
              }
             }
            ],
            "label": "115094019",
            "method": "animate"
           },
           {
            "args": [
             [
              "115102292"
             ],
             {
              "frame": {
               "duration": 0,
               "redraw": false
              },
              "fromcurrent": true,
              "mode": "immediate",
              "transition": {
               "duration": 0,
               "easing": "linear"
              }
             }
            ],
            "label": "115102292",
            "method": "animate"
           },
           {
            "args": [
             [
              "115110624"
             ],
             {
              "frame": {
               "duration": 0,
               "redraw": false
              },
              "fromcurrent": true,
              "mode": "immediate",
              "transition": {
               "duration": 0,
               "easing": "linear"
              }
             }
            ],
            "label": "115110624",
            "method": "animate"
           },
           {
            "args": [
             [
              "115118958"
             ],
             {
              "frame": {
               "duration": 0,
               "redraw": false
              },
              "fromcurrent": true,
              "mode": "immediate",
              "transition": {
               "duration": 0,
               "easing": "linear"
              }
             }
            ],
            "label": "115118958",
            "method": "animate"
           },
           {
            "args": [
             [
              "115127290"
             ],
             {
              "frame": {
               "duration": 0,
               "redraw": false
              },
              "fromcurrent": true,
              "mode": "immediate",
              "transition": {
               "duration": 0,
               "easing": "linear"
              }
             }
            ],
            "label": "115127290",
            "method": "animate"
           },
           {
            "args": [
             [
              "115135627"
             ],
             {
              "frame": {
               "duration": 0,
               "redraw": false
              },
              "fromcurrent": true,
              "mode": "immediate",
              "transition": {
               "duration": 0,
               "easing": "linear"
              }
             }
            ],
            "label": "115135627",
            "method": "animate"
           },
           {
            "args": [
             [
              "115143972"
             ],
             {
              "frame": {
               "duration": 0,
               "redraw": false
              },
              "fromcurrent": true,
              "mode": "immediate",
              "transition": {
               "duration": 0,
               "easing": "linear"
              }
             }
            ],
            "label": "115143972",
            "method": "animate"
           },
           {
            "args": [
             [
              "115152296"
             ],
             {
              "frame": {
               "duration": 0,
               "redraw": false
              },
              "fromcurrent": true,
              "mode": "immediate",
              "transition": {
               "duration": 0,
               "easing": "linear"
              }
             }
            ],
            "label": "115152296",
            "method": "animate"
           },
           {
            "args": [
             [
              "115160621"
             ],
             {
              "frame": {
               "duration": 0,
               "redraw": false
              },
              "fromcurrent": true,
              "mode": "immediate",
              "transition": {
               "duration": 0,
               "easing": "linear"
              }
             }
            ],
            "label": "115160621",
            "method": "animate"
           },
           {
            "args": [
             [
              "115168955"
             ],
             {
              "frame": {
               "duration": 0,
               "redraw": false
              },
              "fromcurrent": true,
              "mode": "immediate",
              "transition": {
               "duration": 0,
               "easing": "linear"
              }
             }
            ],
            "label": "115168955",
            "method": "animate"
           },
           {
            "args": [
             [
              "115177276"
             ],
             {
              "frame": {
               "duration": 0,
               "redraw": false
              },
              "fromcurrent": true,
              "mode": "immediate",
              "transition": {
               "duration": 0,
               "easing": "linear"
              }
             }
            ],
            "label": "115177276",
            "method": "animate"
           },
           {
            "args": [
             [
              "115185610"
             ],
             {
              "frame": {
               "duration": 0,
               "redraw": false
              },
              "fromcurrent": true,
              "mode": "immediate",
              "transition": {
               "duration": 0,
               "easing": "linear"
              }
             }
            ],
            "label": "115185610",
            "method": "animate"
           },
           {
            "args": [
             [
              "115193975"
             ],
             {
              "frame": {
               "duration": 0,
               "redraw": false
              },
              "fromcurrent": true,
              "mode": "immediate",
              "transition": {
               "duration": 0,
               "easing": "linear"
              }
             }
            ],
            "label": "115193975",
            "method": "animate"
           },
           {
            "args": [
             [
              "115202335"
             ],
             {
              "frame": {
               "duration": 0,
               "redraw": false
              },
              "fromcurrent": true,
              "mode": "immediate",
              "transition": {
               "duration": 0,
               "easing": "linear"
              }
             }
            ],
            "label": "115202335",
            "method": "animate"
           },
           {
            "args": [
             [
              "115210692"
             ],
             {
              "frame": {
               "duration": 0,
               "redraw": false
              },
              "fromcurrent": true,
              "mode": "immediate",
              "transition": {
               "duration": 0,
               "easing": "linear"
              }
             }
            ],
            "label": "115210692",
            "method": "animate"
           },
           {
            "args": [
             [
              "115218951"
             ],
             {
              "frame": {
               "duration": 0,
               "redraw": false
              },
              "fromcurrent": true,
              "mode": "immediate",
              "transition": {
               "duration": 0,
               "easing": "linear"
              }
             }
            ],
            "label": "115218951",
            "method": "animate"
           },
           {
            "args": [
             [
              "115227285"
             ],
             {
              "frame": {
               "duration": 0,
               "redraw": false
              },
              "fromcurrent": true,
              "mode": "immediate",
              "transition": {
               "duration": 0,
               "easing": "linear"
              }
             }
            ],
            "label": "115227285",
            "method": "animate"
           },
           {
            "args": [
             [
              "115235614"
             ],
             {
              "frame": {
               "duration": 0,
               "redraw": false
              },
              "fromcurrent": true,
              "mode": "immediate",
              "transition": {
               "duration": 0,
               "easing": "linear"
              }
             }
            ],
            "label": "115235614",
            "method": "animate"
           },
           {
            "args": [
             [
              "115244010"
             ],
             {
              "frame": {
               "duration": 0,
               "redraw": false
              },
              "fromcurrent": true,
              "mode": "immediate",
              "transition": {
               "duration": 0,
               "easing": "linear"
              }
             }
            ],
            "label": "115244010",
            "method": "animate"
           },
           {
            "args": [
             [
              "115252285"
             ],
             {
              "frame": {
               "duration": 0,
               "redraw": false
              },
              "fromcurrent": true,
              "mode": "immediate",
              "transition": {
               "duration": 0,
               "easing": "linear"
              }
             }
            ],
            "label": "115252285",
            "method": "animate"
           },
           {
            "args": [
             [
              "115260615"
             ],
             {
              "frame": {
               "duration": 0,
               "redraw": false
              },
              "fromcurrent": true,
              "mode": "immediate",
              "transition": {
               "duration": 0,
               "easing": "linear"
              }
             }
            ],
            "label": "115260615",
            "method": "animate"
           },
           {
            "args": [
             [
              "115268947"
             ],
             {
              "frame": {
               "duration": 0,
               "redraw": false
              },
              "fromcurrent": true,
              "mode": "immediate",
              "transition": {
               "duration": 0,
               "easing": "linear"
              }
             }
            ],
            "label": "115268947",
            "method": "animate"
           },
           {
            "args": [
             [
              "115277280"
             ],
             {
              "frame": {
               "duration": 0,
               "redraw": false
              },
              "fromcurrent": true,
              "mode": "immediate",
              "transition": {
               "duration": 0,
               "easing": "linear"
              }
             }
            ],
            "label": "115277280",
            "method": "animate"
           },
           {
            "args": [
             [
              "115285615"
             ],
             {
              "frame": {
               "duration": 0,
               "redraw": false
              },
              "fromcurrent": true,
              "mode": "immediate",
              "transition": {
               "duration": 0,
               "easing": "linear"
              }
             }
            ],
            "label": "115285615",
            "method": "animate"
           },
           {
            "args": [
             [
              "115293950"
             ],
             {
              "frame": {
               "duration": 0,
               "redraw": false
              },
              "fromcurrent": true,
              "mode": "immediate",
              "transition": {
               "duration": 0,
               "easing": "linear"
              }
             }
            ],
            "label": "115293950",
            "method": "animate"
           },
           {
            "args": [
             [
              "115302279"
             ],
             {
              "frame": {
               "duration": 0,
               "redraw": false
              },
              "fromcurrent": true,
              "mode": "immediate",
              "transition": {
               "duration": 0,
               "easing": "linear"
              }
             }
            ],
            "label": "115302279",
            "method": "animate"
           },
           {
            "args": [
             [
              "115310609"
             ],
             {
              "frame": {
               "duration": 0,
               "redraw": false
              },
              "fromcurrent": true,
              "mode": "immediate",
              "transition": {
               "duration": 0,
               "easing": "linear"
              }
             }
            ],
            "label": "115310609",
            "method": "animate"
           },
           {
            "args": [
             [
              "115318942"
             ],
             {
              "frame": {
               "duration": 0,
               "redraw": false
              },
              "fromcurrent": true,
              "mode": "immediate",
              "transition": {
               "duration": 0,
               "easing": "linear"
              }
             }
            ],
            "label": "115318942",
            "method": "animate"
           },
           {
            "args": [
             [
              "115327277"
             ],
             {
              "frame": {
               "duration": 0,
               "redraw": false
              },
              "fromcurrent": true,
              "mode": "immediate",
              "transition": {
               "duration": 0,
               "easing": "linear"
              }
             }
            ],
            "label": "115327277",
            "method": "animate"
           },
           {
            "args": [
             [
              "115335610"
             ],
             {
              "frame": {
               "duration": 0,
               "redraw": false
              },
              "fromcurrent": true,
              "mode": "immediate",
              "transition": {
               "duration": 0,
               "easing": "linear"
              }
             }
            ],
            "label": "115335610",
            "method": "animate"
           },
           {
            "args": [
             [
              "115343944"
             ],
             {
              "frame": {
               "duration": 0,
               "redraw": false
              },
              "fromcurrent": true,
              "mode": "immediate",
              "transition": {
               "duration": 0,
               "easing": "linear"
              }
             }
            ],
            "label": "115343944",
            "method": "animate"
           },
           {
            "args": [
             [
              "115352261"
             ],
             {
              "frame": {
               "duration": 0,
               "redraw": false
              },
              "fromcurrent": true,
              "mode": "immediate",
              "transition": {
               "duration": 0,
               "easing": "linear"
              }
             }
            ],
            "label": "115352261",
            "method": "animate"
           },
           {
            "args": [
             [
              "115360595"
             ],
             {
              "frame": {
               "duration": 0,
               "redraw": false
              },
              "fromcurrent": true,
              "mode": "immediate",
              "transition": {
               "duration": 0,
               "easing": "linear"
              }
             }
            ],
            "label": "115360595",
            "method": "animate"
           },
           {
            "args": [
             [
              "115368971"
             ],
             {
              "frame": {
               "duration": 0,
               "redraw": false
              },
              "fromcurrent": true,
              "mode": "immediate",
              "transition": {
               "duration": 0,
               "easing": "linear"
              }
             }
            ],
            "label": "115368971",
            "method": "animate"
           },
           {
            "args": [
             [
              "115377261"
             ],
             {
              "frame": {
               "duration": 0,
               "redraw": false
              },
              "fromcurrent": true,
              "mode": "immediate",
              "transition": {
               "duration": 0,
               "easing": "linear"
              }
             }
            ],
            "label": "115377261",
            "method": "animate"
           },
           {
            "args": [
             [
              "115385633"
             ],
             {
              "frame": {
               "duration": 0,
               "redraw": false
              },
              "fromcurrent": true,
              "mode": "immediate",
              "transition": {
               "duration": 0,
               "easing": "linear"
              }
             }
            ],
            "label": "115385633",
            "method": "animate"
           },
           {
            "args": [
             [
              "115393932"
             ],
             {
              "frame": {
               "duration": 0,
               "redraw": false
              },
              "fromcurrent": true,
              "mode": "immediate",
              "transition": {
               "duration": 0,
               "easing": "linear"
              }
             }
            ],
            "label": "115393932",
            "method": "animate"
           },
           {
            "args": [
             [
              "115402272"
             ],
             {
              "frame": {
               "duration": 0,
               "redraw": false
              },
              "fromcurrent": true,
              "mode": "immediate",
              "transition": {
               "duration": 0,
               "easing": "linear"
              }
             }
            ],
            "label": "115402272",
            "method": "animate"
           },
           {
            "args": [
             [
              "115410604"
             ],
             {
              "frame": {
               "duration": 0,
               "redraw": false
              },
              "fromcurrent": true,
              "mode": "immediate",
              "transition": {
               "duration": 0,
               "easing": "linear"
              }
             }
            ],
            "label": "115410604",
            "method": "animate"
           },
           {
            "args": [
             [
              "115418941"
             ],
             {
              "frame": {
               "duration": 0,
               "redraw": false
              },
              "fromcurrent": true,
              "mode": "immediate",
              "transition": {
               "duration": 0,
               "easing": "linear"
              }
             }
            ],
            "label": "115418941",
            "method": "animate"
           },
           {
            "args": [
             [
              "115427274"
             ],
             {
              "frame": {
               "duration": 0,
               "redraw": false
              },
              "fromcurrent": true,
              "mode": "immediate",
              "transition": {
               "duration": 0,
               "easing": "linear"
              }
             }
            ],
            "label": "115427274",
            "method": "animate"
           },
           {
            "args": [
             [
              "115435604"
             ],
             {
              "frame": {
               "duration": 0,
               "redraw": false
              },
              "fromcurrent": true,
              "mode": "immediate",
              "transition": {
               "duration": 0,
               "easing": "linear"
              }
             }
            ],
            "label": "115435604",
            "method": "animate"
           },
           {
            "args": [
             [
              "115443938"
             ],
             {
              "frame": {
               "duration": 0,
               "redraw": false
              },
              "fromcurrent": true,
              "mode": "immediate",
              "transition": {
               "duration": 0,
               "easing": "linear"
              }
             }
            ],
            "label": "115443938",
            "method": "animate"
           },
           {
            "args": [
             [
              "115452314"
             ],
             {
              "frame": {
               "duration": 0,
               "redraw": false
              },
              "fromcurrent": true,
              "mode": "immediate",
              "transition": {
               "duration": 0,
               "easing": "linear"
              }
             }
            ],
            "label": "115452314",
            "method": "animate"
           },
           {
            "args": [
             [
              "115460596"
             ],
             {
              "frame": {
               "duration": 0,
               "redraw": false
              },
              "fromcurrent": true,
              "mode": "immediate",
              "transition": {
               "duration": 0,
               "easing": "linear"
              }
             }
            ],
            "label": "115460596",
            "method": "animate"
           },
           {
            "args": [
             [
              "115468986"
             ],
             {
              "frame": {
               "duration": 0,
               "redraw": false
              },
              "fromcurrent": true,
              "mode": "immediate",
              "transition": {
               "duration": 0,
               "easing": "linear"
              }
             }
            ],
            "label": "115468986",
            "method": "animate"
           },
           {
            "args": [
             [
              "115477263"
             ],
             {
              "frame": {
               "duration": 0,
               "redraw": false
              },
              "fromcurrent": true,
              "mode": "immediate",
              "transition": {
               "duration": 0,
               "easing": "linear"
              }
             }
            ],
            "label": "115477263",
            "method": "animate"
           },
           {
            "args": [
             [
              "115485587"
             ],
             {
              "frame": {
               "duration": 0,
               "redraw": false
              },
              "fromcurrent": true,
              "mode": "immediate",
              "transition": {
               "duration": 0,
               "easing": "linear"
              }
             }
            ],
            "label": "115485587",
            "method": "animate"
           },
           {
            "args": [
             [
              "115493918"
             ],
             {
              "frame": {
               "duration": 0,
               "redraw": false
              },
              "fromcurrent": true,
              "mode": "immediate",
              "transition": {
               "duration": 0,
               "easing": "linear"
              }
             }
            ],
            "label": "115493918",
            "method": "animate"
           },
           {
            "args": [
             [
              "115502250"
             ],
             {
              "frame": {
               "duration": 0,
               "redraw": false
              },
              "fromcurrent": true,
              "mode": "immediate",
              "transition": {
               "duration": 0,
               "easing": "linear"
              }
             }
            ],
            "label": "115502250",
            "method": "animate"
           },
           {
            "args": [
             [
              "115510652"
             ],
             {
              "frame": {
               "duration": 0,
               "redraw": false
              },
              "fromcurrent": true,
              "mode": "immediate",
              "transition": {
               "duration": 0,
               "easing": "linear"
              }
             }
            ],
            "label": "115510652",
            "method": "animate"
           },
           {
            "args": [
             [
              "115518917"
             ],
             {
              "frame": {
               "duration": 0,
               "redraw": false
              },
              "fromcurrent": true,
              "mode": "immediate",
              "transition": {
               "duration": 0,
               "easing": "linear"
              }
             }
            ],
            "label": "115518917",
            "method": "animate"
           },
           {
            "args": [
             [
              "115527276"
             ],
             {
              "frame": {
               "duration": 0,
               "redraw": false
              },
              "fromcurrent": true,
              "mode": "immediate",
              "transition": {
               "duration": 0,
               "easing": "linear"
              }
             }
            ],
            "label": "115527276",
            "method": "animate"
           },
           {
            "args": [
             [
              "115535626"
             ],
             {
              "frame": {
               "duration": 0,
               "redraw": false
              },
              "fromcurrent": true,
              "mode": "immediate",
              "transition": {
               "duration": 0,
               "easing": "linear"
              }
             }
            ],
            "label": "115535626",
            "method": "animate"
           },
           {
            "args": [
             [
              "115544013"
             ],
             {
              "frame": {
               "duration": 0,
               "redraw": false
              },
              "fromcurrent": true,
              "mode": "immediate",
              "transition": {
               "duration": 0,
               "easing": "linear"
              }
             }
            ],
            "label": "115544013",
            "method": "animate"
           },
           {
            "args": [
             [
              "115552246"
             ],
             {
              "frame": {
               "duration": 0,
               "redraw": false
              },
              "fromcurrent": true,
              "mode": "immediate",
              "transition": {
               "duration": 0,
               "easing": "linear"
              }
             }
            ],
            "label": "115552246",
            "method": "animate"
           },
           {
            "args": [
             [
              "115560581"
             ],
             {
              "frame": {
               "duration": 0,
               "redraw": false
              },
              "fromcurrent": true,
              "mode": "immediate",
              "transition": {
               "duration": 0,
               "easing": "linear"
              }
             }
            ],
            "label": "115560581",
            "method": "animate"
           },
           {
            "args": [
             [
              "115568914"
             ],
             {
              "frame": {
               "duration": 0,
               "redraw": false
              },
              "fromcurrent": true,
              "mode": "immediate",
              "transition": {
               "duration": 0,
               "easing": "linear"
              }
             }
            ],
            "label": "115568914",
            "method": "animate"
           },
           {
            "args": [
             [
              "115577249"
             ],
             {
              "frame": {
               "duration": 0,
               "redraw": false
              },
              "fromcurrent": true,
              "mode": "immediate",
              "transition": {
               "duration": 0,
               "easing": "linear"
              }
             }
            ],
            "label": "115577249",
            "method": "animate"
           },
           {
            "args": [
             [
              "115585577"
             ],
             {
              "frame": {
               "duration": 0,
               "redraw": false
              },
              "fromcurrent": true,
              "mode": "immediate",
              "transition": {
               "duration": 0,
               "easing": "linear"
              }
             }
            ],
            "label": "115585577",
            "method": "animate"
           },
           {
            "args": [
             [
              "115594021"
             ],
             {
              "frame": {
               "duration": 0,
               "redraw": false
              },
              "fromcurrent": true,
              "mode": "immediate",
              "transition": {
               "duration": 0,
               "easing": "linear"
              }
             }
            ],
            "label": "115594021",
            "method": "animate"
           },
           {
            "args": [
             [
              "115602252"
             ],
             {
              "frame": {
               "duration": 0,
               "redraw": false
              },
              "fromcurrent": true,
              "mode": "immediate",
              "transition": {
               "duration": 0,
               "easing": "linear"
              }
             }
            ],
            "label": "115602252",
            "method": "animate"
           },
           {
            "args": [
             [
              "115610631"
             ],
             {
              "frame": {
               "duration": 0,
               "redraw": false
              },
              "fromcurrent": true,
              "mode": "immediate",
              "transition": {
               "duration": 0,
               "easing": "linear"
              }
             }
            ],
            "label": "115610631",
            "method": "animate"
           },
           {
            "args": [
             [
              "115618973"
             ],
             {
              "frame": {
               "duration": 0,
               "redraw": false
              },
              "fromcurrent": true,
              "mode": "immediate",
              "transition": {
               "duration": 0,
               "easing": "linear"
              }
             }
            ],
            "label": "115618973",
            "method": "animate"
           },
           {
            "args": [
             [
              "115627300"
             ],
             {
              "frame": {
               "duration": 0,
               "redraw": false
              },
              "fromcurrent": true,
              "mode": "immediate",
              "transition": {
               "duration": 0,
               "easing": "linear"
              }
             }
            ],
            "label": "115627300",
            "method": "animate"
           },
           {
            "args": [
             [
              "115635577"
             ],
             {
              "frame": {
               "duration": 0,
               "redraw": false
              },
              "fromcurrent": true,
              "mode": "immediate",
              "transition": {
               "duration": 0,
               "easing": "linear"
              }
             }
            ],
            "label": "115635577",
            "method": "animate"
           },
           {
            "args": [
             [
              "115643918"
             ],
             {
              "frame": {
               "duration": 0,
               "redraw": false
              },
              "fromcurrent": true,
              "mode": "immediate",
              "transition": {
               "duration": 0,
               "easing": "linear"
              }
             }
            ],
            "label": "115643918",
            "method": "animate"
           },
           {
            "args": [
             [
              "115652252"
             ],
             {
              "frame": {
               "duration": 0,
               "redraw": false
              },
              "fromcurrent": true,
              "mode": "immediate",
              "transition": {
               "duration": 0,
               "easing": "linear"
              }
             }
            ],
            "label": "115652252",
            "method": "animate"
           },
           {
            "args": [
             [
              "115660594"
             ],
             {
              "frame": {
               "duration": 0,
               "redraw": false
              },
              "fromcurrent": true,
              "mode": "immediate",
              "transition": {
               "duration": 0,
               "easing": "linear"
              }
             }
            ],
            "label": "115660594",
            "method": "animate"
           },
           {
            "args": [
             [
              "115668915"
             ],
             {
              "frame": {
               "duration": 0,
               "redraw": false
              },
              "fromcurrent": true,
              "mode": "immediate",
              "transition": {
               "duration": 0,
               "easing": "linear"
              }
             }
            ],
            "label": "115668915",
            "method": "animate"
           },
           {
            "args": [
             [
              "115677253"
             ],
             {
              "frame": {
               "duration": 0,
               "redraw": false
              },
              "fromcurrent": true,
              "mode": "immediate",
              "transition": {
               "duration": 0,
               "easing": "linear"
              }
             }
            ],
            "label": "115677253",
            "method": "animate"
           },
           {
            "args": [
             [
              "115685580"
             ],
             {
              "frame": {
               "duration": 0,
               "redraw": false
              },
              "fromcurrent": true,
              "mode": "immediate",
              "transition": {
               "duration": 0,
               "easing": "linear"
              }
             }
            ],
            "label": "115685580",
            "method": "animate"
           },
           {
            "args": [
             [
              "115693913"
             ],
             {
              "frame": {
               "duration": 0,
               "redraw": false
              },
              "fromcurrent": true,
              "mode": "immediate",
              "transition": {
               "duration": 0,
               "easing": "linear"
              }
             }
            ],
            "label": "115693913",
            "method": "animate"
           },
           {
            "args": [
             [
              "115702243"
             ],
             {
              "frame": {
               "duration": 0,
               "redraw": false
              },
              "fromcurrent": true,
              "mode": "immediate",
              "transition": {
               "duration": 0,
               "easing": "linear"
              }
             }
            ],
            "label": "115702243",
            "method": "animate"
           },
           {
            "args": [
             [
              "115710582"
             ],
             {
              "frame": {
               "duration": 0,
               "redraw": false
              },
              "fromcurrent": true,
              "mode": "immediate",
              "transition": {
               "duration": 0,
               "easing": "linear"
              }
             }
            ],
            "label": "115710582",
            "method": "animate"
           },
           {
            "args": [
             [
              "115718912"
             ],
             {
              "frame": {
               "duration": 0,
               "redraw": false
              },
              "fromcurrent": true,
              "mode": "immediate",
              "transition": {
               "duration": 0,
               "easing": "linear"
              }
             }
            ],
            "label": "115718912",
            "method": "animate"
           },
           {
            "args": [
             [
              "115727246"
             ],
             {
              "frame": {
               "duration": 0,
               "redraw": false
              },
              "fromcurrent": true,
              "mode": "immediate",
              "transition": {
               "duration": 0,
               "easing": "linear"
              }
             }
            ],
            "label": "115727246",
            "method": "animate"
           },
           {
            "args": [
             [
              "115735577"
             ],
             {
              "frame": {
               "duration": 0,
               "redraw": false
              },
              "fromcurrent": true,
              "mode": "immediate",
              "transition": {
               "duration": 0,
               "easing": "linear"
              }
             }
            ],
            "label": "115735577",
            "method": "animate"
           },
           {
            "args": [
             [
              "115743907"
             ],
             {
              "frame": {
               "duration": 0,
               "redraw": false
              },
              "fromcurrent": true,
              "mode": "immediate",
              "transition": {
               "duration": 0,
               "easing": "linear"
              }
             }
            ],
            "label": "115743907",
            "method": "animate"
           },
           {
            "args": [
             [
              "115752241"
             ],
             {
              "frame": {
               "duration": 0,
               "redraw": false
              },
              "fromcurrent": true,
              "mode": "immediate",
              "transition": {
               "duration": 0,
               "easing": "linear"
              }
             }
            ],
            "label": "115752241",
            "method": "animate"
           },
           {
            "args": [
             [
              "115760573"
             ],
             {
              "frame": {
               "duration": 0,
               "redraw": false
              },
              "fromcurrent": true,
              "mode": "immediate",
              "transition": {
               "duration": 0,
               "easing": "linear"
              }
             }
            ],
            "label": "115760573",
            "method": "animate"
           },
           {
            "args": [
             [
              "115768900"
             ],
             {
              "frame": {
               "duration": 0,
               "redraw": false
              },
              "fromcurrent": true,
              "mode": "immediate",
              "transition": {
               "duration": 0,
               "easing": "linear"
              }
             }
            ],
            "label": "115768900",
            "method": "animate"
           },
           {
            "args": [
             [
              "115777233"
             ],
             {
              "frame": {
               "duration": 0,
               "redraw": false
              },
              "fromcurrent": true,
              "mode": "immediate",
              "transition": {
               "duration": 0,
               "easing": "linear"
              }
             }
            ],
            "label": "115777233",
            "method": "animate"
           },
           {
            "args": [
             [
              "115785571"
             ],
             {
              "frame": {
               "duration": 0,
               "redraw": false
              },
              "fromcurrent": true,
              "mode": "immediate",
              "transition": {
               "duration": 0,
               "easing": "linear"
              }
             }
            ],
            "label": "115785571",
            "method": "animate"
           },
           {
            "args": [
             [
              "115793905"
             ],
             {
              "frame": {
               "duration": 0,
               "redraw": false
              },
              "fromcurrent": true,
              "mode": "immediate",
              "transition": {
               "duration": 0,
               "easing": "linear"
              }
             }
            ],
            "label": "115793905",
            "method": "animate"
           },
           {
            "args": [
             [
              "115802253"
             ],
             {
              "frame": {
               "duration": 0,
               "redraw": false
              },
              "fromcurrent": true,
              "mode": "immediate",
              "transition": {
               "duration": 0,
               "easing": "linear"
              }
             }
            ],
            "label": "115802253",
            "method": "animate"
           },
           {
            "args": [
             [
              "115810626"
             ],
             {
              "frame": {
               "duration": 0,
               "redraw": false
              },
              "fromcurrent": true,
              "mode": "immediate",
              "transition": {
               "duration": 0,
               "easing": "linear"
              }
             }
            ],
            "label": "115810626",
            "method": "animate"
           },
           {
            "args": [
             [
              "115818963"
             ],
             {
              "frame": {
               "duration": 0,
               "redraw": false
              },
              "fromcurrent": true,
              "mode": "immediate",
              "transition": {
               "duration": 0,
               "easing": "linear"
              }
             }
            ],
            "label": "115818963",
            "method": "animate"
           },
           {
            "args": [
             [
              "115827269"
             ],
             {
              "frame": {
               "duration": 0,
               "redraw": false
              },
              "fromcurrent": true,
              "mode": "immediate",
              "transition": {
               "duration": 0,
               "easing": "linear"
              }
             }
            ],
            "label": "115827269",
            "method": "animate"
           },
           {
            "args": [
             [
              "115835569"
             ],
             {
              "frame": {
               "duration": 0,
               "redraw": false
              },
              "fromcurrent": true,
              "mode": "immediate",
              "transition": {
               "duration": 0,
               "easing": "linear"
              }
             }
            ],
            "label": "115835569",
            "method": "animate"
           },
           {
            "args": [
             [
              "115843962"
             ],
             {
              "frame": {
               "duration": 0,
               "redraw": false
              },
              "fromcurrent": true,
              "mode": "immediate",
              "transition": {
               "duration": 0,
               "easing": "linear"
              }
             }
            ],
            "label": "115843962",
            "method": "animate"
           },
           {
            "args": [
             [
              "115852295"
             ],
             {
              "frame": {
               "duration": 0,
               "redraw": false
              },
              "fromcurrent": true,
              "mode": "immediate",
              "transition": {
               "duration": 0,
               "easing": "linear"
              }
             }
            ],
            "label": "115852295",
            "method": "animate"
           },
           {
            "args": [
             [
              "115860565"
             ],
             {
              "frame": {
               "duration": 0,
               "redraw": false
              },
              "fromcurrent": true,
              "mode": "immediate",
              "transition": {
               "duration": 0,
               "easing": "linear"
              }
             }
            ],
            "label": "115860565",
            "method": "animate"
           },
           {
            "args": [
             [
              "115868898"
             ],
             {
              "frame": {
               "duration": 0,
               "redraw": false
              },
              "fromcurrent": true,
              "mode": "immediate",
              "transition": {
               "duration": 0,
               "easing": "linear"
              }
             }
            ],
            "label": "115868898",
            "method": "animate"
           },
           {
            "args": [
             [
              "115877233"
             ],
             {
              "frame": {
               "duration": 0,
               "redraw": false
              },
              "fromcurrent": true,
              "mode": "immediate",
              "transition": {
               "duration": 0,
               "easing": "linear"
              }
             }
            ],
            "label": "115877233",
            "method": "animate"
           },
           {
            "args": [
             [
              "115885563"
             ],
             {
              "frame": {
               "duration": 0,
               "redraw": false
              },
              "fromcurrent": true,
              "mode": "immediate",
              "transition": {
               "duration": 0,
               "easing": "linear"
              }
             }
            ],
            "label": "115885563",
            "method": "animate"
           },
           {
            "args": [
             [
              "115893901"
             ],
             {
              "frame": {
               "duration": 0,
               "redraw": false
              },
              "fromcurrent": true,
              "mode": "immediate",
              "transition": {
               "duration": 0,
               "easing": "linear"
              }
             }
            ],
            "label": "115893901",
            "method": "animate"
           },
           {
            "args": [
             [
              "115902231"
             ],
             {
              "frame": {
               "duration": 0,
               "redraw": false
              },
              "fromcurrent": true,
              "mode": "immediate",
              "transition": {
               "duration": 0,
               "easing": "linear"
              }
             }
            ],
            "label": "115902231",
            "method": "animate"
           },
           {
            "args": [
             [
              "115910567"
             ],
             {
              "frame": {
               "duration": 0,
               "redraw": false
              },
              "fromcurrent": true,
              "mode": "immediate",
              "transition": {
               "duration": 0,
               "easing": "linear"
              }
             }
            ],
            "label": "115910567",
            "method": "animate"
           },
           {
            "args": [
             [
              "115918894"
             ],
             {
              "frame": {
               "duration": 0,
               "redraw": false
              },
              "fromcurrent": true,
              "mode": "immediate",
              "transition": {
               "duration": 0,
               "easing": "linear"
              }
             }
            ],
            "label": "115918894",
            "method": "animate"
           },
           {
            "args": [
             [
              "115927260"
             ],
             {
              "frame": {
               "duration": 0,
               "redraw": false
              },
              "fromcurrent": true,
              "mode": "immediate",
              "transition": {
               "duration": 0,
               "easing": "linear"
              }
             }
            ],
            "label": "115927260",
            "method": "animate"
           },
           {
            "args": [
             [
              "115935555"
             ],
             {
              "frame": {
               "duration": 0,
               "redraw": false
              },
              "fromcurrent": true,
              "mode": "immediate",
              "transition": {
               "duration": 0,
               "easing": "linear"
              }
             }
            ],
            "label": "115935555",
            "method": "animate"
           },
           {
            "args": [
             [
              "115943888"
             ],
             {
              "frame": {
               "duration": 0,
               "redraw": false
              },
              "fromcurrent": true,
              "mode": "immediate",
              "transition": {
               "duration": 0,
               "easing": "linear"
              }
             }
            ],
            "label": "115943888",
            "method": "animate"
           },
           {
            "args": [
             [
              "115952220"
             ],
             {
              "frame": {
               "duration": 0,
               "redraw": false
              },
              "fromcurrent": true,
              "mode": "immediate",
              "transition": {
               "duration": 0,
               "easing": "linear"
              }
             }
            ],
            "label": "115952220",
            "method": "animate"
           },
           {
            "args": [
             [
              "115960553"
             ],
             {
              "frame": {
               "duration": 0,
               "redraw": false
              },
              "fromcurrent": true,
              "mode": "immediate",
              "transition": {
               "duration": 0,
               "easing": "linear"
              }
             }
            ],
            "label": "115960553",
            "method": "animate"
           },
           {
            "args": [
             [
              "115968889"
             ],
             {
              "frame": {
               "duration": 0,
               "redraw": false
              },
              "fromcurrent": true,
              "mode": "immediate",
              "transition": {
               "duration": 0,
               "easing": "linear"
              }
             }
            ],
            "label": "115968889",
            "method": "animate"
           },
           {
            "args": [
             [
              "115977219"
             ],
             {
              "frame": {
               "duration": 0,
               "redraw": false
              },
              "fromcurrent": true,
              "mode": "immediate",
              "transition": {
               "duration": 0,
               "easing": "linear"
              }
             }
            ],
            "label": "115977219",
            "method": "animate"
           },
           {
            "args": [
             [
              "115985556"
             ],
             {
              "frame": {
               "duration": 0,
               "redraw": false
              },
              "fromcurrent": true,
              "mode": "immediate",
              "transition": {
               "duration": 0,
               "easing": "linear"
              }
             }
            ],
            "label": "115985556",
            "method": "animate"
           },
           {
            "args": [
             [
              "115993918"
             ],
             {
              "frame": {
               "duration": 0,
               "redraw": false
              },
              "fromcurrent": true,
              "mode": "immediate",
              "transition": {
               "duration": 0,
               "easing": "linear"
              }
             }
            ],
            "label": "115993918",
            "method": "animate"
           },
           {
            "args": [
             [
              "116002214"
             ],
             {
              "frame": {
               "duration": 0,
               "redraw": false
              },
              "fromcurrent": true,
              "mode": "immediate",
              "transition": {
               "duration": 0,
               "easing": "linear"
              }
             }
            ],
            "label": "116002214",
            "method": "animate"
           },
           {
            "args": [
             [
              "116010549"
             ],
             {
              "frame": {
               "duration": 0,
               "redraw": false
              },
              "fromcurrent": true,
              "mode": "immediate",
              "transition": {
               "duration": 0,
               "easing": "linear"
              }
             }
            ],
            "label": "116010549",
            "method": "animate"
           },
           {
            "args": [
             [
              "116018883"
             ],
             {
              "frame": {
               "duration": 0,
               "redraw": false
              },
              "fromcurrent": true,
              "mode": "immediate",
              "transition": {
               "duration": 0,
               "easing": "linear"
              }
             }
            ],
            "label": "116018883",
            "method": "animate"
           },
           {
            "args": [
             [
              "116027217"
             ],
             {
              "frame": {
               "duration": 0,
               "redraw": false
              },
              "fromcurrent": true,
              "mode": "immediate",
              "transition": {
               "duration": 0,
               "easing": "linear"
              }
             }
            ],
            "label": "116027217",
            "method": "animate"
           },
           {
            "args": [
             [
              "116035585"
             ],
             {
              "frame": {
               "duration": 0,
               "redraw": false
              },
              "fromcurrent": true,
              "mode": "immediate",
              "transition": {
               "duration": 0,
               "easing": "linear"
              }
             }
            ],
            "label": "116035585",
            "method": "animate"
           },
           {
            "args": [
             [
              "116043884"
             ],
             {
              "frame": {
               "duration": 0,
               "redraw": false
              },
              "fromcurrent": true,
              "mode": "immediate",
              "transition": {
               "duration": 0,
               "easing": "linear"
              }
             }
            ],
            "label": "116043884",
            "method": "animate"
           },
           {
            "args": [
             [
              "116052217"
             ],
             {
              "frame": {
               "duration": 0,
               "redraw": false
              },
              "fromcurrent": true,
              "mode": "immediate",
              "transition": {
               "duration": 0,
               "easing": "linear"
              }
             }
            ],
            "label": "116052217",
            "method": "animate"
           },
           {
            "args": [
             [
              "116060549"
             ],
             {
              "frame": {
               "duration": 0,
               "redraw": false
              },
              "fromcurrent": true,
              "mode": "immediate",
              "transition": {
               "duration": 0,
               "easing": "linear"
              }
             }
            ],
            "label": "116060549",
            "method": "animate"
           },
           {
            "args": [
             [
              "116068940"
             ],
             {
              "frame": {
               "duration": 0,
               "redraw": false
              },
              "fromcurrent": true,
              "mode": "immediate",
              "transition": {
               "duration": 0,
               "easing": "linear"
              }
             }
            ],
            "label": "116068940",
            "method": "animate"
           },
           {
            "args": [
             [
              "116077216"
             ],
             {
              "frame": {
               "duration": 0,
               "redraw": false
              },
              "fromcurrent": true,
              "mode": "immediate",
              "transition": {
               "duration": 0,
               "easing": "linear"
              }
             }
            ],
            "label": "116077216",
            "method": "animate"
           },
           {
            "args": [
             [
              "116085547"
             ],
             {
              "frame": {
               "duration": 0,
               "redraw": false
              },
              "fromcurrent": true,
              "mode": "immediate",
              "transition": {
               "duration": 0,
               "easing": "linear"
              }
             }
            ],
            "label": "116085547",
            "method": "animate"
           },
           {
            "args": [
             [
              "116093884"
             ],
             {
              "frame": {
               "duration": 0,
               "redraw": false
              },
              "fromcurrent": true,
              "mode": "immediate",
              "transition": {
               "duration": 0,
               "easing": "linear"
              }
             }
            ],
            "label": "116093884",
            "method": "animate"
           },
           {
            "args": [
             [
              "116102215"
             ],
             {
              "frame": {
               "duration": 0,
               "redraw": false
              },
              "fromcurrent": true,
              "mode": "immediate",
              "transition": {
               "duration": 0,
               "easing": "linear"
              }
             }
            ],
            "label": "116102215",
            "method": "animate"
           },
           {
            "args": [
             [
              "116110547"
             ],
             {
              "frame": {
               "duration": 0,
               "redraw": false
              },
              "fromcurrent": true,
              "mode": "immediate",
              "transition": {
               "duration": 0,
               "easing": "linear"
              }
             }
            ],
            "label": "116110547",
            "method": "animate"
           },
           {
            "args": [
             [
              "116118935"
             ],
             {
              "frame": {
               "duration": 0,
               "redraw": false
              },
              "fromcurrent": true,
              "mode": "immediate",
              "transition": {
               "duration": 0,
               "easing": "linear"
              }
             }
            ],
            "label": "116118935",
            "method": "animate"
           },
           {
            "args": [
             [
              "116127212"
             ],
             {
              "frame": {
               "duration": 0,
               "redraw": false
              },
              "fromcurrent": true,
              "mode": "immediate",
              "transition": {
               "duration": 0,
               "easing": "linear"
              }
             }
            ],
            "label": "116127212",
            "method": "animate"
           },
           {
            "args": [
             [
              "116135543"
             ],
             {
              "frame": {
               "duration": 0,
               "redraw": false
              },
              "fromcurrent": true,
              "mode": "immediate",
              "transition": {
               "duration": 0,
               "easing": "linear"
              }
             }
            ],
            "label": "116135543",
            "method": "animate"
           },
           {
            "args": [
             [
              "116143867"
             ],
             {
              "frame": {
               "duration": 0,
               "redraw": false
              },
              "fromcurrent": true,
              "mode": "immediate",
              "transition": {
               "duration": 0,
               "easing": "linear"
              }
             }
            ],
            "label": "116143867",
            "method": "animate"
           },
           {
            "args": [
             [
              "116152261"
             ],
             {
              "frame": {
               "duration": 0,
               "redraw": false
              },
              "fromcurrent": true,
              "mode": "immediate",
              "transition": {
               "duration": 0,
               "easing": "linear"
              }
             }
            ],
            "label": "116152261",
            "method": "animate"
           },
           {
            "args": [
             [
              "116160536"
             ],
             {
              "frame": {
               "duration": 0,
               "redraw": false
              },
              "fromcurrent": true,
              "mode": "immediate",
              "transition": {
               "duration": 0,
               "easing": "linear"
              }
             }
            ],
            "label": "116160536",
            "method": "animate"
           },
           {
            "args": [
             [
              "116168870"
             ],
             {
              "frame": {
               "duration": 0,
               "redraw": false
              },
              "fromcurrent": true,
              "mode": "immediate",
              "transition": {
               "duration": 0,
               "easing": "linear"
              }
             }
            ],
            "label": "116168870",
            "method": "animate"
           },
           {
            "args": [
             [
              "116177211"
             ],
             {
              "frame": {
               "duration": 0,
               "redraw": false
              },
              "fromcurrent": true,
              "mode": "immediate",
              "transition": {
               "duration": 0,
               "easing": "linear"
              }
             }
            ],
            "label": "116177211",
            "method": "animate"
           },
           {
            "args": [
             [
              "116185534"
             ],
             {
              "frame": {
               "duration": 0,
               "redraw": false
              },
              "fromcurrent": true,
              "mode": "immediate",
              "transition": {
               "duration": 0,
               "easing": "linear"
              }
             }
            ],
            "label": "116185534",
            "method": "animate"
           },
           {
            "args": [
             [
              "116193866"
             ],
             {
              "frame": {
               "duration": 0,
               "redraw": false
              },
              "fromcurrent": true,
              "mode": "immediate",
              "transition": {
               "duration": 0,
               "easing": "linear"
              }
             }
            ],
            "label": "116193866",
            "method": "animate"
           },
           {
            "args": [
             [
              "116202273"
             ],
             {
              "frame": {
               "duration": 0,
               "redraw": false
              },
              "fromcurrent": true,
              "mode": "immediate",
              "transition": {
               "duration": 0,
               "easing": "linear"
              }
             }
            ],
            "label": "116202273",
            "method": "animate"
           },
           {
            "args": [
             [
              "116210527"
             ],
             {
              "frame": {
               "duration": 0,
               "redraw": false
              },
              "fromcurrent": true,
              "mode": "immediate",
              "transition": {
               "duration": 0,
               "easing": "linear"
              }
             }
            ],
            "label": "116210527",
            "method": "animate"
           },
           {
            "args": [
             [
              "116218957"
             ],
             {
              "frame": {
               "duration": 0,
               "redraw": false
              },
              "fromcurrent": true,
              "mode": "immediate",
              "transition": {
               "duration": 0,
               "easing": "linear"
              }
             }
            ],
            "label": "116218957",
            "method": "animate"
           },
           {
            "args": [
             [
              "116227197"
             ],
             {
              "frame": {
               "duration": 0,
               "redraw": false
              },
              "fromcurrent": true,
              "mode": "immediate",
              "transition": {
               "duration": 0,
               "easing": "linear"
              }
             }
            ],
            "label": "116227197",
            "method": "animate"
           },
           {
            "args": [
             [
              "116235526"
             ],
             {
              "frame": {
               "duration": 0,
               "redraw": false
              },
              "fromcurrent": true,
              "mode": "immediate",
              "transition": {
               "duration": 0,
               "easing": "linear"
              }
             }
            ],
            "label": "116235526",
            "method": "animate"
           },
           {
            "args": [
             [
              "116243903"
             ],
             {
              "frame": {
               "duration": 0,
               "redraw": false
              },
              "fromcurrent": true,
              "mode": "immediate",
              "transition": {
               "duration": 0,
               "easing": "linear"
              }
             }
            ],
            "label": "116243903",
            "method": "animate"
           },
           {
            "args": [
             [
              "116252201"
             ],
             {
              "frame": {
               "duration": 0,
               "redraw": false
              },
              "fromcurrent": true,
              "mode": "immediate",
              "transition": {
               "duration": 0,
               "easing": "linear"
              }
             }
            ],
            "label": "116252201",
            "method": "animate"
           },
           {
            "args": [
             [
              "116260590"
             ],
             {
              "frame": {
               "duration": 0,
               "redraw": false
              },
              "fromcurrent": true,
              "mode": "immediate",
              "transition": {
               "duration": 0,
               "easing": "linear"
              }
             }
            ],
            "label": "116260590",
            "method": "animate"
           },
           {
            "args": [
             [
              "116268927"
             ],
             {
              "frame": {
               "duration": 0,
               "redraw": false
              },
              "fromcurrent": true,
              "mode": "immediate",
              "transition": {
               "duration": 0,
               "easing": "linear"
              }
             }
            ],
            "label": "116268927",
            "method": "animate"
           },
           {
            "args": [
             [
              "116277203"
             ],
             {
              "frame": {
               "duration": 0,
               "redraw": false
              },
              "fromcurrent": true,
              "mode": "immediate",
              "transition": {
               "duration": 0,
               "easing": "linear"
              }
             }
            ],
            "label": "116277203",
            "method": "animate"
           },
           {
            "args": [
             [
              "116285589"
             ],
             {
              "frame": {
               "duration": 0,
               "redraw": false
              },
              "fromcurrent": true,
              "mode": "immediate",
              "transition": {
               "duration": 0,
               "easing": "linear"
              }
             }
            ],
            "label": "116285589",
            "method": "animate"
           },
           {
            "args": [
             [
              "116293868"
             ],
             {
              "frame": {
               "duration": 0,
               "redraw": false
              },
              "fromcurrent": true,
              "mode": "immediate",
              "transition": {
               "duration": 0,
               "easing": "linear"
              }
             }
            ],
            "label": "116293868",
            "method": "animate"
           },
           {
            "args": [
             [
              "116302202"
             ],
             {
              "frame": {
               "duration": 0,
               "redraw": false
              },
              "fromcurrent": true,
              "mode": "immediate",
              "transition": {
               "duration": 0,
               "easing": "linear"
              }
             }
            ],
            "label": "116302202",
            "method": "animate"
           },
           {
            "args": [
             [
              "116310530"
             ],
             {
              "frame": {
               "duration": 0,
               "redraw": false
              },
              "fromcurrent": true,
              "mode": "immediate",
              "transition": {
               "duration": 0,
               "easing": "linear"
              }
             }
            ],
            "label": "116310530",
            "method": "animate"
           },
           {
            "args": [
             [
              "116318922"
             ],
             {
              "frame": {
               "duration": 0,
               "redraw": false
              },
              "fromcurrent": true,
              "mode": "immediate",
              "transition": {
               "duration": 0,
               "easing": "linear"
              }
             }
            ],
            "label": "116318922",
            "method": "animate"
           },
           {
            "args": [
             [
              "116327197"
             ],
             {
              "frame": {
               "duration": 0,
               "redraw": false
              },
              "fromcurrent": true,
              "mode": "immediate",
              "transition": {
               "duration": 0,
               "easing": "linear"
              }
             }
            ],
            "label": "116327197",
            "method": "animate"
           },
           {
            "args": [
             [
              "116335531"
             ],
             {
              "frame": {
               "duration": 0,
               "redraw": false
              },
              "fromcurrent": true,
              "mode": "immediate",
              "transition": {
               "duration": 0,
               "easing": "linear"
              }
             }
            ],
            "label": "116335531",
            "method": "animate"
           },
           {
            "args": [
             [
              "116343865"
             ],
             {
              "frame": {
               "duration": 0,
               "redraw": false
              },
              "fromcurrent": true,
              "mode": "immediate",
              "transition": {
               "duration": 0,
               "easing": "linear"
              }
             }
            ],
            "label": "116343865",
            "method": "animate"
           },
           {
            "args": [
             [
              "116352204"
             ],
             {
              "frame": {
               "duration": 0,
               "redraw": false
              },
              "fromcurrent": true,
              "mode": "immediate",
              "transition": {
               "duration": 0,
               "easing": "linear"
              }
             }
            ],
            "label": "116352204",
            "method": "animate"
           },
           {
            "args": [
             [
              "116360521"
             ],
             {
              "frame": {
               "duration": 0,
               "redraw": false
              },
              "fromcurrent": true,
              "mode": "immediate",
              "transition": {
               "duration": 0,
               "easing": "linear"
              }
             }
            ],
            "label": "116360521",
            "method": "animate"
           },
           {
            "args": [
             [
              "116368856"
             ],
             {
              "frame": {
               "duration": 0,
               "redraw": false
              },
              "fromcurrent": true,
              "mode": "immediate",
              "transition": {
               "duration": 0,
               "easing": "linear"
              }
             }
            ],
            "label": "116368856",
            "method": "animate"
           },
           {
            "args": [
             [
              "116377209"
             ],
             {
              "frame": {
               "duration": 0,
               "redraw": false
              },
              "fromcurrent": true,
              "mode": "immediate",
              "transition": {
               "duration": 0,
               "easing": "linear"
              }
             }
            ],
            "label": "116377209",
            "method": "animate"
           },
           {
            "args": [
             [
              "116385588"
             ],
             {
              "frame": {
               "duration": 0,
               "redraw": false
              },
              "fromcurrent": true,
              "mode": "immediate",
              "transition": {
               "duration": 0,
               "easing": "linear"
              }
             }
            ],
            "label": "116385588",
            "method": "animate"
           },
           {
            "args": [
             [
              "116393856"
             ],
             {
              "frame": {
               "duration": 0,
               "redraw": false
              },
              "fromcurrent": true,
              "mode": "immediate",
              "transition": {
               "duration": 0,
               "easing": "linear"
              }
             }
            ],
            "label": "116393856",
            "method": "animate"
           },
           {
            "args": [
             [
              "116402191"
             ],
             {
              "frame": {
               "duration": 0,
               "redraw": false
              },
              "fromcurrent": true,
              "mode": "immediate",
              "transition": {
               "duration": 0,
               "easing": "linear"
              }
             }
            ],
            "label": "116402191",
            "method": "animate"
           },
           {
            "args": [
             [
              "116410577"
             ],
             {
              "frame": {
               "duration": 0,
               "redraw": false
              },
              "fromcurrent": true,
              "mode": "immediate",
              "transition": {
               "duration": 0,
               "easing": "linear"
              }
             }
            ],
            "label": "116410577",
            "method": "animate"
           },
           {
            "args": [
             [
              "116418854"
             ],
             {
              "frame": {
               "duration": 0,
               "redraw": false
              },
              "fromcurrent": true,
              "mode": "immediate",
              "transition": {
               "duration": 0,
               "easing": "linear"
              }
             }
            ],
            "label": "116418854",
            "method": "animate"
           },
           {
            "args": [
             [
              "116427249"
             ],
             {
              "frame": {
               "duration": 0,
               "redraw": false
              },
              "fromcurrent": true,
              "mode": "immediate",
              "transition": {
               "duration": 0,
               "easing": "linear"
              }
             }
            ],
            "label": "116427249",
            "method": "animate"
           },
           {
            "args": [
             [
              "116435527"
             ],
             {
              "frame": {
               "duration": 0,
               "redraw": false
              },
              "fromcurrent": true,
              "mode": "immediate",
              "transition": {
               "duration": 0,
               "easing": "linear"
              }
             }
            ],
            "label": "116435527",
            "method": "animate"
           },
           {
            "args": [
             [
              "116443870"
             ],
             {
              "frame": {
               "duration": 0,
               "redraw": false
              },
              "fromcurrent": true,
              "mode": "immediate",
              "transition": {
               "duration": 0,
               "easing": "linear"
              }
             }
            ],
            "label": "116443870",
            "method": "animate"
           },
           {
            "args": [
             [
              "116452190"
             ],
             {
              "frame": {
               "duration": 0,
               "redraw": false
              },
              "fromcurrent": true,
              "mode": "immediate",
              "transition": {
               "duration": 0,
               "easing": "linear"
              }
             }
            ],
            "label": "116452190",
            "method": "animate"
           },
           {
            "args": [
             [
              "116460518"
             ],
             {
              "frame": {
               "duration": 0,
               "redraw": false
              },
              "fromcurrent": true,
              "mode": "immediate",
              "transition": {
               "duration": 0,
               "easing": "linear"
              }
             }
            ],
            "label": "116460518",
            "method": "animate"
           },
           {
            "args": [
             [
              "116468847"
             ],
             {
              "frame": {
               "duration": 0,
               "redraw": false
              },
              "fromcurrent": true,
              "mode": "immediate",
              "transition": {
               "duration": 0,
               "easing": "linear"
              }
             }
            ],
            "label": "116468847",
            "method": "animate"
           },
           {
            "args": [
             [
              "116477180"
             ],
             {
              "frame": {
               "duration": 0,
               "redraw": false
              },
              "fromcurrent": true,
              "mode": "immediate",
              "transition": {
               "duration": 0,
               "easing": "linear"
              }
             }
            ],
            "label": "116477180",
            "method": "animate"
           },
           {
            "args": [
             [
              "116485553"
             ],
             {
              "frame": {
               "duration": 0,
               "redraw": false
              },
              "fromcurrent": true,
              "mode": "immediate",
              "transition": {
               "duration": 0,
               "easing": "linear"
              }
             }
            ],
            "label": "116485553",
            "method": "animate"
           },
           {
            "args": [
             [
              "116493842"
             ],
             {
              "frame": {
               "duration": 0,
               "redraw": false
              },
              "fromcurrent": true,
              "mode": "immediate",
              "transition": {
               "duration": 0,
               "easing": "linear"
              }
             }
            ],
            "label": "116493842",
            "method": "animate"
           },
           {
            "args": [
             [
              "116502177"
             ],
             {
              "frame": {
               "duration": 0,
               "redraw": false
              },
              "fromcurrent": true,
              "mode": "immediate",
              "transition": {
               "duration": 0,
               "easing": "linear"
              }
             }
            ],
            "label": "116502177",
            "method": "animate"
           },
           {
            "args": [
             [
              "116510513"
             ],
             {
              "frame": {
               "duration": 0,
               "redraw": false
              },
              "fromcurrent": true,
              "mode": "immediate",
              "transition": {
               "duration": 0,
               "easing": "linear"
              }
             }
            ],
            "label": "116510513",
            "method": "animate"
           },
           {
            "args": [
             [
              "116518905"
             ],
             {
              "frame": {
               "duration": 0,
               "redraw": false
              },
              "fromcurrent": true,
              "mode": "immediate",
              "transition": {
               "duration": 0,
               "easing": "linear"
              }
             }
            ],
            "label": "116518905",
            "method": "animate"
           },
           {
            "args": [
             [
              "116527184"
             ],
             {
              "frame": {
               "duration": 0,
               "redraw": false
              },
              "fromcurrent": true,
              "mode": "immediate",
              "transition": {
               "duration": 0,
               "easing": "linear"
              }
             }
            ],
            "label": "116527184",
            "method": "animate"
           },
           {
            "args": [
             [
              "116535510"
             ],
             {
              "frame": {
               "duration": 0,
               "redraw": false
              },
              "fromcurrent": true,
              "mode": "immediate",
              "transition": {
               "duration": 0,
               "easing": "linear"
              }
             }
            ],
            "label": "116535510",
            "method": "animate"
           },
           {
            "args": [
             [
              "116543840"
             ],
             {
              "frame": {
               "duration": 0,
               "redraw": false
              },
              "fromcurrent": true,
              "mode": "immediate",
              "transition": {
               "duration": 0,
               "easing": "linear"
              }
             }
            ],
            "label": "116543840",
            "method": "animate"
           },
           {
            "args": [
             [
              "116552175"
             ],
             {
              "frame": {
               "duration": 0,
               "redraw": false
              },
              "fromcurrent": true,
              "mode": "immediate",
              "transition": {
               "duration": 0,
               "easing": "linear"
              }
             }
            ],
            "label": "116552175",
            "method": "animate"
           },
           {
            "args": [
             [
              "116560511"
             ],
             {
              "frame": {
               "duration": 0,
               "redraw": false
              },
              "fromcurrent": true,
              "mode": "immediate",
              "transition": {
               "duration": 0,
               "easing": "linear"
              }
             }
            ],
            "label": "116560511",
            "method": "animate"
           },
           {
            "args": [
             [
              "116568842"
             ],
             {
              "frame": {
               "duration": 0,
               "redraw": false
              },
              "fromcurrent": true,
              "mode": "immediate",
              "transition": {
               "duration": 0,
               "easing": "linear"
              }
             }
            ],
            "label": "116568842",
            "method": "animate"
           },
           {
            "args": [
             [
              "116577192"
             ],
             {
              "frame": {
               "duration": 0,
               "redraw": false
              },
              "fromcurrent": true,
              "mode": "immediate",
              "transition": {
               "duration": 0,
               "easing": "linear"
              }
             }
            ],
            "label": "116577192",
            "method": "animate"
           },
           {
            "args": [
             [
              "116585577"
             ],
             {
              "frame": {
               "duration": 0,
               "redraw": false
              },
              "fromcurrent": true,
              "mode": "immediate",
              "transition": {
               "duration": 0,
               "easing": "linear"
              }
             }
            ],
            "label": "116585577",
            "method": "animate"
           },
           {
            "args": [
             [
              "116593841"
             ],
             {
              "frame": {
               "duration": 0,
               "redraw": false
              },
              "fromcurrent": true,
              "mode": "immediate",
              "transition": {
               "duration": 0,
               "easing": "linear"
              }
             }
            ],
            "label": "116593841",
            "method": "animate"
           },
           {
            "args": [
             [
              "116602223"
             ],
             {
              "frame": {
               "duration": 0,
               "redraw": false
              },
              "fromcurrent": true,
              "mode": "immediate",
              "transition": {
               "duration": 0,
               "easing": "linear"
              }
             }
            ],
            "label": "116602223",
            "method": "animate"
           },
           {
            "args": [
             [
              "116610514"
             ],
             {
              "frame": {
               "duration": 0,
               "redraw": false
              },
              "fromcurrent": true,
              "mode": "immediate",
              "transition": {
               "duration": 0,
               "easing": "linear"
              }
             }
            ],
            "label": "116610514",
            "method": "animate"
           },
           {
            "args": [
             [
              "116618884"
             ],
             {
              "frame": {
               "duration": 0,
               "redraw": false
              },
              "fromcurrent": true,
              "mode": "immediate",
              "transition": {
               "duration": 0,
               "easing": "linear"
              }
             }
            ],
            "label": "116618884",
            "method": "animate"
           },
           {
            "args": [
             [
              "116627168"
             ],
             {
              "frame": {
               "duration": 0,
               "redraw": false
              },
              "fromcurrent": true,
              "mode": "immediate",
              "transition": {
               "duration": 0,
               "easing": "linear"
              }
             }
            ],
            "label": "116627168",
            "method": "animate"
           },
           {
            "args": [
             [
              "116635499"
             ],
             {
              "frame": {
               "duration": 0,
               "redraw": false
              },
              "fromcurrent": true,
              "mode": "immediate",
              "transition": {
               "duration": 0,
               "easing": "linear"
              }
             }
            ],
            "label": "116635499",
            "method": "animate"
           },
           {
            "args": [
             [
              "116643831"
             ],
             {
              "frame": {
               "duration": 0,
               "redraw": false
              },
              "fromcurrent": true,
              "mode": "immediate",
              "transition": {
               "duration": 0,
               "easing": "linear"
              }
             }
            ],
            "label": "116643831",
            "method": "animate"
           },
           {
            "args": [
             [
              "116652166"
             ],
             {
              "frame": {
               "duration": 0,
               "redraw": false
              },
              "fromcurrent": true,
              "mode": "immediate",
              "transition": {
               "duration": 0,
               "easing": "linear"
              }
             }
            ],
            "label": "116652166",
            "method": "animate"
           },
           {
            "args": [
             [
              "116660497"
             ],
             {
              "frame": {
               "duration": 0,
               "redraw": false
              },
              "fromcurrent": true,
              "mode": "immediate",
              "transition": {
               "duration": 0,
               "easing": "linear"
              }
             }
            ],
            "label": "116660497",
            "method": "animate"
           },
           {
            "args": [
             [
              "116668885"
             ],
             {
              "frame": {
               "duration": 0,
               "redraw": false
              },
              "fromcurrent": true,
              "mode": "immediate",
              "transition": {
               "duration": 0,
               "easing": "linear"
              }
             }
            ],
            "label": "116668885",
            "method": "animate"
           },
           {
            "args": [
             [
              "116677165"
             ],
             {
              "frame": {
               "duration": 0,
               "redraw": false
              },
              "fromcurrent": true,
              "mode": "immediate",
              "transition": {
               "duration": 0,
               "easing": "linear"
              }
             }
            ],
            "label": "116677165",
            "method": "animate"
           },
           {
            "args": [
             [
              "116685492"
             ],
             {
              "frame": {
               "duration": 0,
               "redraw": false
              },
              "fromcurrent": true,
              "mode": "immediate",
              "transition": {
               "duration": 0,
               "easing": "linear"
              }
             }
            ],
            "label": "116685492",
            "method": "animate"
           },
           {
            "args": [
             [
              "116693827"
             ],
             {
              "frame": {
               "duration": 0,
               "redraw": false
              },
              "fromcurrent": true,
              "mode": "immediate",
              "transition": {
               "duration": 0,
               "easing": "linear"
              }
             }
            ],
            "label": "116693827",
            "method": "animate"
           },
           {
            "args": [
             [
              "116702163"
             ],
             {
              "frame": {
               "duration": 0,
               "redraw": false
              },
              "fromcurrent": true,
              "mode": "immediate",
              "transition": {
               "duration": 0,
               "easing": "linear"
              }
             }
            ],
            "label": "116702163",
            "method": "animate"
           },
           {
            "args": [
             [
              "116710551"
             ],
             {
              "frame": {
               "duration": 0,
               "redraw": false
              },
              "fromcurrent": true,
              "mode": "immediate",
              "transition": {
               "duration": 0,
               "easing": "linear"
              }
             }
            ],
            "label": "116710551",
            "method": "animate"
           },
           {
            "args": [
             [
              "116718824"
             ],
             {
              "frame": {
               "duration": 0,
               "redraw": false
              },
              "fromcurrent": true,
              "mode": "immediate",
              "transition": {
               "duration": 0,
               "easing": "linear"
              }
             }
            ],
            "label": "116718824",
            "method": "animate"
           },
           {
            "args": [
             [
              "116727166"
             ],
             {
              "frame": {
               "duration": 0,
               "redraw": false
              },
              "fromcurrent": true,
              "mode": "immediate",
              "transition": {
               "duration": 0,
               "easing": "linear"
              }
             }
            ],
            "label": "116727166",
            "method": "animate"
           },
           {
            "args": [
             [
              "116735527"
             ],
             {
              "frame": {
               "duration": 0,
               "redraw": false
              },
              "fromcurrent": true,
              "mode": "immediate",
              "transition": {
               "duration": 0,
               "easing": "linear"
              }
             }
            ],
            "label": "116735527",
            "method": "animate"
           },
           {
            "args": [
             [
              "116743822"
             ],
             {
              "frame": {
               "duration": 0,
               "redraw": false
              },
              "fromcurrent": true,
              "mode": "immediate",
              "transition": {
               "duration": 0,
               "easing": "linear"
              }
             }
            ],
            "label": "116743822",
            "method": "animate"
           },
           {
            "args": [
             [
              "116752158"
             ],
             {
              "frame": {
               "duration": 0,
               "redraw": false
              },
              "fromcurrent": true,
              "mode": "immediate",
              "transition": {
               "duration": 0,
               "easing": "linear"
              }
             }
            ],
            "label": "116752158",
            "method": "animate"
           },
           {
            "args": [
             [
              "116760501"
             ],
             {
              "frame": {
               "duration": 0,
               "redraw": false
              },
              "fromcurrent": true,
              "mode": "immediate",
              "transition": {
               "duration": 0,
               "easing": "linear"
              }
             }
            ],
            "label": "116760501",
            "method": "animate"
           },
           {
            "args": [
             [
              "116768821"
             ],
             {
              "frame": {
               "duration": 0,
               "redraw": false
              },
              "fromcurrent": true,
              "mode": "immediate",
              "transition": {
               "duration": 0,
               "easing": "linear"
              }
             }
            ],
            "label": "116768821",
            "method": "animate"
           },
           {
            "args": [
             [
              "116777212"
             ],
             {
              "frame": {
               "duration": 0,
               "redraw": false
              },
              "fromcurrent": true,
              "mode": "immediate",
              "transition": {
               "duration": 0,
               "easing": "linear"
              }
             }
            ],
            "label": "116777212",
            "method": "animate"
           },
           {
            "args": [
             [
              "116785546"
             ],
             {
              "frame": {
               "duration": 0,
               "redraw": false
              },
              "fromcurrent": true,
              "mode": "immediate",
              "transition": {
               "duration": 0,
               "easing": "linear"
              }
             }
            ],
            "label": "116785546",
            "method": "animate"
           },
           {
            "args": [
             [
              "116793823"
             ],
             {
              "frame": {
               "duration": 0,
               "redraw": false
              },
              "fromcurrent": true,
              "mode": "immediate",
              "transition": {
               "duration": 0,
               "easing": "linear"
              }
             }
            ],
            "label": "116793823",
            "method": "animate"
           },
           {
            "args": [
             [
              "116802154"
             ],
             {
              "frame": {
               "duration": 0,
               "redraw": false
              },
              "fromcurrent": true,
              "mode": "immediate",
              "transition": {
               "duration": 0,
               "easing": "linear"
              }
             }
            ],
            "label": "116802154",
            "method": "animate"
           },
           {
            "args": [
             [
              "116810483"
             ],
             {
              "frame": {
               "duration": 0,
               "redraw": false
              },
              "fromcurrent": true,
              "mode": "immediate",
              "transition": {
               "duration": 0,
               "easing": "linear"
              }
             }
            ],
            "label": "116810483",
            "method": "animate"
           },
           {
            "args": [
             [
              "116818818"
             ],
             {
              "frame": {
               "duration": 0,
               "redraw": false
              },
              "fromcurrent": true,
              "mode": "immediate",
              "transition": {
               "duration": 0,
               "easing": "linear"
              }
             }
            ],
            "label": "116818818",
            "method": "animate"
           },
           {
            "args": [
             [
              "116827158"
             ],
             {
              "frame": {
               "duration": 0,
               "redraw": false
              },
              "fromcurrent": true,
              "mode": "immediate",
              "transition": {
               "duration": 0,
               "easing": "linear"
              }
             }
            ],
            "label": "116827158",
            "method": "animate"
           },
           {
            "args": [
             [
              "116835483"
             ],
             {
              "frame": {
               "duration": 0,
               "redraw": false
              },
              "fromcurrent": true,
              "mode": "immediate",
              "transition": {
               "duration": 0,
               "easing": "linear"
              }
             }
            ],
            "label": "116835483",
            "method": "animate"
           },
           {
            "args": [
             [
              "116843816"
             ],
             {
              "frame": {
               "duration": 0,
               "redraw": false
              },
              "fromcurrent": true,
              "mode": "immediate",
              "transition": {
               "duration": 0,
               "easing": "linear"
              }
             }
            ],
            "label": "116843816",
            "method": "animate"
           },
           {
            "args": [
             [
              "116852151"
             ],
             {
              "frame": {
               "duration": 0,
               "redraw": false
              },
              "fromcurrent": true,
              "mode": "immediate",
              "transition": {
               "duration": 0,
               "easing": "linear"
              }
             }
            ],
            "label": "116852151",
            "method": "animate"
           },
           {
            "args": [
             [
              "116860479"
             ],
             {
              "frame": {
               "duration": 0,
               "redraw": false
              },
              "fromcurrent": true,
              "mode": "immediate",
              "transition": {
               "duration": 0,
               "easing": "linear"
              }
             }
            ],
            "label": "116860479",
            "method": "animate"
           },
           {
            "args": [
             [
              "116868811"
             ],
             {
              "frame": {
               "duration": 0,
               "redraw": false
              },
              "fromcurrent": true,
              "mode": "immediate",
              "transition": {
               "duration": 0,
               "easing": "linear"
              }
             }
            ],
            "label": "116868811",
            "method": "animate"
           },
           {
            "args": [
             [
              "116877149"
             ],
             {
              "frame": {
               "duration": 0,
               "redraw": false
              },
              "fromcurrent": true,
              "mode": "immediate",
              "transition": {
               "duration": 0,
               "easing": "linear"
              }
             }
            ],
            "label": "116877149",
            "method": "animate"
           },
           {
            "args": [
             [
              "116885478"
             ],
             {
              "frame": {
               "duration": 0,
               "redraw": false
              },
              "fromcurrent": true,
              "mode": "immediate",
              "transition": {
               "duration": 0,
               "easing": "linear"
              }
             }
            ],
            "label": "116885478",
            "method": "animate"
           },
           {
            "args": [
             [
              "116893812"
             ],
             {
              "frame": {
               "duration": 0,
               "redraw": false
              },
              "fromcurrent": true,
              "mode": "immediate",
              "transition": {
               "duration": 0,
               "easing": "linear"
              }
             }
            ],
            "label": "116893812",
            "method": "animate"
           },
           {
            "args": [
             [
              "116902145"
             ],
             {
              "frame": {
               "duration": 0,
               "redraw": false
              },
              "fromcurrent": true,
              "mode": "immediate",
              "transition": {
               "duration": 0,
               "easing": "linear"
              }
             }
            ],
            "label": "116902145",
            "method": "animate"
           },
           {
            "args": [
             [
              "116910476"
             ],
             {
              "frame": {
               "duration": 0,
               "redraw": false
              },
              "fromcurrent": true,
              "mode": "immediate",
              "transition": {
               "duration": 0,
               "easing": "linear"
              }
             }
            ],
            "label": "116910476",
            "method": "animate"
           },
           {
            "args": [
             [
              "116918810"
             ],
             {
              "frame": {
               "duration": 0,
               "redraw": false
              },
              "fromcurrent": true,
              "mode": "immediate",
              "transition": {
               "duration": 0,
               "easing": "linear"
              }
             }
            ],
            "label": "116918810",
            "method": "animate"
           },
           {
            "args": [
             [
              "116927143"
             ],
             {
              "frame": {
               "duration": 0,
               "redraw": false
              },
              "fromcurrent": true,
              "mode": "immediate",
              "transition": {
               "duration": 0,
               "easing": "linear"
              }
             }
            ],
            "label": "116927143",
            "method": "animate"
           },
           {
            "args": [
             [
              "116935472"
             ],
             {
              "frame": {
               "duration": 0,
               "redraw": false
              },
              "fromcurrent": true,
              "mode": "immediate",
              "transition": {
               "duration": 0,
               "easing": "linear"
              }
             }
            ],
            "label": "116935472",
            "method": "animate"
           },
           {
            "args": [
             [
              "116943807"
             ],
             {
              "frame": {
               "duration": 0,
               "redraw": false
              },
              "fromcurrent": true,
              "mode": "immediate",
              "transition": {
               "duration": 0,
               "easing": "linear"
              }
             }
            ],
            "label": "116943807",
            "method": "animate"
           },
           {
            "args": [
             [
              "116952144"
             ],
             {
              "frame": {
               "duration": 0,
               "redraw": false
              },
              "fromcurrent": true,
              "mode": "immediate",
              "transition": {
               "duration": 0,
               "easing": "linear"
              }
             }
            ],
            "label": "116952144",
            "method": "animate"
           },
           {
            "args": [
             [
              "116960527"
             ],
             {
              "frame": {
               "duration": 0,
               "redraw": false
              },
              "fromcurrent": true,
              "mode": "immediate",
              "transition": {
               "duration": 0,
               "easing": "linear"
              }
             }
            ],
            "label": "116960527",
            "method": "animate"
           },
           {
            "args": [
             [
              "116968806"
             ],
             {
              "frame": {
               "duration": 0,
               "redraw": false
              },
              "fromcurrent": true,
              "mode": "immediate",
              "transition": {
               "duration": 0,
               "easing": "linear"
              }
             }
            ],
            "label": "116968806",
            "method": "animate"
           },
           {
            "args": [
             [
              "116977200"
             ],
             {
              "frame": {
               "duration": 0,
               "redraw": false
              },
              "fromcurrent": true,
              "mode": "immediate",
              "transition": {
               "duration": 0,
               "easing": "linear"
              }
             }
            ],
            "label": "116977200",
            "method": "animate"
           },
           {
            "args": [
             [
              "116985472"
             ],
             {
              "frame": {
               "duration": 0,
               "redraw": false
              },
              "fromcurrent": true,
              "mode": "immediate",
              "transition": {
               "duration": 0,
               "easing": "linear"
              }
             }
            ],
            "label": "116985472",
            "method": "animate"
           },
           {
            "args": [
             [
              "116993803"
             ],
             {
              "frame": {
               "duration": 0,
               "redraw": false
              },
              "fromcurrent": true,
              "mode": "immediate",
              "transition": {
               "duration": 0,
               "easing": "linear"
              }
             }
            ],
            "label": "116993803",
            "method": "animate"
           },
           {
            "args": [
             [
              "117002147"
             ],
             {
              "frame": {
               "duration": 0,
               "redraw": false
              },
              "fromcurrent": true,
              "mode": "immediate",
              "transition": {
               "duration": 0,
               "easing": "linear"
              }
             }
            ],
            "label": "117002147",
            "method": "animate"
           },
           {
            "args": [
             [
              "117010477"
             ],
             {
              "frame": {
               "duration": 0,
               "redraw": false
              },
              "fromcurrent": true,
              "mode": "immediate",
              "transition": {
               "duration": 0,
               "easing": "linear"
              }
             }
            ],
            "label": "117010477",
            "method": "animate"
           },
           {
            "args": [
             [
              "117018841"
             ],
             {
              "frame": {
               "duration": 0,
               "redraw": false
              },
              "fromcurrent": true,
              "mode": "immediate",
              "transition": {
               "duration": 0,
               "easing": "linear"
              }
             }
            ],
            "label": "117018841",
            "method": "animate"
           },
           {
            "args": [
             [
              "117027140"
             ],
             {
              "frame": {
               "duration": 0,
               "redraw": false
              },
              "fromcurrent": true,
              "mode": "immediate",
              "transition": {
               "duration": 0,
               "easing": "linear"
              }
             }
            ],
            "label": "117027140",
            "method": "animate"
           },
           {
            "args": [
             [
              "117035483"
             ],
             {
              "frame": {
               "duration": 0,
               "redraw": false
              },
              "fromcurrent": true,
              "mode": "immediate",
              "transition": {
               "duration": 0,
               "easing": "linear"
              }
             }
            ],
            "label": "117035483",
            "method": "animate"
           },
           {
            "args": [
             [
              "117043855"
             ],
             {
              "frame": {
               "duration": 0,
               "redraw": false
              },
              "fromcurrent": true,
              "mode": "immediate",
              "transition": {
               "duration": 0,
               "easing": "linear"
              }
             }
            ],
            "label": "117043855",
            "method": "animate"
           },
           {
            "args": [
             [
              "117052134"
             ],
             {
              "frame": {
               "duration": 0,
               "redraw": false
              },
              "fromcurrent": true,
              "mode": "immediate",
              "transition": {
               "duration": 0,
               "easing": "linear"
              }
             }
            ],
            "label": "117052134",
            "method": "animate"
           },
           {
            "args": [
             [
              "117060523"
             ],
             {
              "frame": {
               "duration": 0,
               "redraw": false
              },
              "fromcurrent": true,
              "mode": "immediate",
              "transition": {
               "duration": 0,
               "easing": "linear"
              }
             }
            ],
            "label": "117060523",
            "method": "animate"
           },
           {
            "args": [
             [
              "117068796"
             ],
             {
              "frame": {
               "duration": 0,
               "redraw": false
              },
              "fromcurrent": true,
              "mode": "immediate",
              "transition": {
               "duration": 0,
               "easing": "linear"
              }
             }
            ],
            "label": "117068796",
            "method": "animate"
           },
           {
            "args": [
             [
              "117077128"
             ],
             {
              "frame": {
               "duration": 0,
               "redraw": false
              },
              "fromcurrent": true,
              "mode": "immediate",
              "transition": {
               "duration": 0,
               "easing": "linear"
              }
             }
            ],
            "label": "117077128",
            "method": "animate"
           },
           {
            "args": [
             [
              "117085489"
             ],
             {
              "frame": {
               "duration": 0,
               "redraw": false
              },
              "fromcurrent": true,
              "mode": "immediate",
              "transition": {
               "duration": 0,
               "easing": "linear"
              }
             }
            ],
            "label": "117085489",
            "method": "animate"
           },
           {
            "args": [
             [
              "117093849"
             ],
             {
              "frame": {
               "duration": 0,
               "redraw": false
              },
              "fromcurrent": true,
              "mode": "immediate",
              "transition": {
               "duration": 0,
               "easing": "linear"
              }
             }
            ],
            "label": "117093849",
            "method": "animate"
           },
           {
            "args": [
             [
              "117102126"
             ],
             {
              "frame": {
               "duration": 0,
               "redraw": false
              },
              "fromcurrent": true,
              "mode": "immediate",
              "transition": {
               "duration": 0,
               "easing": "linear"
              }
             }
            ],
            "label": "117102126",
            "method": "animate"
           },
           {
            "args": [
             [
              "117110466"
             ],
             {
              "frame": {
               "duration": 0,
               "redraw": false
              },
              "fromcurrent": true,
              "mode": "immediate",
              "transition": {
               "duration": 0,
               "easing": "linear"
              }
             }
            ],
            "label": "117110466",
            "method": "animate"
           },
           {
            "args": [
             [
              "117118798"
             ],
             {
              "frame": {
               "duration": 0,
               "redraw": false
              },
              "fromcurrent": true,
              "mode": "immediate",
              "transition": {
               "duration": 0,
               "easing": "linear"
              }
             }
            ],
            "label": "117118798",
            "method": "animate"
           },
           {
            "args": [
             [
              "117127135"
             ],
             {
              "frame": {
               "duration": 0,
               "redraw": false
              },
              "fromcurrent": true,
              "mode": "immediate",
              "transition": {
               "duration": 0,
               "easing": "linear"
              }
             }
            ],
            "label": "117127135",
            "method": "animate"
           },
           {
            "args": [
             [
              "117135454"
             ],
             {
              "frame": {
               "duration": 0,
               "redraw": false
              },
              "fromcurrent": true,
              "mode": "immediate",
              "transition": {
               "duration": 0,
               "easing": "linear"
              }
             }
            ],
            "label": "117135454",
            "method": "animate"
           },
           {
            "args": [
             [
              "117143887"
             ],
             {
              "frame": {
               "duration": 0,
               "redraw": false
              },
              "fromcurrent": true,
              "mode": "immediate",
              "transition": {
               "duration": 0,
               "easing": "linear"
              }
             }
            ],
            "label": "117143887",
            "method": "animate"
           },
           {
            "args": [
             [
              "117152182"
             ],
             {
              "frame": {
               "duration": 0,
               "redraw": false
              },
              "fromcurrent": true,
              "mode": "immediate",
              "transition": {
               "duration": 0,
               "easing": "linear"
              }
             }
            ],
            "label": "117152182",
            "method": "animate"
           },
           {
            "args": [
             [
              "117160471"
             ],
             {
              "frame": {
               "duration": 0,
               "redraw": false
              },
              "fromcurrent": true,
              "mode": "immediate",
              "transition": {
               "duration": 0,
               "easing": "linear"
              }
             }
            ],
            "label": "117160471",
            "method": "animate"
           },
           {
            "args": [
             [
              "117168787"
             ],
             {
              "frame": {
               "duration": 0,
               "redraw": false
              },
              "fromcurrent": true,
              "mode": "immediate",
              "transition": {
               "duration": 0,
               "easing": "linear"
              }
             }
            ],
            "label": "117168787",
            "method": "animate"
           },
           {
            "args": [
             [
              "117177190"
             ],
             {
              "frame": {
               "duration": 0,
               "redraw": false
              },
              "fromcurrent": true,
              "mode": "immediate",
              "transition": {
               "duration": 0,
               "easing": "linear"
              }
             }
            ],
            "label": "117177190",
            "method": "animate"
           },
           {
            "args": [
             [
              "117185460"
             ],
             {
              "frame": {
               "duration": 0,
               "redraw": false
              },
              "fromcurrent": true,
              "mode": "immediate",
              "transition": {
               "duration": 0,
               "easing": "linear"
              }
             }
            ],
            "label": "117185460",
            "method": "animate"
           },
           {
            "args": [
             [
              "117193795"
             ],
             {
              "frame": {
               "duration": 0,
               "redraw": false
              },
              "fromcurrent": true,
              "mode": "immediate",
              "transition": {
               "duration": 0,
               "easing": "linear"
              }
             }
            ],
            "label": "117193795",
            "method": "animate"
           },
           {
            "args": [
             [
              "117202127"
             ],
             {
              "frame": {
               "duration": 0,
               "redraw": false
              },
              "fromcurrent": true,
              "mode": "immediate",
              "transition": {
               "duration": 0,
               "easing": "linear"
              }
             }
            ],
            "label": "117202127",
            "method": "animate"
           },
           {
            "args": [
             [
              "117210459"
             ],
             {
              "frame": {
               "duration": 0,
               "redraw": false
              },
              "fromcurrent": true,
              "mode": "immediate",
              "transition": {
               "duration": 0,
               "easing": "linear"
              }
             }
            ],
            "label": "117210459",
            "method": "animate"
           },
           {
            "args": [
             [
              "117218823"
             ],
             {
              "frame": {
               "duration": 0,
               "redraw": false
              },
              "fromcurrent": true,
              "mode": "immediate",
              "transition": {
               "duration": 0,
               "easing": "linear"
              }
             }
            ],
            "label": "117218823",
            "method": "animate"
           },
           {
            "args": [
             [
              "117227126"
             ],
             {
              "frame": {
               "duration": 0,
               "redraw": false
              },
              "fromcurrent": true,
              "mode": "immediate",
              "transition": {
               "duration": 0,
               "easing": "linear"
              }
             }
            ],
            "label": "117227126",
            "method": "animate"
           },
           {
            "args": [
             [
              "117235491"
             ],
             {
              "frame": {
               "duration": 0,
               "redraw": false
              },
              "fromcurrent": true,
              "mode": "immediate",
              "transition": {
               "duration": 0,
               "easing": "linear"
              }
             }
            ],
            "label": "117235491",
            "method": "animate"
           },
           {
            "args": [
             [
              "117243792"
             ],
             {
              "frame": {
               "duration": 0,
               "redraw": false
              },
              "fromcurrent": true,
              "mode": "immediate",
              "transition": {
               "duration": 0,
               "easing": "linear"
              }
             }
            ],
            "label": "117243792",
            "method": "animate"
           },
           {
            "args": [
             [
              "117252119"
             ],
             {
              "frame": {
               "duration": 0,
               "redraw": false
              },
              "fromcurrent": true,
              "mode": "immediate",
              "transition": {
               "duration": 0,
               "easing": "linear"
              }
             }
            ],
            "label": "117252119",
            "method": "animate"
           },
           {
            "args": [
             [
              "117260447"
             ],
             {
              "frame": {
               "duration": 0,
               "redraw": false
              },
              "fromcurrent": true,
              "mode": "immediate",
              "transition": {
               "duration": 0,
               "easing": "linear"
              }
             }
            ],
            "label": "117260447",
            "method": "animate"
           },
           {
            "args": [
             [
              "117268788"
             ],
             {
              "frame": {
               "duration": 0,
               "redraw": false
              },
              "fromcurrent": true,
              "mode": "immediate",
              "transition": {
               "duration": 0,
               "easing": "linear"
              }
             }
            ],
            "label": "117268788",
            "method": "animate"
           },
           {
            "args": [
             [
              "117277119"
             ],
             {
              "frame": {
               "duration": 0,
               "redraw": false
              },
              "fromcurrent": true,
              "mode": "immediate",
              "transition": {
               "duration": 0,
               "easing": "linear"
              }
             }
            ],
            "label": "117277119",
            "method": "animate"
           },
           {
            "args": [
             [
              "117285486"
             ],
             {
              "frame": {
               "duration": 0,
               "redraw": false
              },
              "fromcurrent": true,
              "mode": "immediate",
              "transition": {
               "duration": 0,
               "easing": "linear"
              }
             }
            ],
            "label": "117285486",
            "method": "animate"
           },
           {
            "args": [
             [
              "117293841"
             ],
             {
              "frame": {
               "duration": 0,
               "redraw": false
              },
              "fromcurrent": true,
              "mode": "immediate",
              "transition": {
               "duration": 0,
               "easing": "linear"
              }
             }
            ],
            "label": "117293841",
            "method": "animate"
           },
           {
            "args": [
             [
              "117302117"
             ],
             {
              "frame": {
               "duration": 0,
               "redraw": false
              },
              "fromcurrent": true,
              "mode": "immediate",
              "transition": {
               "duration": 0,
               "easing": "linear"
              }
             }
            ],
            "label": "117302117",
            "method": "animate"
           },
           {
            "args": [
             [
              "117310451"
             ],
             {
              "frame": {
               "duration": 0,
               "redraw": false
              },
              "fromcurrent": true,
              "mode": "immediate",
              "transition": {
               "duration": 0,
               "easing": "linear"
              }
             }
            ],
            "label": "117310451",
            "method": "animate"
           },
           {
            "args": [
             [
              "117318778"
             ],
             {
              "frame": {
               "duration": 0,
               "redraw": false
              },
              "fromcurrent": true,
              "mode": "immediate",
              "transition": {
               "duration": 0,
               "easing": "linear"
              }
             }
            ],
            "label": "117318778",
            "method": "animate"
           },
           {
            "args": [
             [
              "117327113"
             ],
             {
              "frame": {
               "duration": 0,
               "redraw": false
              },
              "fromcurrent": true,
              "mode": "immediate",
              "transition": {
               "duration": 0,
               "easing": "linear"
              }
             }
            ],
            "label": "117327113",
            "method": "animate"
           },
           {
            "args": [
             [
              "117335526"
             ],
             {
              "frame": {
               "duration": 0,
               "redraw": false
              },
              "fromcurrent": true,
              "mode": "immediate",
              "transition": {
               "duration": 0,
               "easing": "linear"
              }
             }
            ],
            "label": "117335526",
            "method": "animate"
           },
           {
            "args": [
             [
              "117343772"
             ],
             {
              "frame": {
               "duration": 0,
               "redraw": false
              },
              "fromcurrent": true,
              "mode": "immediate",
              "transition": {
               "duration": 0,
               "easing": "linear"
              }
             }
            ],
            "label": "117343772",
            "method": "animate"
           },
           {
            "args": [
             [
              "117352151"
             ],
             {
              "frame": {
               "duration": 0,
               "redraw": false
              },
              "fromcurrent": true,
              "mode": "immediate",
              "transition": {
               "duration": 0,
               "easing": "linear"
              }
             }
            ],
            "label": "117352151",
            "method": "animate"
           },
           {
            "args": [
             [
              "117360439"
             ],
             {
              "frame": {
               "duration": 0,
               "redraw": false
              },
              "fromcurrent": true,
              "mode": "immediate",
              "transition": {
               "duration": 0,
               "easing": "linear"
              }
             }
            ],
            "label": "117360439",
            "method": "animate"
           },
           {
            "args": [
             [
              "117368872"
             ],
             {
              "frame": {
               "duration": 0,
               "redraw": false
              },
              "fromcurrent": true,
              "mode": "immediate",
              "transition": {
               "duration": 0,
               "easing": "linear"
              }
             }
            ],
            "label": "117368872",
            "method": "animate"
           },
           {
            "args": [
             [
              "117377204"
             ],
             {
              "frame": {
               "duration": 0,
               "redraw": false
              },
              "fromcurrent": true,
              "mode": "immediate",
              "transition": {
               "duration": 0,
               "easing": "linear"
              }
             }
            ],
            "label": "117377204",
            "method": "animate"
           },
           {
            "args": [
             [
              "117385460"
             ],
             {
              "frame": {
               "duration": 0,
               "redraw": false
              },
              "fromcurrent": true,
              "mode": "immediate",
              "transition": {
               "duration": 0,
               "easing": "linear"
              }
             }
            ],
            "label": "117385460",
            "method": "animate"
           },
           {
            "args": [
             [
              "117393769"
             ],
             {
              "frame": {
               "duration": 0,
               "redraw": false
              },
              "fromcurrent": true,
              "mode": "immediate",
              "transition": {
               "duration": 0,
               "easing": "linear"
              }
             }
            ],
            "label": "117393769",
            "method": "animate"
           },
           {
            "args": [
             [
              "117402103"
             ],
             {
              "frame": {
               "duration": 0,
               "redraw": false
              },
              "fromcurrent": true,
              "mode": "immediate",
              "transition": {
               "duration": 0,
               "easing": "linear"
              }
             }
            ],
            "label": "117402103",
            "method": "animate"
           },
           {
            "args": [
             [
              "117410434"
             ],
             {
              "frame": {
               "duration": 0,
               "redraw": false
              },
              "fromcurrent": true,
              "mode": "immediate",
              "transition": {
               "duration": 0,
               "easing": "linear"
              }
             }
            ],
            "label": "117410434",
            "method": "animate"
           },
           {
            "args": [
             [
              "117418831"
             ],
             {
              "frame": {
               "duration": 0,
               "redraw": false
              },
              "fromcurrent": true,
              "mode": "immediate",
              "transition": {
               "duration": 0,
               "easing": "linear"
              }
             }
            ],
            "label": "117418831",
            "method": "animate"
           },
           {
            "args": [
             [
              "117427102"
             ],
             {
              "frame": {
               "duration": 0,
               "redraw": false
              },
              "fromcurrent": true,
              "mode": "immediate",
              "transition": {
               "duration": 0,
               "easing": "linear"
              }
             }
            ],
            "label": "117427102",
            "method": "animate"
           },
           {
            "args": [
             [
              "117435432"
             ],
             {
              "frame": {
               "duration": 0,
               "redraw": false
              },
              "fromcurrent": true,
              "mode": "immediate",
              "transition": {
               "duration": 0,
               "easing": "linear"
              }
             }
            ],
            "label": "117435432",
            "method": "animate"
           },
           {
            "args": [
             [
              "117443837"
             ],
             {
              "frame": {
               "duration": 0,
               "redraw": false
              },
              "fromcurrent": true,
              "mode": "immediate",
              "transition": {
               "duration": 0,
               "easing": "linear"
              }
             }
            ],
            "label": "117443837",
            "method": "animate"
           },
           {
            "args": [
             [
              "117452160"
             ],
             {
              "frame": {
               "duration": 0,
               "redraw": false
              },
              "fromcurrent": true,
              "mode": "immediate",
              "transition": {
               "duration": 0,
               "easing": "linear"
              }
             }
            ],
            "label": "117452160",
            "method": "animate"
           },
           {
            "args": [
             [
              "117460487"
             ],
             {
              "frame": {
               "duration": 0,
               "redraw": false
              },
              "fromcurrent": true,
              "mode": "immediate",
              "transition": {
               "duration": 0,
               "easing": "linear"
              }
             }
            ],
            "label": "117460487",
            "method": "animate"
           },
           {
            "args": [
             [
              "117468822"
             ],
             {
              "frame": {
               "duration": 0,
               "redraw": false
              },
              "fromcurrent": true,
              "mode": "immediate",
              "transition": {
               "duration": 0,
               "easing": "linear"
              }
             }
            ],
            "label": "117468822",
            "method": "animate"
           },
           {
            "args": [
             [
              "117477099"
             ],
             {
              "frame": {
               "duration": 0,
               "redraw": false
              },
              "fromcurrent": true,
              "mode": "immediate",
              "transition": {
               "duration": 0,
               "easing": "linear"
              }
             }
            ],
            "label": "117477099",
            "method": "animate"
           },
           {
            "args": [
             [
              "117485486"
             ],
             {
              "frame": {
               "duration": 0,
               "redraw": false
              },
              "fromcurrent": true,
              "mode": "immediate",
              "transition": {
               "duration": 0,
               "easing": "linear"
              }
             }
            ],
            "label": "117485486",
            "method": "animate"
           },
           {
            "args": [
             [
              "117493818"
             ],
             {
              "frame": {
               "duration": 0,
               "redraw": false
              },
              "fromcurrent": true,
              "mode": "immediate",
              "transition": {
               "duration": 0,
               "easing": "linear"
              }
             }
            ],
            "label": "117493818",
            "method": "animate"
           },
           {
            "args": [
             [
              "117502152"
             ],
             {
              "frame": {
               "duration": 0,
               "redraw": false
              },
              "fromcurrent": true,
              "mode": "immediate",
              "transition": {
               "duration": 0,
               "easing": "linear"
              }
             }
            ],
            "label": "117502152",
            "method": "animate"
           },
           {
            "args": [
             [
              "117510491"
             ],
             {
              "frame": {
               "duration": 0,
               "redraw": false
              },
              "fromcurrent": true,
              "mode": "immediate",
              "transition": {
               "duration": 0,
               "easing": "linear"
              }
             }
            ],
            "label": "117510491",
            "method": "animate"
           },
           {
            "args": [
             [
              "117518817"
             ],
             {
              "frame": {
               "duration": 0,
               "redraw": false
              },
              "fromcurrent": true,
              "mode": "immediate",
              "transition": {
               "duration": 0,
               "easing": "linear"
              }
             }
            ],
            "label": "117518817",
            "method": "animate"
           },
           {
            "args": [
             [
              "117527094"
             ],
             {
              "frame": {
               "duration": 0,
               "redraw": false
              },
              "fromcurrent": true,
              "mode": "immediate",
              "transition": {
               "duration": 0,
               "easing": "linear"
              }
             }
            ],
            "label": "117527094",
            "method": "animate"
           },
           {
            "args": [
             [
              "117535488"
             ],
             {
              "frame": {
               "duration": 0,
               "redraw": false
              },
              "fromcurrent": true,
              "mode": "immediate",
              "transition": {
               "duration": 0,
               "easing": "linear"
              }
             }
            ],
            "label": "117535488",
            "method": "animate"
           },
           {
            "args": [
             [
              "117543812"
             ],
             {
              "frame": {
               "duration": 0,
               "redraw": false
              },
              "fromcurrent": true,
              "mode": "immediate",
              "transition": {
               "duration": 0,
               "easing": "linear"
              }
             }
            ],
            "label": "117543812",
            "method": "animate"
           },
           {
            "args": [
             [
              "117552149"
             ],
             {
              "frame": {
               "duration": 0,
               "redraw": false
              },
              "fromcurrent": true,
              "mode": "immediate",
              "transition": {
               "duration": 0,
               "easing": "linear"
              }
             }
            ],
            "label": "117552149",
            "method": "animate"
           },
           {
            "args": [
             [
              "117560482"
             ],
             {
              "frame": {
               "duration": 0,
               "redraw": false
              },
              "fromcurrent": true,
              "mode": "immediate",
              "transition": {
               "duration": 0,
               "easing": "linear"
              }
             }
            ],
            "label": "117560482",
            "method": "animate"
           },
           {
            "args": [
             [
              "117568819"
             ],
             {
              "frame": {
               "duration": 0,
               "redraw": false
              },
              "fromcurrent": true,
              "mode": "immediate",
              "transition": {
               "duration": 0,
               "easing": "linear"
              }
             }
            ],
            "label": "117568819",
            "method": "animate"
           },
           {
            "args": [
             [
              "117577093"
             ],
             {
              "frame": {
               "duration": 0,
               "redraw": false
              },
              "fromcurrent": true,
              "mode": "immediate",
              "transition": {
               "duration": 0,
               "easing": "linear"
              }
             }
            ],
            "label": "117577093",
            "method": "animate"
           },
           {
            "args": [
             [
              "117585421"
             ],
             {
              "frame": {
               "duration": 0,
               "redraw": false
              },
              "fromcurrent": true,
              "mode": "immediate",
              "transition": {
               "duration": 0,
               "easing": "linear"
              }
             }
            ],
            "label": "117585421",
            "method": "animate"
           },
           {
            "args": [
             [
              "117593807"
             ],
             {
              "frame": {
               "duration": 0,
               "redraw": false
              },
              "fromcurrent": true,
              "mode": "immediate",
              "transition": {
               "duration": 0,
               "easing": "linear"
              }
             }
            ],
            "label": "117593807",
            "method": "animate"
           },
           {
            "args": [
             [
              "117602091"
             ],
             {
              "frame": {
               "duration": 0,
               "redraw": false
              },
              "fromcurrent": true,
              "mode": "immediate",
              "transition": {
               "duration": 0,
               "easing": "linear"
              }
             }
            ],
            "label": "117602091",
            "method": "animate"
           },
           {
            "args": [
             [
              "117610485"
             ],
             {
              "frame": {
               "duration": 0,
               "redraw": false
              },
              "fromcurrent": true,
              "mode": "immediate",
              "transition": {
               "duration": 0,
               "easing": "linear"
              }
             }
            ],
            "label": "117610485",
            "method": "animate"
           },
           {
            "args": [
             [
              "117618751"
             ],
             {
              "frame": {
               "duration": 0,
               "redraw": false
              },
              "fromcurrent": true,
              "mode": "immediate",
              "transition": {
               "duration": 0,
               "easing": "linear"
              }
             }
            ],
            "label": "117618751",
            "method": "animate"
           },
           {
            "args": [
             [
              "117627142"
             ],
             {
              "frame": {
               "duration": 0,
               "redraw": false
              },
              "fromcurrent": true,
              "mode": "immediate",
              "transition": {
               "duration": 0,
               "easing": "linear"
              }
             }
            ],
            "label": "117627142",
            "method": "animate"
           },
           {
            "args": [
             [
              "117635480"
             ],
             {
              "frame": {
               "duration": 0,
               "redraw": false
              },
              "fromcurrent": true,
              "mode": "immediate",
              "transition": {
               "duration": 0,
               "easing": "linear"
              }
             }
            ],
            "label": "117635480",
            "method": "animate"
           },
           {
            "args": [
             [
              "117643750"
             ],
             {
              "frame": {
               "duration": 0,
               "redraw": false
              },
              "fromcurrent": true,
              "mode": "immediate",
              "transition": {
               "duration": 0,
               "easing": "linear"
              }
             }
            ],
            "label": "117643750",
            "method": "animate"
           },
           {
            "args": [
             [
              "117652086"
             ],
             {
              "frame": {
               "duration": 0,
               "redraw": false
              },
              "fromcurrent": true,
              "mode": "immediate",
              "transition": {
               "duration": 0,
               "easing": "linear"
              }
             }
            ],
            "label": "117652086",
            "method": "animate"
           },
           {
            "args": [
             [
              "117660416"
             ],
             {
              "frame": {
               "duration": 0,
               "redraw": false
              },
              "fromcurrent": true,
              "mode": "immediate",
              "transition": {
               "duration": 0,
               "easing": "linear"
              }
             }
            ],
            "label": "117660416",
            "method": "animate"
           },
           {
            "args": [
             [
              "117668749"
             ],
             {
              "frame": {
               "duration": 0,
               "redraw": false
              },
              "fromcurrent": true,
              "mode": "immediate",
              "transition": {
               "duration": 0,
               "easing": "linear"
              }
             }
            ],
            "label": "117668749",
            "method": "animate"
           },
           {
            "args": [
             [
              "117677102"
             ],
             {
              "frame": {
               "duration": 0,
               "redraw": false
              },
              "fromcurrent": true,
              "mode": "immediate",
              "transition": {
               "duration": 0,
               "easing": "linear"
              }
             }
            ],
            "label": "117677102",
            "method": "animate"
           },
           {
            "args": [
             [
              "117685413"
             ],
             {
              "frame": {
               "duration": 0,
               "redraw": false
              },
              "fromcurrent": true,
              "mode": "immediate",
              "transition": {
               "duration": 0,
               "easing": "linear"
              }
             }
            ],
            "label": "117685413",
            "method": "animate"
           },
           {
            "args": [
             [
              "117693745"
             ],
             {
              "frame": {
               "duration": 0,
               "redraw": false
              },
              "fromcurrent": true,
              "mode": "immediate",
              "transition": {
               "duration": 0,
               "easing": "linear"
              }
             }
            ],
            "label": "117693745",
            "method": "animate"
           },
           {
            "args": [
             [
              "117702082"
             ],
             {
              "frame": {
               "duration": 0,
               "redraw": false
              },
              "fromcurrent": true,
              "mode": "immediate",
              "transition": {
               "duration": 0,
               "easing": "linear"
              }
             }
            ],
            "label": "117702082",
            "method": "animate"
           },
           {
            "args": [
             [
              "117710471"
             ],
             {
              "frame": {
               "duration": 0,
               "redraw": false
              },
              "fromcurrent": true,
              "mode": "immediate",
              "transition": {
               "duration": 0,
               "easing": "linear"
              }
             }
            ],
            "label": "117710471",
            "method": "animate"
           },
           {
            "args": [
             [
              "117718747"
             ],
             {
              "frame": {
               "duration": 0,
               "redraw": false
              },
              "fromcurrent": true,
              "mode": "immediate",
              "transition": {
               "duration": 0,
               "easing": "linear"
              }
             }
            ],
            "label": "117718747",
            "method": "animate"
           },
           {
            "args": [
             [
              "117727079"
             ],
             {
              "frame": {
               "duration": 0,
               "redraw": false
              },
              "fromcurrent": true,
              "mode": "immediate",
              "transition": {
               "duration": 0,
               "easing": "linear"
              }
             }
            ],
            "label": "117727079",
            "method": "animate"
           },
           {
            "args": [
             [
              "117735464"
             ],
             {
              "frame": {
               "duration": 0,
               "redraw": false
              },
              "fromcurrent": true,
              "mode": "immediate",
              "transition": {
               "duration": 0,
               "easing": "linear"
              }
             }
            ],
            "label": "117735464",
            "method": "animate"
           },
           {
            "args": [
             [
              "117743798"
             ],
             {
              "frame": {
               "duration": 0,
               "redraw": false
              },
              "fromcurrent": true,
              "mode": "immediate",
              "transition": {
               "duration": 0,
               "easing": "linear"
              }
             }
            ],
            "label": "117743798",
            "method": "animate"
           },
           {
            "args": [
             [
              "117752078"
             ],
             {
              "frame": {
               "duration": 0,
               "redraw": false
              },
              "fromcurrent": true,
              "mode": "immediate",
              "transition": {
               "duration": 0,
               "easing": "linear"
              }
             }
            ],
            "label": "117752078",
            "method": "animate"
           },
           {
            "args": [
             [
              "117760407"
             ],
             {
              "frame": {
               "duration": 0,
               "redraw": false
              },
              "fromcurrent": true,
              "mode": "immediate",
              "transition": {
               "duration": 0,
               "easing": "linear"
              }
             }
            ],
            "label": "117760407",
            "method": "animate"
           },
           {
            "args": [
             [
              "117768742"
             ],
             {
              "frame": {
               "duration": 0,
               "redraw": false
              },
              "fromcurrent": true,
              "mode": "immediate",
              "transition": {
               "duration": 0,
               "easing": "linear"
              }
             }
            ],
            "label": "117768742",
            "method": "animate"
           },
           {
            "args": [
             [
              "117777132"
             ],
             {
              "frame": {
               "duration": 0,
               "redraw": false
              },
              "fromcurrent": true,
              "mode": "immediate",
              "transition": {
               "duration": 0,
               "easing": "linear"
              }
             }
            ],
            "label": "117777132",
            "method": "animate"
           },
           {
            "args": [
             [
              "117785413"
             ],
             {
              "frame": {
               "duration": 0,
               "redraw": false
              },
              "fromcurrent": true,
              "mode": "immediate",
              "transition": {
               "duration": 0,
               "easing": "linear"
              }
             }
            ],
            "label": "117785413",
            "method": "animate"
           },
           {
            "args": [
             [
              "117793735"
             ],
             {
              "frame": {
               "duration": 0,
               "redraw": false
              },
              "fromcurrent": true,
              "mode": "immediate",
              "transition": {
               "duration": 0,
               "easing": "linear"
              }
             }
            ],
            "label": "117793735",
            "method": "animate"
           },
           {
            "args": [
             [
              "117802075"
             ],
             {
              "frame": {
               "duration": 0,
               "redraw": false
              },
              "fromcurrent": true,
              "mode": "immediate",
              "transition": {
               "duration": 0,
               "easing": "linear"
              }
             }
            ],
            "label": "117802075",
            "method": "animate"
           },
           {
            "args": [
             [
              "117810405"
             ],
             {
              "frame": {
               "duration": 0,
               "redraw": false
              },
              "fromcurrent": true,
              "mode": "immediate",
              "transition": {
               "duration": 0,
               "easing": "linear"
              }
             }
            ],
            "label": "117810405",
            "method": "animate"
           },
           {
            "args": [
             [
              "117818733"
             ],
             {
              "frame": {
               "duration": 0,
               "redraw": false
              },
              "fromcurrent": true,
              "mode": "immediate",
              "transition": {
               "duration": 0,
               "easing": "linear"
              }
             }
            ],
            "label": "117818733",
            "method": "animate"
           },
           {
            "args": [
             [
              "117827150"
             ],
             {
              "frame": {
               "duration": 0,
               "redraw": false
              },
              "fromcurrent": true,
              "mode": "immediate",
              "transition": {
               "duration": 0,
               "easing": "linear"
              }
             }
            ],
            "label": "117827150",
            "method": "animate"
           },
           {
            "args": [
             [
              "117835398"
             ],
             {
              "frame": {
               "duration": 0,
               "redraw": false
              },
              "fromcurrent": true,
              "mode": "immediate",
              "transition": {
               "duration": 0,
               "easing": "linear"
              }
             }
            ],
            "label": "117835398",
            "method": "animate"
           },
           {
            "args": [
             [
              "117843741"
             ],
             {
              "frame": {
               "duration": 0,
               "redraw": false
              },
              "fromcurrent": true,
              "mode": "immediate",
              "transition": {
               "duration": 0,
               "easing": "linear"
              }
             }
            ],
            "label": "117843741",
            "method": "animate"
           },
           {
            "args": [
             [
              "117852067"
             ],
             {
              "frame": {
               "duration": 0,
               "redraw": false
              },
              "fromcurrent": true,
              "mode": "immediate",
              "transition": {
               "duration": 0,
               "easing": "linear"
              }
             }
            ],
            "label": "117852067",
            "method": "animate"
           },
           {
            "args": [
             [
              "117860400"
             ],
             {
              "frame": {
               "duration": 0,
               "redraw": false
              },
              "fromcurrent": true,
              "mode": "immediate",
              "transition": {
               "duration": 0,
               "easing": "linear"
              }
             }
            ],
            "label": "117860400",
            "method": "animate"
           },
           {
            "args": [
             [
              "117868730"
             ],
             {
              "frame": {
               "duration": 0,
               "redraw": false
              },
              "fromcurrent": true,
              "mode": "immediate",
              "transition": {
               "duration": 0,
               "easing": "linear"
              }
             }
            ],
            "label": "117868730",
            "method": "animate"
           },
           {
            "args": [
             [
              "117877067"
             ],
             {
              "frame": {
               "duration": 0,
               "redraw": false
              },
              "fromcurrent": true,
              "mode": "immediate",
              "transition": {
               "duration": 0,
               "easing": "linear"
              }
             }
            ],
            "label": "117877067",
            "method": "animate"
           },
           {
            "args": [
             [
              "117885400"
             ],
             {
              "frame": {
               "duration": 0,
               "redraw": false
              },
              "fromcurrent": true,
              "mode": "immediate",
              "transition": {
               "duration": 0,
               "easing": "linear"
              }
             }
            ],
            "label": "117885400",
            "method": "animate"
           },
           {
            "args": [
             [
              "117893787"
             ],
             {
              "frame": {
               "duration": 0,
               "redraw": false
              },
              "fromcurrent": true,
              "mode": "immediate",
              "transition": {
               "duration": 0,
               "easing": "linear"
              }
             }
            ],
            "label": "117893787",
            "method": "animate"
           },
           {
            "args": [
             [
              "117902066"
             ],
             {
              "frame": {
               "duration": 0,
               "redraw": false
              },
              "fromcurrent": true,
              "mode": "immediate",
              "transition": {
               "duration": 0,
               "easing": "linear"
              }
             }
            ],
            "label": "117902066",
            "method": "animate"
           },
           {
            "args": [
             [
              "117910443"
             ],
             {
              "frame": {
               "duration": 0,
               "redraw": false
              },
              "fromcurrent": true,
              "mode": "immediate",
              "transition": {
               "duration": 0,
               "easing": "linear"
              }
             }
            ],
            "label": "117910443",
            "method": "animate"
           },
           {
            "args": [
             [
              "117918775"
             ],
             {
              "frame": {
               "duration": 0,
               "redraw": false
              },
              "fromcurrent": true,
              "mode": "immediate",
              "transition": {
               "duration": 0,
               "easing": "linear"
              }
             }
            ],
            "label": "117918775",
            "method": "animate"
           },
           {
            "args": [
             [
              "117927074"
             ],
             {
              "frame": {
               "duration": 0,
               "redraw": false
              },
              "fromcurrent": true,
              "mode": "immediate",
              "transition": {
               "duration": 0,
               "easing": "linear"
              }
             }
            ],
            "label": "117927074",
            "method": "animate"
           },
           {
            "args": [
             [
              "117935410"
             ],
             {
              "frame": {
               "duration": 0,
               "redraw": false
              },
              "fromcurrent": true,
              "mode": "immediate",
              "transition": {
               "duration": 0,
               "easing": "linear"
              }
             }
            ],
            "label": "117935410",
            "method": "animate"
           },
           {
            "args": [
             [
              "117943786"
             ],
             {
              "frame": {
               "duration": 0,
               "redraw": false
              },
              "fromcurrent": true,
              "mode": "immediate",
              "transition": {
               "duration": 0,
               "easing": "linear"
              }
             }
            ],
            "label": "117943786",
            "method": "animate"
           },
           {
            "args": [
             [
              "117952059"
             ],
             {
              "frame": {
               "duration": 0,
               "redraw": false
              },
              "fromcurrent": true,
              "mode": "immediate",
              "transition": {
               "duration": 0,
               "easing": "linear"
              }
             }
            ],
            "label": "117952059",
            "method": "animate"
           },
           {
            "args": [
             [
              "117960449"
             ],
             {
              "frame": {
               "duration": 0,
               "redraw": false
              },
              "fromcurrent": true,
              "mode": "immediate",
              "transition": {
               "duration": 0,
               "easing": "linear"
              }
             }
            ],
            "label": "117960449",
            "method": "animate"
           },
           {
            "args": [
             [
              "117968786"
             ],
             {
              "frame": {
               "duration": 0,
               "redraw": false
              },
              "fromcurrent": true,
              "mode": "immediate",
              "transition": {
               "duration": 0,
               "easing": "linear"
              }
             }
            ],
            "label": "117968786",
            "method": "animate"
           },
           {
            "args": [
             [
              "117977066"
             ],
             {
              "frame": {
               "duration": 0,
               "redraw": false
              },
              "fromcurrent": true,
              "mode": "immediate",
              "transition": {
               "duration": 0,
               "easing": "linear"
              }
             }
            ],
            "label": "117977066",
            "method": "animate"
           },
           {
            "args": [
             [
              "117985390"
             ],
             {
              "frame": {
               "duration": 0,
               "redraw": false
              },
              "fromcurrent": true,
              "mode": "immediate",
              "transition": {
               "duration": 0,
               "easing": "linear"
              }
             }
            ],
            "label": "117985390",
            "method": "animate"
           },
           {
            "args": [
             [
              "117993732"
             ],
             {
              "frame": {
               "duration": 0,
               "redraw": false
              },
              "fromcurrent": true,
              "mode": "immediate",
              "transition": {
               "duration": 0,
               "easing": "linear"
              }
             }
            ],
            "label": "117993732",
            "method": "animate"
           },
           {
            "args": [
             [
              "118002056"
             ],
             {
              "frame": {
               "duration": 0,
               "redraw": false
              },
              "fromcurrent": true,
              "mode": "immediate",
              "transition": {
               "duration": 0,
               "easing": "linear"
              }
             }
            ],
            "label": "118002056",
            "method": "animate"
           },
           {
            "args": [
             [
              "118010474"
             ],
             {
              "frame": {
               "duration": 0,
               "redraw": false
              },
              "fromcurrent": true,
              "mode": "immediate",
              "transition": {
               "duration": 0,
               "easing": "linear"
              }
             }
            ],
            "label": "118010474",
            "method": "animate"
           },
           {
            "args": [
             [
              "118018734"
             ],
             {
              "frame": {
               "duration": 0,
               "redraw": false
              },
              "fromcurrent": true,
              "mode": "immediate",
              "transition": {
               "duration": 0,
               "easing": "linear"
              }
             }
            ],
            "label": "118018734",
            "method": "animate"
           },
           {
            "args": [
             [
              "118027115"
             ],
             {
              "frame": {
               "duration": 0,
               "redraw": false
              },
              "fromcurrent": true,
              "mode": "immediate",
              "transition": {
               "duration": 0,
               "easing": "linear"
              }
             }
            ],
            "label": "118027115",
            "method": "animate"
           },
           {
            "args": [
             [
              "118035385"
             ],
             {
              "frame": {
               "duration": 0,
               "redraw": false
              },
              "fromcurrent": true,
              "mode": "immediate",
              "transition": {
               "duration": 0,
               "easing": "linear"
              }
             }
            ],
            "label": "118035385",
            "method": "animate"
           },
           {
            "args": [
             [
              "118043718"
             ],
             {
              "frame": {
               "duration": 0,
               "redraw": false
              },
              "fromcurrent": true,
              "mode": "immediate",
              "transition": {
               "duration": 0,
               "easing": "linear"
              }
             }
            ],
            "label": "118043718",
            "method": "animate"
           },
           {
            "args": [
             [
              "118052052"
             ],
             {
              "frame": {
               "duration": 0,
               "redraw": false
              },
              "fromcurrent": true,
              "mode": "immediate",
              "transition": {
               "duration": 0,
               "easing": "linear"
              }
             }
            ],
            "label": "118052052",
            "method": "animate"
           },
           {
            "args": [
             [
              "118060384"
             ],
             {
              "frame": {
               "duration": 0,
               "redraw": false
              },
              "fromcurrent": true,
              "mode": "immediate",
              "transition": {
               "duration": 0,
               "easing": "linear"
              }
             }
            ],
            "label": "118060384",
            "method": "animate"
           },
           {
            "args": [
             [
              "118068715"
             ],
             {
              "frame": {
               "duration": 0,
               "redraw": false
              },
              "fromcurrent": true,
              "mode": "immediate",
              "transition": {
               "duration": 0,
               "easing": "linear"
              }
             }
            ],
            "label": "118068715",
            "method": "animate"
           },
           {
            "args": [
             [
              "118077049"
             ],
             {
              "frame": {
               "duration": 0,
               "redraw": false
              },
              "fromcurrent": true,
              "mode": "immediate",
              "transition": {
               "duration": 0,
               "easing": "linear"
              }
             }
            ],
            "label": "118077049",
            "method": "animate"
           },
           {
            "args": [
             [
              "118085381"
             ],
             {
              "frame": {
               "duration": 0,
               "redraw": false
              },
              "fromcurrent": true,
              "mode": "immediate",
              "transition": {
               "duration": 0,
               "easing": "linear"
              }
             }
            ],
            "label": "118085381",
            "method": "animate"
           },
           {
            "args": [
             [
              "118093714"
             ],
             {
              "frame": {
               "duration": 0,
               "redraw": false
              },
              "fromcurrent": true,
              "mode": "immediate",
              "transition": {
               "duration": 0,
               "easing": "linear"
              }
             }
            ],
            "label": "118093714",
            "method": "animate"
           },
           {
            "args": [
             [
              "118102049"
             ],
             {
              "frame": {
               "duration": 0,
               "redraw": false
              },
              "fromcurrent": true,
              "mode": "immediate",
              "transition": {
               "duration": 0,
               "easing": "linear"
              }
             }
            ],
            "label": "118102049",
            "method": "animate"
           },
           {
            "args": [
             [
              "118110379"
             ],
             {
              "frame": {
               "duration": 0,
               "redraw": false
              },
              "fromcurrent": true,
              "mode": "immediate",
              "transition": {
               "duration": 0,
               "easing": "linear"
              }
             }
            ],
            "label": "118110379",
            "method": "animate"
           },
           {
            "args": [
             [
              "118118711"
             ],
             {
              "frame": {
               "duration": 0,
               "redraw": false
              },
              "fromcurrent": true,
              "mode": "immediate",
              "transition": {
               "duration": 0,
               "easing": "linear"
              }
             }
            ],
            "label": "118118711",
            "method": "animate"
           },
           {
            "args": [
             [
              "118127048"
             ],
             {
              "frame": {
               "duration": 0,
               "redraw": false
              },
              "fromcurrent": true,
              "mode": "immediate",
              "transition": {
               "duration": 0,
               "easing": "linear"
              }
             }
            ],
            "label": "118127048",
            "method": "animate"
           },
           {
            "args": [
             [
              "118135436"
             ],
             {
              "frame": {
               "duration": 0,
               "redraw": false
              },
              "fromcurrent": true,
              "mode": "immediate",
              "transition": {
               "duration": 0,
               "easing": "linear"
              }
             }
            ],
            "label": "118135436",
            "method": "animate"
           },
           {
            "args": [
             [
              "118143765"
             ],
             {
              "frame": {
               "duration": 0,
               "redraw": false
              },
              "fromcurrent": true,
              "mode": "immediate",
              "transition": {
               "duration": 0,
               "easing": "linear"
              }
             }
            ],
            "label": "118143765",
            "method": "animate"
           },
           {
            "args": [
             [
              "118152099"
             ],
             {
              "frame": {
               "duration": 0,
               "redraw": false
              },
              "fromcurrent": true,
              "mode": "immediate",
              "transition": {
               "duration": 0,
               "easing": "linear"
              }
             }
            ],
            "label": "118152099",
            "method": "animate"
           },
           {
            "args": [
             [
              "118160451"
             ],
             {
              "frame": {
               "duration": 0,
               "redraw": false
              },
              "fromcurrent": true,
              "mode": "immediate",
              "transition": {
               "duration": 0,
               "easing": "linear"
              }
             }
            ],
            "label": "118160451",
            "method": "animate"
           },
           {
            "args": [
             [
              "118168710"
             ],
             {
              "frame": {
               "duration": 0,
               "redraw": false
              },
              "fromcurrent": true,
              "mode": "immediate",
              "transition": {
               "duration": 0,
               "easing": "linear"
              }
             }
            ],
            "label": "118168710",
            "method": "animate"
           },
           {
            "args": [
             [
              "118177108"
             ],
             {
              "frame": {
               "duration": 0,
               "redraw": false
              },
              "fromcurrent": true,
              "mode": "immediate",
              "transition": {
               "duration": 0,
               "easing": "linear"
              }
             }
            ],
            "label": "118177108",
            "method": "animate"
           },
           {
            "args": [
             [
              "118185427"
             ],
             {
              "frame": {
               "duration": 0,
               "redraw": false
              },
              "fromcurrent": true,
              "mode": "immediate",
              "transition": {
               "duration": 0,
               "easing": "linear"
              }
             }
            ],
            "label": "118185427",
            "method": "animate"
           },
           {
            "args": [
             [
              "118193759"
             ],
             {
              "frame": {
               "duration": 0,
               "redraw": false
              },
              "fromcurrent": true,
              "mode": "immediate",
              "transition": {
               "duration": 0,
               "easing": "linear"
              }
             }
            ],
            "label": "118193759",
            "method": "animate"
           },
           {
            "args": [
             [
              "118202043"
             ],
             {
              "frame": {
               "duration": 0,
               "redraw": false
              },
              "fromcurrent": true,
              "mode": "immediate",
              "transition": {
               "duration": 0,
               "easing": "linear"
              }
             }
            ],
            "label": "118202043",
            "method": "animate"
           },
           {
            "args": [
             [
              "118210429"
             ],
             {
              "frame": {
               "duration": 0,
               "redraw": false
              },
              "fromcurrent": true,
              "mode": "immediate",
              "transition": {
               "duration": 0,
               "easing": "linear"
              }
             }
            ],
            "label": "118210429",
            "method": "animate"
           },
           {
            "args": [
             [
              "118218702"
             ],
             {
              "frame": {
               "duration": 0,
               "redraw": false
              },
              "fromcurrent": true,
              "mode": "immediate",
              "transition": {
               "duration": 0,
               "easing": "linear"
              }
             }
            ],
            "label": "118218702",
            "method": "animate"
           },
           {
            "args": [
             [
              "118227038"
             ],
             {
              "frame": {
               "duration": 0,
               "redraw": false
              },
              "fromcurrent": true,
              "mode": "immediate",
              "transition": {
               "duration": 0,
               "easing": "linear"
              }
             }
            ],
            "label": "118227038",
            "method": "animate"
           },
           {
            "args": [
             [
              "118235378"
             ],
             {
              "frame": {
               "duration": 0,
               "redraw": false
              },
              "fromcurrent": true,
              "mode": "immediate",
              "transition": {
               "duration": 0,
               "easing": "linear"
              }
             }
            ],
            "label": "118235378",
            "method": "animate"
           },
           {
            "args": [
             [
              "118243755"
             ],
             {
              "frame": {
               "duration": 0,
               "redraw": false
              },
              "fromcurrent": true,
              "mode": "immediate",
              "transition": {
               "duration": 0,
               "easing": "linear"
              }
             }
            ],
            "label": "118243755",
            "method": "animate"
           },
           {
            "args": [
             [
              "118252090"
             ],
             {
              "frame": {
               "duration": 0,
               "redraw": false
              },
              "fromcurrent": true,
              "mode": "immediate",
              "transition": {
               "duration": 0,
               "easing": "linear"
              }
             }
            ],
            "label": "118252090",
            "method": "animate"
           },
           {
            "args": [
             [
              "118260427"
             ],
             {
              "frame": {
               "duration": 0,
               "redraw": false
              },
              "fromcurrent": true,
              "mode": "immediate",
              "transition": {
               "duration": 0,
               "easing": "linear"
              }
             }
            ],
            "label": "118260427",
            "method": "animate"
           },
           {
            "args": [
             [
              "118268755"
             ],
             {
              "frame": {
               "duration": 0,
               "redraw": false
              },
              "fromcurrent": true,
              "mode": "immediate",
              "transition": {
               "duration": 0,
               "easing": "linear"
              }
             }
            ],
            "label": "118268755",
            "method": "animate"
           },
           {
            "args": [
             [
              "118277105"
             ],
             {
              "frame": {
               "duration": 0,
               "redraw": false
              },
              "fromcurrent": true,
              "mode": "immediate",
              "transition": {
               "duration": 0,
               "easing": "linear"
              }
             }
            ],
            "label": "118277105",
            "method": "animate"
           },
           {
            "args": [
             [
              "118285420"
             ],
             {
              "frame": {
               "duration": 0,
               "redraw": false
              },
              "fromcurrent": true,
              "mode": "immediate",
              "transition": {
               "duration": 0,
               "easing": "linear"
              }
             }
            ],
            "label": "118285420",
            "method": "animate"
           },
           {
            "args": [
             [
              "118293756"
             ],
             {
              "frame": {
               "duration": 0,
               "redraw": false
              },
              "fromcurrent": true,
              "mode": "immediate",
              "transition": {
               "duration": 0,
               "easing": "linear"
              }
             }
            ],
            "label": "118293756",
            "method": "animate"
           },
           {
            "args": [
             [
              "118302031"
             ],
             {
              "frame": {
               "duration": 0,
               "redraw": false
              },
              "fromcurrent": true,
              "mode": "immediate",
              "transition": {
               "duration": 0,
               "easing": "linear"
              }
             }
            ],
            "label": "118302031",
            "method": "animate"
           },
           {
            "args": [
             [
              "118310418"
             ],
             {
              "frame": {
               "duration": 0,
               "redraw": false
              },
              "fromcurrent": true,
              "mode": "immediate",
              "transition": {
               "duration": 0,
               "easing": "linear"
              }
             }
            ],
            "label": "118310418",
            "method": "animate"
           },
           {
            "args": [
             [
              "118318755"
             ],
             {
              "frame": {
               "duration": 0,
               "redraw": false
              },
              "fromcurrent": true,
              "mode": "immediate",
              "transition": {
               "duration": 0,
               "easing": "linear"
              }
             }
            ],
            "label": "118318755",
            "method": "animate"
           },
           {
            "args": [
             [
              "118327067"
             ],
             {
              "frame": {
               "duration": 0,
               "redraw": false
              },
              "fromcurrent": true,
              "mode": "immediate",
              "transition": {
               "duration": 0,
               "easing": "linear"
              }
             }
            ],
            "label": "118327067",
            "method": "animate"
           },
           {
            "args": [
             [
              "118335360"
             ],
             {
              "frame": {
               "duration": 0,
               "redraw": false
              },
              "fromcurrent": true,
              "mode": "immediate",
              "transition": {
               "duration": 0,
               "easing": "linear"
              }
             }
            ],
            "label": "118335360",
            "method": "animate"
           },
           {
            "args": [
             [
              "118343749"
             ],
             {
              "frame": {
               "duration": 0,
               "redraw": false
              },
              "fromcurrent": true,
              "mode": "immediate",
              "transition": {
               "duration": 0,
               "easing": "linear"
              }
             }
            ],
            "label": "118343749",
            "method": "animate"
           },
           {
            "args": [
             [
              "118352089"
             ],
             {
              "frame": {
               "duration": 0,
               "redraw": false
              },
              "fromcurrent": true,
              "mode": "immediate",
              "transition": {
               "duration": 0,
               "easing": "linear"
              }
             }
            ],
            "label": "118352089",
            "method": "animate"
           },
           {
            "args": [
             [
              "118360437"
             ],
             {
              "frame": {
               "duration": 0,
               "redraw": false
              },
              "fromcurrent": true,
              "mode": "immediate",
              "transition": {
               "duration": 0,
               "easing": "linear"
              }
             }
            ],
            "label": "118360437",
            "method": "animate"
           },
           {
            "args": [
             [
              "118368692"
             ],
             {
              "frame": {
               "duration": 0,
               "redraw": false
              },
              "fromcurrent": true,
              "mode": "immediate",
              "transition": {
               "duration": 0,
               "easing": "linear"
              }
             }
            ],
            "label": "118368692",
            "method": "animate"
           },
           {
            "args": [
             [
              "118377030"
             ],
             {
              "frame": {
               "duration": 0,
               "redraw": false
              },
              "fromcurrent": true,
              "mode": "immediate",
              "transition": {
               "duration": 0,
               "easing": "linear"
              }
             }
            ],
            "label": "118377030",
            "method": "animate"
           },
           {
            "args": [
             [
              "118385366"
             ],
             {
              "frame": {
               "duration": 0,
               "redraw": false
              },
              "fromcurrent": true,
              "mode": "immediate",
              "transition": {
               "duration": 0,
               "easing": "linear"
              }
             }
            ],
            "label": "118385366",
            "method": "animate"
           },
           {
            "args": [
             [
              "118393690"
             ],
             {
              "frame": {
               "duration": 0,
               "redraw": false
              },
              "fromcurrent": true,
              "mode": "immediate",
              "transition": {
               "duration": 0,
               "easing": "linear"
              }
             }
            ],
            "label": "118393690",
            "method": "animate"
           },
           {
            "args": [
             [
              "118402108"
             ],
             {
              "frame": {
               "duration": 0,
               "redraw": false
              },
              "fromcurrent": true,
              "mode": "immediate",
              "transition": {
               "duration": 0,
               "easing": "linear"
              }
             }
            ],
            "label": "118402108",
            "method": "animate"
           },
           {
            "args": [
             [
              "118410354"
             ],
             {
              "frame": {
               "duration": 0,
               "redraw": false
              },
              "fromcurrent": true,
              "mode": "immediate",
              "transition": {
               "duration": 0,
               "easing": "linear"
              }
             }
            ],
            "label": "118410354",
            "method": "animate"
           },
           {
            "args": [
             [
              "118418746"
             ],
             {
              "frame": {
               "duration": 0,
               "redraw": false
              },
              "fromcurrent": true,
              "mode": "immediate",
              "transition": {
               "duration": 0,
               "easing": "linear"
              }
             }
            ],
            "label": "118418746",
            "method": "animate"
           }
          ],
          "x": 0.1,
          "xanchor": "left",
          "y": 0,
          "yanchor": "top"
         }
        ],
        "template": {
         "data": {
          "bar": [
           {
            "error_x": {
             "color": "#2a3f5f"
            },
            "error_y": {
             "color": "#2a3f5f"
            },
            "marker": {
             "line": {
              "color": "#E5ECF6",
              "width": 0.5
             }
            },
            "type": "bar"
           }
          ],
          "barpolar": [
           {
            "marker": {
             "line": {
              "color": "#E5ECF6",
              "width": 0.5
             }
            },
            "type": "barpolar"
           }
          ],
          "carpet": [
           {
            "aaxis": {
             "endlinecolor": "#2a3f5f",
             "gridcolor": "white",
             "linecolor": "white",
             "minorgridcolor": "white",
             "startlinecolor": "#2a3f5f"
            },
            "baxis": {
             "endlinecolor": "#2a3f5f",
             "gridcolor": "white",
             "linecolor": "white",
             "minorgridcolor": "white",
             "startlinecolor": "#2a3f5f"
            },
            "type": "carpet"
           }
          ],
          "choropleth": [
           {
            "colorbar": {
             "outlinewidth": 0,
             "ticks": ""
            },
            "type": "choropleth"
           }
          ],
          "contour": [
           {
            "colorbar": {
             "outlinewidth": 0,
             "ticks": ""
            },
            "colorscale": [
             [
              0,
              "#0d0887"
             ],
             [
              0.1111111111111111,
              "#46039f"
             ],
             [
              0.2222222222222222,
              "#7201a8"
             ],
             [
              0.3333333333333333,
              "#9c179e"
             ],
             [
              0.4444444444444444,
              "#bd3786"
             ],
             [
              0.5555555555555556,
              "#d8576b"
             ],
             [
              0.6666666666666666,
              "#ed7953"
             ],
             [
              0.7777777777777778,
              "#fb9f3a"
             ],
             [
              0.8888888888888888,
              "#fdca26"
             ],
             [
              1,
              "#f0f921"
             ]
            ],
            "type": "contour"
           }
          ],
          "contourcarpet": [
           {
            "colorbar": {
             "outlinewidth": 0,
             "ticks": ""
            },
            "type": "contourcarpet"
           }
          ],
          "heatmap": [
           {
            "colorbar": {
             "outlinewidth": 0,
             "ticks": ""
            },
            "colorscale": [
             [
              0,
              "#0d0887"
             ],
             [
              0.1111111111111111,
              "#46039f"
             ],
             [
              0.2222222222222222,
              "#7201a8"
             ],
             [
              0.3333333333333333,
              "#9c179e"
             ],
             [
              0.4444444444444444,
              "#bd3786"
             ],
             [
              0.5555555555555556,
              "#d8576b"
             ],
             [
              0.6666666666666666,
              "#ed7953"
             ],
             [
              0.7777777777777778,
              "#fb9f3a"
             ],
             [
              0.8888888888888888,
              "#fdca26"
             ],
             [
              1,
              "#f0f921"
             ]
            ],
            "type": "heatmap"
           }
          ],
          "heatmapgl": [
           {
            "colorbar": {
             "outlinewidth": 0,
             "ticks": ""
            },
            "colorscale": [
             [
              0,
              "#0d0887"
             ],
             [
              0.1111111111111111,
              "#46039f"
             ],
             [
              0.2222222222222222,
              "#7201a8"
             ],
             [
              0.3333333333333333,
              "#9c179e"
             ],
             [
              0.4444444444444444,
              "#bd3786"
             ],
             [
              0.5555555555555556,
              "#d8576b"
             ],
             [
              0.6666666666666666,
              "#ed7953"
             ],
             [
              0.7777777777777778,
              "#fb9f3a"
             ],
             [
              0.8888888888888888,
              "#fdca26"
             ],
             [
              1,
              "#f0f921"
             ]
            ],
            "type": "heatmapgl"
           }
          ],
          "histogram": [
           {
            "marker": {
             "colorbar": {
              "outlinewidth": 0,
              "ticks": ""
             }
            },
            "type": "histogram"
           }
          ],
          "histogram2d": [
           {
            "colorbar": {
             "outlinewidth": 0,
             "ticks": ""
            },
            "colorscale": [
             [
              0,
              "#0d0887"
             ],
             [
              0.1111111111111111,
              "#46039f"
             ],
             [
              0.2222222222222222,
              "#7201a8"
             ],
             [
              0.3333333333333333,
              "#9c179e"
             ],
             [
              0.4444444444444444,
              "#bd3786"
             ],
             [
              0.5555555555555556,
              "#d8576b"
             ],
             [
              0.6666666666666666,
              "#ed7953"
             ],
             [
              0.7777777777777778,
              "#fb9f3a"
             ],
             [
              0.8888888888888888,
              "#fdca26"
             ],
             [
              1,
              "#f0f921"
             ]
            ],
            "type": "histogram2d"
           }
          ],
          "histogram2dcontour": [
           {
            "colorbar": {
             "outlinewidth": 0,
             "ticks": ""
            },
            "colorscale": [
             [
              0,
              "#0d0887"
             ],
             [
              0.1111111111111111,
              "#46039f"
             ],
             [
              0.2222222222222222,
              "#7201a8"
             ],
             [
              0.3333333333333333,
              "#9c179e"
             ],
             [
              0.4444444444444444,
              "#bd3786"
             ],
             [
              0.5555555555555556,
              "#d8576b"
             ],
             [
              0.6666666666666666,
              "#ed7953"
             ],
             [
              0.7777777777777778,
              "#fb9f3a"
             ],
             [
              0.8888888888888888,
              "#fdca26"
             ],
             [
              1,
              "#f0f921"
             ]
            ],
            "type": "histogram2dcontour"
           }
          ],
          "mesh3d": [
           {
            "colorbar": {
             "outlinewidth": 0,
             "ticks": ""
            },
            "type": "mesh3d"
           }
          ],
          "parcoords": [
           {
            "line": {
             "colorbar": {
              "outlinewidth": 0,
              "ticks": ""
             }
            },
            "type": "parcoords"
           }
          ],
          "pie": [
           {
            "automargin": true,
            "type": "pie"
           }
          ],
          "scatter": [
           {
            "marker": {
             "colorbar": {
              "outlinewidth": 0,
              "ticks": ""
             }
            },
            "type": "scatter"
           }
          ],
          "scatter3d": [
           {
            "line": {
             "colorbar": {
              "outlinewidth": 0,
              "ticks": ""
             }
            },
            "marker": {
             "colorbar": {
              "outlinewidth": 0,
              "ticks": ""
             }
            },
            "type": "scatter3d"
           }
          ],
          "scattercarpet": [
           {
            "marker": {
             "colorbar": {
              "outlinewidth": 0,
              "ticks": ""
             }
            },
            "type": "scattercarpet"
           }
          ],
          "scattergeo": [
           {
            "marker": {
             "colorbar": {
              "outlinewidth": 0,
              "ticks": ""
             }
            },
            "type": "scattergeo"
           }
          ],
          "scattergl": [
           {
            "marker": {
             "colorbar": {
              "outlinewidth": 0,
              "ticks": ""
             }
            },
            "type": "scattergl"
           }
          ],
          "scattermapbox": [
           {
            "marker": {
             "colorbar": {
              "outlinewidth": 0,
              "ticks": ""
             }
            },
            "type": "scattermapbox"
           }
          ],
          "scatterpolar": [
           {
            "marker": {
             "colorbar": {
              "outlinewidth": 0,
              "ticks": ""
             }
            },
            "type": "scatterpolar"
           }
          ],
          "scatterpolargl": [
           {
            "marker": {
             "colorbar": {
              "outlinewidth": 0,
              "ticks": ""
             }
            },
            "type": "scatterpolargl"
           }
          ],
          "scatterternary": [
           {
            "marker": {
             "colorbar": {
              "outlinewidth": 0,
              "ticks": ""
             }
            },
            "type": "scatterternary"
           }
          ],
          "surface": [
           {
            "colorbar": {
             "outlinewidth": 0,
             "ticks": ""
            },
            "colorscale": [
             [
              0,
              "#0d0887"
             ],
             [
              0.1111111111111111,
              "#46039f"
             ],
             [
              0.2222222222222222,
              "#7201a8"
             ],
             [
              0.3333333333333333,
              "#9c179e"
             ],
             [
              0.4444444444444444,
              "#bd3786"
             ],
             [
              0.5555555555555556,
              "#d8576b"
             ],
             [
              0.6666666666666666,
              "#ed7953"
             ],
             [
              0.7777777777777778,
              "#fb9f3a"
             ],
             [
              0.8888888888888888,
              "#fdca26"
             ],
             [
              1,
              "#f0f921"
             ]
            ],
            "type": "surface"
           }
          ],
          "table": [
           {
            "cells": {
             "fill": {
              "color": "#EBF0F8"
             },
             "line": {
              "color": "white"
             }
            },
            "header": {
             "fill": {
              "color": "#C8D4E3"
             },
             "line": {
              "color": "white"
             }
            },
            "type": "table"
           }
          ]
         },
         "layout": {
          "annotationdefaults": {
           "arrowcolor": "#2a3f5f",
           "arrowhead": 0,
           "arrowwidth": 1
          },
          "coloraxis": {
           "colorbar": {
            "outlinewidth": 0,
            "ticks": ""
           }
          },
          "colorscale": {
           "diverging": [
            [
             0,
             "#8e0152"
            ],
            [
             0.1,
             "#c51b7d"
            ],
            [
             0.2,
             "#de77ae"
            ],
            [
             0.3,
             "#f1b6da"
            ],
            [
             0.4,
             "#fde0ef"
            ],
            [
             0.5,
             "#f7f7f7"
            ],
            [
             0.6,
             "#e6f5d0"
            ],
            [
             0.7,
             "#b8e186"
            ],
            [
             0.8,
             "#7fbc41"
            ],
            [
             0.9,
             "#4d9221"
            ],
            [
             1,
             "#276419"
            ]
           ],
           "sequential": [
            [
             0,
             "#0d0887"
            ],
            [
             0.1111111111111111,
             "#46039f"
            ],
            [
             0.2222222222222222,
             "#7201a8"
            ],
            [
             0.3333333333333333,
             "#9c179e"
            ],
            [
             0.4444444444444444,
             "#bd3786"
            ],
            [
             0.5555555555555556,
             "#d8576b"
            ],
            [
             0.6666666666666666,
             "#ed7953"
            ],
            [
             0.7777777777777778,
             "#fb9f3a"
            ],
            [
             0.8888888888888888,
             "#fdca26"
            ],
            [
             1,
             "#f0f921"
            ]
           ],
           "sequentialminus": [
            [
             0,
             "#0d0887"
            ],
            [
             0.1111111111111111,
             "#46039f"
            ],
            [
             0.2222222222222222,
             "#7201a8"
            ],
            [
             0.3333333333333333,
             "#9c179e"
            ],
            [
             0.4444444444444444,
             "#bd3786"
            ],
            [
             0.5555555555555556,
             "#d8576b"
            ],
            [
             0.6666666666666666,
             "#ed7953"
            ],
            [
             0.7777777777777778,
             "#fb9f3a"
            ],
            [
             0.8888888888888888,
             "#fdca26"
            ],
            [
             1,
             "#f0f921"
            ]
           ]
          },
          "colorway": [
           "#636efa",
           "#EF553B",
           "#00cc96",
           "#ab63fa",
           "#FFA15A",
           "#19d3f3",
           "#FF6692",
           "#B6E880",
           "#FF97FF",
           "#FECB52"
          ],
          "font": {
           "color": "#2a3f5f"
          },
          "geo": {
           "bgcolor": "white",
           "lakecolor": "white",
           "landcolor": "#E5ECF6",
           "showlakes": true,
           "showland": true,
           "subunitcolor": "white"
          },
          "hoverlabel": {
           "align": "left"
          },
          "hovermode": "closest",
          "mapbox": {
           "style": "light"
          },
          "paper_bgcolor": "white",
          "plot_bgcolor": "#E5ECF6",
          "polar": {
           "angularaxis": {
            "gridcolor": "white",
            "linecolor": "white",
            "ticks": ""
           },
           "bgcolor": "#E5ECF6",
           "radialaxis": {
            "gridcolor": "white",
            "linecolor": "white",
            "ticks": ""
           }
          },
          "scene": {
           "xaxis": {
            "backgroundcolor": "#E5ECF6",
            "gridcolor": "white",
            "gridwidth": 2,
            "linecolor": "white",
            "showbackground": true,
            "ticks": "",
            "zerolinecolor": "white"
           },
           "yaxis": {
            "backgroundcolor": "#E5ECF6",
            "gridcolor": "white",
            "gridwidth": 2,
            "linecolor": "white",
            "showbackground": true,
            "ticks": "",
            "zerolinecolor": "white"
           },
           "zaxis": {
            "backgroundcolor": "#E5ECF6",
            "gridcolor": "white",
            "gridwidth": 2,
            "linecolor": "white",
            "showbackground": true,
            "ticks": "",
            "zerolinecolor": "white"
           }
          },
          "shapedefaults": {
           "line": {
            "color": "#2a3f5f"
           }
          },
          "ternary": {
           "aaxis": {
            "gridcolor": "white",
            "linecolor": "white",
            "ticks": ""
           },
           "baxis": {
            "gridcolor": "white",
            "linecolor": "white",
            "ticks": ""
           },
           "bgcolor": "#E5ECF6",
           "caxis": {
            "gridcolor": "white",
            "linecolor": "white",
            "ticks": ""
           }
          },
          "title": {
           "x": 0.05
          },
          "xaxis": {
           "automargin": true,
           "gridcolor": "white",
           "linecolor": "white",
           "ticks": "",
           "title": {
            "standoff": 15
           },
           "zerolinecolor": "white",
           "zerolinewidth": 2
          },
          "yaxis": {
           "automargin": true,
           "gridcolor": "white",
           "linecolor": "white",
           "ticks": "",
           "title": {
            "standoff": 15
           },
           "zerolinecolor": "white",
           "zerolinewidth": 2
          }
         }
        },
        "updatemenus": [
         {
          "buttons": [
           {
            "args": [
             null,
             {
              "frame": {
               "duration": 0.48,
               "redraw": false
              },
              "transition": {
               "duration": 1
              }
             }
            ],
            "label": "Play",
            "method": "animate"
           },
           {
            "args": [
             [
              null
             ],
             {
              "frame": {
               "duration": 0,
               "redraw": false
              },
              "mode": "immediate",
              "transition": {
               "duration": 0
              }
             }
            ],
            "label": "Pause",
            "method": "animate"
           }
          ],
          "type": "buttons"
         }
        ],
        "xaxis": {
         "anchor": "y",
         "domain": [
          0,
          1
         ],
         "range": [
          800,
          2240
         ],
         "title": {
          "text": "Gaze point X"
         }
        },
        "yaxis": {
         "anchor": "x",
         "domain": [
          0,
          1
         ],
         "range": [
          0,
          1601
         ],
         "title": {
          "text": "Gaze point Y"
         }
        }
       }
      },
      "text/html": [
       "<div>\n",
       "        \n",
       "        \n",
       "            <div id=\"d4dfa47b-51c3-460b-8c91-c96ce2e6b34c\" class=\"plotly-graph-div\" style=\"height:525px; width:100%;\"></div>\n",
       "            <script type=\"text/javascript\">\n",
       "                require([\"plotly\"], function(Plotly) {\n",
       "                    window.PLOTLYENV=window.PLOTLYENV || {};\n",
       "                    \n",
       "                if (document.getElementById(\"d4dfa47b-51c3-460b-8c91-c96ce2e6b34c\")) {\n",
       "                    Plotly.newPlot(\n",
       "                        'd4dfa47b-51c3-460b-8c91-c96ce2e6b34c',\n",
       "                        [{\"hovertemplate\": \"Recording timestamp=114427347<br>Gaze point X=%{x}<br>Gaze point Y=%{y}<extra></extra>\", \"legendgroup\": \"\", \"marker\": {\"color\": \"#636efa\", \"symbol\": \"circle\"}, \"mode\": \"markers\", \"name\": \"\", \"orientation\": \"v\", \"showlegend\": false, \"type\": \"scatter\", \"x\": [1378.0], \"xaxis\": \"x\", \"y\": [797.0], \"yaxis\": \"y\"}],\n",
       "                        {\"legend\": {\"tracegroupgap\": 0}, \"margin\": {\"t\": 60}, \"sliders\": [{\"active\": 0, \"currentvalue\": {\"prefix\": \"Recording timestamp=\"}, \"len\": 0.9, \"pad\": {\"b\": 10, \"t\": 60}, \"steps\": [{\"args\": [[\"114427347\"], {\"frame\": {\"duration\": 0, \"redraw\": false}, \"fromcurrent\": true, \"mode\": \"immediate\", \"transition\": {\"duration\": 0, \"easing\": \"linear\"}}], \"label\": \"114427347\", \"method\": \"animate\"}, {\"args\": [[\"114435739\"], {\"frame\": {\"duration\": 0, \"redraw\": false}, \"fromcurrent\": true, \"mode\": \"immediate\", \"transition\": {\"duration\": 0, \"easing\": \"linear\"}}], \"label\": \"114435739\", \"method\": \"animate\"}, {\"args\": [[\"114444098\"], {\"frame\": {\"duration\": 0, \"redraw\": false}, \"fromcurrent\": true, \"mode\": \"immediate\", \"transition\": {\"duration\": 0, \"easing\": \"linear\"}}], \"label\": \"114444098\", \"method\": \"animate\"}, {\"args\": [[\"114452342\"], {\"frame\": {\"duration\": 0, \"redraw\": false}, \"fromcurrent\": true, \"mode\": \"immediate\", \"transition\": {\"duration\": 0, \"easing\": \"linear\"}}], \"label\": \"114452342\", \"method\": \"animate\"}, {\"args\": [[\"114460676\"], {\"frame\": {\"duration\": 0, \"redraw\": false}, \"fromcurrent\": true, \"mode\": \"immediate\", \"transition\": {\"duration\": 0, \"easing\": \"linear\"}}], \"label\": \"114460676\", \"method\": \"animate\"}, {\"args\": [[\"114469009\"], {\"frame\": {\"duration\": 0, \"redraw\": false}, \"fromcurrent\": true, \"mode\": \"immediate\", \"transition\": {\"duration\": 0, \"easing\": \"linear\"}}], \"label\": \"114469009\", \"method\": \"animate\"}, {\"args\": [[\"114477345\"], {\"frame\": {\"duration\": 0, \"redraw\": false}, \"fromcurrent\": true, \"mode\": \"immediate\", \"transition\": {\"duration\": 0, \"easing\": \"linear\"}}], \"label\": \"114477345\", \"method\": \"animate\"}, {\"args\": [[\"114485736\"], {\"frame\": {\"duration\": 0, \"redraw\": false}, \"fromcurrent\": true, \"mode\": \"immediate\", \"transition\": {\"duration\": 0, \"easing\": \"linear\"}}], \"label\": \"114485736\", \"method\": \"animate\"}, {\"args\": [[\"114494008\"], {\"frame\": {\"duration\": 0, \"redraw\": false}, \"fromcurrent\": true, \"mode\": \"immediate\", \"transition\": {\"duration\": 0, \"easing\": \"linear\"}}], \"label\": \"114494008\", \"method\": \"animate\"}, {\"args\": [[\"114502340\"], {\"frame\": {\"duration\": 0, \"redraw\": false}, \"fromcurrent\": true, \"mode\": \"immediate\", \"transition\": {\"duration\": 0, \"easing\": \"linear\"}}], \"label\": \"114502340\", \"method\": \"animate\"}, {\"args\": [[\"114510708\"], {\"frame\": {\"duration\": 0, \"redraw\": false}, \"fromcurrent\": true, \"mode\": \"immediate\", \"transition\": {\"duration\": 0, \"easing\": \"linear\"}}], \"label\": \"114510708\", \"method\": \"animate\"}, {\"args\": [[\"114519038\"], {\"frame\": {\"duration\": 0, \"redraw\": false}, \"fromcurrent\": true, \"mode\": \"immediate\", \"transition\": {\"duration\": 0, \"easing\": \"linear\"}}], \"label\": \"114519038\", \"method\": \"animate\"}, {\"args\": [[\"114527338\"], {\"frame\": {\"duration\": 0, \"redraw\": false}, \"fromcurrent\": true, \"mode\": \"immediate\", \"transition\": {\"duration\": 0, \"easing\": \"linear\"}}], \"label\": \"114527338\", \"method\": \"animate\"}, {\"args\": [[\"114535669\"], {\"frame\": {\"duration\": 0, \"redraw\": false}, \"fromcurrent\": true, \"mode\": \"immediate\", \"transition\": {\"duration\": 0, \"easing\": \"linear\"}}], \"label\": \"114535669\", \"method\": \"animate\"}, {\"args\": [[\"114544008\"], {\"frame\": {\"duration\": 0, \"redraw\": false}, \"fromcurrent\": true, \"mode\": \"immediate\", \"transition\": {\"duration\": 0, \"easing\": \"linear\"}}], \"label\": \"114544008\", \"method\": \"animate\"}, {\"args\": [[\"114552392\"], {\"frame\": {\"duration\": 0, \"redraw\": false}, \"fromcurrent\": true, \"mode\": \"immediate\", \"transition\": {\"duration\": 0, \"easing\": \"linear\"}}], \"label\": \"114552392\", \"method\": \"animate\"}, {\"args\": [[\"114560658\"], {\"frame\": {\"duration\": 0, \"redraw\": false}, \"fromcurrent\": true, \"mode\": \"immediate\", \"transition\": {\"duration\": 0, \"easing\": \"linear\"}}], \"label\": \"114560658\", \"method\": \"animate\"}, {\"args\": [[\"114568993\"], {\"frame\": {\"duration\": 0, \"redraw\": false}, \"fromcurrent\": true, \"mode\": \"immediate\", \"transition\": {\"duration\": 0, \"easing\": \"linear\"}}], \"label\": \"114568993\", \"method\": \"animate\"}, {\"args\": [[\"114577325\"], {\"frame\": {\"duration\": 0, \"redraw\": false}, \"fromcurrent\": true, \"mode\": \"immediate\", \"transition\": {\"duration\": 0, \"easing\": \"linear\"}}], \"label\": \"114577325\", \"method\": \"animate\"}, {\"args\": [[\"114585666\"], {\"frame\": {\"duration\": 0, \"redraw\": false}, \"fromcurrent\": true, \"mode\": \"immediate\", \"transition\": {\"duration\": 0, \"easing\": \"linear\"}}], \"label\": \"114585666\", \"method\": \"animate\"}, {\"args\": [[\"114593999\"], {\"frame\": {\"duration\": 0, \"redraw\": false}, \"fromcurrent\": true, \"mode\": \"immediate\", \"transition\": {\"duration\": 0, \"easing\": \"linear\"}}], \"label\": \"114593999\", \"method\": \"animate\"}, {\"args\": [[\"114602330\"], {\"frame\": {\"duration\": 0, \"redraw\": false}, \"fromcurrent\": true, \"mode\": \"immediate\", \"transition\": {\"duration\": 0, \"easing\": \"linear\"}}], \"label\": \"114602330\", \"method\": \"animate\"}, {\"args\": [[\"114610664\"], {\"frame\": {\"duration\": 0, \"redraw\": false}, \"fromcurrent\": true, \"mode\": \"immediate\", \"transition\": {\"duration\": 0, \"easing\": \"linear\"}}], \"label\": \"114610664\", \"method\": \"animate\"}, {\"args\": [[\"114618997\"], {\"frame\": {\"duration\": 0, \"redraw\": false}, \"fromcurrent\": true, \"mode\": \"immediate\", \"transition\": {\"duration\": 0, \"easing\": \"linear\"}}], \"label\": \"114618997\", \"method\": \"animate\"}, {\"args\": [[\"114627387\"], {\"frame\": {\"duration\": 0, \"redraw\": false}, \"fromcurrent\": true, \"mode\": \"immediate\", \"transition\": {\"duration\": 0, \"easing\": \"linear\"}}], \"label\": \"114627387\", \"method\": \"animate\"}, {\"args\": [[\"114635663\"], {\"frame\": {\"duration\": 0, \"redraw\": false}, \"fromcurrent\": true, \"mode\": \"immediate\", \"transition\": {\"duration\": 0, \"easing\": \"linear\"}}], \"label\": \"114635663\", \"method\": \"animate\"}, {\"args\": [[\"114643998\"], {\"frame\": {\"duration\": 0, \"redraw\": false}, \"fromcurrent\": true, \"mode\": \"immediate\", \"transition\": {\"duration\": 0, \"easing\": \"linear\"}}], \"label\": \"114643998\", \"method\": \"animate\"}, {\"args\": [[\"114652332\"], {\"frame\": {\"duration\": 0, \"redraw\": false}, \"fromcurrent\": true, \"mode\": \"immediate\", \"transition\": {\"duration\": 0, \"easing\": \"linear\"}}], \"label\": \"114652332\", \"method\": \"animate\"}, {\"args\": [[\"114660662\"], {\"frame\": {\"duration\": 0, \"redraw\": false}, \"fromcurrent\": true, \"mode\": \"immediate\", \"transition\": {\"duration\": 0, \"easing\": \"linear\"}}], \"label\": \"114660662\", \"method\": \"animate\"}, {\"args\": [[\"114668993\"], {\"frame\": {\"duration\": 0, \"redraw\": false}, \"fromcurrent\": true, \"mode\": \"immediate\", \"transition\": {\"duration\": 0, \"easing\": \"linear\"}}], \"label\": \"114668993\", \"method\": \"animate\"}, {\"args\": [[\"114677327\"], {\"frame\": {\"duration\": 0, \"redraw\": false}, \"fromcurrent\": true, \"mode\": \"immediate\", \"transition\": {\"duration\": 0, \"easing\": \"linear\"}}], \"label\": \"114677327\", \"method\": \"animate\"}, {\"args\": [[\"114685714\"], {\"frame\": {\"duration\": 0, \"redraw\": false}, \"fromcurrent\": true, \"mode\": \"immediate\", \"transition\": {\"duration\": 0, \"easing\": \"linear\"}}], \"label\": \"114685714\", \"method\": \"animate\"}, {\"args\": [[\"114694049\"], {\"frame\": {\"duration\": 0, \"redraw\": false}, \"fromcurrent\": true, \"mode\": \"immediate\", \"transition\": {\"duration\": 0, \"easing\": \"linear\"}}], \"label\": \"114694049\", \"method\": \"animate\"}, {\"args\": [[\"114702324\"], {\"frame\": {\"duration\": 0, \"redraw\": false}, \"fromcurrent\": true, \"mode\": \"immediate\", \"transition\": {\"duration\": 0, \"easing\": \"linear\"}}], \"label\": \"114702324\", \"method\": \"animate\"}, {\"args\": [[\"114710659\"], {\"frame\": {\"duration\": 0, \"redraw\": false}, \"fromcurrent\": true, \"mode\": \"immediate\", \"transition\": {\"duration\": 0, \"easing\": \"linear\"}}], \"label\": \"114710659\", \"method\": \"animate\"}, {\"args\": [[\"114718993\"], {\"frame\": {\"duration\": 0, \"redraw\": false}, \"fromcurrent\": true, \"mode\": \"immediate\", \"transition\": {\"duration\": 0, \"easing\": \"linear\"}}], \"label\": \"114718993\", \"method\": \"animate\"}, {\"args\": [[\"114727324\"], {\"frame\": {\"duration\": 0, \"redraw\": false}, \"fromcurrent\": true, \"mode\": \"immediate\", \"transition\": {\"duration\": 0, \"easing\": \"linear\"}}], \"label\": \"114727324\", \"method\": \"animate\"}, {\"args\": [[\"114735664\"], {\"frame\": {\"duration\": 0, \"redraw\": false}, \"fromcurrent\": true, \"mode\": \"immediate\", \"transition\": {\"duration\": 0, \"easing\": \"linear\"}}], \"label\": \"114735664\", \"method\": \"animate\"}, {\"args\": [[\"114743992\"], {\"frame\": {\"duration\": 0, \"redraw\": false}, \"fromcurrent\": true, \"mode\": \"immediate\", \"transition\": {\"duration\": 0, \"easing\": \"linear\"}}], \"label\": \"114743992\", \"method\": \"animate\"}, {\"args\": [[\"114752374\"], {\"frame\": {\"duration\": 0, \"redraw\": false}, \"fromcurrent\": true, \"mode\": \"immediate\", \"transition\": {\"duration\": 0, \"easing\": \"linear\"}}], \"label\": \"114752374\", \"method\": \"animate\"}, {\"args\": [[\"114760665\"], {\"frame\": {\"duration\": 0, \"redraw\": false}, \"fromcurrent\": true, \"mode\": \"immediate\", \"transition\": {\"duration\": 0, \"easing\": \"linear\"}}], \"label\": \"114760665\", \"method\": \"animate\"}, {\"args\": [[\"114768986\"], {\"frame\": {\"duration\": 0, \"redraw\": false}, \"fromcurrent\": true, \"mode\": \"immediate\", \"transition\": {\"duration\": 0, \"easing\": \"linear\"}}], \"label\": \"114768986\", \"method\": \"animate\"}, {\"args\": [[\"114777318\"], {\"frame\": {\"duration\": 0, \"redraw\": false}, \"fromcurrent\": true, \"mode\": \"immediate\", \"transition\": {\"duration\": 0, \"easing\": \"linear\"}}], \"label\": \"114777318\", \"method\": \"animate\"}, {\"args\": [[\"114785661\"], {\"frame\": {\"duration\": 0, \"redraw\": false}, \"fromcurrent\": true, \"mode\": \"immediate\", \"transition\": {\"duration\": 0, \"easing\": \"linear\"}}], \"label\": \"114785661\", \"method\": \"animate\"}, {\"args\": [[\"114793985\"], {\"frame\": {\"duration\": 0, \"redraw\": false}, \"fromcurrent\": true, \"mode\": \"immediate\", \"transition\": {\"duration\": 0, \"easing\": \"linear\"}}], \"label\": \"114793985\", \"method\": \"animate\"}, {\"args\": [[\"114802372\"], {\"frame\": {\"duration\": 0, \"redraw\": false}, \"fromcurrent\": true, \"mode\": \"immediate\", \"transition\": {\"duration\": 0, \"easing\": \"linear\"}}], \"label\": \"114802372\", \"method\": \"animate\"}, {\"args\": [[\"114810650\"], {\"frame\": {\"duration\": 0, \"redraw\": false}, \"fromcurrent\": true, \"mode\": \"immediate\", \"transition\": {\"duration\": 0, \"easing\": \"linear\"}}], \"label\": \"114810650\", \"method\": \"animate\"}, {\"args\": [[\"114819042\"], {\"frame\": {\"duration\": 0, \"redraw\": false}, \"fromcurrent\": true, \"mode\": \"immediate\", \"transition\": {\"duration\": 0, \"easing\": \"linear\"}}], \"label\": \"114819042\", \"method\": \"animate\"}, {\"args\": [[\"114827372\"], {\"frame\": {\"duration\": 0, \"redraw\": false}, \"fromcurrent\": true, \"mode\": \"immediate\", \"transition\": {\"duration\": 0, \"easing\": \"linear\"}}], \"label\": \"114827372\", \"method\": \"animate\"}, {\"args\": [[\"114835716\"], {\"frame\": {\"duration\": 0, \"redraw\": false}, \"fromcurrent\": true, \"mode\": \"immediate\", \"transition\": {\"duration\": 0, \"easing\": \"linear\"}}], \"label\": \"114835716\", \"method\": \"animate\"}, {\"args\": [[\"114844035\"], {\"frame\": {\"duration\": 0, \"redraw\": false}, \"fromcurrent\": true, \"mode\": \"immediate\", \"transition\": {\"duration\": 0, \"easing\": \"linear\"}}], \"label\": \"114844035\", \"method\": \"animate\"}, {\"args\": [[\"114852312\"], {\"frame\": {\"duration\": 0, \"redraw\": false}, \"fromcurrent\": true, \"mode\": \"immediate\", \"transition\": {\"duration\": 0, \"easing\": \"linear\"}}], \"label\": \"114852312\", \"method\": \"animate\"}, {\"args\": [[\"114860645\"], {\"frame\": {\"duration\": 0, \"redraw\": false}, \"fromcurrent\": true, \"mode\": \"immediate\", \"transition\": {\"duration\": 0, \"easing\": \"linear\"}}], \"label\": \"114860645\", \"method\": \"animate\"}, {\"args\": [[\"114868975\"], {\"frame\": {\"duration\": 0, \"redraw\": false}, \"fromcurrent\": true, \"mode\": \"immediate\", \"transition\": {\"duration\": 0, \"easing\": \"linear\"}}], \"label\": \"114868975\", \"method\": \"animate\"}, {\"args\": [[\"114877309\"], {\"frame\": {\"duration\": 0, \"redraw\": false}, \"fromcurrent\": true, \"mode\": \"immediate\", \"transition\": {\"duration\": 0, \"easing\": \"linear\"}}], \"label\": \"114877309\", \"method\": \"animate\"}, {\"args\": [[\"114885645\"], {\"frame\": {\"duration\": 0, \"redraw\": false}, \"fromcurrent\": true, \"mode\": \"immediate\", \"transition\": {\"duration\": 0, \"easing\": \"linear\"}}], \"label\": \"114885645\", \"method\": \"animate\"}, {\"args\": [[\"114893980\"], {\"frame\": {\"duration\": 0, \"redraw\": false}, \"fromcurrent\": true, \"mode\": \"immediate\", \"transition\": {\"duration\": 0, \"easing\": \"linear\"}}], \"label\": \"114893980\", \"method\": \"animate\"}, {\"args\": [[\"114902307\"], {\"frame\": {\"duration\": 0, \"redraw\": false}, \"fromcurrent\": true, \"mode\": \"immediate\", \"transition\": {\"duration\": 0, \"easing\": \"linear\"}}], \"label\": \"114902307\", \"method\": \"animate\"}, {\"args\": [[\"114910645\"], {\"frame\": {\"duration\": 0, \"redraw\": false}, \"fromcurrent\": true, \"mode\": \"immediate\", \"transition\": {\"duration\": 0, \"easing\": \"linear\"}}], \"label\": \"114910645\", \"method\": \"animate\"}, {\"args\": [[\"114918972\"], {\"frame\": {\"duration\": 0, \"redraw\": false}, \"fromcurrent\": true, \"mode\": \"immediate\", \"transition\": {\"duration\": 0, \"easing\": \"linear\"}}], \"label\": \"114918972\", \"method\": \"animate\"}, {\"args\": [[\"114927340\"], {\"frame\": {\"duration\": 0, \"redraw\": false}, \"fromcurrent\": true, \"mode\": \"immediate\", \"transition\": {\"duration\": 0, \"easing\": \"linear\"}}], \"label\": \"114927340\", \"method\": \"animate\"}, {\"args\": [[\"114935639\"], {\"frame\": {\"duration\": 0, \"redraw\": false}, \"fromcurrent\": true, \"mode\": \"immediate\", \"transition\": {\"duration\": 0, \"easing\": \"linear\"}}], \"label\": \"114935639\", \"method\": \"animate\"}, {\"args\": [[\"114943971\"], {\"frame\": {\"duration\": 0, \"redraw\": false}, \"fromcurrent\": true, \"mode\": \"immediate\", \"transition\": {\"duration\": 0, \"easing\": \"linear\"}}], \"label\": \"114943971\", \"method\": \"animate\"}, {\"args\": [[\"114952300\"], {\"frame\": {\"duration\": 0, \"redraw\": false}, \"fromcurrent\": true, \"mode\": \"immediate\", \"transition\": {\"duration\": 0, \"easing\": \"linear\"}}], \"label\": \"114952300\", \"method\": \"animate\"}, {\"args\": [[\"114960629\"], {\"frame\": {\"duration\": 0, \"redraw\": false}, \"fromcurrent\": true, \"mode\": \"immediate\", \"transition\": {\"duration\": 0, \"easing\": \"linear\"}}], \"label\": \"114960629\", \"method\": \"animate\"}, {\"args\": [[\"114968961\"], {\"frame\": {\"duration\": 0, \"redraw\": false}, \"fromcurrent\": true, \"mode\": \"immediate\", \"transition\": {\"duration\": 0, \"easing\": \"linear\"}}], \"label\": \"114968961\", \"method\": \"animate\"}, {\"args\": [[\"114977295\"], {\"frame\": {\"duration\": 0, \"redraw\": false}, \"fromcurrent\": true, \"mode\": \"immediate\", \"transition\": {\"duration\": 0, \"easing\": \"linear\"}}], \"label\": \"114977295\", \"method\": \"animate\"}, {\"args\": [[\"114985698\"], {\"frame\": {\"duration\": 0, \"redraw\": false}, \"fromcurrent\": true, \"mode\": \"immediate\", \"transition\": {\"duration\": 0, \"easing\": \"linear\"}}], \"label\": \"114985698\", \"method\": \"animate\"}, {\"args\": [[\"114993974\"], {\"frame\": {\"duration\": 0, \"redraw\": false}, \"fromcurrent\": true, \"mode\": \"immediate\", \"transition\": {\"duration\": 0, \"easing\": \"linear\"}}], \"label\": \"114993974\", \"method\": \"animate\"}, {\"args\": [[\"115002300\"], {\"frame\": {\"duration\": 0, \"redraw\": false}, \"fromcurrent\": true, \"mode\": \"immediate\", \"transition\": {\"duration\": 0, \"easing\": \"linear\"}}], \"label\": \"115002300\", \"method\": \"animate\"}, {\"args\": [[\"115010634\"], {\"frame\": {\"duration\": 0, \"redraw\": false}, \"fromcurrent\": true, \"mode\": \"immediate\", \"transition\": {\"duration\": 0, \"easing\": \"linear\"}}], \"label\": \"115010634\", \"method\": \"animate\"}, {\"args\": [[\"115019025\"], {\"frame\": {\"duration\": 0, \"redraw\": false}, \"fromcurrent\": true, \"mode\": \"immediate\", \"transition\": {\"duration\": 0, \"easing\": \"linear\"}}], \"label\": \"115019025\", \"method\": \"animate\"}, {\"args\": [[\"115027297\"], {\"frame\": {\"duration\": 0, \"redraw\": false}, \"fromcurrent\": true, \"mode\": \"immediate\", \"transition\": {\"duration\": 0, \"easing\": \"linear\"}}], \"label\": \"115027297\", \"method\": \"animate\"}, {\"args\": [[\"115035630\"], {\"frame\": {\"duration\": 0, \"redraw\": false}, \"fromcurrent\": true, \"mode\": \"immediate\", \"transition\": {\"duration\": 0, \"easing\": \"linear\"}}], \"label\": \"115035630\", \"method\": \"animate\"}, {\"args\": [[\"115043965\"], {\"frame\": {\"duration\": 0, \"redraw\": false}, \"fromcurrent\": true, \"mode\": \"immediate\", \"transition\": {\"duration\": 0, \"easing\": \"linear\"}}], \"label\": \"115043965\", \"method\": \"animate\"}, {\"args\": [[\"115052299\"], {\"frame\": {\"duration\": 0, \"redraw\": false}, \"fromcurrent\": true, \"mode\": \"immediate\", \"transition\": {\"duration\": 0, \"easing\": \"linear\"}}], \"label\": \"115052299\", \"method\": \"animate\"}, {\"args\": [[\"115060630\"], {\"frame\": {\"duration\": 0, \"redraw\": false}, \"fromcurrent\": true, \"mode\": \"immediate\", \"transition\": {\"duration\": 0, \"easing\": \"linear\"}}], \"label\": \"115060630\", \"method\": \"animate\"}, {\"args\": [[\"115068964\"], {\"frame\": {\"duration\": 0, \"redraw\": false}, \"fromcurrent\": true, \"mode\": \"immediate\", \"transition\": {\"duration\": 0, \"easing\": \"linear\"}}], \"label\": \"115068964\", \"method\": \"animate\"}, {\"args\": [[\"115077290\"], {\"frame\": {\"duration\": 0, \"redraw\": false}, \"fromcurrent\": true, \"mode\": \"immediate\", \"transition\": {\"duration\": 0, \"easing\": \"linear\"}}], \"label\": \"115077290\", \"method\": \"animate\"}, {\"args\": [[\"115085628\"], {\"frame\": {\"duration\": 0, \"redraw\": false}, \"fromcurrent\": true, \"mode\": \"immediate\", \"transition\": {\"duration\": 0, \"easing\": \"linear\"}}], \"label\": \"115085628\", \"method\": \"animate\"}, {\"args\": [[\"115094019\"], {\"frame\": {\"duration\": 0, \"redraw\": false}, \"fromcurrent\": true, \"mode\": \"immediate\", \"transition\": {\"duration\": 0, \"easing\": \"linear\"}}], \"label\": \"115094019\", \"method\": \"animate\"}, {\"args\": [[\"115102292\"], {\"frame\": {\"duration\": 0, \"redraw\": false}, \"fromcurrent\": true, \"mode\": \"immediate\", \"transition\": {\"duration\": 0, \"easing\": \"linear\"}}], \"label\": \"115102292\", \"method\": \"animate\"}, {\"args\": [[\"115110624\"], {\"frame\": {\"duration\": 0, \"redraw\": false}, \"fromcurrent\": true, \"mode\": \"immediate\", \"transition\": {\"duration\": 0, \"easing\": \"linear\"}}], \"label\": \"115110624\", \"method\": \"animate\"}, {\"args\": [[\"115118958\"], {\"frame\": {\"duration\": 0, \"redraw\": false}, \"fromcurrent\": true, \"mode\": \"immediate\", \"transition\": {\"duration\": 0, \"easing\": \"linear\"}}], \"label\": \"115118958\", \"method\": \"animate\"}, {\"args\": [[\"115127290\"], {\"frame\": {\"duration\": 0, \"redraw\": false}, \"fromcurrent\": true, \"mode\": \"immediate\", \"transition\": {\"duration\": 0, \"easing\": \"linear\"}}], \"label\": \"115127290\", \"method\": \"animate\"}, {\"args\": [[\"115135627\"], {\"frame\": {\"duration\": 0, \"redraw\": false}, \"fromcurrent\": true, \"mode\": \"immediate\", \"transition\": {\"duration\": 0, \"easing\": \"linear\"}}], \"label\": \"115135627\", \"method\": \"animate\"}, {\"args\": [[\"115143972\"], {\"frame\": {\"duration\": 0, \"redraw\": false}, \"fromcurrent\": true, \"mode\": \"immediate\", \"transition\": {\"duration\": 0, \"easing\": \"linear\"}}], \"label\": \"115143972\", \"method\": \"animate\"}, {\"args\": [[\"115152296\"], {\"frame\": {\"duration\": 0, \"redraw\": false}, \"fromcurrent\": true, \"mode\": \"immediate\", \"transition\": {\"duration\": 0, \"easing\": \"linear\"}}], \"label\": \"115152296\", \"method\": \"animate\"}, {\"args\": [[\"115160621\"], {\"frame\": {\"duration\": 0, \"redraw\": false}, \"fromcurrent\": true, \"mode\": \"immediate\", \"transition\": {\"duration\": 0, \"easing\": \"linear\"}}], \"label\": \"115160621\", \"method\": \"animate\"}, {\"args\": [[\"115168955\"], {\"frame\": {\"duration\": 0, \"redraw\": false}, \"fromcurrent\": true, \"mode\": \"immediate\", \"transition\": {\"duration\": 0, \"easing\": \"linear\"}}], \"label\": \"115168955\", \"method\": \"animate\"}, {\"args\": [[\"115177276\"], {\"frame\": {\"duration\": 0, \"redraw\": false}, \"fromcurrent\": true, \"mode\": \"immediate\", \"transition\": {\"duration\": 0, \"easing\": \"linear\"}}], \"label\": \"115177276\", \"method\": \"animate\"}, {\"args\": [[\"115185610\"], {\"frame\": {\"duration\": 0, \"redraw\": false}, \"fromcurrent\": true, \"mode\": \"immediate\", \"transition\": {\"duration\": 0, \"easing\": \"linear\"}}], \"label\": \"115185610\", \"method\": \"animate\"}, {\"args\": [[\"115193975\"], {\"frame\": {\"duration\": 0, \"redraw\": false}, \"fromcurrent\": true, \"mode\": \"immediate\", \"transition\": {\"duration\": 0, \"easing\": \"linear\"}}], \"label\": \"115193975\", \"method\": \"animate\"}, {\"args\": [[\"115202335\"], {\"frame\": {\"duration\": 0, \"redraw\": false}, \"fromcurrent\": true, \"mode\": \"immediate\", \"transition\": {\"duration\": 0, \"easing\": \"linear\"}}], \"label\": \"115202335\", \"method\": \"animate\"}, {\"args\": [[\"115210692\"], {\"frame\": {\"duration\": 0, \"redraw\": false}, \"fromcurrent\": true, \"mode\": \"immediate\", \"transition\": {\"duration\": 0, \"easing\": \"linear\"}}], \"label\": \"115210692\", \"method\": \"animate\"}, {\"args\": [[\"115218951\"], {\"frame\": {\"duration\": 0, \"redraw\": false}, \"fromcurrent\": true, \"mode\": \"immediate\", \"transition\": {\"duration\": 0, \"easing\": \"linear\"}}], \"label\": \"115218951\", \"method\": \"animate\"}, {\"args\": [[\"115227285\"], {\"frame\": {\"duration\": 0, \"redraw\": false}, \"fromcurrent\": true, \"mode\": \"immediate\", \"transition\": {\"duration\": 0, \"easing\": \"linear\"}}], \"label\": \"115227285\", \"method\": \"animate\"}, {\"args\": [[\"115235614\"], {\"frame\": {\"duration\": 0, \"redraw\": false}, \"fromcurrent\": true, \"mode\": \"immediate\", \"transition\": {\"duration\": 0, \"easing\": \"linear\"}}], \"label\": \"115235614\", \"method\": \"animate\"}, {\"args\": [[\"115244010\"], {\"frame\": {\"duration\": 0, \"redraw\": false}, \"fromcurrent\": true, \"mode\": \"immediate\", \"transition\": {\"duration\": 0, \"easing\": \"linear\"}}], \"label\": \"115244010\", \"method\": \"animate\"}, {\"args\": [[\"115252285\"], {\"frame\": {\"duration\": 0, \"redraw\": false}, \"fromcurrent\": true, \"mode\": \"immediate\", \"transition\": {\"duration\": 0, \"easing\": \"linear\"}}], \"label\": \"115252285\", \"method\": \"animate\"}, {\"args\": [[\"115260615\"], {\"frame\": {\"duration\": 0, \"redraw\": false}, \"fromcurrent\": true, \"mode\": \"immediate\", \"transition\": {\"duration\": 0, \"easing\": \"linear\"}}], \"label\": \"115260615\", \"method\": \"animate\"}, {\"args\": [[\"115268947\"], {\"frame\": {\"duration\": 0, \"redraw\": false}, \"fromcurrent\": true, \"mode\": \"immediate\", \"transition\": {\"duration\": 0, \"easing\": \"linear\"}}], \"label\": \"115268947\", \"method\": \"animate\"}, {\"args\": [[\"115277280\"], {\"frame\": {\"duration\": 0, \"redraw\": false}, \"fromcurrent\": true, \"mode\": \"immediate\", \"transition\": {\"duration\": 0, \"easing\": \"linear\"}}], \"label\": \"115277280\", \"method\": \"animate\"}, {\"args\": [[\"115285615\"], {\"frame\": {\"duration\": 0, \"redraw\": false}, \"fromcurrent\": true, \"mode\": \"immediate\", \"transition\": {\"duration\": 0, \"easing\": \"linear\"}}], \"label\": \"115285615\", \"method\": \"animate\"}, {\"args\": [[\"115293950\"], {\"frame\": {\"duration\": 0, \"redraw\": false}, \"fromcurrent\": true, \"mode\": \"immediate\", \"transition\": {\"duration\": 0, \"easing\": \"linear\"}}], \"label\": \"115293950\", \"method\": \"animate\"}, {\"args\": [[\"115302279\"], {\"frame\": {\"duration\": 0, \"redraw\": false}, \"fromcurrent\": true, \"mode\": \"immediate\", \"transition\": {\"duration\": 0, \"easing\": \"linear\"}}], \"label\": \"115302279\", \"method\": \"animate\"}, {\"args\": [[\"115310609\"], {\"frame\": {\"duration\": 0, \"redraw\": false}, \"fromcurrent\": true, \"mode\": \"immediate\", \"transition\": {\"duration\": 0, \"easing\": \"linear\"}}], \"label\": \"115310609\", \"method\": \"animate\"}, {\"args\": [[\"115318942\"], {\"frame\": {\"duration\": 0, \"redraw\": false}, \"fromcurrent\": true, \"mode\": \"immediate\", \"transition\": {\"duration\": 0, \"easing\": \"linear\"}}], \"label\": \"115318942\", \"method\": \"animate\"}, {\"args\": [[\"115327277\"], {\"frame\": {\"duration\": 0, \"redraw\": false}, \"fromcurrent\": true, \"mode\": \"immediate\", \"transition\": {\"duration\": 0, \"easing\": \"linear\"}}], \"label\": \"115327277\", \"method\": \"animate\"}, {\"args\": [[\"115335610\"], {\"frame\": {\"duration\": 0, \"redraw\": false}, \"fromcurrent\": true, \"mode\": \"immediate\", \"transition\": {\"duration\": 0, \"easing\": \"linear\"}}], \"label\": \"115335610\", \"method\": \"animate\"}, {\"args\": [[\"115343944\"], {\"frame\": {\"duration\": 0, \"redraw\": false}, \"fromcurrent\": true, \"mode\": \"immediate\", \"transition\": {\"duration\": 0, \"easing\": \"linear\"}}], \"label\": \"115343944\", \"method\": \"animate\"}, {\"args\": [[\"115352261\"], {\"frame\": {\"duration\": 0, \"redraw\": false}, \"fromcurrent\": true, \"mode\": \"immediate\", \"transition\": {\"duration\": 0, \"easing\": \"linear\"}}], \"label\": \"115352261\", \"method\": \"animate\"}, {\"args\": [[\"115360595\"], {\"frame\": {\"duration\": 0, \"redraw\": false}, \"fromcurrent\": true, \"mode\": \"immediate\", \"transition\": {\"duration\": 0, \"easing\": \"linear\"}}], \"label\": \"115360595\", \"method\": \"animate\"}, {\"args\": [[\"115368971\"], {\"frame\": {\"duration\": 0, \"redraw\": false}, \"fromcurrent\": true, \"mode\": \"immediate\", \"transition\": {\"duration\": 0, \"easing\": \"linear\"}}], \"label\": \"115368971\", \"method\": \"animate\"}, {\"args\": [[\"115377261\"], {\"frame\": {\"duration\": 0, \"redraw\": false}, \"fromcurrent\": true, \"mode\": \"immediate\", \"transition\": {\"duration\": 0, \"easing\": \"linear\"}}], \"label\": \"115377261\", \"method\": \"animate\"}, {\"args\": [[\"115385633\"], {\"frame\": {\"duration\": 0, \"redraw\": false}, \"fromcurrent\": true, \"mode\": \"immediate\", \"transition\": {\"duration\": 0, \"easing\": \"linear\"}}], \"label\": \"115385633\", \"method\": \"animate\"}, {\"args\": [[\"115393932\"], {\"frame\": {\"duration\": 0, \"redraw\": false}, \"fromcurrent\": true, \"mode\": \"immediate\", \"transition\": {\"duration\": 0, \"easing\": \"linear\"}}], \"label\": \"115393932\", \"method\": \"animate\"}, {\"args\": [[\"115402272\"], {\"frame\": {\"duration\": 0, \"redraw\": false}, \"fromcurrent\": true, \"mode\": \"immediate\", \"transition\": {\"duration\": 0, \"easing\": \"linear\"}}], \"label\": \"115402272\", \"method\": \"animate\"}, {\"args\": [[\"115410604\"], {\"frame\": {\"duration\": 0, \"redraw\": false}, \"fromcurrent\": true, \"mode\": \"immediate\", \"transition\": {\"duration\": 0, \"easing\": \"linear\"}}], \"label\": \"115410604\", \"method\": \"animate\"}, {\"args\": [[\"115418941\"], {\"frame\": {\"duration\": 0, \"redraw\": false}, \"fromcurrent\": true, \"mode\": \"immediate\", \"transition\": {\"duration\": 0, \"easing\": \"linear\"}}], \"label\": \"115418941\", \"method\": \"animate\"}, {\"args\": [[\"115427274\"], {\"frame\": {\"duration\": 0, \"redraw\": false}, \"fromcurrent\": true, \"mode\": \"immediate\", \"transition\": {\"duration\": 0, \"easing\": \"linear\"}}], \"label\": \"115427274\", \"method\": \"animate\"}, {\"args\": [[\"115435604\"], {\"frame\": {\"duration\": 0, \"redraw\": false}, \"fromcurrent\": true, \"mode\": \"immediate\", \"transition\": {\"duration\": 0, \"easing\": \"linear\"}}], \"label\": \"115435604\", \"method\": \"animate\"}, {\"args\": [[\"115443938\"], {\"frame\": {\"duration\": 0, \"redraw\": false}, \"fromcurrent\": true, \"mode\": \"immediate\", \"transition\": {\"duration\": 0, \"easing\": \"linear\"}}], \"label\": \"115443938\", \"method\": \"animate\"}, {\"args\": [[\"115452314\"], {\"frame\": {\"duration\": 0, \"redraw\": false}, \"fromcurrent\": true, \"mode\": \"immediate\", \"transition\": {\"duration\": 0, \"easing\": \"linear\"}}], \"label\": \"115452314\", \"method\": \"animate\"}, {\"args\": [[\"115460596\"], {\"frame\": {\"duration\": 0, \"redraw\": false}, \"fromcurrent\": true, \"mode\": \"immediate\", \"transition\": {\"duration\": 0, \"easing\": \"linear\"}}], \"label\": \"115460596\", \"method\": \"animate\"}, {\"args\": [[\"115468986\"], {\"frame\": {\"duration\": 0, \"redraw\": false}, \"fromcurrent\": true, \"mode\": \"immediate\", \"transition\": {\"duration\": 0, \"easing\": \"linear\"}}], \"label\": \"115468986\", \"method\": \"animate\"}, {\"args\": [[\"115477263\"], {\"frame\": {\"duration\": 0, \"redraw\": false}, \"fromcurrent\": true, \"mode\": \"immediate\", \"transition\": {\"duration\": 0, \"easing\": \"linear\"}}], \"label\": \"115477263\", \"method\": \"animate\"}, {\"args\": [[\"115485587\"], {\"frame\": {\"duration\": 0, \"redraw\": false}, \"fromcurrent\": true, \"mode\": \"immediate\", \"transition\": {\"duration\": 0, \"easing\": \"linear\"}}], \"label\": \"115485587\", \"method\": \"animate\"}, {\"args\": [[\"115493918\"], {\"frame\": {\"duration\": 0, \"redraw\": false}, \"fromcurrent\": true, \"mode\": \"immediate\", \"transition\": {\"duration\": 0, \"easing\": \"linear\"}}], \"label\": \"115493918\", \"method\": \"animate\"}, {\"args\": [[\"115502250\"], {\"frame\": {\"duration\": 0, \"redraw\": false}, \"fromcurrent\": true, \"mode\": \"immediate\", \"transition\": {\"duration\": 0, \"easing\": \"linear\"}}], \"label\": \"115502250\", \"method\": \"animate\"}, {\"args\": [[\"115510652\"], {\"frame\": {\"duration\": 0, \"redraw\": false}, \"fromcurrent\": true, \"mode\": \"immediate\", \"transition\": {\"duration\": 0, \"easing\": \"linear\"}}], \"label\": \"115510652\", \"method\": \"animate\"}, {\"args\": [[\"115518917\"], {\"frame\": {\"duration\": 0, \"redraw\": false}, \"fromcurrent\": true, \"mode\": \"immediate\", \"transition\": {\"duration\": 0, \"easing\": \"linear\"}}], \"label\": \"115518917\", \"method\": \"animate\"}, {\"args\": [[\"115527276\"], {\"frame\": {\"duration\": 0, \"redraw\": false}, \"fromcurrent\": true, \"mode\": \"immediate\", \"transition\": {\"duration\": 0, \"easing\": \"linear\"}}], \"label\": \"115527276\", \"method\": \"animate\"}, {\"args\": [[\"115535626\"], {\"frame\": {\"duration\": 0, \"redraw\": false}, \"fromcurrent\": true, \"mode\": \"immediate\", \"transition\": {\"duration\": 0, \"easing\": \"linear\"}}], \"label\": \"115535626\", \"method\": \"animate\"}, {\"args\": [[\"115544013\"], {\"frame\": {\"duration\": 0, \"redraw\": false}, \"fromcurrent\": true, \"mode\": \"immediate\", \"transition\": {\"duration\": 0, \"easing\": \"linear\"}}], \"label\": \"115544013\", \"method\": \"animate\"}, {\"args\": [[\"115552246\"], {\"frame\": {\"duration\": 0, \"redraw\": false}, \"fromcurrent\": true, \"mode\": \"immediate\", \"transition\": {\"duration\": 0, \"easing\": \"linear\"}}], \"label\": \"115552246\", \"method\": \"animate\"}, {\"args\": [[\"115560581\"], {\"frame\": {\"duration\": 0, \"redraw\": false}, \"fromcurrent\": true, \"mode\": \"immediate\", \"transition\": {\"duration\": 0, \"easing\": \"linear\"}}], \"label\": \"115560581\", \"method\": \"animate\"}, {\"args\": [[\"115568914\"], {\"frame\": {\"duration\": 0, \"redraw\": false}, \"fromcurrent\": true, \"mode\": \"immediate\", \"transition\": {\"duration\": 0, \"easing\": \"linear\"}}], \"label\": \"115568914\", \"method\": \"animate\"}, {\"args\": [[\"115577249\"], {\"frame\": {\"duration\": 0, \"redraw\": false}, \"fromcurrent\": true, \"mode\": \"immediate\", \"transition\": {\"duration\": 0, \"easing\": \"linear\"}}], \"label\": \"115577249\", \"method\": \"animate\"}, {\"args\": [[\"115585577\"], {\"frame\": {\"duration\": 0, \"redraw\": false}, \"fromcurrent\": true, \"mode\": \"immediate\", \"transition\": {\"duration\": 0, \"easing\": \"linear\"}}], \"label\": \"115585577\", \"method\": \"animate\"}, {\"args\": [[\"115594021\"], {\"frame\": {\"duration\": 0, \"redraw\": false}, \"fromcurrent\": true, \"mode\": \"immediate\", \"transition\": {\"duration\": 0, \"easing\": \"linear\"}}], \"label\": \"115594021\", \"method\": \"animate\"}, {\"args\": [[\"115602252\"], {\"frame\": {\"duration\": 0, \"redraw\": false}, \"fromcurrent\": true, \"mode\": \"immediate\", \"transition\": {\"duration\": 0, \"easing\": \"linear\"}}], \"label\": \"115602252\", \"method\": \"animate\"}, {\"args\": [[\"115610631\"], {\"frame\": {\"duration\": 0, \"redraw\": false}, \"fromcurrent\": true, \"mode\": \"immediate\", \"transition\": {\"duration\": 0, \"easing\": \"linear\"}}], \"label\": \"115610631\", \"method\": \"animate\"}, {\"args\": [[\"115618973\"], {\"frame\": {\"duration\": 0, \"redraw\": false}, \"fromcurrent\": true, \"mode\": \"immediate\", \"transition\": {\"duration\": 0, \"easing\": \"linear\"}}], \"label\": \"115618973\", \"method\": \"animate\"}, {\"args\": [[\"115627300\"], {\"frame\": {\"duration\": 0, \"redraw\": false}, \"fromcurrent\": true, \"mode\": \"immediate\", \"transition\": {\"duration\": 0, \"easing\": \"linear\"}}], \"label\": \"115627300\", \"method\": \"animate\"}, {\"args\": [[\"115635577\"], {\"frame\": {\"duration\": 0, \"redraw\": false}, \"fromcurrent\": true, \"mode\": \"immediate\", \"transition\": {\"duration\": 0, \"easing\": \"linear\"}}], \"label\": \"115635577\", \"method\": \"animate\"}, {\"args\": [[\"115643918\"], {\"frame\": {\"duration\": 0, \"redraw\": false}, \"fromcurrent\": true, \"mode\": \"immediate\", \"transition\": {\"duration\": 0, \"easing\": \"linear\"}}], \"label\": \"115643918\", \"method\": \"animate\"}, {\"args\": [[\"115652252\"], {\"frame\": {\"duration\": 0, \"redraw\": false}, \"fromcurrent\": true, \"mode\": \"immediate\", \"transition\": {\"duration\": 0, \"easing\": \"linear\"}}], \"label\": \"115652252\", \"method\": \"animate\"}, {\"args\": [[\"115660594\"], {\"frame\": {\"duration\": 0, \"redraw\": false}, \"fromcurrent\": true, \"mode\": \"immediate\", \"transition\": {\"duration\": 0, \"easing\": \"linear\"}}], \"label\": \"115660594\", \"method\": \"animate\"}, {\"args\": [[\"115668915\"], {\"frame\": {\"duration\": 0, \"redraw\": false}, \"fromcurrent\": true, \"mode\": \"immediate\", \"transition\": {\"duration\": 0, \"easing\": \"linear\"}}], \"label\": \"115668915\", \"method\": \"animate\"}, {\"args\": [[\"115677253\"], {\"frame\": {\"duration\": 0, \"redraw\": false}, \"fromcurrent\": true, \"mode\": \"immediate\", \"transition\": {\"duration\": 0, \"easing\": \"linear\"}}], \"label\": \"115677253\", \"method\": \"animate\"}, {\"args\": [[\"115685580\"], {\"frame\": {\"duration\": 0, \"redraw\": false}, \"fromcurrent\": true, \"mode\": \"immediate\", \"transition\": {\"duration\": 0, \"easing\": \"linear\"}}], \"label\": \"115685580\", \"method\": \"animate\"}, {\"args\": [[\"115693913\"], {\"frame\": {\"duration\": 0, \"redraw\": false}, \"fromcurrent\": true, \"mode\": \"immediate\", \"transition\": {\"duration\": 0, \"easing\": \"linear\"}}], \"label\": \"115693913\", \"method\": \"animate\"}, {\"args\": [[\"115702243\"], {\"frame\": {\"duration\": 0, \"redraw\": false}, \"fromcurrent\": true, \"mode\": \"immediate\", \"transition\": {\"duration\": 0, \"easing\": \"linear\"}}], \"label\": \"115702243\", \"method\": \"animate\"}, {\"args\": [[\"115710582\"], {\"frame\": {\"duration\": 0, \"redraw\": false}, \"fromcurrent\": true, \"mode\": \"immediate\", \"transition\": {\"duration\": 0, \"easing\": \"linear\"}}], \"label\": \"115710582\", \"method\": \"animate\"}, {\"args\": [[\"115718912\"], {\"frame\": {\"duration\": 0, \"redraw\": false}, \"fromcurrent\": true, \"mode\": \"immediate\", \"transition\": {\"duration\": 0, \"easing\": \"linear\"}}], \"label\": \"115718912\", \"method\": \"animate\"}, {\"args\": [[\"115727246\"], {\"frame\": {\"duration\": 0, \"redraw\": false}, \"fromcurrent\": true, \"mode\": \"immediate\", \"transition\": {\"duration\": 0, \"easing\": \"linear\"}}], \"label\": \"115727246\", \"method\": \"animate\"}, {\"args\": [[\"115735577\"], {\"frame\": {\"duration\": 0, \"redraw\": false}, \"fromcurrent\": true, \"mode\": \"immediate\", \"transition\": {\"duration\": 0, \"easing\": \"linear\"}}], \"label\": \"115735577\", \"method\": \"animate\"}, {\"args\": [[\"115743907\"], {\"frame\": {\"duration\": 0, \"redraw\": false}, \"fromcurrent\": true, \"mode\": \"immediate\", \"transition\": {\"duration\": 0, \"easing\": \"linear\"}}], \"label\": \"115743907\", \"method\": \"animate\"}, {\"args\": [[\"115752241\"], {\"frame\": {\"duration\": 0, \"redraw\": false}, \"fromcurrent\": true, \"mode\": \"immediate\", \"transition\": {\"duration\": 0, \"easing\": \"linear\"}}], \"label\": \"115752241\", \"method\": \"animate\"}, {\"args\": [[\"115760573\"], {\"frame\": {\"duration\": 0, \"redraw\": false}, \"fromcurrent\": true, \"mode\": \"immediate\", \"transition\": {\"duration\": 0, \"easing\": \"linear\"}}], \"label\": \"115760573\", \"method\": \"animate\"}, {\"args\": [[\"115768900\"], {\"frame\": {\"duration\": 0, \"redraw\": false}, \"fromcurrent\": true, \"mode\": \"immediate\", \"transition\": {\"duration\": 0, \"easing\": \"linear\"}}], \"label\": \"115768900\", \"method\": \"animate\"}, {\"args\": [[\"115777233\"], {\"frame\": {\"duration\": 0, \"redraw\": false}, \"fromcurrent\": true, \"mode\": \"immediate\", \"transition\": {\"duration\": 0, \"easing\": \"linear\"}}], \"label\": \"115777233\", \"method\": \"animate\"}, {\"args\": [[\"115785571\"], {\"frame\": {\"duration\": 0, \"redraw\": false}, \"fromcurrent\": true, \"mode\": \"immediate\", \"transition\": {\"duration\": 0, \"easing\": \"linear\"}}], \"label\": \"115785571\", \"method\": \"animate\"}, {\"args\": [[\"115793905\"], {\"frame\": {\"duration\": 0, \"redraw\": false}, \"fromcurrent\": true, \"mode\": \"immediate\", \"transition\": {\"duration\": 0, \"easing\": \"linear\"}}], \"label\": \"115793905\", \"method\": \"animate\"}, {\"args\": [[\"115802253\"], {\"frame\": {\"duration\": 0, \"redraw\": false}, \"fromcurrent\": true, \"mode\": \"immediate\", \"transition\": {\"duration\": 0, \"easing\": \"linear\"}}], \"label\": \"115802253\", \"method\": \"animate\"}, {\"args\": [[\"115810626\"], {\"frame\": {\"duration\": 0, \"redraw\": false}, \"fromcurrent\": true, \"mode\": \"immediate\", \"transition\": {\"duration\": 0, \"easing\": \"linear\"}}], \"label\": \"115810626\", \"method\": \"animate\"}, {\"args\": [[\"115818963\"], {\"frame\": {\"duration\": 0, \"redraw\": false}, \"fromcurrent\": true, \"mode\": \"immediate\", \"transition\": {\"duration\": 0, \"easing\": \"linear\"}}], \"label\": \"115818963\", \"method\": \"animate\"}, {\"args\": [[\"115827269\"], {\"frame\": {\"duration\": 0, \"redraw\": false}, \"fromcurrent\": true, \"mode\": \"immediate\", \"transition\": {\"duration\": 0, \"easing\": \"linear\"}}], \"label\": \"115827269\", \"method\": \"animate\"}, {\"args\": [[\"115835569\"], {\"frame\": {\"duration\": 0, \"redraw\": false}, \"fromcurrent\": true, \"mode\": \"immediate\", \"transition\": {\"duration\": 0, \"easing\": \"linear\"}}], \"label\": \"115835569\", \"method\": \"animate\"}, {\"args\": [[\"115843962\"], {\"frame\": {\"duration\": 0, \"redraw\": false}, \"fromcurrent\": true, \"mode\": \"immediate\", \"transition\": {\"duration\": 0, \"easing\": \"linear\"}}], \"label\": \"115843962\", \"method\": \"animate\"}, {\"args\": [[\"115852295\"], {\"frame\": {\"duration\": 0, \"redraw\": false}, \"fromcurrent\": true, \"mode\": \"immediate\", \"transition\": {\"duration\": 0, \"easing\": \"linear\"}}], \"label\": \"115852295\", \"method\": \"animate\"}, {\"args\": [[\"115860565\"], {\"frame\": {\"duration\": 0, \"redraw\": false}, \"fromcurrent\": true, \"mode\": \"immediate\", \"transition\": {\"duration\": 0, \"easing\": \"linear\"}}], \"label\": \"115860565\", \"method\": \"animate\"}, {\"args\": [[\"115868898\"], {\"frame\": {\"duration\": 0, \"redraw\": false}, \"fromcurrent\": true, \"mode\": \"immediate\", \"transition\": {\"duration\": 0, \"easing\": \"linear\"}}], \"label\": \"115868898\", \"method\": \"animate\"}, {\"args\": [[\"115877233\"], {\"frame\": {\"duration\": 0, \"redraw\": false}, \"fromcurrent\": true, \"mode\": \"immediate\", \"transition\": {\"duration\": 0, \"easing\": \"linear\"}}], \"label\": \"115877233\", \"method\": \"animate\"}, {\"args\": [[\"115885563\"], {\"frame\": {\"duration\": 0, \"redraw\": false}, \"fromcurrent\": true, \"mode\": \"immediate\", \"transition\": {\"duration\": 0, \"easing\": \"linear\"}}], \"label\": \"115885563\", \"method\": \"animate\"}, {\"args\": [[\"115893901\"], {\"frame\": {\"duration\": 0, \"redraw\": false}, \"fromcurrent\": true, \"mode\": \"immediate\", \"transition\": {\"duration\": 0, \"easing\": \"linear\"}}], \"label\": \"115893901\", \"method\": \"animate\"}, {\"args\": [[\"115902231\"], {\"frame\": {\"duration\": 0, \"redraw\": false}, \"fromcurrent\": true, \"mode\": \"immediate\", \"transition\": {\"duration\": 0, \"easing\": \"linear\"}}], \"label\": \"115902231\", \"method\": \"animate\"}, {\"args\": [[\"115910567\"], {\"frame\": {\"duration\": 0, \"redraw\": false}, \"fromcurrent\": true, \"mode\": \"immediate\", \"transition\": {\"duration\": 0, \"easing\": \"linear\"}}], \"label\": \"115910567\", \"method\": \"animate\"}, {\"args\": [[\"115918894\"], {\"frame\": {\"duration\": 0, \"redraw\": false}, \"fromcurrent\": true, \"mode\": \"immediate\", \"transition\": {\"duration\": 0, \"easing\": \"linear\"}}], \"label\": \"115918894\", \"method\": \"animate\"}, {\"args\": [[\"115927260\"], {\"frame\": {\"duration\": 0, \"redraw\": false}, \"fromcurrent\": true, \"mode\": \"immediate\", \"transition\": {\"duration\": 0, \"easing\": \"linear\"}}], \"label\": \"115927260\", \"method\": \"animate\"}, {\"args\": [[\"115935555\"], {\"frame\": {\"duration\": 0, \"redraw\": false}, \"fromcurrent\": true, \"mode\": \"immediate\", \"transition\": {\"duration\": 0, \"easing\": \"linear\"}}], \"label\": \"115935555\", \"method\": \"animate\"}, {\"args\": [[\"115943888\"], {\"frame\": {\"duration\": 0, \"redraw\": false}, \"fromcurrent\": true, \"mode\": \"immediate\", \"transition\": {\"duration\": 0, \"easing\": \"linear\"}}], \"label\": \"115943888\", \"method\": \"animate\"}, {\"args\": [[\"115952220\"], {\"frame\": {\"duration\": 0, \"redraw\": false}, \"fromcurrent\": true, \"mode\": \"immediate\", \"transition\": {\"duration\": 0, \"easing\": \"linear\"}}], \"label\": \"115952220\", \"method\": \"animate\"}, {\"args\": [[\"115960553\"], {\"frame\": {\"duration\": 0, \"redraw\": false}, \"fromcurrent\": true, \"mode\": \"immediate\", \"transition\": {\"duration\": 0, \"easing\": \"linear\"}}], \"label\": \"115960553\", \"method\": \"animate\"}, {\"args\": [[\"115968889\"], {\"frame\": {\"duration\": 0, \"redraw\": false}, \"fromcurrent\": true, \"mode\": \"immediate\", \"transition\": {\"duration\": 0, \"easing\": \"linear\"}}], \"label\": \"115968889\", \"method\": \"animate\"}, {\"args\": [[\"115977219\"], {\"frame\": {\"duration\": 0, \"redraw\": false}, \"fromcurrent\": true, \"mode\": \"immediate\", \"transition\": {\"duration\": 0, \"easing\": \"linear\"}}], \"label\": \"115977219\", \"method\": \"animate\"}, {\"args\": [[\"115985556\"], {\"frame\": {\"duration\": 0, \"redraw\": false}, \"fromcurrent\": true, \"mode\": \"immediate\", \"transition\": {\"duration\": 0, \"easing\": \"linear\"}}], \"label\": \"115985556\", \"method\": \"animate\"}, {\"args\": [[\"115993918\"], {\"frame\": {\"duration\": 0, \"redraw\": false}, \"fromcurrent\": true, \"mode\": \"immediate\", \"transition\": {\"duration\": 0, \"easing\": \"linear\"}}], \"label\": \"115993918\", \"method\": \"animate\"}, {\"args\": [[\"116002214\"], {\"frame\": {\"duration\": 0, \"redraw\": false}, \"fromcurrent\": true, \"mode\": \"immediate\", \"transition\": {\"duration\": 0, \"easing\": \"linear\"}}], \"label\": \"116002214\", \"method\": \"animate\"}, {\"args\": [[\"116010549\"], {\"frame\": {\"duration\": 0, \"redraw\": false}, \"fromcurrent\": true, \"mode\": \"immediate\", \"transition\": {\"duration\": 0, \"easing\": \"linear\"}}], \"label\": \"116010549\", \"method\": \"animate\"}, {\"args\": [[\"116018883\"], {\"frame\": {\"duration\": 0, \"redraw\": false}, \"fromcurrent\": true, \"mode\": \"immediate\", \"transition\": {\"duration\": 0, \"easing\": \"linear\"}}], \"label\": \"116018883\", \"method\": \"animate\"}, {\"args\": [[\"116027217\"], {\"frame\": {\"duration\": 0, \"redraw\": false}, \"fromcurrent\": true, \"mode\": \"immediate\", \"transition\": {\"duration\": 0, \"easing\": \"linear\"}}], \"label\": \"116027217\", \"method\": \"animate\"}, {\"args\": [[\"116035585\"], {\"frame\": {\"duration\": 0, \"redraw\": false}, \"fromcurrent\": true, \"mode\": \"immediate\", \"transition\": {\"duration\": 0, \"easing\": \"linear\"}}], \"label\": \"116035585\", \"method\": \"animate\"}, {\"args\": [[\"116043884\"], {\"frame\": {\"duration\": 0, \"redraw\": false}, \"fromcurrent\": true, \"mode\": \"immediate\", \"transition\": {\"duration\": 0, \"easing\": \"linear\"}}], \"label\": \"116043884\", \"method\": \"animate\"}, {\"args\": [[\"116052217\"], {\"frame\": {\"duration\": 0, \"redraw\": false}, \"fromcurrent\": true, \"mode\": \"immediate\", \"transition\": {\"duration\": 0, \"easing\": \"linear\"}}], \"label\": \"116052217\", \"method\": \"animate\"}, {\"args\": [[\"116060549\"], {\"frame\": {\"duration\": 0, \"redraw\": false}, \"fromcurrent\": true, \"mode\": \"immediate\", \"transition\": {\"duration\": 0, \"easing\": \"linear\"}}], \"label\": \"116060549\", \"method\": \"animate\"}, {\"args\": [[\"116068940\"], {\"frame\": {\"duration\": 0, \"redraw\": false}, \"fromcurrent\": true, \"mode\": \"immediate\", \"transition\": {\"duration\": 0, \"easing\": \"linear\"}}], \"label\": \"116068940\", \"method\": \"animate\"}, {\"args\": [[\"116077216\"], {\"frame\": {\"duration\": 0, \"redraw\": false}, \"fromcurrent\": true, \"mode\": \"immediate\", \"transition\": {\"duration\": 0, \"easing\": \"linear\"}}], \"label\": \"116077216\", \"method\": \"animate\"}, {\"args\": [[\"116085547\"], {\"frame\": {\"duration\": 0, \"redraw\": false}, \"fromcurrent\": true, \"mode\": \"immediate\", \"transition\": {\"duration\": 0, \"easing\": \"linear\"}}], \"label\": \"116085547\", \"method\": \"animate\"}, {\"args\": [[\"116093884\"], {\"frame\": {\"duration\": 0, \"redraw\": false}, \"fromcurrent\": true, \"mode\": \"immediate\", \"transition\": {\"duration\": 0, \"easing\": \"linear\"}}], \"label\": \"116093884\", \"method\": \"animate\"}, {\"args\": [[\"116102215\"], {\"frame\": {\"duration\": 0, \"redraw\": false}, \"fromcurrent\": true, \"mode\": \"immediate\", \"transition\": {\"duration\": 0, \"easing\": \"linear\"}}], \"label\": \"116102215\", \"method\": \"animate\"}, {\"args\": [[\"116110547\"], {\"frame\": {\"duration\": 0, \"redraw\": false}, \"fromcurrent\": true, \"mode\": \"immediate\", \"transition\": {\"duration\": 0, \"easing\": \"linear\"}}], \"label\": \"116110547\", \"method\": \"animate\"}, {\"args\": [[\"116118935\"], {\"frame\": {\"duration\": 0, \"redraw\": false}, \"fromcurrent\": true, \"mode\": \"immediate\", \"transition\": {\"duration\": 0, \"easing\": \"linear\"}}], \"label\": \"116118935\", \"method\": \"animate\"}, {\"args\": [[\"116127212\"], {\"frame\": {\"duration\": 0, \"redraw\": false}, \"fromcurrent\": true, \"mode\": \"immediate\", \"transition\": {\"duration\": 0, \"easing\": \"linear\"}}], \"label\": \"116127212\", \"method\": \"animate\"}, {\"args\": [[\"116135543\"], {\"frame\": {\"duration\": 0, \"redraw\": false}, \"fromcurrent\": true, \"mode\": \"immediate\", \"transition\": {\"duration\": 0, \"easing\": \"linear\"}}], \"label\": \"116135543\", \"method\": \"animate\"}, {\"args\": [[\"116143867\"], {\"frame\": {\"duration\": 0, \"redraw\": false}, \"fromcurrent\": true, \"mode\": \"immediate\", \"transition\": {\"duration\": 0, \"easing\": \"linear\"}}], \"label\": \"116143867\", \"method\": \"animate\"}, {\"args\": [[\"116152261\"], {\"frame\": {\"duration\": 0, \"redraw\": false}, \"fromcurrent\": true, \"mode\": \"immediate\", \"transition\": {\"duration\": 0, \"easing\": \"linear\"}}], \"label\": \"116152261\", \"method\": \"animate\"}, {\"args\": [[\"116160536\"], {\"frame\": {\"duration\": 0, \"redraw\": false}, \"fromcurrent\": true, \"mode\": \"immediate\", \"transition\": {\"duration\": 0, \"easing\": \"linear\"}}], \"label\": \"116160536\", \"method\": \"animate\"}, {\"args\": [[\"116168870\"], {\"frame\": {\"duration\": 0, \"redraw\": false}, \"fromcurrent\": true, \"mode\": \"immediate\", \"transition\": {\"duration\": 0, \"easing\": \"linear\"}}], \"label\": \"116168870\", \"method\": \"animate\"}, {\"args\": [[\"116177211\"], {\"frame\": {\"duration\": 0, \"redraw\": false}, \"fromcurrent\": true, \"mode\": \"immediate\", \"transition\": {\"duration\": 0, \"easing\": \"linear\"}}], \"label\": \"116177211\", \"method\": \"animate\"}, {\"args\": [[\"116185534\"], {\"frame\": {\"duration\": 0, \"redraw\": false}, \"fromcurrent\": true, \"mode\": \"immediate\", \"transition\": {\"duration\": 0, \"easing\": \"linear\"}}], \"label\": \"116185534\", \"method\": \"animate\"}, {\"args\": [[\"116193866\"], {\"frame\": {\"duration\": 0, \"redraw\": false}, \"fromcurrent\": true, \"mode\": \"immediate\", \"transition\": {\"duration\": 0, \"easing\": \"linear\"}}], \"label\": \"116193866\", \"method\": \"animate\"}, {\"args\": [[\"116202273\"], {\"frame\": {\"duration\": 0, \"redraw\": false}, \"fromcurrent\": true, \"mode\": \"immediate\", \"transition\": {\"duration\": 0, \"easing\": \"linear\"}}], \"label\": \"116202273\", \"method\": \"animate\"}, {\"args\": [[\"116210527\"], {\"frame\": {\"duration\": 0, \"redraw\": false}, \"fromcurrent\": true, \"mode\": \"immediate\", \"transition\": {\"duration\": 0, \"easing\": \"linear\"}}], \"label\": \"116210527\", \"method\": \"animate\"}, {\"args\": [[\"116218957\"], {\"frame\": {\"duration\": 0, \"redraw\": false}, \"fromcurrent\": true, \"mode\": \"immediate\", \"transition\": {\"duration\": 0, \"easing\": \"linear\"}}], \"label\": \"116218957\", \"method\": \"animate\"}, {\"args\": [[\"116227197\"], {\"frame\": {\"duration\": 0, \"redraw\": false}, \"fromcurrent\": true, \"mode\": \"immediate\", \"transition\": {\"duration\": 0, \"easing\": \"linear\"}}], \"label\": \"116227197\", \"method\": \"animate\"}, {\"args\": [[\"116235526\"], {\"frame\": {\"duration\": 0, \"redraw\": false}, \"fromcurrent\": true, \"mode\": \"immediate\", \"transition\": {\"duration\": 0, \"easing\": \"linear\"}}], \"label\": \"116235526\", \"method\": \"animate\"}, {\"args\": [[\"116243903\"], {\"frame\": {\"duration\": 0, \"redraw\": false}, \"fromcurrent\": true, \"mode\": \"immediate\", \"transition\": {\"duration\": 0, \"easing\": \"linear\"}}], \"label\": \"116243903\", \"method\": \"animate\"}, {\"args\": [[\"116252201\"], {\"frame\": {\"duration\": 0, \"redraw\": false}, \"fromcurrent\": true, \"mode\": \"immediate\", \"transition\": {\"duration\": 0, \"easing\": \"linear\"}}], \"label\": \"116252201\", \"method\": \"animate\"}, {\"args\": [[\"116260590\"], {\"frame\": {\"duration\": 0, \"redraw\": false}, \"fromcurrent\": true, \"mode\": \"immediate\", \"transition\": {\"duration\": 0, \"easing\": \"linear\"}}], \"label\": \"116260590\", \"method\": \"animate\"}, {\"args\": [[\"116268927\"], {\"frame\": {\"duration\": 0, \"redraw\": false}, \"fromcurrent\": true, \"mode\": \"immediate\", \"transition\": {\"duration\": 0, \"easing\": \"linear\"}}], \"label\": \"116268927\", \"method\": \"animate\"}, {\"args\": [[\"116277203\"], {\"frame\": {\"duration\": 0, \"redraw\": false}, \"fromcurrent\": true, \"mode\": \"immediate\", \"transition\": {\"duration\": 0, \"easing\": \"linear\"}}], \"label\": \"116277203\", \"method\": \"animate\"}, {\"args\": [[\"116285589\"], {\"frame\": {\"duration\": 0, \"redraw\": false}, \"fromcurrent\": true, \"mode\": \"immediate\", \"transition\": {\"duration\": 0, \"easing\": \"linear\"}}], \"label\": \"116285589\", \"method\": \"animate\"}, {\"args\": [[\"116293868\"], {\"frame\": {\"duration\": 0, \"redraw\": false}, \"fromcurrent\": true, \"mode\": \"immediate\", \"transition\": {\"duration\": 0, \"easing\": \"linear\"}}], \"label\": \"116293868\", \"method\": \"animate\"}, {\"args\": [[\"116302202\"], {\"frame\": {\"duration\": 0, \"redraw\": false}, \"fromcurrent\": true, \"mode\": \"immediate\", \"transition\": {\"duration\": 0, \"easing\": \"linear\"}}], \"label\": \"116302202\", \"method\": \"animate\"}, {\"args\": [[\"116310530\"], {\"frame\": {\"duration\": 0, \"redraw\": false}, \"fromcurrent\": true, \"mode\": \"immediate\", \"transition\": {\"duration\": 0, \"easing\": \"linear\"}}], \"label\": \"116310530\", \"method\": \"animate\"}, {\"args\": [[\"116318922\"], {\"frame\": {\"duration\": 0, \"redraw\": false}, \"fromcurrent\": true, \"mode\": \"immediate\", \"transition\": {\"duration\": 0, \"easing\": \"linear\"}}], \"label\": \"116318922\", \"method\": \"animate\"}, {\"args\": [[\"116327197\"], {\"frame\": {\"duration\": 0, \"redraw\": false}, \"fromcurrent\": true, \"mode\": \"immediate\", \"transition\": {\"duration\": 0, \"easing\": \"linear\"}}], \"label\": \"116327197\", \"method\": \"animate\"}, {\"args\": [[\"116335531\"], {\"frame\": {\"duration\": 0, \"redraw\": false}, \"fromcurrent\": true, \"mode\": \"immediate\", \"transition\": {\"duration\": 0, \"easing\": \"linear\"}}], \"label\": \"116335531\", \"method\": \"animate\"}, {\"args\": [[\"116343865\"], {\"frame\": {\"duration\": 0, \"redraw\": false}, \"fromcurrent\": true, \"mode\": \"immediate\", \"transition\": {\"duration\": 0, \"easing\": \"linear\"}}], \"label\": \"116343865\", \"method\": \"animate\"}, {\"args\": [[\"116352204\"], {\"frame\": {\"duration\": 0, \"redraw\": false}, \"fromcurrent\": true, \"mode\": \"immediate\", \"transition\": {\"duration\": 0, \"easing\": \"linear\"}}], \"label\": \"116352204\", \"method\": \"animate\"}, {\"args\": [[\"116360521\"], {\"frame\": {\"duration\": 0, \"redraw\": false}, \"fromcurrent\": true, \"mode\": \"immediate\", \"transition\": {\"duration\": 0, \"easing\": \"linear\"}}], \"label\": \"116360521\", \"method\": \"animate\"}, {\"args\": [[\"116368856\"], {\"frame\": {\"duration\": 0, \"redraw\": false}, \"fromcurrent\": true, \"mode\": \"immediate\", \"transition\": {\"duration\": 0, \"easing\": \"linear\"}}], \"label\": \"116368856\", \"method\": \"animate\"}, {\"args\": [[\"116377209\"], {\"frame\": {\"duration\": 0, \"redraw\": false}, \"fromcurrent\": true, \"mode\": \"immediate\", \"transition\": {\"duration\": 0, \"easing\": \"linear\"}}], \"label\": \"116377209\", \"method\": \"animate\"}, {\"args\": [[\"116385588\"], {\"frame\": {\"duration\": 0, \"redraw\": false}, \"fromcurrent\": true, \"mode\": \"immediate\", \"transition\": {\"duration\": 0, \"easing\": \"linear\"}}], \"label\": \"116385588\", \"method\": \"animate\"}, {\"args\": [[\"116393856\"], {\"frame\": {\"duration\": 0, \"redraw\": false}, \"fromcurrent\": true, \"mode\": \"immediate\", \"transition\": {\"duration\": 0, \"easing\": \"linear\"}}], \"label\": \"116393856\", \"method\": \"animate\"}, {\"args\": [[\"116402191\"], {\"frame\": {\"duration\": 0, \"redraw\": false}, \"fromcurrent\": true, \"mode\": \"immediate\", \"transition\": {\"duration\": 0, \"easing\": \"linear\"}}], \"label\": \"116402191\", \"method\": \"animate\"}, {\"args\": [[\"116410577\"], {\"frame\": {\"duration\": 0, \"redraw\": false}, \"fromcurrent\": true, \"mode\": \"immediate\", \"transition\": {\"duration\": 0, \"easing\": \"linear\"}}], \"label\": \"116410577\", \"method\": \"animate\"}, {\"args\": [[\"116418854\"], {\"frame\": {\"duration\": 0, \"redraw\": false}, \"fromcurrent\": true, \"mode\": \"immediate\", \"transition\": {\"duration\": 0, \"easing\": \"linear\"}}], \"label\": \"116418854\", \"method\": \"animate\"}, {\"args\": [[\"116427249\"], {\"frame\": {\"duration\": 0, \"redraw\": false}, \"fromcurrent\": true, \"mode\": \"immediate\", \"transition\": {\"duration\": 0, \"easing\": \"linear\"}}], \"label\": \"116427249\", \"method\": \"animate\"}, {\"args\": [[\"116435527\"], {\"frame\": {\"duration\": 0, \"redraw\": false}, \"fromcurrent\": true, \"mode\": \"immediate\", \"transition\": {\"duration\": 0, \"easing\": \"linear\"}}], \"label\": \"116435527\", \"method\": \"animate\"}, {\"args\": [[\"116443870\"], {\"frame\": {\"duration\": 0, \"redraw\": false}, \"fromcurrent\": true, \"mode\": \"immediate\", \"transition\": {\"duration\": 0, \"easing\": \"linear\"}}], \"label\": \"116443870\", \"method\": \"animate\"}, {\"args\": [[\"116452190\"], {\"frame\": {\"duration\": 0, \"redraw\": false}, \"fromcurrent\": true, \"mode\": \"immediate\", \"transition\": {\"duration\": 0, \"easing\": \"linear\"}}], \"label\": \"116452190\", \"method\": \"animate\"}, {\"args\": [[\"116460518\"], {\"frame\": {\"duration\": 0, \"redraw\": false}, \"fromcurrent\": true, \"mode\": \"immediate\", \"transition\": {\"duration\": 0, \"easing\": \"linear\"}}], \"label\": \"116460518\", \"method\": \"animate\"}, {\"args\": [[\"116468847\"], {\"frame\": {\"duration\": 0, \"redraw\": false}, \"fromcurrent\": true, \"mode\": \"immediate\", \"transition\": {\"duration\": 0, \"easing\": \"linear\"}}], \"label\": \"116468847\", \"method\": \"animate\"}, {\"args\": [[\"116477180\"], {\"frame\": {\"duration\": 0, \"redraw\": false}, \"fromcurrent\": true, \"mode\": \"immediate\", \"transition\": {\"duration\": 0, \"easing\": \"linear\"}}], \"label\": \"116477180\", \"method\": \"animate\"}, {\"args\": [[\"116485553\"], {\"frame\": {\"duration\": 0, \"redraw\": false}, \"fromcurrent\": true, \"mode\": \"immediate\", \"transition\": {\"duration\": 0, \"easing\": \"linear\"}}], \"label\": \"116485553\", \"method\": \"animate\"}, {\"args\": [[\"116493842\"], {\"frame\": {\"duration\": 0, \"redraw\": false}, \"fromcurrent\": true, \"mode\": \"immediate\", \"transition\": {\"duration\": 0, \"easing\": \"linear\"}}], \"label\": \"116493842\", \"method\": \"animate\"}, {\"args\": [[\"116502177\"], {\"frame\": {\"duration\": 0, \"redraw\": false}, \"fromcurrent\": true, \"mode\": \"immediate\", \"transition\": {\"duration\": 0, \"easing\": \"linear\"}}], \"label\": \"116502177\", \"method\": \"animate\"}, {\"args\": [[\"116510513\"], {\"frame\": {\"duration\": 0, \"redraw\": false}, \"fromcurrent\": true, \"mode\": \"immediate\", \"transition\": {\"duration\": 0, \"easing\": \"linear\"}}], \"label\": \"116510513\", \"method\": \"animate\"}, {\"args\": [[\"116518905\"], {\"frame\": {\"duration\": 0, \"redraw\": false}, \"fromcurrent\": true, \"mode\": \"immediate\", \"transition\": {\"duration\": 0, \"easing\": \"linear\"}}], \"label\": \"116518905\", \"method\": \"animate\"}, {\"args\": [[\"116527184\"], {\"frame\": {\"duration\": 0, \"redraw\": false}, \"fromcurrent\": true, \"mode\": \"immediate\", \"transition\": {\"duration\": 0, \"easing\": \"linear\"}}], \"label\": \"116527184\", \"method\": \"animate\"}, {\"args\": [[\"116535510\"], {\"frame\": {\"duration\": 0, \"redraw\": false}, \"fromcurrent\": true, \"mode\": \"immediate\", \"transition\": {\"duration\": 0, \"easing\": \"linear\"}}], \"label\": \"116535510\", \"method\": \"animate\"}, {\"args\": [[\"116543840\"], {\"frame\": {\"duration\": 0, \"redraw\": false}, \"fromcurrent\": true, \"mode\": \"immediate\", \"transition\": {\"duration\": 0, \"easing\": \"linear\"}}], \"label\": \"116543840\", \"method\": \"animate\"}, {\"args\": [[\"116552175\"], {\"frame\": {\"duration\": 0, \"redraw\": false}, \"fromcurrent\": true, \"mode\": \"immediate\", \"transition\": {\"duration\": 0, \"easing\": \"linear\"}}], \"label\": \"116552175\", \"method\": \"animate\"}, {\"args\": [[\"116560511\"], {\"frame\": {\"duration\": 0, \"redraw\": false}, \"fromcurrent\": true, \"mode\": \"immediate\", \"transition\": {\"duration\": 0, \"easing\": \"linear\"}}], \"label\": \"116560511\", \"method\": \"animate\"}, {\"args\": [[\"116568842\"], {\"frame\": {\"duration\": 0, \"redraw\": false}, \"fromcurrent\": true, \"mode\": \"immediate\", \"transition\": {\"duration\": 0, \"easing\": \"linear\"}}], \"label\": \"116568842\", \"method\": \"animate\"}, {\"args\": [[\"116577192\"], {\"frame\": {\"duration\": 0, \"redraw\": false}, \"fromcurrent\": true, \"mode\": \"immediate\", \"transition\": {\"duration\": 0, \"easing\": \"linear\"}}], \"label\": \"116577192\", \"method\": \"animate\"}, {\"args\": [[\"116585577\"], {\"frame\": {\"duration\": 0, \"redraw\": false}, \"fromcurrent\": true, \"mode\": \"immediate\", \"transition\": {\"duration\": 0, \"easing\": \"linear\"}}], \"label\": \"116585577\", \"method\": \"animate\"}, {\"args\": [[\"116593841\"], {\"frame\": {\"duration\": 0, \"redraw\": false}, \"fromcurrent\": true, \"mode\": \"immediate\", \"transition\": {\"duration\": 0, \"easing\": \"linear\"}}], \"label\": \"116593841\", \"method\": \"animate\"}, {\"args\": [[\"116602223\"], {\"frame\": {\"duration\": 0, \"redraw\": false}, \"fromcurrent\": true, \"mode\": \"immediate\", \"transition\": {\"duration\": 0, \"easing\": \"linear\"}}], \"label\": \"116602223\", \"method\": \"animate\"}, {\"args\": [[\"116610514\"], {\"frame\": {\"duration\": 0, \"redraw\": false}, \"fromcurrent\": true, \"mode\": \"immediate\", \"transition\": {\"duration\": 0, \"easing\": \"linear\"}}], \"label\": \"116610514\", \"method\": \"animate\"}, {\"args\": [[\"116618884\"], {\"frame\": {\"duration\": 0, \"redraw\": false}, \"fromcurrent\": true, \"mode\": \"immediate\", \"transition\": {\"duration\": 0, \"easing\": \"linear\"}}], \"label\": \"116618884\", \"method\": \"animate\"}, {\"args\": [[\"116627168\"], {\"frame\": {\"duration\": 0, \"redraw\": false}, \"fromcurrent\": true, \"mode\": \"immediate\", \"transition\": {\"duration\": 0, \"easing\": \"linear\"}}], \"label\": \"116627168\", \"method\": \"animate\"}, {\"args\": [[\"116635499\"], {\"frame\": {\"duration\": 0, \"redraw\": false}, \"fromcurrent\": true, \"mode\": \"immediate\", \"transition\": {\"duration\": 0, \"easing\": \"linear\"}}], \"label\": \"116635499\", \"method\": \"animate\"}, {\"args\": [[\"116643831\"], {\"frame\": {\"duration\": 0, \"redraw\": false}, \"fromcurrent\": true, \"mode\": \"immediate\", \"transition\": {\"duration\": 0, \"easing\": \"linear\"}}], \"label\": \"116643831\", \"method\": \"animate\"}, {\"args\": [[\"116652166\"], {\"frame\": {\"duration\": 0, \"redraw\": false}, \"fromcurrent\": true, \"mode\": \"immediate\", \"transition\": {\"duration\": 0, \"easing\": \"linear\"}}], \"label\": \"116652166\", \"method\": \"animate\"}, {\"args\": [[\"116660497\"], {\"frame\": {\"duration\": 0, \"redraw\": false}, \"fromcurrent\": true, \"mode\": \"immediate\", \"transition\": {\"duration\": 0, \"easing\": \"linear\"}}], \"label\": \"116660497\", \"method\": \"animate\"}, {\"args\": [[\"116668885\"], {\"frame\": {\"duration\": 0, \"redraw\": false}, \"fromcurrent\": true, \"mode\": \"immediate\", \"transition\": {\"duration\": 0, \"easing\": \"linear\"}}], \"label\": \"116668885\", \"method\": \"animate\"}, {\"args\": [[\"116677165\"], {\"frame\": {\"duration\": 0, \"redraw\": false}, \"fromcurrent\": true, \"mode\": \"immediate\", \"transition\": {\"duration\": 0, \"easing\": \"linear\"}}], \"label\": \"116677165\", \"method\": \"animate\"}, {\"args\": [[\"116685492\"], {\"frame\": {\"duration\": 0, \"redraw\": false}, \"fromcurrent\": true, \"mode\": \"immediate\", \"transition\": {\"duration\": 0, \"easing\": \"linear\"}}], \"label\": \"116685492\", \"method\": \"animate\"}, {\"args\": [[\"116693827\"], {\"frame\": {\"duration\": 0, \"redraw\": false}, \"fromcurrent\": true, \"mode\": \"immediate\", \"transition\": {\"duration\": 0, \"easing\": \"linear\"}}], \"label\": \"116693827\", \"method\": \"animate\"}, {\"args\": [[\"116702163\"], {\"frame\": {\"duration\": 0, \"redraw\": false}, \"fromcurrent\": true, \"mode\": \"immediate\", \"transition\": {\"duration\": 0, \"easing\": \"linear\"}}], \"label\": \"116702163\", \"method\": \"animate\"}, {\"args\": [[\"116710551\"], {\"frame\": {\"duration\": 0, \"redraw\": false}, \"fromcurrent\": true, \"mode\": \"immediate\", \"transition\": {\"duration\": 0, \"easing\": \"linear\"}}], \"label\": \"116710551\", \"method\": \"animate\"}, {\"args\": [[\"116718824\"], {\"frame\": {\"duration\": 0, \"redraw\": false}, \"fromcurrent\": true, \"mode\": \"immediate\", \"transition\": {\"duration\": 0, \"easing\": \"linear\"}}], \"label\": \"116718824\", \"method\": \"animate\"}, {\"args\": [[\"116727166\"], {\"frame\": {\"duration\": 0, \"redraw\": false}, \"fromcurrent\": true, \"mode\": \"immediate\", \"transition\": {\"duration\": 0, \"easing\": \"linear\"}}], \"label\": \"116727166\", \"method\": \"animate\"}, {\"args\": [[\"116735527\"], {\"frame\": {\"duration\": 0, \"redraw\": false}, \"fromcurrent\": true, \"mode\": \"immediate\", \"transition\": {\"duration\": 0, \"easing\": \"linear\"}}], \"label\": \"116735527\", \"method\": \"animate\"}, {\"args\": [[\"116743822\"], {\"frame\": {\"duration\": 0, \"redraw\": false}, \"fromcurrent\": true, \"mode\": \"immediate\", \"transition\": {\"duration\": 0, \"easing\": \"linear\"}}], \"label\": \"116743822\", \"method\": \"animate\"}, {\"args\": [[\"116752158\"], {\"frame\": {\"duration\": 0, \"redraw\": false}, \"fromcurrent\": true, \"mode\": \"immediate\", \"transition\": {\"duration\": 0, \"easing\": \"linear\"}}], \"label\": \"116752158\", \"method\": \"animate\"}, {\"args\": [[\"116760501\"], {\"frame\": {\"duration\": 0, \"redraw\": false}, \"fromcurrent\": true, \"mode\": \"immediate\", \"transition\": {\"duration\": 0, \"easing\": \"linear\"}}], \"label\": \"116760501\", \"method\": \"animate\"}, {\"args\": [[\"116768821\"], {\"frame\": {\"duration\": 0, \"redraw\": false}, \"fromcurrent\": true, \"mode\": \"immediate\", \"transition\": {\"duration\": 0, \"easing\": \"linear\"}}], \"label\": \"116768821\", \"method\": \"animate\"}, {\"args\": [[\"116777212\"], {\"frame\": {\"duration\": 0, \"redraw\": false}, \"fromcurrent\": true, \"mode\": \"immediate\", \"transition\": {\"duration\": 0, \"easing\": \"linear\"}}], \"label\": \"116777212\", \"method\": \"animate\"}, {\"args\": [[\"116785546\"], {\"frame\": {\"duration\": 0, \"redraw\": false}, \"fromcurrent\": true, \"mode\": \"immediate\", \"transition\": {\"duration\": 0, \"easing\": \"linear\"}}], \"label\": \"116785546\", \"method\": \"animate\"}, {\"args\": [[\"116793823\"], {\"frame\": {\"duration\": 0, \"redraw\": false}, \"fromcurrent\": true, \"mode\": \"immediate\", \"transition\": {\"duration\": 0, \"easing\": \"linear\"}}], \"label\": \"116793823\", \"method\": \"animate\"}, {\"args\": [[\"116802154\"], {\"frame\": {\"duration\": 0, \"redraw\": false}, \"fromcurrent\": true, \"mode\": \"immediate\", \"transition\": {\"duration\": 0, \"easing\": \"linear\"}}], \"label\": \"116802154\", \"method\": \"animate\"}, {\"args\": [[\"116810483\"], {\"frame\": {\"duration\": 0, \"redraw\": false}, \"fromcurrent\": true, \"mode\": \"immediate\", \"transition\": {\"duration\": 0, \"easing\": \"linear\"}}], \"label\": \"116810483\", \"method\": \"animate\"}, {\"args\": [[\"116818818\"], {\"frame\": {\"duration\": 0, \"redraw\": false}, \"fromcurrent\": true, \"mode\": \"immediate\", \"transition\": {\"duration\": 0, \"easing\": \"linear\"}}], \"label\": \"116818818\", \"method\": \"animate\"}, {\"args\": [[\"116827158\"], {\"frame\": {\"duration\": 0, \"redraw\": false}, \"fromcurrent\": true, \"mode\": \"immediate\", \"transition\": {\"duration\": 0, \"easing\": \"linear\"}}], \"label\": \"116827158\", \"method\": \"animate\"}, {\"args\": [[\"116835483\"], {\"frame\": {\"duration\": 0, \"redraw\": false}, \"fromcurrent\": true, \"mode\": \"immediate\", \"transition\": {\"duration\": 0, \"easing\": \"linear\"}}], \"label\": \"116835483\", \"method\": \"animate\"}, {\"args\": [[\"116843816\"], {\"frame\": {\"duration\": 0, \"redraw\": false}, \"fromcurrent\": true, \"mode\": \"immediate\", \"transition\": {\"duration\": 0, \"easing\": \"linear\"}}], \"label\": \"116843816\", \"method\": \"animate\"}, {\"args\": [[\"116852151\"], {\"frame\": {\"duration\": 0, \"redraw\": false}, \"fromcurrent\": true, \"mode\": \"immediate\", \"transition\": {\"duration\": 0, \"easing\": \"linear\"}}], \"label\": \"116852151\", \"method\": \"animate\"}, {\"args\": [[\"116860479\"], {\"frame\": {\"duration\": 0, \"redraw\": false}, \"fromcurrent\": true, \"mode\": \"immediate\", \"transition\": {\"duration\": 0, \"easing\": \"linear\"}}], \"label\": \"116860479\", \"method\": \"animate\"}, {\"args\": [[\"116868811\"], {\"frame\": {\"duration\": 0, \"redraw\": false}, \"fromcurrent\": true, \"mode\": \"immediate\", \"transition\": {\"duration\": 0, \"easing\": \"linear\"}}], \"label\": \"116868811\", \"method\": \"animate\"}, {\"args\": [[\"116877149\"], {\"frame\": {\"duration\": 0, \"redraw\": false}, \"fromcurrent\": true, \"mode\": \"immediate\", \"transition\": {\"duration\": 0, \"easing\": \"linear\"}}], \"label\": \"116877149\", \"method\": \"animate\"}, {\"args\": [[\"116885478\"], {\"frame\": {\"duration\": 0, \"redraw\": false}, \"fromcurrent\": true, \"mode\": \"immediate\", \"transition\": {\"duration\": 0, \"easing\": \"linear\"}}], \"label\": \"116885478\", \"method\": \"animate\"}, {\"args\": [[\"116893812\"], {\"frame\": {\"duration\": 0, \"redraw\": false}, \"fromcurrent\": true, \"mode\": \"immediate\", \"transition\": {\"duration\": 0, \"easing\": \"linear\"}}], \"label\": \"116893812\", \"method\": \"animate\"}, {\"args\": [[\"116902145\"], {\"frame\": {\"duration\": 0, \"redraw\": false}, \"fromcurrent\": true, \"mode\": \"immediate\", \"transition\": {\"duration\": 0, \"easing\": \"linear\"}}], \"label\": \"116902145\", \"method\": \"animate\"}, {\"args\": [[\"116910476\"], {\"frame\": {\"duration\": 0, \"redraw\": false}, \"fromcurrent\": true, \"mode\": \"immediate\", \"transition\": {\"duration\": 0, \"easing\": \"linear\"}}], \"label\": \"116910476\", \"method\": \"animate\"}, {\"args\": [[\"116918810\"], {\"frame\": {\"duration\": 0, \"redraw\": false}, \"fromcurrent\": true, \"mode\": \"immediate\", \"transition\": {\"duration\": 0, \"easing\": \"linear\"}}], \"label\": \"116918810\", \"method\": \"animate\"}, {\"args\": [[\"116927143\"], {\"frame\": {\"duration\": 0, \"redraw\": false}, \"fromcurrent\": true, \"mode\": \"immediate\", \"transition\": {\"duration\": 0, \"easing\": \"linear\"}}], \"label\": \"116927143\", \"method\": \"animate\"}, {\"args\": [[\"116935472\"], {\"frame\": {\"duration\": 0, \"redraw\": false}, \"fromcurrent\": true, \"mode\": \"immediate\", \"transition\": {\"duration\": 0, \"easing\": \"linear\"}}], \"label\": \"116935472\", \"method\": \"animate\"}, {\"args\": [[\"116943807\"], {\"frame\": {\"duration\": 0, \"redraw\": false}, \"fromcurrent\": true, \"mode\": \"immediate\", \"transition\": {\"duration\": 0, \"easing\": \"linear\"}}], \"label\": \"116943807\", \"method\": \"animate\"}, {\"args\": [[\"116952144\"], {\"frame\": {\"duration\": 0, \"redraw\": false}, \"fromcurrent\": true, \"mode\": \"immediate\", \"transition\": {\"duration\": 0, \"easing\": \"linear\"}}], \"label\": \"116952144\", \"method\": \"animate\"}, {\"args\": [[\"116960527\"], {\"frame\": {\"duration\": 0, \"redraw\": false}, \"fromcurrent\": true, \"mode\": \"immediate\", \"transition\": {\"duration\": 0, \"easing\": \"linear\"}}], \"label\": \"116960527\", \"method\": \"animate\"}, {\"args\": [[\"116968806\"], {\"frame\": {\"duration\": 0, \"redraw\": false}, \"fromcurrent\": true, \"mode\": \"immediate\", \"transition\": {\"duration\": 0, \"easing\": \"linear\"}}], \"label\": \"116968806\", \"method\": \"animate\"}, {\"args\": [[\"116977200\"], {\"frame\": {\"duration\": 0, \"redraw\": false}, \"fromcurrent\": true, \"mode\": \"immediate\", \"transition\": {\"duration\": 0, \"easing\": \"linear\"}}], \"label\": \"116977200\", \"method\": \"animate\"}, {\"args\": [[\"116985472\"], {\"frame\": {\"duration\": 0, \"redraw\": false}, \"fromcurrent\": true, \"mode\": \"immediate\", \"transition\": {\"duration\": 0, \"easing\": \"linear\"}}], \"label\": \"116985472\", \"method\": \"animate\"}, {\"args\": [[\"116993803\"], {\"frame\": {\"duration\": 0, \"redraw\": false}, \"fromcurrent\": true, \"mode\": \"immediate\", \"transition\": {\"duration\": 0, \"easing\": \"linear\"}}], \"label\": \"116993803\", \"method\": \"animate\"}, {\"args\": [[\"117002147\"], {\"frame\": {\"duration\": 0, \"redraw\": false}, \"fromcurrent\": true, \"mode\": \"immediate\", \"transition\": {\"duration\": 0, \"easing\": \"linear\"}}], \"label\": \"117002147\", \"method\": \"animate\"}, {\"args\": [[\"117010477\"], {\"frame\": {\"duration\": 0, \"redraw\": false}, \"fromcurrent\": true, \"mode\": \"immediate\", \"transition\": {\"duration\": 0, \"easing\": \"linear\"}}], \"label\": \"117010477\", \"method\": \"animate\"}, {\"args\": [[\"117018841\"], {\"frame\": {\"duration\": 0, \"redraw\": false}, \"fromcurrent\": true, \"mode\": \"immediate\", \"transition\": {\"duration\": 0, \"easing\": \"linear\"}}], \"label\": \"117018841\", \"method\": \"animate\"}, {\"args\": [[\"117027140\"], {\"frame\": {\"duration\": 0, \"redraw\": false}, \"fromcurrent\": true, \"mode\": \"immediate\", \"transition\": {\"duration\": 0, \"easing\": \"linear\"}}], \"label\": \"117027140\", \"method\": \"animate\"}, {\"args\": [[\"117035483\"], {\"frame\": {\"duration\": 0, \"redraw\": false}, \"fromcurrent\": true, \"mode\": \"immediate\", \"transition\": {\"duration\": 0, \"easing\": \"linear\"}}], \"label\": \"117035483\", \"method\": \"animate\"}, {\"args\": [[\"117043855\"], {\"frame\": {\"duration\": 0, \"redraw\": false}, \"fromcurrent\": true, \"mode\": \"immediate\", \"transition\": {\"duration\": 0, \"easing\": \"linear\"}}], \"label\": \"117043855\", \"method\": \"animate\"}, {\"args\": [[\"117052134\"], {\"frame\": {\"duration\": 0, \"redraw\": false}, \"fromcurrent\": true, \"mode\": \"immediate\", \"transition\": {\"duration\": 0, \"easing\": \"linear\"}}], \"label\": \"117052134\", \"method\": \"animate\"}, {\"args\": [[\"117060523\"], {\"frame\": {\"duration\": 0, \"redraw\": false}, \"fromcurrent\": true, \"mode\": \"immediate\", \"transition\": {\"duration\": 0, \"easing\": \"linear\"}}], \"label\": \"117060523\", \"method\": \"animate\"}, {\"args\": [[\"117068796\"], {\"frame\": {\"duration\": 0, \"redraw\": false}, \"fromcurrent\": true, \"mode\": \"immediate\", \"transition\": {\"duration\": 0, \"easing\": \"linear\"}}], \"label\": \"117068796\", \"method\": \"animate\"}, {\"args\": [[\"117077128\"], {\"frame\": {\"duration\": 0, \"redraw\": false}, \"fromcurrent\": true, \"mode\": \"immediate\", \"transition\": {\"duration\": 0, \"easing\": \"linear\"}}], \"label\": \"117077128\", \"method\": \"animate\"}, {\"args\": [[\"117085489\"], {\"frame\": {\"duration\": 0, \"redraw\": false}, \"fromcurrent\": true, \"mode\": \"immediate\", \"transition\": {\"duration\": 0, \"easing\": \"linear\"}}], \"label\": \"117085489\", \"method\": \"animate\"}, {\"args\": [[\"117093849\"], {\"frame\": {\"duration\": 0, \"redraw\": false}, \"fromcurrent\": true, \"mode\": \"immediate\", \"transition\": {\"duration\": 0, \"easing\": \"linear\"}}], \"label\": \"117093849\", \"method\": \"animate\"}, {\"args\": [[\"117102126\"], {\"frame\": {\"duration\": 0, \"redraw\": false}, \"fromcurrent\": true, \"mode\": \"immediate\", \"transition\": {\"duration\": 0, \"easing\": \"linear\"}}], \"label\": \"117102126\", \"method\": \"animate\"}, {\"args\": [[\"117110466\"], {\"frame\": {\"duration\": 0, \"redraw\": false}, \"fromcurrent\": true, \"mode\": \"immediate\", \"transition\": {\"duration\": 0, \"easing\": \"linear\"}}], \"label\": \"117110466\", \"method\": \"animate\"}, {\"args\": [[\"117118798\"], {\"frame\": {\"duration\": 0, \"redraw\": false}, \"fromcurrent\": true, \"mode\": \"immediate\", \"transition\": {\"duration\": 0, \"easing\": \"linear\"}}], \"label\": \"117118798\", \"method\": \"animate\"}, {\"args\": [[\"117127135\"], {\"frame\": {\"duration\": 0, \"redraw\": false}, \"fromcurrent\": true, \"mode\": \"immediate\", \"transition\": {\"duration\": 0, \"easing\": \"linear\"}}], \"label\": \"117127135\", \"method\": \"animate\"}, {\"args\": [[\"117135454\"], {\"frame\": {\"duration\": 0, \"redraw\": false}, \"fromcurrent\": true, \"mode\": \"immediate\", \"transition\": {\"duration\": 0, \"easing\": \"linear\"}}], \"label\": \"117135454\", \"method\": \"animate\"}, {\"args\": [[\"117143887\"], {\"frame\": {\"duration\": 0, \"redraw\": false}, \"fromcurrent\": true, \"mode\": \"immediate\", \"transition\": {\"duration\": 0, \"easing\": \"linear\"}}], \"label\": \"117143887\", \"method\": \"animate\"}, {\"args\": [[\"117152182\"], {\"frame\": {\"duration\": 0, \"redraw\": false}, \"fromcurrent\": true, \"mode\": \"immediate\", \"transition\": {\"duration\": 0, \"easing\": \"linear\"}}], \"label\": \"117152182\", \"method\": \"animate\"}, {\"args\": [[\"117160471\"], {\"frame\": {\"duration\": 0, \"redraw\": false}, \"fromcurrent\": true, \"mode\": \"immediate\", \"transition\": {\"duration\": 0, \"easing\": \"linear\"}}], \"label\": \"117160471\", \"method\": \"animate\"}, {\"args\": [[\"117168787\"], {\"frame\": {\"duration\": 0, \"redraw\": false}, \"fromcurrent\": true, \"mode\": \"immediate\", \"transition\": {\"duration\": 0, \"easing\": \"linear\"}}], \"label\": \"117168787\", \"method\": \"animate\"}, {\"args\": [[\"117177190\"], {\"frame\": {\"duration\": 0, \"redraw\": false}, \"fromcurrent\": true, \"mode\": \"immediate\", \"transition\": {\"duration\": 0, \"easing\": \"linear\"}}], \"label\": \"117177190\", \"method\": \"animate\"}, {\"args\": [[\"117185460\"], {\"frame\": {\"duration\": 0, \"redraw\": false}, \"fromcurrent\": true, \"mode\": \"immediate\", \"transition\": {\"duration\": 0, \"easing\": \"linear\"}}], \"label\": \"117185460\", \"method\": \"animate\"}, {\"args\": [[\"117193795\"], {\"frame\": {\"duration\": 0, \"redraw\": false}, \"fromcurrent\": true, \"mode\": \"immediate\", \"transition\": {\"duration\": 0, \"easing\": \"linear\"}}], \"label\": \"117193795\", \"method\": \"animate\"}, {\"args\": [[\"117202127\"], {\"frame\": {\"duration\": 0, \"redraw\": false}, \"fromcurrent\": true, \"mode\": \"immediate\", \"transition\": {\"duration\": 0, \"easing\": \"linear\"}}], \"label\": \"117202127\", \"method\": \"animate\"}, {\"args\": [[\"117210459\"], {\"frame\": {\"duration\": 0, \"redraw\": false}, \"fromcurrent\": true, \"mode\": \"immediate\", \"transition\": {\"duration\": 0, \"easing\": \"linear\"}}], \"label\": \"117210459\", \"method\": \"animate\"}, {\"args\": [[\"117218823\"], {\"frame\": {\"duration\": 0, \"redraw\": false}, \"fromcurrent\": true, \"mode\": \"immediate\", \"transition\": {\"duration\": 0, \"easing\": \"linear\"}}], \"label\": \"117218823\", \"method\": \"animate\"}, {\"args\": [[\"117227126\"], {\"frame\": {\"duration\": 0, \"redraw\": false}, \"fromcurrent\": true, \"mode\": \"immediate\", \"transition\": {\"duration\": 0, \"easing\": \"linear\"}}], \"label\": \"117227126\", \"method\": \"animate\"}, {\"args\": [[\"117235491\"], {\"frame\": {\"duration\": 0, \"redraw\": false}, \"fromcurrent\": true, \"mode\": \"immediate\", \"transition\": {\"duration\": 0, \"easing\": \"linear\"}}], \"label\": \"117235491\", \"method\": \"animate\"}, {\"args\": [[\"117243792\"], {\"frame\": {\"duration\": 0, \"redraw\": false}, \"fromcurrent\": true, \"mode\": \"immediate\", \"transition\": {\"duration\": 0, \"easing\": \"linear\"}}], \"label\": \"117243792\", \"method\": \"animate\"}, {\"args\": [[\"117252119\"], {\"frame\": {\"duration\": 0, \"redraw\": false}, \"fromcurrent\": true, \"mode\": \"immediate\", \"transition\": {\"duration\": 0, \"easing\": \"linear\"}}], \"label\": \"117252119\", \"method\": \"animate\"}, {\"args\": [[\"117260447\"], {\"frame\": {\"duration\": 0, \"redraw\": false}, \"fromcurrent\": true, \"mode\": \"immediate\", \"transition\": {\"duration\": 0, \"easing\": \"linear\"}}], \"label\": \"117260447\", \"method\": \"animate\"}, {\"args\": [[\"117268788\"], {\"frame\": {\"duration\": 0, \"redraw\": false}, \"fromcurrent\": true, \"mode\": \"immediate\", \"transition\": {\"duration\": 0, \"easing\": \"linear\"}}], \"label\": \"117268788\", \"method\": \"animate\"}, {\"args\": [[\"117277119\"], {\"frame\": {\"duration\": 0, \"redraw\": false}, \"fromcurrent\": true, \"mode\": \"immediate\", \"transition\": {\"duration\": 0, \"easing\": \"linear\"}}], \"label\": \"117277119\", \"method\": \"animate\"}, {\"args\": [[\"117285486\"], {\"frame\": {\"duration\": 0, \"redraw\": false}, \"fromcurrent\": true, \"mode\": \"immediate\", \"transition\": {\"duration\": 0, \"easing\": \"linear\"}}], \"label\": \"117285486\", \"method\": \"animate\"}, {\"args\": [[\"117293841\"], {\"frame\": {\"duration\": 0, \"redraw\": false}, \"fromcurrent\": true, \"mode\": \"immediate\", \"transition\": {\"duration\": 0, \"easing\": \"linear\"}}], \"label\": \"117293841\", \"method\": \"animate\"}, {\"args\": [[\"117302117\"], {\"frame\": {\"duration\": 0, \"redraw\": false}, \"fromcurrent\": true, \"mode\": \"immediate\", \"transition\": {\"duration\": 0, \"easing\": \"linear\"}}], \"label\": \"117302117\", \"method\": \"animate\"}, {\"args\": [[\"117310451\"], {\"frame\": {\"duration\": 0, \"redraw\": false}, \"fromcurrent\": true, \"mode\": \"immediate\", \"transition\": {\"duration\": 0, \"easing\": \"linear\"}}], \"label\": \"117310451\", \"method\": \"animate\"}, {\"args\": [[\"117318778\"], {\"frame\": {\"duration\": 0, \"redraw\": false}, \"fromcurrent\": true, \"mode\": \"immediate\", \"transition\": {\"duration\": 0, \"easing\": \"linear\"}}], \"label\": \"117318778\", \"method\": \"animate\"}, {\"args\": [[\"117327113\"], {\"frame\": {\"duration\": 0, \"redraw\": false}, \"fromcurrent\": true, \"mode\": \"immediate\", \"transition\": {\"duration\": 0, \"easing\": \"linear\"}}], \"label\": \"117327113\", \"method\": \"animate\"}, {\"args\": [[\"117335526\"], {\"frame\": {\"duration\": 0, \"redraw\": false}, \"fromcurrent\": true, \"mode\": \"immediate\", \"transition\": {\"duration\": 0, \"easing\": \"linear\"}}], \"label\": \"117335526\", \"method\": \"animate\"}, {\"args\": [[\"117343772\"], {\"frame\": {\"duration\": 0, \"redraw\": false}, \"fromcurrent\": true, \"mode\": \"immediate\", \"transition\": {\"duration\": 0, \"easing\": \"linear\"}}], \"label\": \"117343772\", \"method\": \"animate\"}, {\"args\": [[\"117352151\"], {\"frame\": {\"duration\": 0, \"redraw\": false}, \"fromcurrent\": true, \"mode\": \"immediate\", \"transition\": {\"duration\": 0, \"easing\": \"linear\"}}], \"label\": \"117352151\", \"method\": \"animate\"}, {\"args\": [[\"117360439\"], {\"frame\": {\"duration\": 0, \"redraw\": false}, \"fromcurrent\": true, \"mode\": \"immediate\", \"transition\": {\"duration\": 0, \"easing\": \"linear\"}}], \"label\": \"117360439\", \"method\": \"animate\"}, {\"args\": [[\"117368872\"], {\"frame\": {\"duration\": 0, \"redraw\": false}, \"fromcurrent\": true, \"mode\": \"immediate\", \"transition\": {\"duration\": 0, \"easing\": \"linear\"}}], \"label\": \"117368872\", \"method\": \"animate\"}, {\"args\": [[\"117377204\"], {\"frame\": {\"duration\": 0, \"redraw\": false}, \"fromcurrent\": true, \"mode\": \"immediate\", \"transition\": {\"duration\": 0, \"easing\": \"linear\"}}], \"label\": \"117377204\", \"method\": \"animate\"}, {\"args\": [[\"117385460\"], {\"frame\": {\"duration\": 0, \"redraw\": false}, \"fromcurrent\": true, \"mode\": \"immediate\", \"transition\": {\"duration\": 0, \"easing\": \"linear\"}}], \"label\": \"117385460\", \"method\": \"animate\"}, {\"args\": [[\"117393769\"], {\"frame\": {\"duration\": 0, \"redraw\": false}, \"fromcurrent\": true, \"mode\": \"immediate\", \"transition\": {\"duration\": 0, \"easing\": \"linear\"}}], \"label\": \"117393769\", \"method\": \"animate\"}, {\"args\": [[\"117402103\"], {\"frame\": {\"duration\": 0, \"redraw\": false}, \"fromcurrent\": true, \"mode\": \"immediate\", \"transition\": {\"duration\": 0, \"easing\": \"linear\"}}], \"label\": \"117402103\", \"method\": \"animate\"}, {\"args\": [[\"117410434\"], {\"frame\": {\"duration\": 0, \"redraw\": false}, \"fromcurrent\": true, \"mode\": \"immediate\", \"transition\": {\"duration\": 0, \"easing\": \"linear\"}}], \"label\": \"117410434\", \"method\": \"animate\"}, {\"args\": [[\"117418831\"], {\"frame\": {\"duration\": 0, \"redraw\": false}, \"fromcurrent\": true, \"mode\": \"immediate\", \"transition\": {\"duration\": 0, \"easing\": \"linear\"}}], \"label\": \"117418831\", \"method\": \"animate\"}, {\"args\": [[\"117427102\"], {\"frame\": {\"duration\": 0, \"redraw\": false}, \"fromcurrent\": true, \"mode\": \"immediate\", \"transition\": {\"duration\": 0, \"easing\": \"linear\"}}], \"label\": \"117427102\", \"method\": \"animate\"}, {\"args\": [[\"117435432\"], {\"frame\": {\"duration\": 0, \"redraw\": false}, \"fromcurrent\": true, \"mode\": \"immediate\", \"transition\": {\"duration\": 0, \"easing\": \"linear\"}}], \"label\": \"117435432\", \"method\": \"animate\"}, {\"args\": [[\"117443837\"], {\"frame\": {\"duration\": 0, \"redraw\": false}, \"fromcurrent\": true, \"mode\": \"immediate\", \"transition\": {\"duration\": 0, \"easing\": \"linear\"}}], \"label\": \"117443837\", \"method\": \"animate\"}, {\"args\": [[\"117452160\"], {\"frame\": {\"duration\": 0, \"redraw\": false}, \"fromcurrent\": true, \"mode\": \"immediate\", \"transition\": {\"duration\": 0, \"easing\": \"linear\"}}], \"label\": \"117452160\", \"method\": \"animate\"}, {\"args\": [[\"117460487\"], {\"frame\": {\"duration\": 0, \"redraw\": false}, \"fromcurrent\": true, \"mode\": \"immediate\", \"transition\": {\"duration\": 0, \"easing\": \"linear\"}}], \"label\": \"117460487\", \"method\": \"animate\"}, {\"args\": [[\"117468822\"], {\"frame\": {\"duration\": 0, \"redraw\": false}, \"fromcurrent\": true, \"mode\": \"immediate\", \"transition\": {\"duration\": 0, \"easing\": \"linear\"}}], \"label\": \"117468822\", \"method\": \"animate\"}, {\"args\": [[\"117477099\"], {\"frame\": {\"duration\": 0, \"redraw\": false}, \"fromcurrent\": true, \"mode\": \"immediate\", \"transition\": {\"duration\": 0, \"easing\": \"linear\"}}], \"label\": \"117477099\", \"method\": \"animate\"}, {\"args\": [[\"117485486\"], {\"frame\": {\"duration\": 0, \"redraw\": false}, \"fromcurrent\": true, \"mode\": \"immediate\", \"transition\": {\"duration\": 0, \"easing\": \"linear\"}}], \"label\": \"117485486\", \"method\": \"animate\"}, {\"args\": [[\"117493818\"], {\"frame\": {\"duration\": 0, \"redraw\": false}, \"fromcurrent\": true, \"mode\": \"immediate\", \"transition\": {\"duration\": 0, \"easing\": \"linear\"}}], \"label\": \"117493818\", \"method\": \"animate\"}, {\"args\": [[\"117502152\"], {\"frame\": {\"duration\": 0, \"redraw\": false}, \"fromcurrent\": true, \"mode\": \"immediate\", \"transition\": {\"duration\": 0, \"easing\": \"linear\"}}], \"label\": \"117502152\", \"method\": \"animate\"}, {\"args\": [[\"117510491\"], {\"frame\": {\"duration\": 0, \"redraw\": false}, \"fromcurrent\": true, \"mode\": \"immediate\", \"transition\": {\"duration\": 0, \"easing\": \"linear\"}}], \"label\": \"117510491\", \"method\": \"animate\"}, {\"args\": [[\"117518817\"], {\"frame\": {\"duration\": 0, \"redraw\": false}, \"fromcurrent\": true, \"mode\": \"immediate\", \"transition\": {\"duration\": 0, \"easing\": \"linear\"}}], \"label\": \"117518817\", \"method\": \"animate\"}, {\"args\": [[\"117527094\"], {\"frame\": {\"duration\": 0, \"redraw\": false}, \"fromcurrent\": true, \"mode\": \"immediate\", \"transition\": {\"duration\": 0, \"easing\": \"linear\"}}], \"label\": \"117527094\", \"method\": \"animate\"}, {\"args\": [[\"117535488\"], {\"frame\": {\"duration\": 0, \"redraw\": false}, \"fromcurrent\": true, \"mode\": \"immediate\", \"transition\": {\"duration\": 0, \"easing\": \"linear\"}}], \"label\": \"117535488\", \"method\": \"animate\"}, {\"args\": [[\"117543812\"], {\"frame\": {\"duration\": 0, \"redraw\": false}, \"fromcurrent\": true, \"mode\": \"immediate\", \"transition\": {\"duration\": 0, \"easing\": \"linear\"}}], \"label\": \"117543812\", \"method\": \"animate\"}, {\"args\": [[\"117552149\"], {\"frame\": {\"duration\": 0, \"redraw\": false}, \"fromcurrent\": true, \"mode\": \"immediate\", \"transition\": {\"duration\": 0, \"easing\": \"linear\"}}], \"label\": \"117552149\", \"method\": \"animate\"}, {\"args\": [[\"117560482\"], {\"frame\": {\"duration\": 0, \"redraw\": false}, \"fromcurrent\": true, \"mode\": \"immediate\", \"transition\": {\"duration\": 0, \"easing\": \"linear\"}}], \"label\": \"117560482\", \"method\": \"animate\"}, {\"args\": [[\"117568819\"], {\"frame\": {\"duration\": 0, \"redraw\": false}, \"fromcurrent\": true, \"mode\": \"immediate\", \"transition\": {\"duration\": 0, \"easing\": \"linear\"}}], \"label\": \"117568819\", \"method\": \"animate\"}, {\"args\": [[\"117577093\"], {\"frame\": {\"duration\": 0, \"redraw\": false}, \"fromcurrent\": true, \"mode\": \"immediate\", \"transition\": {\"duration\": 0, \"easing\": \"linear\"}}], \"label\": \"117577093\", \"method\": \"animate\"}, {\"args\": [[\"117585421\"], {\"frame\": {\"duration\": 0, \"redraw\": false}, \"fromcurrent\": true, \"mode\": \"immediate\", \"transition\": {\"duration\": 0, \"easing\": \"linear\"}}], \"label\": \"117585421\", \"method\": \"animate\"}, {\"args\": [[\"117593807\"], {\"frame\": {\"duration\": 0, \"redraw\": false}, \"fromcurrent\": true, \"mode\": \"immediate\", \"transition\": {\"duration\": 0, \"easing\": \"linear\"}}], \"label\": \"117593807\", \"method\": \"animate\"}, {\"args\": [[\"117602091\"], {\"frame\": {\"duration\": 0, \"redraw\": false}, \"fromcurrent\": true, \"mode\": \"immediate\", \"transition\": {\"duration\": 0, \"easing\": \"linear\"}}], \"label\": \"117602091\", \"method\": \"animate\"}, {\"args\": [[\"117610485\"], {\"frame\": {\"duration\": 0, \"redraw\": false}, \"fromcurrent\": true, \"mode\": \"immediate\", \"transition\": {\"duration\": 0, \"easing\": \"linear\"}}], \"label\": \"117610485\", \"method\": \"animate\"}, {\"args\": [[\"117618751\"], {\"frame\": {\"duration\": 0, \"redraw\": false}, \"fromcurrent\": true, \"mode\": \"immediate\", \"transition\": {\"duration\": 0, \"easing\": \"linear\"}}], \"label\": \"117618751\", \"method\": \"animate\"}, {\"args\": [[\"117627142\"], {\"frame\": {\"duration\": 0, \"redraw\": false}, \"fromcurrent\": true, \"mode\": \"immediate\", \"transition\": {\"duration\": 0, \"easing\": \"linear\"}}], \"label\": \"117627142\", \"method\": \"animate\"}, {\"args\": [[\"117635480\"], {\"frame\": {\"duration\": 0, \"redraw\": false}, \"fromcurrent\": true, \"mode\": \"immediate\", \"transition\": {\"duration\": 0, \"easing\": \"linear\"}}], \"label\": \"117635480\", \"method\": \"animate\"}, {\"args\": [[\"117643750\"], {\"frame\": {\"duration\": 0, \"redraw\": false}, \"fromcurrent\": true, \"mode\": \"immediate\", \"transition\": {\"duration\": 0, \"easing\": \"linear\"}}], \"label\": \"117643750\", \"method\": \"animate\"}, {\"args\": [[\"117652086\"], {\"frame\": {\"duration\": 0, \"redraw\": false}, \"fromcurrent\": true, \"mode\": \"immediate\", \"transition\": {\"duration\": 0, \"easing\": \"linear\"}}], \"label\": \"117652086\", \"method\": \"animate\"}, {\"args\": [[\"117660416\"], {\"frame\": {\"duration\": 0, \"redraw\": false}, \"fromcurrent\": true, \"mode\": \"immediate\", \"transition\": {\"duration\": 0, \"easing\": \"linear\"}}], \"label\": \"117660416\", \"method\": \"animate\"}, {\"args\": [[\"117668749\"], {\"frame\": {\"duration\": 0, \"redraw\": false}, \"fromcurrent\": true, \"mode\": \"immediate\", \"transition\": {\"duration\": 0, \"easing\": \"linear\"}}], \"label\": \"117668749\", \"method\": \"animate\"}, {\"args\": [[\"117677102\"], {\"frame\": {\"duration\": 0, \"redraw\": false}, \"fromcurrent\": true, \"mode\": \"immediate\", \"transition\": {\"duration\": 0, \"easing\": \"linear\"}}], \"label\": \"117677102\", \"method\": \"animate\"}, {\"args\": [[\"117685413\"], {\"frame\": {\"duration\": 0, \"redraw\": false}, \"fromcurrent\": true, \"mode\": \"immediate\", \"transition\": {\"duration\": 0, \"easing\": \"linear\"}}], \"label\": \"117685413\", \"method\": \"animate\"}, {\"args\": [[\"117693745\"], {\"frame\": {\"duration\": 0, \"redraw\": false}, \"fromcurrent\": true, \"mode\": \"immediate\", \"transition\": {\"duration\": 0, \"easing\": \"linear\"}}], \"label\": \"117693745\", \"method\": \"animate\"}, {\"args\": [[\"117702082\"], {\"frame\": {\"duration\": 0, \"redraw\": false}, \"fromcurrent\": true, \"mode\": \"immediate\", \"transition\": {\"duration\": 0, \"easing\": \"linear\"}}], \"label\": \"117702082\", \"method\": \"animate\"}, {\"args\": [[\"117710471\"], {\"frame\": {\"duration\": 0, \"redraw\": false}, \"fromcurrent\": true, \"mode\": \"immediate\", \"transition\": {\"duration\": 0, \"easing\": \"linear\"}}], \"label\": \"117710471\", \"method\": \"animate\"}, {\"args\": [[\"117718747\"], {\"frame\": {\"duration\": 0, \"redraw\": false}, \"fromcurrent\": true, \"mode\": \"immediate\", \"transition\": {\"duration\": 0, \"easing\": \"linear\"}}], \"label\": \"117718747\", \"method\": \"animate\"}, {\"args\": [[\"117727079\"], {\"frame\": {\"duration\": 0, \"redraw\": false}, \"fromcurrent\": true, \"mode\": \"immediate\", \"transition\": {\"duration\": 0, \"easing\": \"linear\"}}], \"label\": \"117727079\", \"method\": \"animate\"}, {\"args\": [[\"117735464\"], {\"frame\": {\"duration\": 0, \"redraw\": false}, \"fromcurrent\": true, \"mode\": \"immediate\", \"transition\": {\"duration\": 0, \"easing\": \"linear\"}}], \"label\": \"117735464\", \"method\": \"animate\"}, {\"args\": [[\"117743798\"], {\"frame\": {\"duration\": 0, \"redraw\": false}, \"fromcurrent\": true, \"mode\": \"immediate\", \"transition\": {\"duration\": 0, \"easing\": \"linear\"}}], \"label\": \"117743798\", \"method\": \"animate\"}, {\"args\": [[\"117752078\"], {\"frame\": {\"duration\": 0, \"redraw\": false}, \"fromcurrent\": true, \"mode\": \"immediate\", \"transition\": {\"duration\": 0, \"easing\": \"linear\"}}], \"label\": \"117752078\", \"method\": \"animate\"}, {\"args\": [[\"117760407\"], {\"frame\": {\"duration\": 0, \"redraw\": false}, \"fromcurrent\": true, \"mode\": \"immediate\", \"transition\": {\"duration\": 0, \"easing\": \"linear\"}}], \"label\": \"117760407\", \"method\": \"animate\"}, {\"args\": [[\"117768742\"], {\"frame\": {\"duration\": 0, \"redraw\": false}, \"fromcurrent\": true, \"mode\": \"immediate\", \"transition\": {\"duration\": 0, \"easing\": \"linear\"}}], \"label\": \"117768742\", \"method\": \"animate\"}, {\"args\": [[\"117777132\"], {\"frame\": {\"duration\": 0, \"redraw\": false}, \"fromcurrent\": true, \"mode\": \"immediate\", \"transition\": {\"duration\": 0, \"easing\": \"linear\"}}], \"label\": \"117777132\", \"method\": \"animate\"}, {\"args\": [[\"117785413\"], {\"frame\": {\"duration\": 0, \"redraw\": false}, \"fromcurrent\": true, \"mode\": \"immediate\", \"transition\": {\"duration\": 0, \"easing\": \"linear\"}}], \"label\": \"117785413\", \"method\": \"animate\"}, {\"args\": [[\"117793735\"], {\"frame\": {\"duration\": 0, \"redraw\": false}, \"fromcurrent\": true, \"mode\": \"immediate\", \"transition\": {\"duration\": 0, \"easing\": \"linear\"}}], \"label\": \"117793735\", \"method\": \"animate\"}, {\"args\": [[\"117802075\"], {\"frame\": {\"duration\": 0, \"redraw\": false}, \"fromcurrent\": true, \"mode\": \"immediate\", \"transition\": {\"duration\": 0, \"easing\": \"linear\"}}], \"label\": \"117802075\", \"method\": \"animate\"}, {\"args\": [[\"117810405\"], {\"frame\": {\"duration\": 0, \"redraw\": false}, \"fromcurrent\": true, \"mode\": \"immediate\", \"transition\": {\"duration\": 0, \"easing\": \"linear\"}}], \"label\": \"117810405\", \"method\": \"animate\"}, {\"args\": [[\"117818733\"], {\"frame\": {\"duration\": 0, \"redraw\": false}, \"fromcurrent\": true, \"mode\": \"immediate\", \"transition\": {\"duration\": 0, \"easing\": \"linear\"}}], \"label\": \"117818733\", \"method\": \"animate\"}, {\"args\": [[\"117827150\"], {\"frame\": {\"duration\": 0, \"redraw\": false}, \"fromcurrent\": true, \"mode\": \"immediate\", \"transition\": {\"duration\": 0, \"easing\": \"linear\"}}], \"label\": \"117827150\", \"method\": \"animate\"}, {\"args\": [[\"117835398\"], {\"frame\": {\"duration\": 0, \"redraw\": false}, \"fromcurrent\": true, \"mode\": \"immediate\", \"transition\": {\"duration\": 0, \"easing\": \"linear\"}}], \"label\": \"117835398\", \"method\": \"animate\"}, {\"args\": [[\"117843741\"], {\"frame\": {\"duration\": 0, \"redraw\": false}, \"fromcurrent\": true, \"mode\": \"immediate\", \"transition\": {\"duration\": 0, \"easing\": \"linear\"}}], \"label\": \"117843741\", \"method\": \"animate\"}, {\"args\": [[\"117852067\"], {\"frame\": {\"duration\": 0, \"redraw\": false}, \"fromcurrent\": true, \"mode\": \"immediate\", \"transition\": {\"duration\": 0, \"easing\": \"linear\"}}], \"label\": \"117852067\", \"method\": \"animate\"}, {\"args\": [[\"117860400\"], {\"frame\": {\"duration\": 0, \"redraw\": false}, \"fromcurrent\": true, \"mode\": \"immediate\", \"transition\": {\"duration\": 0, \"easing\": \"linear\"}}], \"label\": \"117860400\", \"method\": \"animate\"}, {\"args\": [[\"117868730\"], {\"frame\": {\"duration\": 0, \"redraw\": false}, \"fromcurrent\": true, \"mode\": \"immediate\", \"transition\": {\"duration\": 0, \"easing\": \"linear\"}}], \"label\": \"117868730\", \"method\": \"animate\"}, {\"args\": [[\"117877067\"], {\"frame\": {\"duration\": 0, \"redraw\": false}, \"fromcurrent\": true, \"mode\": \"immediate\", \"transition\": {\"duration\": 0, \"easing\": \"linear\"}}], \"label\": \"117877067\", \"method\": \"animate\"}, {\"args\": [[\"117885400\"], {\"frame\": {\"duration\": 0, \"redraw\": false}, \"fromcurrent\": true, \"mode\": \"immediate\", \"transition\": {\"duration\": 0, \"easing\": \"linear\"}}], \"label\": \"117885400\", \"method\": \"animate\"}, {\"args\": [[\"117893787\"], {\"frame\": {\"duration\": 0, \"redraw\": false}, \"fromcurrent\": true, \"mode\": \"immediate\", \"transition\": {\"duration\": 0, \"easing\": \"linear\"}}], \"label\": \"117893787\", \"method\": \"animate\"}, {\"args\": [[\"117902066\"], {\"frame\": {\"duration\": 0, \"redraw\": false}, \"fromcurrent\": true, \"mode\": \"immediate\", \"transition\": {\"duration\": 0, \"easing\": \"linear\"}}], \"label\": \"117902066\", \"method\": \"animate\"}, {\"args\": [[\"117910443\"], {\"frame\": {\"duration\": 0, \"redraw\": false}, \"fromcurrent\": true, \"mode\": \"immediate\", \"transition\": {\"duration\": 0, \"easing\": \"linear\"}}], \"label\": \"117910443\", \"method\": \"animate\"}, {\"args\": [[\"117918775\"], {\"frame\": {\"duration\": 0, \"redraw\": false}, \"fromcurrent\": true, \"mode\": \"immediate\", \"transition\": {\"duration\": 0, \"easing\": \"linear\"}}], \"label\": \"117918775\", \"method\": \"animate\"}, {\"args\": [[\"117927074\"], {\"frame\": {\"duration\": 0, \"redraw\": false}, \"fromcurrent\": true, \"mode\": \"immediate\", \"transition\": {\"duration\": 0, \"easing\": \"linear\"}}], \"label\": \"117927074\", \"method\": \"animate\"}, {\"args\": [[\"117935410\"], {\"frame\": {\"duration\": 0, \"redraw\": false}, \"fromcurrent\": true, \"mode\": \"immediate\", \"transition\": {\"duration\": 0, \"easing\": \"linear\"}}], \"label\": \"117935410\", \"method\": \"animate\"}, {\"args\": [[\"117943786\"], {\"frame\": {\"duration\": 0, \"redraw\": false}, \"fromcurrent\": true, \"mode\": \"immediate\", \"transition\": {\"duration\": 0, \"easing\": \"linear\"}}], \"label\": \"117943786\", \"method\": \"animate\"}, {\"args\": [[\"117952059\"], {\"frame\": {\"duration\": 0, \"redraw\": false}, \"fromcurrent\": true, \"mode\": \"immediate\", \"transition\": {\"duration\": 0, \"easing\": \"linear\"}}], \"label\": \"117952059\", \"method\": \"animate\"}, {\"args\": [[\"117960449\"], {\"frame\": {\"duration\": 0, \"redraw\": false}, \"fromcurrent\": true, \"mode\": \"immediate\", \"transition\": {\"duration\": 0, \"easing\": \"linear\"}}], \"label\": \"117960449\", \"method\": \"animate\"}, {\"args\": [[\"117968786\"], {\"frame\": {\"duration\": 0, \"redraw\": false}, \"fromcurrent\": true, \"mode\": \"immediate\", \"transition\": {\"duration\": 0, \"easing\": \"linear\"}}], \"label\": \"117968786\", \"method\": \"animate\"}, {\"args\": [[\"117977066\"], {\"frame\": {\"duration\": 0, \"redraw\": false}, \"fromcurrent\": true, \"mode\": \"immediate\", \"transition\": {\"duration\": 0, \"easing\": \"linear\"}}], \"label\": \"117977066\", \"method\": \"animate\"}, {\"args\": [[\"117985390\"], {\"frame\": {\"duration\": 0, \"redraw\": false}, \"fromcurrent\": true, \"mode\": \"immediate\", \"transition\": {\"duration\": 0, \"easing\": \"linear\"}}], \"label\": \"117985390\", \"method\": \"animate\"}, {\"args\": [[\"117993732\"], {\"frame\": {\"duration\": 0, \"redraw\": false}, \"fromcurrent\": true, \"mode\": \"immediate\", \"transition\": {\"duration\": 0, \"easing\": \"linear\"}}], \"label\": \"117993732\", \"method\": \"animate\"}, {\"args\": [[\"118002056\"], {\"frame\": {\"duration\": 0, \"redraw\": false}, \"fromcurrent\": true, \"mode\": \"immediate\", \"transition\": {\"duration\": 0, \"easing\": \"linear\"}}], \"label\": \"118002056\", \"method\": \"animate\"}, {\"args\": [[\"118010474\"], {\"frame\": {\"duration\": 0, \"redraw\": false}, \"fromcurrent\": true, \"mode\": \"immediate\", \"transition\": {\"duration\": 0, \"easing\": \"linear\"}}], \"label\": \"118010474\", \"method\": \"animate\"}, {\"args\": [[\"118018734\"], {\"frame\": {\"duration\": 0, \"redraw\": false}, \"fromcurrent\": true, \"mode\": \"immediate\", \"transition\": {\"duration\": 0, \"easing\": \"linear\"}}], \"label\": \"118018734\", \"method\": \"animate\"}, {\"args\": [[\"118027115\"], {\"frame\": {\"duration\": 0, \"redraw\": false}, \"fromcurrent\": true, \"mode\": \"immediate\", \"transition\": {\"duration\": 0, \"easing\": \"linear\"}}], \"label\": \"118027115\", \"method\": \"animate\"}, {\"args\": [[\"118035385\"], {\"frame\": {\"duration\": 0, \"redraw\": false}, \"fromcurrent\": true, \"mode\": \"immediate\", \"transition\": {\"duration\": 0, \"easing\": \"linear\"}}], \"label\": \"118035385\", \"method\": \"animate\"}, {\"args\": [[\"118043718\"], {\"frame\": {\"duration\": 0, \"redraw\": false}, \"fromcurrent\": true, \"mode\": \"immediate\", \"transition\": {\"duration\": 0, \"easing\": \"linear\"}}], \"label\": \"118043718\", \"method\": \"animate\"}, {\"args\": [[\"118052052\"], {\"frame\": {\"duration\": 0, \"redraw\": false}, \"fromcurrent\": true, \"mode\": \"immediate\", \"transition\": {\"duration\": 0, \"easing\": \"linear\"}}], \"label\": \"118052052\", \"method\": \"animate\"}, {\"args\": [[\"118060384\"], {\"frame\": {\"duration\": 0, \"redraw\": false}, \"fromcurrent\": true, \"mode\": \"immediate\", \"transition\": {\"duration\": 0, \"easing\": \"linear\"}}], \"label\": \"118060384\", \"method\": \"animate\"}, {\"args\": [[\"118068715\"], {\"frame\": {\"duration\": 0, \"redraw\": false}, \"fromcurrent\": true, \"mode\": \"immediate\", \"transition\": {\"duration\": 0, \"easing\": \"linear\"}}], \"label\": \"118068715\", \"method\": \"animate\"}, {\"args\": [[\"118077049\"], {\"frame\": {\"duration\": 0, \"redraw\": false}, \"fromcurrent\": true, \"mode\": \"immediate\", \"transition\": {\"duration\": 0, \"easing\": \"linear\"}}], \"label\": \"118077049\", \"method\": \"animate\"}, {\"args\": [[\"118085381\"], {\"frame\": {\"duration\": 0, \"redraw\": false}, \"fromcurrent\": true, \"mode\": \"immediate\", \"transition\": {\"duration\": 0, \"easing\": \"linear\"}}], \"label\": \"118085381\", \"method\": \"animate\"}, {\"args\": [[\"118093714\"], {\"frame\": {\"duration\": 0, \"redraw\": false}, \"fromcurrent\": true, \"mode\": \"immediate\", \"transition\": {\"duration\": 0, \"easing\": \"linear\"}}], \"label\": \"118093714\", \"method\": \"animate\"}, {\"args\": [[\"118102049\"], {\"frame\": {\"duration\": 0, \"redraw\": false}, \"fromcurrent\": true, \"mode\": \"immediate\", \"transition\": {\"duration\": 0, \"easing\": \"linear\"}}], \"label\": \"118102049\", \"method\": \"animate\"}, {\"args\": [[\"118110379\"], {\"frame\": {\"duration\": 0, \"redraw\": false}, \"fromcurrent\": true, \"mode\": \"immediate\", \"transition\": {\"duration\": 0, \"easing\": \"linear\"}}], \"label\": \"118110379\", \"method\": \"animate\"}, {\"args\": [[\"118118711\"], {\"frame\": {\"duration\": 0, \"redraw\": false}, \"fromcurrent\": true, \"mode\": \"immediate\", \"transition\": {\"duration\": 0, \"easing\": \"linear\"}}], \"label\": \"118118711\", \"method\": \"animate\"}, {\"args\": [[\"118127048\"], {\"frame\": {\"duration\": 0, \"redraw\": false}, \"fromcurrent\": true, \"mode\": \"immediate\", \"transition\": {\"duration\": 0, \"easing\": \"linear\"}}], \"label\": \"118127048\", \"method\": \"animate\"}, {\"args\": [[\"118135436\"], {\"frame\": {\"duration\": 0, \"redraw\": false}, \"fromcurrent\": true, \"mode\": \"immediate\", \"transition\": {\"duration\": 0, \"easing\": \"linear\"}}], \"label\": \"118135436\", \"method\": \"animate\"}, {\"args\": [[\"118143765\"], {\"frame\": {\"duration\": 0, \"redraw\": false}, \"fromcurrent\": true, \"mode\": \"immediate\", \"transition\": {\"duration\": 0, \"easing\": \"linear\"}}], \"label\": \"118143765\", \"method\": \"animate\"}, {\"args\": [[\"118152099\"], {\"frame\": {\"duration\": 0, \"redraw\": false}, \"fromcurrent\": true, \"mode\": \"immediate\", \"transition\": {\"duration\": 0, \"easing\": \"linear\"}}], \"label\": \"118152099\", \"method\": \"animate\"}, {\"args\": [[\"118160451\"], {\"frame\": {\"duration\": 0, \"redraw\": false}, \"fromcurrent\": true, \"mode\": \"immediate\", \"transition\": {\"duration\": 0, \"easing\": \"linear\"}}], \"label\": \"118160451\", \"method\": \"animate\"}, {\"args\": [[\"118168710\"], {\"frame\": {\"duration\": 0, \"redraw\": false}, \"fromcurrent\": true, \"mode\": \"immediate\", \"transition\": {\"duration\": 0, \"easing\": \"linear\"}}], \"label\": \"118168710\", \"method\": \"animate\"}, {\"args\": [[\"118177108\"], {\"frame\": {\"duration\": 0, \"redraw\": false}, \"fromcurrent\": true, \"mode\": \"immediate\", \"transition\": {\"duration\": 0, \"easing\": \"linear\"}}], \"label\": \"118177108\", \"method\": \"animate\"}, {\"args\": [[\"118185427\"], {\"frame\": {\"duration\": 0, \"redraw\": false}, \"fromcurrent\": true, \"mode\": \"immediate\", \"transition\": {\"duration\": 0, \"easing\": \"linear\"}}], \"label\": \"118185427\", \"method\": \"animate\"}, {\"args\": [[\"118193759\"], {\"frame\": {\"duration\": 0, \"redraw\": false}, \"fromcurrent\": true, \"mode\": \"immediate\", \"transition\": {\"duration\": 0, \"easing\": \"linear\"}}], \"label\": \"118193759\", \"method\": \"animate\"}, {\"args\": [[\"118202043\"], {\"frame\": {\"duration\": 0, \"redraw\": false}, \"fromcurrent\": true, \"mode\": \"immediate\", \"transition\": {\"duration\": 0, \"easing\": \"linear\"}}], \"label\": \"118202043\", \"method\": \"animate\"}, {\"args\": [[\"118210429\"], {\"frame\": {\"duration\": 0, \"redraw\": false}, \"fromcurrent\": true, \"mode\": \"immediate\", \"transition\": {\"duration\": 0, \"easing\": \"linear\"}}], \"label\": \"118210429\", \"method\": \"animate\"}, {\"args\": [[\"118218702\"], {\"frame\": {\"duration\": 0, \"redraw\": false}, \"fromcurrent\": true, \"mode\": \"immediate\", \"transition\": {\"duration\": 0, \"easing\": \"linear\"}}], \"label\": \"118218702\", \"method\": \"animate\"}, {\"args\": [[\"118227038\"], {\"frame\": {\"duration\": 0, \"redraw\": false}, \"fromcurrent\": true, \"mode\": \"immediate\", \"transition\": {\"duration\": 0, \"easing\": \"linear\"}}], \"label\": \"118227038\", \"method\": \"animate\"}, {\"args\": [[\"118235378\"], {\"frame\": {\"duration\": 0, \"redraw\": false}, \"fromcurrent\": true, \"mode\": \"immediate\", \"transition\": {\"duration\": 0, \"easing\": \"linear\"}}], \"label\": \"118235378\", \"method\": \"animate\"}, {\"args\": [[\"118243755\"], {\"frame\": {\"duration\": 0, \"redraw\": false}, \"fromcurrent\": true, \"mode\": \"immediate\", \"transition\": {\"duration\": 0, \"easing\": \"linear\"}}], \"label\": \"118243755\", \"method\": \"animate\"}, {\"args\": [[\"118252090\"], {\"frame\": {\"duration\": 0, \"redraw\": false}, \"fromcurrent\": true, \"mode\": \"immediate\", \"transition\": {\"duration\": 0, \"easing\": \"linear\"}}], \"label\": \"118252090\", \"method\": \"animate\"}, {\"args\": [[\"118260427\"], {\"frame\": {\"duration\": 0, \"redraw\": false}, \"fromcurrent\": true, \"mode\": \"immediate\", \"transition\": {\"duration\": 0, \"easing\": \"linear\"}}], \"label\": \"118260427\", \"method\": \"animate\"}, {\"args\": [[\"118268755\"], {\"frame\": {\"duration\": 0, \"redraw\": false}, \"fromcurrent\": true, \"mode\": \"immediate\", \"transition\": {\"duration\": 0, \"easing\": \"linear\"}}], \"label\": \"118268755\", \"method\": \"animate\"}, {\"args\": [[\"118277105\"], {\"frame\": {\"duration\": 0, \"redraw\": false}, \"fromcurrent\": true, \"mode\": \"immediate\", \"transition\": {\"duration\": 0, \"easing\": \"linear\"}}], \"label\": \"118277105\", \"method\": \"animate\"}, {\"args\": [[\"118285420\"], {\"frame\": {\"duration\": 0, \"redraw\": false}, \"fromcurrent\": true, \"mode\": \"immediate\", \"transition\": {\"duration\": 0, \"easing\": \"linear\"}}], \"label\": \"118285420\", \"method\": \"animate\"}, {\"args\": [[\"118293756\"], {\"frame\": {\"duration\": 0, \"redraw\": false}, \"fromcurrent\": true, \"mode\": \"immediate\", \"transition\": {\"duration\": 0, \"easing\": \"linear\"}}], \"label\": \"118293756\", \"method\": \"animate\"}, {\"args\": [[\"118302031\"], {\"frame\": {\"duration\": 0, \"redraw\": false}, \"fromcurrent\": true, \"mode\": \"immediate\", \"transition\": {\"duration\": 0, \"easing\": \"linear\"}}], \"label\": \"118302031\", \"method\": \"animate\"}, {\"args\": [[\"118310418\"], {\"frame\": {\"duration\": 0, \"redraw\": false}, \"fromcurrent\": true, \"mode\": \"immediate\", \"transition\": {\"duration\": 0, \"easing\": \"linear\"}}], \"label\": \"118310418\", \"method\": \"animate\"}, {\"args\": [[\"118318755\"], {\"frame\": {\"duration\": 0, \"redraw\": false}, \"fromcurrent\": true, \"mode\": \"immediate\", \"transition\": {\"duration\": 0, \"easing\": \"linear\"}}], \"label\": \"118318755\", \"method\": \"animate\"}, {\"args\": [[\"118327067\"], {\"frame\": {\"duration\": 0, \"redraw\": false}, \"fromcurrent\": true, \"mode\": \"immediate\", \"transition\": {\"duration\": 0, \"easing\": \"linear\"}}], \"label\": \"118327067\", \"method\": \"animate\"}, {\"args\": [[\"118335360\"], {\"frame\": {\"duration\": 0, \"redraw\": false}, \"fromcurrent\": true, \"mode\": \"immediate\", \"transition\": {\"duration\": 0, \"easing\": \"linear\"}}], \"label\": \"118335360\", \"method\": \"animate\"}, {\"args\": [[\"118343749\"], {\"frame\": {\"duration\": 0, \"redraw\": false}, \"fromcurrent\": true, \"mode\": \"immediate\", \"transition\": {\"duration\": 0, \"easing\": \"linear\"}}], \"label\": \"118343749\", \"method\": \"animate\"}, {\"args\": [[\"118352089\"], {\"frame\": {\"duration\": 0, \"redraw\": false}, \"fromcurrent\": true, \"mode\": \"immediate\", \"transition\": {\"duration\": 0, \"easing\": \"linear\"}}], \"label\": \"118352089\", \"method\": \"animate\"}, {\"args\": [[\"118360437\"], {\"frame\": {\"duration\": 0, \"redraw\": false}, \"fromcurrent\": true, \"mode\": \"immediate\", \"transition\": {\"duration\": 0, \"easing\": \"linear\"}}], \"label\": \"118360437\", \"method\": \"animate\"}, {\"args\": [[\"118368692\"], {\"frame\": {\"duration\": 0, \"redraw\": false}, \"fromcurrent\": true, \"mode\": \"immediate\", \"transition\": {\"duration\": 0, \"easing\": \"linear\"}}], \"label\": \"118368692\", \"method\": \"animate\"}, {\"args\": [[\"118377030\"], {\"frame\": {\"duration\": 0, \"redraw\": false}, \"fromcurrent\": true, \"mode\": \"immediate\", \"transition\": {\"duration\": 0, \"easing\": \"linear\"}}], \"label\": \"118377030\", \"method\": \"animate\"}, {\"args\": [[\"118385366\"], {\"frame\": {\"duration\": 0, \"redraw\": false}, \"fromcurrent\": true, \"mode\": \"immediate\", \"transition\": {\"duration\": 0, \"easing\": \"linear\"}}], \"label\": \"118385366\", \"method\": \"animate\"}, {\"args\": [[\"118393690\"], {\"frame\": {\"duration\": 0, \"redraw\": false}, \"fromcurrent\": true, \"mode\": \"immediate\", \"transition\": {\"duration\": 0, \"easing\": \"linear\"}}], \"label\": \"118393690\", \"method\": \"animate\"}, {\"args\": [[\"118402108\"], {\"frame\": {\"duration\": 0, \"redraw\": false}, \"fromcurrent\": true, \"mode\": \"immediate\", \"transition\": {\"duration\": 0, \"easing\": \"linear\"}}], \"label\": \"118402108\", \"method\": \"animate\"}, {\"args\": [[\"118410354\"], {\"frame\": {\"duration\": 0, \"redraw\": false}, \"fromcurrent\": true, \"mode\": \"immediate\", \"transition\": {\"duration\": 0, \"easing\": \"linear\"}}], \"label\": \"118410354\", \"method\": \"animate\"}, {\"args\": [[\"118418746\"], {\"frame\": {\"duration\": 0, \"redraw\": false}, \"fromcurrent\": true, \"mode\": \"immediate\", \"transition\": {\"duration\": 0, \"easing\": \"linear\"}}], \"label\": \"118418746\", \"method\": \"animate\"}], \"x\": 0.1, \"xanchor\": \"left\", \"y\": 0, \"yanchor\": \"top\"}], \"template\": {\"data\": {\"bar\": [{\"error_x\": {\"color\": \"#2a3f5f\"}, \"error_y\": {\"color\": \"#2a3f5f\"}, \"marker\": {\"line\": {\"color\": \"#E5ECF6\", \"width\": 0.5}}, \"type\": \"bar\"}], \"barpolar\": [{\"marker\": {\"line\": {\"color\": \"#E5ECF6\", \"width\": 0.5}}, \"type\": \"barpolar\"}], \"carpet\": [{\"aaxis\": {\"endlinecolor\": \"#2a3f5f\", \"gridcolor\": \"white\", \"linecolor\": \"white\", \"minorgridcolor\": \"white\", \"startlinecolor\": \"#2a3f5f\"}, \"baxis\": {\"endlinecolor\": \"#2a3f5f\", \"gridcolor\": \"white\", \"linecolor\": \"white\", \"minorgridcolor\": \"white\", \"startlinecolor\": \"#2a3f5f\"}, \"type\": \"carpet\"}], \"choropleth\": [{\"colorbar\": {\"outlinewidth\": 0, \"ticks\": \"\"}, \"type\": \"choropleth\"}], \"contour\": [{\"colorbar\": {\"outlinewidth\": 0, \"ticks\": \"\"}, \"colorscale\": [[0.0, \"#0d0887\"], [0.1111111111111111, \"#46039f\"], [0.2222222222222222, \"#7201a8\"], [0.3333333333333333, \"#9c179e\"], [0.4444444444444444, \"#bd3786\"], [0.5555555555555556, \"#d8576b\"], [0.6666666666666666, \"#ed7953\"], [0.7777777777777778, \"#fb9f3a\"], [0.8888888888888888, \"#fdca26\"], [1.0, \"#f0f921\"]], \"type\": \"contour\"}], \"contourcarpet\": [{\"colorbar\": {\"outlinewidth\": 0, \"ticks\": \"\"}, \"type\": \"contourcarpet\"}], \"heatmap\": [{\"colorbar\": {\"outlinewidth\": 0, \"ticks\": \"\"}, \"colorscale\": [[0.0, \"#0d0887\"], [0.1111111111111111, \"#46039f\"], [0.2222222222222222, \"#7201a8\"], [0.3333333333333333, \"#9c179e\"], [0.4444444444444444, \"#bd3786\"], [0.5555555555555556, \"#d8576b\"], [0.6666666666666666, \"#ed7953\"], [0.7777777777777778, \"#fb9f3a\"], [0.8888888888888888, \"#fdca26\"], [1.0, \"#f0f921\"]], \"type\": \"heatmap\"}], \"heatmapgl\": [{\"colorbar\": {\"outlinewidth\": 0, \"ticks\": \"\"}, \"colorscale\": [[0.0, \"#0d0887\"], [0.1111111111111111, \"#46039f\"], [0.2222222222222222, \"#7201a8\"], [0.3333333333333333, \"#9c179e\"], [0.4444444444444444, \"#bd3786\"], [0.5555555555555556, \"#d8576b\"], [0.6666666666666666, \"#ed7953\"], [0.7777777777777778, \"#fb9f3a\"], [0.8888888888888888, \"#fdca26\"], [1.0, \"#f0f921\"]], \"type\": \"heatmapgl\"}], \"histogram\": [{\"marker\": {\"colorbar\": {\"outlinewidth\": 0, \"ticks\": \"\"}}, \"type\": \"histogram\"}], \"histogram2d\": [{\"colorbar\": {\"outlinewidth\": 0, \"ticks\": \"\"}, \"colorscale\": [[0.0, \"#0d0887\"], [0.1111111111111111, \"#46039f\"], [0.2222222222222222, \"#7201a8\"], [0.3333333333333333, \"#9c179e\"], [0.4444444444444444, \"#bd3786\"], [0.5555555555555556, \"#d8576b\"], [0.6666666666666666, \"#ed7953\"], [0.7777777777777778, \"#fb9f3a\"], [0.8888888888888888, \"#fdca26\"], [1.0, \"#f0f921\"]], \"type\": \"histogram2d\"}], \"histogram2dcontour\": [{\"colorbar\": {\"outlinewidth\": 0, \"ticks\": \"\"}, \"colorscale\": [[0.0, \"#0d0887\"], [0.1111111111111111, \"#46039f\"], [0.2222222222222222, \"#7201a8\"], [0.3333333333333333, \"#9c179e\"], [0.4444444444444444, \"#bd3786\"], [0.5555555555555556, \"#d8576b\"], [0.6666666666666666, \"#ed7953\"], [0.7777777777777778, \"#fb9f3a\"], [0.8888888888888888, \"#fdca26\"], [1.0, \"#f0f921\"]], \"type\": \"histogram2dcontour\"}], \"mesh3d\": [{\"colorbar\": {\"outlinewidth\": 0, \"ticks\": \"\"}, \"type\": \"mesh3d\"}], \"parcoords\": [{\"line\": {\"colorbar\": {\"outlinewidth\": 0, \"ticks\": \"\"}}, \"type\": \"parcoords\"}], \"pie\": [{\"automargin\": true, \"type\": \"pie\"}], \"scatter\": [{\"marker\": {\"colorbar\": {\"outlinewidth\": 0, \"ticks\": \"\"}}, \"type\": \"scatter\"}], \"scatter3d\": [{\"line\": {\"colorbar\": {\"outlinewidth\": 0, \"ticks\": \"\"}}, \"marker\": {\"colorbar\": {\"outlinewidth\": 0, \"ticks\": \"\"}}, \"type\": \"scatter3d\"}], \"scattercarpet\": [{\"marker\": {\"colorbar\": {\"outlinewidth\": 0, \"ticks\": \"\"}}, \"type\": \"scattercarpet\"}], \"scattergeo\": [{\"marker\": {\"colorbar\": {\"outlinewidth\": 0, \"ticks\": \"\"}}, \"type\": \"scattergeo\"}], \"scattergl\": [{\"marker\": {\"colorbar\": {\"outlinewidth\": 0, \"ticks\": \"\"}}, \"type\": \"scattergl\"}], \"scattermapbox\": [{\"marker\": {\"colorbar\": {\"outlinewidth\": 0, \"ticks\": \"\"}}, \"type\": \"scattermapbox\"}], \"scatterpolar\": [{\"marker\": {\"colorbar\": {\"outlinewidth\": 0, \"ticks\": \"\"}}, \"type\": \"scatterpolar\"}], \"scatterpolargl\": [{\"marker\": {\"colorbar\": {\"outlinewidth\": 0, \"ticks\": \"\"}}, \"type\": \"scatterpolargl\"}], \"scatterternary\": [{\"marker\": {\"colorbar\": {\"outlinewidth\": 0, \"ticks\": \"\"}}, \"type\": \"scatterternary\"}], \"surface\": [{\"colorbar\": {\"outlinewidth\": 0, \"ticks\": \"\"}, \"colorscale\": [[0.0, \"#0d0887\"], [0.1111111111111111, \"#46039f\"], [0.2222222222222222, \"#7201a8\"], [0.3333333333333333, \"#9c179e\"], [0.4444444444444444, \"#bd3786\"], [0.5555555555555556, \"#d8576b\"], [0.6666666666666666, \"#ed7953\"], [0.7777777777777778, \"#fb9f3a\"], [0.8888888888888888, \"#fdca26\"], [1.0, \"#f0f921\"]], \"type\": \"surface\"}], \"table\": [{\"cells\": {\"fill\": {\"color\": \"#EBF0F8\"}, \"line\": {\"color\": \"white\"}}, \"header\": {\"fill\": {\"color\": \"#C8D4E3\"}, \"line\": {\"color\": \"white\"}}, \"type\": \"table\"}]}, \"layout\": {\"annotationdefaults\": {\"arrowcolor\": \"#2a3f5f\", \"arrowhead\": 0, \"arrowwidth\": 1}, \"coloraxis\": {\"colorbar\": {\"outlinewidth\": 0, \"ticks\": \"\"}}, \"colorscale\": {\"diverging\": [[0, \"#8e0152\"], [0.1, \"#c51b7d\"], [0.2, \"#de77ae\"], [0.3, \"#f1b6da\"], [0.4, \"#fde0ef\"], [0.5, \"#f7f7f7\"], [0.6, \"#e6f5d0\"], [0.7, \"#b8e186\"], [0.8, \"#7fbc41\"], [0.9, \"#4d9221\"], [1, \"#276419\"]], \"sequential\": [[0.0, \"#0d0887\"], [0.1111111111111111, \"#46039f\"], [0.2222222222222222, \"#7201a8\"], [0.3333333333333333, \"#9c179e\"], [0.4444444444444444, \"#bd3786\"], [0.5555555555555556, \"#d8576b\"], [0.6666666666666666, \"#ed7953\"], [0.7777777777777778, \"#fb9f3a\"], [0.8888888888888888, \"#fdca26\"], [1.0, \"#f0f921\"]], \"sequentialminus\": [[0.0, \"#0d0887\"], [0.1111111111111111, \"#46039f\"], [0.2222222222222222, \"#7201a8\"], [0.3333333333333333, \"#9c179e\"], [0.4444444444444444, \"#bd3786\"], [0.5555555555555556, \"#d8576b\"], [0.6666666666666666, \"#ed7953\"], [0.7777777777777778, \"#fb9f3a\"], [0.8888888888888888, \"#fdca26\"], [1.0, \"#f0f921\"]]}, \"colorway\": [\"#636efa\", \"#EF553B\", \"#00cc96\", \"#ab63fa\", \"#FFA15A\", \"#19d3f3\", \"#FF6692\", \"#B6E880\", \"#FF97FF\", \"#FECB52\"], \"font\": {\"color\": \"#2a3f5f\"}, \"geo\": {\"bgcolor\": \"white\", \"lakecolor\": \"white\", \"landcolor\": \"#E5ECF6\", \"showlakes\": true, \"showland\": true, \"subunitcolor\": \"white\"}, \"hoverlabel\": {\"align\": \"left\"}, \"hovermode\": \"closest\", \"mapbox\": {\"style\": \"light\"}, \"paper_bgcolor\": \"white\", \"plot_bgcolor\": \"#E5ECF6\", \"polar\": {\"angularaxis\": {\"gridcolor\": \"white\", \"linecolor\": \"white\", \"ticks\": \"\"}, \"bgcolor\": \"#E5ECF6\", \"radialaxis\": {\"gridcolor\": \"white\", \"linecolor\": \"white\", \"ticks\": \"\"}}, \"scene\": {\"xaxis\": {\"backgroundcolor\": \"#E5ECF6\", \"gridcolor\": \"white\", \"gridwidth\": 2, \"linecolor\": \"white\", \"showbackground\": true, \"ticks\": \"\", \"zerolinecolor\": \"white\"}, \"yaxis\": {\"backgroundcolor\": \"#E5ECF6\", \"gridcolor\": \"white\", \"gridwidth\": 2, \"linecolor\": \"white\", \"showbackground\": true, \"ticks\": \"\", \"zerolinecolor\": \"white\"}, \"zaxis\": {\"backgroundcolor\": \"#E5ECF6\", \"gridcolor\": \"white\", \"gridwidth\": 2, \"linecolor\": \"white\", \"showbackground\": true, \"ticks\": \"\", \"zerolinecolor\": \"white\"}}, \"shapedefaults\": {\"line\": {\"color\": \"#2a3f5f\"}}, \"ternary\": {\"aaxis\": {\"gridcolor\": \"white\", \"linecolor\": \"white\", \"ticks\": \"\"}, \"baxis\": {\"gridcolor\": \"white\", \"linecolor\": \"white\", \"ticks\": \"\"}, \"bgcolor\": \"#E5ECF6\", \"caxis\": {\"gridcolor\": \"white\", \"linecolor\": \"white\", \"ticks\": \"\"}}, \"title\": {\"x\": 0.05}, \"xaxis\": {\"automargin\": true, \"gridcolor\": \"white\", \"linecolor\": \"white\", \"ticks\": \"\", \"title\": {\"standoff\": 15}, \"zerolinecolor\": \"white\", \"zerolinewidth\": 2}, \"yaxis\": {\"automargin\": true, \"gridcolor\": \"white\", \"linecolor\": \"white\", \"ticks\": \"\", \"title\": {\"standoff\": 15}, \"zerolinecolor\": \"white\", \"zerolinewidth\": 2}}}, \"updatemenus\": [{\"buttons\": [{\"args\": [null, {\"frame\": {\"duration\": 0.48, \"redraw\": false}, \"transition\": {\"duration\": 1}}], \"label\": \"Play\", \"method\": \"animate\"}, {\"args\": [[null], {\"frame\": {\"duration\": 0, \"redraw\": false}, \"mode\": \"immediate\", \"transition\": {\"duration\": 0}}], \"label\": \"Pause\", \"method\": \"animate\"}], \"type\": \"buttons\"}], \"xaxis\": {\"anchor\": \"y\", \"domain\": [0.0, 1.0], \"range\": [800, 2240], \"title\": {\"text\": \"Gaze point X\"}}, \"yaxis\": {\"anchor\": \"x\", \"domain\": [0.0, 1.0], \"range\": [0, 1601], \"title\": {\"text\": \"Gaze point Y\"}}},\n",
       "                        {\"responsive\": true}\n",
       "                    ).then(function(){\n",
       "                            Plotly.addFrames('d4dfa47b-51c3-460b-8c91-c96ce2e6b34c', [{\"data\": [{\"hovertemplate\": \"Recording timestamp=114427347<br>Gaze point X=%{x}<br>Gaze point Y=%{y}<extra></extra>\", \"legendgroup\": \"\", \"marker\": {\"color\": \"#636efa\", \"symbol\": \"circle\"}, \"mode\": \"markers\", \"name\": \"\", \"orientation\": \"v\", \"showlegend\": false, \"x\": [1378.0], \"xaxis\": \"x\", \"y\": [797.0], \"yaxis\": \"y\", \"type\": \"scatter\"}], \"name\": \"114427347\"}, {\"data\": [{\"hovertemplate\": \"Recording timestamp=114435739<br>Gaze point X=%{x}<br>Gaze point Y=%{y}<extra></extra>\", \"legendgroup\": \"\", \"marker\": {\"color\": \"#636efa\", \"symbol\": \"circle\"}, \"mode\": \"markers\", \"name\": \"\", \"orientation\": \"v\", \"showlegend\": false, \"x\": [null], \"xaxis\": \"x\", \"y\": [null], \"yaxis\": \"y\", \"type\": \"scatter\"}], \"name\": \"114435739\"}, {\"data\": [{\"hovertemplate\": \"Recording timestamp=114444098<br>Gaze point X=%{x}<br>Gaze point Y=%{y}<extra></extra>\", \"legendgroup\": \"\", \"marker\": {\"color\": \"#636efa\", \"symbol\": \"circle\"}, \"mode\": \"markers\", \"name\": \"\", \"orientation\": \"v\", \"showlegend\": false, \"x\": [1305.0], \"xaxis\": \"x\", \"y\": [852.0], \"yaxis\": \"y\", \"type\": \"scatter\"}], \"name\": \"114444098\"}, {\"data\": [{\"hovertemplate\": \"Recording timestamp=114452342<br>Gaze point X=%{x}<br>Gaze point Y=%{y}<extra></extra>\", \"legendgroup\": \"\", \"marker\": {\"color\": \"#636efa\", \"symbol\": \"circle\"}, \"mode\": \"markers\", \"name\": \"\", \"orientation\": \"v\", \"showlegend\": false, \"x\": [null], \"xaxis\": \"x\", \"y\": [null], \"yaxis\": \"y\", \"type\": \"scatter\"}], \"name\": \"114452342\"}, {\"data\": [{\"hovertemplate\": \"Recording timestamp=114460676<br>Gaze point X=%{x}<br>Gaze point Y=%{y}<extra></extra>\", \"legendgroup\": \"\", \"marker\": {\"color\": \"#636efa\", \"symbol\": \"circle\"}, \"mode\": \"markers\", \"name\": \"\", \"orientation\": \"v\", \"showlegend\": false, \"x\": [1337.0], \"xaxis\": \"x\", \"y\": [821.0], \"yaxis\": \"y\", \"type\": \"scatter\"}], \"name\": \"114460676\"}, {\"data\": [{\"hovertemplate\": \"Recording timestamp=114469009<br>Gaze point X=%{x}<br>Gaze point Y=%{y}<extra></extra>\", \"legendgroup\": \"\", \"marker\": {\"color\": \"#636efa\", \"symbol\": \"circle\"}, \"mode\": \"markers\", \"name\": \"\", \"orientation\": \"v\", \"showlegend\": false, \"x\": [1229.0], \"xaxis\": \"x\", \"y\": [962.0], \"yaxis\": \"y\", \"type\": \"scatter\"}], \"name\": \"114469009\"}, {\"data\": [{\"hovertemplate\": \"Recording timestamp=114477345<br>Gaze point X=%{x}<br>Gaze point Y=%{y}<extra></extra>\", \"legendgroup\": \"\", \"marker\": {\"color\": \"#636efa\", \"symbol\": \"circle\"}, \"mode\": \"markers\", \"name\": \"\", \"orientation\": \"v\", \"showlegend\": false, \"x\": [null], \"xaxis\": \"x\", \"y\": [null], \"yaxis\": \"y\", \"type\": \"scatter\"}], \"name\": \"114477345\"}, {\"data\": [{\"hovertemplate\": \"Recording timestamp=114485736<br>Gaze point X=%{x}<br>Gaze point Y=%{y}<extra></extra>\", \"legendgroup\": \"\", \"marker\": {\"color\": \"#636efa\", \"symbol\": \"circle\"}, \"mode\": \"markers\", \"name\": \"\", \"orientation\": \"v\", \"showlegend\": false, \"x\": [null], \"xaxis\": \"x\", \"y\": [null], \"yaxis\": \"y\", \"type\": \"scatter\"}], \"name\": \"114485736\"}, {\"data\": [{\"hovertemplate\": \"Recording timestamp=114494008<br>Gaze point X=%{x}<br>Gaze point Y=%{y}<extra></extra>\", \"legendgroup\": \"\", \"marker\": {\"color\": \"#636efa\", \"symbol\": \"circle\"}, \"mode\": \"markers\", \"name\": \"\", \"orientation\": \"v\", \"showlegend\": false, \"x\": [1241.0], \"xaxis\": \"x\", \"y\": [953.0], \"yaxis\": \"y\", \"type\": \"scatter\"}], \"name\": \"114494008\"}, {\"data\": [{\"hovertemplate\": \"Recording timestamp=114502340<br>Gaze point X=%{x}<br>Gaze point Y=%{y}<extra></extra>\", \"legendgroup\": \"\", \"marker\": {\"color\": \"#636efa\", \"symbol\": \"circle\"}, \"mode\": \"markers\", \"name\": \"\", \"orientation\": \"v\", \"showlegend\": false, \"x\": [null], \"xaxis\": \"x\", \"y\": [null], \"yaxis\": \"y\", \"type\": \"scatter\"}], \"name\": \"114502340\"}, {\"data\": [{\"hovertemplate\": \"Recording timestamp=114510708<br>Gaze point X=%{x}<br>Gaze point Y=%{y}<extra></extra>\", \"legendgroup\": \"\", \"marker\": {\"color\": \"#636efa\", \"symbol\": \"circle\"}, \"mode\": \"markers\", \"name\": \"\", \"orientation\": \"v\", \"showlegend\": false, \"x\": [1125.0], \"xaxis\": \"x\", \"y\": [1029.0], \"yaxis\": \"y\", \"type\": \"scatter\"}], \"name\": \"114510708\"}, {\"data\": [{\"hovertemplate\": \"Recording timestamp=114519038<br>Gaze point X=%{x}<br>Gaze point Y=%{y}<extra></extra>\", \"legendgroup\": \"\", \"marker\": {\"color\": \"#636efa\", \"symbol\": \"circle\"}, \"mode\": \"markers\", \"name\": \"\", \"orientation\": \"v\", \"showlegend\": false, \"x\": [1262.0], \"xaxis\": \"x\", \"y\": [892.0], \"yaxis\": \"y\", \"type\": \"scatter\"}], \"name\": \"114519038\"}, {\"data\": [{\"hovertemplate\": \"Recording timestamp=114527338<br>Gaze point X=%{x}<br>Gaze point Y=%{y}<extra></extra>\", \"legendgroup\": \"\", \"marker\": {\"color\": \"#636efa\", \"symbol\": \"circle\"}, \"mode\": \"markers\", \"name\": \"\", \"orientation\": \"v\", \"showlegend\": false, \"x\": [null], \"xaxis\": \"x\", \"y\": [null], \"yaxis\": \"y\", \"type\": \"scatter\"}], \"name\": \"114527338\"}, {\"data\": [{\"hovertemplate\": \"Recording timestamp=114535669<br>Gaze point X=%{x}<br>Gaze point Y=%{y}<extra></extra>\", \"legendgroup\": \"\", \"marker\": {\"color\": \"#636efa\", \"symbol\": \"circle\"}, \"mode\": \"markers\", \"name\": \"\", \"orientation\": \"v\", \"showlegend\": false, \"x\": [null], \"xaxis\": \"x\", \"y\": [null], \"yaxis\": \"y\", \"type\": \"scatter\"}], \"name\": \"114535669\"}, {\"data\": [{\"hovertemplate\": \"Recording timestamp=114544008<br>Gaze point X=%{x}<br>Gaze point Y=%{y}<extra></extra>\", \"legendgroup\": \"\", \"marker\": {\"color\": \"#636efa\", \"symbol\": \"circle\"}, \"mode\": \"markers\", \"name\": \"\", \"orientation\": \"v\", \"showlegend\": false, \"x\": [1224.0], \"xaxis\": \"x\", \"y\": [921.0], \"yaxis\": \"y\", \"type\": \"scatter\"}], \"name\": \"114544008\"}, {\"data\": [{\"hovertemplate\": \"Recording timestamp=114552392<br>Gaze point X=%{x}<br>Gaze point Y=%{y}<extra></extra>\", \"legendgroup\": \"\", \"marker\": {\"color\": \"#636efa\", \"symbol\": \"circle\"}, \"mode\": \"markers\", \"name\": \"\", \"orientation\": \"v\", \"showlegend\": false, \"x\": [1314.0], \"xaxis\": \"x\", \"y\": [885.0], \"yaxis\": \"y\", \"type\": \"scatter\"}], \"name\": \"114552392\"}, {\"data\": [{\"hovertemplate\": \"Recording timestamp=114560658<br>Gaze point X=%{x}<br>Gaze point Y=%{y}<extra></extra>\", \"legendgroup\": \"\", \"marker\": {\"color\": \"#636efa\", \"symbol\": \"circle\"}, \"mode\": \"markers\", \"name\": \"\", \"orientation\": \"v\", \"showlegend\": false, \"x\": [1214.0], \"xaxis\": \"x\", \"y\": [931.0], \"yaxis\": \"y\", \"type\": \"scatter\"}], \"name\": \"114560658\"}, {\"data\": [{\"hovertemplate\": \"Recording timestamp=114568993<br>Gaze point X=%{x}<br>Gaze point Y=%{y}<extra></extra>\", \"legendgroup\": \"\", \"marker\": {\"color\": \"#636efa\", \"symbol\": \"circle\"}, \"mode\": \"markers\", \"name\": \"\", \"orientation\": \"v\", \"showlegend\": false, \"x\": [1265.0], \"xaxis\": \"x\", \"y\": [936.0], \"yaxis\": \"y\", \"type\": \"scatter\"}], \"name\": \"114568993\"}, {\"data\": [{\"hovertemplate\": \"Recording timestamp=114577325<br>Gaze point X=%{x}<br>Gaze point Y=%{y}<extra></extra>\", \"legendgroup\": \"\", \"marker\": {\"color\": \"#636efa\", \"symbol\": \"circle\"}, \"mode\": \"markers\", \"name\": \"\", \"orientation\": \"v\", \"showlegend\": false, \"x\": [null], \"xaxis\": \"x\", \"y\": [null], \"yaxis\": \"y\", \"type\": \"scatter\"}], \"name\": \"114577325\"}, {\"data\": [{\"hovertemplate\": \"Recording timestamp=114585666<br>Gaze point X=%{x}<br>Gaze point Y=%{y}<extra></extra>\", \"legendgroup\": \"\", \"marker\": {\"color\": \"#636efa\", \"symbol\": \"circle\"}, \"mode\": \"markers\", \"name\": \"\", \"orientation\": \"v\", \"showlegend\": false, \"x\": [1196.0], \"xaxis\": \"x\", \"y\": [946.0], \"yaxis\": \"y\", \"type\": \"scatter\"}], \"name\": \"114585666\"}, {\"data\": [{\"hovertemplate\": \"Recording timestamp=114593999<br>Gaze point X=%{x}<br>Gaze point Y=%{y}<extra></extra>\", \"legendgroup\": \"\", \"marker\": {\"color\": \"#636efa\", \"symbol\": \"circle\"}, \"mode\": \"markers\", \"name\": \"\", \"orientation\": \"v\", \"showlegend\": false, \"x\": [1288.0], \"xaxis\": \"x\", \"y\": [855.0], \"yaxis\": \"y\", \"type\": \"scatter\"}], \"name\": \"114593999\"}, {\"data\": [{\"hovertemplate\": \"Recording timestamp=114602330<br>Gaze point X=%{x}<br>Gaze point Y=%{y}<extra></extra>\", \"legendgroup\": \"\", \"marker\": {\"color\": \"#636efa\", \"symbol\": \"circle\"}, \"mode\": \"markers\", \"name\": \"\", \"orientation\": \"v\", \"showlegend\": false, \"x\": [null], \"xaxis\": \"x\", \"y\": [null], \"yaxis\": \"y\", \"type\": \"scatter\"}], \"name\": \"114602330\"}, {\"data\": [{\"hovertemplate\": \"Recording timestamp=114610664<br>Gaze point X=%{x}<br>Gaze point Y=%{y}<extra></extra>\", \"legendgroup\": \"\", \"marker\": {\"color\": \"#636efa\", \"symbol\": \"circle\"}, \"mode\": \"markers\", \"name\": \"\", \"orientation\": \"v\", \"showlegend\": false, \"x\": [null], \"xaxis\": \"x\", \"y\": [null], \"yaxis\": \"y\", \"type\": \"scatter\"}], \"name\": \"114610664\"}, {\"data\": [{\"hovertemplate\": \"Recording timestamp=114618997<br>Gaze point X=%{x}<br>Gaze point Y=%{y}<extra></extra>\", \"legendgroup\": \"\", \"marker\": {\"color\": \"#636efa\", \"symbol\": \"circle\"}, \"mode\": \"markers\", \"name\": \"\", \"orientation\": \"v\", \"showlegend\": false, \"x\": [1258.0], \"xaxis\": \"x\", \"y\": [788.0], \"yaxis\": \"y\", \"type\": \"scatter\"}], \"name\": \"114618997\"}, {\"data\": [{\"hovertemplate\": \"Recording timestamp=114627387<br>Gaze point X=%{x}<br>Gaze point Y=%{y}<extra></extra>\", \"legendgroup\": \"\", \"marker\": {\"color\": \"#636efa\", \"symbol\": \"circle\"}, \"mode\": \"markers\", \"name\": \"\", \"orientation\": \"v\", \"showlegend\": false, \"x\": [null], \"xaxis\": \"x\", \"y\": [null], \"yaxis\": \"y\", \"type\": \"scatter\"}], \"name\": \"114627387\"}, {\"data\": [{\"hovertemplate\": \"Recording timestamp=114635663<br>Gaze point X=%{x}<br>Gaze point Y=%{y}<extra></extra>\", \"legendgroup\": \"\", \"marker\": {\"color\": \"#636efa\", \"symbol\": \"circle\"}, \"mode\": \"markers\", \"name\": \"\", \"orientation\": \"v\", \"showlegend\": false, \"x\": [null], \"xaxis\": \"x\", \"y\": [null], \"yaxis\": \"y\", \"type\": \"scatter\"}], \"name\": \"114635663\"}, {\"data\": [{\"hovertemplate\": \"Recording timestamp=114643998<br>Gaze point X=%{x}<br>Gaze point Y=%{y}<extra></extra>\", \"legendgroup\": \"\", \"marker\": {\"color\": \"#636efa\", \"symbol\": \"circle\"}, \"mode\": \"markers\", \"name\": \"\", \"orientation\": \"v\", \"showlegend\": false, \"x\": [1290.0], \"xaxis\": \"x\", \"y\": [743.0], \"yaxis\": \"y\", \"type\": \"scatter\"}], \"name\": \"114643998\"}, {\"data\": [{\"hovertemplate\": \"Recording timestamp=114652332<br>Gaze point X=%{x}<br>Gaze point Y=%{y}<extra></extra>\", \"legendgroup\": \"\", \"marker\": {\"color\": \"#636efa\", \"symbol\": \"circle\"}, \"mode\": \"markers\", \"name\": \"\", \"orientation\": \"v\", \"showlegend\": false, \"x\": [null], \"xaxis\": \"x\", \"y\": [null], \"yaxis\": \"y\", \"type\": \"scatter\"}], \"name\": \"114652332\"}, {\"data\": [{\"hovertemplate\": \"Recording timestamp=114660662<br>Gaze point X=%{x}<br>Gaze point Y=%{y}<extra></extra>\", \"legendgroup\": \"\", \"marker\": {\"color\": \"#636efa\", \"symbol\": \"circle\"}, \"mode\": \"markers\", \"name\": \"\", \"orientation\": \"v\", \"showlegend\": false, \"x\": [null], \"xaxis\": \"x\", \"y\": [null], \"yaxis\": \"y\", \"type\": \"scatter\"}], \"name\": \"114660662\"}, {\"data\": [{\"hovertemplate\": \"Recording timestamp=114668993<br>Gaze point X=%{x}<br>Gaze point Y=%{y}<extra></extra>\", \"legendgroup\": \"\", \"marker\": {\"color\": \"#636efa\", \"symbol\": \"circle\"}, \"mode\": \"markers\", \"name\": \"\", \"orientation\": \"v\", \"showlegend\": false, \"x\": [1300.0], \"xaxis\": \"x\", \"y\": [744.0], \"yaxis\": \"y\", \"type\": \"scatter\"}], \"name\": \"114668993\"}, {\"data\": [{\"hovertemplate\": \"Recording timestamp=114677327<br>Gaze point X=%{x}<br>Gaze point Y=%{y}<extra></extra>\", \"legendgroup\": \"\", \"marker\": {\"color\": \"#636efa\", \"symbol\": \"circle\"}, \"mode\": \"markers\", \"name\": \"\", \"orientation\": \"v\", \"showlegend\": false, \"x\": [null], \"xaxis\": \"x\", \"y\": [null], \"yaxis\": \"y\", \"type\": \"scatter\"}], \"name\": \"114677327\"}, {\"data\": [{\"hovertemplate\": \"Recording timestamp=114685714<br>Gaze point X=%{x}<br>Gaze point Y=%{y}<extra></extra>\", \"legendgroup\": \"\", \"marker\": {\"color\": \"#636efa\", \"symbol\": \"circle\"}, \"mode\": \"markers\", \"name\": \"\", \"orientation\": \"v\", \"showlegend\": false, \"x\": [1279.0], \"xaxis\": \"x\", \"y\": [746.0], \"yaxis\": \"y\", \"type\": \"scatter\"}], \"name\": \"114685714\"}, {\"data\": [{\"hovertemplate\": \"Recording timestamp=114694049<br>Gaze point X=%{x}<br>Gaze point Y=%{y}<extra></extra>\", \"legendgroup\": \"\", \"marker\": {\"color\": \"#636efa\", \"symbol\": \"circle\"}, \"mode\": \"markers\", \"name\": \"\", \"orientation\": \"v\", \"showlegend\": false, \"x\": [1280.0], \"xaxis\": \"x\", \"y\": [742.0], \"yaxis\": \"y\", \"type\": \"scatter\"}], \"name\": \"114694049\"}, {\"data\": [{\"hovertemplate\": \"Recording timestamp=114702324<br>Gaze point X=%{x}<br>Gaze point Y=%{y}<extra></extra>\", \"legendgroup\": \"\", \"marker\": {\"color\": \"#636efa\", \"symbol\": \"circle\"}, \"mode\": \"markers\", \"name\": \"\", \"orientation\": \"v\", \"showlegend\": false, \"x\": [null], \"xaxis\": \"x\", \"y\": [null], \"yaxis\": \"y\", \"type\": \"scatter\"}], \"name\": \"114702324\"}, {\"data\": [{\"hovertemplate\": \"Recording timestamp=114710659<br>Gaze point X=%{x}<br>Gaze point Y=%{y}<extra></extra>\", \"legendgroup\": \"\", \"marker\": {\"color\": \"#636efa\", \"symbol\": \"circle\"}, \"mode\": \"markers\", \"name\": \"\", \"orientation\": \"v\", \"showlegend\": false, \"x\": [1187.0], \"xaxis\": \"x\", \"y\": [789.0], \"yaxis\": \"y\", \"type\": \"scatter\"}], \"name\": \"114710659\"}, {\"data\": [{\"hovertemplate\": \"Recording timestamp=114718993<br>Gaze point X=%{x}<br>Gaze point Y=%{y}<extra></extra>\", \"legendgroup\": \"\", \"marker\": {\"color\": \"#636efa\", \"symbol\": \"circle\"}, \"mode\": \"markers\", \"name\": \"\", \"orientation\": \"v\", \"showlegend\": false, \"x\": [1182.0], \"xaxis\": \"x\", \"y\": [797.0], \"yaxis\": \"y\", \"type\": \"scatter\"}], \"name\": \"114718993\"}, {\"data\": [{\"hovertemplate\": \"Recording timestamp=114727324<br>Gaze point X=%{x}<br>Gaze point Y=%{y}<extra></extra>\", \"legendgroup\": \"\", \"marker\": {\"color\": \"#636efa\", \"symbol\": \"circle\"}, \"mode\": \"markers\", \"name\": \"\", \"orientation\": \"v\", \"showlegend\": false, \"x\": [1231.0], \"xaxis\": \"x\", \"y\": [675.0], \"yaxis\": \"y\", \"type\": \"scatter\"}], \"name\": \"114727324\"}, {\"data\": [{\"hovertemplate\": \"Recording timestamp=114735664<br>Gaze point X=%{x}<br>Gaze point Y=%{y}<extra></extra>\", \"legendgroup\": \"\", \"marker\": {\"color\": \"#636efa\", \"symbol\": \"circle\"}, \"mode\": \"markers\", \"name\": \"\", \"orientation\": \"v\", \"showlegend\": false, \"x\": [1288.0], \"xaxis\": \"x\", \"y\": [663.0], \"yaxis\": \"y\", \"type\": \"scatter\"}], \"name\": \"114735664\"}, {\"data\": [{\"hovertemplate\": \"Recording timestamp=114743992<br>Gaze point X=%{x}<br>Gaze point Y=%{y}<extra></extra>\", \"legendgroup\": \"\", \"marker\": {\"color\": \"#636efa\", \"symbol\": \"circle\"}, \"mode\": \"markers\", \"name\": \"\", \"orientation\": \"v\", \"showlegend\": false, \"x\": [1219.0], \"xaxis\": \"x\", \"y\": [762.0], \"yaxis\": \"y\", \"type\": \"scatter\"}], \"name\": \"114743992\"}, {\"data\": [{\"hovertemplate\": \"Recording timestamp=114752374<br>Gaze point X=%{x}<br>Gaze point Y=%{y}<extra></extra>\", \"legendgroup\": \"\", \"marker\": {\"color\": \"#636efa\", \"symbol\": \"circle\"}, \"mode\": \"markers\", \"name\": \"\", \"orientation\": \"v\", \"showlegend\": false, \"x\": [null], \"xaxis\": \"x\", \"y\": [null], \"yaxis\": \"y\", \"type\": \"scatter\"}], \"name\": \"114752374\"}, {\"data\": [{\"hovertemplate\": \"Recording timestamp=114760665<br>Gaze point X=%{x}<br>Gaze point Y=%{y}<extra></extra>\", \"legendgroup\": \"\", \"marker\": {\"color\": \"#636efa\", \"symbol\": \"circle\"}, \"mode\": \"markers\", \"name\": \"\", \"orientation\": \"v\", \"showlegend\": false, \"x\": [1284.0], \"xaxis\": \"x\", \"y\": [699.0], \"yaxis\": \"y\", \"type\": \"scatter\"}], \"name\": \"114760665\"}, {\"data\": [{\"hovertemplate\": \"Recording timestamp=114768986<br>Gaze point X=%{x}<br>Gaze point Y=%{y}<extra></extra>\", \"legendgroup\": \"\", \"marker\": {\"color\": \"#636efa\", \"symbol\": \"circle\"}, \"mode\": \"markers\", \"name\": \"\", \"orientation\": \"v\", \"showlegend\": false, \"x\": [1257.0], \"xaxis\": \"x\", \"y\": [704.0], \"yaxis\": \"y\", \"type\": \"scatter\"}], \"name\": \"114768986\"}, {\"data\": [{\"hovertemplate\": \"Recording timestamp=114777318<br>Gaze point X=%{x}<br>Gaze point Y=%{y}<extra></extra>\", \"legendgroup\": \"\", \"marker\": {\"color\": \"#636efa\", \"symbol\": \"circle\"}, \"mode\": \"markers\", \"name\": \"\", \"orientation\": \"v\", \"showlegend\": false, \"x\": [1363.0], \"xaxis\": \"x\", \"y\": [568.0], \"yaxis\": \"y\", \"type\": \"scatter\"}], \"name\": \"114777318\"}, {\"data\": [{\"hovertemplate\": \"Recording timestamp=114785661<br>Gaze point X=%{x}<br>Gaze point Y=%{y}<extra></extra>\", \"legendgroup\": \"\", \"marker\": {\"color\": \"#636efa\", \"symbol\": \"circle\"}, \"mode\": \"markers\", \"name\": \"\", \"orientation\": \"v\", \"showlegend\": false, \"x\": [1356.0], \"xaxis\": \"x\", \"y\": [673.0], \"yaxis\": \"y\", \"type\": \"scatter\"}], \"name\": \"114785661\"}, {\"data\": [{\"hovertemplate\": \"Recording timestamp=114793985<br>Gaze point X=%{x}<br>Gaze point Y=%{y}<extra></extra>\", \"legendgroup\": \"\", \"marker\": {\"color\": \"#636efa\", \"symbol\": \"circle\"}, \"mode\": \"markers\", \"name\": \"\", \"orientation\": \"v\", \"showlegend\": false, \"x\": [1317.0], \"xaxis\": \"x\", \"y\": [755.0], \"yaxis\": \"y\", \"type\": \"scatter\"}], \"name\": \"114793985\"}, {\"data\": [{\"hovertemplate\": \"Recording timestamp=114802372<br>Gaze point X=%{x}<br>Gaze point Y=%{y}<extra></extra>\", \"legendgroup\": \"\", \"marker\": {\"color\": \"#636efa\", \"symbol\": \"circle\"}, \"mode\": \"markers\", \"name\": \"\", \"orientation\": \"v\", \"showlegend\": false, \"x\": [null], \"xaxis\": \"x\", \"y\": [null], \"yaxis\": \"y\", \"type\": \"scatter\"}], \"name\": \"114802372\"}, {\"data\": [{\"hovertemplate\": \"Recording timestamp=114810650<br>Gaze point X=%{x}<br>Gaze point Y=%{y}<extra></extra>\", \"legendgroup\": \"\", \"marker\": {\"color\": \"#636efa\", \"symbol\": \"circle\"}, \"mode\": \"markers\", \"name\": \"\", \"orientation\": \"v\", \"showlegend\": false, \"x\": [1315.0], \"xaxis\": \"x\", \"y\": [753.0], \"yaxis\": \"y\", \"type\": \"scatter\"}], \"name\": \"114810650\"}, {\"data\": [{\"hovertemplate\": \"Recording timestamp=114819042<br>Gaze point X=%{x}<br>Gaze point Y=%{y}<extra></extra>\", \"legendgroup\": \"\", \"marker\": {\"color\": \"#636efa\", \"symbol\": \"circle\"}, \"mode\": \"markers\", \"name\": \"\", \"orientation\": \"v\", \"showlegend\": false, \"x\": [1321.0], \"xaxis\": \"x\", \"y\": [748.0], \"yaxis\": \"y\", \"type\": \"scatter\"}], \"name\": \"114819042\"}, {\"data\": [{\"hovertemplate\": \"Recording timestamp=114827372<br>Gaze point X=%{x}<br>Gaze point Y=%{y}<extra></extra>\", \"legendgroup\": \"\", \"marker\": {\"color\": \"#636efa\", \"symbol\": \"circle\"}, \"mode\": \"markers\", \"name\": \"\", \"orientation\": \"v\", \"showlegend\": false, \"x\": [1130.0], \"xaxis\": \"x\", \"y\": [641.0], \"yaxis\": \"y\", \"type\": \"scatter\"}], \"name\": \"114827372\"}, {\"data\": [{\"hovertemplate\": \"Recording timestamp=114835716<br>Gaze point X=%{x}<br>Gaze point Y=%{y}<extra></extra>\", \"legendgroup\": \"\", \"marker\": {\"color\": \"#636efa\", \"symbol\": \"circle\"}, \"mode\": \"markers\", \"name\": \"\", \"orientation\": \"v\", \"showlegend\": false, \"x\": [1117.0], \"xaxis\": \"x\", \"y\": [645.0], \"yaxis\": \"y\", \"type\": \"scatter\"}], \"name\": \"114835716\"}, {\"data\": [{\"hovertemplate\": \"Recording timestamp=114844035<br>Gaze point X=%{x}<br>Gaze point Y=%{y}<extra></extra>\", \"legendgroup\": \"\", \"marker\": {\"color\": \"#636efa\", \"symbol\": \"circle\"}, \"mode\": \"markers\", \"name\": \"\", \"orientation\": \"v\", \"showlegend\": false, \"x\": [1343.0], \"xaxis\": \"x\", \"y\": [645.0], \"yaxis\": \"y\", \"type\": \"scatter\"}], \"name\": \"114844035\"}, {\"data\": [{\"hovertemplate\": \"Recording timestamp=114852312<br>Gaze point X=%{x}<br>Gaze point Y=%{y}<extra></extra>\", \"legendgroup\": \"\", \"marker\": {\"color\": \"#636efa\", \"symbol\": \"circle\"}, \"mode\": \"markers\", \"name\": \"\", \"orientation\": \"v\", \"showlegend\": false, \"x\": [null], \"xaxis\": \"x\", \"y\": [null], \"yaxis\": \"y\", \"type\": \"scatter\"}], \"name\": \"114852312\"}, {\"data\": [{\"hovertemplate\": \"Recording timestamp=114860645<br>Gaze point X=%{x}<br>Gaze point Y=%{y}<extra></extra>\", \"legendgroup\": \"\", \"marker\": {\"color\": \"#636efa\", \"symbol\": \"circle\"}, \"mode\": \"markers\", \"name\": \"\", \"orientation\": \"v\", \"showlegend\": false, \"x\": [1130.0], \"xaxis\": \"x\", \"y\": [593.0], \"yaxis\": \"y\", \"type\": \"scatter\"}], \"name\": \"114860645\"}, {\"data\": [{\"hovertemplate\": \"Recording timestamp=114868975<br>Gaze point X=%{x}<br>Gaze point Y=%{y}<extra></extra>\", \"legendgroup\": \"\", \"marker\": {\"color\": \"#636efa\", \"symbol\": \"circle\"}, \"mode\": \"markers\", \"name\": \"\", \"orientation\": \"v\", \"showlegend\": false, \"x\": [1296.0], \"xaxis\": \"x\", \"y\": [615.0], \"yaxis\": \"y\", \"type\": \"scatter\"}], \"name\": \"114868975\"}, {\"data\": [{\"hovertemplate\": \"Recording timestamp=114877309<br>Gaze point X=%{x}<br>Gaze point Y=%{y}<extra></extra>\", \"legendgroup\": \"\", \"marker\": {\"color\": \"#636efa\", \"symbol\": \"circle\"}, \"mode\": \"markers\", \"name\": \"\", \"orientation\": \"v\", \"showlegend\": false, \"x\": [null], \"xaxis\": \"x\", \"y\": [null], \"yaxis\": \"y\", \"type\": \"scatter\"}], \"name\": \"114877309\"}, {\"data\": [{\"hovertemplate\": \"Recording timestamp=114885645<br>Gaze point X=%{x}<br>Gaze point Y=%{y}<extra></extra>\", \"legendgroup\": \"\", \"marker\": {\"color\": \"#636efa\", \"symbol\": \"circle\"}, \"mode\": \"markers\", \"name\": \"\", \"orientation\": \"v\", \"showlegend\": false, \"x\": [null], \"xaxis\": \"x\", \"y\": [null], \"yaxis\": \"y\", \"type\": \"scatter\"}], \"name\": \"114885645\"}, {\"data\": [{\"hovertemplate\": \"Recording timestamp=114893980<br>Gaze point X=%{x}<br>Gaze point Y=%{y}<extra></extra>\", \"legendgroup\": \"\", \"marker\": {\"color\": \"#636efa\", \"symbol\": \"circle\"}, \"mode\": \"markers\", \"name\": \"\", \"orientation\": \"v\", \"showlegend\": false, \"x\": [1365.0], \"xaxis\": \"x\", \"y\": [420.0], \"yaxis\": \"y\", \"type\": \"scatter\"}], \"name\": \"114893980\"}, {\"data\": [{\"hovertemplate\": \"Recording timestamp=114902307<br>Gaze point X=%{x}<br>Gaze point Y=%{y}<extra></extra>\", \"legendgroup\": \"\", \"marker\": {\"color\": \"#636efa\", \"symbol\": \"circle\"}, \"mode\": \"markers\", \"name\": \"\", \"orientation\": \"v\", \"showlegend\": false, \"x\": [1352.0], \"xaxis\": \"x\", \"y\": [445.0], \"yaxis\": \"y\", \"type\": \"scatter\"}], \"name\": \"114902307\"}, {\"data\": [{\"hovertemplate\": \"Recording timestamp=114910645<br>Gaze point X=%{x}<br>Gaze point Y=%{y}<extra></extra>\", \"legendgroup\": \"\", \"marker\": {\"color\": \"#636efa\", \"symbol\": \"circle\"}, \"mode\": \"markers\", \"name\": \"\", \"orientation\": \"v\", \"showlegend\": false, \"x\": [null], \"xaxis\": \"x\", \"y\": [null], \"yaxis\": \"y\", \"type\": \"scatter\"}], \"name\": \"114910645\"}, {\"data\": [{\"hovertemplate\": \"Recording timestamp=114918972<br>Gaze point X=%{x}<br>Gaze point Y=%{y}<extra></extra>\", \"legendgroup\": \"\", \"marker\": {\"color\": \"#636efa\", \"symbol\": \"circle\"}, \"mode\": \"markers\", \"name\": \"\", \"orientation\": \"v\", \"showlegend\": false, \"x\": [1305.0], \"xaxis\": \"x\", \"y\": [458.0], \"yaxis\": \"y\", \"type\": \"scatter\"}], \"name\": \"114918972\"}, {\"data\": [{\"hovertemplate\": \"Recording timestamp=114927340<br>Gaze point X=%{x}<br>Gaze point Y=%{y}<extra></extra>\", \"legendgroup\": \"\", \"marker\": {\"color\": \"#636efa\", \"symbol\": \"circle\"}, \"mode\": \"markers\", \"name\": \"\", \"orientation\": \"v\", \"showlegend\": false, \"x\": [1261.0], \"xaxis\": \"x\", \"y\": [367.0], \"yaxis\": \"y\", \"type\": \"scatter\"}], \"name\": \"114927340\"}, {\"data\": [{\"hovertemplate\": \"Recording timestamp=114935639<br>Gaze point X=%{x}<br>Gaze point Y=%{y}<extra></extra>\", \"legendgroup\": \"\", \"marker\": {\"color\": \"#636efa\", \"symbol\": \"circle\"}, \"mode\": \"markers\", \"name\": \"\", \"orientation\": \"v\", \"showlegend\": false, \"x\": [null], \"xaxis\": \"x\", \"y\": [null], \"yaxis\": \"y\", \"type\": \"scatter\"}], \"name\": \"114935639\"}, {\"data\": [{\"hovertemplate\": \"Recording timestamp=114943971<br>Gaze point X=%{x}<br>Gaze point Y=%{y}<extra></extra>\", \"legendgroup\": \"\", \"marker\": {\"color\": \"#636efa\", \"symbol\": \"circle\"}, \"mode\": \"markers\", \"name\": \"\", \"orientation\": \"v\", \"showlegend\": false, \"x\": [1307.0], \"xaxis\": \"x\", \"y\": [421.0], \"yaxis\": \"y\", \"type\": \"scatter\"}], \"name\": \"114943971\"}, {\"data\": [{\"hovertemplate\": \"Recording timestamp=114952300<br>Gaze point X=%{x}<br>Gaze point Y=%{y}<extra></extra>\", \"legendgroup\": \"\", \"marker\": {\"color\": \"#636efa\", \"symbol\": \"circle\"}, \"mode\": \"markers\", \"name\": \"\", \"orientation\": \"v\", \"showlegend\": false, \"x\": [null], \"xaxis\": \"x\", \"y\": [null], \"yaxis\": \"y\", \"type\": \"scatter\"}], \"name\": \"114952300\"}, {\"data\": [{\"hovertemplate\": \"Recording timestamp=114960629<br>Gaze point X=%{x}<br>Gaze point Y=%{y}<extra></extra>\", \"legendgroup\": \"\", \"marker\": {\"color\": \"#636efa\", \"symbol\": \"circle\"}, \"mode\": \"markers\", \"name\": \"\", \"orientation\": \"v\", \"showlegend\": false, \"x\": [null], \"xaxis\": \"x\", \"y\": [null], \"yaxis\": \"y\", \"type\": \"scatter\"}], \"name\": \"114960629\"}, {\"data\": [{\"hovertemplate\": \"Recording timestamp=114968961<br>Gaze point X=%{x}<br>Gaze point Y=%{y}<extra></extra>\", \"legendgroup\": \"\", \"marker\": {\"color\": \"#636efa\", \"symbol\": \"circle\"}, \"mode\": \"markers\", \"name\": \"\", \"orientation\": \"v\", \"showlegend\": false, \"x\": [1308.0], \"xaxis\": \"x\", \"y\": [416.0], \"yaxis\": \"y\", \"type\": \"scatter\"}], \"name\": \"114968961\"}, {\"data\": [{\"hovertemplate\": \"Recording timestamp=114977295<br>Gaze point X=%{x}<br>Gaze point Y=%{y}<extra></extra>\", \"legendgroup\": \"\", \"marker\": {\"color\": \"#636efa\", \"symbol\": \"circle\"}, \"mode\": \"markers\", \"name\": \"\", \"orientation\": \"v\", \"showlegend\": false, \"x\": [1203.0], \"xaxis\": \"x\", \"y\": [445.0], \"yaxis\": \"y\", \"type\": \"scatter\"}], \"name\": \"114977295\"}, {\"data\": [{\"hovertemplate\": \"Recording timestamp=114985698<br>Gaze point X=%{x}<br>Gaze point Y=%{y}<extra></extra>\", \"legendgroup\": \"\", \"marker\": {\"color\": \"#636efa\", \"symbol\": \"circle\"}, \"mode\": \"markers\", \"name\": \"\", \"orientation\": \"v\", \"showlegend\": false, \"x\": [1347.0], \"xaxis\": \"x\", \"y\": [465.0], \"yaxis\": \"y\", \"type\": \"scatter\"}], \"name\": \"114985698\"}, {\"data\": [{\"hovertemplate\": \"Recording timestamp=114993974<br>Gaze point X=%{x}<br>Gaze point Y=%{y}<extra></extra>\", \"legendgroup\": \"\", \"marker\": {\"color\": \"#636efa\", \"symbol\": \"circle\"}, \"mode\": \"markers\", \"name\": \"\", \"orientation\": \"v\", \"showlegend\": false, \"x\": [1268.0], \"xaxis\": \"x\", \"y\": [449.0], \"yaxis\": \"y\", \"type\": \"scatter\"}], \"name\": \"114993974\"}, {\"data\": [{\"hovertemplate\": \"Recording timestamp=115002300<br>Gaze point X=%{x}<br>Gaze point Y=%{y}<extra></extra>\", \"legendgroup\": \"\", \"marker\": {\"color\": \"#636efa\", \"symbol\": \"circle\"}, \"mode\": \"markers\", \"name\": \"\", \"orientation\": \"v\", \"showlegend\": false, \"x\": [null], \"xaxis\": \"x\", \"y\": [null], \"yaxis\": \"y\", \"type\": \"scatter\"}], \"name\": \"115002300\"}, {\"data\": [{\"hovertemplate\": \"Recording timestamp=115010634<br>Gaze point X=%{x}<br>Gaze point Y=%{y}<extra></extra>\", \"legendgroup\": \"\", \"marker\": {\"color\": \"#636efa\", \"symbol\": \"circle\"}, \"mode\": \"markers\", \"name\": \"\", \"orientation\": \"v\", \"showlegend\": false, \"x\": [null], \"xaxis\": \"x\", \"y\": [null], \"yaxis\": \"y\", \"type\": \"scatter\"}], \"name\": \"115010634\"}, {\"data\": [{\"hovertemplate\": \"Recording timestamp=115019025<br>Gaze point X=%{x}<br>Gaze point Y=%{y}<extra></extra>\", \"legendgroup\": \"\", \"marker\": {\"color\": \"#636efa\", \"symbol\": \"circle\"}, \"mode\": \"markers\", \"name\": \"\", \"orientation\": \"v\", \"showlegend\": false, \"x\": [1300.0], \"xaxis\": \"x\", \"y\": [414.0], \"yaxis\": \"y\", \"type\": \"scatter\"}], \"name\": \"115019025\"}, {\"data\": [{\"hovertemplate\": \"Recording timestamp=115027297<br>Gaze point X=%{x}<br>Gaze point Y=%{y}<extra></extra>\", \"legendgroup\": \"\", \"marker\": {\"color\": \"#636efa\", \"symbol\": \"circle\"}, \"mode\": \"markers\", \"name\": \"\", \"orientation\": \"v\", \"showlegend\": false, \"x\": [null], \"xaxis\": \"x\", \"y\": [null], \"yaxis\": \"y\", \"type\": \"scatter\"}], \"name\": \"115027297\"}, {\"data\": [{\"hovertemplate\": \"Recording timestamp=115035630<br>Gaze point X=%{x}<br>Gaze point Y=%{y}<extra></extra>\", \"legendgroup\": \"\", \"marker\": {\"color\": \"#636efa\", \"symbol\": \"circle\"}, \"mode\": \"markers\", \"name\": \"\", \"orientation\": \"v\", \"showlegend\": false, \"x\": [1379.0], \"xaxis\": \"x\", \"y\": [429.0], \"yaxis\": \"y\", \"type\": \"scatter\"}], \"name\": \"115035630\"}, {\"data\": [{\"hovertemplate\": \"Recording timestamp=115043965<br>Gaze point X=%{x}<br>Gaze point Y=%{y}<extra></extra>\", \"legendgroup\": \"\", \"marker\": {\"color\": \"#636efa\", \"symbol\": \"circle\"}, \"mode\": \"markers\", \"name\": \"\", \"orientation\": \"v\", \"showlegend\": false, \"x\": [1372.0], \"xaxis\": \"x\", \"y\": [433.0], \"yaxis\": \"y\", \"type\": \"scatter\"}], \"name\": \"115043965\"}, {\"data\": [{\"hovertemplate\": \"Recording timestamp=115052299<br>Gaze point X=%{x}<br>Gaze point Y=%{y}<extra></extra>\", \"legendgroup\": \"\", \"marker\": {\"color\": \"#636efa\", \"symbol\": \"circle\"}, \"mode\": \"markers\", \"name\": \"\", \"orientation\": \"v\", \"showlegend\": false, \"x\": [1276.0], \"xaxis\": \"x\", \"y\": [397.0], \"yaxis\": \"y\", \"type\": \"scatter\"}], \"name\": \"115052299\"}, {\"data\": [{\"hovertemplate\": \"Recording timestamp=115060630<br>Gaze point X=%{x}<br>Gaze point Y=%{y}<extra></extra>\", \"legendgroup\": \"\", \"marker\": {\"color\": \"#636efa\", \"symbol\": \"circle\"}, \"mode\": \"markers\", \"name\": \"\", \"orientation\": \"v\", \"showlegend\": false, \"x\": [1213.0], \"xaxis\": \"x\", \"y\": [259.0], \"yaxis\": \"y\", \"type\": \"scatter\"}], \"name\": \"115060630\"}, {\"data\": [{\"hovertemplate\": \"Recording timestamp=115068964<br>Gaze point X=%{x}<br>Gaze point Y=%{y}<extra></extra>\", \"legendgroup\": \"\", \"marker\": {\"color\": \"#636efa\", \"symbol\": \"circle\"}, \"mode\": \"markers\", \"name\": \"\", \"orientation\": \"v\", \"showlegend\": false, \"x\": [1311.0], \"xaxis\": \"x\", \"y\": [392.0], \"yaxis\": \"y\", \"type\": \"scatter\"}], \"name\": \"115068964\"}, {\"data\": [{\"hovertemplate\": \"Recording timestamp=115077290<br>Gaze point X=%{x}<br>Gaze point Y=%{y}<extra></extra>\", \"legendgroup\": \"\", \"marker\": {\"color\": \"#636efa\", \"symbol\": \"circle\"}, \"mode\": \"markers\", \"name\": \"\", \"orientation\": \"v\", \"showlegend\": false, \"x\": [null], \"xaxis\": \"x\", \"y\": [null], \"yaxis\": \"y\", \"type\": \"scatter\"}], \"name\": \"115077290\"}, {\"data\": [{\"hovertemplate\": \"Recording timestamp=115085628<br>Gaze point X=%{x}<br>Gaze point Y=%{y}<extra></extra>\", \"legendgroup\": \"\", \"marker\": {\"color\": \"#636efa\", \"symbol\": \"circle\"}, \"mode\": \"markers\", \"name\": \"\", \"orientation\": \"v\", \"showlegend\": false, \"x\": [1338.0], \"xaxis\": \"x\", \"y\": [316.0], \"yaxis\": \"y\", \"type\": \"scatter\"}], \"name\": \"115085628\"}, {\"data\": [{\"hovertemplate\": \"Recording timestamp=115094019<br>Gaze point X=%{x}<br>Gaze point Y=%{y}<extra></extra>\", \"legendgroup\": \"\", \"marker\": {\"color\": \"#636efa\", \"symbol\": \"circle\"}, \"mode\": \"markers\", \"name\": \"\", \"orientation\": \"v\", \"showlegend\": false, \"x\": [1323.0], \"xaxis\": \"x\", \"y\": [398.0], \"yaxis\": \"y\", \"type\": \"scatter\"}], \"name\": \"115094019\"}, {\"data\": [{\"hovertemplate\": \"Recording timestamp=115102292<br>Gaze point X=%{x}<br>Gaze point Y=%{y}<extra></extra>\", \"legendgroup\": \"\", \"marker\": {\"color\": \"#636efa\", \"symbol\": \"circle\"}, \"mode\": \"markers\", \"name\": \"\", \"orientation\": \"v\", \"showlegend\": false, \"x\": [1378.0], \"xaxis\": \"x\", \"y\": [278.0], \"yaxis\": \"y\", \"type\": \"scatter\"}], \"name\": \"115102292\"}, {\"data\": [{\"hovertemplate\": \"Recording timestamp=115110624<br>Gaze point X=%{x}<br>Gaze point Y=%{y}<extra></extra>\", \"legendgroup\": \"\", \"marker\": {\"color\": \"#636efa\", \"symbol\": \"circle\"}, \"mode\": \"markers\", \"name\": \"\", \"orientation\": \"v\", \"showlegend\": false, \"x\": [1370.0], \"xaxis\": \"x\", \"y\": [227.0], \"yaxis\": \"y\", \"type\": \"scatter\"}], \"name\": \"115110624\"}, {\"data\": [{\"hovertemplate\": \"Recording timestamp=115118958<br>Gaze point X=%{x}<br>Gaze point Y=%{y}<extra></extra>\", \"legendgroup\": \"\", \"marker\": {\"color\": \"#636efa\", \"symbol\": \"circle\"}, \"mode\": \"markers\", \"name\": \"\", \"orientation\": \"v\", \"showlegend\": false, \"x\": [1351.0], \"xaxis\": \"x\", \"y\": [336.0], \"yaxis\": \"y\", \"type\": \"scatter\"}], \"name\": \"115118958\"}, {\"data\": [{\"hovertemplate\": \"Recording timestamp=115127290<br>Gaze point X=%{x}<br>Gaze point Y=%{y}<extra></extra>\", \"legendgroup\": \"\", \"marker\": {\"color\": \"#636efa\", \"symbol\": \"circle\"}, \"mode\": \"markers\", \"name\": \"\", \"orientation\": \"v\", \"showlegend\": false, \"x\": [null], \"xaxis\": \"x\", \"y\": [null], \"yaxis\": \"y\", \"type\": \"scatter\"}], \"name\": \"115127290\"}, {\"data\": [{\"hovertemplate\": \"Recording timestamp=115135627<br>Gaze point X=%{x}<br>Gaze point Y=%{y}<extra></extra>\", \"legendgroup\": \"\", \"marker\": {\"color\": \"#636efa\", \"symbol\": \"circle\"}, \"mode\": \"markers\", \"name\": \"\", \"orientation\": \"v\", \"showlegend\": false, \"x\": [1326.0], \"xaxis\": \"x\", \"y\": [411.0], \"yaxis\": \"y\", \"type\": \"scatter\"}], \"name\": \"115135627\"}, {\"data\": [{\"hovertemplate\": \"Recording timestamp=115143972<br>Gaze point X=%{x}<br>Gaze point Y=%{y}<extra></extra>\", \"legendgroup\": \"\", \"marker\": {\"color\": \"#636efa\", \"symbol\": \"circle\"}, \"mode\": \"markers\", \"name\": \"\", \"orientation\": \"v\", \"showlegend\": false, \"x\": [1387.0], \"xaxis\": \"x\", \"y\": [382.0], \"yaxis\": \"y\", \"type\": \"scatter\"}], \"name\": \"115143972\"}, {\"data\": [{\"hovertemplate\": \"Recording timestamp=115152296<br>Gaze point X=%{x}<br>Gaze point Y=%{y}<extra></extra>\", \"legendgroup\": \"\", \"marker\": {\"color\": \"#636efa\", \"symbol\": \"circle\"}, \"mode\": \"markers\", \"name\": \"\", \"orientation\": \"v\", \"showlegend\": false, \"x\": [null], \"xaxis\": \"x\", \"y\": [null], \"yaxis\": \"y\", \"type\": \"scatter\"}], \"name\": \"115152296\"}, {\"data\": [{\"hovertemplate\": \"Recording timestamp=115160621<br>Gaze point X=%{x}<br>Gaze point Y=%{y}<extra></extra>\", \"legendgroup\": \"\", \"marker\": {\"color\": \"#636efa\", \"symbol\": \"circle\"}, \"mode\": \"markers\", \"name\": \"\", \"orientation\": \"v\", \"showlegend\": false, \"x\": [1366.0], \"xaxis\": \"x\", \"y\": [347.0], \"yaxis\": \"y\", \"type\": \"scatter\"}], \"name\": \"115160621\"}, {\"data\": [{\"hovertemplate\": \"Recording timestamp=115168955<br>Gaze point X=%{x}<br>Gaze point Y=%{y}<extra></extra>\", \"legendgroup\": \"\", \"marker\": {\"color\": \"#636efa\", \"symbol\": \"circle\"}, \"mode\": \"markers\", \"name\": \"\", \"orientation\": \"v\", \"showlegend\": false, \"x\": [1350.0], \"xaxis\": \"x\", \"y\": [234.0], \"yaxis\": \"y\", \"type\": \"scatter\"}], \"name\": \"115168955\"}, {\"data\": [{\"hovertemplate\": \"Recording timestamp=115177276<br>Gaze point X=%{x}<br>Gaze point Y=%{y}<extra></extra>\", \"legendgroup\": \"\", \"marker\": {\"color\": \"#636efa\", \"symbol\": \"circle\"}, \"mode\": \"markers\", \"name\": \"\", \"orientation\": \"v\", \"showlegend\": false, \"x\": [null], \"xaxis\": \"x\", \"y\": [null], \"yaxis\": \"y\", \"type\": \"scatter\"}], \"name\": \"115177276\"}, {\"data\": [{\"hovertemplate\": \"Recording timestamp=115185610<br>Gaze point X=%{x}<br>Gaze point Y=%{y}<extra></extra>\", \"legendgroup\": \"\", \"marker\": {\"color\": \"#636efa\", \"symbol\": \"circle\"}, \"mode\": \"markers\", \"name\": \"\", \"orientation\": \"v\", \"showlegend\": false, \"x\": [1320.0], \"xaxis\": \"x\", \"y\": [282.0], \"yaxis\": \"y\", \"type\": \"scatter\"}], \"name\": \"115185610\"}, {\"data\": [{\"hovertemplate\": \"Recording timestamp=115193975<br>Gaze point X=%{x}<br>Gaze point Y=%{y}<extra></extra>\", \"legendgroup\": \"\", \"marker\": {\"color\": \"#636efa\", \"symbol\": \"circle\"}, \"mode\": \"markers\", \"name\": \"\", \"orientation\": \"v\", \"showlegend\": false, \"x\": [1352.0], \"xaxis\": \"x\", \"y\": [280.0], \"yaxis\": \"y\", \"type\": \"scatter\"}], \"name\": \"115193975\"}, {\"data\": [{\"hovertemplate\": \"Recording timestamp=115202335<br>Gaze point X=%{x}<br>Gaze point Y=%{y}<extra></extra>\", \"legendgroup\": \"\", \"marker\": {\"color\": \"#636efa\", \"symbol\": \"circle\"}, \"mode\": \"markers\", \"name\": \"\", \"orientation\": \"v\", \"showlegend\": false, \"x\": [1317.0], \"xaxis\": \"x\", \"y\": [261.0], \"yaxis\": \"y\", \"type\": \"scatter\"}], \"name\": \"115202335\"}, {\"data\": [{\"hovertemplate\": \"Recording timestamp=115210692<br>Gaze point X=%{x}<br>Gaze point Y=%{y}<extra></extra>\", \"legendgroup\": \"\", \"marker\": {\"color\": \"#636efa\", \"symbol\": \"circle\"}, \"mode\": \"markers\", \"name\": \"\", \"orientation\": \"v\", \"showlegend\": false, \"x\": [1305.0], \"xaxis\": \"x\", \"y\": [275.0], \"yaxis\": \"y\", \"type\": \"scatter\"}], \"name\": \"115210692\"}, {\"data\": [{\"hovertemplate\": \"Recording timestamp=115218951<br>Gaze point X=%{x}<br>Gaze point Y=%{y}<extra></extra>\", \"legendgroup\": \"\", \"marker\": {\"color\": \"#636efa\", \"symbol\": \"circle\"}, \"mode\": \"markers\", \"name\": \"\", \"orientation\": \"v\", \"showlegend\": false, \"x\": [1312.0], \"xaxis\": \"x\", \"y\": [342.0], \"yaxis\": \"y\", \"type\": \"scatter\"}], \"name\": \"115218951\"}, {\"data\": [{\"hovertemplate\": \"Recording timestamp=115227285<br>Gaze point X=%{x}<br>Gaze point Y=%{y}<extra></extra>\", \"legendgroup\": \"\", \"marker\": {\"color\": \"#636efa\", \"symbol\": \"circle\"}, \"mode\": \"markers\", \"name\": \"\", \"orientation\": \"v\", \"showlegend\": false, \"x\": [null], \"xaxis\": \"x\", \"y\": [null], \"yaxis\": \"y\", \"type\": \"scatter\"}], \"name\": \"115227285\"}, {\"data\": [{\"hovertemplate\": \"Recording timestamp=115235614<br>Gaze point X=%{x}<br>Gaze point Y=%{y}<extra></extra>\", \"legendgroup\": \"\", \"marker\": {\"color\": \"#636efa\", \"symbol\": \"circle\"}, \"mode\": \"markers\", \"name\": \"\", \"orientation\": \"v\", \"showlegend\": false, \"x\": [1302.0], \"xaxis\": \"x\", \"y\": [299.0], \"yaxis\": \"y\", \"type\": \"scatter\"}], \"name\": \"115235614\"}, {\"data\": [{\"hovertemplate\": \"Recording timestamp=115244010<br>Gaze point X=%{x}<br>Gaze point Y=%{y}<extra></extra>\", \"legendgroup\": \"\", \"marker\": {\"color\": \"#636efa\", \"symbol\": \"circle\"}, \"mode\": \"markers\", \"name\": \"\", \"orientation\": \"v\", \"showlegend\": false, \"x\": [1364.0], \"xaxis\": \"x\", \"y\": [292.0], \"yaxis\": \"y\", \"type\": \"scatter\"}], \"name\": \"115244010\"}, {\"data\": [{\"hovertemplate\": \"Recording timestamp=115252285<br>Gaze point X=%{x}<br>Gaze point Y=%{y}<extra></extra>\", \"legendgroup\": \"\", \"marker\": {\"color\": \"#636efa\", \"symbol\": \"circle\"}, \"mode\": \"markers\", \"name\": \"\", \"orientation\": \"v\", \"showlegend\": false, \"x\": [null], \"xaxis\": \"x\", \"y\": [null], \"yaxis\": \"y\", \"type\": \"scatter\"}], \"name\": \"115252285\"}, {\"data\": [{\"hovertemplate\": \"Recording timestamp=115260615<br>Gaze point X=%{x}<br>Gaze point Y=%{y}<extra></extra>\", \"legendgroup\": \"\", \"marker\": {\"color\": \"#636efa\", \"symbol\": \"circle\"}, \"mode\": \"markers\", \"name\": \"\", \"orientation\": \"v\", \"showlegend\": false, \"x\": [null], \"xaxis\": \"x\", \"y\": [null], \"yaxis\": \"y\", \"type\": \"scatter\"}], \"name\": \"115260615\"}, {\"data\": [{\"hovertemplate\": \"Recording timestamp=115268947<br>Gaze point X=%{x}<br>Gaze point Y=%{y}<extra></extra>\", \"legendgroup\": \"\", \"marker\": {\"color\": \"#636efa\", \"symbol\": \"circle\"}, \"mode\": \"markers\", \"name\": \"\", \"orientation\": \"v\", \"showlegend\": false, \"x\": [1305.0], \"xaxis\": \"x\", \"y\": [365.0], \"yaxis\": \"y\", \"type\": \"scatter\"}], \"name\": \"115268947\"}, {\"data\": [{\"hovertemplate\": \"Recording timestamp=115277280<br>Gaze point X=%{x}<br>Gaze point Y=%{y}<extra></extra>\", \"legendgroup\": \"\", \"marker\": {\"color\": \"#636efa\", \"symbol\": \"circle\"}, \"mode\": \"markers\", \"name\": \"\", \"orientation\": \"v\", \"showlegend\": false, \"x\": [1130.0], \"xaxis\": \"x\", \"y\": [278.0], \"yaxis\": \"y\", \"type\": \"scatter\"}], \"name\": \"115277280\"}, {\"data\": [{\"hovertemplate\": \"Recording timestamp=115285615<br>Gaze point X=%{x}<br>Gaze point Y=%{y}<extra></extra>\", \"legendgroup\": \"\", \"marker\": {\"color\": \"#636efa\", \"symbol\": \"circle\"}, \"mode\": \"markers\", \"name\": \"\", \"orientation\": \"v\", \"showlegend\": false, \"x\": [1354.0], \"xaxis\": \"x\", \"y\": [268.0], \"yaxis\": \"y\", \"type\": \"scatter\"}], \"name\": \"115285615\"}, {\"data\": [{\"hovertemplate\": \"Recording timestamp=115293950<br>Gaze point X=%{x}<br>Gaze point Y=%{y}<extra></extra>\", \"legendgroup\": \"\", \"marker\": {\"color\": \"#636efa\", \"symbol\": \"circle\"}, \"mode\": \"markers\", \"name\": \"\", \"orientation\": \"v\", \"showlegend\": false, \"x\": [1202.0], \"xaxis\": \"x\", \"y\": [185.0], \"yaxis\": \"y\", \"type\": \"scatter\"}], \"name\": \"115293950\"}, {\"data\": [{\"hovertemplate\": \"Recording timestamp=115302279<br>Gaze point X=%{x}<br>Gaze point Y=%{y}<extra></extra>\", \"legendgroup\": \"\", \"marker\": {\"color\": \"#636efa\", \"symbol\": \"circle\"}, \"mode\": \"markers\", \"name\": \"\", \"orientation\": \"v\", \"showlegend\": false, \"x\": [null], \"xaxis\": \"x\", \"y\": [null], \"yaxis\": \"y\", \"type\": \"scatter\"}], \"name\": \"115302279\"}, {\"data\": [{\"hovertemplate\": \"Recording timestamp=115310609<br>Gaze point X=%{x}<br>Gaze point Y=%{y}<extra></extra>\", \"legendgroup\": \"\", \"marker\": {\"color\": \"#636efa\", \"symbol\": \"circle\"}, \"mode\": \"markers\", \"name\": \"\", \"orientation\": \"v\", \"showlegend\": false, \"x\": [null], \"xaxis\": \"x\", \"y\": [null], \"yaxis\": \"y\", \"type\": \"scatter\"}], \"name\": \"115310609\"}, {\"data\": [{\"hovertemplate\": \"Recording timestamp=115318942<br>Gaze point X=%{x}<br>Gaze point Y=%{y}<extra></extra>\", \"legendgroup\": \"\", \"marker\": {\"color\": \"#636efa\", \"symbol\": \"circle\"}, \"mode\": \"markers\", \"name\": \"\", \"orientation\": \"v\", \"showlegend\": false, \"x\": [1172.0], \"xaxis\": \"x\", \"y\": [227.0], \"yaxis\": \"y\", \"type\": \"scatter\"}], \"name\": \"115318942\"}, {\"data\": [{\"hovertemplate\": \"Recording timestamp=115327277<br>Gaze point X=%{x}<br>Gaze point Y=%{y}<extra></extra>\", \"legendgroup\": \"\", \"marker\": {\"color\": \"#636efa\", \"symbol\": \"circle\"}, \"mode\": \"markers\", \"name\": \"\", \"orientation\": \"v\", \"showlegend\": false, \"x\": [1155.0], \"xaxis\": \"x\", \"y\": [274.0], \"yaxis\": \"y\", \"type\": \"scatter\"}], \"name\": \"115327277\"}, {\"data\": [{\"hovertemplate\": \"Recording timestamp=115335610<br>Gaze point X=%{x}<br>Gaze point Y=%{y}<extra></extra>\", \"legendgroup\": \"\", \"marker\": {\"color\": \"#636efa\", \"symbol\": \"circle\"}, \"mode\": \"markers\", \"name\": \"\", \"orientation\": \"v\", \"showlegend\": false, \"x\": [1266.0], \"xaxis\": \"x\", \"y\": [360.0], \"yaxis\": \"y\", \"type\": \"scatter\"}], \"name\": \"115335610\"}, {\"data\": [{\"hovertemplate\": \"Recording timestamp=115343944<br>Gaze point X=%{x}<br>Gaze point Y=%{y}<extra></extra>\", \"legendgroup\": \"\", \"marker\": {\"color\": \"#636efa\", \"symbol\": \"circle\"}, \"mode\": \"markers\", \"name\": \"\", \"orientation\": \"v\", \"showlegend\": false, \"x\": [1308.0], \"xaxis\": \"x\", \"y\": [402.0], \"yaxis\": \"y\", \"type\": \"scatter\"}], \"name\": \"115343944\"}, {\"data\": [{\"hovertemplate\": \"Recording timestamp=115352261<br>Gaze point X=%{x}<br>Gaze point Y=%{y}<extra></extra>\", \"legendgroup\": \"\", \"marker\": {\"color\": \"#636efa\", \"symbol\": \"circle\"}, \"mode\": \"markers\", \"name\": \"\", \"orientation\": \"v\", \"showlegend\": false, \"x\": [1298.0], \"xaxis\": \"x\", \"y\": [331.0], \"yaxis\": \"y\", \"type\": \"scatter\"}], \"name\": \"115352261\"}, {\"data\": [{\"hovertemplate\": \"Recording timestamp=115360595<br>Gaze point X=%{x}<br>Gaze point Y=%{y}<extra></extra>\", \"legendgroup\": \"\", \"marker\": {\"color\": \"#636efa\", \"symbol\": \"circle\"}, \"mode\": \"markers\", \"name\": \"\", \"orientation\": \"v\", \"showlegend\": false, \"x\": [null], \"xaxis\": \"x\", \"y\": [null], \"yaxis\": \"y\", \"type\": \"scatter\"}], \"name\": \"115360595\"}, {\"data\": [{\"hovertemplate\": \"Recording timestamp=115368971<br>Gaze point X=%{x}<br>Gaze point Y=%{y}<extra></extra>\", \"legendgroup\": \"\", \"marker\": {\"color\": \"#636efa\", \"symbol\": \"circle\"}, \"mode\": \"markers\", \"name\": \"\", \"orientation\": \"v\", \"showlegend\": false, \"x\": [1339.0], \"xaxis\": \"x\", \"y\": [320.0], \"yaxis\": \"y\", \"type\": \"scatter\"}], \"name\": \"115368971\"}, {\"data\": [{\"hovertemplate\": \"Recording timestamp=115377261<br>Gaze point X=%{x}<br>Gaze point Y=%{y}<extra></extra>\", \"legendgroup\": \"\", \"marker\": {\"color\": \"#636efa\", \"symbol\": \"circle\"}, \"mode\": \"markers\", \"name\": \"\", \"orientation\": \"v\", \"showlegend\": false, \"x\": [null], \"xaxis\": \"x\", \"y\": [null], \"yaxis\": \"y\", \"type\": \"scatter\"}], \"name\": \"115377261\"}, {\"data\": [{\"hovertemplate\": \"Recording timestamp=115385633<br>Gaze point X=%{x}<br>Gaze point Y=%{y}<extra></extra>\", \"legendgroup\": \"\", \"marker\": {\"color\": \"#636efa\", \"symbol\": \"circle\"}, \"mode\": \"markers\", \"name\": \"\", \"orientation\": \"v\", \"showlegend\": false, \"x\": [1283.0], \"xaxis\": \"x\", \"y\": [337.0], \"yaxis\": \"y\", \"type\": \"scatter\"}], \"name\": \"115385633\"}, {\"data\": [{\"hovertemplate\": \"Recording timestamp=115393932<br>Gaze point X=%{x}<br>Gaze point Y=%{y}<extra></extra>\", \"legendgroup\": \"\", \"marker\": {\"color\": \"#636efa\", \"symbol\": \"circle\"}, \"mode\": \"markers\", \"name\": \"\", \"orientation\": \"v\", \"showlegend\": false, \"x\": [1302.0], \"xaxis\": \"x\", \"y\": [302.0], \"yaxis\": \"y\", \"type\": \"scatter\"}], \"name\": \"115393932\"}, {\"data\": [{\"hovertemplate\": \"Recording timestamp=115402272<br>Gaze point X=%{x}<br>Gaze point Y=%{y}<extra></extra>\", \"legendgroup\": \"\", \"marker\": {\"color\": \"#636efa\", \"symbol\": \"circle\"}, \"mode\": \"markers\", \"name\": \"\", \"orientation\": \"v\", \"showlegend\": false, \"x\": [null], \"xaxis\": \"x\", \"y\": [null], \"yaxis\": \"y\", \"type\": \"scatter\"}], \"name\": \"115402272\"}, {\"data\": [{\"hovertemplate\": \"Recording timestamp=115410604<br>Gaze point X=%{x}<br>Gaze point Y=%{y}<extra></extra>\", \"legendgroup\": \"\", \"marker\": {\"color\": \"#636efa\", \"symbol\": \"circle\"}, \"mode\": \"markers\", \"name\": \"\", \"orientation\": \"v\", \"showlegend\": false, \"x\": [1266.0], \"xaxis\": \"x\", \"y\": [315.0], \"yaxis\": \"y\", \"type\": \"scatter\"}], \"name\": \"115410604\"}, {\"data\": [{\"hovertemplate\": \"Recording timestamp=115418941<br>Gaze point X=%{x}<br>Gaze point Y=%{y}<extra></extra>\", \"legendgroup\": \"\", \"marker\": {\"color\": \"#636efa\", \"symbol\": \"circle\"}, \"mode\": \"markers\", \"name\": \"\", \"orientation\": \"v\", \"showlegend\": false, \"x\": [1311.0], \"xaxis\": \"x\", \"y\": [320.0], \"yaxis\": \"y\", \"type\": \"scatter\"}], \"name\": \"115418941\"}, {\"data\": [{\"hovertemplate\": \"Recording timestamp=115427274<br>Gaze point X=%{x}<br>Gaze point Y=%{y}<extra></extra>\", \"legendgroup\": \"\", \"marker\": {\"color\": \"#636efa\", \"symbol\": \"circle\"}, \"mode\": \"markers\", \"name\": \"\", \"orientation\": \"v\", \"showlegend\": false, \"x\": [1326.0], \"xaxis\": \"x\", \"y\": [325.0], \"yaxis\": \"y\", \"type\": \"scatter\"}], \"name\": \"115427274\"}, {\"data\": [{\"hovertemplate\": \"Recording timestamp=115435604<br>Gaze point X=%{x}<br>Gaze point Y=%{y}<extra></extra>\", \"legendgroup\": \"\", \"marker\": {\"color\": \"#636efa\", \"symbol\": \"circle\"}, \"mode\": \"markers\", \"name\": \"\", \"orientation\": \"v\", \"showlegend\": false, \"x\": [null], \"xaxis\": \"x\", \"y\": [null], \"yaxis\": \"y\", \"type\": \"scatter\"}], \"name\": \"115435604\"}, {\"data\": [{\"hovertemplate\": \"Recording timestamp=115443938<br>Gaze point X=%{x}<br>Gaze point Y=%{y}<extra></extra>\", \"legendgroup\": \"\", \"marker\": {\"color\": \"#636efa\", \"symbol\": \"circle\"}, \"mode\": \"markers\", \"name\": \"\", \"orientation\": \"v\", \"showlegend\": false, \"x\": [1278.0], \"xaxis\": \"x\", \"y\": [336.0], \"yaxis\": \"y\", \"type\": \"scatter\"}], \"name\": \"115443938\"}, {\"data\": [{\"hovertemplate\": \"Recording timestamp=115452314<br>Gaze point X=%{x}<br>Gaze point Y=%{y}<extra></extra>\", \"legendgroup\": \"\", \"marker\": {\"color\": \"#636efa\", \"symbol\": \"circle\"}, \"mode\": \"markers\", \"name\": \"\", \"orientation\": \"v\", \"showlegend\": false, \"x\": [null], \"xaxis\": \"x\", \"y\": [null], \"yaxis\": \"y\", \"type\": \"scatter\"}], \"name\": \"115452314\"}, {\"data\": [{\"hovertemplate\": \"Recording timestamp=115460596<br>Gaze point X=%{x}<br>Gaze point Y=%{y}<extra></extra>\", \"legendgroup\": \"\", \"marker\": {\"color\": \"#636efa\", \"symbol\": \"circle\"}, \"mode\": \"markers\", \"name\": \"\", \"orientation\": \"v\", \"showlegend\": false, \"x\": [1440.0], \"xaxis\": \"x\", \"y\": [200.0], \"yaxis\": \"y\", \"type\": \"scatter\"}], \"name\": \"115460596\"}, {\"data\": [{\"hovertemplate\": \"Recording timestamp=115468986<br>Gaze point X=%{x}<br>Gaze point Y=%{y}<extra></extra>\", \"legendgroup\": \"\", \"marker\": {\"color\": \"#636efa\", \"symbol\": \"circle\"}, \"mode\": \"markers\", \"name\": \"\", \"orientation\": \"v\", \"showlegend\": false, \"x\": [1326.0], \"xaxis\": \"x\", \"y\": [268.0], \"yaxis\": \"y\", \"type\": \"scatter\"}], \"name\": \"115468986\"}, {\"data\": [{\"hovertemplate\": \"Recording timestamp=115477263<br>Gaze point X=%{x}<br>Gaze point Y=%{y}<extra></extra>\", \"legendgroup\": \"\", \"marker\": {\"color\": \"#636efa\", \"symbol\": \"circle\"}, \"mode\": \"markers\", \"name\": \"\", \"orientation\": \"v\", \"showlegend\": false, \"x\": [1354.0], \"xaxis\": \"x\", \"y\": [126.0], \"yaxis\": \"y\", \"type\": \"scatter\"}], \"name\": \"115477263\"}, {\"data\": [{\"hovertemplate\": \"Recording timestamp=115485587<br>Gaze point X=%{x}<br>Gaze point Y=%{y}<extra></extra>\", \"legendgroup\": \"\", \"marker\": {\"color\": \"#636efa\", \"symbol\": \"circle\"}, \"mode\": \"markers\", \"name\": \"\", \"orientation\": \"v\", \"showlegend\": false, \"x\": [1210.0], \"xaxis\": \"x\", \"y\": [238.0], \"yaxis\": \"y\", \"type\": \"scatter\"}], \"name\": \"115485587\"}, {\"data\": [{\"hovertemplate\": \"Recording timestamp=115493918<br>Gaze point X=%{x}<br>Gaze point Y=%{y}<extra></extra>\", \"legendgroup\": \"\", \"marker\": {\"color\": \"#636efa\", \"symbol\": \"circle\"}, \"mode\": \"markers\", \"name\": \"\", \"orientation\": \"v\", \"showlegend\": false, \"x\": [1339.0], \"xaxis\": \"x\", \"y\": [112.0], \"yaxis\": \"y\", \"type\": \"scatter\"}], \"name\": \"115493918\"}, {\"data\": [{\"hovertemplate\": \"Recording timestamp=115502250<br>Gaze point X=%{x}<br>Gaze point Y=%{y}<extra></extra>\", \"legendgroup\": \"\", \"marker\": {\"color\": \"#636efa\", \"symbol\": \"circle\"}, \"mode\": \"markers\", \"name\": \"\", \"orientation\": \"v\", \"showlegend\": false, \"x\": [1242.0], \"xaxis\": \"x\", \"y\": [174.0], \"yaxis\": \"y\", \"type\": \"scatter\"}], \"name\": \"115502250\"}, {\"data\": [{\"hovertemplate\": \"Recording timestamp=115510652<br>Gaze point X=%{x}<br>Gaze point Y=%{y}<extra></extra>\", \"legendgroup\": \"\", \"marker\": {\"color\": \"#636efa\", \"symbol\": \"circle\"}, \"mode\": \"markers\", \"name\": \"\", \"orientation\": \"v\", \"showlegend\": false, \"x\": [1289.0], \"xaxis\": \"x\", \"y\": [251.0], \"yaxis\": \"y\", \"type\": \"scatter\"}], \"name\": \"115510652\"}, {\"data\": [{\"hovertemplate\": \"Recording timestamp=115518917<br>Gaze point X=%{x}<br>Gaze point Y=%{y}<extra></extra>\", \"legendgroup\": \"\", \"marker\": {\"color\": \"#636efa\", \"symbol\": \"circle\"}, \"mode\": \"markers\", \"name\": \"\", \"orientation\": \"v\", \"showlegend\": false, \"x\": [1330.0], \"xaxis\": \"x\", \"y\": [272.0], \"yaxis\": \"y\", \"type\": \"scatter\"}], \"name\": \"115518917\"}, {\"data\": [{\"hovertemplate\": \"Recording timestamp=115527276<br>Gaze point X=%{x}<br>Gaze point Y=%{y}<extra></extra>\", \"legendgroup\": \"\", \"marker\": {\"color\": \"#636efa\", \"symbol\": \"circle\"}, \"mode\": \"markers\", \"name\": \"\", \"orientation\": \"v\", \"showlegend\": false, \"x\": [1276.0], \"xaxis\": \"x\", \"y\": [292.0], \"yaxis\": \"y\", \"type\": \"scatter\"}], \"name\": \"115527276\"}, {\"data\": [{\"hovertemplate\": \"Recording timestamp=115535626<br>Gaze point X=%{x}<br>Gaze point Y=%{y}<extra></extra>\", \"legendgroup\": \"\", \"marker\": {\"color\": \"#636efa\", \"symbol\": \"circle\"}, \"mode\": \"markers\", \"name\": \"\", \"orientation\": \"v\", \"showlegend\": false, \"x\": [1232.0], \"xaxis\": \"x\", \"y\": [197.0], \"yaxis\": \"y\", \"type\": \"scatter\"}], \"name\": \"115535626\"}, {\"data\": [{\"hovertemplate\": \"Recording timestamp=115544013<br>Gaze point X=%{x}<br>Gaze point Y=%{y}<extra></extra>\", \"legendgroup\": \"\", \"marker\": {\"color\": \"#636efa\", \"symbol\": \"circle\"}, \"mode\": \"markers\", \"name\": \"\", \"orientation\": \"v\", \"showlegend\": false, \"x\": [1300.0], \"xaxis\": \"x\", \"y\": [165.0], \"yaxis\": \"y\", \"type\": \"scatter\"}], \"name\": \"115544013\"}, {\"data\": [{\"hovertemplate\": \"Recording timestamp=115552246<br>Gaze point X=%{x}<br>Gaze point Y=%{y}<extra></extra>\", \"legendgroup\": \"\", \"marker\": {\"color\": \"#636efa\", \"symbol\": \"circle\"}, \"mode\": \"markers\", \"name\": \"\", \"orientation\": \"v\", \"showlegend\": false, \"x\": [1370.0], \"xaxis\": \"x\", \"y\": [167.0], \"yaxis\": \"y\", \"type\": \"scatter\"}], \"name\": \"115552246\"}, {\"data\": [{\"hovertemplate\": \"Recording timestamp=115560581<br>Gaze point X=%{x}<br>Gaze point Y=%{y}<extra></extra>\", \"legendgroup\": \"\", \"marker\": {\"color\": \"#636efa\", \"symbol\": \"circle\"}, \"mode\": \"markers\", \"name\": \"\", \"orientation\": \"v\", \"showlegend\": false, \"x\": [1258.0], \"xaxis\": \"x\", \"y\": [64.0], \"yaxis\": \"y\", \"type\": \"scatter\"}], \"name\": \"115560581\"}, {\"data\": [{\"hovertemplate\": \"Recording timestamp=115568914<br>Gaze point X=%{x}<br>Gaze point Y=%{y}<extra></extra>\", \"legendgroup\": \"\", \"marker\": {\"color\": \"#636efa\", \"symbol\": \"circle\"}, \"mode\": \"markers\", \"name\": \"\", \"orientation\": \"v\", \"showlegend\": false, \"x\": [1319.0], \"xaxis\": \"x\", \"y\": [105.0], \"yaxis\": \"y\", \"type\": \"scatter\"}], \"name\": \"115568914\"}, {\"data\": [{\"hovertemplate\": \"Recording timestamp=115577249<br>Gaze point X=%{x}<br>Gaze point Y=%{y}<extra></extra>\", \"legendgroup\": \"\", \"marker\": {\"color\": \"#636efa\", \"symbol\": \"circle\"}, \"mode\": \"markers\", \"name\": \"\", \"orientation\": \"v\", \"showlegend\": false, \"x\": [null], \"xaxis\": \"x\", \"y\": [null], \"yaxis\": \"y\", \"type\": \"scatter\"}], \"name\": \"115577249\"}, {\"data\": [{\"hovertemplate\": \"Recording timestamp=115585577<br>Gaze point X=%{x}<br>Gaze point Y=%{y}<extra></extra>\", \"legendgroup\": \"\", \"marker\": {\"color\": \"#636efa\", \"symbol\": \"circle\"}, \"mode\": \"markers\", \"name\": \"\", \"orientation\": \"v\", \"showlegend\": false, \"x\": [1377.0], \"xaxis\": \"x\", \"y\": [158.0], \"yaxis\": \"y\", \"type\": \"scatter\"}], \"name\": \"115585577\"}, {\"data\": [{\"hovertemplate\": \"Recording timestamp=115594021<br>Gaze point X=%{x}<br>Gaze point Y=%{y}<extra></extra>\", \"legendgroup\": \"\", \"marker\": {\"color\": \"#636efa\", \"symbol\": \"circle\"}, \"mode\": \"markers\", \"name\": \"\", \"orientation\": \"v\", \"showlegend\": false, \"x\": [1372.0], \"xaxis\": \"x\", \"y\": [186.0], \"yaxis\": \"y\", \"type\": \"scatter\"}], \"name\": \"115594021\"}, {\"data\": [{\"hovertemplate\": \"Recording timestamp=115602252<br>Gaze point X=%{x}<br>Gaze point Y=%{y}<extra></extra>\", \"legendgroup\": \"\", \"marker\": {\"color\": \"#636efa\", \"symbol\": \"circle\"}, \"mode\": \"markers\", \"name\": \"\", \"orientation\": \"v\", \"showlegend\": false, \"x\": [null], \"xaxis\": \"x\", \"y\": [null], \"yaxis\": \"y\", \"type\": \"scatter\"}], \"name\": \"115602252\"}, {\"data\": [{\"hovertemplate\": \"Recording timestamp=115610631<br>Gaze point X=%{x}<br>Gaze point Y=%{y}<extra></extra>\", \"legendgroup\": \"\", \"marker\": {\"color\": \"#636efa\", \"symbol\": \"circle\"}, \"mode\": \"markers\", \"name\": \"\", \"orientation\": \"v\", \"showlegend\": false, \"x\": [null], \"xaxis\": \"x\", \"y\": [null], \"yaxis\": \"y\", \"type\": \"scatter\"}], \"name\": \"115610631\"}, {\"data\": [{\"hovertemplate\": \"Recording timestamp=115618973<br>Gaze point X=%{x}<br>Gaze point Y=%{y}<extra></extra>\", \"legendgroup\": \"\", \"marker\": {\"color\": \"#636efa\", \"symbol\": \"circle\"}, \"mode\": \"markers\", \"name\": \"\", \"orientation\": \"v\", \"showlegend\": false, \"x\": [1409.0], \"xaxis\": \"x\", \"y\": [186.0], \"yaxis\": \"y\", \"type\": \"scatter\"}], \"name\": \"115618973\"}, {\"data\": [{\"hovertemplate\": \"Recording timestamp=115627300<br>Gaze point X=%{x}<br>Gaze point Y=%{y}<extra></extra>\", \"legendgroup\": \"\", \"marker\": {\"color\": \"#636efa\", \"symbol\": \"circle\"}, \"mode\": \"markers\", \"name\": \"\", \"orientation\": \"v\", \"showlegend\": false, \"x\": [1416.0], \"xaxis\": \"x\", \"y\": [197.0], \"yaxis\": \"y\", \"type\": \"scatter\"}], \"name\": \"115627300\"}, {\"data\": [{\"hovertemplate\": \"Recording timestamp=115635577<br>Gaze point X=%{x}<br>Gaze point Y=%{y}<extra></extra>\", \"legendgroup\": \"\", \"marker\": {\"color\": \"#636efa\", \"symbol\": \"circle\"}, \"mode\": \"markers\", \"name\": \"\", \"orientation\": \"v\", \"showlegend\": false, \"x\": [1373.0], \"xaxis\": \"x\", \"y\": [141.0], \"yaxis\": \"y\", \"type\": \"scatter\"}], \"name\": \"115635577\"}, {\"data\": [{\"hovertemplate\": \"Recording timestamp=115643918<br>Gaze point X=%{x}<br>Gaze point Y=%{y}<extra></extra>\", \"legendgroup\": \"\", \"marker\": {\"color\": \"#636efa\", \"symbol\": \"circle\"}, \"mode\": \"markers\", \"name\": \"\", \"orientation\": \"v\", \"showlegend\": false, \"x\": [1358.0], \"xaxis\": \"x\", \"y\": [173.0], \"yaxis\": \"y\", \"type\": \"scatter\"}], \"name\": \"115643918\"}, {\"data\": [{\"hovertemplate\": \"Recording timestamp=115652252<br>Gaze point X=%{x}<br>Gaze point Y=%{y}<extra></extra>\", \"legendgroup\": \"\", \"marker\": {\"color\": \"#636efa\", \"symbol\": \"circle\"}, \"mode\": \"markers\", \"name\": \"\", \"orientation\": \"v\", \"showlegend\": false, \"x\": [1210.0], \"xaxis\": \"x\", \"y\": [-74.0], \"yaxis\": \"y\", \"type\": \"scatter\"}], \"name\": \"115652252\"}, {\"data\": [{\"hovertemplate\": \"Recording timestamp=115660594<br>Gaze point X=%{x}<br>Gaze point Y=%{y}<extra></extra>\", \"legendgroup\": \"\", \"marker\": {\"color\": \"#636efa\", \"symbol\": \"circle\"}, \"mode\": \"markers\", \"name\": \"\", \"orientation\": \"v\", \"showlegend\": false, \"x\": [1350.0], \"xaxis\": \"x\", \"y\": [213.0], \"yaxis\": \"y\", \"type\": \"scatter\"}], \"name\": \"115660594\"}, {\"data\": [{\"hovertemplate\": \"Recording timestamp=115668915<br>Gaze point X=%{x}<br>Gaze point Y=%{y}<extra></extra>\", \"legendgroup\": \"\", \"marker\": {\"color\": \"#636efa\", \"symbol\": \"circle\"}, \"mode\": \"markers\", \"name\": \"\", \"orientation\": \"v\", \"showlegend\": false, \"x\": [1283.0], \"xaxis\": \"x\", \"y\": [69.0], \"yaxis\": \"y\", \"type\": \"scatter\"}], \"name\": \"115668915\"}, {\"data\": [{\"hovertemplate\": \"Recording timestamp=115677253<br>Gaze point X=%{x}<br>Gaze point Y=%{y}<extra></extra>\", \"legendgroup\": \"\", \"marker\": {\"color\": \"#636efa\", \"symbol\": \"circle\"}, \"mode\": \"markers\", \"name\": \"\", \"orientation\": \"v\", \"showlegend\": false, \"x\": [1345.0], \"xaxis\": \"x\", \"y\": [199.0], \"yaxis\": \"y\", \"type\": \"scatter\"}], \"name\": \"115677253\"}, {\"data\": [{\"hovertemplate\": \"Recording timestamp=115685580<br>Gaze point X=%{x}<br>Gaze point Y=%{y}<extra></extra>\", \"legendgroup\": \"\", \"marker\": {\"color\": \"#636efa\", \"symbol\": \"circle\"}, \"mode\": \"markers\", \"name\": \"\", \"orientation\": \"v\", \"showlegend\": false, \"x\": [1358.0], \"xaxis\": \"x\", \"y\": [201.0], \"yaxis\": \"y\", \"type\": \"scatter\"}], \"name\": \"115685580\"}, {\"data\": [{\"hovertemplate\": \"Recording timestamp=115693913<br>Gaze point X=%{x}<br>Gaze point Y=%{y}<extra></extra>\", \"legendgroup\": \"\", \"marker\": {\"color\": \"#636efa\", \"symbol\": \"circle\"}, \"mode\": \"markers\", \"name\": \"\", \"orientation\": \"v\", \"showlegend\": false, \"x\": [1242.0], \"xaxis\": \"x\", \"y\": [43.0], \"yaxis\": \"y\", \"type\": \"scatter\"}], \"name\": \"115693913\"}, {\"data\": [{\"hovertemplate\": \"Recording timestamp=115702243<br>Gaze point X=%{x}<br>Gaze point Y=%{y}<extra></extra>\", \"legendgroup\": \"\", \"marker\": {\"color\": \"#636efa\", \"symbol\": \"circle\"}, \"mode\": \"markers\", \"name\": \"\", \"orientation\": \"v\", \"showlegend\": false, \"x\": [1369.0], \"xaxis\": \"x\", \"y\": [236.0], \"yaxis\": \"y\", \"type\": \"scatter\"}], \"name\": \"115702243\"}, {\"data\": [{\"hovertemplate\": \"Recording timestamp=115710582<br>Gaze point X=%{x}<br>Gaze point Y=%{y}<extra></extra>\", \"legendgroup\": \"\", \"marker\": {\"color\": \"#636efa\", \"symbol\": \"circle\"}, \"mode\": \"markers\", \"name\": \"\", \"orientation\": \"v\", \"showlegend\": false, \"x\": [1364.0], \"xaxis\": \"x\", \"y\": [214.0], \"yaxis\": \"y\", \"type\": \"scatter\"}], \"name\": \"115710582\"}, {\"data\": [{\"hovertemplate\": \"Recording timestamp=115718912<br>Gaze point X=%{x}<br>Gaze point Y=%{y}<extra></extra>\", \"legendgroup\": \"\", \"marker\": {\"color\": \"#636efa\", \"symbol\": \"circle\"}, \"mode\": \"markers\", \"name\": \"\", \"orientation\": \"v\", \"showlegend\": false, \"x\": [1359.0], \"xaxis\": \"x\", \"y\": [245.0], \"yaxis\": \"y\", \"type\": \"scatter\"}], \"name\": \"115718912\"}, {\"data\": [{\"hovertemplate\": \"Recording timestamp=115727246<br>Gaze point X=%{x}<br>Gaze point Y=%{y}<extra></extra>\", \"legendgroup\": \"\", \"marker\": {\"color\": \"#636efa\", \"symbol\": \"circle\"}, \"mode\": \"markers\", \"name\": \"\", \"orientation\": \"v\", \"showlegend\": false, \"x\": [null], \"xaxis\": \"x\", \"y\": [null], \"yaxis\": \"y\", \"type\": \"scatter\"}], \"name\": \"115727246\"}, {\"data\": [{\"hovertemplate\": \"Recording timestamp=115735577<br>Gaze point X=%{x}<br>Gaze point Y=%{y}<extra></extra>\", \"legendgroup\": \"\", \"marker\": {\"color\": \"#636efa\", \"symbol\": \"circle\"}, \"mode\": \"markers\", \"name\": \"\", \"orientation\": \"v\", \"showlegend\": false, \"x\": [null], \"xaxis\": \"x\", \"y\": [null], \"yaxis\": \"y\", \"type\": \"scatter\"}], \"name\": \"115735577\"}, {\"data\": [{\"hovertemplate\": \"Recording timestamp=115743907<br>Gaze point X=%{x}<br>Gaze point Y=%{y}<extra></extra>\", \"legendgroup\": \"\", \"marker\": {\"color\": \"#636efa\", \"symbol\": \"circle\"}, \"mode\": \"markers\", \"name\": \"\", \"orientation\": \"v\", \"showlegend\": false, \"x\": [1363.0], \"xaxis\": \"x\", \"y\": [254.0], \"yaxis\": \"y\", \"type\": \"scatter\"}], \"name\": \"115743907\"}, {\"data\": [{\"hovertemplate\": \"Recording timestamp=115752241<br>Gaze point X=%{x}<br>Gaze point Y=%{y}<extra></extra>\", \"legendgroup\": \"\", \"marker\": {\"color\": \"#636efa\", \"symbol\": \"circle\"}, \"mode\": \"markers\", \"name\": \"\", \"orientation\": \"v\", \"showlegend\": false, \"x\": [1325.0], \"xaxis\": \"x\", \"y\": [288.0], \"yaxis\": \"y\", \"type\": \"scatter\"}], \"name\": \"115752241\"}, {\"data\": [{\"hovertemplate\": \"Recording timestamp=115760573<br>Gaze point X=%{x}<br>Gaze point Y=%{y}<extra></extra>\", \"legendgroup\": \"\", \"marker\": {\"color\": \"#636efa\", \"symbol\": \"circle\"}, \"mode\": \"markers\", \"name\": \"\", \"orientation\": \"v\", \"showlegend\": false, \"x\": [null], \"xaxis\": \"x\", \"y\": [null], \"yaxis\": \"y\", \"type\": \"scatter\"}], \"name\": \"115760573\"}, {\"data\": [{\"hovertemplate\": \"Recording timestamp=115768900<br>Gaze point X=%{x}<br>Gaze point Y=%{y}<extra></extra>\", \"legendgroup\": \"\", \"marker\": {\"color\": \"#636efa\", \"symbol\": \"circle\"}, \"mode\": \"markers\", \"name\": \"\", \"orientation\": \"v\", \"showlegend\": false, \"x\": [1395.0], \"xaxis\": \"x\", \"y\": [213.0], \"yaxis\": \"y\", \"type\": \"scatter\"}], \"name\": \"115768900\"}, {\"data\": [{\"hovertemplate\": \"Recording timestamp=115777233<br>Gaze point X=%{x}<br>Gaze point Y=%{y}<extra></extra>\", \"legendgroup\": \"\", \"marker\": {\"color\": \"#636efa\", \"symbol\": \"circle\"}, \"mode\": \"markers\", \"name\": \"\", \"orientation\": \"v\", \"showlegend\": false, \"x\": [null], \"xaxis\": \"x\", \"y\": [null], \"yaxis\": \"y\", \"type\": \"scatter\"}], \"name\": \"115777233\"}, {\"data\": [{\"hovertemplate\": \"Recording timestamp=115785571<br>Gaze point X=%{x}<br>Gaze point Y=%{y}<extra></extra>\", \"legendgroup\": \"\", \"marker\": {\"color\": \"#636efa\", \"symbol\": \"circle\"}, \"mode\": \"markers\", \"name\": \"\", \"orientation\": \"v\", \"showlegend\": false, \"x\": [1303.0], \"xaxis\": \"x\", \"y\": [300.0], \"yaxis\": \"y\", \"type\": \"scatter\"}], \"name\": \"115785571\"}, {\"data\": [{\"hovertemplate\": \"Recording timestamp=115793905<br>Gaze point X=%{x}<br>Gaze point Y=%{y}<extra></extra>\", \"legendgroup\": \"\", \"marker\": {\"color\": \"#636efa\", \"symbol\": \"circle\"}, \"mode\": \"markers\", \"name\": \"\", \"orientation\": \"v\", \"showlegend\": false, \"x\": [1364.0], \"xaxis\": \"x\", \"y\": [265.0], \"yaxis\": \"y\", \"type\": \"scatter\"}], \"name\": \"115793905\"}, {\"data\": [{\"hovertemplate\": \"Recording timestamp=115802253<br>Gaze point X=%{x}<br>Gaze point Y=%{y}<extra></extra>\", \"legendgroup\": \"\", \"marker\": {\"color\": \"#636efa\", \"symbol\": \"circle\"}, \"mode\": \"markers\", \"name\": \"\", \"orientation\": \"v\", \"showlegend\": false, \"x\": [null], \"xaxis\": \"x\", \"y\": [null], \"yaxis\": \"y\", \"type\": \"scatter\"}], \"name\": \"115802253\"}, {\"data\": [{\"hovertemplate\": \"Recording timestamp=115810626<br>Gaze point X=%{x}<br>Gaze point Y=%{y}<extra></extra>\", \"legendgroup\": \"\", \"marker\": {\"color\": \"#636efa\", \"symbol\": \"circle\"}, \"mode\": \"markers\", \"name\": \"\", \"orientation\": \"v\", \"showlegend\": false, \"x\": [1409.0], \"xaxis\": \"x\", \"y\": [278.0], \"yaxis\": \"y\", \"type\": \"scatter\"}], \"name\": \"115810626\"}, {\"data\": [{\"hovertemplate\": \"Recording timestamp=115818963<br>Gaze point X=%{x}<br>Gaze point Y=%{y}<extra></extra>\", \"legendgroup\": \"\", \"marker\": {\"color\": \"#636efa\", \"symbol\": \"circle\"}, \"mode\": \"markers\", \"name\": \"\", \"orientation\": \"v\", \"showlegend\": false, \"x\": [1369.0], \"xaxis\": \"x\", \"y\": [202.0], \"yaxis\": \"y\", \"type\": \"scatter\"}], \"name\": \"115818963\"}, {\"data\": [{\"hovertemplate\": \"Recording timestamp=115827269<br>Gaze point X=%{x}<br>Gaze point Y=%{y}<extra></extra>\", \"legendgroup\": \"\", \"marker\": {\"color\": \"#636efa\", \"symbol\": \"circle\"}, \"mode\": \"markers\", \"name\": \"\", \"orientation\": \"v\", \"showlegend\": false, \"x\": [1373.0], \"xaxis\": \"x\", \"y\": [264.0], \"yaxis\": \"y\", \"type\": \"scatter\"}], \"name\": \"115827269\"}, {\"data\": [{\"hovertemplate\": \"Recording timestamp=115835569<br>Gaze point X=%{x}<br>Gaze point Y=%{y}<extra></extra>\", \"legendgroup\": \"\", \"marker\": {\"color\": \"#636efa\", \"symbol\": \"circle\"}, \"mode\": \"markers\", \"name\": \"\", \"orientation\": \"v\", \"showlegend\": false, \"x\": [1339.0], \"xaxis\": \"x\", \"y\": [148.0], \"yaxis\": \"y\", \"type\": \"scatter\"}], \"name\": \"115835569\"}, {\"data\": [{\"hovertemplate\": \"Recording timestamp=115843962<br>Gaze point X=%{x}<br>Gaze point Y=%{y}<extra></extra>\", \"legendgroup\": \"\", \"marker\": {\"color\": \"#636efa\", \"symbol\": \"circle\"}, \"mode\": \"markers\", \"name\": \"\", \"orientation\": \"v\", \"showlegend\": false, \"x\": [1414.0], \"xaxis\": \"x\", \"y\": [171.0], \"yaxis\": \"y\", \"type\": \"scatter\"}], \"name\": \"115843962\"}, {\"data\": [{\"hovertemplate\": \"Recording timestamp=115852295<br>Gaze point X=%{x}<br>Gaze point Y=%{y}<extra></extra>\", \"legendgroup\": \"\", \"marker\": {\"color\": \"#636efa\", \"symbol\": \"circle\"}, \"mode\": \"markers\", \"name\": \"\", \"orientation\": \"v\", \"showlegend\": false, \"x\": [1336.0], \"xaxis\": \"x\", \"y\": [227.0], \"yaxis\": \"y\", \"type\": \"scatter\"}], \"name\": \"115852295\"}, {\"data\": [{\"hovertemplate\": \"Recording timestamp=115860565<br>Gaze point X=%{x}<br>Gaze point Y=%{y}<extra></extra>\", \"legendgroup\": \"\", \"marker\": {\"color\": \"#636efa\", \"symbol\": \"circle\"}, \"mode\": \"markers\", \"name\": \"\", \"orientation\": \"v\", \"showlegend\": false, \"x\": [1454.0], \"xaxis\": \"x\", \"y\": [126.0], \"yaxis\": \"y\", \"type\": \"scatter\"}], \"name\": \"115860565\"}, {\"data\": [{\"hovertemplate\": \"Recording timestamp=115868898<br>Gaze point X=%{x}<br>Gaze point Y=%{y}<extra></extra>\", \"legendgroup\": \"\", \"marker\": {\"color\": \"#636efa\", \"symbol\": \"circle\"}, \"mode\": \"markers\", \"name\": \"\", \"orientation\": \"v\", \"showlegend\": false, \"x\": [1396.0], \"xaxis\": \"x\", \"y\": [167.0], \"yaxis\": \"y\", \"type\": \"scatter\"}], \"name\": \"115868898\"}, {\"data\": [{\"hovertemplate\": \"Recording timestamp=115877233<br>Gaze point X=%{x}<br>Gaze point Y=%{y}<extra></extra>\", \"legendgroup\": \"\", \"marker\": {\"color\": \"#636efa\", \"symbol\": \"circle\"}, \"mode\": \"markers\", \"name\": \"\", \"orientation\": \"v\", \"showlegend\": false, \"x\": [null], \"xaxis\": \"x\", \"y\": [null], \"yaxis\": \"y\", \"type\": \"scatter\"}], \"name\": \"115877233\"}, {\"data\": [{\"hovertemplate\": \"Recording timestamp=115885563<br>Gaze point X=%{x}<br>Gaze point Y=%{y}<extra></extra>\", \"legendgroup\": \"\", \"marker\": {\"color\": \"#636efa\", \"symbol\": \"circle\"}, \"mode\": \"markers\", \"name\": \"\", \"orientation\": \"v\", \"showlegend\": false, \"x\": [1353.0], \"xaxis\": \"x\", \"y\": [147.0], \"yaxis\": \"y\", \"type\": \"scatter\"}], \"name\": \"115885563\"}, {\"data\": [{\"hovertemplate\": \"Recording timestamp=115893901<br>Gaze point X=%{x}<br>Gaze point Y=%{y}<extra></extra>\", \"legendgroup\": \"\", \"marker\": {\"color\": \"#636efa\", \"symbol\": \"circle\"}, \"mode\": \"markers\", \"name\": \"\", \"orientation\": \"v\", \"showlegend\": false, \"x\": [1303.0], \"xaxis\": \"x\", \"y\": [217.0], \"yaxis\": \"y\", \"type\": \"scatter\"}], \"name\": \"115893901\"}, {\"data\": [{\"hovertemplate\": \"Recording timestamp=115902231<br>Gaze point X=%{x}<br>Gaze point Y=%{y}<extra></extra>\", \"legendgroup\": \"\", \"marker\": {\"color\": \"#636efa\", \"symbol\": \"circle\"}, \"mode\": \"markers\", \"name\": \"\", \"orientation\": \"v\", \"showlegend\": false, \"x\": [null], \"xaxis\": \"x\", \"y\": [null], \"yaxis\": \"y\", \"type\": \"scatter\"}], \"name\": \"115902231\"}, {\"data\": [{\"hovertemplate\": \"Recording timestamp=115910567<br>Gaze point X=%{x}<br>Gaze point Y=%{y}<extra></extra>\", \"legendgroup\": \"\", \"marker\": {\"color\": \"#636efa\", \"symbol\": \"circle\"}, \"mode\": \"markers\", \"name\": \"\", \"orientation\": \"v\", \"showlegend\": false, \"x\": [1334.0], \"xaxis\": \"x\", \"y\": [214.0], \"yaxis\": \"y\", \"type\": \"scatter\"}], \"name\": \"115910567\"}, {\"data\": [{\"hovertemplate\": \"Recording timestamp=115918894<br>Gaze point X=%{x}<br>Gaze point Y=%{y}<extra></extra>\", \"legendgroup\": \"\", \"marker\": {\"color\": \"#636efa\", \"symbol\": \"circle\"}, \"mode\": \"markers\", \"name\": \"\", \"orientation\": \"v\", \"showlegend\": false, \"x\": [1350.0], \"xaxis\": \"x\", \"y\": [193.0], \"yaxis\": \"y\", \"type\": \"scatter\"}], \"name\": \"115918894\"}, {\"data\": [{\"hovertemplate\": \"Recording timestamp=115927260<br>Gaze point X=%{x}<br>Gaze point Y=%{y}<extra></extra>\", \"legendgroup\": \"\", \"marker\": {\"color\": \"#636efa\", \"symbol\": \"circle\"}, \"mode\": \"markers\", \"name\": \"\", \"orientation\": \"v\", \"showlegend\": false, \"x\": [1397.0], \"xaxis\": \"x\", \"y\": [150.0], \"yaxis\": \"y\", \"type\": \"scatter\"}], \"name\": \"115927260\"}, {\"data\": [{\"hovertemplate\": \"Recording timestamp=115935555<br>Gaze point X=%{x}<br>Gaze point Y=%{y}<extra></extra>\", \"legendgroup\": \"\", \"marker\": {\"color\": \"#636efa\", \"symbol\": \"circle\"}, \"mode\": \"markers\", \"name\": \"\", \"orientation\": \"v\", \"showlegend\": false, \"x\": [1506.0], \"xaxis\": \"x\", \"y\": [111.0], \"yaxis\": \"y\", \"type\": \"scatter\"}], \"name\": \"115935555\"}, {\"data\": [{\"hovertemplate\": \"Recording timestamp=115943888<br>Gaze point X=%{x}<br>Gaze point Y=%{y}<extra></extra>\", \"legendgroup\": \"\", \"marker\": {\"color\": \"#636efa\", \"symbol\": \"circle\"}, \"mode\": \"markers\", \"name\": \"\", \"orientation\": \"v\", \"showlegend\": false, \"x\": [1392.0], \"xaxis\": \"x\", \"y\": [232.0], \"yaxis\": \"y\", \"type\": \"scatter\"}], \"name\": \"115943888\"}, {\"data\": [{\"hovertemplate\": \"Recording timestamp=115952220<br>Gaze point X=%{x}<br>Gaze point Y=%{y}<extra></extra>\", \"legendgroup\": \"\", \"marker\": {\"color\": \"#636efa\", \"symbol\": \"circle\"}, \"mode\": \"markers\", \"name\": \"\", \"orientation\": \"v\", \"showlegend\": false, \"x\": [1395.0], \"xaxis\": \"x\", \"y\": [173.0], \"yaxis\": \"y\", \"type\": \"scatter\"}], \"name\": \"115952220\"}, {\"data\": [{\"hovertemplate\": \"Recording timestamp=115960553<br>Gaze point X=%{x}<br>Gaze point Y=%{y}<extra></extra>\", \"legendgroup\": \"\", \"marker\": {\"color\": \"#636efa\", \"symbol\": \"circle\"}, \"mode\": \"markers\", \"name\": \"\", \"orientation\": \"v\", \"showlegend\": false, \"x\": [1356.0], \"xaxis\": \"x\", \"y\": [258.0], \"yaxis\": \"y\", \"type\": \"scatter\"}], \"name\": \"115960553\"}, {\"data\": [{\"hovertemplate\": \"Recording timestamp=115968889<br>Gaze point X=%{x}<br>Gaze point Y=%{y}<extra></extra>\", \"legendgroup\": \"\", \"marker\": {\"color\": \"#636efa\", \"symbol\": \"circle\"}, \"mode\": \"markers\", \"name\": \"\", \"orientation\": \"v\", \"showlegend\": false, \"x\": [1365.0], \"xaxis\": \"x\", \"y\": [233.0], \"yaxis\": \"y\", \"type\": \"scatter\"}], \"name\": \"115968889\"}, {\"data\": [{\"hovertemplate\": \"Recording timestamp=115977219<br>Gaze point X=%{x}<br>Gaze point Y=%{y}<extra></extra>\", \"legendgroup\": \"\", \"marker\": {\"color\": \"#636efa\", \"symbol\": \"circle\"}, \"mode\": \"markers\", \"name\": \"\", \"orientation\": \"v\", \"showlegend\": false, \"x\": [1424.0], \"xaxis\": \"x\", \"y\": [252.0], \"yaxis\": \"y\", \"type\": \"scatter\"}], \"name\": \"115977219\"}, {\"data\": [{\"hovertemplate\": \"Recording timestamp=115985556<br>Gaze point X=%{x}<br>Gaze point Y=%{y}<extra></extra>\", \"legendgroup\": \"\", \"marker\": {\"color\": \"#636efa\", \"symbol\": \"circle\"}, \"mode\": \"markers\", \"name\": \"\", \"orientation\": \"v\", \"showlegend\": false, \"x\": [1468.0], \"xaxis\": \"x\", \"y\": [175.0], \"yaxis\": \"y\", \"type\": \"scatter\"}], \"name\": \"115985556\"}, {\"data\": [{\"hovertemplate\": \"Recording timestamp=115993918<br>Gaze point X=%{x}<br>Gaze point Y=%{y}<extra></extra>\", \"legendgroup\": \"\", \"marker\": {\"color\": \"#636efa\", \"symbol\": \"circle\"}, \"mode\": \"markers\", \"name\": \"\", \"orientation\": \"v\", \"showlegend\": false, \"x\": [1360.0], \"xaxis\": \"x\", \"y\": [246.0], \"yaxis\": \"y\", \"type\": \"scatter\"}], \"name\": \"115993918\"}, {\"data\": [{\"hovertemplate\": \"Recording timestamp=116002214<br>Gaze point X=%{x}<br>Gaze point Y=%{y}<extra></extra>\", \"legendgroup\": \"\", \"marker\": {\"color\": \"#636efa\", \"symbol\": \"circle\"}, \"mode\": \"markers\", \"name\": \"\", \"orientation\": \"v\", \"showlegend\": false, \"x\": [1299.0], \"xaxis\": \"x\", \"y\": [301.0], \"yaxis\": \"y\", \"type\": \"scatter\"}], \"name\": \"116002214\"}, {\"data\": [{\"hovertemplate\": \"Recording timestamp=116010549<br>Gaze point X=%{x}<br>Gaze point Y=%{y}<extra></extra>\", \"legendgroup\": \"\", \"marker\": {\"color\": \"#636efa\", \"symbol\": \"circle\"}, \"mode\": \"markers\", \"name\": \"\", \"orientation\": \"v\", \"showlegend\": false, \"x\": [1289.0], \"xaxis\": \"x\", \"y\": [334.0], \"yaxis\": \"y\", \"type\": \"scatter\"}], \"name\": \"116010549\"}, {\"data\": [{\"hovertemplate\": \"Recording timestamp=116018883<br>Gaze point X=%{x}<br>Gaze point Y=%{y}<extra></extra>\", \"legendgroup\": \"\", \"marker\": {\"color\": \"#636efa\", \"symbol\": \"circle\"}, \"mode\": \"markers\", \"name\": \"\", \"orientation\": \"v\", \"showlegend\": false, \"x\": [1444.0], \"xaxis\": \"x\", \"y\": [179.0], \"yaxis\": \"y\", \"type\": \"scatter\"}], \"name\": \"116018883\"}, {\"data\": [{\"hovertemplate\": \"Recording timestamp=116027217<br>Gaze point X=%{x}<br>Gaze point Y=%{y}<extra></extra>\", \"legendgroup\": \"\", \"marker\": {\"color\": \"#636efa\", \"symbol\": \"circle\"}, \"mode\": \"markers\", \"name\": \"\", \"orientation\": \"v\", \"showlegend\": false, \"x\": [1441.0], \"xaxis\": \"x\", \"y\": [210.0], \"yaxis\": \"y\", \"type\": \"scatter\"}], \"name\": \"116027217\"}, {\"data\": [{\"hovertemplate\": \"Recording timestamp=116035585<br>Gaze point X=%{x}<br>Gaze point Y=%{y}<extra></extra>\", \"legendgroup\": \"\", \"marker\": {\"color\": \"#636efa\", \"symbol\": \"circle\"}, \"mode\": \"markers\", \"name\": \"\", \"orientation\": \"v\", \"showlegend\": false, \"x\": [1412.0], \"xaxis\": \"x\", \"y\": [154.0], \"yaxis\": \"y\", \"type\": \"scatter\"}], \"name\": \"116035585\"}, {\"data\": [{\"hovertemplate\": \"Recording timestamp=116043884<br>Gaze point X=%{x}<br>Gaze point Y=%{y}<extra></extra>\", \"legendgroup\": \"\", \"marker\": {\"color\": \"#636efa\", \"symbol\": \"circle\"}, \"mode\": \"markers\", \"name\": \"\", \"orientation\": \"v\", \"showlegend\": false, \"x\": [1363.0], \"xaxis\": \"x\", \"y\": [288.0], \"yaxis\": \"y\", \"type\": \"scatter\"}], \"name\": \"116043884\"}, {\"data\": [{\"hovertemplate\": \"Recording timestamp=116052217<br>Gaze point X=%{x}<br>Gaze point Y=%{y}<extra></extra>\", \"legendgroup\": \"\", \"marker\": {\"color\": \"#636efa\", \"symbol\": \"circle\"}, \"mode\": \"markers\", \"name\": \"\", \"orientation\": \"v\", \"showlegend\": false, \"x\": [1331.0], \"xaxis\": \"x\", \"y\": [241.0], \"yaxis\": \"y\", \"type\": \"scatter\"}], \"name\": \"116052217\"}, {\"data\": [{\"hovertemplate\": \"Recording timestamp=116060549<br>Gaze point X=%{x}<br>Gaze point Y=%{y}<extra></extra>\", \"legendgroup\": \"\", \"marker\": {\"color\": \"#636efa\", \"symbol\": \"circle\"}, \"mode\": \"markers\", \"name\": \"\", \"orientation\": \"v\", \"showlegend\": false, \"x\": [1418.0], \"xaxis\": \"x\", \"y\": [216.0], \"yaxis\": \"y\", \"type\": \"scatter\"}], \"name\": \"116060549\"}, {\"data\": [{\"hovertemplate\": \"Recording timestamp=116068940<br>Gaze point X=%{x}<br>Gaze point Y=%{y}<extra></extra>\", \"legendgroup\": \"\", \"marker\": {\"color\": \"#636efa\", \"symbol\": \"circle\"}, \"mode\": \"markers\", \"name\": \"\", \"orientation\": \"v\", \"showlegend\": false, \"x\": [1374.0], \"xaxis\": \"x\", \"y\": [304.0], \"yaxis\": \"y\", \"type\": \"scatter\"}], \"name\": \"116068940\"}, {\"data\": [{\"hovertemplate\": \"Recording timestamp=116077216<br>Gaze point X=%{x}<br>Gaze point Y=%{y}<extra></extra>\", \"legendgroup\": \"\", \"marker\": {\"color\": \"#636efa\", \"symbol\": \"circle\"}, \"mode\": \"markers\", \"name\": \"\", \"orientation\": \"v\", \"showlegend\": false, \"x\": [null], \"xaxis\": \"x\", \"y\": [null], \"yaxis\": \"y\", \"type\": \"scatter\"}], \"name\": \"116077216\"}, {\"data\": [{\"hovertemplate\": \"Recording timestamp=116085547<br>Gaze point X=%{x}<br>Gaze point Y=%{y}<extra></extra>\", \"legendgroup\": \"\", \"marker\": {\"color\": \"#636efa\", \"symbol\": \"circle\"}, \"mode\": \"markers\", \"name\": \"\", \"orientation\": \"v\", \"showlegend\": false, \"x\": [1371.0], \"xaxis\": \"x\", \"y\": [162.0], \"yaxis\": \"y\", \"type\": \"scatter\"}], \"name\": \"116085547\"}, {\"data\": [{\"hovertemplate\": \"Recording timestamp=116093884<br>Gaze point X=%{x}<br>Gaze point Y=%{y}<extra></extra>\", \"legendgroup\": \"\", \"marker\": {\"color\": \"#636efa\", \"symbol\": \"circle\"}, \"mode\": \"markers\", \"name\": \"\", \"orientation\": \"v\", \"showlegend\": false, \"x\": [1384.0], \"xaxis\": \"x\", \"y\": [244.0], \"yaxis\": \"y\", \"type\": \"scatter\"}], \"name\": \"116093884\"}, {\"data\": [{\"hovertemplate\": \"Recording timestamp=116102215<br>Gaze point X=%{x}<br>Gaze point Y=%{y}<extra></extra>\", \"legendgroup\": \"\", \"marker\": {\"color\": \"#636efa\", \"symbol\": \"circle\"}, \"mode\": \"markers\", \"name\": \"\", \"orientation\": \"v\", \"showlegend\": false, \"x\": [1307.0], \"xaxis\": \"x\", \"y\": [258.0], \"yaxis\": \"y\", \"type\": \"scatter\"}], \"name\": \"116102215\"}, {\"data\": [{\"hovertemplate\": \"Recording timestamp=116110547<br>Gaze point X=%{x}<br>Gaze point Y=%{y}<extra></extra>\", \"legendgroup\": \"\", \"marker\": {\"color\": \"#636efa\", \"symbol\": \"circle\"}, \"mode\": \"markers\", \"name\": \"\", \"orientation\": \"v\", \"showlegend\": false, \"x\": [1378.0], \"xaxis\": \"x\", \"y\": [241.0], \"yaxis\": \"y\", \"type\": \"scatter\"}], \"name\": \"116110547\"}, {\"data\": [{\"hovertemplate\": \"Recording timestamp=116118935<br>Gaze point X=%{x}<br>Gaze point Y=%{y}<extra></extra>\", \"legendgroup\": \"\", \"marker\": {\"color\": \"#636efa\", \"symbol\": \"circle\"}, \"mode\": \"markers\", \"name\": \"\", \"orientation\": \"v\", \"showlegend\": false, \"x\": [1344.0], \"xaxis\": \"x\", \"y\": [331.0], \"yaxis\": \"y\", \"type\": \"scatter\"}], \"name\": \"116118935\"}, {\"data\": [{\"hovertemplate\": \"Recording timestamp=116127212<br>Gaze point X=%{x}<br>Gaze point Y=%{y}<extra></extra>\", \"legendgroup\": \"\", \"marker\": {\"color\": \"#636efa\", \"symbol\": \"circle\"}, \"mode\": \"markers\", \"name\": \"\", \"orientation\": \"v\", \"showlegend\": false, \"x\": [1302.0], \"xaxis\": \"x\", \"y\": [403.0], \"yaxis\": \"y\", \"type\": \"scatter\"}], \"name\": \"116127212\"}, {\"data\": [{\"hovertemplate\": \"Recording timestamp=116135543<br>Gaze point X=%{x}<br>Gaze point Y=%{y}<extra></extra>\", \"legendgroup\": \"\", \"marker\": {\"color\": \"#636efa\", \"symbol\": \"circle\"}, \"mode\": \"markers\", \"name\": \"\", \"orientation\": \"v\", \"showlegend\": false, \"x\": [1308.0], \"xaxis\": \"x\", \"y\": [282.0], \"yaxis\": \"y\", \"type\": \"scatter\"}], \"name\": \"116135543\"}, {\"data\": [{\"hovertemplate\": \"Recording timestamp=116143867<br>Gaze point X=%{x}<br>Gaze point Y=%{y}<extra></extra>\", \"legendgroup\": \"\", \"marker\": {\"color\": \"#636efa\", \"symbol\": \"circle\"}, \"mode\": \"markers\", \"name\": \"\", \"orientation\": \"v\", \"showlegend\": false, \"x\": [1311.0], \"xaxis\": \"x\", \"y\": [274.0], \"yaxis\": \"y\", \"type\": \"scatter\"}], \"name\": \"116143867\"}, {\"data\": [{\"hovertemplate\": \"Recording timestamp=116152261<br>Gaze point X=%{x}<br>Gaze point Y=%{y}<extra></extra>\", \"legendgroup\": \"\", \"marker\": {\"color\": \"#636efa\", \"symbol\": \"circle\"}, \"mode\": \"markers\", \"name\": \"\", \"orientation\": \"v\", \"showlegend\": false, \"x\": [1335.0], \"xaxis\": \"x\", \"y\": [269.0], \"yaxis\": \"y\", \"type\": \"scatter\"}], \"name\": \"116152261\"}, {\"data\": [{\"hovertemplate\": \"Recording timestamp=116160536<br>Gaze point X=%{x}<br>Gaze point Y=%{y}<extra></extra>\", \"legendgroup\": \"\", \"marker\": {\"color\": \"#636efa\", \"symbol\": \"circle\"}, \"mode\": \"markers\", \"name\": \"\", \"orientation\": \"v\", \"showlegend\": false, \"x\": [1346.0], \"xaxis\": \"x\", \"y\": [381.0], \"yaxis\": \"y\", \"type\": \"scatter\"}], \"name\": \"116160536\"}, {\"data\": [{\"hovertemplate\": \"Recording timestamp=116168870<br>Gaze point X=%{x}<br>Gaze point Y=%{y}<extra></extra>\", \"legendgroup\": \"\", \"marker\": {\"color\": \"#636efa\", \"symbol\": \"circle\"}, \"mode\": \"markers\", \"name\": \"\", \"orientation\": \"v\", \"showlegend\": false, \"x\": [1374.0], \"xaxis\": \"x\", \"y\": [419.0], \"yaxis\": \"y\", \"type\": \"scatter\"}], \"name\": \"116168870\"}, {\"data\": [{\"hovertemplate\": \"Recording timestamp=116177211<br>Gaze point X=%{x}<br>Gaze point Y=%{y}<extra></extra>\", \"legendgroup\": \"\", \"marker\": {\"color\": \"#636efa\", \"symbol\": \"circle\"}, \"mode\": \"markers\", \"name\": \"\", \"orientation\": \"v\", \"showlegend\": false, \"x\": [null], \"xaxis\": \"x\", \"y\": [null], \"yaxis\": \"y\", \"type\": \"scatter\"}], \"name\": \"116177211\"}, {\"data\": [{\"hovertemplate\": \"Recording timestamp=116185534<br>Gaze point X=%{x}<br>Gaze point Y=%{y}<extra></extra>\", \"legendgroup\": \"\", \"marker\": {\"color\": \"#636efa\", \"symbol\": \"circle\"}, \"mode\": \"markers\", \"name\": \"\", \"orientation\": \"v\", \"showlegend\": false, \"x\": [1301.0], \"xaxis\": \"x\", \"y\": [428.0], \"yaxis\": \"y\", \"type\": \"scatter\"}], \"name\": \"116185534\"}, {\"data\": [{\"hovertemplate\": \"Recording timestamp=116193866<br>Gaze point X=%{x}<br>Gaze point Y=%{y}<extra></extra>\", \"legendgroup\": \"\", \"marker\": {\"color\": \"#636efa\", \"symbol\": \"circle\"}, \"mode\": \"markers\", \"name\": \"\", \"orientation\": \"v\", \"showlegend\": false, \"x\": [1375.0], \"xaxis\": \"x\", \"y\": [294.0], \"yaxis\": \"y\", \"type\": \"scatter\"}], \"name\": \"116193866\"}, {\"data\": [{\"hovertemplate\": \"Recording timestamp=116202273<br>Gaze point X=%{x}<br>Gaze point Y=%{y}<extra></extra>\", \"legendgroup\": \"\", \"marker\": {\"color\": \"#636efa\", \"symbol\": \"circle\"}, \"mode\": \"markers\", \"name\": \"\", \"orientation\": \"v\", \"showlegend\": false, \"x\": [1398.0], \"xaxis\": \"x\", \"y\": [138.0], \"yaxis\": \"y\", \"type\": \"scatter\"}], \"name\": \"116202273\"}, {\"data\": [{\"hovertemplate\": \"Recording timestamp=116210527<br>Gaze point X=%{x}<br>Gaze point Y=%{y}<extra></extra>\", \"legendgroup\": \"\", \"marker\": {\"color\": \"#636efa\", \"symbol\": \"circle\"}, \"mode\": \"markers\", \"name\": \"\", \"orientation\": \"v\", \"showlegend\": false, \"x\": [1398.0], \"xaxis\": \"x\", \"y\": [138.0], \"yaxis\": \"y\", \"type\": \"scatter\"}], \"name\": \"116210527\"}, {\"data\": [{\"hovertemplate\": \"Recording timestamp=116218957<br>Gaze point X=%{x}<br>Gaze point Y=%{y}<extra></extra>\", \"legendgroup\": \"\", \"marker\": {\"color\": \"#636efa\", \"symbol\": \"circle\"}, \"mode\": \"markers\", \"name\": \"\", \"orientation\": \"v\", \"showlegend\": false, \"x\": [1277.0], \"xaxis\": \"x\", \"y\": [377.0], \"yaxis\": \"y\", \"type\": \"scatter\"}], \"name\": \"116218957\"}, {\"data\": [{\"hovertemplate\": \"Recording timestamp=116227197<br>Gaze point X=%{x}<br>Gaze point Y=%{y}<extra></extra>\", \"legendgroup\": \"\", \"marker\": {\"color\": \"#636efa\", \"symbol\": \"circle\"}, \"mode\": \"markers\", \"name\": \"\", \"orientation\": \"v\", \"showlegend\": false, \"x\": [null], \"xaxis\": \"x\", \"y\": [null], \"yaxis\": \"y\", \"type\": \"scatter\"}], \"name\": \"116227197\"}, {\"data\": [{\"hovertemplate\": \"Recording timestamp=116235526<br>Gaze point X=%{x}<br>Gaze point Y=%{y}<extra></extra>\", \"legendgroup\": \"\", \"marker\": {\"color\": \"#636efa\", \"symbol\": \"circle\"}, \"mode\": \"markers\", \"name\": \"\", \"orientation\": \"v\", \"showlegend\": false, \"x\": [1387.0], \"xaxis\": \"x\", \"y\": [345.0], \"yaxis\": \"y\", \"type\": \"scatter\"}], \"name\": \"116235526\"}, {\"data\": [{\"hovertemplate\": \"Recording timestamp=116243903<br>Gaze point X=%{x}<br>Gaze point Y=%{y}<extra></extra>\", \"legendgroup\": \"\", \"marker\": {\"color\": \"#636efa\", \"symbol\": \"circle\"}, \"mode\": \"markers\", \"name\": \"\", \"orientation\": \"v\", \"showlegend\": false, \"x\": [1347.0], \"xaxis\": \"x\", \"y\": [485.0], \"yaxis\": \"y\", \"type\": \"scatter\"}], \"name\": \"116243903\"}, {\"data\": [{\"hovertemplate\": \"Recording timestamp=116252201<br>Gaze point X=%{x}<br>Gaze point Y=%{y}<extra></extra>\", \"legendgroup\": \"\", \"marker\": {\"color\": \"#636efa\", \"symbol\": \"circle\"}, \"mode\": \"markers\", \"name\": \"\", \"orientation\": \"v\", \"showlegend\": false, \"x\": [null], \"xaxis\": \"x\", \"y\": [null], \"yaxis\": \"y\", \"type\": \"scatter\"}], \"name\": \"116252201\"}, {\"data\": [{\"hovertemplate\": \"Recording timestamp=116260590<br>Gaze point X=%{x}<br>Gaze point Y=%{y}<extra></extra>\", \"legendgroup\": \"\", \"marker\": {\"color\": \"#636efa\", \"symbol\": \"circle\"}, \"mode\": \"markers\", \"name\": \"\", \"orientation\": \"v\", \"showlegend\": false, \"x\": [1223.0], \"xaxis\": \"x\", \"y\": [361.0], \"yaxis\": \"y\", \"type\": \"scatter\"}], \"name\": \"116260590\"}, {\"data\": [{\"hovertemplate\": \"Recording timestamp=116268927<br>Gaze point X=%{x}<br>Gaze point Y=%{y}<extra></extra>\", \"legendgroup\": \"\", \"marker\": {\"color\": \"#636efa\", \"symbol\": \"circle\"}, \"mode\": \"markers\", \"name\": \"\", \"orientation\": \"v\", \"showlegend\": false, \"x\": [1264.0], \"xaxis\": \"x\", \"y\": [395.0], \"yaxis\": \"y\", \"type\": \"scatter\"}], \"name\": \"116268927\"}, {\"data\": [{\"hovertemplate\": \"Recording timestamp=116277203<br>Gaze point X=%{x}<br>Gaze point Y=%{y}<extra></extra>\", \"legendgroup\": \"\", \"marker\": {\"color\": \"#636efa\", \"symbol\": \"circle\"}, \"mode\": \"markers\", \"name\": \"\", \"orientation\": \"v\", \"showlegend\": false, \"x\": [null], \"xaxis\": \"x\", \"y\": [null], \"yaxis\": \"y\", \"type\": \"scatter\"}], \"name\": \"116277203\"}, {\"data\": [{\"hovertemplate\": \"Recording timestamp=116285589<br>Gaze point X=%{x}<br>Gaze point Y=%{y}<extra></extra>\", \"legendgroup\": \"\", \"marker\": {\"color\": \"#636efa\", \"symbol\": \"circle\"}, \"mode\": \"markers\", \"name\": \"\", \"orientation\": \"v\", \"showlegend\": false, \"x\": [1369.0], \"xaxis\": \"x\", \"y\": [358.0], \"yaxis\": \"y\", \"type\": \"scatter\"}], \"name\": \"116285589\"}, {\"data\": [{\"hovertemplate\": \"Recording timestamp=116293868<br>Gaze point X=%{x}<br>Gaze point Y=%{y}<extra></extra>\", \"legendgroup\": \"\", \"marker\": {\"color\": \"#636efa\", \"symbol\": \"circle\"}, \"mode\": \"markers\", \"name\": \"\", \"orientation\": \"v\", \"showlegend\": false, \"x\": [1323.0], \"xaxis\": \"x\", \"y\": [408.0], \"yaxis\": \"y\", \"type\": \"scatter\"}], \"name\": \"116293868\"}, {\"data\": [{\"hovertemplate\": \"Recording timestamp=116302202<br>Gaze point X=%{x}<br>Gaze point Y=%{y}<extra></extra>\", \"legendgroup\": \"\", \"marker\": {\"color\": \"#636efa\", \"symbol\": \"circle\"}, \"mode\": \"markers\", \"name\": \"\", \"orientation\": \"v\", \"showlegend\": false, \"x\": [null], \"xaxis\": \"x\", \"y\": [null], \"yaxis\": \"y\", \"type\": \"scatter\"}], \"name\": \"116302202\"}, {\"data\": [{\"hovertemplate\": \"Recording timestamp=116310530<br>Gaze point X=%{x}<br>Gaze point Y=%{y}<extra></extra>\", \"legendgroup\": \"\", \"marker\": {\"color\": \"#636efa\", \"symbol\": \"circle\"}, \"mode\": \"markers\", \"name\": \"\", \"orientation\": \"v\", \"showlegend\": false, \"x\": [1309.0], \"xaxis\": \"x\", \"y\": [400.0], \"yaxis\": \"y\", \"type\": \"scatter\"}], \"name\": \"116310530\"}, {\"data\": [{\"hovertemplate\": \"Recording timestamp=116318922<br>Gaze point X=%{x}<br>Gaze point Y=%{y}<extra></extra>\", \"legendgroup\": \"\", \"marker\": {\"color\": \"#636efa\", \"symbol\": \"circle\"}, \"mode\": \"markers\", \"name\": \"\", \"orientation\": \"v\", \"showlegend\": false, \"x\": [1410.0], \"xaxis\": \"x\", \"y\": [267.0], \"yaxis\": \"y\", \"type\": \"scatter\"}], \"name\": \"116318922\"}, {\"data\": [{\"hovertemplate\": \"Recording timestamp=116327197<br>Gaze point X=%{x}<br>Gaze point Y=%{y}<extra></extra>\", \"legendgroup\": \"\", \"marker\": {\"color\": \"#636efa\", \"symbol\": \"circle\"}, \"mode\": \"markers\", \"name\": \"\", \"orientation\": \"v\", \"showlegend\": false, \"x\": [1321.0], \"xaxis\": \"x\", \"y\": [197.0], \"yaxis\": \"y\", \"type\": \"scatter\"}], \"name\": \"116327197\"}, {\"data\": [{\"hovertemplate\": \"Recording timestamp=116335531<br>Gaze point X=%{x}<br>Gaze point Y=%{y}<extra></extra>\", \"legendgroup\": \"\", \"marker\": {\"color\": \"#636efa\", \"symbol\": \"circle\"}, \"mode\": \"markers\", \"name\": \"\", \"orientation\": \"v\", \"showlegend\": false, \"x\": [1324.0], \"xaxis\": \"x\", \"y\": [211.0], \"yaxis\": \"y\", \"type\": \"scatter\"}], \"name\": \"116335531\"}, {\"data\": [{\"hovertemplate\": \"Recording timestamp=116343865<br>Gaze point X=%{x}<br>Gaze point Y=%{y}<extra></extra>\", \"legendgroup\": \"\", \"marker\": {\"color\": \"#636efa\", \"symbol\": \"circle\"}, \"mode\": \"markers\", \"name\": \"\", \"orientation\": \"v\", \"showlegend\": false, \"x\": [1326.0], \"xaxis\": \"x\", \"y\": [324.0], \"yaxis\": \"y\", \"type\": \"scatter\"}], \"name\": \"116343865\"}, {\"data\": [{\"hovertemplate\": \"Recording timestamp=116352204<br>Gaze point X=%{x}<br>Gaze point Y=%{y}<extra></extra>\", \"legendgroup\": \"\", \"marker\": {\"color\": \"#636efa\", \"symbol\": \"circle\"}, \"mode\": \"markers\", \"name\": \"\", \"orientation\": \"v\", \"showlegend\": false, \"x\": [1344.0], \"xaxis\": \"x\", \"y\": [221.0], \"yaxis\": \"y\", \"type\": \"scatter\"}], \"name\": \"116352204\"}, {\"data\": [{\"hovertemplate\": \"Recording timestamp=116360521<br>Gaze point X=%{x}<br>Gaze point Y=%{y}<extra></extra>\", \"legendgroup\": \"\", \"marker\": {\"color\": \"#636efa\", \"symbol\": \"circle\"}, \"mode\": \"markers\", \"name\": \"\", \"orientation\": \"v\", \"showlegend\": false, \"x\": [1321.0], \"xaxis\": \"x\", \"y\": [242.0], \"yaxis\": \"y\", \"type\": \"scatter\"}], \"name\": \"116360521\"}, {\"data\": [{\"hovertemplate\": \"Recording timestamp=116368856<br>Gaze point X=%{x}<br>Gaze point Y=%{y}<extra></extra>\", \"legendgroup\": \"\", \"marker\": {\"color\": \"#636efa\", \"symbol\": \"circle\"}, \"mode\": \"markers\", \"name\": \"\", \"orientation\": \"v\", \"showlegend\": false, \"x\": [1349.0], \"xaxis\": \"x\", \"y\": [303.0], \"yaxis\": \"y\", \"type\": \"scatter\"}], \"name\": \"116368856\"}, {\"data\": [{\"hovertemplate\": \"Recording timestamp=116377209<br>Gaze point X=%{x}<br>Gaze point Y=%{y}<extra></extra>\", \"legendgroup\": \"\", \"marker\": {\"color\": \"#636efa\", \"symbol\": \"circle\"}, \"mode\": \"markers\", \"name\": \"\", \"orientation\": \"v\", \"showlegend\": false, \"x\": [1440.0], \"xaxis\": \"x\", \"y\": [103.0], \"yaxis\": \"y\", \"type\": \"scatter\"}], \"name\": \"116377209\"}, {\"data\": [{\"hovertemplate\": \"Recording timestamp=116385588<br>Gaze point X=%{x}<br>Gaze point Y=%{y}<extra></extra>\", \"legendgroup\": \"\", \"marker\": {\"color\": \"#636efa\", \"symbol\": \"circle\"}, \"mode\": \"markers\", \"name\": \"\", \"orientation\": \"v\", \"showlegend\": false, \"x\": [1440.0], \"xaxis\": \"x\", \"y\": [103.0], \"yaxis\": \"y\", \"type\": \"scatter\"}], \"name\": \"116385588\"}, {\"data\": [{\"hovertemplate\": \"Recording timestamp=116393856<br>Gaze point X=%{x}<br>Gaze point Y=%{y}<extra></extra>\", \"legendgroup\": \"\", \"marker\": {\"color\": \"#636efa\", \"symbol\": \"circle\"}, \"mode\": \"markers\", \"name\": \"\", \"orientation\": \"v\", \"showlegend\": false, \"x\": [1387.0], \"xaxis\": \"x\", \"y\": [267.0], \"yaxis\": \"y\", \"type\": \"scatter\"}], \"name\": \"116393856\"}, {\"data\": [{\"hovertemplate\": \"Recording timestamp=116402191<br>Gaze point X=%{x}<br>Gaze point Y=%{y}<extra></extra>\", \"legendgroup\": \"\", \"marker\": {\"color\": \"#636efa\", \"symbol\": \"circle\"}, \"mode\": \"markers\", \"name\": \"\", \"orientation\": \"v\", \"showlegend\": false, \"x\": [null], \"xaxis\": \"x\", \"y\": [null], \"yaxis\": \"y\", \"type\": \"scatter\"}], \"name\": \"116402191\"}, {\"data\": [{\"hovertemplate\": \"Recording timestamp=116410577<br>Gaze point X=%{x}<br>Gaze point Y=%{y}<extra></extra>\", \"legendgroup\": \"\", \"marker\": {\"color\": \"#636efa\", \"symbol\": \"circle\"}, \"mode\": \"markers\", \"name\": \"\", \"orientation\": \"v\", \"showlegend\": false, \"x\": [1414.0], \"xaxis\": \"x\", \"y\": [262.0], \"yaxis\": \"y\", \"type\": \"scatter\"}], \"name\": \"116410577\"}, {\"data\": [{\"hovertemplate\": \"Recording timestamp=116418854<br>Gaze point X=%{x}<br>Gaze point Y=%{y}<extra></extra>\", \"legendgroup\": \"\", \"marker\": {\"color\": \"#636efa\", \"symbol\": \"circle\"}, \"mode\": \"markers\", \"name\": \"\", \"orientation\": \"v\", \"showlegend\": false, \"x\": [1418.0], \"xaxis\": \"x\", \"y\": [270.0], \"yaxis\": \"y\", \"type\": \"scatter\"}], \"name\": \"116418854\"}, {\"data\": [{\"hovertemplate\": \"Recording timestamp=116427249<br>Gaze point X=%{x}<br>Gaze point Y=%{y}<extra></extra>\", \"legendgroup\": \"\", \"marker\": {\"color\": \"#636efa\", \"symbol\": \"circle\"}, \"mode\": \"markers\", \"name\": \"\", \"orientation\": \"v\", \"showlegend\": false, \"x\": [1369.0], \"xaxis\": \"x\", \"y\": [161.0], \"yaxis\": \"y\", \"type\": \"scatter\"}], \"name\": \"116427249\"}, {\"data\": [{\"hovertemplate\": \"Recording timestamp=116435527<br>Gaze point X=%{x}<br>Gaze point Y=%{y}<extra></extra>\", \"legendgroup\": \"\", \"marker\": {\"color\": \"#636efa\", \"symbol\": \"circle\"}, \"mode\": \"markers\", \"name\": \"\", \"orientation\": \"v\", \"showlegend\": false, \"x\": [1401.0], \"xaxis\": \"x\", \"y\": [162.0], \"yaxis\": \"y\", \"type\": \"scatter\"}], \"name\": \"116435527\"}, {\"data\": [{\"hovertemplate\": \"Recording timestamp=116443870<br>Gaze point X=%{x}<br>Gaze point Y=%{y}<extra></extra>\", \"legendgroup\": \"\", \"marker\": {\"color\": \"#636efa\", \"symbol\": \"circle\"}, \"mode\": \"markers\", \"name\": \"\", \"orientation\": \"v\", \"showlegend\": false, \"x\": [1415.0], \"xaxis\": \"x\", \"y\": [280.0], \"yaxis\": \"y\", \"type\": \"scatter\"}], \"name\": \"116443870\"}, {\"data\": [{\"hovertemplate\": \"Recording timestamp=116452190<br>Gaze point X=%{x}<br>Gaze point Y=%{y}<extra></extra>\", \"legendgroup\": \"\", \"marker\": {\"color\": \"#636efa\", \"symbol\": \"circle\"}, \"mode\": \"markers\", \"name\": \"\", \"orientation\": \"v\", \"showlegend\": false, \"x\": [null], \"xaxis\": \"x\", \"y\": [null], \"yaxis\": \"y\", \"type\": \"scatter\"}], \"name\": \"116452190\"}, {\"data\": [{\"hovertemplate\": \"Recording timestamp=116460518<br>Gaze point X=%{x}<br>Gaze point Y=%{y}<extra></extra>\", \"legendgroup\": \"\", \"marker\": {\"color\": \"#636efa\", \"symbol\": \"circle\"}, \"mode\": \"markers\", \"name\": \"\", \"orientation\": \"v\", \"showlegend\": false, \"x\": [1403.0], \"xaxis\": \"x\", \"y\": [157.0], \"yaxis\": \"y\", \"type\": \"scatter\"}], \"name\": \"116460518\"}, {\"data\": [{\"hovertemplate\": \"Recording timestamp=116468847<br>Gaze point X=%{x}<br>Gaze point Y=%{y}<extra></extra>\", \"legendgroup\": \"\", \"marker\": {\"color\": \"#636efa\", \"symbol\": \"circle\"}, \"mode\": \"markers\", \"name\": \"\", \"orientation\": \"v\", \"showlegend\": false, \"x\": [1372.0], \"xaxis\": \"x\", \"y\": [281.0], \"yaxis\": \"y\", \"type\": \"scatter\"}], \"name\": \"116468847\"}, {\"data\": [{\"hovertemplate\": \"Recording timestamp=116477180<br>Gaze point X=%{x}<br>Gaze point Y=%{y}<extra></extra>\", \"legendgroup\": \"\", \"marker\": {\"color\": \"#636efa\", \"symbol\": \"circle\"}, \"mode\": \"markers\", \"name\": \"\", \"orientation\": \"v\", \"showlegend\": false, \"x\": [1341.0], \"xaxis\": \"x\", \"y\": [305.0], \"yaxis\": \"y\", \"type\": \"scatter\"}], \"name\": \"116477180\"}, {\"data\": [{\"hovertemplate\": \"Recording timestamp=116485553<br>Gaze point X=%{x}<br>Gaze point Y=%{y}<extra></extra>\", \"legendgroup\": \"\", \"marker\": {\"color\": \"#636efa\", \"symbol\": \"circle\"}, \"mode\": \"markers\", \"name\": \"\", \"orientation\": \"v\", \"showlegend\": false, \"x\": [1226.0], \"xaxis\": \"x\", \"y\": [232.0], \"yaxis\": \"y\", \"type\": \"scatter\"}], \"name\": \"116485553\"}, {\"data\": [{\"hovertemplate\": \"Recording timestamp=116493842<br>Gaze point X=%{x}<br>Gaze point Y=%{y}<extra></extra>\", \"legendgroup\": \"\", \"marker\": {\"color\": \"#636efa\", \"symbol\": \"circle\"}, \"mode\": \"markers\", \"name\": \"\", \"orientation\": \"v\", \"showlegend\": false, \"x\": [1215.0], \"xaxis\": \"x\", \"y\": [256.0], \"yaxis\": \"y\", \"type\": \"scatter\"}], \"name\": \"116493842\"}, {\"data\": [{\"hovertemplate\": \"Recording timestamp=116502177<br>Gaze point X=%{x}<br>Gaze point Y=%{y}<extra></extra>\", \"legendgroup\": \"\", \"marker\": {\"color\": \"#636efa\", \"symbol\": \"circle\"}, \"mode\": \"markers\", \"name\": \"\", \"orientation\": \"v\", \"showlegend\": false, \"x\": [1100.0], \"xaxis\": \"x\", \"y\": [288.0], \"yaxis\": \"y\", \"type\": \"scatter\"}], \"name\": \"116502177\"}, {\"data\": [{\"hovertemplate\": \"Recording timestamp=116510513<br>Gaze point X=%{x}<br>Gaze point Y=%{y}<extra></extra>\", \"legendgroup\": \"\", \"marker\": {\"color\": \"#636efa\", \"symbol\": \"circle\"}, \"mode\": \"markers\", \"name\": \"\", \"orientation\": \"v\", \"showlegend\": false, \"x\": [1334.0], \"xaxis\": \"x\", \"y\": [203.0], \"yaxis\": \"y\", \"type\": \"scatter\"}], \"name\": \"116510513\"}, {\"data\": [{\"hovertemplate\": \"Recording timestamp=116518905<br>Gaze point X=%{x}<br>Gaze point Y=%{y}<extra></extra>\", \"legendgroup\": \"\", \"marker\": {\"color\": \"#636efa\", \"symbol\": \"circle\"}, \"mode\": \"markers\", \"name\": \"\", \"orientation\": \"v\", \"showlegend\": false, \"x\": [1227.0], \"xaxis\": \"x\", \"y\": [239.0], \"yaxis\": \"y\", \"type\": \"scatter\"}], \"name\": \"116518905\"}, {\"data\": [{\"hovertemplate\": \"Recording timestamp=116527184<br>Gaze point X=%{x}<br>Gaze point Y=%{y}<extra></extra>\", \"legendgroup\": \"\", \"marker\": {\"color\": \"#636efa\", \"symbol\": \"circle\"}, \"mode\": \"markers\", \"name\": \"\", \"orientation\": \"v\", \"showlegend\": false, \"x\": [null], \"xaxis\": \"x\", \"y\": [null], \"yaxis\": \"y\", \"type\": \"scatter\"}], \"name\": \"116527184\"}, {\"data\": [{\"hovertemplate\": \"Recording timestamp=116535510<br>Gaze point X=%{x}<br>Gaze point Y=%{y}<extra></extra>\", \"legendgroup\": \"\", \"marker\": {\"color\": \"#636efa\", \"symbol\": \"circle\"}, \"mode\": \"markers\", \"name\": \"\", \"orientation\": \"v\", \"showlegend\": false, \"x\": [1374.0], \"xaxis\": \"x\", \"y\": [183.0], \"yaxis\": \"y\", \"type\": \"scatter\"}], \"name\": \"116535510\"}, {\"data\": [{\"hovertemplate\": \"Recording timestamp=116543840<br>Gaze point X=%{x}<br>Gaze point Y=%{y}<extra></extra>\", \"legendgroup\": \"\", \"marker\": {\"color\": \"#636efa\", \"symbol\": \"circle\"}, \"mode\": \"markers\", \"name\": \"\", \"orientation\": \"v\", \"showlegend\": false, \"x\": [1201.0], \"xaxis\": \"x\", \"y\": [243.0], \"yaxis\": \"y\", \"type\": \"scatter\"}], \"name\": \"116543840\"}, {\"data\": [{\"hovertemplate\": \"Recording timestamp=116552175<br>Gaze point X=%{x}<br>Gaze point Y=%{y}<extra></extra>\", \"legendgroup\": \"\", \"marker\": {\"color\": \"#636efa\", \"symbol\": \"circle\"}, \"mode\": \"markers\", \"name\": \"\", \"orientation\": \"v\", \"showlegend\": false, \"x\": [1359.0], \"xaxis\": \"x\", \"y\": [251.0], \"yaxis\": \"y\", \"type\": \"scatter\"}], \"name\": \"116552175\"}, {\"data\": [{\"hovertemplate\": \"Recording timestamp=116560511<br>Gaze point X=%{x}<br>Gaze point Y=%{y}<extra></extra>\", \"legendgroup\": \"\", \"marker\": {\"color\": \"#636efa\", \"symbol\": \"circle\"}, \"mode\": \"markers\", \"name\": \"\", \"orientation\": \"v\", \"showlegend\": false, \"x\": [1291.0], \"xaxis\": \"x\", \"y\": [297.0], \"yaxis\": \"y\", \"type\": \"scatter\"}], \"name\": \"116560511\"}, {\"data\": [{\"hovertemplate\": \"Recording timestamp=116568842<br>Gaze point X=%{x}<br>Gaze point Y=%{y}<extra></extra>\", \"legendgroup\": \"\", \"marker\": {\"color\": \"#636efa\", \"symbol\": \"circle\"}, \"mode\": \"markers\", \"name\": \"\", \"orientation\": \"v\", \"showlegend\": false, \"x\": [1309.0], \"xaxis\": \"x\", \"y\": [385.0], \"yaxis\": \"y\", \"type\": \"scatter\"}], \"name\": \"116568842\"}, {\"data\": [{\"hovertemplate\": \"Recording timestamp=116577192<br>Gaze point X=%{x}<br>Gaze point Y=%{y}<extra></extra>\", \"legendgroup\": \"\", \"marker\": {\"color\": \"#636efa\", \"symbol\": \"circle\"}, \"mode\": \"markers\", \"name\": \"\", \"orientation\": \"v\", \"showlegend\": false, \"x\": [1424.0], \"xaxis\": \"x\", \"y\": [145.0], \"yaxis\": \"y\", \"type\": \"scatter\"}], \"name\": \"116577192\"}, {\"data\": [{\"hovertemplate\": \"Recording timestamp=116585577<br>Gaze point X=%{x}<br>Gaze point Y=%{y}<extra></extra>\", \"legendgroup\": \"\", \"marker\": {\"color\": \"#636efa\", \"symbol\": \"circle\"}, \"mode\": \"markers\", \"name\": \"\", \"orientation\": \"v\", \"showlegend\": false, \"x\": [1478.0], \"xaxis\": \"x\", \"y\": [199.0], \"yaxis\": \"y\", \"type\": \"scatter\"}], \"name\": \"116585577\"}, {\"data\": [{\"hovertemplate\": \"Recording timestamp=116593841<br>Gaze point X=%{x}<br>Gaze point Y=%{y}<extra></extra>\", \"legendgroup\": \"\", \"marker\": {\"color\": \"#636efa\", \"symbol\": \"circle\"}, \"mode\": \"markers\", \"name\": \"\", \"orientation\": \"v\", \"showlegend\": false, \"x\": [1380.0], \"xaxis\": \"x\", \"y\": [300.0], \"yaxis\": \"y\", \"type\": \"scatter\"}], \"name\": \"116593841\"}, {\"data\": [{\"hovertemplate\": \"Recording timestamp=116602223<br>Gaze point X=%{x}<br>Gaze point Y=%{y}<extra></extra>\", \"legendgroup\": \"\", \"marker\": {\"color\": \"#636efa\", \"symbol\": \"circle\"}, \"mode\": \"markers\", \"name\": \"\", \"orientation\": \"v\", \"showlegend\": false, \"x\": [1380.0], \"xaxis\": \"x\", \"y\": [288.0], \"yaxis\": \"y\", \"type\": \"scatter\"}], \"name\": \"116602223\"}, {\"data\": [{\"hovertemplate\": \"Recording timestamp=116610514<br>Gaze point X=%{x}<br>Gaze point Y=%{y}<extra></extra>\", \"legendgroup\": \"\", \"marker\": {\"color\": \"#636efa\", \"symbol\": \"circle\"}, \"mode\": \"markers\", \"name\": \"\", \"orientation\": \"v\", \"showlegend\": false, \"x\": [1336.0], \"xaxis\": \"x\", \"y\": [152.0], \"yaxis\": \"y\", \"type\": \"scatter\"}], \"name\": \"116610514\"}, {\"data\": [{\"hovertemplate\": \"Recording timestamp=116618884<br>Gaze point X=%{x}<br>Gaze point Y=%{y}<extra></extra>\", \"legendgroup\": \"\", \"marker\": {\"color\": \"#636efa\", \"symbol\": \"circle\"}, \"mode\": \"markers\", \"name\": \"\", \"orientation\": \"v\", \"showlegend\": false, \"x\": [1317.0], \"xaxis\": \"x\", \"y\": [314.0], \"yaxis\": \"y\", \"type\": \"scatter\"}], \"name\": \"116618884\"}, {\"data\": [{\"hovertemplate\": \"Recording timestamp=116627168<br>Gaze point X=%{x}<br>Gaze point Y=%{y}<extra></extra>\", \"legendgroup\": \"\", \"marker\": {\"color\": \"#636efa\", \"symbol\": \"circle\"}, \"mode\": \"markers\", \"name\": \"\", \"orientation\": \"v\", \"showlegend\": false, \"x\": [null], \"xaxis\": \"x\", \"y\": [null], \"yaxis\": \"y\", \"type\": \"scatter\"}], \"name\": \"116627168\"}, {\"data\": [{\"hovertemplate\": \"Recording timestamp=116635499<br>Gaze point X=%{x}<br>Gaze point Y=%{y}<extra></extra>\", \"legendgroup\": \"\", \"marker\": {\"color\": \"#636efa\", \"symbol\": \"circle\"}, \"mode\": \"markers\", \"name\": \"\", \"orientation\": \"v\", \"showlegend\": false, \"x\": [null], \"xaxis\": \"x\", \"y\": [null], \"yaxis\": \"y\", \"type\": \"scatter\"}], \"name\": \"116635499\"}, {\"data\": [{\"hovertemplate\": \"Recording timestamp=116643831<br>Gaze point X=%{x}<br>Gaze point Y=%{y}<extra></extra>\", \"legendgroup\": \"\", \"marker\": {\"color\": \"#636efa\", \"symbol\": \"circle\"}, \"mode\": \"markers\", \"name\": \"\", \"orientation\": \"v\", \"showlegend\": false, \"x\": [1373.0], \"xaxis\": \"x\", \"y\": [167.0], \"yaxis\": \"y\", \"type\": \"scatter\"}], \"name\": \"116643831\"}, {\"data\": [{\"hovertemplate\": \"Recording timestamp=116652166<br>Gaze point X=%{x}<br>Gaze point Y=%{y}<extra></extra>\", \"legendgroup\": \"\", \"marker\": {\"color\": \"#636efa\", \"symbol\": \"circle\"}, \"mode\": \"markers\", \"name\": \"\", \"orientation\": \"v\", \"showlegend\": false, \"x\": [1409.0], \"xaxis\": \"x\", \"y\": [135.0], \"yaxis\": \"y\", \"type\": \"scatter\"}], \"name\": \"116652166\"}, {\"data\": [{\"hovertemplate\": \"Recording timestamp=116660497<br>Gaze point X=%{x}<br>Gaze point Y=%{y}<extra></extra>\", \"legendgroup\": \"\", \"marker\": {\"color\": \"#636efa\", \"symbol\": \"circle\"}, \"mode\": \"markers\", \"name\": \"\", \"orientation\": \"v\", \"showlegend\": false, \"x\": [1411.0], \"xaxis\": \"x\", \"y\": [136.0], \"yaxis\": \"y\", \"type\": \"scatter\"}], \"name\": \"116660497\"}, {\"data\": [{\"hovertemplate\": \"Recording timestamp=116668885<br>Gaze point X=%{x}<br>Gaze point Y=%{y}<extra></extra>\", \"legendgroup\": \"\", \"marker\": {\"color\": \"#636efa\", \"symbol\": \"circle\"}, \"mode\": \"markers\", \"name\": \"\", \"orientation\": \"v\", \"showlegend\": false, \"x\": [1363.0], \"xaxis\": \"x\", \"y\": [306.0], \"yaxis\": \"y\", \"type\": \"scatter\"}], \"name\": \"116668885\"}, {\"data\": [{\"hovertemplate\": \"Recording timestamp=116677165<br>Gaze point X=%{x}<br>Gaze point Y=%{y}<extra></extra>\", \"legendgroup\": \"\", \"marker\": {\"color\": \"#636efa\", \"symbol\": \"circle\"}, \"mode\": \"markers\", \"name\": \"\", \"orientation\": \"v\", \"showlegend\": false, \"x\": [1323.0], \"xaxis\": \"x\", \"y\": [217.0], \"yaxis\": \"y\", \"type\": \"scatter\"}], \"name\": \"116677165\"}, {\"data\": [{\"hovertemplate\": \"Recording timestamp=116685492<br>Gaze point X=%{x}<br>Gaze point Y=%{y}<extra></extra>\", \"legendgroup\": \"\", \"marker\": {\"color\": \"#636efa\", \"symbol\": \"circle\"}, \"mode\": \"markers\", \"name\": \"\", \"orientation\": \"v\", \"showlegend\": false, \"x\": [1369.0], \"xaxis\": \"x\", \"y\": [306.0], \"yaxis\": \"y\", \"type\": \"scatter\"}], \"name\": \"116685492\"}, {\"data\": [{\"hovertemplate\": \"Recording timestamp=116693827<br>Gaze point X=%{x}<br>Gaze point Y=%{y}<extra></extra>\", \"legendgroup\": \"\", \"marker\": {\"color\": \"#636efa\", \"symbol\": \"circle\"}, \"mode\": \"markers\", \"name\": \"\", \"orientation\": \"v\", \"showlegend\": false, \"x\": [1386.0], \"xaxis\": \"x\", \"y\": [280.0], \"yaxis\": \"y\", \"type\": \"scatter\"}], \"name\": \"116693827\"}, {\"data\": [{\"hovertemplate\": \"Recording timestamp=116702163<br>Gaze point X=%{x}<br>Gaze point Y=%{y}<extra></extra>\", \"legendgroup\": \"\", \"marker\": {\"color\": \"#636efa\", \"symbol\": \"circle\"}, \"mode\": \"markers\", \"name\": \"\", \"orientation\": \"v\", \"showlegend\": false, \"x\": [null], \"xaxis\": \"x\", \"y\": [null], \"yaxis\": \"y\", \"type\": \"scatter\"}], \"name\": \"116702163\"}, {\"data\": [{\"hovertemplate\": \"Recording timestamp=116710551<br>Gaze point X=%{x}<br>Gaze point Y=%{y}<extra></extra>\", \"legendgroup\": \"\", \"marker\": {\"color\": \"#636efa\", \"symbol\": \"circle\"}, \"mode\": \"markers\", \"name\": \"\", \"orientation\": \"v\", \"showlegend\": false, \"x\": [1364.0], \"xaxis\": \"x\", \"y\": [214.0], \"yaxis\": \"y\", \"type\": \"scatter\"}], \"name\": \"116710551\"}, {\"data\": [{\"hovertemplate\": \"Recording timestamp=116718824<br>Gaze point X=%{x}<br>Gaze point Y=%{y}<extra></extra>\", \"legendgroup\": \"\", \"marker\": {\"color\": \"#636efa\", \"symbol\": \"circle\"}, \"mode\": \"markers\", \"name\": \"\", \"orientation\": \"v\", \"showlegend\": false, \"x\": [1344.0], \"xaxis\": \"x\", \"y\": [166.0], \"yaxis\": \"y\", \"type\": \"scatter\"}], \"name\": \"116718824\"}, {\"data\": [{\"hovertemplate\": \"Recording timestamp=116727166<br>Gaze point X=%{x}<br>Gaze point Y=%{y}<extra></extra>\", \"legendgroup\": \"\", \"marker\": {\"color\": \"#636efa\", \"symbol\": \"circle\"}, \"mode\": \"markers\", \"name\": \"\", \"orientation\": \"v\", \"showlegend\": false, \"x\": [null], \"xaxis\": \"x\", \"y\": [null], \"yaxis\": \"y\", \"type\": \"scatter\"}], \"name\": \"116727166\"}, {\"data\": [{\"hovertemplate\": \"Recording timestamp=116735527<br>Gaze point X=%{x}<br>Gaze point Y=%{y}<extra></extra>\", \"legendgroup\": \"\", \"marker\": {\"color\": \"#636efa\", \"symbol\": \"circle\"}, \"mode\": \"markers\", \"name\": \"\", \"orientation\": \"v\", \"showlegend\": false, \"x\": [1354.0], \"xaxis\": \"x\", \"y\": [220.0], \"yaxis\": \"y\", \"type\": \"scatter\"}], \"name\": \"116735527\"}, {\"data\": [{\"hovertemplate\": \"Recording timestamp=116743822<br>Gaze point X=%{x}<br>Gaze point Y=%{y}<extra></extra>\", \"legendgroup\": \"\", \"marker\": {\"color\": \"#636efa\", \"symbol\": \"circle\"}, \"mode\": \"markers\", \"name\": \"\", \"orientation\": \"v\", \"showlegend\": false, \"x\": [1377.0], \"xaxis\": \"x\", \"y\": [153.0], \"yaxis\": \"y\", \"type\": \"scatter\"}], \"name\": \"116743822\"}, {\"data\": [{\"hovertemplate\": \"Recording timestamp=116752158<br>Gaze point X=%{x}<br>Gaze point Y=%{y}<extra></extra>\", \"legendgroup\": \"\", \"marker\": {\"color\": \"#636efa\", \"symbol\": \"circle\"}, \"mode\": \"markers\", \"name\": \"\", \"orientation\": \"v\", \"showlegend\": false, \"x\": [null], \"xaxis\": \"x\", \"y\": [null], \"yaxis\": \"y\", \"type\": \"scatter\"}], \"name\": \"116752158\"}, {\"data\": [{\"hovertemplate\": \"Recording timestamp=116760501<br>Gaze point X=%{x}<br>Gaze point Y=%{y}<extra></extra>\", \"legendgroup\": \"\", \"marker\": {\"color\": \"#636efa\", \"symbol\": \"circle\"}, \"mode\": \"markers\", \"name\": \"\", \"orientation\": \"v\", \"showlegend\": false, \"x\": [1380.0], \"xaxis\": \"x\", \"y\": [210.0], \"yaxis\": \"y\", \"type\": \"scatter\"}], \"name\": \"116760501\"}, {\"data\": [{\"hovertemplate\": \"Recording timestamp=116768821<br>Gaze point X=%{x}<br>Gaze point Y=%{y}<extra></extra>\", \"legendgroup\": \"\", \"marker\": {\"color\": \"#636efa\", \"symbol\": \"circle\"}, \"mode\": \"markers\", \"name\": \"\", \"orientation\": \"v\", \"showlegend\": false, \"x\": [1359.0], \"xaxis\": \"x\", \"y\": [353.0], \"yaxis\": \"y\", \"type\": \"scatter\"}], \"name\": \"116768821\"}, {\"data\": [{\"hovertemplate\": \"Recording timestamp=116777212<br>Gaze point X=%{x}<br>Gaze point Y=%{y}<extra></extra>\", \"legendgroup\": \"\", \"marker\": {\"color\": \"#636efa\", \"symbol\": \"circle\"}, \"mode\": \"markers\", \"name\": \"\", \"orientation\": \"v\", \"showlegend\": false, \"x\": [1347.0], \"xaxis\": \"x\", \"y\": [353.0], \"yaxis\": \"y\", \"type\": \"scatter\"}], \"name\": \"116777212\"}, {\"data\": [{\"hovertemplate\": \"Recording timestamp=116785546<br>Gaze point X=%{x}<br>Gaze point Y=%{y}<extra></extra>\", \"legendgroup\": \"\", \"marker\": {\"color\": \"#636efa\", \"symbol\": \"circle\"}, \"mode\": \"markers\", \"name\": \"\", \"orientation\": \"v\", \"showlegend\": false, \"x\": [1301.0], \"xaxis\": \"x\", \"y\": [226.0], \"yaxis\": \"y\", \"type\": \"scatter\"}], \"name\": \"116785546\"}, {\"data\": [{\"hovertemplate\": \"Recording timestamp=116793823<br>Gaze point X=%{x}<br>Gaze point Y=%{y}<extra></extra>\", \"legendgroup\": \"\", \"marker\": {\"color\": \"#636efa\", \"symbol\": \"circle\"}, \"mode\": \"markers\", \"name\": \"\", \"orientation\": \"v\", \"showlegend\": false, \"x\": [1342.0], \"xaxis\": \"x\", \"y\": [276.0], \"yaxis\": \"y\", \"type\": \"scatter\"}], \"name\": \"116793823\"}, {\"data\": [{\"hovertemplate\": \"Recording timestamp=116802154<br>Gaze point X=%{x}<br>Gaze point Y=%{y}<extra></extra>\", \"legendgroup\": \"\", \"marker\": {\"color\": \"#636efa\", \"symbol\": \"circle\"}, \"mode\": \"markers\", \"name\": \"\", \"orientation\": \"v\", \"showlegend\": false, \"x\": [null], \"xaxis\": \"x\", \"y\": [null], \"yaxis\": \"y\", \"type\": \"scatter\"}], \"name\": \"116802154\"}, {\"data\": [{\"hovertemplate\": \"Recording timestamp=116810483<br>Gaze point X=%{x}<br>Gaze point Y=%{y}<extra></extra>\", \"legendgroup\": \"\", \"marker\": {\"color\": \"#636efa\", \"symbol\": \"circle\"}, \"mode\": \"markers\", \"name\": \"\", \"orientation\": \"v\", \"showlegend\": false, \"x\": [1291.0], \"xaxis\": \"x\", \"y\": [379.0], \"yaxis\": \"y\", \"type\": \"scatter\"}], \"name\": \"116810483\"}, {\"data\": [{\"hovertemplate\": \"Recording timestamp=116818818<br>Gaze point X=%{x}<br>Gaze point Y=%{y}<extra></extra>\", \"legendgroup\": \"\", \"marker\": {\"color\": \"#636efa\", \"symbol\": \"circle\"}, \"mode\": \"markers\", \"name\": \"\", \"orientation\": \"v\", \"showlegend\": false, \"x\": [1323.0], \"xaxis\": \"x\", \"y\": [384.0], \"yaxis\": \"y\", \"type\": \"scatter\"}], \"name\": \"116818818\"}, {\"data\": [{\"hovertemplate\": \"Recording timestamp=116827158<br>Gaze point X=%{x}<br>Gaze point Y=%{y}<extra></extra>\", \"legendgroup\": \"\", \"marker\": {\"color\": \"#636efa\", \"symbol\": \"circle\"}, \"mode\": \"markers\", \"name\": \"\", \"orientation\": \"v\", \"showlegend\": false, \"x\": [1525.0], \"xaxis\": \"x\", \"y\": [220.0], \"yaxis\": \"y\", \"type\": \"scatter\"}], \"name\": \"116827158\"}, {\"data\": [{\"hovertemplate\": \"Recording timestamp=116835483<br>Gaze point X=%{x}<br>Gaze point Y=%{y}<extra></extra>\", \"legendgroup\": \"\", \"marker\": {\"color\": \"#636efa\", \"symbol\": \"circle\"}, \"mode\": \"markers\", \"name\": \"\", \"orientation\": \"v\", \"showlegend\": false, \"x\": [1201.0], \"xaxis\": \"x\", \"y\": [393.0], \"yaxis\": \"y\", \"type\": \"scatter\"}], \"name\": \"116835483\"}, {\"data\": [{\"hovertemplate\": \"Recording timestamp=116843816<br>Gaze point X=%{x}<br>Gaze point Y=%{y}<extra></extra>\", \"legendgroup\": \"\", \"marker\": {\"color\": \"#636efa\", \"symbol\": \"circle\"}, \"mode\": \"markers\", \"name\": \"\", \"orientation\": \"v\", \"showlegend\": false, \"x\": [1376.0], \"xaxis\": \"x\", \"y\": [286.0], \"yaxis\": \"y\", \"type\": \"scatter\"}], \"name\": \"116843816\"}, {\"data\": [{\"hovertemplate\": \"Recording timestamp=116852151<br>Gaze point X=%{x}<br>Gaze point Y=%{y}<extra></extra>\", \"legendgroup\": \"\", \"marker\": {\"color\": \"#636efa\", \"symbol\": \"circle\"}, \"mode\": \"markers\", \"name\": \"\", \"orientation\": \"v\", \"showlegend\": false, \"x\": [1141.0], \"xaxis\": \"x\", \"y\": [182.0], \"yaxis\": \"y\", \"type\": \"scatter\"}], \"name\": \"116852151\"}, {\"data\": [{\"hovertemplate\": \"Recording timestamp=116860479<br>Gaze point X=%{x}<br>Gaze point Y=%{y}<extra></extra>\", \"legendgroup\": \"\", \"marker\": {\"color\": \"#636efa\", \"symbol\": \"circle\"}, \"mode\": \"markers\", \"name\": \"\", \"orientation\": \"v\", \"showlegend\": false, \"x\": [1296.0], \"xaxis\": \"x\", \"y\": [175.0], \"yaxis\": \"y\", \"type\": \"scatter\"}], \"name\": \"116860479\"}, {\"data\": [{\"hovertemplate\": \"Recording timestamp=116868811<br>Gaze point X=%{x}<br>Gaze point Y=%{y}<extra></extra>\", \"legendgroup\": \"\", \"marker\": {\"color\": \"#636efa\", \"symbol\": \"circle\"}, \"mode\": \"markers\", \"name\": \"\", \"orientation\": \"v\", \"showlegend\": false, \"x\": [1162.0], \"xaxis\": \"x\", \"y\": [163.0], \"yaxis\": \"y\", \"type\": \"scatter\"}], \"name\": \"116868811\"}, {\"data\": [{\"hovertemplate\": \"Recording timestamp=116877149<br>Gaze point X=%{x}<br>Gaze point Y=%{y}<extra></extra>\", \"legendgroup\": \"\", \"marker\": {\"color\": \"#636efa\", \"symbol\": \"circle\"}, \"mode\": \"markers\", \"name\": \"\", \"orientation\": \"v\", \"showlegend\": false, \"x\": [1331.0], \"xaxis\": \"x\", \"y\": [108.0], \"yaxis\": \"y\", \"type\": \"scatter\"}], \"name\": \"116877149\"}, {\"data\": [{\"hovertemplate\": \"Recording timestamp=116885478<br>Gaze point X=%{x}<br>Gaze point Y=%{y}<extra></extra>\", \"legendgroup\": \"\", \"marker\": {\"color\": \"#636efa\", \"symbol\": \"circle\"}, \"mode\": \"markers\", \"name\": \"\", \"orientation\": \"v\", \"showlegend\": false, \"x\": [1286.0], \"xaxis\": \"x\", \"y\": [250.0], \"yaxis\": \"y\", \"type\": \"scatter\"}], \"name\": \"116885478\"}, {\"data\": [{\"hovertemplate\": \"Recording timestamp=116893812<br>Gaze point X=%{x}<br>Gaze point Y=%{y}<extra></extra>\", \"legendgroup\": \"\", \"marker\": {\"color\": \"#636efa\", \"symbol\": \"circle\"}, \"mode\": \"markers\", \"name\": \"\", \"orientation\": \"v\", \"showlegend\": false, \"x\": [1337.0], \"xaxis\": \"x\", \"y\": [82.0], \"yaxis\": \"y\", \"type\": \"scatter\"}], \"name\": \"116893812\"}, {\"data\": [{\"hovertemplate\": \"Recording timestamp=116902145<br>Gaze point X=%{x}<br>Gaze point Y=%{y}<extra></extra>\", \"legendgroup\": \"\", \"marker\": {\"color\": \"#636efa\", \"symbol\": \"circle\"}, \"mode\": \"markers\", \"name\": \"\", \"orientation\": \"v\", \"showlegend\": false, \"x\": [1413.0], \"xaxis\": \"x\", \"y\": [119.0], \"yaxis\": \"y\", \"type\": \"scatter\"}], \"name\": \"116902145\"}, {\"data\": [{\"hovertemplate\": \"Recording timestamp=116910476<br>Gaze point X=%{x}<br>Gaze point Y=%{y}<extra></extra>\", \"legendgroup\": \"\", \"marker\": {\"color\": \"#636efa\", \"symbol\": \"circle\"}, \"mode\": \"markers\", \"name\": \"\", \"orientation\": \"v\", \"showlegend\": false, \"x\": [1414.0], \"xaxis\": \"x\", \"y\": [119.0], \"yaxis\": \"y\", \"type\": \"scatter\"}], \"name\": \"116910476\"}, {\"data\": [{\"hovertemplate\": \"Recording timestamp=116918810<br>Gaze point X=%{x}<br>Gaze point Y=%{y}<extra></extra>\", \"legendgroup\": \"\", \"marker\": {\"color\": \"#636efa\", \"symbol\": \"circle\"}, \"mode\": \"markers\", \"name\": \"\", \"orientation\": \"v\", \"showlegend\": false, \"x\": [1357.0], \"xaxis\": \"x\", \"y\": [57.0], \"yaxis\": \"y\", \"type\": \"scatter\"}], \"name\": \"116918810\"}, {\"data\": [{\"hovertemplate\": \"Recording timestamp=116927143<br>Gaze point X=%{x}<br>Gaze point Y=%{y}<extra></extra>\", \"legendgroup\": \"\", \"marker\": {\"color\": \"#636efa\", \"symbol\": \"circle\"}, \"mode\": \"markers\", \"name\": \"\", \"orientation\": \"v\", \"showlegend\": false, \"x\": [1321.0], \"xaxis\": \"x\", \"y\": [158.0], \"yaxis\": \"y\", \"type\": \"scatter\"}], \"name\": \"116927143\"}, {\"data\": [{\"hovertemplate\": \"Recording timestamp=116935472<br>Gaze point X=%{x}<br>Gaze point Y=%{y}<extra></extra>\", \"legendgroup\": \"\", \"marker\": {\"color\": \"#636efa\", \"symbol\": \"circle\"}, \"mode\": \"markers\", \"name\": \"\", \"orientation\": \"v\", \"showlegend\": false, \"x\": [1327.0], \"xaxis\": \"x\", \"y\": [176.0], \"yaxis\": \"y\", \"type\": \"scatter\"}], \"name\": \"116935472\"}, {\"data\": [{\"hovertemplate\": \"Recording timestamp=116943807<br>Gaze point X=%{x}<br>Gaze point Y=%{y}<extra></extra>\", \"legendgroup\": \"\", \"marker\": {\"color\": \"#636efa\", \"symbol\": \"circle\"}, \"mode\": \"markers\", \"name\": \"\", \"orientation\": \"v\", \"showlegend\": false, \"x\": [1363.0], \"xaxis\": \"x\", \"y\": [152.0], \"yaxis\": \"y\", \"type\": \"scatter\"}], \"name\": \"116943807\"}, {\"data\": [{\"hovertemplate\": \"Recording timestamp=116952144<br>Gaze point X=%{x}<br>Gaze point Y=%{y}<extra></extra>\", \"legendgroup\": \"\", \"marker\": {\"color\": \"#636efa\", \"symbol\": \"circle\"}, \"mode\": \"markers\", \"name\": \"\", \"orientation\": \"v\", \"showlegend\": false, \"x\": [null], \"xaxis\": \"x\", \"y\": [null], \"yaxis\": \"y\", \"type\": \"scatter\"}], \"name\": \"116952144\"}, {\"data\": [{\"hovertemplate\": \"Recording timestamp=116960527<br>Gaze point X=%{x}<br>Gaze point Y=%{y}<extra></extra>\", \"legendgroup\": \"\", \"marker\": {\"color\": \"#636efa\", \"symbol\": \"circle\"}, \"mode\": \"markers\", \"name\": \"\", \"orientation\": \"v\", \"showlegend\": false, \"x\": [1455.0], \"xaxis\": \"x\", \"y\": [131.0], \"yaxis\": \"y\", \"type\": \"scatter\"}], \"name\": \"116960527\"}, {\"data\": [{\"hovertemplate\": \"Recording timestamp=116968806<br>Gaze point X=%{x}<br>Gaze point Y=%{y}<extra></extra>\", \"legendgroup\": \"\", \"marker\": {\"color\": \"#636efa\", \"symbol\": \"circle\"}, \"mode\": \"markers\", \"name\": \"\", \"orientation\": \"v\", \"showlegend\": false, \"x\": [1453.0], \"xaxis\": \"x\", \"y\": [136.0], \"yaxis\": \"y\", \"type\": \"scatter\"}], \"name\": \"116968806\"}, {\"data\": [{\"hovertemplate\": \"Recording timestamp=116977200<br>Gaze point X=%{x}<br>Gaze point Y=%{y}<extra></extra>\", \"legendgroup\": \"\", \"marker\": {\"color\": \"#636efa\", \"symbol\": \"circle\"}, \"mode\": \"markers\", \"name\": \"\", \"orientation\": \"v\", \"showlegend\": false, \"x\": [1401.0], \"xaxis\": \"x\", \"y\": [146.0], \"yaxis\": \"y\", \"type\": \"scatter\"}], \"name\": \"116977200\"}, {\"data\": [{\"hovertemplate\": \"Recording timestamp=116985472<br>Gaze point X=%{x}<br>Gaze point Y=%{y}<extra></extra>\", \"legendgroup\": \"\", \"marker\": {\"color\": \"#636efa\", \"symbol\": \"circle\"}, \"mode\": \"markers\", \"name\": \"\", \"orientation\": \"v\", \"showlegend\": false, \"x\": [1450.0], \"xaxis\": \"x\", \"y\": [139.0], \"yaxis\": \"y\", \"type\": \"scatter\"}], \"name\": \"116985472\"}, {\"data\": [{\"hovertemplate\": \"Recording timestamp=116993803<br>Gaze point X=%{x}<br>Gaze point Y=%{y}<extra></extra>\", \"legendgroup\": \"\", \"marker\": {\"color\": \"#636efa\", \"symbol\": \"circle\"}, \"mode\": \"markers\", \"name\": \"\", \"orientation\": \"v\", \"showlegend\": false, \"x\": [1477.0], \"xaxis\": \"x\", \"y\": [112.0], \"yaxis\": \"y\", \"type\": \"scatter\"}], \"name\": \"116993803\"}, {\"data\": [{\"hovertemplate\": \"Recording timestamp=117002147<br>Gaze point X=%{x}<br>Gaze point Y=%{y}<extra></extra>\", \"legendgroup\": \"\", \"marker\": {\"color\": \"#636efa\", \"symbol\": \"circle\"}, \"mode\": \"markers\", \"name\": \"\", \"orientation\": \"v\", \"showlegend\": false, \"x\": [1456.0], \"xaxis\": \"x\", \"y\": [57.0], \"yaxis\": \"y\", \"type\": \"scatter\"}], \"name\": \"117002147\"}, {\"data\": [{\"hovertemplate\": \"Recording timestamp=117010477<br>Gaze point X=%{x}<br>Gaze point Y=%{y}<extra></extra>\", \"legendgroup\": \"\", \"marker\": {\"color\": \"#636efa\", \"symbol\": \"circle\"}, \"mode\": \"markers\", \"name\": \"\", \"orientation\": \"v\", \"showlegend\": false, \"x\": [1452.0], \"xaxis\": \"x\", \"y\": [14.0], \"yaxis\": \"y\", \"type\": \"scatter\"}], \"name\": \"117010477\"}, {\"data\": [{\"hovertemplate\": \"Recording timestamp=117018841<br>Gaze point X=%{x}<br>Gaze point Y=%{y}<extra></extra>\", \"legendgroup\": \"\", \"marker\": {\"color\": \"#636efa\", \"symbol\": \"circle\"}, \"mode\": \"markers\", \"name\": \"\", \"orientation\": \"v\", \"showlegend\": false, \"x\": [1335.0], \"xaxis\": \"x\", \"y\": [179.0], \"yaxis\": \"y\", \"type\": \"scatter\"}], \"name\": \"117018841\"}, {\"data\": [{\"hovertemplate\": \"Recording timestamp=117027140<br>Gaze point X=%{x}<br>Gaze point Y=%{y}<extra></extra>\", \"legendgroup\": \"\", \"marker\": {\"color\": \"#636efa\", \"symbol\": \"circle\"}, \"mode\": \"markers\", \"name\": \"\", \"orientation\": \"v\", \"showlegend\": false, \"x\": [1351.0], \"xaxis\": \"x\", \"y\": [211.0], \"yaxis\": \"y\", \"type\": \"scatter\"}], \"name\": \"117027140\"}, {\"data\": [{\"hovertemplate\": \"Recording timestamp=117035483<br>Gaze point X=%{x}<br>Gaze point Y=%{y}<extra></extra>\", \"legendgroup\": \"\", \"marker\": {\"color\": \"#636efa\", \"symbol\": \"circle\"}, \"mode\": \"markers\", \"name\": \"\", \"orientation\": \"v\", \"showlegend\": false, \"x\": [1302.0], \"xaxis\": \"x\", \"y\": [275.0], \"yaxis\": \"y\", \"type\": \"scatter\"}], \"name\": \"117035483\"}, {\"data\": [{\"hovertemplate\": \"Recording timestamp=117043855<br>Gaze point X=%{x}<br>Gaze point Y=%{y}<extra></extra>\", \"legendgroup\": \"\", \"marker\": {\"color\": \"#636efa\", \"symbol\": \"circle\"}, \"mode\": \"markers\", \"name\": \"\", \"orientation\": \"v\", \"showlegend\": false, \"x\": [1370.0], \"xaxis\": \"x\", \"y\": [151.0], \"yaxis\": \"y\", \"type\": \"scatter\"}], \"name\": \"117043855\"}, {\"data\": [{\"hovertemplate\": \"Recording timestamp=117052134<br>Gaze point X=%{x}<br>Gaze point Y=%{y}<extra></extra>\", \"legendgroup\": \"\", \"marker\": {\"color\": \"#636efa\", \"symbol\": \"circle\"}, \"mode\": \"markers\", \"name\": \"\", \"orientation\": \"v\", \"showlegend\": false, \"x\": [null], \"xaxis\": \"x\", \"y\": [null], \"yaxis\": \"y\", \"type\": \"scatter\"}], \"name\": \"117052134\"}, {\"data\": [{\"hovertemplate\": \"Recording timestamp=117060523<br>Gaze point X=%{x}<br>Gaze point Y=%{y}<extra></extra>\", \"legendgroup\": \"\", \"marker\": {\"color\": \"#636efa\", \"symbol\": \"circle\"}, \"mode\": \"markers\", \"name\": \"\", \"orientation\": \"v\", \"showlegend\": false, \"x\": [1399.0], \"xaxis\": \"x\", \"y\": [190.0], \"yaxis\": \"y\", \"type\": \"scatter\"}], \"name\": \"117060523\"}, {\"data\": [{\"hovertemplate\": \"Recording timestamp=117068796<br>Gaze point X=%{x}<br>Gaze point Y=%{y}<extra></extra>\", \"legendgroup\": \"\", \"marker\": {\"color\": \"#636efa\", \"symbol\": \"circle\"}, \"mode\": \"markers\", \"name\": \"\", \"orientation\": \"v\", \"showlegend\": false, \"x\": [1403.0], \"xaxis\": \"x\", \"y\": [186.0], \"yaxis\": \"y\", \"type\": \"scatter\"}], \"name\": \"117068796\"}, {\"data\": [{\"hovertemplate\": \"Recording timestamp=117077128<br>Gaze point X=%{x}<br>Gaze point Y=%{y}<extra></extra>\", \"legendgroup\": \"\", \"marker\": {\"color\": \"#636efa\", \"symbol\": \"circle\"}, \"mode\": \"markers\", \"name\": \"\", \"orientation\": \"v\", \"showlegend\": false, \"x\": [1403.0], \"xaxis\": \"x\", \"y\": [162.0], \"yaxis\": \"y\", \"type\": \"scatter\"}], \"name\": \"117077128\"}, {\"data\": [{\"hovertemplate\": \"Recording timestamp=117085489<br>Gaze point X=%{x}<br>Gaze point Y=%{y}<extra></extra>\", \"legendgroup\": \"\", \"marker\": {\"color\": \"#636efa\", \"symbol\": \"circle\"}, \"mode\": \"markers\", \"name\": \"\", \"orientation\": \"v\", \"showlegend\": false, \"x\": [1376.0], \"xaxis\": \"x\", \"y\": [168.0], \"yaxis\": \"y\", \"type\": \"scatter\"}], \"name\": \"117085489\"}, {\"data\": [{\"hovertemplate\": \"Recording timestamp=117093849<br>Gaze point X=%{x}<br>Gaze point Y=%{y}<extra></extra>\", \"legendgroup\": \"\", \"marker\": {\"color\": \"#636efa\", \"symbol\": \"circle\"}, \"mode\": \"markers\", \"name\": \"\", \"orientation\": \"v\", \"showlegend\": false, \"x\": [1549.0], \"xaxis\": \"x\", \"y\": [48.0], \"yaxis\": \"y\", \"type\": \"scatter\"}], \"name\": \"117093849\"}, {\"data\": [{\"hovertemplate\": \"Recording timestamp=117102126<br>Gaze point X=%{x}<br>Gaze point Y=%{y}<extra></extra>\", \"legendgroup\": \"\", \"marker\": {\"color\": \"#636efa\", \"symbol\": \"circle\"}, \"mode\": \"markers\", \"name\": \"\", \"orientation\": \"v\", \"showlegend\": false, \"x\": [1445.0], \"xaxis\": \"x\", \"y\": [120.0], \"yaxis\": \"y\", \"type\": \"scatter\"}], \"name\": \"117102126\"}, {\"data\": [{\"hovertemplate\": \"Recording timestamp=117110466<br>Gaze point X=%{x}<br>Gaze point Y=%{y}<extra></extra>\", \"legendgroup\": \"\", \"marker\": {\"color\": \"#636efa\", \"symbol\": \"circle\"}, \"mode\": \"markers\", \"name\": \"\", \"orientation\": \"v\", \"showlegend\": false, \"x\": [1512.0], \"xaxis\": \"x\", \"y\": [88.0], \"yaxis\": \"y\", \"type\": \"scatter\"}], \"name\": \"117110466\"}, {\"data\": [{\"hovertemplate\": \"Recording timestamp=117118798<br>Gaze point X=%{x}<br>Gaze point Y=%{y}<extra></extra>\", \"legendgroup\": \"\", \"marker\": {\"color\": \"#636efa\", \"symbol\": \"circle\"}, \"mode\": \"markers\", \"name\": \"\", \"orientation\": \"v\", \"showlegend\": false, \"x\": [1515.0], \"xaxis\": \"x\", \"y\": [89.0], \"yaxis\": \"y\", \"type\": \"scatter\"}], \"name\": \"117118798\"}, {\"data\": [{\"hovertemplate\": \"Recording timestamp=117127135<br>Gaze point X=%{x}<br>Gaze point Y=%{y}<extra></extra>\", \"legendgroup\": \"\", \"marker\": {\"color\": \"#636efa\", \"symbol\": \"circle\"}, \"mode\": \"markers\", \"name\": \"\", \"orientation\": \"v\", \"showlegend\": false, \"x\": [1569.0], \"xaxis\": \"x\", \"y\": [81.0], \"yaxis\": \"y\", \"type\": \"scatter\"}], \"name\": \"117127135\"}, {\"data\": [{\"hovertemplate\": \"Recording timestamp=117135454<br>Gaze point X=%{x}<br>Gaze point Y=%{y}<extra></extra>\", \"legendgroup\": \"\", \"marker\": {\"color\": \"#636efa\", \"symbol\": \"circle\"}, \"mode\": \"markers\", \"name\": \"\", \"orientation\": \"v\", \"showlegend\": false, \"x\": [null], \"xaxis\": \"x\", \"y\": [null], \"yaxis\": \"y\", \"type\": \"scatter\"}], \"name\": \"117135454\"}, {\"data\": [{\"hovertemplate\": \"Recording timestamp=117143887<br>Gaze point X=%{x}<br>Gaze point Y=%{y}<extra></extra>\", \"legendgroup\": \"\", \"marker\": {\"color\": \"#636efa\", \"symbol\": \"circle\"}, \"mode\": \"markers\", \"name\": \"\", \"orientation\": \"v\", \"showlegend\": false, \"x\": [1416.0], \"xaxis\": \"x\", \"y\": [112.0], \"yaxis\": \"y\", \"type\": \"scatter\"}], \"name\": \"117143887\"}, {\"data\": [{\"hovertemplate\": \"Recording timestamp=117152182<br>Gaze point X=%{x}<br>Gaze point Y=%{y}<extra></extra>\", \"legendgroup\": \"\", \"marker\": {\"color\": \"#636efa\", \"symbol\": \"circle\"}, \"mode\": \"markers\", \"name\": \"\", \"orientation\": \"v\", \"showlegend\": false, \"x\": [1413.0], \"xaxis\": \"x\", \"y\": [63.0], \"yaxis\": \"y\", \"type\": \"scatter\"}], \"name\": \"117152182\"}, {\"data\": [{\"hovertemplate\": \"Recording timestamp=117160471<br>Gaze point X=%{x}<br>Gaze point Y=%{y}<extra></extra>\", \"legendgroup\": \"\", \"marker\": {\"color\": \"#636efa\", \"symbol\": \"circle\"}, \"mode\": \"markers\", \"name\": \"\", \"orientation\": \"v\", \"showlegend\": false, \"x\": [1413.0], \"xaxis\": \"x\", \"y\": [63.0], \"yaxis\": \"y\", \"type\": \"scatter\"}], \"name\": \"117160471\"}, {\"data\": [{\"hovertemplate\": \"Recording timestamp=117168787<br>Gaze point X=%{x}<br>Gaze point Y=%{y}<extra></extra>\", \"legendgroup\": \"\", \"marker\": {\"color\": \"#636efa\", \"symbol\": \"circle\"}, \"mode\": \"markers\", \"name\": \"\", \"orientation\": \"v\", \"showlegend\": false, \"x\": [1355.0], \"xaxis\": \"x\", \"y\": [85.0], \"yaxis\": \"y\", \"type\": \"scatter\"}], \"name\": \"117168787\"}, {\"data\": [{\"hovertemplate\": \"Recording timestamp=117177190<br>Gaze point X=%{x}<br>Gaze point Y=%{y}<extra></extra>\", \"legendgroup\": \"\", \"marker\": {\"color\": \"#636efa\", \"symbol\": \"circle\"}, \"mode\": \"markers\", \"name\": \"\", \"orientation\": \"v\", \"showlegend\": false, \"x\": [1385.0], \"xaxis\": \"x\", \"y\": [112.0], \"yaxis\": \"y\", \"type\": \"scatter\"}], \"name\": \"117177190\"}, {\"data\": [{\"hovertemplate\": \"Recording timestamp=117185460<br>Gaze point X=%{x}<br>Gaze point Y=%{y}<extra></extra>\", \"legendgroup\": \"\", \"marker\": {\"color\": \"#636efa\", \"symbol\": \"circle\"}, \"mode\": \"markers\", \"name\": \"\", \"orientation\": \"v\", \"showlegend\": false, \"x\": [1385.0], \"xaxis\": \"x\", \"y\": [112.0], \"yaxis\": \"y\", \"type\": \"scatter\"}], \"name\": \"117185460\"}, {\"data\": [{\"hovertemplate\": \"Recording timestamp=117193795<br>Gaze point X=%{x}<br>Gaze point Y=%{y}<extra></extra>\", \"legendgroup\": \"\", \"marker\": {\"color\": \"#636efa\", \"symbol\": \"circle\"}, \"mode\": \"markers\", \"name\": \"\", \"orientation\": \"v\", \"showlegend\": false, \"x\": [1381.0], \"xaxis\": \"x\", \"y\": [234.0], \"yaxis\": \"y\", \"type\": \"scatter\"}], \"name\": \"117193795\"}, {\"data\": [{\"hovertemplate\": \"Recording timestamp=117202127<br>Gaze point X=%{x}<br>Gaze point Y=%{y}<extra></extra>\", \"legendgroup\": \"\", \"marker\": {\"color\": \"#636efa\", \"symbol\": \"circle\"}, \"mode\": \"markers\", \"name\": \"\", \"orientation\": \"v\", \"showlegend\": false, \"x\": [1302.0], \"xaxis\": \"x\", \"y\": [288.0], \"yaxis\": \"y\", \"type\": \"scatter\"}], \"name\": \"117202127\"}, {\"data\": [{\"hovertemplate\": \"Recording timestamp=117210459<br>Gaze point X=%{x}<br>Gaze point Y=%{y}<extra></extra>\", \"legendgroup\": \"\", \"marker\": {\"color\": \"#636efa\", \"symbol\": \"circle\"}, \"mode\": \"markers\", \"name\": \"\", \"orientation\": \"v\", \"showlegend\": false, \"x\": [1222.0], \"xaxis\": \"x\", \"y\": [185.0], \"yaxis\": \"y\", \"type\": \"scatter\"}], \"name\": \"117210459\"}, {\"data\": [{\"hovertemplate\": \"Recording timestamp=117218823<br>Gaze point X=%{x}<br>Gaze point Y=%{y}<extra></extra>\", \"legendgroup\": \"\", \"marker\": {\"color\": \"#636efa\", \"symbol\": \"circle\"}, \"mode\": \"markers\", \"name\": \"\", \"orientation\": \"v\", \"showlegend\": false, \"x\": [1106.0], \"xaxis\": \"x\", \"y\": [158.0], \"yaxis\": \"y\", \"type\": \"scatter\"}], \"name\": \"117218823\"}, {\"data\": [{\"hovertemplate\": \"Recording timestamp=117227126<br>Gaze point X=%{x}<br>Gaze point Y=%{y}<extra></extra>\", \"legendgroup\": \"\", \"marker\": {\"color\": \"#636efa\", \"symbol\": \"circle\"}, \"mode\": \"markers\", \"name\": \"\", \"orientation\": \"v\", \"showlegend\": false, \"x\": [1110.0], \"xaxis\": \"x\", \"y\": [159.0], \"yaxis\": \"y\", \"type\": \"scatter\"}], \"name\": \"117227126\"}, {\"data\": [{\"hovertemplate\": \"Recording timestamp=117235491<br>Gaze point X=%{x}<br>Gaze point Y=%{y}<extra></extra>\", \"legendgroup\": \"\", \"marker\": {\"color\": \"#636efa\", \"symbol\": \"circle\"}, \"mode\": \"markers\", \"name\": \"\", \"orientation\": \"v\", \"showlegend\": false, \"x\": [1080.0], \"xaxis\": \"x\", \"y\": [84.0], \"yaxis\": \"y\", \"type\": \"scatter\"}], \"name\": \"117235491\"}, {\"data\": [{\"hovertemplate\": \"Recording timestamp=117243792<br>Gaze point X=%{x}<br>Gaze point Y=%{y}<extra></extra>\", \"legendgroup\": \"\", \"marker\": {\"color\": \"#636efa\", \"symbol\": \"circle\"}, \"mode\": \"markers\", \"name\": \"\", \"orientation\": \"v\", \"showlegend\": false, \"x\": [1105.0], \"xaxis\": \"x\", \"y\": [150.0], \"yaxis\": \"y\", \"type\": \"scatter\"}], \"name\": \"117243792\"}, {\"data\": [{\"hovertemplate\": \"Recording timestamp=117252119<br>Gaze point X=%{x}<br>Gaze point Y=%{y}<extra></extra>\", \"legendgroup\": \"\", \"marker\": {\"color\": \"#636efa\", \"symbol\": \"circle\"}, \"mode\": \"markers\", \"name\": \"\", \"orientation\": \"v\", \"showlegend\": false, \"x\": [1072.0], \"xaxis\": \"x\", \"y\": [130.0], \"yaxis\": \"y\", \"type\": \"scatter\"}], \"name\": \"117252119\"}, {\"data\": [{\"hovertemplate\": \"Recording timestamp=117260447<br>Gaze point X=%{x}<br>Gaze point Y=%{y}<extra></extra>\", \"legendgroup\": \"\", \"marker\": {\"color\": \"#636efa\", \"symbol\": \"circle\"}, \"mode\": \"markers\", \"name\": \"\", \"orientation\": \"v\", \"showlegend\": false, \"x\": [1108.0], \"xaxis\": \"x\", \"y\": [194.0], \"yaxis\": \"y\", \"type\": \"scatter\"}], \"name\": \"117260447\"}, {\"data\": [{\"hovertemplate\": \"Recording timestamp=117268788<br>Gaze point X=%{x}<br>Gaze point Y=%{y}<extra></extra>\", \"legendgroup\": \"\", \"marker\": {\"color\": \"#636efa\", \"symbol\": \"circle\"}, \"mode\": \"markers\", \"name\": \"\", \"orientation\": \"v\", \"showlegend\": false, \"x\": [1106.0], \"xaxis\": \"x\", \"y\": [155.0], \"yaxis\": \"y\", \"type\": \"scatter\"}], \"name\": \"117268788\"}, {\"data\": [{\"hovertemplate\": \"Recording timestamp=117277119<br>Gaze point X=%{x}<br>Gaze point Y=%{y}<extra></extra>\", \"legendgroup\": \"\", \"marker\": {\"color\": \"#636efa\", \"symbol\": \"circle\"}, \"mode\": \"markers\", \"name\": \"\", \"orientation\": \"v\", \"showlegend\": false, \"x\": [1106.0], \"xaxis\": \"x\", \"y\": [191.0], \"yaxis\": \"y\", \"type\": \"scatter\"}], \"name\": \"117277119\"}, {\"data\": [{\"hovertemplate\": \"Recording timestamp=117285486<br>Gaze point X=%{x}<br>Gaze point Y=%{y}<extra></extra>\", \"legendgroup\": \"\", \"marker\": {\"color\": \"#636efa\", \"symbol\": \"circle\"}, \"mode\": \"markers\", \"name\": \"\", \"orientation\": \"v\", \"showlegend\": false, \"x\": [1091.0], \"xaxis\": \"x\", \"y\": [146.0], \"yaxis\": \"y\", \"type\": \"scatter\"}], \"name\": \"117285486\"}, {\"data\": [{\"hovertemplate\": \"Recording timestamp=117293841<br>Gaze point X=%{x}<br>Gaze point Y=%{y}<extra></extra>\", \"legendgroup\": \"\", \"marker\": {\"color\": \"#636efa\", \"symbol\": \"circle\"}, \"mode\": \"markers\", \"name\": \"\", \"orientation\": \"v\", \"showlegend\": false, \"x\": [1074.0], \"xaxis\": \"x\", \"y\": [183.0], \"yaxis\": \"y\", \"type\": \"scatter\"}], \"name\": \"117293841\"}, {\"data\": [{\"hovertemplate\": \"Recording timestamp=117302117<br>Gaze point X=%{x}<br>Gaze point Y=%{y}<extra></extra>\", \"legendgroup\": \"\", \"marker\": {\"color\": \"#636efa\", \"symbol\": \"circle\"}, \"mode\": \"markers\", \"name\": \"\", \"orientation\": \"v\", \"showlegend\": false, \"x\": [null], \"xaxis\": \"x\", \"y\": [null], \"yaxis\": \"y\", \"type\": \"scatter\"}], \"name\": \"117302117\"}, {\"data\": [{\"hovertemplate\": \"Recording timestamp=117310451<br>Gaze point X=%{x}<br>Gaze point Y=%{y}<extra></extra>\", \"legendgroup\": \"\", \"marker\": {\"color\": \"#636efa\", \"symbol\": \"circle\"}, \"mode\": \"markers\", \"name\": \"\", \"orientation\": \"v\", \"showlegend\": false, \"x\": [1104.0], \"xaxis\": \"x\", \"y\": [198.0], \"yaxis\": \"y\", \"type\": \"scatter\"}], \"name\": \"117310451\"}, {\"data\": [{\"hovertemplate\": \"Recording timestamp=117318778<br>Gaze point X=%{x}<br>Gaze point Y=%{y}<extra></extra>\", \"legendgroup\": \"\", \"marker\": {\"color\": \"#636efa\", \"symbol\": \"circle\"}, \"mode\": \"markers\", \"name\": \"\", \"orientation\": \"v\", \"showlegend\": false, \"x\": [1104.0], \"xaxis\": \"x\", \"y\": [212.0], \"yaxis\": \"y\", \"type\": \"scatter\"}], \"name\": \"117318778\"}, {\"data\": [{\"hovertemplate\": \"Recording timestamp=117327113<br>Gaze point X=%{x}<br>Gaze point Y=%{y}<extra></extra>\", \"legendgroup\": \"\", \"marker\": {\"color\": \"#636efa\", \"symbol\": \"circle\"}, \"mode\": \"markers\", \"name\": \"\", \"orientation\": \"v\", \"showlegend\": false, \"x\": [1108.0], \"xaxis\": \"x\", \"y\": [67.0], \"yaxis\": \"y\", \"type\": \"scatter\"}], \"name\": \"117327113\"}, {\"data\": [{\"hovertemplate\": \"Recording timestamp=117335526<br>Gaze point X=%{x}<br>Gaze point Y=%{y}<extra></extra>\", \"legendgroup\": \"\", \"marker\": {\"color\": \"#636efa\", \"symbol\": \"circle\"}, \"mode\": \"markers\", \"name\": \"\", \"orientation\": \"v\", \"showlegend\": false, \"x\": [1112.0], \"xaxis\": \"x\", \"y\": [168.0], \"yaxis\": \"y\", \"type\": \"scatter\"}], \"name\": \"117335526\"}, {\"data\": [{\"hovertemplate\": \"Recording timestamp=117343772<br>Gaze point X=%{x}<br>Gaze point Y=%{y}<extra></extra>\", \"legendgroup\": \"\", \"marker\": {\"color\": \"#636efa\", \"symbol\": \"circle\"}, \"mode\": \"markers\", \"name\": \"\", \"orientation\": \"v\", \"showlegend\": false, \"x\": [1118.0], \"xaxis\": \"x\", \"y\": [167.0], \"yaxis\": \"y\", \"type\": \"scatter\"}], \"name\": \"117343772\"}, {\"data\": [{\"hovertemplate\": \"Recording timestamp=117352151<br>Gaze point X=%{x}<br>Gaze point Y=%{y}<extra></extra>\", \"legendgroup\": \"\", \"marker\": {\"color\": \"#636efa\", \"symbol\": \"circle\"}, \"mode\": \"markers\", \"name\": \"\", \"orientation\": \"v\", \"showlegend\": false, \"x\": [1109.0], \"xaxis\": \"x\", \"y\": [213.0], \"yaxis\": \"y\", \"type\": \"scatter\"}], \"name\": \"117352151\"}, {\"data\": [{\"hovertemplate\": \"Recording timestamp=117360439<br>Gaze point X=%{x}<br>Gaze point Y=%{y}<extra></extra>\", \"legendgroup\": \"\", \"marker\": {\"color\": \"#636efa\", \"symbol\": \"circle\"}, \"mode\": \"markers\", \"name\": \"\", \"orientation\": \"v\", \"showlegend\": false, \"x\": [1108.0], \"xaxis\": \"x\", \"y\": [178.0], \"yaxis\": \"y\", \"type\": \"scatter\"}], \"name\": \"117360439\"}, {\"data\": [{\"hovertemplate\": \"Recording timestamp=117368872<br>Gaze point X=%{x}<br>Gaze point Y=%{y}<extra></extra>\", \"legendgroup\": \"\", \"marker\": {\"color\": \"#636efa\", \"symbol\": \"circle\"}, \"mode\": \"markers\", \"name\": \"\", \"orientation\": \"v\", \"showlegend\": false, \"x\": [1109.0], \"xaxis\": \"x\", \"y\": [163.0], \"yaxis\": \"y\", \"type\": \"scatter\"}], \"name\": \"117368872\"}, {\"data\": [{\"hovertemplate\": \"Recording timestamp=117377204<br>Gaze point X=%{x}<br>Gaze point Y=%{y}<extra></extra>\", \"legendgroup\": \"\", \"marker\": {\"color\": \"#636efa\", \"symbol\": \"circle\"}, \"mode\": \"markers\", \"name\": \"\", \"orientation\": \"v\", \"showlegend\": false, \"x\": [1048.0], \"xaxis\": \"x\", \"y\": [134.0], \"yaxis\": \"y\", \"type\": \"scatter\"}], \"name\": \"117377204\"}, {\"data\": [{\"hovertemplate\": \"Recording timestamp=117385460<br>Gaze point X=%{x}<br>Gaze point Y=%{y}<extra></extra>\", \"legendgroup\": \"\", \"marker\": {\"color\": \"#636efa\", \"symbol\": \"circle\"}, \"mode\": \"markers\", \"name\": \"\", \"orientation\": \"v\", \"showlegend\": false, \"x\": [1171.0], \"xaxis\": \"x\", \"y\": [130.0], \"yaxis\": \"y\", \"type\": \"scatter\"}], \"name\": \"117385460\"}, {\"data\": [{\"hovertemplate\": \"Recording timestamp=117393769<br>Gaze point X=%{x}<br>Gaze point Y=%{y}<extra></extra>\", \"legendgroup\": \"\", \"marker\": {\"color\": \"#636efa\", \"symbol\": \"circle\"}, \"mode\": \"markers\", \"name\": \"\", \"orientation\": \"v\", \"showlegend\": false, \"x\": [1107.0], \"xaxis\": \"x\", \"y\": [139.0], \"yaxis\": \"y\", \"type\": \"scatter\"}], \"name\": \"117393769\"}, {\"data\": [{\"hovertemplate\": \"Recording timestamp=117402103<br>Gaze point X=%{x}<br>Gaze point Y=%{y}<extra></extra>\", \"legendgroup\": \"\", \"marker\": {\"color\": \"#636efa\", \"symbol\": \"circle\"}, \"mode\": \"markers\", \"name\": \"\", \"orientation\": \"v\", \"showlegend\": false, \"x\": [null], \"xaxis\": \"x\", \"y\": [null], \"yaxis\": \"y\", \"type\": \"scatter\"}], \"name\": \"117402103\"}, {\"data\": [{\"hovertemplate\": \"Recording timestamp=117410434<br>Gaze point X=%{x}<br>Gaze point Y=%{y}<extra></extra>\", \"legendgroup\": \"\", \"marker\": {\"color\": \"#636efa\", \"symbol\": \"circle\"}, \"mode\": \"markers\", \"name\": \"\", \"orientation\": \"v\", \"showlegend\": false, \"x\": [1129.0], \"xaxis\": \"x\", \"y\": [132.0], \"yaxis\": \"y\", \"type\": \"scatter\"}], \"name\": \"117410434\"}, {\"data\": [{\"hovertemplate\": \"Recording timestamp=117418831<br>Gaze point X=%{x}<br>Gaze point Y=%{y}<extra></extra>\", \"legendgroup\": \"\", \"marker\": {\"color\": \"#636efa\", \"symbol\": \"circle\"}, \"mode\": \"markers\", \"name\": \"\", \"orientation\": \"v\", \"showlegend\": false, \"x\": [1105.0], \"xaxis\": \"x\", \"y\": [173.0], \"yaxis\": \"y\", \"type\": \"scatter\"}], \"name\": \"117418831\"}, {\"data\": [{\"hovertemplate\": \"Recording timestamp=117427102<br>Gaze point X=%{x}<br>Gaze point Y=%{y}<extra></extra>\", \"legendgroup\": \"\", \"marker\": {\"color\": \"#636efa\", \"symbol\": \"circle\"}, \"mode\": \"markers\", \"name\": \"\", \"orientation\": \"v\", \"showlegend\": false, \"x\": [null], \"xaxis\": \"x\", \"y\": [null], \"yaxis\": \"y\", \"type\": \"scatter\"}], \"name\": \"117427102\"}, {\"data\": [{\"hovertemplate\": \"Recording timestamp=117435432<br>Gaze point X=%{x}<br>Gaze point Y=%{y}<extra></extra>\", \"legendgroup\": \"\", \"marker\": {\"color\": \"#636efa\", \"symbol\": \"circle\"}, \"mode\": \"markers\", \"name\": \"\", \"orientation\": \"v\", \"showlegend\": false, \"x\": [1078.0], \"xaxis\": \"x\", \"y\": [209.0], \"yaxis\": \"y\", \"type\": \"scatter\"}], \"name\": \"117435432\"}, {\"data\": [{\"hovertemplate\": \"Recording timestamp=117443837<br>Gaze point X=%{x}<br>Gaze point Y=%{y}<extra></extra>\", \"legendgroup\": \"\", \"marker\": {\"color\": \"#636efa\", \"symbol\": \"circle\"}, \"mode\": \"markers\", \"name\": \"\", \"orientation\": \"v\", \"showlegend\": false, \"x\": [1119.0], \"xaxis\": \"x\", \"y\": [239.0], \"yaxis\": \"y\", \"type\": \"scatter\"}], \"name\": \"117443837\"}, {\"data\": [{\"hovertemplate\": \"Recording timestamp=117452160<br>Gaze point X=%{x}<br>Gaze point Y=%{y}<extra></extra>\", \"legendgroup\": \"\", \"marker\": {\"color\": \"#636efa\", \"symbol\": \"circle\"}, \"mode\": \"markers\", \"name\": \"\", \"orientation\": \"v\", \"showlegend\": false, \"x\": [null], \"xaxis\": \"x\", \"y\": [null], \"yaxis\": \"y\", \"type\": \"scatter\"}], \"name\": \"117452160\"}, {\"data\": [{\"hovertemplate\": \"Recording timestamp=117460487<br>Gaze point X=%{x}<br>Gaze point Y=%{y}<extra></extra>\", \"legendgroup\": \"\", \"marker\": {\"color\": \"#636efa\", \"symbol\": \"circle\"}, \"mode\": \"markers\", \"name\": \"\", \"orientation\": \"v\", \"showlegend\": false, \"x\": [997.0], \"xaxis\": \"x\", \"y\": [494.0], \"yaxis\": \"y\", \"type\": \"scatter\"}], \"name\": \"117460487\"}, {\"data\": [{\"hovertemplate\": \"Recording timestamp=117468822<br>Gaze point X=%{x}<br>Gaze point Y=%{y}<extra></extra>\", \"legendgroup\": \"\", \"marker\": {\"color\": \"#636efa\", \"symbol\": \"circle\"}, \"mode\": \"markers\", \"name\": \"\", \"orientation\": \"v\", \"showlegend\": false, \"x\": [1093.0], \"xaxis\": \"x\", \"y\": [281.0], \"yaxis\": \"y\", \"type\": \"scatter\"}], \"name\": \"117468822\"}, {\"data\": [{\"hovertemplate\": \"Recording timestamp=117477099<br>Gaze point X=%{x}<br>Gaze point Y=%{y}<extra></extra>\", \"legendgroup\": \"\", \"marker\": {\"color\": \"#636efa\", \"symbol\": \"circle\"}, \"mode\": \"markers\", \"name\": \"\", \"orientation\": \"v\", \"showlegend\": false, \"x\": [null], \"xaxis\": \"x\", \"y\": [null], \"yaxis\": \"y\", \"type\": \"scatter\"}], \"name\": \"117477099\"}, {\"data\": [{\"hovertemplate\": \"Recording timestamp=117485486<br>Gaze point X=%{x}<br>Gaze point Y=%{y}<extra></extra>\", \"legendgroup\": \"\", \"marker\": {\"color\": \"#636efa\", \"symbol\": \"circle\"}, \"mode\": \"markers\", \"name\": \"\", \"orientation\": \"v\", \"showlegend\": false, \"x\": [1152.0], \"xaxis\": \"x\", \"y\": [286.0], \"yaxis\": \"y\", \"type\": \"scatter\"}], \"name\": \"117485486\"}, {\"data\": [{\"hovertemplate\": \"Recording timestamp=117493818<br>Gaze point X=%{x}<br>Gaze point Y=%{y}<extra></extra>\", \"legendgroup\": \"\", \"marker\": {\"color\": \"#636efa\", \"symbol\": \"circle\"}, \"mode\": \"markers\", \"name\": \"\", \"orientation\": \"v\", \"showlegend\": false, \"x\": [1142.0], \"xaxis\": \"x\", \"y\": [310.0], \"yaxis\": \"y\", \"type\": \"scatter\"}], \"name\": \"117493818\"}, {\"data\": [{\"hovertemplate\": \"Recording timestamp=117502152<br>Gaze point X=%{x}<br>Gaze point Y=%{y}<extra></extra>\", \"legendgroup\": \"\", \"marker\": {\"color\": \"#636efa\", \"symbol\": \"circle\"}, \"mode\": \"markers\", \"name\": \"\", \"orientation\": \"v\", \"showlegend\": false, \"x\": [null], \"xaxis\": \"x\", \"y\": [null], \"yaxis\": \"y\", \"type\": \"scatter\"}], \"name\": \"117502152\"}, {\"data\": [{\"hovertemplate\": \"Recording timestamp=117510491<br>Gaze point X=%{x}<br>Gaze point Y=%{y}<extra></extra>\", \"legendgroup\": \"\", \"marker\": {\"color\": \"#636efa\", \"symbol\": \"circle\"}, \"mode\": \"markers\", \"name\": \"\", \"orientation\": \"v\", \"showlegend\": false, \"x\": [1107.0], \"xaxis\": \"x\", \"y\": [243.0], \"yaxis\": \"y\", \"type\": \"scatter\"}], \"name\": \"117510491\"}, {\"data\": [{\"hovertemplate\": \"Recording timestamp=117518817<br>Gaze point X=%{x}<br>Gaze point Y=%{y}<extra></extra>\", \"legendgroup\": \"\", \"marker\": {\"color\": \"#636efa\", \"symbol\": \"circle\"}, \"mode\": \"markers\", \"name\": \"\", \"orientation\": \"v\", \"showlegend\": false, \"x\": [1122.0], \"xaxis\": \"x\", \"y\": [298.0], \"yaxis\": \"y\", \"type\": \"scatter\"}], \"name\": \"117518817\"}, {\"data\": [{\"hovertemplate\": \"Recording timestamp=117527094<br>Gaze point X=%{x}<br>Gaze point Y=%{y}<extra></extra>\", \"legendgroup\": \"\", \"marker\": {\"color\": \"#636efa\", \"symbol\": \"circle\"}, \"mode\": \"markers\", \"name\": \"\", \"orientation\": \"v\", \"showlegend\": false, \"x\": [null], \"xaxis\": \"x\", \"y\": [null], \"yaxis\": \"y\", \"type\": \"scatter\"}], \"name\": \"117527094\"}, {\"data\": [{\"hovertemplate\": \"Recording timestamp=117535488<br>Gaze point X=%{x}<br>Gaze point Y=%{y}<extra></extra>\", \"legendgroup\": \"\", \"marker\": {\"color\": \"#636efa\", \"symbol\": \"circle\"}, \"mode\": \"markers\", \"name\": \"\", \"orientation\": \"v\", \"showlegend\": false, \"x\": [1067.0], \"xaxis\": \"x\", \"y\": [337.0], \"yaxis\": \"y\", \"type\": \"scatter\"}], \"name\": \"117535488\"}, {\"data\": [{\"hovertemplate\": \"Recording timestamp=117543812<br>Gaze point X=%{x}<br>Gaze point Y=%{y}<extra></extra>\", \"legendgroup\": \"\", \"marker\": {\"color\": \"#636efa\", \"symbol\": \"circle\"}, \"mode\": \"markers\", \"name\": \"\", \"orientation\": \"v\", \"showlegend\": false, \"x\": [1074.0], \"xaxis\": \"x\", \"y\": [309.0], \"yaxis\": \"y\", \"type\": \"scatter\"}], \"name\": \"117543812\"}, {\"data\": [{\"hovertemplate\": \"Recording timestamp=117552149<br>Gaze point X=%{x}<br>Gaze point Y=%{y}<extra></extra>\", \"legendgroup\": \"\", \"marker\": {\"color\": \"#636efa\", \"symbol\": \"circle\"}, \"mode\": \"markers\", \"name\": \"\", \"orientation\": \"v\", \"showlegend\": false, \"x\": [null], \"xaxis\": \"x\", \"y\": [null], \"yaxis\": \"y\", \"type\": \"scatter\"}], \"name\": \"117552149\"}, {\"data\": [{\"hovertemplate\": \"Recording timestamp=117560482<br>Gaze point X=%{x}<br>Gaze point Y=%{y}<extra></extra>\", \"legendgroup\": \"\", \"marker\": {\"color\": \"#636efa\", \"symbol\": \"circle\"}, \"mode\": \"markers\", \"name\": \"\", \"orientation\": \"v\", \"showlegend\": false, \"x\": [null], \"xaxis\": \"x\", \"y\": [null], \"yaxis\": \"y\", \"type\": \"scatter\"}], \"name\": \"117560482\"}, {\"data\": [{\"hovertemplate\": \"Recording timestamp=117568819<br>Gaze point X=%{x}<br>Gaze point Y=%{y}<extra></extra>\", \"legendgroup\": \"\", \"marker\": {\"color\": \"#636efa\", \"symbol\": \"circle\"}, \"mode\": \"markers\", \"name\": \"\", \"orientation\": \"v\", \"showlegend\": false, \"x\": [1078.0], \"xaxis\": \"x\", \"y\": [325.0], \"yaxis\": \"y\", \"type\": \"scatter\"}], \"name\": \"117568819\"}, {\"data\": [{\"hovertemplate\": \"Recording timestamp=117577093<br>Gaze point X=%{x}<br>Gaze point Y=%{y}<extra></extra>\", \"legendgroup\": \"\", \"marker\": {\"color\": \"#636efa\", \"symbol\": \"circle\"}, \"mode\": \"markers\", \"name\": \"\", \"orientation\": \"v\", \"showlegend\": false, \"x\": [null], \"xaxis\": \"x\", \"y\": [null], \"yaxis\": \"y\", \"type\": \"scatter\"}], \"name\": \"117577093\"}, {\"data\": [{\"hovertemplate\": \"Recording timestamp=117585421<br>Gaze point X=%{x}<br>Gaze point Y=%{y}<extra></extra>\", \"legendgroup\": \"\", \"marker\": {\"color\": \"#636efa\", \"symbol\": \"circle\"}, \"mode\": \"markers\", \"name\": \"\", \"orientation\": \"v\", \"showlegend\": false, \"x\": [1079.0], \"xaxis\": \"x\", \"y\": [275.0], \"yaxis\": \"y\", \"type\": \"scatter\"}], \"name\": \"117585421\"}, {\"data\": [{\"hovertemplate\": \"Recording timestamp=117593807<br>Gaze point X=%{x}<br>Gaze point Y=%{y}<extra></extra>\", \"legendgroup\": \"\", \"marker\": {\"color\": \"#636efa\", \"symbol\": \"circle\"}, \"mode\": \"markers\", \"name\": \"\", \"orientation\": \"v\", \"showlegend\": false, \"x\": [1065.0], \"xaxis\": \"x\", \"y\": [279.0], \"yaxis\": \"y\", \"type\": \"scatter\"}], \"name\": \"117593807\"}, {\"data\": [{\"hovertemplate\": \"Recording timestamp=117602091<br>Gaze point X=%{x}<br>Gaze point Y=%{y}<extra></extra>\", \"legendgroup\": \"\", \"marker\": {\"color\": \"#636efa\", \"symbol\": \"circle\"}, \"mode\": \"markers\", \"name\": \"\", \"orientation\": \"v\", \"showlegend\": false, \"x\": [1153.0], \"xaxis\": \"x\", \"y\": [492.0], \"yaxis\": \"y\", \"type\": \"scatter\"}], \"name\": \"117602091\"}, {\"data\": [{\"hovertemplate\": \"Recording timestamp=117610485<br>Gaze point X=%{x}<br>Gaze point Y=%{y}<extra></extra>\", \"legendgroup\": \"\", \"marker\": {\"color\": \"#636efa\", \"symbol\": \"circle\"}, \"mode\": \"markers\", \"name\": \"\", \"orientation\": \"v\", \"showlegend\": false, \"x\": [null], \"xaxis\": \"x\", \"y\": [null], \"yaxis\": \"y\", \"type\": \"scatter\"}], \"name\": \"117610485\"}, {\"data\": [{\"hovertemplate\": \"Recording timestamp=117618751<br>Gaze point X=%{x}<br>Gaze point Y=%{y}<extra></extra>\", \"legendgroup\": \"\", \"marker\": {\"color\": \"#636efa\", \"symbol\": \"circle\"}, \"mode\": \"markers\", \"name\": \"\", \"orientation\": \"v\", \"showlegend\": false, \"x\": [1107.0], \"xaxis\": \"x\", \"y\": [346.0], \"yaxis\": \"y\", \"type\": \"scatter\"}], \"name\": \"117618751\"}, {\"data\": [{\"hovertemplate\": \"Recording timestamp=117627142<br>Gaze point X=%{x}<br>Gaze point Y=%{y}<extra></extra>\", \"legendgroup\": \"\", \"marker\": {\"color\": \"#636efa\", \"symbol\": \"circle\"}, \"mode\": \"markers\", \"name\": \"\", \"orientation\": \"v\", \"showlegend\": false, \"x\": [1094.0], \"xaxis\": \"x\", \"y\": [264.0], \"yaxis\": \"y\", \"type\": \"scatter\"}], \"name\": \"117627142\"}, {\"data\": [{\"hovertemplate\": \"Recording timestamp=117635480<br>Gaze point X=%{x}<br>Gaze point Y=%{y}<extra></extra>\", \"legendgroup\": \"\", \"marker\": {\"color\": \"#636efa\", \"symbol\": \"circle\"}, \"mode\": \"markers\", \"name\": \"\", \"orientation\": \"v\", \"showlegend\": false, \"x\": [1110.0], \"xaxis\": \"x\", \"y\": [213.0], \"yaxis\": \"y\", \"type\": \"scatter\"}], \"name\": \"117635480\"}, {\"data\": [{\"hovertemplate\": \"Recording timestamp=117643750<br>Gaze point X=%{x}<br>Gaze point Y=%{y}<extra></extra>\", \"legendgroup\": \"\", \"marker\": {\"color\": \"#636efa\", \"symbol\": \"circle\"}, \"mode\": \"markers\", \"name\": \"\", \"orientation\": \"v\", \"showlegend\": false, \"x\": [1111.0], \"xaxis\": \"x\", \"y\": [329.0], \"yaxis\": \"y\", \"type\": \"scatter\"}], \"name\": \"117643750\"}, {\"data\": [{\"hovertemplate\": \"Recording timestamp=117652086<br>Gaze point X=%{x}<br>Gaze point Y=%{y}<extra></extra>\", \"legendgroup\": \"\", \"marker\": {\"color\": \"#636efa\", \"symbol\": \"circle\"}, \"mode\": \"markers\", \"name\": \"\", \"orientation\": \"v\", \"showlegend\": false, \"x\": [null], \"xaxis\": \"x\", \"y\": [null], \"yaxis\": \"y\", \"type\": \"scatter\"}], \"name\": \"117652086\"}, {\"data\": [{\"hovertemplate\": \"Recording timestamp=117660416<br>Gaze point X=%{x}<br>Gaze point Y=%{y}<extra></extra>\", \"legendgroup\": \"\", \"marker\": {\"color\": \"#636efa\", \"symbol\": \"circle\"}, \"mode\": \"markers\", \"name\": \"\", \"orientation\": \"v\", \"showlegend\": false, \"x\": [1087.0], \"xaxis\": \"x\", \"y\": [222.0], \"yaxis\": \"y\", \"type\": \"scatter\"}], \"name\": \"117660416\"}, {\"data\": [{\"hovertemplate\": \"Recording timestamp=117668749<br>Gaze point X=%{x}<br>Gaze point Y=%{y}<extra></extra>\", \"legendgroup\": \"\", \"marker\": {\"color\": \"#636efa\", \"symbol\": \"circle\"}, \"mode\": \"markers\", \"name\": \"\", \"orientation\": \"v\", \"showlegend\": false, \"x\": [1114.0], \"xaxis\": \"x\", \"y\": [267.0], \"yaxis\": \"y\", \"type\": \"scatter\"}], \"name\": \"117668749\"}, {\"data\": [{\"hovertemplate\": \"Recording timestamp=117677102<br>Gaze point X=%{x}<br>Gaze point Y=%{y}<extra></extra>\", \"legendgroup\": \"\", \"marker\": {\"color\": \"#636efa\", \"symbol\": \"circle\"}, \"mode\": \"markers\", \"name\": \"\", \"orientation\": \"v\", \"showlegend\": false, \"x\": [null], \"xaxis\": \"x\", \"y\": [null], \"yaxis\": \"y\", \"type\": \"scatter\"}], \"name\": \"117677102\"}, {\"data\": [{\"hovertemplate\": \"Recording timestamp=117685413<br>Gaze point X=%{x}<br>Gaze point Y=%{y}<extra></extra>\", \"legendgroup\": \"\", \"marker\": {\"color\": \"#636efa\", \"symbol\": \"circle\"}, \"mode\": \"markers\", \"name\": \"\", \"orientation\": \"v\", \"showlegend\": false, \"x\": [null], \"xaxis\": \"x\", \"y\": [null], \"yaxis\": \"y\", \"type\": \"scatter\"}], \"name\": \"117685413\"}, {\"data\": [{\"hovertemplate\": \"Recording timestamp=117693745<br>Gaze point X=%{x}<br>Gaze point Y=%{y}<extra></extra>\", \"legendgroup\": \"\", \"marker\": {\"color\": \"#636efa\", \"symbol\": \"circle\"}, \"mode\": \"markers\", \"name\": \"\", \"orientation\": \"v\", \"showlegend\": false, \"x\": [1102.0], \"xaxis\": \"x\", \"y\": [315.0], \"yaxis\": \"y\", \"type\": \"scatter\"}], \"name\": \"117693745\"}, {\"data\": [{\"hovertemplate\": \"Recording timestamp=117702082<br>Gaze point X=%{x}<br>Gaze point Y=%{y}<extra></extra>\", \"legendgroup\": \"\", \"marker\": {\"color\": \"#636efa\", \"symbol\": \"circle\"}, \"mode\": \"markers\", \"name\": \"\", \"orientation\": \"v\", \"showlegend\": false, \"x\": [1077.0], \"xaxis\": \"x\", \"y\": [387.0], \"yaxis\": \"y\", \"type\": \"scatter\"}], \"name\": \"117702082\"}, {\"data\": [{\"hovertemplate\": \"Recording timestamp=117710471<br>Gaze point X=%{x}<br>Gaze point Y=%{y}<extra></extra>\", \"legendgroup\": \"\", \"marker\": {\"color\": \"#636efa\", \"symbol\": \"circle\"}, \"mode\": \"markers\", \"name\": \"\", \"orientation\": \"v\", \"showlegend\": false, \"x\": [1113.0], \"xaxis\": \"x\", \"y\": [381.0], \"yaxis\": \"y\", \"type\": \"scatter\"}], \"name\": \"117710471\"}, {\"data\": [{\"hovertemplate\": \"Recording timestamp=117718747<br>Gaze point X=%{x}<br>Gaze point Y=%{y}<extra></extra>\", \"legendgroup\": \"\", \"marker\": {\"color\": \"#636efa\", \"symbol\": \"circle\"}, \"mode\": \"markers\", \"name\": \"\", \"orientation\": \"v\", \"showlegend\": false, \"x\": [1118.0], \"xaxis\": \"x\", \"y\": [379.0], \"yaxis\": \"y\", \"type\": \"scatter\"}], \"name\": \"117718747\"}, {\"data\": [{\"hovertemplate\": \"Recording timestamp=117727079<br>Gaze point X=%{x}<br>Gaze point Y=%{y}<extra></extra>\", \"legendgroup\": \"\", \"marker\": {\"color\": \"#636efa\", \"symbol\": \"circle\"}, \"mode\": \"markers\", \"name\": \"\", \"orientation\": \"v\", \"showlegend\": false, \"x\": [null], \"xaxis\": \"x\", \"y\": [null], \"yaxis\": \"y\", \"type\": \"scatter\"}], \"name\": \"117727079\"}, {\"data\": [{\"hovertemplate\": \"Recording timestamp=117735464<br>Gaze point X=%{x}<br>Gaze point Y=%{y}<extra></extra>\", \"legendgroup\": \"\", \"marker\": {\"color\": \"#636efa\", \"symbol\": \"circle\"}, \"mode\": \"markers\", \"name\": \"\", \"orientation\": \"v\", \"showlegend\": false, \"x\": [1100.0], \"xaxis\": \"x\", \"y\": [409.0], \"yaxis\": \"y\", \"type\": \"scatter\"}], \"name\": \"117735464\"}, {\"data\": [{\"hovertemplate\": \"Recording timestamp=117743798<br>Gaze point X=%{x}<br>Gaze point Y=%{y}<extra></extra>\", \"legendgroup\": \"\", \"marker\": {\"color\": \"#636efa\", \"symbol\": \"circle\"}, \"mode\": \"markers\", \"name\": \"\", \"orientation\": \"v\", \"showlegend\": false, \"x\": [1112.0], \"xaxis\": \"x\", \"y\": [393.0], \"yaxis\": \"y\", \"type\": \"scatter\"}], \"name\": \"117743798\"}, {\"data\": [{\"hovertemplate\": \"Recording timestamp=117752078<br>Gaze point X=%{x}<br>Gaze point Y=%{y}<extra></extra>\", \"legendgroup\": \"\", \"marker\": {\"color\": \"#636efa\", \"symbol\": \"circle\"}, \"mode\": \"markers\", \"name\": \"\", \"orientation\": \"v\", \"showlegend\": false, \"x\": [1129.0], \"xaxis\": \"x\", \"y\": [364.0], \"yaxis\": \"y\", \"type\": \"scatter\"}], \"name\": \"117752078\"}, {\"data\": [{\"hovertemplate\": \"Recording timestamp=117760407<br>Gaze point X=%{x}<br>Gaze point Y=%{y}<extra></extra>\", \"legendgroup\": \"\", \"marker\": {\"color\": \"#636efa\", \"symbol\": \"circle\"}, \"mode\": \"markers\", \"name\": \"\", \"orientation\": \"v\", \"showlegend\": false, \"x\": [1045.0], \"xaxis\": \"x\", \"y\": [256.0], \"yaxis\": \"y\", \"type\": \"scatter\"}], \"name\": \"117760407\"}, {\"data\": [{\"hovertemplate\": \"Recording timestamp=117768742<br>Gaze point X=%{x}<br>Gaze point Y=%{y}<extra></extra>\", \"legendgroup\": \"\", \"marker\": {\"color\": \"#636efa\", \"symbol\": \"circle\"}, \"mode\": \"markers\", \"name\": \"\", \"orientation\": \"v\", \"showlegend\": false, \"x\": [1058.0], \"xaxis\": \"x\", \"y\": [303.0], \"yaxis\": \"y\", \"type\": \"scatter\"}], \"name\": \"117768742\"}, {\"data\": [{\"hovertemplate\": \"Recording timestamp=117777132<br>Gaze point X=%{x}<br>Gaze point Y=%{y}<extra></extra>\", \"legendgroup\": \"\", \"marker\": {\"color\": \"#636efa\", \"symbol\": \"circle\"}, \"mode\": \"markers\", \"name\": \"\", \"orientation\": \"v\", \"showlegend\": false, \"x\": [1090.0], \"xaxis\": \"x\", \"y\": [379.0], \"yaxis\": \"y\", \"type\": \"scatter\"}], \"name\": \"117777132\"}, {\"data\": [{\"hovertemplate\": \"Recording timestamp=117785413<br>Gaze point X=%{x}<br>Gaze point Y=%{y}<extra></extra>\", \"legendgroup\": \"\", \"marker\": {\"color\": \"#636efa\", \"symbol\": \"circle\"}, \"mode\": \"markers\", \"name\": \"\", \"orientation\": \"v\", \"showlegend\": false, \"x\": [null], \"xaxis\": \"x\", \"y\": [null], \"yaxis\": \"y\", \"type\": \"scatter\"}], \"name\": \"117785413\"}, {\"data\": [{\"hovertemplate\": \"Recording timestamp=117793735<br>Gaze point X=%{x}<br>Gaze point Y=%{y}<extra></extra>\", \"legendgroup\": \"\", \"marker\": {\"color\": \"#636efa\", \"symbol\": \"circle\"}, \"mode\": \"markers\", \"name\": \"\", \"orientation\": \"v\", \"showlegend\": false, \"x\": [1060.0], \"xaxis\": \"x\", \"y\": [262.0], \"yaxis\": \"y\", \"type\": \"scatter\"}], \"name\": \"117793735\"}, {\"data\": [{\"hovertemplate\": \"Recording timestamp=117802075<br>Gaze point X=%{x}<br>Gaze point Y=%{y}<extra></extra>\", \"legendgroup\": \"\", \"marker\": {\"color\": \"#636efa\", \"symbol\": \"circle\"}, \"mode\": \"markers\", \"name\": \"\", \"orientation\": \"v\", \"showlegend\": false, \"x\": [1086.0], \"xaxis\": \"x\", \"y\": [298.0], \"yaxis\": \"y\", \"type\": \"scatter\"}], \"name\": \"117802075\"}, {\"data\": [{\"hovertemplate\": \"Recording timestamp=117810405<br>Gaze point X=%{x}<br>Gaze point Y=%{y}<extra></extra>\", \"legendgroup\": \"\", \"marker\": {\"color\": \"#636efa\", \"symbol\": \"circle\"}, \"mode\": \"markers\", \"name\": \"\", \"orientation\": \"v\", \"showlegend\": false, \"x\": [1085.0], \"xaxis\": \"x\", \"y\": [281.0], \"yaxis\": \"y\", \"type\": \"scatter\"}], \"name\": \"117810405\"}, {\"data\": [{\"hovertemplate\": \"Recording timestamp=117818733<br>Gaze point X=%{x}<br>Gaze point Y=%{y}<extra></extra>\", \"legendgroup\": \"\", \"marker\": {\"color\": \"#636efa\", \"symbol\": \"circle\"}, \"mode\": \"markers\", \"name\": \"\", \"orientation\": \"v\", \"showlegend\": false, \"x\": [1089.0], \"xaxis\": \"x\", \"y\": [260.0], \"yaxis\": \"y\", \"type\": \"scatter\"}], \"name\": \"117818733\"}, {\"data\": [{\"hovertemplate\": \"Recording timestamp=117827150<br>Gaze point X=%{x}<br>Gaze point Y=%{y}<extra></extra>\", \"legendgroup\": \"\", \"marker\": {\"color\": \"#636efa\", \"symbol\": \"circle\"}, \"mode\": \"markers\", \"name\": \"\", \"orientation\": \"v\", \"showlegend\": false, \"x\": [1116.0], \"xaxis\": \"x\", \"y\": [227.0], \"yaxis\": \"y\", \"type\": \"scatter\"}], \"name\": \"117827150\"}, {\"data\": [{\"hovertemplate\": \"Recording timestamp=117835398<br>Gaze point X=%{x}<br>Gaze point Y=%{y}<extra></extra>\", \"legendgroup\": \"\", \"marker\": {\"color\": \"#636efa\", \"symbol\": \"circle\"}, \"mode\": \"markers\", \"name\": \"\", \"orientation\": \"v\", \"showlegend\": false, \"x\": [1108.0], \"xaxis\": \"x\", \"y\": [266.0], \"yaxis\": \"y\", \"type\": \"scatter\"}], \"name\": \"117835398\"}, {\"data\": [{\"hovertemplate\": \"Recording timestamp=117843741<br>Gaze point X=%{x}<br>Gaze point Y=%{y}<extra></extra>\", \"legendgroup\": \"\", \"marker\": {\"color\": \"#636efa\", \"symbol\": \"circle\"}, \"mode\": \"markers\", \"name\": \"\", \"orientation\": \"v\", \"showlegend\": false, \"x\": [1070.0], \"xaxis\": \"x\", \"y\": [246.0], \"yaxis\": \"y\", \"type\": \"scatter\"}], \"name\": \"117843741\"}, {\"data\": [{\"hovertemplate\": \"Recording timestamp=117852067<br>Gaze point X=%{x}<br>Gaze point Y=%{y}<extra></extra>\", \"legendgroup\": \"\", \"marker\": {\"color\": \"#636efa\", \"symbol\": \"circle\"}, \"mode\": \"markers\", \"name\": \"\", \"orientation\": \"v\", \"showlegend\": false, \"x\": [1109.0], \"xaxis\": \"x\", \"y\": [236.0], \"yaxis\": \"y\", \"type\": \"scatter\"}], \"name\": \"117852067\"}, {\"data\": [{\"hovertemplate\": \"Recording timestamp=117860400<br>Gaze point X=%{x}<br>Gaze point Y=%{y}<extra></extra>\", \"legendgroup\": \"\", \"marker\": {\"color\": \"#636efa\", \"symbol\": \"circle\"}, \"mode\": \"markers\", \"name\": \"\", \"orientation\": \"v\", \"showlegend\": false, \"x\": [1069.0], \"xaxis\": \"x\", \"y\": [242.0], \"yaxis\": \"y\", \"type\": \"scatter\"}], \"name\": \"117860400\"}, {\"data\": [{\"hovertemplate\": \"Recording timestamp=117868730<br>Gaze point X=%{x}<br>Gaze point Y=%{y}<extra></extra>\", \"legendgroup\": \"\", \"marker\": {\"color\": \"#636efa\", \"symbol\": \"circle\"}, \"mode\": \"markers\", \"name\": \"\", \"orientation\": \"v\", \"showlegend\": false, \"x\": [1084.0], \"xaxis\": \"x\", \"y\": [315.0], \"yaxis\": \"y\", \"type\": \"scatter\"}], \"name\": \"117868730\"}, {\"data\": [{\"hovertemplate\": \"Recording timestamp=117877067<br>Gaze point X=%{x}<br>Gaze point Y=%{y}<extra></extra>\", \"legendgroup\": \"\", \"marker\": {\"color\": \"#636efa\", \"symbol\": \"circle\"}, \"mode\": \"markers\", \"name\": \"\", \"orientation\": \"v\", \"showlegend\": false, \"x\": [1070.0], \"xaxis\": \"x\", \"y\": [364.0], \"yaxis\": \"y\", \"type\": \"scatter\"}], \"name\": \"117877067\"}, {\"data\": [{\"hovertemplate\": \"Recording timestamp=117885400<br>Gaze point X=%{x}<br>Gaze point Y=%{y}<extra></extra>\", \"legendgroup\": \"\", \"marker\": {\"color\": \"#636efa\", \"symbol\": \"circle\"}, \"mode\": \"markers\", \"name\": \"\", \"orientation\": \"v\", \"showlegend\": false, \"x\": [1044.0], \"xaxis\": \"x\", \"y\": [346.0], \"yaxis\": \"y\", \"type\": \"scatter\"}], \"name\": \"117885400\"}, {\"data\": [{\"hovertemplate\": \"Recording timestamp=117893787<br>Gaze point X=%{x}<br>Gaze point Y=%{y}<extra></extra>\", \"legendgroup\": \"\", \"marker\": {\"color\": \"#636efa\", \"symbol\": \"circle\"}, \"mode\": \"markers\", \"name\": \"\", \"orientation\": \"v\", \"showlegend\": false, \"x\": [1050.0], \"xaxis\": \"x\", \"y\": [393.0], \"yaxis\": \"y\", \"type\": \"scatter\"}], \"name\": \"117893787\"}, {\"data\": [{\"hovertemplate\": \"Recording timestamp=117902066<br>Gaze point X=%{x}<br>Gaze point Y=%{y}<extra></extra>\", \"legendgroup\": \"\", \"marker\": {\"color\": \"#636efa\", \"symbol\": \"circle\"}, \"mode\": \"markers\", \"name\": \"\", \"orientation\": \"v\", \"showlegend\": false, \"x\": [null], \"xaxis\": \"x\", \"y\": [null], \"yaxis\": \"y\", \"type\": \"scatter\"}], \"name\": \"117902066\"}, {\"data\": [{\"hovertemplate\": \"Recording timestamp=117910443<br>Gaze point X=%{x}<br>Gaze point Y=%{y}<extra></extra>\", \"legendgroup\": \"\", \"marker\": {\"color\": \"#636efa\", \"symbol\": \"circle\"}, \"mode\": \"markers\", \"name\": \"\", \"orientation\": \"v\", \"showlegend\": false, \"x\": [1077.0], \"xaxis\": \"x\", \"y\": [353.0], \"yaxis\": \"y\", \"type\": \"scatter\"}], \"name\": \"117910443\"}, {\"data\": [{\"hovertemplate\": \"Recording timestamp=117918775<br>Gaze point X=%{x}<br>Gaze point Y=%{y}<extra></extra>\", \"legendgroup\": \"\", \"marker\": {\"color\": \"#636efa\", \"symbol\": \"circle\"}, \"mode\": \"markers\", \"name\": \"\", \"orientation\": \"v\", \"showlegend\": false, \"x\": [1085.0], \"xaxis\": \"x\", \"y\": [301.0], \"yaxis\": \"y\", \"type\": \"scatter\"}], \"name\": \"117918775\"}, {\"data\": [{\"hovertemplate\": \"Recording timestamp=117927074<br>Gaze point X=%{x}<br>Gaze point Y=%{y}<extra></extra>\", \"legendgroup\": \"\", \"marker\": {\"color\": \"#636efa\", \"symbol\": \"circle\"}, \"mode\": \"markers\", \"name\": \"\", \"orientation\": \"v\", \"showlegend\": false, \"x\": [null], \"xaxis\": \"x\", \"y\": [null], \"yaxis\": \"y\", \"type\": \"scatter\"}], \"name\": \"117927074\"}, {\"data\": [{\"hovertemplate\": \"Recording timestamp=117935410<br>Gaze point X=%{x}<br>Gaze point Y=%{y}<extra></extra>\", \"legendgroup\": \"\", \"marker\": {\"color\": \"#636efa\", \"symbol\": \"circle\"}, \"mode\": \"markers\", \"name\": \"\", \"orientation\": \"v\", \"showlegend\": false, \"x\": [1094.0], \"xaxis\": \"x\", \"y\": [245.0], \"yaxis\": \"y\", \"type\": \"scatter\"}], \"name\": \"117935410\"}, {\"data\": [{\"hovertemplate\": \"Recording timestamp=117943786<br>Gaze point X=%{x}<br>Gaze point Y=%{y}<extra></extra>\", \"legendgroup\": \"\", \"marker\": {\"color\": \"#636efa\", \"symbol\": \"circle\"}, \"mode\": \"markers\", \"name\": \"\", \"orientation\": \"v\", \"showlegend\": false, \"x\": [1096.0], \"xaxis\": \"x\", \"y\": [291.0], \"yaxis\": \"y\", \"type\": \"scatter\"}], \"name\": \"117943786\"}, {\"data\": [{\"hovertemplate\": \"Recording timestamp=117952059<br>Gaze point X=%{x}<br>Gaze point Y=%{y}<extra></extra>\", \"legendgroup\": \"\", \"marker\": {\"color\": \"#636efa\", \"symbol\": \"circle\"}, \"mode\": \"markers\", \"name\": \"\", \"orientation\": \"v\", \"showlegend\": false, \"x\": [null], \"xaxis\": \"x\", \"y\": [null], \"yaxis\": \"y\", \"type\": \"scatter\"}], \"name\": \"117952059\"}, {\"data\": [{\"hovertemplate\": \"Recording timestamp=117960449<br>Gaze point X=%{x}<br>Gaze point Y=%{y}<extra></extra>\", \"legendgroup\": \"\", \"marker\": {\"color\": \"#636efa\", \"symbol\": \"circle\"}, \"mode\": \"markers\", \"name\": \"\", \"orientation\": \"v\", \"showlegend\": false, \"x\": [1112.0], \"xaxis\": \"x\", \"y\": [286.0], \"yaxis\": \"y\", \"type\": \"scatter\"}], \"name\": \"117960449\"}, {\"data\": [{\"hovertemplate\": \"Recording timestamp=117968786<br>Gaze point X=%{x}<br>Gaze point Y=%{y}<extra></extra>\", \"legendgroup\": \"\", \"marker\": {\"color\": \"#636efa\", \"symbol\": \"circle\"}, \"mode\": \"markers\", \"name\": \"\", \"orientation\": \"v\", \"showlegend\": false, \"x\": [1126.0], \"xaxis\": \"x\", \"y\": [322.0], \"yaxis\": \"y\", \"type\": \"scatter\"}], \"name\": \"117968786\"}, {\"data\": [{\"hovertemplate\": \"Recording timestamp=117977066<br>Gaze point X=%{x}<br>Gaze point Y=%{y}<extra></extra>\", \"legendgroup\": \"\", \"marker\": {\"color\": \"#636efa\", \"symbol\": \"circle\"}, \"mode\": \"markers\", \"name\": \"\", \"orientation\": \"v\", \"showlegend\": false, \"x\": [null], \"xaxis\": \"x\", \"y\": [null], \"yaxis\": \"y\", \"type\": \"scatter\"}], \"name\": \"117977066\"}, {\"data\": [{\"hovertemplate\": \"Recording timestamp=117985390<br>Gaze point X=%{x}<br>Gaze point Y=%{y}<extra></extra>\", \"legendgroup\": \"\", \"marker\": {\"color\": \"#636efa\", \"symbol\": \"circle\"}, \"mode\": \"markers\", \"name\": \"\", \"orientation\": \"v\", \"showlegend\": false, \"x\": [1126.0], \"xaxis\": \"x\", \"y\": [372.0], \"yaxis\": \"y\", \"type\": \"scatter\"}], \"name\": \"117985390\"}, {\"data\": [{\"hovertemplate\": \"Recording timestamp=117993732<br>Gaze point X=%{x}<br>Gaze point Y=%{y}<extra></extra>\", \"legendgroup\": \"\", \"marker\": {\"color\": \"#636efa\", \"symbol\": \"circle\"}, \"mode\": \"markers\", \"name\": \"\", \"orientation\": \"v\", \"showlegend\": false, \"x\": [1100.0], \"xaxis\": \"x\", \"y\": [321.0], \"yaxis\": \"y\", \"type\": \"scatter\"}], \"name\": \"117993732\"}, {\"data\": [{\"hovertemplate\": \"Recording timestamp=118002056<br>Gaze point X=%{x}<br>Gaze point Y=%{y}<extra></extra>\", \"legendgroup\": \"\", \"marker\": {\"color\": \"#636efa\", \"symbol\": \"circle\"}, \"mode\": \"markers\", \"name\": \"\", \"orientation\": \"v\", \"showlegend\": false, \"x\": [null], \"xaxis\": \"x\", \"y\": [null], \"yaxis\": \"y\", \"type\": \"scatter\"}], \"name\": \"118002056\"}, {\"data\": [{\"hovertemplate\": \"Recording timestamp=118010474<br>Gaze point X=%{x}<br>Gaze point Y=%{y}<extra></extra>\", \"legendgroup\": \"\", \"marker\": {\"color\": \"#636efa\", \"symbol\": \"circle\"}, \"mode\": \"markers\", \"name\": \"\", \"orientation\": \"v\", \"showlegend\": false, \"x\": [1080.0], \"xaxis\": \"x\", \"y\": [304.0], \"yaxis\": \"y\", \"type\": \"scatter\"}], \"name\": \"118010474\"}, {\"data\": [{\"hovertemplate\": \"Recording timestamp=118018734<br>Gaze point X=%{x}<br>Gaze point Y=%{y}<extra></extra>\", \"legendgroup\": \"\", \"marker\": {\"color\": \"#636efa\", \"symbol\": \"circle\"}, \"mode\": \"markers\", \"name\": \"\", \"orientation\": \"v\", \"showlegend\": false, \"x\": [1091.0], \"xaxis\": \"x\", \"y\": [331.0], \"yaxis\": \"y\", \"type\": \"scatter\"}], \"name\": \"118018734\"}, {\"data\": [{\"hovertemplate\": \"Recording timestamp=118027115<br>Gaze point X=%{x}<br>Gaze point Y=%{y}<extra></extra>\", \"legendgroup\": \"\", \"marker\": {\"color\": \"#636efa\", \"symbol\": \"circle\"}, \"mode\": \"markers\", \"name\": \"\", \"orientation\": \"v\", \"showlegend\": false, \"x\": [null], \"xaxis\": \"x\", \"y\": [null], \"yaxis\": \"y\", \"type\": \"scatter\"}], \"name\": \"118027115\"}, {\"data\": [{\"hovertemplate\": \"Recording timestamp=118035385<br>Gaze point X=%{x}<br>Gaze point Y=%{y}<extra></extra>\", \"legendgroup\": \"\", \"marker\": {\"color\": \"#636efa\", \"symbol\": \"circle\"}, \"mode\": \"markers\", \"name\": \"\", \"orientation\": \"v\", \"showlegend\": false, \"x\": [1037.0], \"xaxis\": \"x\", \"y\": [339.0], \"yaxis\": \"y\", \"type\": \"scatter\"}], \"name\": \"118035385\"}, {\"data\": [{\"hovertemplate\": \"Recording timestamp=118043718<br>Gaze point X=%{x}<br>Gaze point Y=%{y}<extra></extra>\", \"legendgroup\": \"\", \"marker\": {\"color\": \"#636efa\", \"symbol\": \"circle\"}, \"mode\": \"markers\", \"name\": \"\", \"orientation\": \"v\", \"showlegend\": false, \"x\": [1056.0], \"xaxis\": \"x\", \"y\": [375.0], \"yaxis\": \"y\", \"type\": \"scatter\"}], \"name\": \"118043718\"}, {\"data\": [{\"hovertemplate\": \"Recording timestamp=118052052<br>Gaze point X=%{x}<br>Gaze point Y=%{y}<extra></extra>\", \"legendgroup\": \"\", \"marker\": {\"color\": \"#636efa\", \"symbol\": \"circle\"}, \"mode\": \"markers\", \"name\": \"\", \"orientation\": \"v\", \"showlegend\": false, \"x\": [1025.0], \"xaxis\": \"x\", \"y\": [355.0], \"yaxis\": \"y\", \"type\": \"scatter\"}], \"name\": \"118052052\"}, {\"data\": [{\"hovertemplate\": \"Recording timestamp=118060384<br>Gaze point X=%{x}<br>Gaze point Y=%{y}<extra></extra>\", \"legendgroup\": \"\", \"marker\": {\"color\": \"#636efa\", \"symbol\": \"circle\"}, \"mode\": \"markers\", \"name\": \"\", \"orientation\": \"v\", \"showlegend\": false, \"x\": [null], \"xaxis\": \"x\", \"y\": [null], \"yaxis\": \"y\", \"type\": \"scatter\"}], \"name\": \"118060384\"}, {\"data\": [{\"hovertemplate\": \"Recording timestamp=118068715<br>Gaze point X=%{x}<br>Gaze point Y=%{y}<extra></extra>\", \"legendgroup\": \"\", \"marker\": {\"color\": \"#636efa\", \"symbol\": \"circle\"}, \"mode\": \"markers\", \"name\": \"\", \"orientation\": \"v\", \"showlegend\": false, \"x\": [1049.0], \"xaxis\": \"x\", \"y\": [277.0], \"yaxis\": \"y\", \"type\": \"scatter\"}], \"name\": \"118068715\"}, {\"data\": [{\"hovertemplate\": \"Recording timestamp=118077049<br>Gaze point X=%{x}<br>Gaze point Y=%{y}<extra></extra>\", \"legendgroup\": \"\", \"marker\": {\"color\": \"#636efa\", \"symbol\": \"circle\"}, \"mode\": \"markers\", \"name\": \"\", \"orientation\": \"v\", \"showlegend\": false, \"x\": [979.0], \"xaxis\": \"x\", \"y\": [176.0], \"yaxis\": \"y\", \"type\": \"scatter\"}], \"name\": \"118077049\"}, {\"data\": [{\"hovertemplate\": \"Recording timestamp=118085381<br>Gaze point X=%{x}<br>Gaze point Y=%{y}<extra></extra>\", \"legendgroup\": \"\", \"marker\": {\"color\": \"#636efa\", \"symbol\": \"circle\"}, \"mode\": \"markers\", \"name\": \"\", \"orientation\": \"v\", \"showlegend\": false, \"x\": [1069.0], \"xaxis\": \"x\", \"y\": [317.0], \"yaxis\": \"y\", \"type\": \"scatter\"}], \"name\": \"118085381\"}, {\"data\": [{\"hovertemplate\": \"Recording timestamp=118093714<br>Gaze point X=%{x}<br>Gaze point Y=%{y}<extra></extra>\", \"legendgroup\": \"\", \"marker\": {\"color\": \"#636efa\", \"symbol\": \"circle\"}, \"mode\": \"markers\", \"name\": \"\", \"orientation\": \"v\", \"showlegend\": false, \"x\": [1031.0], \"xaxis\": \"x\", \"y\": [267.0], \"yaxis\": \"y\", \"type\": \"scatter\"}], \"name\": \"118093714\"}, {\"data\": [{\"hovertemplate\": \"Recording timestamp=118102049<br>Gaze point X=%{x}<br>Gaze point Y=%{y}<extra></extra>\", \"legendgroup\": \"\", \"marker\": {\"color\": \"#636efa\", \"symbol\": \"circle\"}, \"mode\": \"markers\", \"name\": \"\", \"orientation\": \"v\", \"showlegend\": false, \"x\": [1059.0], \"xaxis\": \"x\", \"y\": [-56.0], \"yaxis\": \"y\", \"type\": \"scatter\"}], \"name\": \"118102049\"}, {\"data\": [{\"hovertemplate\": \"Recording timestamp=118110379<br>Gaze point X=%{x}<br>Gaze point Y=%{y}<extra></extra>\", \"legendgroup\": \"\", \"marker\": {\"color\": \"#636efa\", \"symbol\": \"circle\"}, \"mode\": \"markers\", \"name\": \"\", \"orientation\": \"v\", \"showlegend\": false, \"x\": [1033.0], \"xaxis\": \"x\", \"y\": [380.0], \"yaxis\": \"y\", \"type\": \"scatter\"}], \"name\": \"118110379\"}, {\"data\": [{\"hovertemplate\": \"Recording timestamp=118118711<br>Gaze point X=%{x}<br>Gaze point Y=%{y}<extra></extra>\", \"legendgroup\": \"\", \"marker\": {\"color\": \"#636efa\", \"symbol\": \"circle\"}, \"mode\": \"markers\", \"name\": \"\", \"orientation\": \"v\", \"showlegend\": false, \"x\": [1037.0], \"xaxis\": \"x\", \"y\": [175.0], \"yaxis\": \"y\", \"type\": \"scatter\"}], \"name\": \"118118711\"}, {\"data\": [{\"hovertemplate\": \"Recording timestamp=118127048<br>Gaze point X=%{x}<br>Gaze point Y=%{y}<extra></extra>\", \"legendgroup\": \"\", \"marker\": {\"color\": \"#636efa\", \"symbol\": \"circle\"}, \"mode\": \"markers\", \"name\": \"\", \"orientation\": \"v\", \"showlegend\": false, \"x\": [1092.0], \"xaxis\": \"x\", \"y\": [357.0], \"yaxis\": \"y\", \"type\": \"scatter\"}], \"name\": \"118127048\"}, {\"data\": [{\"hovertemplate\": \"Recording timestamp=118135436<br>Gaze point X=%{x}<br>Gaze point Y=%{y}<extra></extra>\", \"legendgroup\": \"\", \"marker\": {\"color\": \"#636efa\", \"symbol\": \"circle\"}, \"mode\": \"markers\", \"name\": \"\", \"orientation\": \"v\", \"showlegend\": false, \"x\": [1156.0], \"xaxis\": \"x\", \"y\": [331.0], \"yaxis\": \"y\", \"type\": \"scatter\"}], \"name\": \"118135436\"}, {\"data\": [{\"hovertemplate\": \"Recording timestamp=118143765<br>Gaze point X=%{x}<br>Gaze point Y=%{y}<extra></extra>\", \"legendgroup\": \"\", \"marker\": {\"color\": \"#636efa\", \"symbol\": \"circle\"}, \"mode\": \"markers\", \"name\": \"\", \"orientation\": \"v\", \"showlegend\": false, \"x\": [1061.0], \"xaxis\": \"x\", \"y\": [416.0], \"yaxis\": \"y\", \"type\": \"scatter\"}], \"name\": \"118143765\"}, {\"data\": [{\"hovertemplate\": \"Recording timestamp=118152099<br>Gaze point X=%{x}<br>Gaze point Y=%{y}<extra></extra>\", \"legendgroup\": \"\", \"marker\": {\"color\": \"#636efa\", \"symbol\": \"circle\"}, \"mode\": \"markers\", \"name\": \"\", \"orientation\": \"v\", \"showlegend\": false, \"x\": [null], \"xaxis\": \"x\", \"y\": [null], \"yaxis\": \"y\", \"type\": \"scatter\"}], \"name\": \"118152099\"}, {\"data\": [{\"hovertemplate\": \"Recording timestamp=118160451<br>Gaze point X=%{x}<br>Gaze point Y=%{y}<extra></extra>\", \"legendgroup\": \"\", \"marker\": {\"color\": \"#636efa\", \"symbol\": \"circle\"}, \"mode\": \"markers\", \"name\": \"\", \"orientation\": \"v\", \"showlegend\": false, \"x\": [null], \"xaxis\": \"x\", \"y\": [null], \"yaxis\": \"y\", \"type\": \"scatter\"}], \"name\": \"118160451\"}, {\"data\": [{\"hovertemplate\": \"Recording timestamp=118168710<br>Gaze point X=%{x}<br>Gaze point Y=%{y}<extra></extra>\", \"legendgroup\": \"\", \"marker\": {\"color\": \"#636efa\", \"symbol\": \"circle\"}, \"mode\": \"markers\", \"name\": \"\", \"orientation\": \"v\", \"showlegend\": false, \"x\": [1083.0], \"xaxis\": \"x\", \"y\": [392.0], \"yaxis\": \"y\", \"type\": \"scatter\"}], \"name\": \"118168710\"}, {\"data\": [{\"hovertemplate\": \"Recording timestamp=118177108<br>Gaze point X=%{x}<br>Gaze point Y=%{y}<extra></extra>\", \"legendgroup\": \"\", \"marker\": {\"color\": \"#636efa\", \"symbol\": \"circle\"}, \"mode\": \"markers\", \"name\": \"\", \"orientation\": \"v\", \"showlegend\": false, \"x\": [null], \"xaxis\": \"x\", \"y\": [null], \"yaxis\": \"y\", \"type\": \"scatter\"}], \"name\": \"118177108\"}, {\"data\": [{\"hovertemplate\": \"Recording timestamp=118185427<br>Gaze point X=%{x}<br>Gaze point Y=%{y}<extra></extra>\", \"legendgroup\": \"\", \"marker\": {\"color\": \"#636efa\", \"symbol\": \"circle\"}, \"mode\": \"markers\", \"name\": \"\", \"orientation\": \"v\", \"showlegend\": false, \"x\": [null], \"xaxis\": \"x\", \"y\": [null], \"yaxis\": \"y\", \"type\": \"scatter\"}], \"name\": \"118185427\"}, {\"data\": [{\"hovertemplate\": \"Recording timestamp=118193759<br>Gaze point X=%{x}<br>Gaze point Y=%{y}<extra></extra>\", \"legendgroup\": \"\", \"marker\": {\"color\": \"#636efa\", \"symbol\": \"circle\"}, \"mode\": \"markers\", \"name\": \"\", \"orientation\": \"v\", \"showlegend\": false, \"x\": [1082.0], \"xaxis\": \"x\", \"y\": [367.0], \"yaxis\": \"y\", \"type\": \"scatter\"}], \"name\": \"118193759\"}, {\"data\": [{\"hovertemplate\": \"Recording timestamp=118202043<br>Gaze point X=%{x}<br>Gaze point Y=%{y}<extra></extra>\", \"legendgroup\": \"\", \"marker\": {\"color\": \"#636efa\", \"symbol\": \"circle\"}, \"mode\": \"markers\", \"name\": \"\", \"orientation\": \"v\", \"showlegend\": false, \"x\": [1126.0], \"xaxis\": \"x\", \"y\": [364.0], \"yaxis\": \"y\", \"type\": \"scatter\"}], \"name\": \"118202043\"}, {\"data\": [{\"hovertemplate\": \"Recording timestamp=118210429<br>Gaze point X=%{x}<br>Gaze point Y=%{y}<extra></extra>\", \"legendgroup\": \"\", \"marker\": {\"color\": \"#636efa\", \"symbol\": \"circle\"}, \"mode\": \"markers\", \"name\": \"\", \"orientation\": \"v\", \"showlegend\": false, \"x\": [1074.0], \"xaxis\": \"x\", \"y\": [382.0], \"yaxis\": \"y\", \"type\": \"scatter\"}], \"name\": \"118210429\"}, {\"data\": [{\"hovertemplate\": \"Recording timestamp=118218702<br>Gaze point X=%{x}<br>Gaze point Y=%{y}<extra></extra>\", \"legendgroup\": \"\", \"marker\": {\"color\": \"#636efa\", \"symbol\": \"circle\"}, \"mode\": \"markers\", \"name\": \"\", \"orientation\": \"v\", \"showlegend\": false, \"x\": [1097.0], \"xaxis\": \"x\", \"y\": [395.0], \"yaxis\": \"y\", \"type\": \"scatter\"}], \"name\": \"118218702\"}, {\"data\": [{\"hovertemplate\": \"Recording timestamp=118227038<br>Gaze point X=%{x}<br>Gaze point Y=%{y}<extra></extra>\", \"legendgroup\": \"\", \"marker\": {\"color\": \"#636efa\", \"symbol\": \"circle\"}, \"mode\": \"markers\", \"name\": \"\", \"orientation\": \"v\", \"showlegend\": false, \"x\": [null], \"xaxis\": \"x\", \"y\": [null], \"yaxis\": \"y\", \"type\": \"scatter\"}], \"name\": \"118227038\"}, {\"data\": [{\"hovertemplate\": \"Recording timestamp=118235378<br>Gaze point X=%{x}<br>Gaze point Y=%{y}<extra></extra>\", \"legendgroup\": \"\", \"marker\": {\"color\": \"#636efa\", \"symbol\": \"circle\"}, \"mode\": \"markers\", \"name\": \"\", \"orientation\": \"v\", \"showlegend\": false, \"x\": [1048.0], \"xaxis\": \"x\", \"y\": [375.0], \"yaxis\": \"y\", \"type\": \"scatter\"}], \"name\": \"118235378\"}, {\"data\": [{\"hovertemplate\": \"Recording timestamp=118243755<br>Gaze point X=%{x}<br>Gaze point Y=%{y}<extra></extra>\", \"legendgroup\": \"\", \"marker\": {\"color\": \"#636efa\", \"symbol\": \"circle\"}, \"mode\": \"markers\", \"name\": \"\", \"orientation\": \"v\", \"showlegend\": false, \"x\": [1077.0], \"xaxis\": \"x\", \"y\": [373.0], \"yaxis\": \"y\", \"type\": \"scatter\"}], \"name\": \"118243755\"}, {\"data\": [{\"hovertemplate\": \"Recording timestamp=118252090<br>Gaze point X=%{x}<br>Gaze point Y=%{y}<extra></extra>\", \"legendgroup\": \"\", \"marker\": {\"color\": \"#636efa\", \"symbol\": \"circle\"}, \"mode\": \"markers\", \"name\": \"\", \"orientation\": \"v\", \"showlegend\": false, \"x\": [null], \"xaxis\": \"x\", \"y\": [null], \"yaxis\": \"y\", \"type\": \"scatter\"}], \"name\": \"118252090\"}, {\"data\": [{\"hovertemplate\": \"Recording timestamp=118260427<br>Gaze point X=%{x}<br>Gaze point Y=%{y}<extra></extra>\", \"legendgroup\": \"\", \"marker\": {\"color\": \"#636efa\", \"symbol\": \"circle\"}, \"mode\": \"markers\", \"name\": \"\", \"orientation\": \"v\", \"showlegend\": false, \"x\": [1016.0], \"xaxis\": \"x\", \"y\": [389.0], \"yaxis\": \"y\", \"type\": \"scatter\"}], \"name\": \"118260427\"}, {\"data\": [{\"hovertemplate\": \"Recording timestamp=118268755<br>Gaze point X=%{x}<br>Gaze point Y=%{y}<extra></extra>\", \"legendgroup\": \"\", \"marker\": {\"color\": \"#636efa\", \"symbol\": \"circle\"}, \"mode\": \"markers\", \"name\": \"\", \"orientation\": \"v\", \"showlegend\": false, \"x\": [1083.0], \"xaxis\": \"x\", \"y\": [381.0], \"yaxis\": \"y\", \"type\": \"scatter\"}], \"name\": \"118268755\"}, {\"data\": [{\"hovertemplate\": \"Recording timestamp=118277105<br>Gaze point X=%{x}<br>Gaze point Y=%{y}<extra></extra>\", \"legendgroup\": \"\", \"marker\": {\"color\": \"#636efa\", \"symbol\": \"circle\"}, \"mode\": \"markers\", \"name\": \"\", \"orientation\": \"v\", \"showlegend\": false, \"x\": [null], \"xaxis\": \"x\", \"y\": [null], \"yaxis\": \"y\", \"type\": \"scatter\"}], \"name\": \"118277105\"}, {\"data\": [{\"hovertemplate\": \"Recording timestamp=118285420<br>Gaze point X=%{x}<br>Gaze point Y=%{y}<extra></extra>\", \"legendgroup\": \"\", \"marker\": {\"color\": \"#636efa\", \"symbol\": \"circle\"}, \"mode\": \"markers\", \"name\": \"\", \"orientation\": \"v\", \"showlegend\": false, \"x\": [1146.0], \"xaxis\": \"x\", \"y\": [319.0], \"yaxis\": \"y\", \"type\": \"scatter\"}], \"name\": \"118285420\"}, {\"data\": [{\"hovertemplate\": \"Recording timestamp=118293756<br>Gaze point X=%{x}<br>Gaze point Y=%{y}<extra></extra>\", \"legendgroup\": \"\", \"marker\": {\"color\": \"#636efa\", \"symbol\": \"circle\"}, \"mode\": \"markers\", \"name\": \"\", \"orientation\": \"v\", \"showlegend\": false, \"x\": [1137.0], \"xaxis\": \"x\", \"y\": [320.0], \"yaxis\": \"y\", \"type\": \"scatter\"}], \"name\": \"118293756\"}, {\"data\": [{\"hovertemplate\": \"Recording timestamp=118302031<br>Gaze point X=%{x}<br>Gaze point Y=%{y}<extra></extra>\", \"legendgroup\": \"\", \"marker\": {\"color\": \"#636efa\", \"symbol\": \"circle\"}, \"mode\": \"markers\", \"name\": \"\", \"orientation\": \"v\", \"showlegend\": false, \"x\": [1144.0], \"xaxis\": \"x\", \"y\": [337.0], \"yaxis\": \"y\", \"type\": \"scatter\"}], \"name\": \"118302031\"}, {\"data\": [{\"hovertemplate\": \"Recording timestamp=118310418<br>Gaze point X=%{x}<br>Gaze point Y=%{y}<extra></extra>\", \"legendgroup\": \"\", \"marker\": {\"color\": \"#636efa\", \"symbol\": \"circle\"}, \"mode\": \"markers\", \"name\": \"\", \"orientation\": \"v\", \"showlegend\": false, \"x\": [null], \"xaxis\": \"x\", \"y\": [null], \"yaxis\": \"y\", \"type\": \"scatter\"}], \"name\": \"118310418\"}, {\"data\": [{\"hovertemplate\": \"Recording timestamp=118318755<br>Gaze point X=%{x}<br>Gaze point Y=%{y}<extra></extra>\", \"legendgroup\": \"\", \"marker\": {\"color\": \"#636efa\", \"symbol\": \"circle\"}, \"mode\": \"markers\", \"name\": \"\", \"orientation\": \"v\", \"showlegend\": false, \"x\": [1120.0], \"xaxis\": \"x\", \"y\": [360.0], \"yaxis\": \"y\", \"type\": \"scatter\"}], \"name\": \"118318755\"}, {\"data\": [{\"hovertemplate\": \"Recording timestamp=118327067<br>Gaze point X=%{x}<br>Gaze point Y=%{y}<extra></extra>\", \"legendgroup\": \"\", \"marker\": {\"color\": \"#636efa\", \"symbol\": \"circle\"}, \"mode\": \"markers\", \"name\": \"\", \"orientation\": \"v\", \"showlegend\": false, \"x\": [null], \"xaxis\": \"x\", \"y\": [null], \"yaxis\": \"y\", \"type\": \"scatter\"}], \"name\": \"118327067\"}, {\"data\": [{\"hovertemplate\": \"Recording timestamp=118335360<br>Gaze point X=%{x}<br>Gaze point Y=%{y}<extra></extra>\", \"legendgroup\": \"\", \"marker\": {\"color\": \"#636efa\", \"symbol\": \"circle\"}, \"mode\": \"markers\", \"name\": \"\", \"orientation\": \"v\", \"showlegend\": false, \"x\": [1113.0], \"xaxis\": \"x\", \"y\": [359.0], \"yaxis\": \"y\", \"type\": \"scatter\"}], \"name\": \"118335360\"}, {\"data\": [{\"hovertemplate\": \"Recording timestamp=118343749<br>Gaze point X=%{x}<br>Gaze point Y=%{y}<extra></extra>\", \"legendgroup\": \"\", \"marker\": {\"color\": \"#636efa\", \"symbol\": \"circle\"}, \"mode\": \"markers\", \"name\": \"\", \"orientation\": \"v\", \"showlegend\": false, \"x\": [1115.0], \"xaxis\": \"x\", \"y\": [358.0], \"yaxis\": \"y\", \"type\": \"scatter\"}], \"name\": \"118343749\"}, {\"data\": [{\"hovertemplate\": \"Recording timestamp=118352089<br>Gaze point X=%{x}<br>Gaze point Y=%{y}<extra></extra>\", \"legendgroup\": \"\", \"marker\": {\"color\": \"#636efa\", \"symbol\": \"circle\"}, \"mode\": \"markers\", \"name\": \"\", \"orientation\": \"v\", \"showlegend\": false, \"x\": [1079.0], \"xaxis\": \"x\", \"y\": [347.0], \"yaxis\": \"y\", \"type\": \"scatter\"}], \"name\": \"118352089\"}, {\"data\": [{\"hovertemplate\": \"Recording timestamp=118360437<br>Gaze point X=%{x}<br>Gaze point Y=%{y}<extra></extra>\", \"legendgroup\": \"\", \"marker\": {\"color\": \"#636efa\", \"symbol\": \"circle\"}, \"mode\": \"markers\", \"name\": \"\", \"orientation\": \"v\", \"showlegend\": false, \"x\": [1102.0], \"xaxis\": \"x\", \"y\": [353.0], \"yaxis\": \"y\", \"type\": \"scatter\"}], \"name\": \"118360437\"}, {\"data\": [{\"hovertemplate\": \"Recording timestamp=118368692<br>Gaze point X=%{x}<br>Gaze point Y=%{y}<extra></extra>\", \"legendgroup\": \"\", \"marker\": {\"color\": \"#636efa\", \"symbol\": \"circle\"}, \"mode\": \"markers\", \"name\": \"\", \"orientation\": \"v\", \"showlegend\": false, \"x\": [1101.0], \"xaxis\": \"x\", \"y\": [387.0], \"yaxis\": \"y\", \"type\": \"scatter\"}], \"name\": \"118368692\"}, {\"data\": [{\"hovertemplate\": \"Recording timestamp=118377030<br>Gaze point X=%{x}<br>Gaze point Y=%{y}<extra></extra>\", \"legendgroup\": \"\", \"marker\": {\"color\": \"#636efa\", \"symbol\": \"circle\"}, \"mode\": \"markers\", \"name\": \"\", \"orientation\": \"v\", \"showlegend\": false, \"x\": [null], \"xaxis\": \"x\", \"y\": [null], \"yaxis\": \"y\", \"type\": \"scatter\"}], \"name\": \"118377030\"}, {\"data\": [{\"hovertemplate\": \"Recording timestamp=118385366<br>Gaze point X=%{x}<br>Gaze point Y=%{y}<extra></extra>\", \"legendgroup\": \"\", \"marker\": {\"color\": \"#636efa\", \"symbol\": \"circle\"}, \"mode\": \"markers\", \"name\": \"\", \"orientation\": \"v\", \"showlegend\": false, \"x\": [null], \"xaxis\": \"x\", \"y\": [null], \"yaxis\": \"y\", \"type\": \"scatter\"}], \"name\": \"118385366\"}, {\"data\": [{\"hovertemplate\": \"Recording timestamp=118393690<br>Gaze point X=%{x}<br>Gaze point Y=%{y}<extra></extra>\", \"legendgroup\": \"\", \"marker\": {\"color\": \"#636efa\", \"symbol\": \"circle\"}, \"mode\": \"markers\", \"name\": \"\", \"orientation\": \"v\", \"showlegend\": false, \"x\": [1119.0], \"xaxis\": \"x\", \"y\": [356.0], \"yaxis\": \"y\", \"type\": \"scatter\"}], \"name\": \"118393690\"}, {\"data\": [{\"hovertemplate\": \"Recording timestamp=118402108<br>Gaze point X=%{x}<br>Gaze point Y=%{y}<extra></extra>\", \"legendgroup\": \"\", \"marker\": {\"color\": \"#636efa\", \"symbol\": \"circle\"}, \"mode\": \"markers\", \"name\": \"\", \"orientation\": \"v\", \"showlegend\": false, \"x\": [1104.0], \"xaxis\": \"x\", \"y\": [359.0], \"yaxis\": \"y\", \"type\": \"scatter\"}], \"name\": \"118402108\"}, {\"data\": [{\"hovertemplate\": \"Recording timestamp=118410354<br>Gaze point X=%{x}<br>Gaze point Y=%{y}<extra></extra>\", \"legendgroup\": \"\", \"marker\": {\"color\": \"#636efa\", \"symbol\": \"circle\"}, \"mode\": \"markers\", \"name\": \"\", \"orientation\": \"v\", \"showlegend\": false, \"x\": [null], \"xaxis\": \"x\", \"y\": [null], \"yaxis\": \"y\", \"type\": \"scatter\"}], \"name\": \"118410354\"}, {\"data\": [{\"hovertemplate\": \"Recording timestamp=118418746<br>Gaze point X=%{x}<br>Gaze point Y=%{y}<extra></extra>\", \"legendgroup\": \"\", \"marker\": {\"color\": \"#636efa\", \"symbol\": \"circle\"}, \"mode\": \"markers\", \"name\": \"\", \"orientation\": \"v\", \"showlegend\": false, \"x\": [1086.0], \"xaxis\": \"x\", \"y\": [337.0], \"yaxis\": \"y\", \"type\": \"scatter\"}], \"name\": \"118418746\"}]);\n",
       "                        }).then(function(){\n",
       "                            \n",
       "var gd = document.getElementById('d4dfa47b-51c3-460b-8c91-c96ce2e6b34c');\n",
       "var x = new MutationObserver(function (mutations, observer) {{\n",
       "        var display = window.getComputedStyle(gd).display;\n",
       "        if (!display || display === 'none') {{\n",
       "            console.log([gd, 'removed!']);\n",
       "            Plotly.purge(gd);\n",
       "            observer.disconnect();\n",
       "        }}\n",
       "}});\n",
       "\n",
       "// Listen for the removal of the full notebook cells\n",
       "var notebookContainer = gd.closest('#notebook-container');\n",
       "if (notebookContainer) {{\n",
       "    x.observe(notebookContainer, {childList: true});\n",
       "}}\n",
       "\n",
       "// Listen for the clearing of the current output cell\n",
       "var outputEl = gd.closest('.output');\n",
       "if (outputEl) {{\n",
       "    x.observe(outputEl, {childList: true});\n",
       "}}\n",
       "\n",
       "                        })\n",
       "                };\n",
       "                });\n",
       "            </script>\n",
       "        </div>"
      ]
     },
     "metadata": {},
     "output_type": "display_data"
    }
   ],
   "source": [
    "fig2 = px.scatter(\n",
    "    subset,\n",
    "    x='Gaze point X',\n",
    "    y='Gaze point Y',\n",
    "    animation_frame='Recording timestamp',\n",
    "    range_x=[800, image2.width + 800],\n",
    "    range_y=[0, image2.height]\n",
    ")\n",
    "\n",
    "fig2['layout']['updatemenus'] = [dict(type='buttons', buttons=[\n",
    "            {\n",
    "                'label':'Play', \n",
    "                'method':'animate', \n",
    "                'args':[None, {'frame': {'duration': 0.48, 'redraw': False}, 'transition': {'duration': 1}}]\n",
    "            },\n",
    "            {\n",
    "                'label': 'Pause',\n",
    "                'args': [[None], {'frame': {'duration': 0, 'redraw': False},\n",
    "                                 'mode': 'immediate',\n",
    "                                 'transition': {'duration': 0}}],\n",
    "                'method': 'animate'\n",
    "            }\n",
    "])]\n",
    "fig2.show()"
   ]
  },
  {
   "cell_type": "code",
   "execution_count": null,
   "metadata": {},
   "outputs": [],
   "source": []
  }
 ],
 "metadata": {
  "kernelspec": {
   "display_name": "Python 3",
   "language": "python",
   "name": "python3"
  },
  "language_info": {
   "codemirror_mode": {
    "name": "ipython",
    "version": 3
   },
   "file_extension": ".py",
   "mimetype": "text/x-python",
   "name": "python",
   "nbconvert_exporter": "python",
   "pygments_lexer": "ipython3",
   "version": "3.7.9"
  }
 },
 "nbformat": 4,
 "nbformat_minor": 4
}
